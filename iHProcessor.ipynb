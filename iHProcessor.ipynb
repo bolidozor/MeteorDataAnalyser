{
 "metadata": {
  "name": "HProcessor"
 },
 "nbformat": 3,
 "nbformat_minor": 0,
 "worksheets": [
  {
   "cells": [
    {
     "cell_type": "markdown",
     "metadata": {},
     "source": "Recent observations histogram processer\n=======================================\nThis is an online tool that enables you to see a frequency histogram for observations made in the past (by default) six hours, set to process observations from the \u00dapice observatory."
    },
    {
     "cell_type": "code",
     "collapsed": false,
     "input": "from HTMLParser import HTMLParser\nfrom urllib import urlopen\nimport pandas as pd\nimport urllib\nimport matplotlib.pyplot as plt\nimport HProcessor\n%pylab inline",
     "language": "python",
     "metadata": {},
     "outputs": [
      {
       "ename": "SyntaxError",
       "evalue": "invalid syntax (HProcessor.py, line 18)",
       "output_type": "pyerr",
       "traceback": [
        "\u001b[0;36m  File \u001b[0;32m\"HProcessor.py\"\u001b[0;36m, line \u001b[0;32m18\u001b[0m\n\u001b[0;31m    %pylab inline\u001b[0m\n\u001b[0m    ^\u001b[0m\n\u001b[0;31mSyntaxError\u001b[0m\u001b[0;31m:\u001b[0m invalid syntax\n"
       ]
      }
     ],
     "prompt_number": 3
    },
    {
     "cell_type": "markdown",
     "metadata": {},
     "source": "Histogram\n---------"
    },
    {
     "cell_type": "markdown",
     "metadata": {},
     "source": "Defining processing function:"
    },
    {
     "cell_type": "code",
     "collapsed": false,
     "input": "def process_histogram(url_meteors, x):\n    plt.hist(get_values(url_meteors, x), bins=100)\n    plt.title(\"Histogram for observations in the past six hours\") #change title if necessary\n    plt.xlabel(\"Frequency (Hz)\")\n    plt.ylabel(\"Count\")\n    plt.show()",
     "language": "python",
     "metadata": {},
     "outputs": [],
     "prompt_number": 4
    },
    {
     "cell_type": "markdown",
     "metadata": {},
     "source": "Viewing histogram:"
    },
    {
     "cell_type": "code",
     "collapsed": false,
     "input": "x = HProcessor.process_histogram(\"http://space.astro.cz/bolidozor/OBSUPICE/OBSUPICE-R1/data/\", 6)\n",
     "language": "python",
     "metadata": {},
     "outputs": [
      {
       "ename": "NameError",
       "evalue": "name 'HProcessor' is not defined",
       "output_type": "pyerr",
       "traceback": [
        "\u001b[0;31m---------------------------------------------------------------------------\u001b[0m\n\u001b[0;31mNameError\u001b[0m                                 Traceback (most recent call last)",
        "\u001b[0;32m<ipython-input-5-ef52d0c1db06>\u001b[0m in \u001b[0;36m<module>\u001b[0;34m()\u001b[0m\n\u001b[0;32m----> 1\u001b[0;31m \u001b[0mx\u001b[0m \u001b[0;34m=\u001b[0m \u001b[0mHProcessor\u001b[0m\u001b[0;34m.\u001b[0m\u001b[0mprocess_histogram\u001b[0m\u001b[0;34m(\u001b[0m\u001b[0;34m\"http://space.astro.cz/bolidozor/OBSUPICE/OBSUPICE-R1/data/\"\u001b[0m\u001b[0;34m,\u001b[0m \u001b[0;36m6\u001b[0m\u001b[0;34m)\u001b[0m\u001b[0;34m\u001b[0m\u001b[0m\n\u001b[0m",
        "\u001b[0;31mNameError\u001b[0m: name 'HProcessor' is not defined"
       ]
      }
     ],
     "prompt_number": 5
    }
   ],
   "metadata": {}
  }
 ]
}
