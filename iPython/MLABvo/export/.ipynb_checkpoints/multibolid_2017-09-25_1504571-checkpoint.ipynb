{
 "cells": [
  {
   "cell_type": "code",
   "execution_count": 1,
   "metadata": {
    "collapsed": true
   },
   "outputs": [],
   "source": [
    "multibolid_id = 1504570"
   ]
  },
  {
   "cell_type": "code",
   "execution_count": 2,
   "metadata": {
    "collapsed": true
   },
   "outputs": [],
   "source": [
    "bz = Bolidozor()\n",
    "bolids = bz.getMultibolid(id=multibolid_id)\n",
    "print('Počet detekcí ve skupině je',len(bolids.result))"
   ]
  },
  {
   "cell_type": "code",
   "execution_count": 3,
   "metadata": {
    "collapsed": true
   },
   "outputs": [],
   "source": [
    "from MLABvo.Bolidozor import Bolidozor\n",
    "import json\n",
    "import datetime\n",
    "import numpy as np\n",
    "import scipy.signal\n",
    "from astropy.io import fits\n",
    "import matplotlib.pyplot as plt\n",
    "import matplotlib.dates as md\n",
    "from matplotlib import dates\n",
    "import sys\n",
    "sys.path.append(\"..\") \n",
    "import recviewer\n",
    "import dateutil.parser\n",
    "\n",
    "%matplotlib inline "
   ]
  },
  {
   "cell_type": "code",
   "execution_count": 4,
   "metadata": {
    "collapsed": true
   },
   "outputs": [],
   "source": [
    "multibolid_id = 1504570"
   ]
  },
  {
   "cell_type": "code",
   "execution_count": 5,
   "metadata": {
    "collapsed": true
   },
   "outputs": [],
   "source": [
    "bz = Bolidozor()\n",
    "bolids = bz.getMultibolid(id=multibolid_id)\n",
    "print('Počet detekcí ve skupině je',len(bolids.result))"
   ]
  },
  {
   "cell_type": "code",
   "execution_count": 6,
   "metadata": {
    "collapsed": true
   },
   "outputs": [],
   "source": [
    "print(list(bolids.result[0].keys()))\n",
    "print(\"\")\n",
    "print(bolids.result[0])"
   ]
  },
  {
   "cell_type": "code",
   "execution_count": 7,
   "metadata": {
    "collapsed": true
   },
   "outputs": [],
   "source": [
    "for i, bolid in enumerate(bolids.result):\n",
    "    print(i+1,'z',len(bolids.result))\n",
    "    fits.open(bolid['url_file_raw'])"
   ]
  },
  {
   "cell_type": "code",
   "execution_count": 8,
   "metadata": {
    "collapsed": true
   },
   "outputs": [],
   "source": [
    "def timeCalibration(raw_file, sigma = 10, debug = True):\n",
    "    calibration_data = {}\n",
    "    hdulist = fits.open(raw_file, cache=True)\n",
    "    met_data = np.abs(np.ravel(hdulist[0].data))\n",
    "    clip_val = np.std(met_data)*sigma\n",
    "    plt.axhline(y=clip_val, color='red')\n",
    "    max_val = np.max(met_data)\n",
    "    for i, point in enumerate(met_data):\n",
    "        if point > clip_val:\n",
    "            plt.axvline(x=i, color='red')\n",
    "            ten_sec = 10/(hdulist[0].header['CDELT2']/2/1000.0)\n",
    "            if debug: plt.axvline(x=i+ten_sec, color='green')\n",
    "            break\n",
    "    #file_length = hdulist[0].header['NAXIS2']*hdulist[0].header['CDELT2']/1000.0\n",
    "    file_length = hdulist[0].header['NAXIS2']*1/96000\n",
    "    time_firstGPS = i/2*1/96000\n",
    "    DATE_OBS = datetime.datetime.strptime(hdulist[0].header['DATE-OBS'], \"%Y-%m-%dT%H:%M:%S\" )\n",
    "    DATE = datetime.datetime.strptime(hdulist[0].header['DATE'], \"%Y-%m-%dT%H:%M:%S\" )\n",
    "    \n",
    "    gps = (DATE-datetime.timedelta(seconds=file_length-time_firstGPS)).timestamp()\n",
    "    round_gps = round(gps/10.0)*10\n",
    "    correction = datetime.timedelta(seconds=round_gps-gps)\n",
    "\n",
    "    calibration_data['sys_correction'] = correction\n",
    "    \n",
    "    calibration_data['sys_file_beg'] = DATE-datetime.timedelta(seconds=file_length)\n",
    "    calibration_data['sys_file_end'] = DATE\n",
    "    calibration_data['sys_1st_GPS'] = DATE-datetime.timedelta(seconds=file_length-time_firstGPS)\n",
    "    calibration_data['sys_error'] = DATE-datetime.timedelta(seconds=file_length-time_firstGPS)\n",
    "    \n",
    "    calibration_data['cor_file_beg'] = DATE-datetime.timedelta(seconds=file_length)+correction\n",
    "    calibration_data['cor_file_end'] = DATE+correction\n",
    "    calibration_data['cor_1st_GPS'] = DATE-datetime.timedelta(seconds=file_length-time_firstGPS)+correction\n",
    "    calibration_data['cor_error'] = correction\n",
    "    \n",
    "    if debug:\n",
    "        #DATE_OBS = datetime.datetime.strptime(hdulist[0].header['DATE-OBS'], \"%Y-%m-%dT%H:%M:%S\" )\n",
    "        print(\"Zpracovavam soubor:\", raw_file)\n",
    "        print('delka zaznamu          :', file_length, \"s\")\n",
    "        print('cas prvni vzorku s GPS :', time_firstGPS, \"s\")\n",
    "        print('cas 1. GPS a konec     :', file_length - time_firstGPS, \"s\")\n",
    "        print('SysCas ukladani souboru:', calibration_data['sys_file_end'], \"s\")\n",
    "        print('SysCas zacatku souboru :', calibration_data['sys_file_beg'])\n",
    "        print('SysCas 1. GPS znacky   :', calibration_data['sys_1st_GPS'])\n",
    "        print('Korekce systémoveho čas:', correction)\n",
    "        print('CorCas ukladani souboru:', calibration_data['cor_file_end'], \"s\")\n",
    "        print('CorCas zacatku souboru :', calibration_data['cor_file_beg'])\n",
    "        print('CorCas 1. GPS znacky   :', calibration_data['cor_1st_GPS'])\n",
    "        plt.plot(met_data)\n",
    "        plt.show()\n",
    "    return calibration_data\n",
    "        "
   ]
  },
  {
   "cell_type": "code",
   "execution_count": 9,
   "metadata": {
    "collapsed": true
   },
   "outputs": [],
   "source": [
    "\n",
    "for i, bolid in enumerate(bolids.result):\n",
    "    print(i,\"==================================\")\n",
    "    print(\"snapshot:\", bolid['url_file_js9'])\n",
    "    bolids.result[i]['time_calib']=timeCalibration(bolid['url_file_raw'])\n",
    "    "
   ]
  },
  {
   "cell_type": "code",
   "execution_count": 10,
   "metadata": {
    "collapsed": true
   },
   "outputs": [],
   "source": [
    "time_offset = {}\n",
    "selected = list(range(0, len(bolids.result)))     # vyber vsech dat\n",
    "\n",
    "#selected.remove(0)\n",
    "#selected.remove(3)\n",
    "#selected = [0,1,2,3,6]\n",
    "\n",
    "#selected = [3,4,5,6]     #Pokud chcete vybrat konkrétní data, \n",
    "                               #odkomentujte tento řádek a vložte do něj čísla požadovaných dat\n",
    "\n",
    "# time_offset[0] = +0   ## Posun času na stanici.\n",
    "                        # Timto posunete data pro určitou stanici (podle indexu souboru)\n",
    "                        # o určitý počet časových značek (10s intervalů)\n",
    "                        # Kladné číslo posune graf 'nahoru\" \n",
    "#time_offset[0]=0\n",
    "#time_offset[1]=1\n",
    "for i, bolid in enumerate(bolids.result):\n",
    "    if i in selected:\n",
    "        print(i, ',sysT of gps:', bolid['time_calib']['cor_1st_GPS'], ',offset:', bolid['time_calib']['cor_error'], bolid['filename'])"
   ]
  },
  {
   "cell_type": "code",
   "execution_count": 11,
   "metadata": {
    "collapsed": true
   },
   "outputs": [],
   "source": [
    "%matplotlib inline \n",
    "count = len(selected)\n",
    "fig, axis = plt.subplots(1, count, sharex=True, sharey=True, figsize=(20, 10))\n",
    "\n",
    "gps_calib = True\n",
    "minimal_time = None\n",
    "maximal_time = None\n",
    "\n",
    "for i, ax in enumerate(axis):\n",
    "    bolid = bolids.result[selected[i]]\n",
    "    print (i, bolid['time_calib']['cor_file_beg'])\n",
    "    hdulist = fits.open(bolid['url_file_raw'])\n",
    "    met_data = np.abs(np.ravel(hdulist[0].data))\n",
    "    \n",
    "    T_offset = 10*time_offset.get(selected[i], 0)\n",
    "    \n",
    "    if gps_calib:\n",
    "        min_date = bolid['time_calib']['cor_file_beg'].replace(tzinfo=datetime.timezone.utc).timestamp()+T_offset\n",
    "        max_date = bolid['time_calib']['cor_file_end'].replace(tzinfo=datetime.timezone.utc).timestamp()+T_offset\n",
    "    else:\n",
    "        min_date = bolid['time_calib']['sys_file_beg'].replace(tzinfo=datetime.timezone.utc).timestamp()+T_offset\n",
    "        max_date = bolid['time_calib']['sys_file_end'].replace(tzinfo=datetime.timezone.utc).timestamp()+T_offset\n",
    "    array = np.arange(min_date, max_date, (max_date-min_date)/(len(met_data)))\n",
    "    \n",
    "    if not minimal_time: minimal_time = min_date\n",
    "    if not maximal_time: maximal_time = max_date\n",
    "    if min_date < minimal_time: minimal_time = min_date\n",
    "    if max_date > maximal_time: maximal_time = max_date\n",
    "    \n",
    "    ax.set_title(bolid['namesimple'] + \" (\" + str(selected[i])+\")\")\n",
    "    ax.plot(met_data, array)\n",
    "    ax.grid(True)\n",
    "\n",
    "fig.subplots_adjust(hspace=0)\n",
    "print(minimal_time, maximal_time)"
   ]
  },
  {
   "cell_type": "code",
   "execution_count": 12,
   "metadata": {
    "collapsed": true
   },
   "outputs": [],
   "source": [
    "def waterfall(signal, sample_rate=None, bins = 4096 ):\n",
    "    waterfall = recviewer.waterfallize(signal, bins)\n",
    "    waterfall[np.isneginf(waterfall)] = np.nan\n",
    "    wmin, wmax = np.nanmin(waterfall), np.nanmax(waterfall)\n",
    "    return waterfall"
   ]
  },
  {
   "cell_type": "code",
   "execution_count": 13,
   "metadata": {
    "collapsed": true
   },
   "outputs": [],
   "source": [
    "%matplotlib inline \n",
    "#%matplotlib notebook\n",
    "count = len(selected)\n",
    "fig, axis = plt.subplots(1, count, sharex=True, sharey=True, figsize=(20, 10))\n",
    "\n",
    "print(time_offset)\n",
    "fig.suptitle(\"Multibolid %s\" %(multibolid_id))\n",
    "fig.subplots_adjust(hspace=0)\n",
    "plt.set_cmap('hot')\n",
    "for i, ax in enumerate(axis):\n",
    "    bolid = bolids.result[selected[i]]\n",
    "    hdu = fits.open(bolid['url_file_raw'])[0]\n",
    "    flat_data = np.ravel(hdu.data)\n",
    "    \n",
    "    T_offset = datetime.timedelta(seconds = 10*time_offset.get(selected[i], 0))\n",
    "    #print(i, selected[i], bolid['time_calib']['cor_file_beg'], bolid['time_calib']['cor_file_beg']+T_offset, T_offset)\n",
    "    d1 = bolid['time_calib']['cor_file_beg']+T_offset\n",
    "    fds1 = dates.date2num(d1) # converted\n",
    "    d2 = d1 + datetime.timedelta(seconds=hdu.header['NAXIS2']/48000.0/2)\n",
    "    fds2 = dates.date2num(d2)\n",
    "    \n",
    "    arr = waterfall(flat_data[0::2] + 1j * flat_data[1::2], 48000, bins = 4096*4)\n",
    "    ax.imshow(arr,  interpolation='none', aspect='auto',  extent=[-24000, 24000, fds2, fds1])\n",
    "    ax.grid(True)\n",
    "    \n",
    "    ax.set_xlim(13000,13500)\n",
    "    ax.yaxis_date()\n",
    "    date_format = md.DateFormatter('%H:%M:%S')\n",
    "    ax.yaxis.set_major_formatter(date_format)\n",
    "    fig.autofmt_xdate()\n",
    "    ax.set_ylim( datetime.datetime.utcfromtimestamp(minimal_time), datetime.datetime.utcfromtimestamp(maximal_time))\n",
    "    \n",
    "    offset = abs(bolid['time_calib']['cor_error']).microseconds/1000000 + abs(bolid['time_calib']['cor_error']).seconds\n",
    "    if bolid['time_calib']['cor_error'] < datetime.timedelta(seconds=0): offset = -offset\n",
    "    #ax.set_title(bolid['namesimple']+ \" err:\"+str(offset))\n",
    "    ax.set_title(bolid['namesimple'])"
   ]
  },
  {
   "cell_type": "code",
   "execution_count": 14,
   "metadata": {
    "collapsed": true
   },
   "outputs": [],
   "source": [
    "time_offset = {}\n",
    "selected = list(range(0, len(bolids.result)))     # vyber vsech dat\n",
    "\n",
    "selected.remove(0)\n",
    "selected.remove(1)\n",
    "selected.remove(4)\n",
    "#selected = [0,1,2,3,6]\n",
    "\n",
    "#selected = [3,4,5,6]     #Pokud chcete vybrat konkrétní data, \n",
    "                               #odkomentujte tento řádek a vložte do něj čísla požadovaných dat\n",
    "\n",
    "# time_offset[0] = +0   ## Posun času na stanici.\n",
    "                        # Timto posunete data pro určitou stanici (podle indexu souboru)\n",
    "                        # o určitý počet časových značek (10s intervalů)\n",
    "                        # Kladné číslo posune graf 'nahoru\" \n",
    "#time_offset[0]=0\n",
    "#time_offset[1]=1\n",
    "for i, bolid in enumerate(bolids.result):\n",
    "    if i in selected:\n",
    "        print(i, ',sysT of gps:', bolid['time_calib']['cor_1st_GPS'], ',offset:', bolid['time_calib']['cor_error'], bolid['filename'])"
   ]
  },
  {
   "cell_type": "code",
   "execution_count": 15,
   "metadata": {
    "collapsed": true
   },
   "outputs": [],
   "source": [
    "%matplotlib inline \n",
    "count = len(selected)\n",
    "fig, axis = plt.subplots(1, count, sharex=True, sharey=True, figsize=(20, 10))\n",
    "\n",
    "gps_calib = True\n",
    "minimal_time = None\n",
    "maximal_time = None\n",
    "\n",
    "for i, ax in enumerate(axis):\n",
    "    bolid = bolids.result[selected[i]]\n",
    "    print (i, bolid['time_calib']['cor_file_beg'])\n",
    "    hdulist = fits.open(bolid['url_file_raw'])\n",
    "    met_data = np.abs(np.ravel(hdulist[0].data))\n",
    "    \n",
    "    T_offset = 10*time_offset.get(selected[i], 0)\n",
    "    \n",
    "    if gps_calib:\n",
    "        min_date = bolid['time_calib']['cor_file_beg'].replace(tzinfo=datetime.timezone.utc).timestamp()+T_offset\n",
    "        max_date = bolid['time_calib']['cor_file_end'].replace(tzinfo=datetime.timezone.utc).timestamp()+T_offset\n",
    "    else:\n",
    "        min_date = bolid['time_calib']['sys_file_beg'].replace(tzinfo=datetime.timezone.utc).timestamp()+T_offset\n",
    "        max_date = bolid['time_calib']['sys_file_end'].replace(tzinfo=datetime.timezone.utc).timestamp()+T_offset\n",
    "    array = np.arange(min_date, max_date, (max_date-min_date)/(len(met_data)))\n",
    "    \n",
    "    if not minimal_time: minimal_time = min_date\n",
    "    if not maximal_time: maximal_time = max_date\n",
    "    if min_date < minimal_time: minimal_time = min_date\n",
    "    if max_date > maximal_time: maximal_time = max_date\n",
    "    \n",
    "    ax.set_title(bolid['namesimple'] + \" (\" + str(selected[i])+\")\")\n",
    "    ax.plot(met_data, array)\n",
    "    ax.grid(True)\n",
    "\n",
    "fig.subplots_adjust(hspace=0)\n",
    "print(minimal_time, maximal_time)"
   ]
  },
  {
   "cell_type": "code",
   "execution_count": 16,
   "metadata": {
    "collapsed": true
   },
   "outputs": [],
   "source": [
    "def waterfall(signal, sample_rate=None, bins = 4096 ):\n",
    "    waterfall = recviewer.waterfallize(signal, bins)\n",
    "    waterfall[np.isneginf(waterfall)] = np.nan\n",
    "    wmin, wmax = np.nanmin(waterfall), np.nanmax(waterfall)\n",
    "    return waterfall"
   ]
  },
  {
   "cell_type": "code",
   "execution_count": 17,
   "metadata": {
    "collapsed": true
   },
   "outputs": [],
   "source": [
    "%matplotlib inline \n",
    "#%matplotlib notebook\n",
    "count = len(selected)\n",
    "fig, axis = plt.subplots(1, count, sharex=True, sharey=True, figsize=(20, 10))\n",
    "\n",
    "print(time_offset)\n",
    "fig.suptitle(\"Multibolid %s\" %(multibolid_id))\n",
    "fig.subplots_adjust(hspace=0)\n",
    "plt.set_cmap('hot')\n",
    "for i, ax in enumerate(axis):\n",
    "    bolid = bolids.result[selected[i]]\n",
    "    hdu = fits.open(bolid['url_file_raw'])[0]\n",
    "    flat_data = np.ravel(hdu.data)\n",
    "    \n",
    "    T_offset = datetime.timedelta(seconds = 10*time_offset.get(selected[i], 0))\n",
    "    #print(i, selected[i], bolid['time_calib']['cor_file_beg'], bolid['time_calib']['cor_file_beg']+T_offset, T_offset)\n",
    "    d1 = bolid['time_calib']['cor_file_beg']+T_offset\n",
    "    fds1 = dates.date2num(d1) # converted\n",
    "    d2 = d1 + datetime.timedelta(seconds=hdu.header['NAXIS2']/48000.0/2)\n",
    "    fds2 = dates.date2num(d2)\n",
    "    \n",
    "    arr = waterfall(flat_data[0::2] + 1j * flat_data[1::2], 48000, bins = 4096*4)\n",
    "    ax.imshow(arr,  interpolation='none', aspect='auto',  extent=[-24000, 24000, fds2, fds1])\n",
    "    ax.grid(True)\n",
    "    \n",
    "    ax.set_xlim(13000,13500)\n",
    "    ax.yaxis_date()\n",
    "    date_format = md.DateFormatter('%H:%M:%S')\n",
    "    ax.yaxis.set_major_formatter(date_format)\n",
    "    fig.autofmt_xdate()\n",
    "    ax.set_ylim( datetime.datetime.utcfromtimestamp(minimal_time), datetime.datetime.utcfromtimestamp(maximal_time))\n",
    "    \n",
    "    offset = abs(bolid['time_calib']['cor_error']).microseconds/1000000 + abs(bolid['time_calib']['cor_error']).seconds\n",
    "    if bolid['time_calib']['cor_error'] < datetime.timedelta(seconds=0): offset = -offset\n",
    "    #ax.set_title(bolid['namesimple']+ \" err:\"+str(offset))\n",
    "    ax.set_title(bolid['namesimple'])"
   ]
  },
  {
   "cell_type": "code",
   "execution_count": 18,
   "metadata": {
    "collapsed": true
   },
   "outputs": [],
   "source": [
    "time_offset = {}\n",
    "selected = list(range(0, len(bolids.result)))     # vyber vsech dat\n",
    "\n",
    "selected.remove(0)\n",
    "selected.remove(1)\n",
    "selected.remove(4)\n",
    "#selected = [0,1,2,3,6]\n",
    "\n",
    "#selected = [3,4,5,6]     #Pokud chcete vybrat konkrétní data, \n",
    "                               #odkomentujte tento řádek a vložte do něj čísla požadovaných dat\n",
    "\n",
    "# time_offset[0] = +0   ## Posun času na stanici.\n",
    "                        # Timto posunete data pro určitou stanici (podle indexu souboru)\n",
    "                        # o určitý počet časových značek (10s intervalů)\n",
    "                        # Kladné číslo posune graf 'nahoru\" \n",
    "time_offset[3]=1\n",
    "#time_offset[1]=1\n",
    "for i, bolid in enumerate(bolids.result):\n",
    "    if i in selected:\n",
    "        print(i, ',sysT of gps:', bolid['time_calib']['cor_1st_GPS'], ',offset:', bolid['time_calib']['cor_error'], bolid['filename'])"
   ]
  },
  {
   "cell_type": "code",
   "execution_count": 19,
   "metadata": {
    "collapsed": true
   },
   "outputs": [],
   "source": [
    "%matplotlib inline \n",
    "count = len(selected)\n",
    "fig, axis = plt.subplots(1, count, sharex=True, sharey=True, figsize=(20, 10))\n",
    "\n",
    "gps_calib = True\n",
    "minimal_time = None\n",
    "maximal_time = None\n",
    "\n",
    "for i, ax in enumerate(axis):\n",
    "    bolid = bolids.result[selected[i]]\n",
    "    print (i, bolid['time_calib']['cor_file_beg'])\n",
    "    hdulist = fits.open(bolid['url_file_raw'])\n",
    "    met_data = np.abs(np.ravel(hdulist[0].data))\n",
    "    \n",
    "    T_offset = 10*time_offset.get(selected[i], 0)\n",
    "    \n",
    "    if gps_calib:\n",
    "        min_date = bolid['time_calib']['cor_file_beg'].replace(tzinfo=datetime.timezone.utc).timestamp()+T_offset\n",
    "        max_date = bolid['time_calib']['cor_file_end'].replace(tzinfo=datetime.timezone.utc).timestamp()+T_offset\n",
    "    else:\n",
    "        min_date = bolid['time_calib']['sys_file_beg'].replace(tzinfo=datetime.timezone.utc).timestamp()+T_offset\n",
    "        max_date = bolid['time_calib']['sys_file_end'].replace(tzinfo=datetime.timezone.utc).timestamp()+T_offset\n",
    "    array = np.arange(min_date, max_date, (max_date-min_date)/(len(met_data)))\n",
    "    \n",
    "    if not minimal_time: minimal_time = min_date\n",
    "    if not maximal_time: maximal_time = max_date\n",
    "    if min_date < minimal_time: minimal_time = min_date\n",
    "    if max_date > maximal_time: maximal_time = max_date\n",
    "    \n",
    "    ax.set_title(bolid['namesimple'] + \" (\" + str(selected[i])+\")\")\n",
    "    ax.plot(met_data, array)\n",
    "    ax.grid(True)\n",
    "\n",
    "fig.subplots_adjust(hspace=0)\n",
    "print(minimal_time, maximal_time)"
   ]
  },
  {
   "cell_type": "code",
   "execution_count": 20,
   "metadata": {
    "collapsed": true
   },
   "outputs": [],
   "source": [
    "def waterfall(signal, sample_rate=None, bins = 4096 ):\n",
    "    waterfall = recviewer.waterfallize(signal, bins)\n",
    "    waterfall[np.isneginf(waterfall)] = np.nan\n",
    "    wmin, wmax = np.nanmin(waterfall), np.nanmax(waterfall)\n",
    "    return waterfall"
   ]
  },
  {
   "cell_type": "code",
   "execution_count": 21,
   "metadata": {
    "collapsed": true
   },
   "outputs": [],
   "source": [
    "%matplotlib inline \n",
    "#%matplotlib notebook\n",
    "count = len(selected)\n",
    "fig, axis = plt.subplots(1, count, sharex=True, sharey=True, figsize=(20, 10))\n",
    "\n",
    "print(time_offset)\n",
    "fig.suptitle(\"Multibolid %s\" %(multibolid_id))\n",
    "fig.subplots_adjust(hspace=0)\n",
    "plt.set_cmap('hot')\n",
    "for i, ax in enumerate(axis):\n",
    "    bolid = bolids.result[selected[i]]\n",
    "    hdu = fits.open(bolid['url_file_raw'])[0]\n",
    "    flat_data = np.ravel(hdu.data)\n",
    "    \n",
    "    T_offset = datetime.timedelta(seconds = 10*time_offset.get(selected[i], 0))\n",
    "    #print(i, selected[i], bolid['time_calib']['cor_file_beg'], bolid['time_calib']['cor_file_beg']+T_offset, T_offset)\n",
    "    d1 = bolid['time_calib']['cor_file_beg']+T_offset\n",
    "    fds1 = dates.date2num(d1) # converted\n",
    "    d2 = d1 + datetime.timedelta(seconds=hdu.header['NAXIS2']/48000.0/2)\n",
    "    fds2 = dates.date2num(d2)\n",
    "    \n",
    "    arr = waterfall(flat_data[0::2] + 1j * flat_data[1::2], 48000, bins = 4096*4)\n",
    "    ax.imshow(arr,  interpolation='none', aspect='auto',  extent=[-24000, 24000, fds2, fds1])\n",
    "    ax.grid(True)\n",
    "    \n",
    "    ax.set_xlim(13000,13500)\n",
    "    ax.yaxis_date()\n",
    "    date_format = md.DateFormatter('%H:%M:%S')\n",
    "    ax.yaxis.set_major_formatter(date_format)\n",
    "    fig.autofmt_xdate()\n",
    "    ax.set_ylim( datetime.datetime.utcfromtimestamp(minimal_time), datetime.datetime.utcfromtimestamp(maximal_time))\n",
    "    \n",
    "    offset = abs(bolid['time_calib']['cor_error']).microseconds/1000000 + abs(bolid['time_calib']['cor_error']).seconds\n",
    "    if bolid['time_calib']['cor_error'] < datetime.timedelta(seconds=0): offset = -offset\n",
    "    #ax.set_title(bolid['namesimple']+ \" err:\"+str(offset))\n",
    "    ax.set_title(bolid['namesimple'])"
   ]
  },
  {
   "cell_type": "code",
   "execution_count": 22,
   "metadata": {
    "collapsed": true
   },
   "outputs": [],
   "source": [
    "time_offset = {}\n",
    "selected = list(range(0, len(bolids.result)))     # vyber vsech dat\n",
    "\n",
    "selected.remove(0)\n",
    "selected.remove(1)\n",
    "selected.remove(4)\n",
    "#selected = [0,1,2,3,6]\n",
    "\n",
    "#selected = [3,4,5,6]     #Pokud chcete vybrat konkrétní data, \n",
    "                               #odkomentujte tento řádek a vložte do něj čísla požadovaných dat\n",
    "\n",
    "# time_offset[0] = +0   ## Posun času na stanici.\n",
    "                        # Timto posunete data pro určitou stanici (podle indexu souboru)\n",
    "                        # o určitý počet časových značek (10s intervalů)\n",
    "                        # Kladné číslo posune graf 'nahoru\" \n",
    "time_offset[3]=0.5\n",
    "#time_offset[1]=1\n",
    "for i, bolid in enumerate(bolids.result):\n",
    "    if i in selected:\n",
    "        print(i, ',sysT of gps:', bolid['time_calib']['cor_1st_GPS'], ',offset:', bolid['time_calib']['cor_error'], bolid['filename'])"
   ]
  },
  {
   "cell_type": "code",
   "execution_count": 23,
   "metadata": {
    "collapsed": true
   },
   "outputs": [],
   "source": [
    "%matplotlib inline \n",
    "count = len(selected)\n",
    "fig, axis = plt.subplots(1, count, sharex=True, sharey=True, figsize=(20, 10))\n",
    "\n",
    "gps_calib = True\n",
    "minimal_time = None\n",
    "maximal_time = None\n",
    "\n",
    "for i, ax in enumerate(axis):\n",
    "    bolid = bolids.result[selected[i]]\n",
    "    print (i, bolid['time_calib']['cor_file_beg'])\n",
    "    hdulist = fits.open(bolid['url_file_raw'])\n",
    "    met_data = np.abs(np.ravel(hdulist[0].data))\n",
    "    \n",
    "    T_offset = 10*time_offset.get(selected[i], 0)\n",
    "    \n",
    "    if gps_calib:\n",
    "        min_date = bolid['time_calib']['cor_file_beg'].replace(tzinfo=datetime.timezone.utc).timestamp()+T_offset\n",
    "        max_date = bolid['time_calib']['cor_file_end'].replace(tzinfo=datetime.timezone.utc).timestamp()+T_offset\n",
    "    else:\n",
    "        min_date = bolid['time_calib']['sys_file_beg'].replace(tzinfo=datetime.timezone.utc).timestamp()+T_offset\n",
    "        max_date = bolid['time_calib']['sys_file_end'].replace(tzinfo=datetime.timezone.utc).timestamp()+T_offset\n",
    "    array = np.arange(min_date, max_date, (max_date-min_date)/(len(met_data)))\n",
    "    \n",
    "    if not minimal_time: minimal_time = min_date\n",
    "    if not maximal_time: maximal_time = max_date\n",
    "    if min_date < minimal_time: minimal_time = min_date\n",
    "    if max_date > maximal_time: maximal_time = max_date\n",
    "    \n",
    "    ax.set_title(bolid['namesimple'] + \" (\" + str(selected[i])+\")\")\n",
    "    ax.plot(met_data, array)\n",
    "    ax.grid(True)\n",
    "\n",
    "fig.subplots_adjust(hspace=0)\n",
    "print(minimal_time, maximal_time)"
   ]
  },
  {
   "cell_type": "code",
   "execution_count": 24,
   "metadata": {
    "collapsed": true
   },
   "outputs": [],
   "source": [
    "def waterfall(signal, sample_rate=None, bins = 4096 ):\n",
    "    waterfall = recviewer.waterfallize(signal, bins)\n",
    "    waterfall[np.isneginf(waterfall)] = np.nan\n",
    "    wmin, wmax = np.nanmin(waterfall), np.nanmax(waterfall)\n",
    "    return waterfall"
   ]
  },
  {
   "cell_type": "code",
   "execution_count": 25,
   "metadata": {
    "collapsed": true
   },
   "outputs": [],
   "source": [
    "%matplotlib inline \n",
    "#%matplotlib notebook\n",
    "count = len(selected)\n",
    "fig, axis = plt.subplots(1, count, sharex=True, sharey=True, figsize=(20, 10))\n",
    "\n",
    "print(time_offset)\n",
    "fig.suptitle(\"Multibolid %s\" %(multibolid_id))\n",
    "fig.subplots_adjust(hspace=0)\n",
    "plt.set_cmap('hot')\n",
    "for i, ax in enumerate(axis):\n",
    "    bolid = bolids.result[selected[i]]\n",
    "    hdu = fits.open(bolid['url_file_raw'])[0]\n",
    "    flat_data = np.ravel(hdu.data)\n",
    "    \n",
    "    T_offset = datetime.timedelta(seconds = 10*time_offset.get(selected[i], 0))\n",
    "    #print(i, selected[i], bolid['time_calib']['cor_file_beg'], bolid['time_calib']['cor_file_beg']+T_offset, T_offset)\n",
    "    d1 = bolid['time_calib']['cor_file_beg']+T_offset\n",
    "    fds1 = dates.date2num(d1) # converted\n",
    "    d2 = d1 + datetime.timedelta(seconds=hdu.header['NAXIS2']/48000.0/2)\n",
    "    fds2 = dates.date2num(d2)\n",
    "    \n",
    "    arr = waterfall(flat_data[0::2] + 1j * flat_data[1::2], 48000, bins = 4096*4)\n",
    "    ax.imshow(arr,  interpolation='none', aspect='auto',  extent=[-24000, 24000, fds2, fds1])\n",
    "    ax.grid(True)\n",
    "    \n",
    "    ax.set_xlim(13000,13500)\n",
    "    ax.yaxis_date()\n",
    "    date_format = md.DateFormatter('%H:%M:%S')\n",
    "    ax.yaxis.set_major_formatter(date_format)\n",
    "    fig.autofmt_xdate()\n",
    "    ax.set_ylim( datetime.datetime.utcfromtimestamp(minimal_time), datetime.datetime.utcfromtimestamp(maximal_time))\n",
    "    \n",
    "    offset = abs(bolid['time_calib']['cor_error']).microseconds/1000000 + abs(bolid['time_calib']['cor_error']).seconds\n",
    "    if bolid['time_calib']['cor_error'] < datetime.timedelta(seconds=0): offset = -offset\n",
    "    #ax.set_title(bolid['namesimple']+ \" err:\"+str(offset))\n",
    "    ax.set_title(bolid['namesimple'])"
   ]
  },
  {
   "cell_type": "code",
   "execution_count": 26,
   "metadata": {
    "collapsed": true
   },
   "outputs": [],
   "source": [
    "time_offset = {}\n",
    "selected = list(range(0, len(bolids.result)))     # vyber vsech dat\n",
    "\n",
    "#selected.remove(0)\n",
    "#selected.remove(1)\n",
    "#selected.remove(4)\n",
    "#selected = [0,1,2,3,6]\n",
    "\n",
    "#selected = [3,4,5,6]     #Pokud chcete vybrat konkrétní data, \n",
    "                               #odkomentujte tento řádek a vložte do něj čísla požadovaných dat\n",
    "\n",
    "# time_offset[0] = +0   ## Posun času na stanici.\n",
    "                        # Timto posunete data pro určitou stanici (podle indexu souboru)\n",
    "                        # o určitý počet časových značek (10s intervalů)\n",
    "                        # Kladné číslo posune graf 'nahoru\" \n",
    "time_offset[3]=0.5\n",
    "#time_offset[1]=1\n",
    "for i, bolid in enumerate(bolids.result):\n",
    "    if i in selected:\n",
    "        print(i, ',sysT of gps:', bolid['time_calib']['cor_1st_GPS'], ',offset:', bolid['time_calib']['cor_error'], bolid['filename'])"
   ]
  },
  {
   "cell_type": "code",
   "execution_count": 27,
   "metadata": {
    "collapsed": true
   },
   "outputs": [],
   "source": [
    "%matplotlib inline \n",
    "count = len(selected)\n",
    "fig, axis = plt.subplots(1, count, sharex=True, sharey=True, figsize=(20, 10))\n",
    "\n",
    "gps_calib = True\n",
    "minimal_time = None\n",
    "maximal_time = None\n",
    "\n",
    "for i, ax in enumerate(axis):\n",
    "    bolid = bolids.result[selected[i]]\n",
    "    print (i, bolid['time_calib']['cor_file_beg'])\n",
    "    hdulist = fits.open(bolid['url_file_raw'])\n",
    "    met_data = np.abs(np.ravel(hdulist[0].data))\n",
    "    \n",
    "    T_offset = 10*time_offset.get(selected[i], 0)\n",
    "    \n",
    "    if gps_calib:\n",
    "        min_date = bolid['time_calib']['cor_file_beg'].replace(tzinfo=datetime.timezone.utc).timestamp()+T_offset\n",
    "        max_date = bolid['time_calib']['cor_file_end'].replace(tzinfo=datetime.timezone.utc).timestamp()+T_offset\n",
    "    else:\n",
    "        min_date = bolid['time_calib']['sys_file_beg'].replace(tzinfo=datetime.timezone.utc).timestamp()+T_offset\n",
    "        max_date = bolid['time_calib']['sys_file_end'].replace(tzinfo=datetime.timezone.utc).timestamp()+T_offset\n",
    "    array = np.arange(min_date, max_date, (max_date-min_date)/(len(met_data)))\n",
    "    \n",
    "    if not minimal_time: minimal_time = min_date\n",
    "    if not maximal_time: maximal_time = max_date\n",
    "    if min_date < minimal_time: minimal_time = min_date\n",
    "    if max_date > maximal_time: maximal_time = max_date\n",
    "    \n",
    "    ax.set_title(bolid['namesimple'] + \" (\" + str(selected[i])+\")\")\n",
    "    ax.plot(met_data, array)\n",
    "    ax.grid(True)\n",
    "\n",
    "fig.subplots_adjust(hspace=0)\n",
    "print(minimal_time, maximal_time)"
   ]
  },
  {
   "cell_type": "code",
   "execution_count": 28,
   "metadata": {
    "collapsed": true
   },
   "outputs": [],
   "source": [
    "def waterfall(signal, sample_rate=None, bins = 4096 ):\n",
    "    waterfall = recviewer.waterfallize(signal, bins)\n",
    "    waterfall[np.isneginf(waterfall)] = np.nan\n",
    "    wmin, wmax = np.nanmin(waterfall), np.nanmax(waterfall)\n",
    "    return waterfall"
   ]
  },
  {
   "cell_type": "code",
   "execution_count": 29,
   "metadata": {
    "collapsed": true
   },
   "outputs": [],
   "source": [
    "%matplotlib inline \n",
    "#%matplotlib notebook\n",
    "count = len(selected)\n",
    "fig, axis = plt.subplots(1, count, sharex=True, sharey=True, figsize=(20, 10))\n",
    "\n",
    "print(time_offset)\n",
    "fig.suptitle(\"Multibolid %s\" %(multibolid_id))\n",
    "fig.subplots_adjust(hspace=0)\n",
    "plt.set_cmap('hot')\n",
    "for i, ax in enumerate(axis):\n",
    "    bolid = bolids.result[selected[i]]\n",
    "    hdu = fits.open(bolid['url_file_raw'])[0]\n",
    "    flat_data = np.ravel(hdu.data)\n",
    "    \n",
    "    T_offset = datetime.timedelta(seconds = 10*time_offset.get(selected[i], 0))\n",
    "    #print(i, selected[i], bolid['time_calib']['cor_file_beg'], bolid['time_calib']['cor_file_beg']+T_offset, T_offset)\n",
    "    d1 = bolid['time_calib']['cor_file_beg']+T_offset\n",
    "    fds1 = dates.date2num(d1) # converted\n",
    "    d2 = d1 + datetime.timedelta(seconds=hdu.header['NAXIS2']/48000.0/2)\n",
    "    fds2 = dates.date2num(d2)\n",
    "    \n",
    "    arr = waterfall(flat_data[0::2] + 1j * flat_data[1::2], 48000, bins = 4096*4)\n",
    "    ax.imshow(arr,  interpolation='none', aspect='auto',  extent=[-24000, 24000, fds2, fds1])\n",
    "    ax.grid(True)\n",
    "    \n",
    "    ax.set_xlim(13000,13500)\n",
    "    ax.yaxis_date()\n",
    "    date_format = md.DateFormatter('%H:%M:%S')\n",
    "    ax.yaxis.set_major_formatter(date_format)\n",
    "    fig.autofmt_xdate()\n",
    "    ax.set_ylim( datetime.datetime.utcfromtimestamp(minimal_time), datetime.datetime.utcfromtimestamp(maximal_time))\n",
    "    \n",
    "    offset = abs(bolid['time_calib']['cor_error']).microseconds/1000000 + abs(bolid['time_calib']['cor_error']).seconds\n",
    "    if bolid['time_calib']['cor_error'] < datetime.timedelta(seconds=0): offset = -offset\n",
    "    #ax.set_title(bolid['namesimple']+ \" err:\"+str(offset))\n",
    "    ax.set_title(bolid['namesimple'])"
   ]
  },
  {
   "cell_type": "code",
   "execution_count": 30,
   "metadata": {
    "collapsed": true
   },
   "outputs": [],
   "source": [
    "time_offset = {}\n",
    "selected = list(range(0, len(bolids.result)))     # vyber vsech dat\n",
    "\n",
    "#selected.remove(0)\n",
    "#selected.remove(1)\n",
    "#selected.remove(4)\n",
    "#selected = [0,1,2,3,6]\n",
    "\n",
    "#selected = [3,4,5,6]     #Pokud chcete vybrat konkrétní data, \n",
    "                               #odkomentujte tento řádek a vložte do něj čísla požadovaných dat\n",
    "\n",
    "# time_offset[0] = +0   ## Posun času na stanici.\n",
    "                        # Timto posunete data pro určitou stanici (podle indexu souboru)\n",
    "                        # o určitý počet časových značek (10s intervalů)\n",
    "                        # Kladné číslo posune graf 'nahoru\" \n",
    "time_offset[3]=0.5\n",
    "time_offset[4]=0.5\n",
    "#time_offset[1]=1\n",
    "for i, bolid in enumerate(bolids.result):\n",
    "    if i in selected:\n",
    "        print(i, ',sysT of gps:', bolid['time_calib']['cor_1st_GPS'], ',offset:', bolid['time_calib']['cor_error'], bolid['filename'])"
   ]
  },
  {
   "cell_type": "code",
   "execution_count": 31,
   "metadata": {
    "collapsed": true
   },
   "outputs": [],
   "source": [
    "%matplotlib inline \n",
    "count = len(selected)\n",
    "fig, axis = plt.subplots(1, count, sharex=True, sharey=True, figsize=(20, 10))\n",
    "\n",
    "gps_calib = True\n",
    "minimal_time = None\n",
    "maximal_time = None\n",
    "\n",
    "for i, ax in enumerate(axis):\n",
    "    bolid = bolids.result[selected[i]]\n",
    "    print (i, bolid['time_calib']['cor_file_beg'])\n",
    "    hdulist = fits.open(bolid['url_file_raw'])\n",
    "    met_data = np.abs(np.ravel(hdulist[0].data))\n",
    "    \n",
    "    T_offset = 10*time_offset.get(selected[i], 0)\n",
    "    \n",
    "    if gps_calib:\n",
    "        min_date = bolid['time_calib']['cor_file_beg'].replace(tzinfo=datetime.timezone.utc).timestamp()+T_offset\n",
    "        max_date = bolid['time_calib']['cor_file_end'].replace(tzinfo=datetime.timezone.utc).timestamp()+T_offset\n",
    "    else:\n",
    "        min_date = bolid['time_calib']['sys_file_beg'].replace(tzinfo=datetime.timezone.utc).timestamp()+T_offset\n",
    "        max_date = bolid['time_calib']['sys_file_end'].replace(tzinfo=datetime.timezone.utc).timestamp()+T_offset\n",
    "    array = np.arange(min_date, max_date, (max_date-min_date)/(len(met_data)))\n",
    "    \n",
    "    if not minimal_time: minimal_time = min_date\n",
    "    if not maximal_time: maximal_time = max_date\n",
    "    if min_date < minimal_time: minimal_time = min_date\n",
    "    if max_date > maximal_time: maximal_time = max_date\n",
    "    \n",
    "    ax.set_title(bolid['namesimple'] + \" (\" + str(selected[i])+\")\")\n",
    "    ax.plot(met_data, array)\n",
    "    ax.grid(True)\n",
    "\n",
    "fig.subplots_adjust(hspace=0)\n",
    "print(minimal_time, maximal_time)"
   ]
  },
  {
   "cell_type": "code",
   "execution_count": 32,
   "metadata": {
    "collapsed": true
   },
   "outputs": [],
   "source": [
    "def waterfall(signal, sample_rate=None, bins = 4096 ):\n",
    "    waterfall = recviewer.waterfallize(signal, bins)\n",
    "    waterfall[np.isneginf(waterfall)] = np.nan\n",
    "    wmin, wmax = np.nanmin(waterfall), np.nanmax(waterfall)\n",
    "    return waterfall"
   ]
  },
  {
   "cell_type": "code",
   "execution_count": 33,
   "metadata": {
    "collapsed": true
   },
   "outputs": [],
   "source": [
    "%matplotlib inline \n",
    "#%matplotlib notebook\n",
    "count = len(selected)\n",
    "fig, axis = plt.subplots(1, count, sharex=True, sharey=True, figsize=(20, 10))\n",
    "\n",
    "print(time_offset)\n",
    "fig.suptitle(\"Multibolid %s\" %(multibolid_id))\n",
    "fig.subplots_adjust(hspace=0)\n",
    "plt.set_cmap('hot')\n",
    "for i, ax in enumerate(axis):\n",
    "    bolid = bolids.result[selected[i]]\n",
    "    hdu = fits.open(bolid['url_file_raw'])[0]\n",
    "    flat_data = np.ravel(hdu.data)\n",
    "    \n",
    "    T_offset = datetime.timedelta(seconds = 10*time_offset.get(selected[i], 0))\n",
    "    #print(i, selected[i], bolid['time_calib']['cor_file_beg'], bolid['time_calib']['cor_file_beg']+T_offset, T_offset)\n",
    "    d1 = bolid['time_calib']['cor_file_beg']+T_offset\n",
    "    fds1 = dates.date2num(d1) # converted\n",
    "    d2 = d1 + datetime.timedelta(seconds=hdu.header['NAXIS2']/48000.0/2)\n",
    "    fds2 = dates.date2num(d2)\n",
    "    \n",
    "    arr = waterfall(flat_data[0::2] + 1j * flat_data[1::2], 48000, bins = 4096*4)\n",
    "    ax.imshow(arr,  interpolation='none', aspect='auto',  extent=[-24000, 24000, fds2, fds1])\n",
    "    ax.grid(True)\n",
    "    \n",
    "    ax.set_xlim(13000,13500)\n",
    "    ax.yaxis_date()\n",
    "    date_format = md.DateFormatter('%H:%M:%S')\n",
    "    ax.yaxis.set_major_formatter(date_format)\n",
    "    fig.autofmt_xdate()\n",
    "    ax.set_ylim( datetime.datetime.utcfromtimestamp(minimal_time), datetime.datetime.utcfromtimestamp(maximal_time))\n",
    "    \n",
    "    offset = abs(bolid['time_calib']['cor_error']).microseconds/1000000 + abs(bolid['time_calib']['cor_error']).seconds\n",
    "    if bolid['time_calib']['cor_error'] < datetime.timedelta(seconds=0): offset = -offset\n",
    "    #ax.set_title(bolid['namesimple']+ \" err:\"+str(offset))\n",
    "    ax.set_title(bolid['namesimple'])"
   ]
  },
  {
   "cell_type": "code",
   "execution_count": 34,
   "metadata": {
    "collapsed": true
   },
   "outputs": [],
   "source": [
    "time_offset = {}\n",
    "selected = list(range(0, len(bolids.result)))     # vyber vsech dat\n",
    "\n",
    "selected.remove(0)\n",
    "selected.remove(1)\n",
    "#selected.remove(4)\n",
    "#selected = [0,1,2,3,6]\n",
    "\n",
    "#selected = [3,4,5,6]     #Pokud chcete vybrat konkrétní data, \n",
    "                               #odkomentujte tento řádek a vložte do něj čísla požadovaných dat\n",
    "\n",
    "# time_offset[0] = +0   ## Posun času na stanici.\n",
    "                        # Timto posunete data pro určitou stanici (podle indexu souboru)\n",
    "                        # o určitý počet časových značek (10s intervalů)\n",
    "                        # Kladné číslo posune graf 'nahoru\" \n",
    "time_offset[3]=0.5\n",
    "time_offset[4]=0.5\n",
    "#time_offset[1]=1\n",
    "for i, bolid in enumerate(bolids.result):\n",
    "    if i in selected:\n",
    "        print(i, ',sysT of gps:', bolid['time_calib']['cor_1st_GPS'], ',offset:', bolid['time_calib']['cor_error'], bolid['filename'])"
   ]
  },
  {
   "cell_type": "code",
   "execution_count": 35,
   "metadata": {
    "collapsed": true
   },
   "outputs": [],
   "source": [
    "%matplotlib inline \n",
    "count = len(selected)\n",
    "fig, axis = plt.subplots(1, count, sharex=True, sharey=True, figsize=(20, 10))\n",
    "\n",
    "gps_calib = True\n",
    "minimal_time = None\n",
    "maximal_time = None\n",
    "\n",
    "for i, ax in enumerate(axis):\n",
    "    bolid = bolids.result[selected[i]]\n",
    "    print (i, bolid['time_calib']['cor_file_beg'])\n",
    "    hdulist = fits.open(bolid['url_file_raw'])\n",
    "    met_data = np.abs(np.ravel(hdulist[0].data))\n",
    "    \n",
    "    T_offset = 10*time_offset.get(selected[i], 0)\n",
    "    \n",
    "    if gps_calib:\n",
    "        min_date = bolid['time_calib']['cor_file_beg'].replace(tzinfo=datetime.timezone.utc).timestamp()+T_offset\n",
    "        max_date = bolid['time_calib']['cor_file_end'].replace(tzinfo=datetime.timezone.utc).timestamp()+T_offset\n",
    "    else:\n",
    "        min_date = bolid['time_calib']['sys_file_beg'].replace(tzinfo=datetime.timezone.utc).timestamp()+T_offset\n",
    "        max_date = bolid['time_calib']['sys_file_end'].replace(tzinfo=datetime.timezone.utc).timestamp()+T_offset\n",
    "    array = np.arange(min_date, max_date, (max_date-min_date)/(len(met_data)))\n",
    "    \n",
    "    if not minimal_time: minimal_time = min_date\n",
    "    if not maximal_time: maximal_time = max_date\n",
    "    if min_date < minimal_time: minimal_time = min_date\n",
    "    if max_date > maximal_time: maximal_time = max_date\n",
    "    \n",
    "    ax.set_title(bolid['namesimple'] + \" (\" + str(selected[i])+\")\")\n",
    "    ax.plot(met_data, array)\n",
    "    ax.grid(True)\n",
    "\n",
    "fig.subplots_adjust(hspace=0)\n",
    "print(minimal_time, maximal_time)"
   ]
  },
  {
   "cell_type": "code",
   "execution_count": 36,
   "metadata": {
    "collapsed": true
   },
   "outputs": [],
   "source": [
    "def waterfall(signal, sample_rate=None, bins = 4096 ):\n",
    "    waterfall = recviewer.waterfallize(signal, bins)\n",
    "    waterfall[np.isneginf(waterfall)] = np.nan\n",
    "    wmin, wmax = np.nanmin(waterfall), np.nanmax(waterfall)\n",
    "    return waterfall"
   ]
  },
  {
   "cell_type": "code",
   "execution_count": 37,
   "metadata": {
    "collapsed": true
   },
   "outputs": [],
   "source": [
    "%matplotlib inline \n",
    "#%matplotlib notebook\n",
    "count = len(selected)\n",
    "fig, axis = plt.subplots(1, count, sharex=True, sharey=True, figsize=(20, 10))\n",
    "\n",
    "print(time_offset)\n",
    "fig.suptitle(\"Multibolid %s\" %(multibolid_id))\n",
    "fig.subplots_adjust(hspace=0)\n",
    "plt.set_cmap('hot')\n",
    "for i, ax in enumerate(axis):\n",
    "    bolid = bolids.result[selected[i]]\n",
    "    hdu = fits.open(bolid['url_file_raw'])[0]\n",
    "    flat_data = np.ravel(hdu.data)\n",
    "    \n",
    "    T_offset = datetime.timedelta(seconds = 10*time_offset.get(selected[i], 0))\n",
    "    #print(i, selected[i], bolid['time_calib']['cor_file_beg'], bolid['time_calib']['cor_file_beg']+T_offset, T_offset)\n",
    "    d1 = bolid['time_calib']['cor_file_beg']+T_offset\n",
    "    fds1 = dates.date2num(d1) # converted\n",
    "    d2 = d1 + datetime.timedelta(seconds=hdu.header['NAXIS2']/48000.0/2)\n",
    "    fds2 = dates.date2num(d2)\n",
    "    \n",
    "    arr = waterfall(flat_data[0::2] + 1j * flat_data[1::2], 48000, bins = 4096*4)\n",
    "    ax.imshow(arr,  interpolation='none', aspect='auto',  extent=[-24000, 24000, fds2, fds1])\n",
    "    ax.grid(True)\n",
    "    \n",
    "    ax.set_xlim(13000,13500)\n",
    "    ax.yaxis_date()\n",
    "    date_format = md.DateFormatter('%H:%M:%S')\n",
    "    ax.yaxis.set_major_formatter(date_format)\n",
    "    fig.autofmt_xdate()\n",
    "    ax.set_ylim( datetime.datetime.utcfromtimestamp(minimal_time), datetime.datetime.utcfromtimestamp(maximal_time))\n",
    "    \n",
    "    offset = abs(bolid['time_calib']['cor_error']).microseconds/1000000 + abs(bolid['time_calib']['cor_error']).seconds\n",
    "    if bolid['time_calib']['cor_error'] < datetime.timedelta(seconds=0): offset = -offset\n",
    "    #ax.set_title(bolid['namesimple']+ \" err:\"+str(offset))\n",
    "    ax.set_title(bolid['namesimple'])"
   ]
  },
  {
   "cell_type": "code",
   "execution_count": 38,
   "metadata": {
    "collapsed": true
   },
   "outputs": [],
   "source": [
    "multibolid_id = 1503331"
   ]
  },
  {
   "cell_type": "code",
   "execution_count": 39,
   "metadata": {
    "collapsed": true
   },
   "outputs": [],
   "source": [
    "bz = Bolidozor()\n",
    "bolids = bz.getMultibolid(id=multibolid_id)\n",
    "print('Počet detekcí ve skupině je',len(bolids.result))"
   ]
  },
  {
   "cell_type": "code",
   "execution_count": 40,
   "metadata": {
    "collapsed": true
   },
   "outputs": [],
   "source": [
    "print(list(bolids.result[0].keys()))\n",
    "print(\"\")\n",
    "print(bolids.result[0])"
   ]
  },
  {
   "cell_type": "code",
   "execution_count": 41,
   "metadata": {
    "collapsed": true
   },
   "outputs": [],
   "source": [
    "for i, bolid in enumerate(bolids.result):\n",
    "    print(i+1,'z',len(bolids.result))\n",
    "    fits.open(bolid['url_file_raw'])"
   ]
  },
  {
   "cell_type": "code",
   "execution_count": 42,
   "metadata": {
    "collapsed": true
   },
   "outputs": [],
   "source": [
    "def timeCalibration(raw_file, sigma = 10, debug = True):\n",
    "    calibration_data = {}\n",
    "    hdulist = fits.open(raw_file, cache=True)\n",
    "    met_data = np.abs(np.ravel(hdulist[0].data))\n",
    "    clip_val = np.std(met_data)*sigma\n",
    "    plt.axhline(y=clip_val, color='red')\n",
    "    max_val = np.max(met_data)\n",
    "    for i, point in enumerate(met_data):\n",
    "        if point > clip_val:\n",
    "            plt.axvline(x=i, color='red')\n",
    "            ten_sec = 10/(hdulist[0].header['CDELT2']/2/1000.0)\n",
    "            if debug: plt.axvline(x=i+ten_sec, color='green')\n",
    "            break\n",
    "    #file_length = hdulist[0].header['NAXIS2']*hdulist[0].header['CDELT2']/1000.0\n",
    "    file_length = hdulist[0].header['NAXIS2']*1/96000\n",
    "    time_firstGPS = i/2*1/96000\n",
    "    DATE_OBS = datetime.datetime.strptime(hdulist[0].header['DATE-OBS'], \"%Y-%m-%dT%H:%M:%S\" )\n",
    "    DATE = datetime.datetime.strptime(hdulist[0].header['DATE'], \"%Y-%m-%dT%H:%M:%S\" )\n",
    "    \n",
    "    gps = (DATE-datetime.timedelta(seconds=file_length-time_firstGPS)).timestamp()\n",
    "    round_gps = round(gps/10.0)*10\n",
    "    correction = datetime.timedelta(seconds=round_gps-gps)\n",
    "\n",
    "    calibration_data['sys_correction'] = correction\n",
    "    \n",
    "    calibration_data['sys_file_beg'] = DATE-datetime.timedelta(seconds=file_length)\n",
    "    calibration_data['sys_file_end'] = DATE\n",
    "    calibration_data['sys_1st_GPS'] = DATE-datetime.timedelta(seconds=file_length-time_firstGPS)\n",
    "    calibration_data['sys_error'] = DATE-datetime.timedelta(seconds=file_length-time_firstGPS)\n",
    "    \n",
    "    calibration_data['cor_file_beg'] = DATE-datetime.timedelta(seconds=file_length)+correction\n",
    "    calibration_data['cor_file_end'] = DATE+correction\n",
    "    calibration_data['cor_1st_GPS'] = DATE-datetime.timedelta(seconds=file_length-time_firstGPS)+correction\n",
    "    calibration_data['cor_error'] = correction\n",
    "    \n",
    "    if debug:\n",
    "        #DATE_OBS = datetime.datetime.strptime(hdulist[0].header['DATE-OBS'], \"%Y-%m-%dT%H:%M:%S\" )\n",
    "        print(\"Zpracovavam soubor:\", raw_file)\n",
    "        print('delka zaznamu          :', file_length, \"s\")\n",
    "        print('cas prvni vzorku s GPS :', time_firstGPS, \"s\")\n",
    "        print('cas 1. GPS a konec     :', file_length - time_firstGPS, \"s\")\n",
    "        print('SysCas ukladani souboru:', calibration_data['sys_file_end'], \"s\")\n",
    "        print('SysCas zacatku souboru :', calibration_data['sys_file_beg'])\n",
    "        print('SysCas 1. GPS znacky   :', calibration_data['sys_1st_GPS'])\n",
    "        print('Korekce systémoveho čas:', correction)\n",
    "        print('CorCas ukladani souboru:', calibration_data['cor_file_end'], \"s\")\n",
    "        print('CorCas zacatku souboru :', calibration_data['cor_file_beg'])\n",
    "        print('CorCas 1. GPS znacky   :', calibration_data['cor_1st_GPS'])\n",
    "        plt.plot(met_data)\n",
    "        plt.show()\n",
    "    return calibration_data\n",
    "        "
   ]
  },
  {
   "cell_type": "code",
   "execution_count": 43,
   "metadata": {
    "collapsed": true
   },
   "outputs": [],
   "source": [
    "\n",
    "for i, bolid in enumerate(bolids.result):\n",
    "    print(i,\"==================================\")\n",
    "    print(\"snapshot:\", bolid['url_file_js9'])\n",
    "    bolids.result[i]['time_calib']=timeCalibration(bolid['url_file_raw'])\n",
    "    "
   ]
  },
  {
   "cell_type": "code",
   "execution_count": 44,
   "metadata": {
    "collapsed": true
   },
   "outputs": [],
   "source": [
    "def timeCalibration(raw_file, sigma = 15, debug = True):\n",
    "    calibration_data = {}\n",
    "    hdulist = fits.open(raw_file, cache=True)\n",
    "    met_data = np.abs(np.ravel(hdulist[0].data))\n",
    "    clip_val = np.std(met_data)*sigma\n",
    "    plt.axhline(y=clip_val, color='red')\n",
    "    max_val = np.max(met_data)\n",
    "    for i, point in enumerate(met_data):\n",
    "        if point > clip_val:\n",
    "            plt.axvline(x=i, color='red')\n",
    "            ten_sec = 10/(hdulist[0].header['CDELT2']/2/1000.0)\n",
    "            if debug: plt.axvline(x=i+ten_sec, color='green')\n",
    "            break\n",
    "    #file_length = hdulist[0].header['NAXIS2']*hdulist[0].header['CDELT2']/1000.0\n",
    "    file_length = hdulist[0].header['NAXIS2']*1/96000\n",
    "    time_firstGPS = i/2*1/96000\n",
    "    DATE_OBS = datetime.datetime.strptime(hdulist[0].header['DATE-OBS'], \"%Y-%m-%dT%H:%M:%S\" )\n",
    "    DATE = datetime.datetime.strptime(hdulist[0].header['DATE'], \"%Y-%m-%dT%H:%M:%S\" )\n",
    "    \n",
    "    gps = (DATE-datetime.timedelta(seconds=file_length-time_firstGPS)).timestamp()\n",
    "    round_gps = round(gps/10.0)*10\n",
    "    correction = datetime.timedelta(seconds=round_gps-gps)\n",
    "\n",
    "    calibration_data['sys_correction'] = correction\n",
    "    \n",
    "    calibration_data['sys_file_beg'] = DATE-datetime.timedelta(seconds=file_length)\n",
    "    calibration_data['sys_file_end'] = DATE\n",
    "    calibration_data['sys_1st_GPS'] = DATE-datetime.timedelta(seconds=file_length-time_firstGPS)\n",
    "    calibration_data['sys_error'] = DATE-datetime.timedelta(seconds=file_length-time_firstGPS)\n",
    "    \n",
    "    calibration_data['cor_file_beg'] = DATE-datetime.timedelta(seconds=file_length)+correction\n",
    "    calibration_data['cor_file_end'] = DATE+correction\n",
    "    calibration_data['cor_1st_GPS'] = DATE-datetime.timedelta(seconds=file_length-time_firstGPS)+correction\n",
    "    calibration_data['cor_error'] = correction\n",
    "    \n",
    "    if debug:\n",
    "        #DATE_OBS = datetime.datetime.strptime(hdulist[0].header['DATE-OBS'], \"%Y-%m-%dT%H:%M:%S\" )\n",
    "        print(\"Zpracovavam soubor:\", raw_file)\n",
    "        print('delka zaznamu          :', file_length, \"s\")\n",
    "        print('cas prvni vzorku s GPS :', time_firstGPS, \"s\")\n",
    "        print('cas 1. GPS a konec     :', file_length - time_firstGPS, \"s\")\n",
    "        print('SysCas ukladani souboru:', calibration_data['sys_file_end'], \"s\")\n",
    "        print('SysCas zacatku souboru :', calibration_data['sys_file_beg'])\n",
    "        print('SysCas 1. GPS znacky   :', calibration_data['sys_1st_GPS'])\n",
    "        print('Korekce systémoveho čas:', correction)\n",
    "        print('CorCas ukladani souboru:', calibration_data['cor_file_end'], \"s\")\n",
    "        print('CorCas zacatku souboru :', calibration_data['cor_file_beg'])\n",
    "        print('CorCas 1. GPS znacky   :', calibration_data['cor_1st_GPS'])\n",
    "        plt.plot(met_data)\n",
    "        plt.show()\n",
    "    return calibration_data\n",
    "        "
   ]
  },
  {
   "cell_type": "code",
   "execution_count": 45,
   "metadata": {
    "collapsed": true
   },
   "outputs": [],
   "source": [
    "\n",
    "for i, bolid in enumerate(bolids.result):\n",
    "    print(i,\"==================================\")\n",
    "    print(\"snapshot:\", bolid['url_file_js9'])\n",
    "    bolids.result[i]['time_calib']=timeCalibration(bolid['url_file_raw'])\n",
    "    "
   ]
  },
  {
   "cell_type": "code",
   "execution_count": 46,
   "metadata": {
    "collapsed": true
   },
   "outputs": [],
   "source": [
    "time_offset = {}\n",
    "selected = list(range(0, len(bolids.result)))     # vyber vsech dat\n",
    "\n",
    "selected.remove(0)\n",
    "selected.remove(1)\n",
    "#selected.remove(4)\n",
    "#selected = [0,1,2,3,6]\n",
    "\n",
    "#selected = [3,4,5,6]     #Pokud chcete vybrat konkrétní data, \n",
    "                               #odkomentujte tento řádek a vložte do něj čísla požadovaných dat\n",
    "\n",
    "# time_offset[0] = +0   ## Posun času na stanici.\n",
    "                        # Timto posunete data pro určitou stanici (podle indexu souboru)\n",
    "                        # o určitý počet časových značek (10s intervalů)\n",
    "                        # Kladné číslo posune graf 'nahoru\" \n",
    "time_offset[3]=0.5\n",
    "time_offset[4]=0.5\n",
    "#time_offset[1]=1\n",
    "for i, bolid in enumerate(bolids.result):\n",
    "    if i in selected:\n",
    "        print(i, ',sysT of gps:', bolid['time_calib']['cor_1st_GPS'], ',offset:', bolid['time_calib']['cor_error'], bolid['filename'])"
   ]
  },
  {
   "cell_type": "code",
   "execution_count": 47,
   "metadata": {
    "collapsed": true
   },
   "outputs": [],
   "source": [
    "time_offset = {}\n",
    "selected = list(range(0, len(bolids.result)))     # vyber vsech dat\n",
    "\n",
    "#selected.remove(0)\n",
    "#selected.remove(1)\n",
    "#selected.remove(4)\n",
    "#selected = [0,1,2,3,6]\n",
    "\n",
    "#selected = [3,4,5,6]     #Pokud chcete vybrat konkrétní data, \n",
    "                               #odkomentujte tento řádek a vložte do něj čísla požadovaných dat\n",
    "\n",
    "# time_offset[0] = +0   ## Posun času na stanici.\n",
    "                        # Timto posunete data pro určitou stanici (podle indexu souboru)\n",
    "                        # o určitý počet časových značek (10s intervalů)\n",
    "                        # Kladné číslo posune graf 'nahoru\" \n",
    "time_offset[3]=0.5\n",
    "time_offset[4]=0.5\n",
    "#time_offset[1]=1\n",
    "for i, bolid in enumerate(bolids.result):\n",
    "    if i in selected:\n",
    "        print(i, ',sysT of gps:', bolid['time_calib']['cor_1st_GPS'], ',offset:', bolid['time_calib']['cor_error'], bolid['filename'])"
   ]
  },
  {
   "cell_type": "code",
   "execution_count": 48,
   "metadata": {
    "collapsed": true
   },
   "outputs": [],
   "source": [
    "%matplotlib inline \n",
    "count = len(selected)\n",
    "fig, axis = plt.subplots(1, count, sharex=True, sharey=True, figsize=(20, 10))\n",
    "\n",
    "gps_calib = True\n",
    "minimal_time = None\n",
    "maximal_time = None\n",
    "\n",
    "for i, ax in enumerate(axis):\n",
    "    bolid = bolids.result[selected[i]]\n",
    "    print (i, bolid['time_calib']['cor_file_beg'])\n",
    "    hdulist = fits.open(bolid['url_file_raw'])\n",
    "    met_data = np.abs(np.ravel(hdulist[0].data))\n",
    "    \n",
    "    T_offset = 10*time_offset.get(selected[i], 0)\n",
    "    \n",
    "    if gps_calib:\n",
    "        min_date = bolid['time_calib']['cor_file_beg'].replace(tzinfo=datetime.timezone.utc).timestamp()+T_offset\n",
    "        max_date = bolid['time_calib']['cor_file_end'].replace(tzinfo=datetime.timezone.utc).timestamp()+T_offset\n",
    "    else:\n",
    "        min_date = bolid['time_calib']['sys_file_beg'].replace(tzinfo=datetime.timezone.utc).timestamp()+T_offset\n",
    "        max_date = bolid['time_calib']['sys_file_end'].replace(tzinfo=datetime.timezone.utc).timestamp()+T_offset\n",
    "    array = np.arange(min_date, max_date, (max_date-min_date)/(len(met_data)))\n",
    "    \n",
    "    if not minimal_time: minimal_time = min_date\n",
    "    if not maximal_time: maximal_time = max_date\n",
    "    if min_date < minimal_time: minimal_time = min_date\n",
    "    if max_date > maximal_time: maximal_time = max_date\n",
    "    \n",
    "    ax.set_title(bolid['namesimple'] + \" (\" + str(selected[i])+\")\")\n",
    "    ax.plot(met_data, array)\n",
    "    ax.grid(True)\n",
    "\n",
    "fig.subplots_adjust(hspace=0)\n",
    "print(minimal_time, maximal_time)"
   ]
  },
  {
   "cell_type": "code",
   "execution_count": 49,
   "metadata": {
    "collapsed": true
   },
   "outputs": [],
   "source": [
    "def waterfall(signal, sample_rate=None, bins = 4096 ):\n",
    "    waterfall = recviewer.waterfallize(signal, bins)\n",
    "    waterfall[np.isneginf(waterfall)] = np.nan\n",
    "    wmin, wmax = np.nanmin(waterfall), np.nanmax(waterfall)\n",
    "    return waterfall"
   ]
  },
  {
   "cell_type": "code",
   "execution_count": 50,
   "metadata": {
    "collapsed": true
   },
   "outputs": [],
   "source": [
    "%matplotlib inline \n",
    "#%matplotlib notebook\n",
    "count = len(selected)\n",
    "fig, axis = plt.subplots(1, count, sharex=True, sharey=True, figsize=(20, 10))\n",
    "\n",
    "print(time_offset)\n",
    "fig.suptitle(\"Multibolid %s\" %(multibolid_id))\n",
    "fig.subplots_adjust(hspace=0)\n",
    "plt.set_cmap('hot')\n",
    "for i, ax in enumerate(axis):\n",
    "    bolid = bolids.result[selected[i]]\n",
    "    hdu = fits.open(bolid['url_file_raw'])[0]\n",
    "    flat_data = np.ravel(hdu.data)\n",
    "    \n",
    "    T_offset = datetime.timedelta(seconds = 10*time_offset.get(selected[i], 0))\n",
    "    #print(i, selected[i], bolid['time_calib']['cor_file_beg'], bolid['time_calib']['cor_file_beg']+T_offset, T_offset)\n",
    "    d1 = bolid['time_calib']['cor_file_beg']+T_offset\n",
    "    fds1 = dates.date2num(d1) # converted\n",
    "    d2 = d1 + datetime.timedelta(seconds=hdu.header['NAXIS2']/48000.0/2)\n",
    "    fds2 = dates.date2num(d2)\n",
    "    \n",
    "    arr = waterfall(flat_data[0::2] + 1j * flat_data[1::2], 48000, bins = 4096*4)\n",
    "    ax.imshow(arr,  interpolation='none', aspect='auto',  extent=[-24000, 24000, fds2, fds1])\n",
    "    ax.grid(True)\n",
    "    \n",
    "    ax.set_xlim(13000,13500)\n",
    "    ax.yaxis_date()\n",
    "    date_format = md.DateFormatter('%H:%M:%S')\n",
    "    ax.yaxis.set_major_formatter(date_format)\n",
    "    fig.autofmt_xdate()\n",
    "    ax.set_ylim( datetime.datetime.utcfromtimestamp(minimal_time), datetime.datetime.utcfromtimestamp(maximal_time))\n",
    "    \n",
    "    offset = abs(bolid['time_calib']['cor_error']).microseconds/1000000 + abs(bolid['time_calib']['cor_error']).seconds\n",
    "    if bolid['time_calib']['cor_error'] < datetime.timedelta(seconds=0): offset = -offset\n",
    "    #ax.set_title(bolid['namesimple']+ \" err:\"+str(offset))\n",
    "    ax.set_title(bolid['namesimple'])"
   ]
  },
  {
   "cell_type": "code",
   "execution_count": 51,
   "metadata": {
    "collapsed": true
   },
   "outputs": [],
   "source": [
    "bz = Bolidozor()\n",
    "bolids = bz.getMultibolid(id=multibolid_id)\n",
    "print('Počet detekcí ve skupině je',len(bolids.result))"
   ]
  },
  {
   "cell_type": "code",
   "execution_count": 52,
   "metadata": {
    "collapsed": true
   },
   "outputs": [],
   "source": [
    "print(list(bolids.result[0].keys()))\n",
    "print(\"\")\n",
    "print(bolids.result[0])"
   ]
  },
  {
   "cell_type": "code",
   "execution_count": 53,
   "metadata": {
    "collapsed": true
   },
   "outputs": [],
   "source": [
    "for i, bolid in enumerate(bolids.result):\n",
    "    print(i+1,'z',len(bolids.result))\n",
    "    fits.open(bolid['url_file_raw'])"
   ]
  },
  {
   "cell_type": "code",
   "execution_count": 54,
   "metadata": {
    "collapsed": true
   },
   "outputs": [],
   "source": [
    "def timeCalibration(raw_file, sigma = 15, debug = True):\n",
    "    calibration_data = {}\n",
    "    hdulist = fits.open(raw_file, cache=True)\n",
    "    met_data = np.abs(np.ravel(hdulist[0].data))\n",
    "    clip_val = np.std(met_data)*sigma\n",
    "    plt.axhline(y=clip_val, color='red')\n",
    "    max_val = np.max(met_data)\n",
    "    for i, point in enumerate(met_data):\n",
    "        if point > clip_val:\n",
    "            plt.axvline(x=i, color='red')\n",
    "            ten_sec = 10/(hdulist[0].header['CDELT2']/2/1000.0)\n",
    "            if debug: plt.axvline(x=i+ten_sec, color='green')\n",
    "            break\n",
    "    #file_length = hdulist[0].header['NAXIS2']*hdulist[0].header['CDELT2']/1000.0\n",
    "    file_length = hdulist[0].header['NAXIS2']*1/96000\n",
    "    time_firstGPS = i/2*1/96000\n",
    "    DATE_OBS = datetime.datetime.strptime(hdulist[0].header['DATE-OBS'], \"%Y-%m-%dT%H:%M:%S\" )\n",
    "    DATE = datetime.datetime.strptime(hdulist[0].header['DATE'], \"%Y-%m-%dT%H:%M:%S\" )\n",
    "    \n",
    "    gps = (DATE-datetime.timedelta(seconds=file_length-time_firstGPS)).timestamp()\n",
    "    round_gps = round(gps/10.0)*10\n",
    "    correction = datetime.timedelta(seconds=round_gps-gps)\n",
    "\n",
    "    calibration_data['sys_correction'] = correction\n",
    "    \n",
    "    calibration_data['sys_file_beg'] = DATE-datetime.timedelta(seconds=file_length)\n",
    "    calibration_data['sys_file_end'] = DATE\n",
    "    calibration_data['sys_1st_GPS'] = DATE-datetime.timedelta(seconds=file_length-time_firstGPS)\n",
    "    calibration_data['sys_error'] = DATE-datetime.timedelta(seconds=file_length-time_firstGPS)\n",
    "    \n",
    "    calibration_data['cor_file_beg'] = DATE-datetime.timedelta(seconds=file_length)+correction\n",
    "    calibration_data['cor_file_end'] = DATE+correction\n",
    "    calibration_data['cor_1st_GPS'] = DATE-datetime.timedelta(seconds=file_length-time_firstGPS)+correction\n",
    "    calibration_data['cor_error'] = correction\n",
    "    \n",
    "    if debug:\n",
    "        #DATE_OBS = datetime.datetime.strptime(hdulist[0].header['DATE-OBS'], \"%Y-%m-%dT%H:%M:%S\" )\n",
    "        print(\"Zpracovavam soubor:\", raw_file)\n",
    "        print('delka zaznamu          :', file_length, \"s\")\n",
    "        print('cas prvni vzorku s GPS :', time_firstGPS, \"s\")\n",
    "        print('cas 1. GPS a konec     :', file_length - time_firstGPS, \"s\")\n",
    "        print('SysCas ukladani souboru:', calibration_data['sys_file_end'], \"s\")\n",
    "        print('SysCas zacatku souboru :', calibration_data['sys_file_beg'])\n",
    "        print('SysCas 1. GPS znacky   :', calibration_data['sys_1st_GPS'])\n",
    "        print('Korekce systémoveho čas:', correction)\n",
    "        print('CorCas ukladani souboru:', calibration_data['cor_file_end'], \"s\")\n",
    "        print('CorCas zacatku souboru :', calibration_data['cor_file_beg'])\n",
    "        print('CorCas 1. GPS znacky   :', calibration_data['cor_1st_GPS'])\n",
    "        plt.plot(met_data)\n",
    "        plt.show()\n",
    "    return calibration_data\n",
    "        "
   ]
  },
  {
   "cell_type": "code",
   "execution_count": 55,
   "metadata": {
    "collapsed": true
   },
   "outputs": [],
   "source": [
    "\n",
    "for i, bolid in enumerate(bolids.result):\n",
    "    print(i,\"==================================\")\n",
    "    print(\"snapshot:\", bolid['url_file_js9'])\n",
    "    bolids.result[i]['time_calib']=timeCalibration(bolid['url_file_raw'])\n",
    "    "
   ]
  },
  {
   "cell_type": "code",
   "execution_count": 56,
   "metadata": {
    "collapsed": true
   },
   "outputs": [],
   "source": [
    "time_offset = {}\n",
    "selected = list(range(0, len(bolids.result)))     # vyber vsech dat\n",
    "\n",
    "#selected.remove(0)\n",
    "selected.remove(1)\n",
    "#selected.remove(4)\n",
    "#selected = [0,1,2,3,6]\n",
    "\n",
    "#selected = [3,4,5,6]     #Pokud chcete vybrat konkrétní data, \n",
    "                               #odkomentujte tento řádek a vložte do něj čísla požadovaných dat\n",
    "\n",
    "# time_offset[0] = +0   ## Posun času na stanici.\n",
    "                        # Timto posunete data pro určitou stanici (podle indexu souboru)\n",
    "                        # o určitý počet časových značek (10s intervalů)\n",
    "                        # Kladné číslo posune graf 'nahoru\" \n",
    "time_offset[3]=0.5\n",
    "time_offset[4]=0.5\n",
    "#time_offset[1]=1\n",
    "for i, bolid in enumerate(bolids.result):\n",
    "    if i in selected:\n",
    "        print(i, ',sysT of gps:', bolid['time_calib']['cor_1st_GPS'], ',offset:', bolid['time_calib']['cor_error'], bolid['filename'])"
   ]
  },
  {
   "cell_type": "code",
   "execution_count": 57,
   "metadata": {
    "collapsed": true
   },
   "outputs": [],
   "source": [
    "%matplotlib inline \n",
    "count = len(selected)\n",
    "fig, axis = plt.subplots(1, count, sharex=True, sharey=True, figsize=(20, 10))\n",
    "\n",
    "gps_calib = True\n",
    "minimal_time = None\n",
    "maximal_time = None\n",
    "\n",
    "for i, ax in enumerate(axis):\n",
    "    bolid = bolids.result[selected[i]]\n",
    "    print (i, bolid['time_calib']['cor_file_beg'])\n",
    "    hdulist = fits.open(bolid['url_file_raw'])\n",
    "    met_data = np.abs(np.ravel(hdulist[0].data))\n",
    "    \n",
    "    T_offset = 10*time_offset.get(selected[i], 0)\n",
    "    \n",
    "    if gps_calib:\n",
    "        min_date = bolid['time_calib']['cor_file_beg'].replace(tzinfo=datetime.timezone.utc).timestamp()+T_offset\n",
    "        max_date = bolid['time_calib']['cor_file_end'].replace(tzinfo=datetime.timezone.utc).timestamp()+T_offset\n",
    "    else:\n",
    "        min_date = bolid['time_calib']['sys_file_beg'].replace(tzinfo=datetime.timezone.utc).timestamp()+T_offset\n",
    "        max_date = bolid['time_calib']['sys_file_end'].replace(tzinfo=datetime.timezone.utc).timestamp()+T_offset\n",
    "    array = np.arange(min_date, max_date, (max_date-min_date)/(len(met_data)))\n",
    "    \n",
    "    if not minimal_time: minimal_time = min_date\n",
    "    if not maximal_time: maximal_time = max_date\n",
    "    if min_date < minimal_time: minimal_time = min_date\n",
    "    if max_date > maximal_time: maximal_time = max_date\n",
    "    \n",
    "    ax.set_title(bolid['namesimple'] + \" (\" + str(selected[i])+\")\")\n",
    "    ax.plot(met_data, array)\n",
    "    ax.grid(True)\n",
    "\n",
    "fig.subplots_adjust(hspace=0)\n",
    "print(minimal_time, maximal_time)"
   ]
  },
  {
   "cell_type": "code",
   "execution_count": 58,
   "metadata": {
    "collapsed": true
   },
   "outputs": [],
   "source": [
    "def waterfall(signal, sample_rate=None, bins = 4096 ):\n",
    "    waterfall = recviewer.waterfallize(signal, bins)\n",
    "    waterfall[np.isneginf(waterfall)] = np.nan\n",
    "    wmin, wmax = np.nanmin(waterfall), np.nanmax(waterfall)\n",
    "    return waterfall"
   ]
  },
  {
   "cell_type": "code",
   "execution_count": 59,
   "metadata": {
    "collapsed": true
   },
   "outputs": [],
   "source": [
    "%matplotlib inline \n",
    "#%matplotlib notebook\n",
    "count = len(selected)\n",
    "fig, axis = plt.subplots(1, count, sharex=True, sharey=True, figsize=(20, 10))\n",
    "\n",
    "print(time_offset)\n",
    "fig.suptitle(\"Multibolid %s\" %(multibolid_id))\n",
    "fig.subplots_adjust(hspace=0)\n",
    "plt.set_cmap('hot')\n",
    "for i, ax in enumerate(axis):\n",
    "    bolid = bolids.result[selected[i]]\n",
    "    hdu = fits.open(bolid['url_file_raw'])[0]\n",
    "    flat_data = np.ravel(hdu.data)\n",
    "    \n",
    "    T_offset = datetime.timedelta(seconds = 10*time_offset.get(selected[i], 0))\n",
    "    #print(i, selected[i], bolid['time_calib']['cor_file_beg'], bolid['time_calib']['cor_file_beg']+T_offset, T_offset)\n",
    "    d1 = bolid['time_calib']['cor_file_beg']+T_offset\n",
    "    fds1 = dates.date2num(d1) # converted\n",
    "    d2 = d1 + datetime.timedelta(seconds=hdu.header['NAXIS2']/48000.0/2)\n",
    "    fds2 = dates.date2num(d2)\n",
    "    \n",
    "    arr = waterfall(flat_data[0::2] + 1j * flat_data[1::2], 48000, bins = 4096*4)\n",
    "    ax.imshow(arr,  interpolation='none', aspect='auto',  extent=[-24000, 24000, fds2, fds1])\n",
    "    ax.grid(True)\n",
    "    \n",
    "    ax.set_xlim(13000,13500)\n",
    "    ax.yaxis_date()\n",
    "    date_format = md.DateFormatter('%H:%M:%S')\n",
    "    ax.yaxis.set_major_formatter(date_format)\n",
    "    fig.autofmt_xdate()\n",
    "    ax.set_ylim( datetime.datetime.utcfromtimestamp(minimal_time), datetime.datetime.utcfromtimestamp(maximal_time))\n",
    "    \n",
    "    offset = abs(bolid['time_calib']['cor_error']).microseconds/1000000 + abs(bolid['time_calib']['cor_error']).seconds\n",
    "    if bolid['time_calib']['cor_error'] < datetime.timedelta(seconds=0): offset = -offset\n",
    "    #ax.set_title(bolid['namesimple']+ \" err:\"+str(offset))\n",
    "    ax.set_title(bolid['namesimple'])"
   ]
  },
  {
   "cell_type": "code",
   "execution_count": 60,
   "metadata": {
    "collapsed": true
   },
   "outputs": [],
   "source": [
    "time_offset = {}\n",
    "selected = list(range(0, len(bolids.result)))     # vyber vsech dat\n",
    "\n",
    "#selected.remove(0)\n",
    "selected.remove(1)\n",
    "#selected.remove(4)\n",
    "#selected = [0,1,2,3,6]\n",
    "\n",
    "#selected = [3,4,5,6]     #Pokud chcete vybrat konkrétní data, \n",
    "                               #odkomentujte tento řádek a vložte do něj čísla požadovaných dat\n",
    "\n",
    "# time_offset[0] = +0   ## Posun času na stanici.\n",
    "                        # Timto posunete data pro určitou stanici (podle indexu souboru)\n",
    "                        # o určitý počet časových značek (10s intervalů)\n",
    "                        # Kladné číslo posune graf 'nahoru\" \n",
    "#time_offset[3]=0.5\n",
    "#time_offset[4]=0.5\n",
    "#time_offset[1]=1\n",
    "for i, bolid in enumerate(bolids.result):\n",
    "    if i in selected:\n",
    "        print(i, ',sysT of gps:', bolid['time_calib']['cor_1st_GPS'], ',offset:', bolid['time_calib']['cor_error'], bolid['filename'])"
   ]
  },
  {
   "cell_type": "code",
   "execution_count": 61,
   "metadata": {
    "collapsed": true
   },
   "outputs": [],
   "source": [
    "%matplotlib inline \n",
    "count = len(selected)\n",
    "fig, axis = plt.subplots(1, count, sharex=True, sharey=True, figsize=(20, 10))\n",
    "\n",
    "gps_calib = True\n",
    "minimal_time = None\n",
    "maximal_time = None\n",
    "\n",
    "for i, ax in enumerate(axis):\n",
    "    bolid = bolids.result[selected[i]]\n",
    "    print (i, bolid['time_calib']['cor_file_beg'])\n",
    "    hdulist = fits.open(bolid['url_file_raw'])\n",
    "    met_data = np.abs(np.ravel(hdulist[0].data))\n",
    "    \n",
    "    T_offset = 10*time_offset.get(selected[i], 0)\n",
    "    \n",
    "    if gps_calib:\n",
    "        min_date = bolid['time_calib']['cor_file_beg'].replace(tzinfo=datetime.timezone.utc).timestamp()+T_offset\n",
    "        max_date = bolid['time_calib']['cor_file_end'].replace(tzinfo=datetime.timezone.utc).timestamp()+T_offset\n",
    "    else:\n",
    "        min_date = bolid['time_calib']['sys_file_beg'].replace(tzinfo=datetime.timezone.utc).timestamp()+T_offset\n",
    "        max_date = bolid['time_calib']['sys_file_end'].replace(tzinfo=datetime.timezone.utc).timestamp()+T_offset\n",
    "    array = np.arange(min_date, max_date, (max_date-min_date)/(len(met_data)))\n",
    "    \n",
    "    if not minimal_time: minimal_time = min_date\n",
    "    if not maximal_time: maximal_time = max_date\n",
    "    if min_date < minimal_time: minimal_time = min_date\n",
    "    if max_date > maximal_time: maximal_time = max_date\n",
    "    \n",
    "    ax.set_title(bolid['namesimple'] + \" (\" + str(selected[i])+\")\")\n",
    "    ax.plot(met_data, array)\n",
    "    ax.grid(True)\n",
    "\n",
    "fig.subplots_adjust(hspace=0)\n",
    "print(minimal_time, maximal_time)"
   ]
  },
  {
   "cell_type": "code",
   "execution_count": 62,
   "metadata": {
    "collapsed": true
   },
   "outputs": [],
   "source": [
    "def waterfall(signal, sample_rate=None, bins = 4096 ):\n",
    "    waterfall = recviewer.waterfallize(signal, bins)\n",
    "    waterfall[np.isneginf(waterfall)] = np.nan\n",
    "    wmin, wmax = np.nanmin(waterfall), np.nanmax(waterfall)\n",
    "    return waterfall"
   ]
  },
  {
   "cell_type": "code",
   "execution_count": 63,
   "metadata": {
    "collapsed": true
   },
   "outputs": [],
   "source": [
    "%matplotlib inline \n",
    "#%matplotlib notebook\n",
    "count = len(selected)\n",
    "fig, axis = plt.subplots(1, count, sharex=True, sharey=True, figsize=(20, 10))\n",
    "\n",
    "print(time_offset)\n",
    "fig.suptitle(\"Multibolid %s\" %(multibolid_id))\n",
    "fig.subplots_adjust(hspace=0)\n",
    "plt.set_cmap('hot')\n",
    "for i, ax in enumerate(axis):\n",
    "    bolid = bolids.result[selected[i]]\n",
    "    hdu = fits.open(bolid['url_file_raw'])[0]\n",
    "    flat_data = np.ravel(hdu.data)\n",
    "    \n",
    "    T_offset = datetime.timedelta(seconds = 10*time_offset.get(selected[i], 0))\n",
    "    #print(i, selected[i], bolid['time_calib']['cor_file_beg'], bolid['time_calib']['cor_file_beg']+T_offset, T_offset)\n",
    "    d1 = bolid['time_calib']['cor_file_beg']+T_offset\n",
    "    fds1 = dates.date2num(d1) # converted\n",
    "    d2 = d1 + datetime.timedelta(seconds=hdu.header['NAXIS2']/48000.0/2)\n",
    "    fds2 = dates.date2num(d2)\n",
    "    \n",
    "    arr = waterfall(flat_data[0::2] + 1j * flat_data[1::2], 48000, bins = 4096*4)\n",
    "    ax.imshow(arr,  interpolation='none', aspect='auto',  extent=[-24000, 24000, fds2, fds1])\n",
    "    ax.grid(True)\n",
    "    \n",
    "    ax.set_xlim(13000,13500)\n",
    "    ax.yaxis_date()\n",
    "    date_format = md.DateFormatter('%H:%M:%S')\n",
    "    ax.yaxis.set_major_formatter(date_format)\n",
    "    fig.autofmt_xdate()\n",
    "    ax.set_ylim( datetime.datetime.utcfromtimestamp(minimal_time), datetime.datetime.utcfromtimestamp(maximal_time))\n",
    "    \n",
    "    offset = abs(bolid['time_calib']['cor_error']).microseconds/1000000 + abs(bolid['time_calib']['cor_error']).seconds\n",
    "    if bolid['time_calib']['cor_error'] < datetime.timedelta(seconds=0): offset = -offset\n",
    "    #ax.set_title(bolid['namesimple']+ \" err:\"+str(offset))\n",
    "    ax.set_title(bolid['namesimple'])"
   ]
  },
  {
   "cell_type": "code",
   "execution_count": 64,
   "metadata": {
    "collapsed": true
   },
   "outputs": [],
   "source": [
    "multibolid_id = 1502542"
   ]
  },
  {
   "cell_type": "code",
   "execution_count": 65,
   "metadata": {
    "collapsed": true
   },
   "outputs": [],
   "source": [
    "bz = Bolidozor()\n",
    "bolids = bz.getMultibolid(id=multibolid_id)\n",
    "print('Počet detekcí ve skupině je',len(bolids.result))"
   ]
  },
  {
   "cell_type": "code",
   "execution_count": 66,
   "metadata": {
    "collapsed": true
   },
   "outputs": [],
   "source": [
    "print(list(bolids.result[0].keys()))\n",
    "print(\"\")\n",
    "print(bolids.result[0])"
   ]
  },
  {
   "cell_type": "code",
   "execution_count": 67,
   "metadata": {
    "collapsed": true
   },
   "outputs": [],
   "source": [
    "for i, bolid in enumerate(bolids.result):\n",
    "    print(i+1,'z',len(bolids.result))\n",
    "    fits.open(bolid['url_file_raw'])"
   ]
  },
  {
   "cell_type": "code",
   "execution_count": 68,
   "metadata": {
    "collapsed": true
   },
   "outputs": [],
   "source": [
    "def timeCalibration(raw_file, sigma = 15, debug = True):\n",
    "    calibration_data = {}\n",
    "    hdulist = fits.open(raw_file, cache=True)\n",
    "    met_data = np.abs(np.ravel(hdulist[0].data))\n",
    "    clip_val = np.std(met_data)*sigma\n",
    "    plt.axhline(y=clip_val, color='red')\n",
    "    max_val = np.max(met_data)\n",
    "    for i, point in enumerate(met_data):\n",
    "        if point > clip_val:\n",
    "            plt.axvline(x=i, color='red')\n",
    "            ten_sec = 10/(hdulist[0].header['CDELT2']/2/1000.0)\n",
    "            if debug: plt.axvline(x=i+ten_sec, color='green')\n",
    "            break\n",
    "    #file_length = hdulist[0].header['NAXIS2']*hdulist[0].header['CDELT2']/1000.0\n",
    "    file_length = hdulist[0].header['NAXIS2']*1/96000\n",
    "    time_firstGPS = i/2*1/96000\n",
    "    DATE_OBS = datetime.datetime.strptime(hdulist[0].header['DATE-OBS'], \"%Y-%m-%dT%H:%M:%S\" )\n",
    "    DATE = datetime.datetime.strptime(hdulist[0].header['DATE'], \"%Y-%m-%dT%H:%M:%S\" )\n",
    "    \n",
    "    gps = (DATE-datetime.timedelta(seconds=file_length-time_firstGPS)).timestamp()\n",
    "    round_gps = round(gps/10.0)*10\n",
    "    correction = datetime.timedelta(seconds=round_gps-gps)\n",
    "\n",
    "    calibration_data['sys_correction'] = correction\n",
    "    \n",
    "    calibration_data['sys_file_beg'] = DATE-datetime.timedelta(seconds=file_length)\n",
    "    calibration_data['sys_file_end'] = DATE\n",
    "    calibration_data['sys_1st_GPS'] = DATE-datetime.timedelta(seconds=file_length-time_firstGPS)\n",
    "    calibration_data['sys_error'] = DATE-datetime.timedelta(seconds=file_length-time_firstGPS)\n",
    "    \n",
    "    calibration_data['cor_file_beg'] = DATE-datetime.timedelta(seconds=file_length)+correction\n",
    "    calibration_data['cor_file_end'] = DATE+correction\n",
    "    calibration_data['cor_1st_GPS'] = DATE-datetime.timedelta(seconds=file_length-time_firstGPS)+correction\n",
    "    calibration_data['cor_error'] = correction\n",
    "    \n",
    "    if debug:\n",
    "        #DATE_OBS = datetime.datetime.strptime(hdulist[0].header['DATE-OBS'], \"%Y-%m-%dT%H:%M:%S\" )\n",
    "        print(\"Zpracovavam soubor:\", raw_file)\n",
    "        print('delka zaznamu          :', file_length, \"s\")\n",
    "        print('cas prvni vzorku s GPS :', time_firstGPS, \"s\")\n",
    "        print('cas 1. GPS a konec     :', file_length - time_firstGPS, \"s\")\n",
    "        print('SysCas ukladani souboru:', calibration_data['sys_file_end'], \"s\")\n",
    "        print('SysCas zacatku souboru :', calibration_data['sys_file_beg'])\n",
    "        print('SysCas 1. GPS znacky   :', calibration_data['sys_1st_GPS'])\n",
    "        print('Korekce systémoveho čas:', correction)\n",
    "        print('CorCas ukladani souboru:', calibration_data['cor_file_end'], \"s\")\n",
    "        print('CorCas zacatku souboru :', calibration_data['cor_file_beg'])\n",
    "        print('CorCas 1. GPS znacky   :', calibration_data['cor_1st_GPS'])\n",
    "        plt.plot(met_data)\n",
    "        plt.show()\n",
    "    return calibration_data\n",
    "        "
   ]
  },
  {
   "cell_type": "code",
   "execution_count": 69,
   "metadata": {
    "collapsed": true
   },
   "outputs": [],
   "source": [
    "\n",
    "for i, bolid in enumerate(bolids.result):\n",
    "    print(i,\"==================================\")\n",
    "    print(\"snapshot:\", bolid['url_file_js9'])\n",
    "    bolids.result[i]['time_calib']=timeCalibration(bolid['url_file_raw'])\n",
    "    "
   ]
  },
  {
   "cell_type": "code",
   "execution_count": 70,
   "metadata": {
    "collapsed": true
   },
   "outputs": [],
   "source": [
    "time_offset = {}\n",
    "selected = list(range(0, len(bolids.result)))     # vyber vsech dat\n",
    "\n",
    "#selected.remove(0)\n",
    "selected.remove(1)\n",
    "#selected.remove(4)\n",
    "#selected = [0,1,2,3,6]\n",
    "\n",
    "#selected = [3,4,5,6]     #Pokud chcete vybrat konkrétní data, \n",
    "                               #odkomentujte tento řádek a vložte do něj čísla požadovaných dat\n",
    "\n",
    "# time_offset[0] = +0   ## Posun času na stanici.\n",
    "                        # Timto posunete data pro určitou stanici (podle indexu souboru)\n",
    "                        # o určitý počet časových značek (10s intervalů)\n",
    "                        # Kladné číslo posune graf 'nahoru\" \n",
    "#time_offset[3]=0.5\n",
    "#time_offset[4]=0.5\n",
    "#time_offset[1]=1\n",
    "for i, bolid in enumerate(bolids.result):\n",
    "    if i in selected:\n",
    "        print(i, ',sysT of gps:', bolid['time_calib']['cor_1st_GPS'], ',offset:', bolid['time_calib']['cor_error'], bolid['filename'])"
   ]
  },
  {
   "cell_type": "code",
   "execution_count": 71,
   "metadata": {
    "collapsed": true
   },
   "outputs": [],
   "source": [
    "time_offset = {}\n",
    "selected = list(range(0, len(bolids.result)))     # vyber vsech dat\n",
    "\n",
    "#selected.remove(0)\n",
    "#selected.remove(1)\n",
    "#selected.remove(4)\n",
    "#selected = [0,1,2,3,6]\n",
    "\n",
    "#selected = [3,4,5,6]     #Pokud chcete vybrat konkrétní data, \n",
    "                               #odkomentujte tento řádek a vložte do něj čísla požadovaných dat\n",
    "\n",
    "# time_offset[0] = +0   ## Posun času na stanici.\n",
    "                        # Timto posunete data pro určitou stanici (podle indexu souboru)\n",
    "                        # o určitý počet časových značek (10s intervalů)\n",
    "                        # Kladné číslo posune graf 'nahoru\" \n",
    "#time_offset[3]=0.5\n",
    "#time_offset[4]=0.5\n",
    "#time_offset[1]=1\n",
    "for i, bolid in enumerate(bolids.result):\n",
    "    if i in selected:\n",
    "        print(i, ',sysT of gps:', bolid['time_calib']['cor_1st_GPS'], ',offset:', bolid['time_calib']['cor_error'], bolid['filename'])"
   ]
  },
  {
   "cell_type": "code",
   "execution_count": 72,
   "metadata": {
    "collapsed": true
   },
   "outputs": [],
   "source": [
    "%matplotlib inline \n",
    "count = len(selected)\n",
    "fig, axis = plt.subplots(1, count, sharex=True, sharey=True, figsize=(20, 10))\n",
    "\n",
    "gps_calib = True\n",
    "minimal_time = None\n",
    "maximal_time = None\n",
    "\n",
    "for i, ax in enumerate(axis):\n",
    "    bolid = bolids.result[selected[i]]\n",
    "    print (i, bolid['time_calib']['cor_file_beg'])\n",
    "    hdulist = fits.open(bolid['url_file_raw'])\n",
    "    met_data = np.abs(np.ravel(hdulist[0].data))\n",
    "    \n",
    "    T_offset = 10*time_offset.get(selected[i], 0)\n",
    "    \n",
    "    if gps_calib:\n",
    "        min_date = bolid['time_calib']['cor_file_beg'].replace(tzinfo=datetime.timezone.utc).timestamp()+T_offset\n",
    "        max_date = bolid['time_calib']['cor_file_end'].replace(tzinfo=datetime.timezone.utc).timestamp()+T_offset\n",
    "    else:\n",
    "        min_date = bolid['time_calib']['sys_file_beg'].replace(tzinfo=datetime.timezone.utc).timestamp()+T_offset\n",
    "        max_date = bolid['time_calib']['sys_file_end'].replace(tzinfo=datetime.timezone.utc).timestamp()+T_offset\n",
    "    array = np.arange(min_date, max_date, (max_date-min_date)/(len(met_data)))\n",
    "    \n",
    "    if not minimal_time: minimal_time = min_date\n",
    "    if not maximal_time: maximal_time = max_date\n",
    "    if min_date < minimal_time: minimal_time = min_date\n",
    "    if max_date > maximal_time: maximal_time = max_date\n",
    "    \n",
    "    ax.set_title(bolid['namesimple'] + \" (\" + str(selected[i])+\")\")\n",
    "    ax.plot(met_data, array)\n",
    "    ax.grid(True)\n",
    "\n",
    "fig.subplots_adjust(hspace=0)\n",
    "print(minimal_time, maximal_time)"
   ]
  },
  {
   "cell_type": "code",
   "execution_count": 73,
   "metadata": {
    "collapsed": true
   },
   "outputs": [],
   "source": [
    "def waterfall(signal, sample_rate=None, bins = 4096 ):\n",
    "    waterfall = recviewer.waterfallize(signal, bins)\n",
    "    waterfall[np.isneginf(waterfall)] = np.nan\n",
    "    wmin, wmax = np.nanmin(waterfall), np.nanmax(waterfall)\n",
    "    return waterfall"
   ]
  },
  {
   "cell_type": "code",
   "execution_count": 74,
   "metadata": {
    "collapsed": true
   },
   "outputs": [],
   "source": [
    "%matplotlib inline \n",
    "#%matplotlib notebook\n",
    "count = len(selected)\n",
    "fig, axis = plt.subplots(1, count, sharex=True, sharey=True, figsize=(20, 10))\n",
    "\n",
    "print(time_offset)\n",
    "fig.suptitle(\"Multibolid %s\" %(multibolid_id))\n",
    "fig.subplots_adjust(hspace=0)\n",
    "plt.set_cmap('hot')\n",
    "for i, ax in enumerate(axis):\n",
    "    bolid = bolids.result[selected[i]]\n",
    "    hdu = fits.open(bolid['url_file_raw'])[0]\n",
    "    flat_data = np.ravel(hdu.data)\n",
    "    \n",
    "    T_offset = datetime.timedelta(seconds = 10*time_offset.get(selected[i], 0))\n",
    "    #print(i, selected[i], bolid['time_calib']['cor_file_beg'], bolid['time_calib']['cor_file_beg']+T_offset, T_offset)\n",
    "    d1 = bolid['time_calib']['cor_file_beg']+T_offset\n",
    "    fds1 = dates.date2num(d1) # converted\n",
    "    d2 = d1 + datetime.timedelta(seconds=hdu.header['NAXIS2']/48000.0/2)\n",
    "    fds2 = dates.date2num(d2)\n",
    "    \n",
    "    arr = waterfall(flat_data[0::2] + 1j * flat_data[1::2], 48000, bins = 4096*4)\n",
    "    ax.imshow(arr,  interpolation='none', aspect='auto',  extent=[-24000, 24000, fds2, fds1])\n",
    "    ax.grid(True)\n",
    "    \n",
    "    ax.set_xlim(13000,13500)\n",
    "    ax.yaxis_date()\n",
    "    date_format = md.DateFormatter('%H:%M:%S')\n",
    "    ax.yaxis.set_major_formatter(date_format)\n",
    "    fig.autofmt_xdate()\n",
    "    ax.set_ylim( datetime.datetime.utcfromtimestamp(minimal_time), datetime.datetime.utcfromtimestamp(maximal_time))\n",
    "    \n",
    "    offset = abs(bolid['time_calib']['cor_error']).microseconds/1000000 + abs(bolid['time_calib']['cor_error']).seconds\n",
    "    if bolid['time_calib']['cor_error'] < datetime.timedelta(seconds=0): offset = -offset\n",
    "    #ax.set_title(bolid['namesimple']+ \" err:\"+str(offset))\n",
    "    ax.set_title(bolid['namesimple'])"
   ]
  },
  {
   "cell_type": "code",
   "execution_count": 75,
   "metadata": {
    "collapsed": true
   },
   "outputs": [],
   "source": [
    "multibolid_id = 1487089"
   ]
  },
  {
   "cell_type": "code",
   "execution_count": 76,
   "metadata": {
    "collapsed": true
   },
   "outputs": [],
   "source": [
    "bz = Bolidozor()\n",
    "bolids = bz.getMultibolid(id=multibolid_id)\n",
    "print('Počet detekcí ve skupině je',len(bolids.result))"
   ]
  },
  {
   "cell_type": "code",
   "execution_count": 77,
   "metadata": {
    "collapsed": true
   },
   "outputs": [],
   "source": [
    "print(list(bolids.result[0].keys()))\n",
    "print(\"\")\n",
    "print(bolids.result[0])"
   ]
  },
  {
   "cell_type": "code",
   "execution_count": 78,
   "metadata": {
    "collapsed": true
   },
   "outputs": [],
   "source": [
    "for i, bolid in enumerate(bolids.result):\n",
    "    print(i+1,'z',len(bolids.result))\n",
    "    fits.open(bolid['url_file_raw'])"
   ]
  },
  {
   "cell_type": "code",
   "execution_count": 79,
   "metadata": {
    "collapsed": true
   },
   "outputs": [],
   "source": [
    "def timeCalibration(raw_file, sigma = 15, debug = True):\n",
    "    calibration_data = {}\n",
    "    hdulist = fits.open(raw_file, cache=True)\n",
    "    met_data = np.abs(np.ravel(hdulist[0].data))\n",
    "    clip_val = np.std(met_data)*sigma\n",
    "    plt.axhline(y=clip_val, color='red')\n",
    "    max_val = np.max(met_data)\n",
    "    for i, point in enumerate(met_data):\n",
    "        if point > clip_val:\n",
    "            plt.axvline(x=i, color='red')\n",
    "            ten_sec = 10/(hdulist[0].header['CDELT2']/2/1000.0)\n",
    "            if debug: plt.axvline(x=i+ten_sec, color='green')\n",
    "            break\n",
    "    #file_length = hdulist[0].header['NAXIS2']*hdulist[0].header['CDELT2']/1000.0\n",
    "    file_length = hdulist[0].header['NAXIS2']*1/96000\n",
    "    time_firstGPS = i/2*1/96000\n",
    "    DATE_OBS = datetime.datetime.strptime(hdulist[0].header['DATE-OBS'], \"%Y-%m-%dT%H:%M:%S\" )\n",
    "    DATE = datetime.datetime.strptime(hdulist[0].header['DATE'], \"%Y-%m-%dT%H:%M:%S\" )\n",
    "    \n",
    "    gps = (DATE-datetime.timedelta(seconds=file_length-time_firstGPS)).timestamp()\n",
    "    round_gps = round(gps/10.0)*10\n",
    "    correction = datetime.timedelta(seconds=round_gps-gps)\n",
    "\n",
    "    calibration_data['sys_correction'] = correction\n",
    "    \n",
    "    calibration_data['sys_file_beg'] = DATE-datetime.timedelta(seconds=file_length)\n",
    "    calibration_data['sys_file_end'] = DATE\n",
    "    calibration_data['sys_1st_GPS'] = DATE-datetime.timedelta(seconds=file_length-time_firstGPS)\n",
    "    calibration_data['sys_error'] = DATE-datetime.timedelta(seconds=file_length-time_firstGPS)\n",
    "    \n",
    "    calibration_data['cor_file_beg'] = DATE-datetime.timedelta(seconds=file_length)+correction\n",
    "    calibration_data['cor_file_end'] = DATE+correction\n",
    "    calibration_data['cor_1st_GPS'] = DATE-datetime.timedelta(seconds=file_length-time_firstGPS)+correction\n",
    "    calibration_data['cor_error'] = correction\n",
    "    \n",
    "    if debug:\n",
    "        #DATE_OBS = datetime.datetime.strptime(hdulist[0].header['DATE-OBS'], \"%Y-%m-%dT%H:%M:%S\" )\n",
    "        print(\"Zpracovavam soubor:\", raw_file)\n",
    "        print('delka zaznamu          :', file_length, \"s\")\n",
    "        print('cas prvni vzorku s GPS :', time_firstGPS, \"s\")\n",
    "        print('cas 1. GPS a konec     :', file_length - time_firstGPS, \"s\")\n",
    "        print('SysCas ukladani souboru:', calibration_data['sys_file_end'], \"s\")\n",
    "        print('SysCas zacatku souboru :', calibration_data['sys_file_beg'])\n",
    "        print('SysCas 1. GPS znacky   :', calibration_data['sys_1st_GPS'])\n",
    "        print('Korekce systémoveho čas:', correction)\n",
    "        print('CorCas ukladani souboru:', calibration_data['cor_file_end'], \"s\")\n",
    "        print('CorCas zacatku souboru :', calibration_data['cor_file_beg'])\n",
    "        print('CorCas 1. GPS znacky   :', calibration_data['cor_1st_GPS'])\n",
    "        plt.plot(met_data)\n",
    "        plt.show()\n",
    "    return calibration_data\n",
    "        "
   ]
  },
  {
   "cell_type": "code",
   "execution_count": 80,
   "metadata": {
    "collapsed": true
   },
   "outputs": [],
   "source": [
    "\n",
    "for i, bolid in enumerate(bolids.result):\n",
    "    print(i,\"==================================\")\n",
    "    print(\"snapshot:\", bolid['url_file_js9'])\n",
    "    bolids.result[i]['time_calib']=timeCalibration(bolid['url_file_raw'])\n",
    "    "
   ]
  },
  {
   "cell_type": "code",
   "execution_count": 81,
   "metadata": {
    "collapsed": true
   },
   "outputs": [],
   "source": [
    "time_offset = {}\n",
    "selected = list(range(0, len(bolids.result)))     # vyber vsech dat\n",
    "\n",
    "#selected.remove(0)\n",
    "#selected.remove(1)\n",
    "#selected.remove(4)\n",
    "#selected = [0,1,2,3,6]\n",
    "\n",
    "#selected = [3,4,5,6]     #Pokud chcete vybrat konkrétní data, \n",
    "                               #odkomentujte tento řádek a vložte do něj čísla požadovaných dat\n",
    "\n",
    "# time_offset[0] = +0   ## Posun času na stanici.\n",
    "                        # Timto posunete data pro určitou stanici (podle indexu souboru)\n",
    "                        # o určitý počet časových značek (10s intervalů)\n",
    "                        # Kladné číslo posune graf 'nahoru\" \n",
    "#time_offset[3]=0.5\n",
    "#time_offset[4]=0.5\n",
    "#time_offset[1]=1\n",
    "for i, bolid in enumerate(bolids.result):\n",
    "    if i in selected:\n",
    "        print(i, ',sysT of gps:', bolid['time_calib']['cor_1st_GPS'], ',offset:', bolid['time_calib']['cor_error'], bolid['filename'])"
   ]
  },
  {
   "cell_type": "code",
   "execution_count": 82,
   "metadata": {
    "collapsed": true
   },
   "outputs": [],
   "source": [
    "%matplotlib inline \n",
    "count = len(selected)\n",
    "fig, axis = plt.subplots(1, count, sharex=True, sharey=True, figsize=(20, 10))\n",
    "\n",
    "gps_calib = True\n",
    "minimal_time = None\n",
    "maximal_time = None\n",
    "\n",
    "for i, ax in enumerate(axis):\n",
    "    bolid = bolids.result[selected[i]]\n",
    "    print (i, bolid['time_calib']['cor_file_beg'])\n",
    "    hdulist = fits.open(bolid['url_file_raw'])\n",
    "    met_data = np.abs(np.ravel(hdulist[0].data))\n",
    "    \n",
    "    T_offset = 10*time_offset.get(selected[i], 0)\n",
    "    \n",
    "    if gps_calib:\n",
    "        min_date = bolid['time_calib']['cor_file_beg'].replace(tzinfo=datetime.timezone.utc).timestamp()+T_offset\n",
    "        max_date = bolid['time_calib']['cor_file_end'].replace(tzinfo=datetime.timezone.utc).timestamp()+T_offset\n",
    "    else:\n",
    "        min_date = bolid['time_calib']['sys_file_beg'].replace(tzinfo=datetime.timezone.utc).timestamp()+T_offset\n",
    "        max_date = bolid['time_calib']['sys_file_end'].replace(tzinfo=datetime.timezone.utc).timestamp()+T_offset\n",
    "    array = np.arange(min_date, max_date, (max_date-min_date)/(len(met_data)))\n",
    "    \n",
    "    if not minimal_time: minimal_time = min_date\n",
    "    if not maximal_time: maximal_time = max_date\n",
    "    if min_date < minimal_time: minimal_time = min_date\n",
    "    if max_date > maximal_time: maximal_time = max_date\n",
    "    \n",
    "    ax.set_title(bolid['namesimple'] + \" (\" + str(selected[i])+\")\")\n",
    "    ax.plot(met_data, array)\n",
    "    ax.grid(True)\n",
    "\n",
    "fig.subplots_adjust(hspace=0)\n",
    "print(minimal_time, maximal_time)"
   ]
  },
  {
   "cell_type": "code",
   "execution_count": 83,
   "metadata": {
    "collapsed": true
   },
   "outputs": [],
   "source": [
    "%matplotlib inline \n",
    "count = len(selected)\n",
    "fig, axis = plt.subplots(1, count, sharex=True, sharey=True, figsize=(20, 10))\n",
    "\n",
    "gps_calib = True\n",
    "minimal_time = None\n",
    "maximal_time = None\n",
    "\n",
    "for i, ax in enumerate(axis):\n",
    "    try:\n",
    "        bolid = bolids.result[selected[i]]\n",
    "        print (i, bolid['time_calib']['cor_file_beg'])\n",
    "        hdulist = fits.open(bolid['url_file_raw'])\n",
    "        met_data = np.abs(np.ravel(hdulist[0].data))\n",
    "\n",
    "        T_offset = 10*time_offset.get(selected[i], 0)\n",
    "\n",
    "        if gps_calib:\n",
    "            min_date = bolid['time_calib']['cor_file_beg'].replace(tzinfo=datetime.timezone.utc).timestamp()+T_offset\n",
    "            max_date = bolid['time_calib']['cor_file_end'].replace(tzinfo=datetime.timezone.utc).timestamp()+T_offset\n",
    "        else:\n",
    "            min_date = bolid['time_calib']['sys_file_beg'].replace(tzinfo=datetime.timezone.utc).timestamp()+T_offset\n",
    "            max_date = bolid['time_calib']['sys_file_end'].replace(tzinfo=datetime.timezone.utc).timestamp()+T_offset\n",
    "        array = np.arange(min_date, max_date, (max_date-min_date)/(len(met_data)))\n",
    "\n",
    "        if not minimal_time: minimal_time = min_date\n",
    "        if not maximal_time: maximal_time = max_date\n",
    "        if min_date < minimal_time: minimal_time = min_date\n",
    "        if max_date > maximal_time: maximal_time = max_date\n",
    "\n",
    "        ax.set_title(bolid['namesimple'] + \" (\" + str(selected[i])+\")\")\n",
    "        ax.plot(met_data, array)\n",
    "        ax.grid(True)\n",
    "    except Exception as e:\n",
    "        print e\n",
    "\n",
    "fig.subplots_adjust(hspace=0)\n",
    "print(minimal_time, maximal_time)"
   ]
  },
  {
   "cell_type": "code",
   "execution_count": 84,
   "metadata": {
    "collapsed": true
   },
   "outputs": [],
   "source": [
    "%matplotlib inline \n",
    "count = len(selected)\n",
    "fig, axis = plt.subplots(1, count, sharex=True, sharey=True, figsize=(20, 10))\n",
    "\n",
    "gps_calib = True\n",
    "minimal_time = None\n",
    "maximal_time = None\n",
    "\n",
    "for i, ax in enumerate(axis):\n",
    "    try:\n",
    "        bolid = bolids.result[selected[i]]\n",
    "        print (i, bolid['time_calib']['cor_file_beg'])\n",
    "        hdulist = fits.open(bolid['url_file_raw'])\n",
    "        met_data = np.abs(np.ravel(hdulist[0].data))\n",
    "\n",
    "        T_offset = 10*time_offset.get(selected[i], 0)\n",
    "\n",
    "        if gps_calib:\n",
    "            min_date = bolid['time_calib']['cor_file_beg'].replace(tzinfo=datetime.timezone.utc).timestamp()+T_offset\n",
    "            max_date = bolid['time_calib']['cor_file_end'].replace(tzinfo=datetime.timezone.utc).timestamp()+T_offset\n",
    "        else:\n",
    "            min_date = bolid['time_calib']['sys_file_beg'].replace(tzinfo=datetime.timezone.utc).timestamp()+T_offset\n",
    "            max_date = bolid['time_calib']['sys_file_end'].replace(tzinfo=datetime.timezone.utc).timestamp()+T_offset\n",
    "        array = np.arange(min_date, max_date, (max_date-min_date)/(len(met_data)))\n",
    "\n",
    "        if not minimal_time: minimal_time = min_date\n",
    "        if not maximal_time: maximal_time = max_date\n",
    "        if min_date < minimal_time: minimal_time = min_date\n",
    "        if max_date > maximal_time: maximal_time = max_date\n",
    "\n",
    "        ax.set_title(bolid['namesimple'] + \" (\" + str(selected[i])+\")\")\n",
    "        ax.plot(met_data, array)\n",
    "        ax.grid(True)\n",
    "    except Exception as e:\n",
    "        print(e)\n",
    "\n",
    "fig.subplots_adjust(hspace=0)\n",
    "print(minimal_time, maximal_time)"
   ]
  },
  {
   "cell_type": "code",
   "execution_count": 85,
   "metadata": {
    "collapsed": true
   },
   "outputs": [],
   "source": [
    "def waterfall(signal, sample_rate=None, bins = 4096 ):\n",
    "    waterfall = recviewer.waterfallize(signal, bins)\n",
    "    waterfall[np.isneginf(waterfall)] = np.nan\n",
    "    wmin, wmax = np.nanmin(waterfall), np.nanmax(waterfall)\n",
    "    return waterfall"
   ]
  },
  {
   "cell_type": "code",
   "execution_count": 86,
   "metadata": {
    "collapsed": true
   },
   "outputs": [],
   "source": [
    "%matplotlib inline \n",
    "#%matplotlib notebook\n",
    "count = len(selected)\n",
    "fig, axis = plt.subplots(1, count, sharex=True, sharey=True, figsize=(20, 10))\n",
    "\n",
    "print(time_offset)\n",
    "fig.suptitle(\"Multibolid %s\" %(multibolid_id))\n",
    "fig.subplots_adjust(hspace=0)\n",
    "plt.set_cmap('hot')\n",
    "for i, ax in enumerate(axis):\n",
    "    bolid = bolids.result[selected[i]]\n",
    "    hdu = fits.open(bolid['url_file_raw'])[0]\n",
    "    flat_data = np.ravel(hdu.data)\n",
    "    \n",
    "    T_offset = datetime.timedelta(seconds = 10*time_offset.get(selected[i], 0))\n",
    "    #print(i, selected[i], bolid['time_calib']['cor_file_beg'], bolid['time_calib']['cor_file_beg']+T_offset, T_offset)\n",
    "    d1 = bolid['time_calib']['cor_file_beg']+T_offset\n",
    "    fds1 = dates.date2num(d1) # converted\n",
    "    d2 = d1 + datetime.timedelta(seconds=hdu.header['NAXIS2']/48000.0/2)\n",
    "    fds2 = dates.date2num(d2)\n",
    "    \n",
    "    arr = waterfall(flat_data[0::2] + 1j * flat_data[1::2], 48000, bins = 4096*4)\n",
    "    ax.imshow(arr,  interpolation='none', aspect='auto',  extent=[-24000, 24000, fds2, fds1])\n",
    "    ax.grid(True)\n",
    "    \n",
    "    ax.set_xlim(13000,13500)\n",
    "    ax.yaxis_date()\n",
    "    date_format = md.DateFormatter('%H:%M:%S')\n",
    "    ax.yaxis.set_major_formatter(date_format)\n",
    "    fig.autofmt_xdate()\n",
    "    ax.set_ylim( datetime.datetime.utcfromtimestamp(minimal_time), datetime.datetime.utcfromtimestamp(maximal_time))\n",
    "    \n",
    "    offset = abs(bolid['time_calib']['cor_error']).microseconds/1000000 + abs(bolid['time_calib']['cor_error']).seconds\n",
    "    if bolid['time_calib']['cor_error'] < datetime.timedelta(seconds=0): offset = -offset\n",
    "    #ax.set_title(bolid['namesimple']+ \" err:\"+str(offset))\n",
    "    ax.set_title(bolid['namesimple'])"
   ]
  },
  {
   "cell_type": "code",
   "execution_count": 87,
   "metadata": {
    "collapsed": true
   },
   "outputs": [],
   "source": [
    "multibolid_id = 1426132"
   ]
  },
  {
   "cell_type": "code",
   "execution_count": 88,
   "metadata": {
    "collapsed": true
   },
   "outputs": [],
   "source": [
    "bz = Bolidozor()\n",
    "bolids = bz.getMultibolid(id=multibolid_id)\n",
    "print('Počet detekcí ve skupině je',len(bolids.result))"
   ]
  },
  {
   "cell_type": "code",
   "execution_count": 89,
   "metadata": {
    "collapsed": true
   },
   "outputs": [],
   "source": [
    "print(list(bolids.result[0].keys()))\n",
    "print(\"\")\n",
    "print(bolids.result[0])"
   ]
  },
  {
   "cell_type": "code",
   "execution_count": 90,
   "metadata": {
    "collapsed": true
   },
   "outputs": [],
   "source": [
    "for i, bolid in enumerate(bolids.result):\n",
    "    print(i+1,'z',len(bolids.result))\n",
    "    fits.open(bolid['url_file_raw'])"
   ]
  },
  {
   "cell_type": "code",
   "execution_count": 91,
   "metadata": {
    "collapsed": true
   },
   "outputs": [],
   "source": [
    "def timeCalibration(raw_file, sigma = 15, debug = True):\n",
    "    calibration_data = {}\n",
    "    hdulist = fits.open(raw_file, cache=True)\n",
    "    met_data = np.abs(np.ravel(hdulist[0].data))\n",
    "    clip_val = np.std(met_data)*sigma\n",
    "    plt.axhline(y=clip_val, color='red')\n",
    "    max_val = np.max(met_data)\n",
    "    for i, point in enumerate(met_data):\n",
    "        if point > clip_val:\n",
    "            plt.axvline(x=i, color='red')\n",
    "            ten_sec = 10/(hdulist[0].header['CDELT2']/2/1000.0)\n",
    "            if debug: plt.axvline(x=i+ten_sec, color='green')\n",
    "            break\n",
    "    #file_length = hdulist[0].header['NAXIS2']*hdulist[0].header['CDELT2']/1000.0\n",
    "    file_length = hdulist[0].header['NAXIS2']*1/96000\n",
    "    time_firstGPS = i/2*1/96000\n",
    "    DATE_OBS = datetime.datetime.strptime(hdulist[0].header['DATE-OBS'], \"%Y-%m-%dT%H:%M:%S\" )\n",
    "    DATE = datetime.datetime.strptime(hdulist[0].header['DATE'], \"%Y-%m-%dT%H:%M:%S\" )\n",
    "    \n",
    "    gps = (DATE-datetime.timedelta(seconds=file_length-time_firstGPS)).timestamp()\n",
    "    round_gps = round(gps/10.0)*10\n",
    "    correction = datetime.timedelta(seconds=round_gps-gps)\n",
    "\n",
    "    calibration_data['sys_correction'] = correction\n",
    "    \n",
    "    calibration_data['sys_file_beg'] = DATE-datetime.timedelta(seconds=file_length)\n",
    "    calibration_data['sys_file_end'] = DATE\n",
    "    calibration_data['sys_1st_GPS'] = DATE-datetime.timedelta(seconds=file_length-time_firstGPS)\n",
    "    calibration_data['sys_error'] = DATE-datetime.timedelta(seconds=file_length-time_firstGPS)\n",
    "    \n",
    "    calibration_data['cor_file_beg'] = DATE-datetime.timedelta(seconds=file_length)+correction\n",
    "    calibration_data['cor_file_end'] = DATE+correction\n",
    "    calibration_data['cor_1st_GPS'] = DATE-datetime.timedelta(seconds=file_length-time_firstGPS)+correction\n",
    "    calibration_data['cor_error'] = correction\n",
    "    \n",
    "    if debug:\n",
    "        #DATE_OBS = datetime.datetime.strptime(hdulist[0].header['DATE-OBS'], \"%Y-%m-%dT%H:%M:%S\" )\n",
    "        print(\"Zpracovavam soubor:\", raw_file)\n",
    "        print('delka zaznamu          :', file_length, \"s\")\n",
    "        print('cas prvni vzorku s GPS :', time_firstGPS, \"s\")\n",
    "        print('cas 1. GPS a konec     :', file_length - time_firstGPS, \"s\")\n",
    "        print('SysCas ukladani souboru:', calibration_data['sys_file_end'], \"s\")\n",
    "        print('SysCas zacatku souboru :', calibration_data['sys_file_beg'])\n",
    "        print('SysCas 1. GPS znacky   :', calibration_data['sys_1st_GPS'])\n",
    "        print('Korekce systémoveho čas:', correction)\n",
    "        print('CorCas ukladani souboru:', calibration_data['cor_file_end'], \"s\")\n",
    "        print('CorCas zacatku souboru :', calibration_data['cor_file_beg'])\n",
    "        print('CorCas 1. GPS znacky   :', calibration_data['cor_1st_GPS'])\n",
    "        plt.plot(met_data)\n",
    "        plt.show()\n",
    "    return calibration_data\n",
    "        "
   ]
  },
  {
   "cell_type": "code",
   "execution_count": 92,
   "metadata": {
    "collapsed": true
   },
   "outputs": [],
   "source": [
    "\n",
    "for i, bolid in enumerate(bolids.result):\n",
    "    print(i,\"==================================\")\n",
    "    print(\"snapshot:\", bolid['url_file_js9'])\n",
    "    bolids.result[i]['time_calib']=timeCalibration(bolid['url_file_raw'])\n",
    "    "
   ]
  },
  {
   "cell_type": "code",
   "execution_count": 93,
   "metadata": {
    "collapsed": true
   },
   "outputs": [],
   "source": [
    "time_offset = {}\n",
    "selected = list(range(0, len(bolids.result)))     # vyber vsech dat\n",
    "\n",
    "#selected.remove(0)\n",
    "#selected.remove(1)\n",
    "#selected.remove(4)\n",
    "#selected = [0,1,2,3,6]\n",
    "\n",
    "#selected = [3,4,5,6]     #Pokud chcete vybrat konkrétní data, \n",
    "                               #odkomentujte tento řádek a vložte do něj čísla požadovaných dat\n",
    "\n",
    "# time_offset[0] = +0   ## Posun času na stanici.\n",
    "                        # Timto posunete data pro určitou stanici (podle indexu souboru)\n",
    "                        # o určitý počet časových značek (10s intervalů)\n",
    "                        # Kladné číslo posune graf 'nahoru\" \n",
    "#time_offset[3]=0.5\n",
    "#time_offset[4]=0.5\n",
    "#time_offset[1]=1\n",
    "for i, bolid in enumerate(bolids.result):\n",
    "    if i in selected:\n",
    "        print(i, ',sysT of gps:', bolid['time_calib']['cor_1st_GPS'], ',offset:', bolid['time_calib']['cor_error'], bolid['filename'])"
   ]
  },
  {
   "cell_type": "code",
   "execution_count": 94,
   "metadata": {
    "collapsed": true
   },
   "outputs": [],
   "source": [
    "%matplotlib inline \n",
    "count = len(selected)\n",
    "fig, axis = plt.subplots(1, count, sharex=True, sharey=True, figsize=(20, 10))\n",
    "\n",
    "gps_calib = True\n",
    "minimal_time = None\n",
    "maximal_time = None\n",
    "\n",
    "for i, ax in enumerate(axis):\n",
    "    try:\n",
    "        bolid = bolids.result[selected[i]]\n",
    "        print (i, bolid['time_calib']['cor_file_beg'])\n",
    "        hdulist = fits.open(bolid['url_file_raw'])\n",
    "        met_data = np.abs(np.ravel(hdulist[0].data))\n",
    "\n",
    "        T_offset = 10*time_offset.get(selected[i], 0)\n",
    "\n",
    "        if gps_calib:\n",
    "            min_date = bolid['time_calib']['cor_file_beg'].replace(tzinfo=datetime.timezone.utc).timestamp()+T_offset\n",
    "            max_date = bolid['time_calib']['cor_file_end'].replace(tzinfo=datetime.timezone.utc).timestamp()+T_offset\n",
    "        else:\n",
    "            min_date = bolid['time_calib']['sys_file_beg'].replace(tzinfo=datetime.timezone.utc).timestamp()+T_offset\n",
    "            max_date = bolid['time_calib']['sys_file_end'].replace(tzinfo=datetime.timezone.utc).timestamp()+T_offset\n",
    "        array = np.arange(min_date, max_date, (max_date-min_date)/(len(met_data)))\n",
    "\n",
    "        if not minimal_time: minimal_time = min_date\n",
    "        if not maximal_time: maximal_time = max_date\n",
    "        if min_date < minimal_time: minimal_time = min_date\n",
    "        if max_date > maximal_time: maximal_time = max_date\n",
    "\n",
    "        ax.set_title(bolid['namesimple'] + \" (\" + str(selected[i])+\")\")\n",
    "        ax.plot(met_data, array)\n",
    "        ax.grid(True)\n",
    "    except Exception as e:\n",
    "        print(e)\n",
    "\n",
    "fig.subplots_adjust(hspace=0)\n",
    "print(minimal_time, maximal_time)"
   ]
  },
  {
   "cell_type": "code",
   "execution_count": 95,
   "metadata": {
    "collapsed": true
   },
   "outputs": [],
   "source": [
    "def waterfall(signal, sample_rate=None, bins = 4096 ):\n",
    "    waterfall = recviewer.waterfallize(signal, bins)\n",
    "    waterfall[np.isneginf(waterfall)] = np.nan\n",
    "    wmin, wmax = np.nanmin(waterfall), np.nanmax(waterfall)\n",
    "    return waterfall"
   ]
  },
  {
   "cell_type": "code",
   "execution_count": 96,
   "metadata": {
    "collapsed": true
   },
   "outputs": [],
   "source": [
    "%matplotlib inline \n",
    "#%matplotlib notebook\n",
    "count = len(selected)\n",
    "fig, axis = plt.subplots(1, count, sharex=True, sharey=True, figsize=(20, 10))\n",
    "\n",
    "print(time_offset)\n",
    "fig.suptitle(\"Multibolid %s\" %(multibolid_id))\n",
    "fig.subplots_adjust(hspace=0)\n",
    "plt.set_cmap('hot')\n",
    "for i, ax in enumerate(axis):\n",
    "    bolid = bolids.result[selected[i]]\n",
    "    hdu = fits.open(bolid['url_file_raw'])[0]\n",
    "    flat_data = np.ravel(hdu.data)\n",
    "    \n",
    "    T_offset = datetime.timedelta(seconds = 10*time_offset.get(selected[i], 0))\n",
    "    #print(i, selected[i], bolid['time_calib']['cor_file_beg'], bolid['time_calib']['cor_file_beg']+T_offset, T_offset)\n",
    "    d1 = bolid['time_calib']['cor_file_beg']+T_offset\n",
    "    fds1 = dates.date2num(d1) # converted\n",
    "    d2 = d1 + datetime.timedelta(seconds=hdu.header['NAXIS2']/48000.0/2)\n",
    "    fds2 = dates.date2num(d2)\n",
    "    \n",
    "    arr = waterfall(flat_data[0::2] + 1j * flat_data[1::2], 48000, bins = 4096*4)\n",
    "    ax.imshow(arr,  interpolation='none', aspect='auto',  extent=[-24000, 24000, fds2, fds1])\n",
    "    ax.grid(True)\n",
    "    \n",
    "    ax.set_xlim(13000,13500)\n",
    "    ax.yaxis_date()\n",
    "    date_format = md.DateFormatter('%H:%M:%S')\n",
    "    ax.yaxis.set_major_formatter(date_format)\n",
    "    fig.autofmt_xdate()\n",
    "    ax.set_ylim( datetime.datetime.utcfromtimestamp(minimal_time), datetime.datetime.utcfromtimestamp(maximal_time))\n",
    "    \n",
    "    offset = abs(bolid['time_calib']['cor_error']).microseconds/1000000 + abs(bolid['time_calib']['cor_error']).seconds\n",
    "    if bolid['time_calib']['cor_error'] < datetime.timedelta(seconds=0): offset = -offset\n",
    "    #ax.set_title(bolid['namesimple']+ \" err:\"+str(offset))\n",
    "    ax.set_title(bolid['namesimple'])"
   ]
  },
  {
   "cell_type": "code",
   "execution_count": 97,
   "metadata": {
    "collapsed": true
   },
   "outputs": [],
   "source": [
    "def timeCalibration(raw_file, sigma = 15, debug = True):\n",
    "    calibration_data = {}\n",
    "    hdulist = fits.open(raw_file, cache=True)\n",
    "    met_data = np.abs(np.ravel(hdulist[0].data))\n",
    "    clip_val = np.std(met_data)*sigma\n",
    "    plt.axhline(y=clip_val, color='red')\n",
    "    max_val = np.max(met_data)\n",
    "    for i, point in enumerate(met_data):\n",
    "        if point > clip_val:\n",
    "            plt.axvline(x=i, color='red')\n",
    "            ten_sec = 10/(hdulist[0].header['CDELT2']/2/1000.0)\n",
    "            if debug: plt.axvline(x=i+ten_sec, color='green')\n",
    "            break\n",
    "    #file_length = hdulist[0].header['NAXIS2']*hdulist[0].header['CDELT2']/1000.0\n",
    "    file_length = hdulist[0].header['NAXIS2']*1/96000\n",
    "    time_firstGPS = i/2*1/96000\n",
    "    DATE_OBS = datetime.datetime.strptime(hdulist[0].header['DATE-OBS'], \"%Y-%m-%dT%H:%M:%S\" )\n",
    "    DATE = datetime.datetime.strptime(hdulist[0].header['DATE'], \"%Y-%m-%dT%H:%M:%S\" )\n",
    "    \n",
    "    gps = (DATE-datetime.timedelta(seconds=file_length-time_firstGPS)).timestamp()\n",
    "    round_gps = round(gps/10.0)*10\n",
    "    correction = datetime.timedelta(seconds=round_gps-gps)\n",
    "    \n",
    "    calibration_data['quality'] = 100\n",
    "    if clip_val > 0.9:  calibration_data['quality'] = 0\n",
    "        \n",
    "    \n",
    "    calibration_data['sys_correction'] = correction\n",
    "    \n",
    "    calibration_data['sys_file_beg'] = DATE-datetime.timedelta(seconds=file_length)\n",
    "    calibration_data['sys_file_end'] = DATE\n",
    "    calibration_data['sys_1st_GPS'] = DATE-datetime.timedelta(seconds=file_length-time_firstGPS)\n",
    "    calibration_data['sys_error'] = DATE-datetime.timedelta(seconds=file_length-time_firstGPS)\n",
    "    \n",
    "    calibration_data['cor_file_beg'] = DATE-datetime.timedelta(seconds=file_length)+correction\n",
    "    calibration_data['cor_file_end'] = DATE+correction\n",
    "    calibration_data['cor_1st_GPS'] = DATE-datetime.timedelta(seconds=file_length-time_firstGPS)+correction\n",
    "    calibration_data['cor_error'] = correction\n",
    "    \n",
    "    if debug:\n",
    "        #DATE_OBS = datetime.datetime.strptime(hdulist[0].header['DATE-OBS'], \"%Y-%m-%dT%H:%M:%S\" )\n",
    "        print(\"Zpracovavam soubor:\", raw_file)\n",
    "        print('delka zaznamu          :', file_length, \"s\")\n",
    "        print('cas prvni vzorku s GPS :', time_firstGPS, \"s\")\n",
    "        print('cas 1. GPS a konec     :', file_length - time_firstGPS, \"s\")\n",
    "        print('SysCas ukladani souboru:', calibration_data['sys_file_end'], \"s\")\n",
    "        print('SysCas zacatku souboru :', calibration_data['sys_file_beg'])\n",
    "        print('SysCas 1. GPS znacky   :', calibration_data['sys_1st_GPS'])\n",
    "        print('Korekce systémoveho čas:', correction)\n",
    "        print('CorCas ukladani souboru:', calibration_data['cor_file_end'], \"s\")\n",
    "        print('CorCas zacatku souboru :', calibration_data['cor_file_beg'])\n",
    "        print('CorCas 1. GPS znacky   :', calibration_data['cor_1st_GPS'])\n",
    "        print('Kvalita souboru        :', calibration_data['quality'])\n",
    "        plt.plot(met_data)\n",
    "        plt.show()\n",
    "    return calibration_data\n",
    "        "
   ]
  },
  {
   "cell_type": "code",
   "execution_count": 98,
   "metadata": {
    "collapsed": true
   },
   "outputs": [],
   "source": [
    "\n",
    "for i, bolid in enumerate(bolids.result):\n",
    "    print(i,\"==================================\")\n",
    "    print(\"snapshot:\", bolid['url_file_js9'])\n",
    "    bolids.result[i]['time_calib']=timeCalibration(bolid['url_file_raw'])\n",
    "    "
   ]
  },
  {
   "cell_type": "code",
   "execution_count": 99,
   "metadata": {
    "collapsed": true
   },
   "outputs": [],
   "source": [
    "time_offset = {}\n",
    "selected = list(range(0, len(bolids.result)))     # vyber vsech dat\n",
    "\n",
    "#selected.remove(0)\n",
    "#selected.remove(1)\n",
    "#selected.remove(4)\n",
    "#selected = [0,1,2,3,6]\n",
    "\n",
    "#selected = [3,4,5,6]     #Pokud chcete vybrat konkrétní data, \n",
    "                               #odkomentujte tento řádek a vložte do něj čísla požadovaných dat\n",
    "\n",
    "# time_offset[0] = +0   ## Posun času na stanici.\n",
    "                        # Timto posunete data pro určitou stanici (podle indexu souboru)\n",
    "                        # o určitý počet časových značek (10s intervalů)\n",
    "                        # Kladné číslo posune graf 'nahoru\" \n",
    "#time_offset[3]=0.5\n",
    "#time_offset[4]=0.5\n",
    "#time_offset[1]=1\n",
    "for i, bolid in enumerate(bolids.result):\n",
    "    if i in selected and bolid['time_calib']['quality'] > 50:\n",
    "        print(i, ',sysT of gps:', bolid['time_calib']['cor_1st_GPS'], ',offset:', bolid['time_calib']['cor_error'], bolid['filename'])"
   ]
  },
  {
   "cell_type": "code",
   "execution_count": 100,
   "metadata": {
    "collapsed": true
   },
   "outputs": [],
   "source": [
    "%matplotlib inline \n",
    "count = len(selected)\n",
    "fig, axis = plt.subplots(1, count, sharex=True, sharey=True, figsize=(20, 10))\n",
    "\n",
    "gps_calib = True\n",
    "minimal_time = None\n",
    "maximal_time = None\n",
    "\n",
    "for i, ax in enumerate(axis):\n",
    "    try:\n",
    "        bolid = bolids.result[selected[i]]\n",
    "        print (i, bolid['time_calib']['cor_file_beg'])\n",
    "        hdulist = fits.open(bolid['url_file_raw'])\n",
    "        met_data = np.abs(np.ravel(hdulist[0].data))\n",
    "\n",
    "        T_offset = 10*time_offset.get(selected[i], 0)\n",
    "\n",
    "        if gps_calib:\n",
    "            min_date = bolid['time_calib']['cor_file_beg'].replace(tzinfo=datetime.timezone.utc).timestamp()+T_offset\n",
    "            max_date = bolid['time_calib']['cor_file_end'].replace(tzinfo=datetime.timezone.utc).timestamp()+T_offset\n",
    "        else:\n",
    "            min_date = bolid['time_calib']['sys_file_beg'].replace(tzinfo=datetime.timezone.utc).timestamp()+T_offset\n",
    "            max_date = bolid['time_calib']['sys_file_end'].replace(tzinfo=datetime.timezone.utc).timestamp()+T_offset\n",
    "        array = np.arange(min_date, max_date, (max_date-min_date)/(len(met_data)))\n",
    "\n",
    "        if not minimal_time: minimal_time = min_date\n",
    "        if not maximal_time: maximal_time = max_date\n",
    "        if min_date < minimal_time: minimal_time = min_date\n",
    "        if max_date > maximal_time: maximal_time = max_date\n",
    "\n",
    "        ax.set_title(bolid['namesimple'] + \" (\" + str(selected[i])+\")\")\n",
    "        ax.plot(met_data, array)\n",
    "        ax.grid(True)\n",
    "    except Exception as e:\n",
    "        print(e)\n",
    "\n",
    "fig.subplots_adjust(hspace=0)\n",
    "print(minimal_time, maximal_time)"
   ]
  },
  {
   "cell_type": "code",
   "execution_count": 101,
   "metadata": {
    "collapsed": true
   },
   "outputs": [],
   "source": [
    "def waterfall(signal, sample_rate=None, bins = 4096 ):\n",
    "    waterfall = recviewer.waterfallize(signal, bins)\n",
    "    waterfall[np.isneginf(waterfall)] = np.nan\n",
    "    wmin, wmax = np.nanmin(waterfall), np.nanmax(waterfall)\n",
    "    return waterfall"
   ]
  },
  {
   "cell_type": "code",
   "execution_count": 102,
   "metadata": {
    "collapsed": true
   },
   "outputs": [],
   "source": [
    "%matplotlib inline \n",
    "#%matplotlib notebook\n",
    "count = len(selected)\n",
    "fig, axis = plt.subplots(1, count, sharex=True, sharey=True, figsize=(20, 10))\n",
    "\n",
    "print(time_offset)\n",
    "fig.suptitle(\"Multibolid %s\" %(multibolid_id))\n",
    "fig.subplots_adjust(hspace=0)\n",
    "plt.set_cmap('hot')\n",
    "for i, ax in enumerate(axis):\n",
    "    bolid = bolids.result[selected[i]]\n",
    "    hdu = fits.open(bolid['url_file_raw'])[0]\n",
    "    flat_data = np.ravel(hdu.data)\n",
    "    \n",
    "    T_offset = datetime.timedelta(seconds = 10*time_offset.get(selected[i], 0))\n",
    "    #print(i, selected[i], bolid['time_calib']['cor_file_beg'], bolid['time_calib']['cor_file_beg']+T_offset, T_offset)\n",
    "    d1 = bolid['time_calib']['cor_file_beg']+T_offset\n",
    "    fds1 = dates.date2num(d1) # converted\n",
    "    d2 = d1 + datetime.timedelta(seconds=hdu.header['NAXIS2']/48000.0/2)\n",
    "    fds2 = dates.date2num(d2)\n",
    "    \n",
    "    arr = waterfall(flat_data[0::2] + 1j * flat_data[1::2], 48000, bins = 4096*4)\n",
    "    ax.imshow(arr,  interpolation='none', aspect='auto',  extent=[-24000, 24000, fds2, fds1])\n",
    "    ax.grid(True)\n",
    "    \n",
    "    ax.set_xlim(13000,13500)\n",
    "    ax.yaxis_date()\n",
    "    date_format = md.DateFormatter('%H:%M:%S')\n",
    "    ax.yaxis.set_major_formatter(date_format)\n",
    "    fig.autofmt_xdate()\n",
    "    ax.set_ylim( datetime.datetime.utcfromtimestamp(minimal_time), datetime.datetime.utcfromtimestamp(maximal_time))\n",
    "    \n",
    "    offset = abs(bolid['time_calib']['cor_error']).microseconds/1000000 + abs(bolid['time_calib']['cor_error']).seconds\n",
    "    if bolid['time_calib']['cor_error'] < datetime.timedelta(seconds=0): offset = -offset\n",
    "    #ax.set_title(bolid['namesimple']+ \" err:\"+str(offset))\n",
    "    ax.set_title(bolid['namesimple'])"
   ]
  },
  {
   "cell_type": "code",
   "execution_count": 103,
   "metadata": {
    "collapsed": true
   },
   "outputs": [],
   "source": [
    "time_offset = {}\n",
    "selected = list(range(0, len(bolids.result)))     # vyber vsech dat\n",
    "\n",
    "#selected.remove(0)\n",
    "#selected.remove(1)\n",
    "#selected.remove(4)\n",
    "#selected = [0,1,2,3,6]\n",
    "\n",
    "#selected = [3,4,5,6]     #Pokud chcete vybrat konkrétní data, \n",
    "                               #odkomentujte tento řádek a vložte do něj čísla požadovaných dat\n",
    "\n",
    "# time_offset[0] = +0   ## Posun času na stanici.\n",
    "                        # Timto posunete data pro určitou stanici (podle indexu souboru)\n",
    "                        # o určitý počet časových značek (10s intervalů)\n",
    "                        # Kladné číslo posune graf 'nahoru\" \n",
    "#time_offset[3]=0.5\n",
    "#time_offset[4]=0.5\n",
    "#time_offset[1]=1\n",
    "for i, bolid in enumerate(bolids.result):\n",
    "    if bolid['time_calib']['quality'] < 50:\n",
    "        selected.remove(i)\n",
    "    if i in selected:\n",
    "        print(i, ',sysT of gps:', bolid['time_calib']['cor_1st_GPS'], ',offset:', bolid['time_calib']['cor_error'], bolid['filename'])"
   ]
  },
  {
   "cell_type": "code",
   "execution_count": 104,
   "metadata": {
    "collapsed": true
   },
   "outputs": [],
   "source": [
    "%matplotlib inline \n",
    "count = len(selected)\n",
    "fig, axis = plt.subplots(1, count, sharex=True, sharey=True, figsize=(20, 10))\n",
    "\n",
    "gps_calib = True\n",
    "minimal_time = None\n",
    "maximal_time = None\n",
    "\n",
    "for i, ax in enumerate(axis):\n",
    "    try:\n",
    "        bolid = bolids.result[selected[i]]\n",
    "        print (i, bolid['time_calib']['cor_file_beg'])\n",
    "        hdulist = fits.open(bolid['url_file_raw'])\n",
    "        met_data = np.abs(np.ravel(hdulist[0].data))\n",
    "\n",
    "        T_offset = 10*time_offset.get(selected[i], 0)\n",
    "\n",
    "        if gps_calib:\n",
    "            min_date = bolid['time_calib']['cor_file_beg'].replace(tzinfo=datetime.timezone.utc).timestamp()+T_offset\n",
    "            max_date = bolid['time_calib']['cor_file_end'].replace(tzinfo=datetime.timezone.utc).timestamp()+T_offset\n",
    "        else:\n",
    "            min_date = bolid['time_calib']['sys_file_beg'].replace(tzinfo=datetime.timezone.utc).timestamp()+T_offset\n",
    "            max_date = bolid['time_calib']['sys_file_end'].replace(tzinfo=datetime.timezone.utc).timestamp()+T_offset\n",
    "        array = np.arange(min_date, max_date, (max_date-min_date)/(len(met_data)))\n",
    "\n",
    "        if not minimal_time: minimal_time = min_date\n",
    "        if not maximal_time: maximal_time = max_date\n",
    "        if min_date < minimal_time: minimal_time = min_date\n",
    "        if max_date > maximal_time: maximal_time = max_date\n",
    "\n",
    "        ax.set_title(bolid['namesimple'] + \" (\" + str(selected[i])+\")\")\n",
    "        ax.plot(met_data, array)\n",
    "        ax.grid(True)\n",
    "    except Exception as e:\n",
    "        print(e)\n",
    "\n",
    "fig.subplots_adjust(hspace=0)\n",
    "print(minimal_time, maximal_time)"
   ]
  },
  {
   "cell_type": "code",
   "execution_count": 105,
   "metadata": {
    "collapsed": true
   },
   "outputs": [],
   "source": [
    "def waterfall(signal, sample_rate=None, bins = 4096 ):\n",
    "    waterfall = recviewer.waterfallize(signal, bins)\n",
    "    waterfall[np.isneginf(waterfall)] = np.nan\n",
    "    wmin, wmax = np.nanmin(waterfall), np.nanmax(waterfall)\n",
    "    return waterfall"
   ]
  },
  {
   "cell_type": "code",
   "execution_count": 106,
   "metadata": {
    "collapsed": true
   },
   "outputs": [],
   "source": [
    "%matplotlib inline \n",
    "#%matplotlib notebook\n",
    "count = len(selected)\n",
    "fig, axis = plt.subplots(1, count, sharex=True, sharey=True, figsize=(20, 10))\n",
    "\n",
    "print(time_offset)\n",
    "fig.suptitle(\"Multibolid %s\" %(multibolid_id))\n",
    "fig.subplots_adjust(hspace=0)\n",
    "plt.set_cmap('hot')\n",
    "for i, ax in enumerate(axis):\n",
    "    bolid = bolids.result[selected[i]]\n",
    "    hdu = fits.open(bolid['url_file_raw'])[0]\n",
    "    flat_data = np.ravel(hdu.data)\n",
    "    \n",
    "    T_offset = datetime.timedelta(seconds = 10*time_offset.get(selected[i], 0))\n",
    "    #print(i, selected[i], bolid['time_calib']['cor_file_beg'], bolid['time_calib']['cor_file_beg']+T_offset, T_offset)\n",
    "    d1 = bolid['time_calib']['cor_file_beg']+T_offset\n",
    "    fds1 = dates.date2num(d1) # converted\n",
    "    d2 = d1 + datetime.timedelta(seconds=hdu.header['NAXIS2']/48000.0/2)\n",
    "    fds2 = dates.date2num(d2)\n",
    "    \n",
    "    arr = waterfall(flat_data[0::2] + 1j * flat_data[1::2], 48000, bins = 4096*4)\n",
    "    ax.imshow(arr,  interpolation='none', aspect='auto',  extent=[-24000, 24000, fds2, fds1])\n",
    "    ax.grid(True)\n",
    "    \n",
    "    ax.set_xlim(13000,13500)\n",
    "    ax.yaxis_date()\n",
    "    date_format = md.DateFormatter('%H:%M:%S')\n",
    "    ax.yaxis.set_major_formatter(date_format)\n",
    "    fig.autofmt_xdate()\n",
    "    ax.set_ylim( datetime.datetime.utcfromtimestamp(minimal_time), datetime.datetime.utcfromtimestamp(maximal_time))\n",
    "    \n",
    "    offset = abs(bolid['time_calib']['cor_error']).microseconds/1000000 + abs(bolid['time_calib']['cor_error']).seconds\n",
    "    if bolid['time_calib']['cor_error'] < datetime.timedelta(seconds=0): offset = -offset\n",
    "    #ax.set_title(bolid['namesimple']+ \" err:\"+str(offset))\n",
    "    ax.set_title(bolid['namesimple'])"
   ]
  },
  {
   "cell_type": "code",
   "execution_count": 107,
   "metadata": {
    "collapsed": true
   },
   "outputs": [],
   "source": [
    "%matplotlib inline \n",
    "#%matplotlib notebook\n",
    "count = len(selected)\n",
    "fig, axis = plt.subplots(1, count, sharex=True, sharey=True, figsize=(20, 10))\n",
    "\n",
    "print(time_offset)\n",
    "fig.suptitle(\"Multibolid %s (%s)\" %(datetime.datetime.utcfromtimestamp(minimal_time).date(), multibolid_id))\n",
    "fig.subplots_adjust(hspace=0)\n",
    "plt.set_cmap('hot')\n",
    "for i, ax in enumerate(axis):\n",
    "    bolid = bolids.result[selected[i]]\n",
    "    hdu = fits.open(bolid['url_file_raw'])[0]\n",
    "    flat_data = np.ravel(hdu.data)\n",
    "    \n",
    "    T_offset = datetime.timedelta(seconds = 10*time_offset.get(selected[i], 0))\n",
    "    #print(i, selected[i], bolid['time_calib']['cor_file_beg'], bolid['time_calib']['cor_file_beg']+T_offset, T_offset)\n",
    "    d1 = bolid['time_calib']['cor_file_beg']+T_offset\n",
    "    fds1 = dates.date2num(d1) # converted\n",
    "    d2 = d1 + datetime.timedelta(seconds=hdu.header['NAXIS2']/48000.0/2)\n",
    "    fds2 = dates.date2num(d2)\n",
    "    \n",
    "    arr = waterfall(flat_data[0::2] + 1j * flat_data[1::2], 48000, bins = 4096*4)\n",
    "    ax.imshow(arr,  interpolation='none', aspect='auto',  extent=[-24000, 24000, fds2, fds1])\n",
    "    ax.grid(True)\n",
    "    \n",
    "    ax.set_xlim(13000,13500)\n",
    "    ax.yaxis_date()\n",
    "    date_format = md.DateFormatter('%H:%M:%S')\n",
    "    ax.yaxis.set_major_formatter(date_format)\n",
    "    fig.autofmt_xdate()\n",
    "    ax.set_ylim( datetime.datetime.utcfromtimestamp(minimal_time), datetime.datetime.utcfromtimestamp(maximal_time))\n",
    "    \n",
    "    offset = abs(bolid['time_calib']['cor_error']).microseconds/1000000 + abs(bolid['time_calib']['cor_error']).seconds\n",
    "    if bolid['time_calib']['cor_error'] < datetime.timedelta(seconds=0): offset = -offset\n",
    "    #ax.set_title(bolid['namesimple']+ \" err:\"+str(offset))\n",
    "    ax.set_title(bolid['namesimple'])"
   ]
  },
  {
   "cell_type": "code",
   "execution_count": 108,
   "metadata": {
    "collapsed": true
   },
   "outputs": [],
   "source": [
    "multibolid_id = 1393276"
   ]
  },
  {
   "cell_type": "code",
   "execution_count": 109,
   "metadata": {
    "collapsed": true
   },
   "outputs": [],
   "source": [
    "bz = Bolidozor()\n",
    "bolids = bz.getMultibolid(id=multibolid_id)\n",
    "print('Počet detekcí ve skupině je',len(bolids.result))"
   ]
  },
  {
   "cell_type": "code",
   "execution_count": 110,
   "metadata": {
    "collapsed": true
   },
   "outputs": [],
   "source": [
    "print(list(bolids.result[0].keys()))\n",
    "print(\"\")\n",
    "print(bolids.result[0])"
   ]
  },
  {
   "cell_type": "code",
   "execution_count": 111,
   "metadata": {
    "collapsed": true
   },
   "outputs": [],
   "source": [
    "for i, bolid in enumerate(bolids.result):\n",
    "    print(i+1,'z',len(bolids.result))\n",
    "    fits.open(bolid['url_file_raw'])"
   ]
  },
  {
   "cell_type": "code",
   "execution_count": 112,
   "metadata": {
    "collapsed": true
   },
   "outputs": [],
   "source": [
    "def timeCalibration(raw_file, sigma = 15, debug = True):\n",
    "    calibration_data = {}\n",
    "    hdulist = fits.open(raw_file, cache=True)\n",
    "    met_data = np.abs(np.ravel(hdulist[0].data))\n",
    "    clip_val = np.std(met_data)*sigma\n",
    "    plt.axhline(y=clip_val, color='red')\n",
    "    max_val = np.max(met_data)\n",
    "    for i, point in enumerate(met_data):\n",
    "        if point > clip_val:\n",
    "            plt.axvline(x=i, color='red')\n",
    "            ten_sec = 10/(hdulist[0].header['CDELT2']/2/1000.0)\n",
    "            if debug: plt.axvline(x=i+ten_sec, color='green')\n",
    "            break\n",
    "    #file_length = hdulist[0].header['NAXIS2']*hdulist[0].header['CDELT2']/1000.0\n",
    "    file_length = hdulist[0].header['NAXIS2']*1/96000\n",
    "    time_firstGPS = i/2*1/96000\n",
    "    DATE_OBS = datetime.datetime.strptime(hdulist[0].header['DATE-OBS'], \"%Y-%m-%dT%H:%M:%S\" )\n",
    "    DATE = datetime.datetime.strptime(hdulist[0].header['DATE'], \"%Y-%m-%dT%H:%M:%S\" )\n",
    "    \n",
    "    gps = (DATE-datetime.timedelta(seconds=file_length-time_firstGPS)).timestamp()\n",
    "    round_gps = round(gps/10.0)*10\n",
    "    correction = datetime.timedelta(seconds=round_gps-gps)\n",
    "    \n",
    "    calibration_data['quality'] = 100\n",
    "    if clip_val > 0.9:  calibration_data['quality'] = 0\n",
    "        \n",
    "    \n",
    "    calibration_data['sys_correction'] = correction\n",
    "    \n",
    "    calibration_data['sys_file_beg'] = DATE-datetime.timedelta(seconds=file_length)\n",
    "    calibration_data['sys_file_end'] = DATE\n",
    "    calibration_data['sys_1st_GPS'] = DATE-datetime.timedelta(seconds=file_length-time_firstGPS)\n",
    "    calibration_data['sys_error'] = DATE-datetime.timedelta(seconds=file_length-time_firstGPS)\n",
    "    \n",
    "    calibration_data['cor_file_beg'] = DATE-datetime.timedelta(seconds=file_length)+correction\n",
    "    calibration_data['cor_file_end'] = DATE+correction\n",
    "    calibration_data['cor_1st_GPS'] = DATE-datetime.timedelta(seconds=file_length-time_firstGPS)+correction\n",
    "    calibration_data['cor_error'] = correction\n",
    "    \n",
    "    if debug:\n",
    "        #DATE_OBS = datetime.datetime.strptime(hdulist[0].header['DATE-OBS'], \"%Y-%m-%dT%H:%M:%S\" )\n",
    "        print(\"Zpracovavam soubor:\", raw_file)\n",
    "        print('delka zaznamu          :', file_length, \"s\")\n",
    "        print('cas prvni vzorku s GPS :', time_firstGPS, \"s\")\n",
    "        print('cas 1. GPS a konec     :', file_length - time_firstGPS, \"s\")\n",
    "        print('SysCas ukladani souboru:', calibration_data['sys_file_end'], \"s\")\n",
    "        print('SysCas zacatku souboru :', calibration_data['sys_file_beg'])\n",
    "        print('SysCas 1. GPS znacky   :', calibration_data['sys_1st_GPS'])\n",
    "        print('Korekce systémoveho čas:', correction)\n",
    "        print('CorCas ukladani souboru:', calibration_data['cor_file_end'], \"s\")\n",
    "        print('CorCas zacatku souboru :', calibration_data['cor_file_beg'])\n",
    "        print('CorCas 1. GPS znacky   :', calibration_data['cor_1st_GPS'])\n",
    "        print('Kvalita souboru        :', calibration_data['quality'])\n",
    "        plt.plot(met_data)\n",
    "        plt.show()\n",
    "    return calibration_data\n",
    "        "
   ]
  },
  {
   "cell_type": "code",
   "execution_count": 113,
   "metadata": {
    "collapsed": true
   },
   "outputs": [],
   "source": [
    "\n",
    "for i, bolid in enumerate(bolids.result):\n",
    "    print(i,\"==================================\")\n",
    "    print(\"snapshot:\", bolid['url_file_js9'])\n",
    "    bolids.result[i]['time_calib']=timeCalibration(bolid['url_file_raw'])\n",
    "    "
   ]
  },
  {
   "cell_type": "code",
   "execution_count": 114,
   "metadata": {
    "collapsed": true
   },
   "outputs": [],
   "source": [
    "time_offset = {}\n",
    "selected = list(range(0, len(bolids.result)))     # vyber vsech dat\n",
    "\n",
    "#selected.remove(0)\n",
    "#selected.remove(1)\n",
    "#selected.remove(4)\n",
    "#selected = [0,1,2,3,6]\n",
    "\n",
    "#selected = [3,4,5,6]     #Pokud chcete vybrat konkrétní data, \n",
    "                               #odkomentujte tento řádek a vložte do něj čísla požadovaných dat\n",
    "\n",
    "# time_offset[0] = +0   ## Posun času na stanici.\n",
    "                        # Timto posunete data pro určitou stanici (podle indexu souboru)\n",
    "                        # o určitý počet časových značek (10s intervalů)\n",
    "                        # Kladné číslo posune graf 'nahoru\" \n",
    "#time_offset[3]=0.5\n",
    "#time_offset[4]=0.5\n",
    "#time_offset[1]=1\n",
    "for i, bolid in enumerate(bolids.result):\n",
    "    if bolid['time_calib']['quality'] < 50:\n",
    "        selected.remove(i)\n",
    "    if i in selected:\n",
    "        print(i, ',sysT of gps:', bolid['time_calib']['cor_1st_GPS'], ',offset:', bolid['time_calib']['cor_error'], bolid['filename'])"
   ]
  },
  {
   "cell_type": "code",
   "execution_count": 115,
   "metadata": {
    "collapsed": true
   },
   "outputs": [],
   "source": [
    "multibolid_id = 1402641"
   ]
  },
  {
   "cell_type": "code",
   "execution_count": 116,
   "metadata": {
    "collapsed": true
   },
   "outputs": [],
   "source": [
    "bz = Bolidozor()\n",
    "bolids = bz.getMultibolid(id=multibolid_id)\n",
    "print('Počet detekcí ve skupině je',len(bolids.result))"
   ]
  },
  {
   "cell_type": "code",
   "execution_count": 117,
   "metadata": {
    "collapsed": true
   },
   "outputs": [],
   "source": [
    "print(list(bolids.result[0].keys()))\n",
    "print(\"\")\n",
    "print(bolids.result[0])"
   ]
  },
  {
   "cell_type": "code",
   "execution_count": 118,
   "metadata": {
    "collapsed": true
   },
   "outputs": [],
   "source": [
    "for i, bolid in enumerate(bolids.result):\n",
    "    print(i+1,'z',len(bolids.result))\n",
    "    fits.open(bolid['url_file_raw'])"
   ]
  },
  {
   "cell_type": "code",
   "execution_count": 119,
   "metadata": {
    "collapsed": true
   },
   "outputs": [],
   "source": [
    "def timeCalibration(raw_file, sigma = 15, debug = True):\n",
    "    calibration_data = {}\n",
    "    hdulist = fits.open(raw_file, cache=True)\n",
    "    met_data = np.abs(np.ravel(hdulist[0].data))\n",
    "    clip_val = np.std(met_data)*sigma\n",
    "    plt.axhline(y=clip_val, color='red')\n",
    "    max_val = np.max(met_data)\n",
    "    for i, point in enumerate(met_data):\n",
    "        if point > clip_val:\n",
    "            plt.axvline(x=i, color='red')\n",
    "            ten_sec = 10/(hdulist[0].header['CDELT2']/2/1000.0)\n",
    "            if debug: plt.axvline(x=i+ten_sec, color='green')\n",
    "            break\n",
    "    #file_length = hdulist[0].header['NAXIS2']*hdulist[0].header['CDELT2']/1000.0\n",
    "    file_length = hdulist[0].header['NAXIS2']*1/96000\n",
    "    time_firstGPS = i/2*1/96000\n",
    "    DATE_OBS = datetime.datetime.strptime(hdulist[0].header['DATE-OBS'], \"%Y-%m-%dT%H:%M:%S\" )\n",
    "    DATE = datetime.datetime.strptime(hdulist[0].header['DATE'], \"%Y-%m-%dT%H:%M:%S\" )\n",
    "    \n",
    "    gps = (DATE-datetime.timedelta(seconds=file_length-time_firstGPS)).timestamp()\n",
    "    round_gps = round(gps/10.0)*10\n",
    "    correction = datetime.timedelta(seconds=round_gps-gps)\n",
    "    \n",
    "    calibration_data['quality'] = 100\n",
    "    if clip_val > 0.9:  calibration_data['quality'] = 0\n",
    "        \n",
    "    \n",
    "    calibration_data['sys_correction'] = correction\n",
    "    \n",
    "    calibration_data['sys_file_beg'] = DATE-datetime.timedelta(seconds=file_length)\n",
    "    calibration_data['sys_file_end'] = DATE\n",
    "    calibration_data['sys_1st_GPS'] = DATE-datetime.timedelta(seconds=file_length-time_firstGPS)\n",
    "    calibration_data['sys_error'] = DATE-datetime.timedelta(seconds=file_length-time_firstGPS)\n",
    "    \n",
    "    calibration_data['cor_file_beg'] = DATE-datetime.timedelta(seconds=file_length)+correction\n",
    "    calibration_data['cor_file_end'] = DATE+correction\n",
    "    calibration_data['cor_1st_GPS'] = DATE-datetime.timedelta(seconds=file_length-time_firstGPS)+correction\n",
    "    calibration_data['cor_error'] = correction\n",
    "    \n",
    "    if debug:\n",
    "        #DATE_OBS = datetime.datetime.strptime(hdulist[0].header['DATE-OBS'], \"%Y-%m-%dT%H:%M:%S\" )\n",
    "        print(\"Zpracovavam soubor:\", raw_file)\n",
    "        print('delka zaznamu          :', file_length, \"s\")\n",
    "        print('cas prvni vzorku s GPS :', time_firstGPS, \"s\")\n",
    "        print('cas 1. GPS a konec     :', file_length - time_firstGPS, \"s\")\n",
    "        print('SysCas ukladani souboru:', calibration_data['sys_file_end'], \"s\")\n",
    "        print('SysCas zacatku souboru :', calibration_data['sys_file_beg'])\n",
    "        print('SysCas 1. GPS znacky   :', calibration_data['sys_1st_GPS'])\n",
    "        print('Korekce systémoveho čas:', correction)\n",
    "        print('CorCas ukladani souboru:', calibration_data['cor_file_end'], \"s\")\n",
    "        print('CorCas zacatku souboru :', calibration_data['cor_file_beg'])\n",
    "        print('CorCas 1. GPS znacky   :', calibration_data['cor_1st_GPS'])\n",
    "        print('Kvalita souboru        :', calibration_data['quality'])\n",
    "        plt.plot(met_data)\n",
    "        plt.show()\n",
    "    return calibration_data\n",
    "        "
   ]
  },
  {
   "cell_type": "code",
   "execution_count": 120,
   "metadata": {
    "collapsed": true
   },
   "outputs": [],
   "source": [
    "\n",
    "for i, bolid in enumerate(bolids.result):\n",
    "    print(i,\"==================================\")\n",
    "    print(\"snapshot:\", bolid['url_file_js9'])\n",
    "    bolids.result[i]['time_calib']=timeCalibration(bolid['url_file_raw'])\n",
    "    "
   ]
  },
  {
   "cell_type": "code",
   "execution_count": 121,
   "metadata": {
    "collapsed": true
   },
   "outputs": [],
   "source": [
    "multibolid_id = 1402641"
   ]
  },
  {
   "cell_type": "code",
   "execution_count": 122,
   "metadata": {
    "collapsed": true
   },
   "outputs": [],
   "source": [
    "bz = Bolidozor()\n",
    "bolids = bz.getMultibolid(id=multibolid_id)\n",
    "print('Počet detekcí ve skupině je',len(bolids.result))"
   ]
  },
  {
   "cell_type": "code",
   "execution_count": 123,
   "metadata": {
    "collapsed": true
   },
   "outputs": [],
   "source": [
    "multibolid_id = 1504571"
   ]
  },
  {
   "cell_type": "code",
   "execution_count": 124,
   "metadata": {
    "collapsed": true
   },
   "outputs": [],
   "source": [
    "bz = Bolidozor()\n",
    "bolids = bz.getMultibolid(id=multibolid_id)\n",
    "print('Počet detekcí ve skupině je',len(bolids.result))"
   ]
  },
  {
   "cell_type": "code",
   "execution_count": 125,
   "metadata": {
    "collapsed": true
   },
   "outputs": [],
   "source": [
    "print(list(bolids.result[0].keys()))\n",
    "print(\"\")\n",
    "print(bolids.result[0])"
   ]
  },
  {
   "cell_type": "code",
   "execution_count": 126,
   "metadata": {
    "collapsed": true
   },
   "outputs": [],
   "source": [
    "for i, bolid in enumerate(bolids.result):\n",
    "    print(i+1,'z',len(bolids.result))\n",
    "    fits.open(bolid['url_file_raw'])"
   ]
  },
  {
   "cell_type": "code",
   "execution_count": 127,
   "metadata": {
    "collapsed": true
   },
   "outputs": [],
   "source": [
    "def timeCalibration(raw_file, sigma = 15, debug = True):\n",
    "    calibration_data = {}\n",
    "    hdulist = fits.open(raw_file, cache=True)\n",
    "    met_data = np.abs(np.ravel(hdulist[0].data))\n",
    "    clip_val = np.std(met_data)*sigma\n",
    "    plt.axhline(y=clip_val, color='red')\n",
    "    max_val = np.max(met_data)\n",
    "    for i, point in enumerate(met_data):\n",
    "        if point > clip_val:\n",
    "            plt.axvline(x=i, color='red')\n",
    "            ten_sec = 10/(hdulist[0].header['CDELT2']/2/1000.0)\n",
    "            if debug: plt.axvline(x=i+ten_sec, color='green')\n",
    "            break\n",
    "    #file_length = hdulist[0].header['NAXIS2']*hdulist[0].header['CDELT2']/1000.0\n",
    "    file_length = hdulist[0].header['NAXIS2']*1/96000\n",
    "    time_firstGPS = i/2*1/96000\n",
    "    DATE_OBS = datetime.datetime.strptime(hdulist[0].header['DATE-OBS'], \"%Y-%m-%dT%H:%M:%S\" )\n",
    "    DATE = datetime.datetime.strptime(hdulist[0].header['DATE'], \"%Y-%m-%dT%H:%M:%S\" )\n",
    "    \n",
    "    gps = (DATE-datetime.timedelta(seconds=file_length-time_firstGPS)).timestamp()\n",
    "    round_gps = round(gps/10.0)*10\n",
    "    correction = datetime.timedelta(seconds=round_gps-gps)\n",
    "    \n",
    "    calibration_data['quality'] = 100\n",
    "    if clip_val > 0.9:  calibration_data['quality'] = 0\n",
    "        \n",
    "    \n",
    "    calibration_data['sys_correction'] = correction\n",
    "    \n",
    "    calibration_data['sys_file_beg'] = DATE-datetime.timedelta(seconds=file_length)\n",
    "    calibration_data['sys_file_end'] = DATE\n",
    "    calibration_data['sys_1st_GPS'] = DATE-datetime.timedelta(seconds=file_length-time_firstGPS)\n",
    "    calibration_data['sys_error'] = DATE-datetime.timedelta(seconds=file_length-time_firstGPS)\n",
    "    \n",
    "    calibration_data['cor_file_beg'] = DATE-datetime.timedelta(seconds=file_length)+correction\n",
    "    calibration_data['cor_file_end'] = DATE+correction\n",
    "    calibration_data['cor_1st_GPS'] = DATE-datetime.timedelta(seconds=file_length-time_firstGPS)+correction\n",
    "    calibration_data['cor_error'] = correction\n",
    "    \n",
    "    if debug:\n",
    "        #DATE_OBS = datetime.datetime.strptime(hdulist[0].header['DATE-OBS'], \"%Y-%m-%dT%H:%M:%S\" )\n",
    "        print(\"Zpracovavam soubor:\", raw_file)\n",
    "        print('delka zaznamu          :', file_length, \"s\")\n",
    "        print('cas prvni vzorku s GPS :', time_firstGPS, \"s\")\n",
    "        print('cas 1. GPS a konec     :', file_length - time_firstGPS, \"s\")\n",
    "        print('SysCas ukladani souboru:', calibration_data['sys_file_end'], \"s\")\n",
    "        print('SysCas zacatku souboru :', calibration_data['sys_file_beg'])\n",
    "        print('SysCas 1. GPS znacky   :', calibration_data['sys_1st_GPS'])\n",
    "        print('Korekce systémoveho čas:', correction)\n",
    "        print('CorCas ukladani souboru:', calibration_data['cor_file_end'], \"s\")\n",
    "        print('CorCas zacatku souboru :', calibration_data['cor_file_beg'])\n",
    "        print('CorCas 1. GPS znacky   :', calibration_data['cor_1st_GPS'])\n",
    "        print('Kvalita souboru        :', calibration_data['quality'])\n",
    "        plt.plot(met_data)\n",
    "        plt.show()\n",
    "    return calibration_data\n",
    "        "
   ]
  },
  {
   "cell_type": "code",
   "execution_count": 128,
   "metadata": {
    "collapsed": true
   },
   "outputs": [],
   "source": [
    "\n",
    "for i, bolid in enumerate(bolids.result):\n",
    "    print(i,\"==================================\")\n",
    "    print(\"snapshot:\", bolid['url_file_js9'])\n",
    "    bolids.result[i]['time_calib']=timeCalibration(bolid['url_file_raw'])\n",
    "    "
   ]
  },
  {
   "cell_type": "code",
   "execution_count": 129,
   "metadata": {
    "collapsed": true
   },
   "outputs": [],
   "source": [
    "def timeCalibration(raw_file, sigma = 15, debug = True):\n",
    "    calibration_data = {}\n",
    "    hdulist = fits.open(raw_file, cache=True)\n",
    "    met_data = np.abs(np.ravel(hdulist[0].data))\n",
    "    clip_val = np.std(met_data)*sigma\n",
    "    plt.axhline(y=clip_val, color='red')\n",
    "    max_val = np.max(met_data)\n",
    "    for i, point in enumerate(met_data):\n",
    "        if point > clip_val:\n",
    "            plt.axvline(x=i, color='red')\n",
    "            ten_sec = 10/(hdulist[0].header['CDELT2']/2/1000.0)\n",
    "            if debug: plt.axvline(x=i+ten_sec, color='green')\n",
    "            break\n",
    "    #file_length = hdulist[0].header['NAXIS2']*hdulist[0].header['CDELT2']/1000.0\n",
    "    file_length = hdulist[0].header['NAXIS2']*1/96000\n",
    "    time_firstGPS = i/2*1/96000\n",
    "    DATE_OBS = datetime.datetime.strptime(hdulist[0].header['DATE-OBS'], \"%Y-%m-%dT%H:%M:%S\" )\n",
    "    DATE = datetime.datetime.strptime(hdulist[0].header['DATE'], \"%Y-%m-%dT%H:%M:%S\" )\n",
    "    \n",
    "    gps = (DATE-datetime.timedelta(seconds=file_length-time_firstGPS)).timestamp()\n",
    "    round_gps = round(gps/10.0)*10\n",
    "    correction = datetime.timedelta(seconds=round_gps-gps)\n",
    "    \n",
    "    calibration_data['quality'] = 100\n",
    "    if clip_val > 0.9: \n",
    "        calibration_data['quality'] = 0\n",
    "        break\n",
    "        \n",
    "    \n",
    "    calibration_data['sys_correction'] = correction\n",
    "    \n",
    "    calibration_data['sys_file_beg'] = DATE-datetime.timedelta(seconds=file_length)\n",
    "    calibration_data['sys_file_end'] = DATE\n",
    "    calibration_data['sys_1st_GPS'] = DATE-datetime.timedelta(seconds=file_length-time_firstGPS)\n",
    "    calibration_data['sys_error'] = DATE-datetime.timedelta(seconds=file_length-time_firstGPS)\n",
    "    \n",
    "    calibration_data['cor_file_beg'] = DATE-datetime.timedelta(seconds=file_length)+correction\n",
    "    calibration_data['cor_file_end'] = DATE+correction\n",
    "    calibration_data['cor_1st_GPS'] = DATE-datetime.timedelta(seconds=file_length-time_firstGPS)+correction\n",
    "    calibration_data['cor_error'] = correction\n",
    "    \n",
    "    if debug:\n",
    "        #DATE_OBS = datetime.datetime.strptime(hdulist[0].header['DATE-OBS'], \"%Y-%m-%dT%H:%M:%S\" )\n",
    "        print(\"Zpracovavam soubor:\", raw_file)\n",
    "        print('delka zaznamu          :', file_length, \"s\")\n",
    "        print('cas prvni vzorku s GPS :', time_firstGPS, \"s\")\n",
    "        print('cas 1. GPS a konec     :', file_length - time_firstGPS, \"s\")\n",
    "        print('SysCas ukladani souboru:', calibration_data['sys_file_end'], \"s\")\n",
    "        print('SysCas zacatku souboru :', calibration_data['sys_file_beg'])\n",
    "        print('SysCas 1. GPS znacky   :', calibration_data['sys_1st_GPS'])\n",
    "        print('Korekce systémoveho čas:', correction)\n",
    "        print('CorCas ukladani souboru:', calibration_data['cor_file_end'], \"s\")\n",
    "        print('CorCas zacatku souboru :', calibration_data['cor_file_beg'])\n",
    "        print('CorCas 1. GPS znacky   :', calibration_data['cor_1st_GPS'])\n",
    "        print('Kvalita souboru        :', calibration_data['quality'])\n",
    "        plt.plot(met_data)\n",
    "        plt.show()\n",
    "    return calibration_data\n",
    "        "
   ]
  },
  {
   "cell_type": "code",
   "execution_count": 130,
   "metadata": {
    "collapsed": true
   },
   "outputs": [],
   "source": [
    "def timeCalibration(raw_file, sigma = 15, debug = True):\n",
    "    calibration_data = {}\n",
    "    hdulist = fits.open(raw_file, cache=True)\n",
    "    met_data = np.abs(np.ravel(hdulist[0].data))\n",
    "    clip_val = np.std(met_data)*sigma\n",
    "    plt.axhline(y=clip_val, color='red')\n",
    "    max_val = np.max(met_data)\n",
    "    for i, point in enumerate(met_data):\n",
    "        if point > clip_val:\n",
    "            plt.axvline(x=i, color='red')\n",
    "            ten_sec = 10/(hdulist[0].header['CDELT2']/2/1000.0)\n",
    "            if debug: plt.axvline(x=i+ten_sec, color='green')\n",
    "            break\n",
    "    #file_length = hdulist[0].header['NAXIS2']*hdulist[0].header['CDELT2']/1000.0\n",
    "    file_length = hdulist[0].header['NAXIS2']*1/96000\n",
    "    time_firstGPS = i/2*1/96000\n",
    "    DATE_OBS = datetime.datetime.strptime(hdulist[0].header['DATE-OBS'], \"%Y-%m-%dT%H:%M:%S\" )\n",
    "    DATE = datetime.datetime.strptime(hdulist[0].header['DATE'], \"%Y-%m-%dT%H:%M:%S\" )\n",
    "    \n",
    "    gps = (DATE-datetime.timedelta(seconds=file_length-time_firstGPS)).timestamp()\n",
    "    round_gps = round(gps/10.0)*10\n",
    "    correction = datetime.timedelta(seconds=round_gps-gps)\n",
    "    \n",
    "    calibration_data['quality'] = 100\n",
    "    if clip_val > 0.9: calibration_data['quality'] = 0\n",
    "        \n",
    "        \n",
    "    \n",
    "    calibration_data['sys_correction'] = correction\n",
    "    \n",
    "    calibration_data['sys_file_beg'] = DATE-datetime.timedelta(seconds=file_length)\n",
    "    calibration_data['sys_file_end'] = DATE\n",
    "    calibration_data['sys_1st_GPS'] = DATE-datetime.timedelta(seconds=file_length-time_firstGPS)\n",
    "    calibration_data['sys_error'] = DATE-datetime.timedelta(seconds=file_length-time_firstGPS)\n",
    "    \n",
    "    calibration_data['cor_file_beg'] = DATE-datetime.timedelta(seconds=file_length)+correction\n",
    "    calibration_data['cor_file_end'] = DATE+correction\n",
    "    calibration_data['cor_1st_GPS'] = DATE-datetime.timedelta(seconds=file_length-time_firstGPS)+correction\n",
    "    calibration_data['cor_error'] = correction\n",
    "    \n",
    "    if debug:\n",
    "        #DATE_OBS = datetime.datetime.strptime(hdulist[0].header['DATE-OBS'], \"%Y-%m-%dT%H:%M:%S\" )\n",
    "        print(\"Zpracovavam soubor:\", raw_file)\n",
    "        print('delka zaznamu          :', file_length, \"s\")\n",
    "        print('cas prvni vzorku s GPS :', time_firstGPS, \"s\")\n",
    "        print('cas 1. GPS a konec     :', file_length - time_firstGPS, \"s\")\n",
    "        print('SysCas ukladani souboru:', calibration_data['sys_file_end'], \"s\")\n",
    "        print('SysCas zacatku souboru :', calibration_data['sys_file_beg'])\n",
    "        print('SysCas 1. GPS znacky   :', calibration_data['sys_1st_GPS'])\n",
    "        print('Korekce systémoveho čas:', correction)\n",
    "        print('CorCas ukladani souboru:', calibration_data['cor_file_end'], \"s\")\n",
    "        print('CorCas zacatku souboru :', calibration_data['cor_file_beg'])\n",
    "        print('CorCas 1. GPS znacky   :', calibration_data['cor_1st_GPS'])\n",
    "        print('Kvalita souboru        :', calibration_data['quality'])\n",
    "        plt.plot(met_data)\n",
    "        plt.show()\n",
    "    return calibration_data\n",
    "        "
   ]
  },
  {
   "cell_type": "code",
   "execution_count": 131,
   "metadata": {
    "collapsed": true
   },
   "outputs": [],
   "source": [
    "\n",
    "for i, bolid in enumerate(bolids.result):\n",
    "    print(i,\"==================================\")\n",
    "    print(\"snapshot:\", bolid['url_file_js9'])\n",
    "    bolids.result[i]['time_calib']=timeCalibration(bolid['url_file_raw'])\n",
    "    "
   ]
  },
  {
   "cell_type": "code",
   "execution_count": 132,
   "metadata": {
    "collapsed": true
   },
   "outputs": [],
   "source": [
    "time_offset = {}\n",
    "selected = list(range(0, len(bolids.result)))     # vyber vsech dat\n",
    "\n",
    "#selected.remove(0)\n",
    "#selected.remove(1)\n",
    "#selected.remove(4)\n",
    "#selected = [0,1,2,3,6]\n",
    "\n",
    "#selected = [3,4,5,6]     #Pokud chcete vybrat konkrétní data, \n",
    "                               #odkomentujte tento řádek a vložte do něj čísla požadovaných dat\n",
    "\n",
    "# time_offset[0] = +0   ## Posun času na stanici.\n",
    "                        # Timto posunete data pro určitou stanici (podle indexu souboru)\n",
    "                        # o určitý počet časových značek (10s intervalů)\n",
    "                        # Kladné číslo posune graf 'nahoru\" \n",
    "#time_offset[3]=0.5\n",
    "#time_offset[4]=0.5\n",
    "#time_offset[1]=1\n",
    "for i, bolid in enumerate(bolids.result):\n",
    "    if bolid['time_calib']['quality'] < 50:\n",
    "        selected.remove(i)\n",
    "    if i in selected:\n",
    "        print(i, ',sysT of gps:', bolid['time_calib']['cor_1st_GPS'], ',offset:', bolid['time_calib']['cor_error'], bolid['filename'])"
   ]
  },
  {
   "cell_type": "code",
   "execution_count": 133,
   "metadata": {
    "collapsed": true
   },
   "outputs": [],
   "source": [
    "%matplotlib inline \n",
    "count = len(selected)\n",
    "fig, axis = plt.subplots(1, count, sharex=True, sharey=True, figsize=(20, 10))\n",
    "\n",
    "gps_calib = True\n",
    "minimal_time = None\n",
    "maximal_time = None\n",
    "\n",
    "for i, ax in enumerate(axis):\n",
    "    try:\n",
    "        bolid = bolids.result[selected[i]]\n",
    "        print (i, bolid['time_calib']['cor_file_beg'])\n",
    "        hdulist = fits.open(bolid['url_file_raw'])\n",
    "        met_data = np.abs(np.ravel(hdulist[0].data))\n",
    "\n",
    "        T_offset = 10*time_offset.get(selected[i], 0)\n",
    "\n",
    "        if gps_calib:\n",
    "            min_date = bolid['time_calib']['cor_file_beg'].replace(tzinfo=datetime.timezone.utc).timestamp()+T_offset\n",
    "            max_date = bolid['time_calib']['cor_file_end'].replace(tzinfo=datetime.timezone.utc).timestamp()+T_offset\n",
    "        else:\n",
    "            min_date = bolid['time_calib']['sys_file_beg'].replace(tzinfo=datetime.timezone.utc).timestamp()+T_offset\n",
    "            max_date = bolid['time_calib']['sys_file_end'].replace(tzinfo=datetime.timezone.utc).timestamp()+T_offset\n",
    "        array = np.arange(min_date, max_date, (max_date-min_date)/(len(met_data)))\n",
    "\n",
    "        if not minimal_time: minimal_time = min_date\n",
    "        if not maximal_time: maximal_time = max_date\n",
    "        if min_date < minimal_time: minimal_time = min_date\n",
    "        if max_date > maximal_time: maximal_time = max_date\n",
    "\n",
    "        ax.set_title(bolid['namesimple'] + \" (\" + str(selected[i])+\")\")\n",
    "        ax.plot(met_data, array)\n",
    "        ax.grid(True)\n",
    "    except Exception as e:\n",
    "        print(e)\n",
    "\n",
    "fig.subplots_adjust(hspace=0)\n",
    "print(minimal_time, maximal_time)"
   ]
  },
  {
   "cell_type": "code",
   "execution_count": 134,
   "metadata": {
    "collapsed": true
   },
   "outputs": [],
   "source": [
    "def waterfall(signal, sample_rate=None, bins = 4096 ):\n",
    "    waterfall = recviewer.waterfallize(signal, bins)\n",
    "    waterfall[np.isneginf(waterfall)] = np.nan\n",
    "    wmin, wmax = np.nanmin(waterfall), np.nanmax(waterfall)\n",
    "    return waterfall"
   ]
  },
  {
   "cell_type": "code",
   "execution_count": 135,
   "metadata": {
    "collapsed": true
   },
   "outputs": [],
   "source": [
    "%matplotlib inline \n",
    "#%matplotlib notebook\n",
    "count = len(selected)\n",
    "fig, axis = plt.subplots(1, count, sharex=True, sharey=True, figsize=(20, 10))\n",
    "\n",
    "print(time_offset)\n",
    "fig.suptitle(\"Multibolid %s (%s)\" %(datetime.datetime.utcfromtimestamp(minimal_time).date(), multibolid_id))\n",
    "fig.subplots_adjust(hspace=0)\n",
    "plt.set_cmap('hot')\n",
    "for i, ax in enumerate(axis):\n",
    "    bolid = bolids.result[selected[i]]\n",
    "    hdu = fits.open(bolid['url_file_raw'])[0]\n",
    "    flat_data = np.ravel(hdu.data)\n",
    "    \n",
    "    T_offset = datetime.timedelta(seconds = 10*time_offset.get(selected[i], 0))\n",
    "    #print(i, selected[i], bolid['time_calib']['cor_file_beg'], bolid['time_calib']['cor_file_beg']+T_offset, T_offset)\n",
    "    d1 = bolid['time_calib']['cor_file_beg']+T_offset\n",
    "    fds1 = dates.date2num(d1) # converted\n",
    "    d2 = d1 + datetime.timedelta(seconds=hdu.header['NAXIS2']/48000.0/2)\n",
    "    fds2 = dates.date2num(d2)\n",
    "    \n",
    "    arr = waterfall(flat_data[0::2] + 1j * flat_data[1::2], 48000, bins = 4096*4)\n",
    "    ax.imshow(arr,  interpolation='none', aspect='auto',  extent=[-24000, 24000, fds2, fds1])\n",
    "    ax.grid(True)\n",
    "    \n",
    "    ax.set_xlim(13000,13500)\n",
    "    ax.yaxis_date()\n",
    "    date_format = md.DateFormatter('%H:%M:%S')\n",
    "    ax.yaxis.set_major_formatter(date_format)\n",
    "    fig.autofmt_xdate()\n",
    "    ax.set_ylim( datetime.datetime.utcfromtimestamp(minimal_time), datetime.datetime.utcfromtimestamp(maximal_time))\n",
    "    \n",
    "    offset = abs(bolid['time_calib']['cor_error']).microseconds/1000000 + abs(bolid['time_calib']['cor_error']).seconds\n",
    "    if bolid['time_calib']['cor_error'] < datetime.timedelta(seconds=0): offset = -offset\n",
    "    #ax.set_title(bolid['namesimple']+ \" err:\"+str(offset))\n",
    "    ax.set_title(bolid['namesimple'])"
   ]
  },
  {
   "cell_type": "code",
   "execution_count": 136,
   "metadata": {
    "collapsed": true
   },
   "outputs": [],
   "source": [
    "multibolid_id = 1440053"
   ]
  },
  {
   "cell_type": "code",
   "execution_count": 137,
   "metadata": {
    "collapsed": true
   },
   "outputs": [],
   "source": [
    "bz = Bolidozor()\n",
    "bolids = bz.getMultibolid(id=multibolid_id)\n",
    "print('Počet detekcí ve skupině je',len(bolids.result))"
   ]
  },
  {
   "cell_type": "code",
   "execution_count": 138,
   "metadata": {
    "collapsed": true
   },
   "outputs": [],
   "source": [
    "print(list(bolids.result[0].keys()))\n",
    "print(\"\")\n",
    "print(bolids.result[0])"
   ]
  },
  {
   "cell_type": "code",
   "execution_count": 139,
   "metadata": {
    "collapsed": true
   },
   "outputs": [],
   "source": [
    "for i, bolid in enumerate(bolids.result):\n",
    "    print(i+1,'z',len(bolids.result))\n",
    "    fits.open(bolid['url_file_raw'])"
   ]
  },
  {
   "cell_type": "code",
   "execution_count": 140,
   "metadata": {
    "collapsed": true
   },
   "outputs": [],
   "source": [
    "def timeCalibration(raw_file, sigma = 15, debug = True):\n",
    "    calibration_data = {}\n",
    "    hdulist = fits.open(raw_file, cache=True)\n",
    "    met_data = np.abs(np.ravel(hdulist[0].data))\n",
    "    clip_val = np.std(met_data)*sigma\n",
    "    plt.axhline(y=clip_val, color='red')\n",
    "    max_val = np.max(met_data)\n",
    "    for i, point in enumerate(met_data):\n",
    "        if point > clip_val:\n",
    "            plt.axvline(x=i, color='red')\n",
    "            ten_sec = 10/(hdulist[0].header['CDELT2']/2/1000.0)\n",
    "            if debug: plt.axvline(x=i+ten_sec, color='green')\n",
    "            break\n",
    "    #file_length = hdulist[0].header['NAXIS2']*hdulist[0].header['CDELT2']/1000.0\n",
    "    file_length = hdulist[0].header['NAXIS2']*1/96000\n",
    "    time_firstGPS = i/2*1/96000\n",
    "    DATE_OBS = datetime.datetime.strptime(hdulist[0].header['DATE-OBS'], \"%Y-%m-%dT%H:%M:%S\" )\n",
    "    DATE = datetime.datetime.strptime(hdulist[0].header['DATE'], \"%Y-%m-%dT%H:%M:%S\" )\n",
    "    \n",
    "    gps = (DATE-datetime.timedelta(seconds=file_length-time_firstGPS)).timestamp()\n",
    "    round_gps = round(gps/10.0)*10\n",
    "    correction = datetime.timedelta(seconds=round_gps-gps)\n",
    "    \n",
    "    calibration_data['quality'] = 100\n",
    "    if clip_val > 0.9: calibration_data['quality'] = 0\n",
    "        \n",
    "        \n",
    "    \n",
    "    calibration_data['sys_correction'] = correction\n",
    "    \n",
    "    calibration_data['sys_file_beg'] = DATE-datetime.timedelta(seconds=file_length)\n",
    "    calibration_data['sys_file_end'] = DATE\n",
    "    calibration_data['sys_1st_GPS'] = DATE-datetime.timedelta(seconds=file_length-time_firstGPS)\n",
    "    calibration_data['sys_error'] = DATE-datetime.timedelta(seconds=file_length-time_firstGPS)\n",
    "    \n",
    "    calibration_data['cor_file_beg'] = DATE-datetime.timedelta(seconds=file_length)+correction\n",
    "    calibration_data['cor_file_end'] = DATE+correction\n",
    "    calibration_data['cor_1st_GPS'] = DATE-datetime.timedelta(seconds=file_length-time_firstGPS)+correction\n",
    "    calibration_data['cor_error'] = correction\n",
    "    \n",
    "    if debug:\n",
    "        #DATE_OBS = datetime.datetime.strptime(hdulist[0].header['DATE-OBS'], \"%Y-%m-%dT%H:%M:%S\" )\n",
    "        print(\"Zpracovavam soubor:\", raw_file)\n",
    "        print('delka zaznamu          :', file_length, \"s\")\n",
    "        print('cas prvni vzorku s GPS :', time_firstGPS, \"s\")\n",
    "        print('cas 1. GPS a konec     :', file_length - time_firstGPS, \"s\")\n",
    "        print('SysCas ukladani souboru:', calibration_data['sys_file_end'], \"s\")\n",
    "        print('SysCas zacatku souboru :', calibration_data['sys_file_beg'])\n",
    "        print('SysCas 1. GPS znacky   :', calibration_data['sys_1st_GPS'])\n",
    "        print('Korekce systémoveho čas:', correction)\n",
    "        print('CorCas ukladani souboru:', calibration_data['cor_file_end'], \"s\")\n",
    "        print('CorCas zacatku souboru :', calibration_data['cor_file_beg'])\n",
    "        print('CorCas 1. GPS znacky   :', calibration_data['cor_1st_GPS'])\n",
    "        print('Kvalita souboru        :', calibration_data['quality'])\n",
    "        plt.plot(met_data)\n",
    "        plt.show()\n",
    "    return calibration_data\n",
    "        "
   ]
  },
  {
   "cell_type": "code",
   "execution_count": 141,
   "metadata": {
    "collapsed": true
   },
   "outputs": [],
   "source": [
    "\n",
    "for i, bolid in enumerate(bolids.result):\n",
    "    print(i,\"==================================\")\n",
    "    print(\"snapshot:\", bolid['url_file_js9'])\n",
    "    bolids.result[i]['time_calib']=timeCalibration(bolid['url_file_raw'])\n",
    "    "
   ]
  },
  {
   "cell_type": "code",
   "execution_count": 142,
   "metadata": {
    "collapsed": true
   },
   "outputs": [],
   "source": [
    "time_offset = {}\n",
    "selected = list(range(0, len(bolids.result)))     # vyber vsech dat\n",
    "\n",
    "#selected.remove(0)\n",
    "#selected.remove(1)\n",
    "#selected.remove(4)\n",
    "#selected = [0,1,2,3,6]\n",
    "\n",
    "#selected = [3,4,5,6]     #Pokud chcete vybrat konkrétní data, \n",
    "                               #odkomentujte tento řádek a vložte do něj čísla požadovaných dat\n",
    "\n",
    "# time_offset[0] = +0   ## Posun času na stanici.\n",
    "                        # Timto posunete data pro určitou stanici (podle indexu souboru)\n",
    "                        # o určitý počet časových značek (10s intervalů)\n",
    "                        # Kladné číslo posune graf 'nahoru\" \n",
    "#time_offset[3]=0.5\n",
    "#time_offset[4]=0.5\n",
    "#time_offset[1]=1\n",
    "for i, bolid in enumerate(bolids.result):\n",
    "    if bolid['time_calib']['quality'] < 50:\n",
    "        selected.remove(i)\n",
    "    if i in selected:\n",
    "        print(i, ',sysT of gps:', bolid['time_calib']['cor_1st_GPS'], ',offset:', bolid['time_calib']['cor_error'], bolid['filename'])"
   ]
  },
  {
   "cell_type": "code",
   "execution_count": 143,
   "metadata": {
    "collapsed": true
   },
   "outputs": [],
   "source": [
    "%matplotlib inline \n",
    "count = len(selected)\n",
    "fig, axis = plt.subplots(1, count, sharex=True, sharey=True, figsize=(20, 10))\n",
    "\n",
    "gps_calib = True\n",
    "minimal_time = None\n",
    "maximal_time = None\n",
    "\n",
    "for i, ax in enumerate(axis):\n",
    "    try:\n",
    "        bolid = bolids.result[selected[i]]\n",
    "        print (i, bolid['time_calib']['cor_file_beg'])\n",
    "        hdulist = fits.open(bolid['url_file_raw'])\n",
    "        met_data = np.abs(np.ravel(hdulist[0].data))\n",
    "\n",
    "        T_offset = 10*time_offset.get(selected[i], 0)\n",
    "\n",
    "        if gps_calib:\n",
    "            min_date = bolid['time_calib']['cor_file_beg'].replace(tzinfo=datetime.timezone.utc).timestamp()+T_offset\n",
    "            max_date = bolid['time_calib']['cor_file_end'].replace(tzinfo=datetime.timezone.utc).timestamp()+T_offset\n",
    "        else:\n",
    "            min_date = bolid['time_calib']['sys_file_beg'].replace(tzinfo=datetime.timezone.utc).timestamp()+T_offset\n",
    "            max_date = bolid['time_calib']['sys_file_end'].replace(tzinfo=datetime.timezone.utc).timestamp()+T_offset\n",
    "        array = np.arange(min_date, max_date, (max_date-min_date)/(len(met_data)))\n",
    "\n",
    "        if not minimal_time: minimal_time = min_date\n",
    "        if not maximal_time: maximal_time = max_date\n",
    "        if min_date < minimal_time: minimal_time = min_date\n",
    "        if max_date > maximal_time: maximal_time = max_date\n",
    "\n",
    "        ax.set_title(bolid['namesimple'] + \" (\" + str(selected[i])+\")\")\n",
    "        ax.plot(met_data, array)\n",
    "        ax.grid(True)\n",
    "    except Exception as e:\n",
    "        print(e)\n",
    "\n",
    "fig.subplots_adjust(hspace=0)\n",
    "print(minimal_time, maximal_time)"
   ]
  },
  {
   "cell_type": "code",
   "execution_count": 144,
   "metadata": {
    "collapsed": true
   },
   "outputs": [],
   "source": [
    "def waterfall(signal, sample_rate=None, bins = 4096 ):\n",
    "    waterfall = recviewer.waterfallize(signal, bins)\n",
    "    waterfall[np.isneginf(waterfall)] = np.nan\n",
    "    wmin, wmax = np.nanmin(waterfall), np.nanmax(waterfall)\n",
    "    return waterfall"
   ]
  },
  {
   "cell_type": "code",
   "execution_count": 145,
   "metadata": {
    "collapsed": true
   },
   "outputs": [],
   "source": [
    "%matplotlib inline \n",
    "#%matplotlib notebook\n",
    "count = len(selected)\n",
    "fig, axis = plt.subplots(1, count, sharex=True, sharey=True, figsize=(20, 10))\n",
    "\n",
    "print(time_offset)\n",
    "fig.suptitle(\"Multibolid %s (%s)\" %(datetime.datetime.utcfromtimestamp(minimal_time).date(), multibolid_id))\n",
    "fig.subplots_adjust(hspace=0)\n",
    "plt.set_cmap('hot')\n",
    "for i, ax in enumerate(axis):\n",
    "    bolid = bolids.result[selected[i]]\n",
    "    hdu = fits.open(bolid['url_file_raw'])[0]\n",
    "    flat_data = np.ravel(hdu.data)\n",
    "    \n",
    "    T_offset = datetime.timedelta(seconds = 10*time_offset.get(selected[i], 0))\n",
    "    #print(i, selected[i], bolid['time_calib']['cor_file_beg'], bolid['time_calib']['cor_file_beg']+T_offset, T_offset)\n",
    "    d1 = bolid['time_calib']['cor_file_beg']+T_offset\n",
    "    fds1 = dates.date2num(d1) # converted\n",
    "    d2 = d1 + datetime.timedelta(seconds=hdu.header['NAXIS2']/48000.0/2)\n",
    "    fds2 = dates.date2num(d2)\n",
    "    \n",
    "    arr = waterfall(flat_data[0::2] + 1j * flat_data[1::2], 48000, bins = 4096*4)\n",
    "    ax.imshow(arr,  interpolation='none', aspect='auto',  extent=[-24000, 24000, fds2, fds1])\n",
    "    ax.grid(True)\n",
    "    \n",
    "    ax.set_xlim(13000,13500)\n",
    "    ax.yaxis_date()\n",
    "    date_format = md.DateFormatter('%H:%M:%S')\n",
    "    ax.yaxis.set_major_formatter(date_format)\n",
    "    fig.autofmt_xdate()\n",
    "    ax.set_ylim( datetime.datetime.utcfromtimestamp(minimal_time), datetime.datetime.utcfromtimestamp(maximal_time))\n",
    "    \n",
    "    offset = abs(bolid['time_calib']['cor_error']).microseconds/1000000 + abs(bolid['time_calib']['cor_error']).seconds\n",
    "    if bolid['time_calib']['cor_error'] < datetime.timedelta(seconds=0): offset = -offset\n",
    "    #ax.set_title(bolid['namesimple']+ \" err:\"+str(offset))\n",
    "    ax.set_title(bolid['namesimple'])"
   ]
  },
  {
   "cell_type": "code",
   "execution_count": 146,
   "metadata": {
    "collapsed": true
   },
   "outputs": [],
   "source": [
    "multibolid_id = 1504571"
   ]
  },
  {
   "cell_type": "code",
   "execution_count": 147,
   "metadata": {
    "collapsed": true
   },
   "outputs": [],
   "source": [
    "bz = Bolidozor()\n",
    "bolids = bz.getMultibolid(id=multibolid_id)\n",
    "print('Počet detekcí ve skupině je',len(bolids.result))"
   ]
  },
  {
   "cell_type": "code",
   "execution_count": 148,
   "metadata": {
    "collapsed": true
   },
   "outputs": [],
   "source": [
    "print(list(bolids.result[0].keys()))\n",
    "print(\"\")\n",
    "print(bolids.result[0])"
   ]
  },
  {
   "cell_type": "code",
   "execution_count": 149,
   "metadata": {
    "collapsed": true
   },
   "outputs": [],
   "source": [
    "for i, bolid in enumerate(bolids.result):\n",
    "    print(i+1,'z',len(bolids.result))\n",
    "    fits.open(bolid['url_file_raw'])"
   ]
  },
  {
   "cell_type": "code",
   "execution_count": 150,
   "metadata": {
    "collapsed": true
   },
   "outputs": [],
   "source": [
    "def timeCalibration(raw_file, sigma = 15, debug = True):\n",
    "    calibration_data = {}\n",
    "    hdulist = fits.open(raw_file, cache=True)\n",
    "    met_data = np.abs(np.ravel(hdulist[0].data))\n",
    "    clip_val = np.std(met_data)*sigma\n",
    "    plt.axhline(y=clip_val, color='red')\n",
    "    max_val = np.max(met_data)\n",
    "    for i, point in enumerate(met_data):\n",
    "        if point > clip_val:\n",
    "            plt.axvline(x=i, color='red')\n",
    "            ten_sec = 10/(hdulist[0].header['CDELT2']/2/1000.0)\n",
    "            if debug: plt.axvline(x=i+ten_sec, color='green')\n",
    "            break\n",
    "    #file_length = hdulist[0].header['NAXIS2']*hdulist[0].header['CDELT2']/1000.0\n",
    "    file_length = hdulist[0].header['NAXIS2']*1/96000\n",
    "    time_firstGPS = i/2*1/96000\n",
    "    DATE_OBS = datetime.datetime.strptime(hdulist[0].header['DATE-OBS'], \"%Y-%m-%dT%H:%M:%S\" )\n",
    "    DATE = datetime.datetime.strptime(hdulist[0].header['DATE'], \"%Y-%m-%dT%H:%M:%S\" )\n",
    "    \n",
    "    gps = (DATE-datetime.timedelta(seconds=file_length-time_firstGPS)).timestamp()\n",
    "    round_gps = round(gps/10.0)*10\n",
    "    correction = datetime.timedelta(seconds=round_gps-gps)\n",
    "    \n",
    "    calibration_data['quality'] = 100\n",
    "    if clip_val > 0.9: calibration_data['quality'] = 0\n",
    "        \n",
    "        \n",
    "    \n",
    "    calibration_data['sys_correction'] = correction\n",
    "    \n",
    "    calibration_data['sys_file_beg'] = DATE-datetime.timedelta(seconds=file_length)\n",
    "    calibration_data['sys_file_end'] = DATE\n",
    "    calibration_data['sys_1st_GPS'] = DATE-datetime.timedelta(seconds=file_length-time_firstGPS)\n",
    "    calibration_data['sys_error'] = DATE-datetime.timedelta(seconds=file_length-time_firstGPS)\n",
    "    \n",
    "    calibration_data['cor_file_beg'] = DATE-datetime.timedelta(seconds=file_length)+correction\n",
    "    calibration_data['cor_file_end'] = DATE+correction\n",
    "    calibration_data['cor_1st_GPS'] = DATE-datetime.timedelta(seconds=file_length-time_firstGPS)+correction\n",
    "    calibration_data['cor_error'] = correction\n",
    "    \n",
    "    if debug:\n",
    "        #DATE_OBS = datetime.datetime.strptime(hdulist[0].header['DATE-OBS'], \"%Y-%m-%dT%H:%M:%S\" )\n",
    "        print(\"Zpracovavam soubor:\", raw_file)\n",
    "        print('delka zaznamu          :', file_length, \"s\")\n",
    "        print('cas prvni vzorku s GPS :', time_firstGPS, \"s\")\n",
    "        print('cas 1. GPS a konec     :', file_length - time_firstGPS, \"s\")\n",
    "        print('SysCas ukladani souboru:', calibration_data['sys_file_end'], \"s\")\n",
    "        print('SysCas zacatku souboru :', calibration_data['sys_file_beg'])\n",
    "        print('SysCas 1. GPS znacky   :', calibration_data['sys_1st_GPS'])\n",
    "        print('Korekce systémoveho čas:', correction)\n",
    "        print('CorCas ukladani souboru:', calibration_data['cor_file_end'], \"s\")\n",
    "        print('CorCas zacatku souboru :', calibration_data['cor_file_beg'])\n",
    "        print('CorCas 1. GPS znacky   :', calibration_data['cor_1st_GPS'])\n",
    "        print('Kvalita souboru        :', calibration_data['quality'])\n",
    "        plt.plot(met_data)\n",
    "        plt.show()\n",
    "    return calibration_data\n",
    "        "
   ]
  },
  {
   "cell_type": "code",
   "execution_count": 151,
   "metadata": {
    "collapsed": true
   },
   "outputs": [],
   "source": [
    "\n",
    "for i, bolid in enumerate(bolids.result):\n",
    "    print(i,\"==================================\")\n",
    "    print(\"snapshot:\", bolid['url_file_js9'])\n",
    "    bolids.result[i]['time_calib']=timeCalibration(bolid['url_file_raw'])\n",
    "    "
   ]
  },
  {
   "cell_type": "code",
   "execution_count": 152,
   "metadata": {
    "collapsed": true
   },
   "outputs": [],
   "source": [
    "time_offset = {}\n",
    "selected = list(range(0, len(bolids.result)))     # vyber vsech dat\n",
    "\n",
    "#selected.remove(0)\n",
    "#selected.remove(1)\n",
    "#selected.remove(4)\n",
    "#selected = [0,1,2,3,6]\n",
    "\n",
    "#selected = [3,4,5,6]     #Pokud chcete vybrat konkrétní data, \n",
    "                               #odkomentujte tento řádek a vložte do něj čísla požadovaných dat\n",
    "\n",
    "# time_offset[0] = +0   ## Posun času na stanici.\n",
    "                        # Timto posunete data pro určitou stanici (podle indexu souboru)\n",
    "                        # o určitý počet časových značek (10s intervalů)\n",
    "                        # Kladné číslo posune graf 'nahoru\" \n",
    "#time_offset[3]=0.5\n",
    "#time_offset[4]=0.5\n",
    "#time_offset[1]=1\n",
    "for i, bolid in enumerate(bolids.result):\n",
    "    if bolid['time_calib']['quality'] < 50:\n",
    "        selected.remove(i)\n",
    "    if i in selected:\n",
    "        print(i, ',sysT of gps:', bolid['time_calib']['cor_1st_GPS'], ',offset:', bolid['time_calib']['cor_error'], bolid['filename'])"
   ]
  },
  {
   "cell_type": "code",
   "execution_count": 153,
   "metadata": {
    "collapsed": true
   },
   "outputs": [],
   "source": [
    "%matplotlib inline \n",
    "count = len(selected)\n",
    "fig, axis = plt.subplots(1, count, sharex=True, sharey=True, figsize=(20, 10))\n",
    "\n",
    "gps_calib = True\n",
    "minimal_time = None\n",
    "maximal_time = None\n",
    "\n",
    "for i, ax in enumerate(axis):\n",
    "    try:\n",
    "        bolid = bolids.result[selected[i]]\n",
    "        print (i, bolid['time_calib']['cor_file_beg'])\n",
    "        hdulist = fits.open(bolid['url_file_raw'])\n",
    "        met_data = np.abs(np.ravel(hdulist[0].data))\n",
    "\n",
    "        T_offset = 10*time_offset.get(selected[i], 0)\n",
    "\n",
    "        if gps_calib:\n",
    "            min_date = bolid['time_calib']['cor_file_beg'].replace(tzinfo=datetime.timezone.utc).timestamp()+T_offset\n",
    "            max_date = bolid['time_calib']['cor_file_end'].replace(tzinfo=datetime.timezone.utc).timestamp()+T_offset\n",
    "        else:\n",
    "            min_date = bolid['time_calib']['sys_file_beg'].replace(tzinfo=datetime.timezone.utc).timestamp()+T_offset\n",
    "            max_date = bolid['time_calib']['sys_file_end'].replace(tzinfo=datetime.timezone.utc).timestamp()+T_offset\n",
    "        array = np.arange(min_date, max_date, (max_date-min_date)/(len(met_data)))\n",
    "\n",
    "        if not minimal_time: minimal_time = min_date\n",
    "        if not maximal_time: maximal_time = max_date\n",
    "        if min_date < minimal_time: minimal_time = min_date\n",
    "        if max_date > maximal_time: maximal_time = max_date\n",
    "\n",
    "        ax.set_title(bolid['namesimple'] + \" (\" + str(selected[i])+\")\")\n",
    "        ax.plot(met_data, array)\n",
    "        ax.grid(True)\n",
    "    except Exception as e:\n",
    "        print(e)\n",
    "\n",
    "fig.subplots_adjust(hspace=0)\n",
    "print(minimal_time, maximal_time)"
   ]
  },
  {
   "cell_type": "code",
   "execution_count": 154,
   "metadata": {
    "collapsed": true
   },
   "outputs": [],
   "source": [
    "def waterfall(signal, sample_rate=None, bins = 4096 ):\n",
    "    waterfall = recviewer.waterfallize(signal, bins)\n",
    "    waterfall[np.isneginf(waterfall)] = np.nan\n",
    "    wmin, wmax = np.nanmin(waterfall), np.nanmax(waterfall)\n",
    "    return waterfall"
   ]
  },
  {
   "cell_type": "code",
   "execution_count": 155,
   "metadata": {
    "collapsed": true
   },
   "outputs": [],
   "source": [
    "%matplotlib inline \n",
    "#%matplotlib notebook\n",
    "count = len(selected)\n",
    "fig, axis = plt.subplots(1, count, sharex=True, sharey=True, figsize=(20, 10))\n",
    "\n",
    "print(time_offset)\n",
    "fig.suptitle(\"Multibolid %s (%s)\" %(datetime.datetime.utcfromtimestamp(minimal_time).date(), multibolid_id))\n",
    "fig.subplots_adjust(hspace=0)\n",
    "plt.set_cmap('hot')\n",
    "for i, ax in enumerate(axis):\n",
    "    bolid = bolids.result[selected[i]]\n",
    "    hdu = fits.open(bolid['url_file_raw'])[0]\n",
    "    flat_data = np.ravel(hdu.data)\n",
    "    \n",
    "    T_offset = datetime.timedelta(seconds = 10*time_offset.get(selected[i], 0))\n",
    "    #print(i, selected[i], bolid['time_calib']['cor_file_beg'], bolid['time_calib']['cor_file_beg']+T_offset, T_offset)\n",
    "    d1 = bolid['time_calib']['cor_file_beg']+T_offset\n",
    "    fds1 = dates.date2num(d1) # converted\n",
    "    d2 = d1 + datetime.timedelta(seconds=hdu.header['NAXIS2']/48000.0/2)\n",
    "    fds2 = dates.date2num(d2)\n",
    "    \n",
    "    arr = waterfall(flat_data[0::2] + 1j * flat_data[1::2], 48000, bins = 4096*4)\n",
    "    ax.imshow(arr,  interpolation='none', aspect='auto',  extent=[-24000, 24000, fds2, fds1])\n",
    "    ax.grid(True)\n",
    "    \n",
    "    ax.set_xlim(13000,13500)\n",
    "    ax.yaxis_date()\n",
    "    date_format = md.DateFormatter('%H:%M:%S')\n",
    "    ax.yaxis.set_major_formatter(date_format)\n",
    "    fig.autofmt_xdate()\n",
    "    ax.set_ylim( datetime.datetime.utcfromtimestamp(minimal_time), datetime.datetime.utcfromtimestamp(maximal_time))\n",
    "    \n",
    "    offset = abs(bolid['time_calib']['cor_error']).microseconds/1000000 + abs(bolid['time_calib']['cor_error']).seconds\n",
    "    if bolid['time_calib']['cor_error'] < datetime.timedelta(seconds=0): offset = -offset\n",
    "    #ax.set_title(bolid['namesimple']+ \" err:\"+str(offset))\n",
    "    ax.set_title(bolid['namesimple'])"
   ]
  },
  {
   "cell_type": "code",
   "execution_count": 156,
   "metadata": {
    "collapsed": true
   },
   "outputs": [],
   "source": [
    "time_offset = {}\n",
    "selected = list(range(0, len(bolids.result)))     # vyber vsech dat\n",
    "\n",
    "#selected.remove(0)\n",
    "#selected.remove(1)\n",
    "#selected.remove(4)\n",
    "#selected = [0,1,2,3,6]\n",
    "\n",
    "#selected = [3,4,5,6]     #Pokud chcete vybrat konkrétní data, \n",
    "                               #odkomentujte tento řádek a vložte do něj čísla požadovaných dat\n",
    "\n",
    "# time_offset[0] = +0   ## Posun času na stanici.\n",
    "                        # Timto posunete data pro určitou stanici (podle indexu souboru)\n",
    "                        # o určitý počet časových značek (10s intervalů)\n",
    "                        # Kladné číslo posune graf 'nahoru\" \n",
    "time_offset[3]=0.5\n",
    "time_offset[4]=0.5\n",
    "#time_offset[1]=1\n",
    "for i, bolid in enumerate(bolids.result):\n",
    "    if bolid['time_calib']['quality'] < 50:\n",
    "        selected.remove(i)\n",
    "    if i in selected:\n",
    "        print(i, ',sysT of gps:', bolid['time_calib']['cor_1st_GPS'], ',offset:', bolid['time_calib']['cor_error'], bolid['filename'])"
   ]
  },
  {
   "cell_type": "code",
   "execution_count": 157,
   "metadata": {
    "collapsed": true
   },
   "outputs": [],
   "source": [
    "%matplotlib inline \n",
    "count = len(selected)\n",
    "fig, axis = plt.subplots(1, count, sharex=True, sharey=True, figsize=(20, 10))\n",
    "\n",
    "gps_calib = True\n",
    "minimal_time = None\n",
    "maximal_time = None\n",
    "\n",
    "for i, ax in enumerate(axis):\n",
    "    try:\n",
    "        bolid = bolids.result[selected[i]]\n",
    "        print (i, bolid['time_calib']['cor_file_beg'])\n",
    "        hdulist = fits.open(bolid['url_file_raw'])\n",
    "        met_data = np.abs(np.ravel(hdulist[0].data))\n",
    "\n",
    "        T_offset = 10*time_offset.get(selected[i], 0)\n",
    "\n",
    "        if gps_calib:\n",
    "            min_date = bolid['time_calib']['cor_file_beg'].replace(tzinfo=datetime.timezone.utc).timestamp()+T_offset\n",
    "            max_date = bolid['time_calib']['cor_file_end'].replace(tzinfo=datetime.timezone.utc).timestamp()+T_offset\n",
    "        else:\n",
    "            min_date = bolid['time_calib']['sys_file_beg'].replace(tzinfo=datetime.timezone.utc).timestamp()+T_offset\n",
    "            max_date = bolid['time_calib']['sys_file_end'].replace(tzinfo=datetime.timezone.utc).timestamp()+T_offset\n",
    "        array = np.arange(min_date, max_date, (max_date-min_date)/(len(met_data)))\n",
    "\n",
    "        if not minimal_time: minimal_time = min_date\n",
    "        if not maximal_time: maximal_time = max_date\n",
    "        if min_date < minimal_time: minimal_time = min_date\n",
    "        if max_date > maximal_time: maximal_time = max_date\n",
    "\n",
    "        ax.set_title(bolid['namesimple'] + \" (\" + str(selected[i])+\")\")\n",
    "        ax.plot(met_data, array)\n",
    "        ax.grid(True)\n",
    "    except Exception as e:\n",
    "        print(e)\n",
    "\n",
    "fig.subplots_adjust(hspace=0)\n",
    "print(minimal_time, maximal_time)"
   ]
  },
  {
   "cell_type": "code",
   "execution_count": 158,
   "metadata": {
    "collapsed": true
   },
   "outputs": [],
   "source": [
    "def waterfall(signal, sample_rate=None, bins = 4096 ):\n",
    "    waterfall = recviewer.waterfallize(signal, bins)\n",
    "    waterfall[np.isneginf(waterfall)] = np.nan\n",
    "    wmin, wmax = np.nanmin(waterfall), np.nanmax(waterfall)\n",
    "    return waterfall"
   ]
  },
  {
   "cell_type": "code",
   "execution_count": 159,
   "metadata": {
    "collapsed": true
   },
   "outputs": [],
   "source": [
    "%matplotlib inline \n",
    "#%matplotlib notebook\n",
    "count = len(selected)\n",
    "fig, axis = plt.subplots(1, count, sharex=True, sharey=True, figsize=(20, 10))\n",
    "\n",
    "print(time_offset)\n",
    "fig.suptitle(\"Multibolid %s (%s)\" %(datetime.datetime.utcfromtimestamp(minimal_time).date(), multibolid_id))\n",
    "fig.subplots_adjust(hspace=0)\n",
    "plt.set_cmap('hot')\n",
    "for i, ax in enumerate(axis):\n",
    "    bolid = bolids.result[selected[i]]\n",
    "    hdu = fits.open(bolid['url_file_raw'])[0]\n",
    "    flat_data = np.ravel(hdu.data)\n",
    "    \n",
    "    T_offset = datetime.timedelta(seconds = 10*time_offset.get(selected[i], 0))\n",
    "    #print(i, selected[i], bolid['time_calib']['cor_file_beg'], bolid['time_calib']['cor_file_beg']+T_offset, T_offset)\n",
    "    d1 = bolid['time_calib']['cor_file_beg']+T_offset\n",
    "    fds1 = dates.date2num(d1) # converted\n",
    "    d2 = d1 + datetime.timedelta(seconds=hdu.header['NAXIS2']/48000.0/2)\n",
    "    fds2 = dates.date2num(d2)\n",
    "    \n",
    "    arr = waterfall(flat_data[0::2] + 1j * flat_data[1::2], 48000, bins = 4096*4)\n",
    "    ax.imshow(arr,  interpolation='none', aspect='auto',  extent=[-24000, 24000, fds2, fds1])\n",
    "    ax.grid(True)\n",
    "    \n",
    "    ax.set_xlim(13000,13500)\n",
    "    ax.yaxis_date()\n",
    "    date_format = md.DateFormatter('%H:%M:%S')\n",
    "    ax.yaxis.set_major_formatter(date_format)\n",
    "    fig.autofmt_xdate()\n",
    "    ax.set_ylim( datetime.datetime.utcfromtimestamp(minimal_time), datetime.datetime.utcfromtimestamp(maximal_time))\n",
    "    \n",
    "    offset = abs(bolid['time_calib']['cor_error']).microseconds/1000000 + abs(bolid['time_calib']['cor_error']).seconds\n",
    "    if bolid['time_calib']['cor_error'] < datetime.timedelta(seconds=0): offset = -offset\n",
    "    #ax.set_title(bolid['namesimple']+ \" err:\"+str(offset))\n",
    "    ax.set_title(bolid['namesimple'])"
   ]
  },
  {
   "cell_type": "code",
   "execution_count": 160,
   "metadata": {
    "collapsed": true
   },
   "outputs": [],
   "source": [
    "%notebook -e \"Multibolid_%s_%s\" %(datetime.datetime.utcfromtimestamp(minimal_time).date(), multibolid_id)"
   ]
  },
  {
   "cell_type": "code",
   "execution_count": 161,
   "metadata": {
    "collapsed": true
   },
   "outputs": [],
   "source": [
    "%notebook \"Multibolid_%s_%s\" %(datetime.datetime.utcfromtimestamp(minimal_time).date(), multibolid_id)"
   ]
  },
  {
   "cell_type": "code",
   "execution_count": 162,
   "metadata": {
    "collapsed": true
   },
   "outputs": [],
   "source": [
    "%notebook \"Multibolid_%s_%s\""
   ]
  },
  {
   "cell_type": "code",
   "execution_count": 163,
   "metadata": {
    "collapsed": true
   },
   "outputs": [],
   "source": [
    "%notebook \"Multibolid_%s_%s\"%('aa', 'bb')"
   ]
  },
  {
   "cell_type": "code",
   "execution_count": 164,
   "metadata": {
    "collapsed": true
   },
   "outputs": [],
   "source": [
    "file = 'aa'\n",
    "%notebook file"
   ]
  },
  {
   "cell_type": "code",
   "execution_count": 165,
   "metadata": {
    "collapsed": true
   },
   "outputs": [],
   "source": [
    "$export = './export/multiboli_%s_%s' %(datetime.datetime.utcfromtimestamp(minimal_time).date(), multibolid_id)\n",
    "%notebook $export"
   ]
  },
  {
   "cell_type": "code",
   "execution_count": 166,
   "metadata": {
    "collapsed": true
   },
   "outputs": [],
   "source": [
    "from custom_magics import Macro\n",
    "$export = './export/multiboli_%s_%s' %(datetime.datetime.utcfromtimestamp(minimal_time).date(), multibolid_id)\n",
    "%notebook $export"
   ]
  },
  {
   "cell_type": "code",
   "execution_count": 167,
   "metadata": {
    "collapsed": true
   },
   "outputs": [],
   "source": [
    "from custom_magics import Macro\n",
    "Macro(\"export\", './export/multiboli_%s_%s'\n",
    "      %(datetime.datetime.utcfromtimestamp(minimal_time).date(), multibolid_id))\n",
    "%notebook $export"
   ]
  },
  {
   "cell_type": "code",
   "execution_count": 168,
   "metadata": {
    "collapsed": true
   },
   "outputs": [],
   "source": [
    "$export = './export/multiboli_%s_%s' %(datetime.datetime.utcfromtimestamp(minimal_time).date(), multibolid_id)\n",
    "%notebook $export"
   ]
  },
  {
   "cell_type": "code",
   "execution_count": 169,
   "metadata": {
    "collapsed": true
   },
   "outputs": [],
   "source": [
    "export = './export/multiboli_%s_%s' %(datetime.datetime.utcfromtimestamp(minimal_time).date(), multibolid_id)\n",
    "%notebook $export"
   ]
  },
  {
   "cell_type": "code",
   "execution_count": 170,
   "metadata": {
    "collapsed": true
   },
   "outputs": [],
   "source": [
    "export = './export/multibolid_%s_%s.ipnb' %(datetime.datetime.utcfromtimestamp(minimal_time).date(), multibolid_id)\n",
    "%notebook $export"
   ]
  },
  {
   "cell_type": "code",
   "execution_count": 171,
   "metadata": {
    "collapsed": true
   },
   "outputs": [],
   "source": [
    "export = './export/multibolid_%s_%s.ipnb' %(datetime.datetime.utcfromtimestamp(minimal_time).date(), multibolid_id)\n",
    "%notebook $export"
   ]
  },
  {
   "cell_type": "code",
   "execution_count": 172,
   "metadata": {
    "collapsed": true
   },
   "outputs": [],
   "source": [
    "export = './export/multibolid_%s_%s.ipynb' %(datetime.datetime.utcfromtimestamp(minimal_time).date(), multibolid_id)\n",
    "%notebook $export"
   ]
  },
  {
   "cell_type": "code",
   "execution_count": 173,
   "metadata": {
    "collapsed": true
   },
   "outputs": [],
   "source": [
    "export = './export/multibolid_%s_%s.ipynb' %(datetime.datetime.utcfromtimestamp(minimal_time).date(), multibolid_id)\n",
    "%notebook -e $export"
   ]
  }
 ],
 "metadata": {
  "kernelspec": {
   "display_name": "Python 3",
   "language": "python",
   "name": "python3"
  },
  "language_info": {
   "codemirror_mode": {
    "name": "ipython",
    "version": 3
   },
   "file_extension": ".py",
   "mimetype": "text/x-python",
   "name": "python",
   "nbconvert_exporter": "python",
   "pygments_lexer": "ipython3",
   "version": "3.5.2"
  }
 },
 "nbformat": 4,
 "nbformat_minor": 2
}
