{
 "metadata": {
  "name": "",
  "signature": "sha256:18293414481ce4b149f934525340487d9e31f12eaefbc7777ac33aea21e1f435"
 },
 "nbformat": 3,
 "nbformat_minor": 0,
 "worksheets": [
  {
   "cells": [
    {
     "cell_type": "code",
     "collapsed": false,
     "input": [
      "import datetime\n",
      "import time\n",
      "import bzpost\n",
      "BASE_URL = \"http://space.astro.cz/bolidozor/svakov/SVAKOV-R6/\""
     ],
     "language": "python",
     "metadata": {},
     "outputs": [],
     "prompt_number": 21
    },
    {
     "cell_type": "code",
     "collapsed": false,
     "input": [
      "c = bzpost.HTTPConnector(BASE_URL)\n",
      "c.connect()"
     ],
     "language": "python",
     "metadata": {},
     "outputs": [],
     "prompt_number": 10
    },
    {
     "cell_type": "code",
     "collapsed": false,
     "input": [
      "c.request(BASE_URL)"
     ],
     "language": "python",
     "metadata": {},
     "outputs": [
      {
       "metadata": {},
       "output_type": "pyout",
       "prompt_number": 11,
       "text": [
        "'<!DOCTYPE HTML PUBLIC \"-//W3C//DTD HTML 3.2 Final//EN\">\\n<html>\\n <head>\\n  <title>Index of /bolidozor/svakov/SVAKOV-R6</title>\\n </head>\\n <body>\\n<h1>Index of /bolidozor/svakov/SVAKOV-R6</h1>\\n<ul><li><a href=\"/bolidozor/svakov/\"> Parent Directory</a></li>\\n<li><a href=\"SVAKOV-R6.json\"> SVAKOV-R6.json</a></li>\\n<li><a href=\"data/\"> data/</a></li>\\n<li><a href=\"meteors/\"> meteors/</a></li>\\n<li><a href=\"radio-observer\"> radio-observer</a></li>\\n<li><a href=\"rmob.cfg\"> rmob.cfg</a></li>\\n<li><a href=\"snapshots/\"> snapshots/</a></li>\\n</ul>\\n</body></html>\\n'"
       ]
      }
     ],
     "prompt_number": 11
    },
    {
     "cell_type": "code",
     "collapsed": false,
     "input": [
      "snapshot_start_time = datetime.date.fromtimestamp(time.time())\n",
      "#snapshot_start_time.replace(hour=snapshot_start_time.hour - 1)"
     ],
     "language": "python",
     "metadata": {},
     "outputs": [],
     "prompt_number": 44
    },
    {
     "cell_type": "code",
     "collapsed": false,
     "input": [
      "snapshots = c.get_snapshots(snapshot_start_time)"
     ],
     "language": "python",
     "metadata": {},
     "outputs": [],
     "prompt_number": 47
    },
    {
     "cell_type": "code",
     "collapsed": false,
     "input": [
      "today"
     ],
     "language": "python",
     "metadata": {},
     "outputs": [
      {
       "metadata": {},
       "output_type": "pyout",
       "prompt_number": 36,
       "text": [
        "datetime.date(2015, 2, 5)"
       ]
      }
     ],
     "prompt_number": 36
    },
    {
     "cell_type": "code",
     "collapsed": false,
     "input": [],
     "language": "python",
     "metadata": {},
     "outputs": [],
     "prompt_number": 52
    },
    {
     "cell_type": "code",
     "collapsed": false,
     "input": [
      "c.close()"
     ],
     "language": "python",
     "metadata": {},
     "outputs": [],
     "prompt_number": 8
    },
    {
     "cell_type": "code",
     "collapsed": false,
     "input": [
      "snapshots."
     ],
     "language": "python",
     "metadata": {},
     "outputs": [
      {
       "metadata": {},
       "output_type": "pyout",
       "prompt_number": 51,
       "text": [
        "<method-wrapper 'next' of generator object at 0x7fd1d129db90>"
       ]
      }
     ],
     "prompt_number": 51
    },
    {
     "cell_type": "code",
     "collapsed": false,
     "input": [],
     "language": "python",
     "metadata": {},
     "outputs": []
    }
   ],
   "metadata": {}
  }
 ]
}