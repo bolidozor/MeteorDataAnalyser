{
 "metadata": {
  "name": "",
  "signature": "sha256:25232686fc671936fdcb22f9d0561012e6d90d5df5c6f76467ad2848e44db58d"
 },
 "nbformat": 3,
 "nbformat_minor": 0,
 "worksheets": [
  {
   "cells": [
    {
     "cell_type": "code",
     "collapsed": false,
     "input": [
      "import datetime\n",
      "import time\n",
      "import bzpost\n",
      "from astropy.utils.data import download_file\n",
      "from astropy.io import fits\n",
      "import matplotlib.pyplot as plt\n",
      "import numpy as np\n",
      "\n",
      "BASE_URL = \"http://space.astro.cz/bolidozor/svakov/SVAKOV-R6/\""
     ],
     "language": "python",
     "metadata": {},
     "outputs": [],
     "prompt_number": 1
    },
    {
     "cell_type": "code",
     "collapsed": false,
     "input": [
      "c = bzpost.HTTPConnector(BASE_URL)\n",
      "c.connect()\n",
      "snapshot_start_time = datetime.datetime.today() - datetime.timedelta(hours = 1.5)\n",
      "snapshots = list(c.get_snapshots(snapshot_start_time))\n",
      "c.close()"
     ],
     "language": "python",
     "metadata": {},
     "outputs": [],
     "prompt_number": 18
    },
    {
     "cell_type": "code",
     "collapsed": false,
     "input": [
      "snap_concat = fits.getdata(download_file(snapshots[0].url, cache=True))\n",
      "\n",
      "for f in snapshots:\n",
      "    snap_concat = np.concatenate( (snap_concat, fits.getdata(download_file(snapshots[0].url, cache=True ))), axis=0)"
     ],
     "language": "python",
     "metadata": {},
     "outputs": [],
     "prompt_number": 19
    },
    {
     "cell_type": "code",
     "collapsed": false,
     "input": [],
     "language": "python",
     "metadata": {},
     "outputs": [],
     "prompt_number": 19
    },
    {
     "cell_type": "code",
     "collapsed": false,
     "input": [],
     "language": "python",
     "metadata": {},
     "outputs": [],
     "prompt_number": 19
    },
    {
     "cell_type": "code",
     "collapsed": false,
     "input": [],
     "language": "python",
     "metadata": {},
     "outputs": [],
     "prompt_number": 19
    },
    {
     "cell_type": "code",
     "collapsed": false,
     "input": [
      "snapshots"
     ],
     "language": "python",
     "metadata": {},
     "outputs": [
      {
       "metadata": {},
       "output_type": "pyout",
       "prompt_number": 20,
       "text": [
        "[SnapshotEntry(<bzpost.HTTPConnector object at 0x7f2c4ac6cd50>, '20150207210044511_SVAKOV-R6_snap.fits', datetime.datetime(2015, 2, 7, 21, 0, 44), 'http://space.astro.cz/bolidozor/svakov/SVAKOV-R6/snapshots/2015/02/07/21/20150207210044511_SVAKOV-R6_snap.fits'),\n",
        " SnapshotEntry(<bzpost.HTTPConnector object at 0x7f2c4ac6cd50>, '20150207210144585_SVAKOV-R6_snap.fits', datetime.datetime(2015, 2, 7, 21, 1, 44), 'http://space.astro.cz/bolidozor/svakov/SVAKOV-R6/snapshots/2015/02/07/21/20150207210144585_SVAKOV-R6_snap.fits'),\n",
        " SnapshotEntry(<bzpost.HTTPConnector object at 0x7f2c4ac6cd50>, '20150207210244660_SVAKOV-R6_snap.fits', datetime.datetime(2015, 2, 7, 21, 2, 44), 'http://space.astro.cz/bolidozor/svakov/SVAKOV-R6/snapshots/2015/02/07/21/20150207210244660_SVAKOV-R6_snap.fits'),\n",
        " SnapshotEntry(<bzpost.HTTPConnector object at 0x7f2c4ac6cd50>, '20150207210344735_SVAKOV-R6_snap.fits', datetime.datetime(2015, 2, 7, 21, 3, 44), 'http://space.astro.cz/bolidozor/svakov/SVAKOV-R6/snapshots/2015/02/07/21/20150207210344735_SVAKOV-R6_snap.fits'),\n",
        " SnapshotEntry(<bzpost.HTTPConnector object at 0x7f2c4ac6cd50>, '20150207210444809_SVAKOV-R6_snap.fits', datetime.datetime(2015, 2, 7, 21, 4, 44), 'http://space.astro.cz/bolidozor/svakov/SVAKOV-R6/snapshots/2015/02/07/21/20150207210444809_SVAKOV-R6_snap.fits'),\n",
        " SnapshotEntry(<bzpost.HTTPConnector object at 0x7f2c4ac6cd50>, '20150207210544884_SVAKOV-R6_snap.fits', datetime.datetime(2015, 2, 7, 21, 5, 44), 'http://space.astro.cz/bolidozor/svakov/SVAKOV-R6/snapshots/2015/02/07/21/20150207210544884_SVAKOV-R6_snap.fits'),\n",
        " SnapshotEntry(<bzpost.HTTPConnector object at 0x7f2c4ac6cd50>, '20150207210644959_SVAKOV-R6_snap.fits', datetime.datetime(2015, 2, 7, 21, 6, 44), 'http://space.astro.cz/bolidozor/svakov/SVAKOV-R6/snapshots/2015/02/07/21/20150207210644959_SVAKOV-R6_snap.fits'),\n",
        " SnapshotEntry(<bzpost.HTTPConnector object at 0x7f2c4ac6cd50>, '20150207210745033_SVAKOV-R6_snap.fits', datetime.datetime(2015, 2, 7, 21, 7, 45), 'http://space.astro.cz/bolidozor/svakov/SVAKOV-R6/snapshots/2015/02/07/21/20150207210745033_SVAKOV-R6_snap.fits'),\n",
        " SnapshotEntry(<bzpost.HTTPConnector object at 0x7f2c4ac6cd50>, '20150207210845108_SVAKOV-R6_snap.fits', datetime.datetime(2015, 2, 7, 21, 8, 45), 'http://space.astro.cz/bolidozor/svakov/SVAKOV-R6/snapshots/2015/02/07/21/20150207210845108_SVAKOV-R6_snap.fits'),\n",
        " SnapshotEntry(<bzpost.HTTPConnector object at 0x7f2c4ac6cd50>, '20150207210945183_SVAKOV-R6_snap.fits', datetime.datetime(2015, 2, 7, 21, 9, 45), 'http://space.astro.cz/bolidozor/svakov/SVAKOV-R6/snapshots/2015/02/07/21/20150207210945183_SVAKOV-R6_snap.fits'),\n",
        " SnapshotEntry(<bzpost.HTTPConnector object at 0x7f2c4ac6cd50>, '20150207211045257_SVAKOV-R6_snap.fits', datetime.datetime(2015, 2, 7, 21, 10, 45), 'http://space.astro.cz/bolidozor/svakov/SVAKOV-R6/snapshots/2015/02/07/21/20150207211045257_SVAKOV-R6_snap.fits'),\n",
        " SnapshotEntry(<bzpost.HTTPConnector object at 0x7f2c4ac6cd50>, '20150207211145332_SVAKOV-R6_snap.fits', datetime.datetime(2015, 2, 7, 21, 11, 45), 'http://space.astro.cz/bolidozor/svakov/SVAKOV-R6/snapshots/2015/02/07/21/20150207211145332_SVAKOV-R6_snap.fits'),\n",
        " SnapshotEntry(<bzpost.HTTPConnector object at 0x7f2c4ac6cd50>, '20150207211245407_SVAKOV-R6_snap.fits', datetime.datetime(2015, 2, 7, 21, 12, 45), 'http://space.astro.cz/bolidozor/svakov/SVAKOV-R6/snapshots/2015/02/07/21/20150207211245407_SVAKOV-R6_snap.fits'),\n",
        " SnapshotEntry(<bzpost.HTTPConnector object at 0x7f2c4ac6cd50>, '20150207211345481_SVAKOV-R6_snap.fits', datetime.datetime(2015, 2, 7, 21, 13, 45), 'http://space.astro.cz/bolidozor/svakov/SVAKOV-R6/snapshots/2015/02/07/21/20150207211345481_SVAKOV-R6_snap.fits'),\n",
        " SnapshotEntry(<bzpost.HTTPConnector object at 0x7f2c4ac6cd50>, '20150207211445556_SVAKOV-R6_snap.fits', datetime.datetime(2015, 2, 7, 21, 14, 45), 'http://space.astro.cz/bolidozor/svakov/SVAKOV-R6/snapshots/2015/02/07/21/20150207211445556_SVAKOV-R6_snap.fits'),\n",
        " SnapshotEntry(<bzpost.HTTPConnector object at 0x7f2c4ac6cd50>, '20150207211545631_SVAKOV-R6_snap.fits', datetime.datetime(2015, 2, 7, 21, 15, 45), 'http://space.astro.cz/bolidozor/svakov/SVAKOV-R6/snapshots/2015/02/07/21/20150207211545631_SVAKOV-R6_snap.fits'),\n",
        " SnapshotEntry(<bzpost.HTTPConnector object at 0x7f2c4ac6cd50>, '20150207211645705_SVAKOV-R6_snap.fits', datetime.datetime(2015, 2, 7, 21, 16, 45), 'http://space.astro.cz/bolidozor/svakov/SVAKOV-R6/snapshots/2015/02/07/21/20150207211645705_SVAKOV-R6_snap.fits'),\n",
        " SnapshotEntry(<bzpost.HTTPConnector object at 0x7f2c4ac6cd50>, '20150207211745780_SVAKOV-R6_snap.fits', datetime.datetime(2015, 2, 7, 21, 17, 45), 'http://space.astro.cz/bolidozor/svakov/SVAKOV-R6/snapshots/2015/02/07/21/20150207211745780_SVAKOV-R6_snap.fits'),\n",
        " SnapshotEntry(<bzpost.HTTPConnector object at 0x7f2c4ac6cd50>, '20150207211845855_SVAKOV-R6_snap.fits', datetime.datetime(2015, 2, 7, 21, 18, 45), 'http://space.astro.cz/bolidozor/svakov/SVAKOV-R6/snapshots/2015/02/07/21/20150207211845855_SVAKOV-R6_snap.fits'),\n",
        " SnapshotEntry(<bzpost.HTTPConnector object at 0x7f2c4ac6cd50>, '20150207211945929_SVAKOV-R6_snap.fits', datetime.datetime(2015, 2, 7, 21, 19, 45), 'http://space.astro.cz/bolidozor/svakov/SVAKOV-R6/snapshots/2015/02/07/21/20150207211945929_SVAKOV-R6_snap.fits'),\n",
        " SnapshotEntry(<bzpost.HTTPConnector object at 0x7f2c4ac6cd50>, '20150207212046004_SVAKOV-R6_snap.fits', datetime.datetime(2015, 2, 7, 21, 20, 46), 'http://space.astro.cz/bolidozor/svakov/SVAKOV-R6/snapshots/2015/02/07/21/20150207212046004_SVAKOV-R6_snap.fits'),\n",
        " SnapshotEntry(<bzpost.HTTPConnector object at 0x7f2c4ac6cd50>, '20150207212146079_SVAKOV-R6_snap.fits', datetime.datetime(2015, 2, 7, 21, 21, 46), 'http://space.astro.cz/bolidozor/svakov/SVAKOV-R6/snapshots/2015/02/07/21/20150207212146079_SVAKOV-R6_snap.fits'),\n",
        " SnapshotEntry(<bzpost.HTTPConnector object at 0x7f2c4ac6cd50>, '20150207212246153_SVAKOV-R6_snap.fits', datetime.datetime(2015, 2, 7, 21, 22, 46), 'http://space.astro.cz/bolidozor/svakov/SVAKOV-R6/snapshots/2015/02/07/21/20150207212246153_SVAKOV-R6_snap.fits'),\n",
        " SnapshotEntry(<bzpost.HTTPConnector object at 0x7f2c4ac6cd50>, '20150207212346228_SVAKOV-R6_snap.fits', datetime.datetime(2015, 2, 7, 21, 23, 46), 'http://space.astro.cz/bolidozor/svakov/SVAKOV-R6/snapshots/2015/02/07/21/20150207212346228_SVAKOV-R6_snap.fits'),\n",
        " SnapshotEntry(<bzpost.HTTPConnector object at 0x7f2c4ac6cd50>, '20150207212446303_SVAKOV-R6_snap.fits', datetime.datetime(2015, 2, 7, 21, 24, 46), 'http://space.astro.cz/bolidozor/svakov/SVAKOV-R6/snapshots/2015/02/07/21/20150207212446303_SVAKOV-R6_snap.fits'),\n",
        " SnapshotEntry(<bzpost.HTTPConnector object at 0x7f2c4ac6cd50>, '20150207212546377_SVAKOV-R6_snap.fits', datetime.datetime(2015, 2, 7, 21, 25, 46), 'http://space.astro.cz/bolidozor/svakov/SVAKOV-R6/snapshots/2015/02/07/21/20150207212546377_SVAKOV-R6_snap.fits'),\n",
        " SnapshotEntry(<bzpost.HTTPConnector object at 0x7f2c4ac6cd50>, '20150207212646452_SVAKOV-R6_snap.fits', datetime.datetime(2015, 2, 7, 21, 26, 46), 'http://space.astro.cz/bolidozor/svakov/SVAKOV-R6/snapshots/2015/02/07/21/20150207212646452_SVAKOV-R6_snap.fits'),\n",
        " SnapshotEntry(<bzpost.HTTPConnector object at 0x7f2c4ac6cd50>, '20150207212746527_SVAKOV-R6_snap.fits', datetime.datetime(2015, 2, 7, 21, 27, 46), 'http://space.astro.cz/bolidozor/svakov/SVAKOV-R6/snapshots/2015/02/07/21/20150207212746527_SVAKOV-R6_snap.fits'),\n",
        " SnapshotEntry(<bzpost.HTTPConnector object at 0x7f2c4ac6cd50>, '20150207212846601_SVAKOV-R6_snap.fits', datetime.datetime(2015, 2, 7, 21, 28, 46), 'http://space.astro.cz/bolidozor/svakov/SVAKOV-R6/snapshots/2015/02/07/21/20150207212846601_SVAKOV-R6_snap.fits'),\n",
        " SnapshotEntry(<bzpost.HTTPConnector object at 0x7f2c4ac6cd50>, '20150207212946676_SVAKOV-R6_snap.fits', datetime.datetime(2015, 2, 7, 21, 29, 46), 'http://space.astro.cz/bolidozor/svakov/SVAKOV-R6/snapshots/2015/02/07/21/20150207212946676_SVAKOV-R6_snap.fits'),\n",
        " SnapshotEntry(<bzpost.HTTPConnector object at 0x7f2c4ac6cd50>, '20150207213046751_SVAKOV-R6_snap.fits', datetime.datetime(2015, 2, 7, 21, 30, 46), 'http://space.astro.cz/bolidozor/svakov/SVAKOV-R6/snapshots/2015/02/07/21/20150207213046751_SVAKOV-R6_snap.fits'),\n",
        " SnapshotEntry(<bzpost.HTTPConnector object at 0x7f2c4ac6cd50>, '20150207213146825_SVAKOV-R6_snap.fits', datetime.datetime(2015, 2, 7, 21, 31, 46), 'http://space.astro.cz/bolidozor/svakov/SVAKOV-R6/snapshots/2015/02/07/21/20150207213146825_SVAKOV-R6_snap.fits'),\n",
        " SnapshotEntry(<bzpost.HTTPConnector object at 0x7f2c4ac6cd50>, '20150207213246900_SVAKOV-R6_snap.fits', datetime.datetime(2015, 2, 7, 21, 32, 46), 'http://space.astro.cz/bolidozor/svakov/SVAKOV-R6/snapshots/2015/02/07/21/20150207213246900_SVAKOV-R6_snap.fits'),\n",
        " SnapshotEntry(<bzpost.HTTPConnector object at 0x7f2c4ac6cd50>, '20150207213346975_SVAKOV-R6_snap.fits', datetime.datetime(2015, 2, 7, 21, 33, 46), 'http://space.astro.cz/bolidozor/svakov/SVAKOV-R6/snapshots/2015/02/07/21/20150207213346975_SVAKOV-R6_snap.fits'),\n",
        " SnapshotEntry(<bzpost.HTTPConnector object at 0x7f2c4ac6cd50>, '20150207213447049_SVAKOV-R6_snap.fits', datetime.datetime(2015, 2, 7, 21, 34, 47), 'http://space.astro.cz/bolidozor/svakov/SVAKOV-R6/snapshots/2015/02/07/21/20150207213447049_SVAKOV-R6_snap.fits'),\n",
        " SnapshotEntry(<bzpost.HTTPConnector object at 0x7f2c4ac6cd50>, '20150207213547124_SVAKOV-R6_snap.fits', datetime.datetime(2015, 2, 7, 21, 35, 47), 'http://space.astro.cz/bolidozor/svakov/SVAKOV-R6/snapshots/2015/02/07/21/20150207213547124_SVAKOV-R6_snap.fits'),\n",
        " SnapshotEntry(<bzpost.HTTPConnector object at 0x7f2c4ac6cd50>, '20150207213647199_SVAKOV-R6_snap.fits', datetime.datetime(2015, 2, 7, 21, 36, 47), 'http://space.astro.cz/bolidozor/svakov/SVAKOV-R6/snapshots/2015/02/07/21/20150207213647199_SVAKOV-R6_snap.fits'),\n",
        " SnapshotEntry(<bzpost.HTTPConnector object at 0x7f2c4ac6cd50>, '20150207213747273_SVAKOV-R6_snap.fits', datetime.datetime(2015, 2, 7, 21, 37, 47), 'http://space.astro.cz/bolidozor/svakov/SVAKOV-R6/snapshots/2015/02/07/21/20150207213747273_SVAKOV-R6_snap.fits'),\n",
        " SnapshotEntry(<bzpost.HTTPConnector object at 0x7f2c4ac6cd50>, '20150207213847348_SVAKOV-R6_snap.fits', datetime.datetime(2015, 2, 7, 21, 38, 47), 'http://space.astro.cz/bolidozor/svakov/SVAKOV-R6/snapshots/2015/02/07/21/20150207213847348_SVAKOV-R6_snap.fits'),\n",
        " SnapshotEntry(<bzpost.HTTPConnector object at 0x7f2c4ac6cd50>, '20150207213947423_SVAKOV-R6_snap.fits', datetime.datetime(2015, 2, 7, 21, 39, 47), 'http://space.astro.cz/bolidozor/svakov/SVAKOV-R6/snapshots/2015/02/07/21/20150207213947423_SVAKOV-R6_snap.fits'),\n",
        " SnapshotEntry(<bzpost.HTTPConnector object at 0x7f2c4ac6cd50>, '20150207214047497_SVAKOV-R6_snap.fits', datetime.datetime(2015, 2, 7, 21, 40, 47), 'http://space.astro.cz/bolidozor/svakov/SVAKOV-R6/snapshots/2015/02/07/21/20150207214047497_SVAKOV-R6_snap.fits'),\n",
        " SnapshotEntry(<bzpost.HTTPConnector object at 0x7f2c4ac6cd50>, '20150207214147572_SVAKOV-R6_snap.fits', datetime.datetime(2015, 2, 7, 21, 41, 47), 'http://space.astro.cz/bolidozor/svakov/SVAKOV-R6/snapshots/2015/02/07/21/20150207214147572_SVAKOV-R6_snap.fits'),\n",
        " SnapshotEntry(<bzpost.HTTPConnector object at 0x7f2c4ac6cd50>, '20150207214247647_SVAKOV-R6_snap.fits', datetime.datetime(2015, 2, 7, 21, 42, 47), 'http://space.astro.cz/bolidozor/svakov/SVAKOV-R6/snapshots/2015/02/07/21/20150207214247647_SVAKOV-R6_snap.fits'),\n",
        " SnapshotEntry(<bzpost.HTTPConnector object at 0x7f2c4ac6cd50>, '20150207214347721_SVAKOV-R6_snap.fits', datetime.datetime(2015, 2, 7, 21, 43, 47), 'http://space.astro.cz/bolidozor/svakov/SVAKOV-R6/snapshots/2015/02/07/21/20150207214347721_SVAKOV-R6_snap.fits'),\n",
        " SnapshotEntry(<bzpost.HTTPConnector object at 0x7f2c4ac6cd50>, '20150207214447796_SVAKOV-R6_snap.fits', datetime.datetime(2015, 2, 7, 21, 44, 47), 'http://space.astro.cz/bolidozor/svakov/SVAKOV-R6/snapshots/2015/02/07/21/20150207214447796_SVAKOV-R6_snap.fits'),\n",
        " SnapshotEntry(<bzpost.HTTPConnector object at 0x7f2c4ac6cd50>, '20150207214547871_SVAKOV-R6_snap.fits', datetime.datetime(2015, 2, 7, 21, 45, 47), 'http://space.astro.cz/bolidozor/svakov/SVAKOV-R6/snapshots/2015/02/07/21/20150207214547871_SVAKOV-R6_snap.fits'),\n",
        " SnapshotEntry(<bzpost.HTTPConnector object at 0x7f2c4ac6cd50>, '20150207214647945_SVAKOV-R6_snap.fits', datetime.datetime(2015, 2, 7, 21, 46, 47), 'http://space.astro.cz/bolidozor/svakov/SVAKOV-R6/snapshots/2015/02/07/21/20150207214647945_SVAKOV-R6_snap.fits'),\n",
        " SnapshotEntry(<bzpost.HTTPConnector object at 0x7f2c4ac6cd50>, '20150207214748020_SVAKOV-R6_snap.fits', datetime.datetime(2015, 2, 7, 21, 47, 48), 'http://space.astro.cz/bolidozor/svakov/SVAKOV-R6/snapshots/2015/02/07/21/20150207214748020_SVAKOV-R6_snap.fits'),\n",
        " SnapshotEntry(<bzpost.HTTPConnector object at 0x7f2c4ac6cd50>, '20150207214848095_SVAKOV-R6_snap.fits', datetime.datetime(2015, 2, 7, 21, 48, 48), 'http://space.astro.cz/bolidozor/svakov/SVAKOV-R6/snapshots/2015/02/07/21/20150207214848095_SVAKOV-R6_snap.fits'),\n",
        " SnapshotEntry(<bzpost.HTTPConnector object at 0x7f2c4ac6cd50>, '20150207214948169_SVAKOV-R6_snap.fits', datetime.datetime(2015, 2, 7, 21, 49, 48), 'http://space.astro.cz/bolidozor/svakov/SVAKOV-R6/snapshots/2015/02/07/21/20150207214948169_SVAKOV-R6_snap.fits')]"
       ]
      }
     ],
     "prompt_number": 20
    },
    {
     "cell_type": "code",
     "collapsed": false,
     "input": [],
     "language": "python",
     "metadata": {},
     "outputs": [],
     "prompt_number": 30
    },
    {
     "cell_type": "code",
     "collapsed": false,
     "input": [],
     "language": "python",
     "metadata": {},
     "outputs": [],
     "prompt_number": 21
    },
    {
     "cell_type": "code",
     "collapsed": false,
     "input": [
      "plt.imshow(snap_concat, cmap='gray')\n",
      "plt.colorbar()\n",
      "plt.show()\n"
     ],
     "language": "python",
     "metadata": {},
     "outputs": [],
     "prompt_number": 22
    },
    {
     "cell_type": "code",
     "collapsed": false,
     "input": [],
     "language": "python",
     "metadata": {},
     "outputs": [
      {
       "output_type": "stream",
       "stream": "stdout",
       "text": [
        "2015-02-07 17:28:36\n"
       ]
      }
     ],
     "prompt_number": 14
    },
    {
     "cell_type": "code",
     "collapsed": false,
     "input": [],
     "language": "python",
     "metadata": {},
     "outputs": []
    }
   ],
   "metadata": {}
  }
 ]
}