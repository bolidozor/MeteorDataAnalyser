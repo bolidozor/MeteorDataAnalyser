{
 "metadata": {
  "name": "",
  "signature": "sha256:b2c13450103ccec8e8b322e2f5c392d3b6067799e9f83efdc13443de80cfc1cd"
 },
 "nbformat": 3,
 "nbformat_minor": 0,
 "worksheets": [
  {
   "cells": [
    {
     "cell_type": "markdown",
     "metadata": {},
     "source": [
      "Calculation of meteor trajectory from head-echo dopplers\n",
      "=======\n",
      "\n",
      "Theory is adopted from Christian Steyaert et. al. 2010\n"
     ]
    },
    {
     "cell_type": "code",
     "collapsed": false,
     "input": [
      "TMx = (x_M \u2212 x T )\n",
      "TMy = (y M \u2212 y T )\n",
      "TMz = (z M \u2212 z T )"
     ],
     "language": "python",
     "metadata": {},
     "outputs": [
      {
       "ename": "SyntaxError",
       "evalue": "invalid syntax (<ipython-input-1-98dca8f4f72e>, line 1)",
       "output_type": "pyerr",
       "traceback": [
        "\u001b[0;36m  File \u001b[0;32m\"<ipython-input-1-98dca8f4f72e>\"\u001b[0;36m, line \u001b[0;32m1\u001b[0m\n\u001b[0;31m    TMx = (x_M \u2212 x T )\u001b[0m\n\u001b[0m               ^\u001b[0m\n\u001b[0;31mSyntaxError\u001b[0m\u001b[0;31m:\u001b[0m invalid syntax\n"
       ]
      }
     ],
     "prompt_number": 1
    },
    {
     "cell_type": "code",
     "collapsed": false,
     "input": [
      "import pylab\n",
      "f = pylab.figure()"
     ],
     "language": "python",
     "metadata": {},
     "outputs": [],
     "prompt_number": 2
    },
    {
     "cell_type": "code",
     "collapsed": false,
     "input": [
      "pylab.plot([1,2,3], [1,2,4], 'go-', label='line 1', linewidth=2)\n",
      "pylab.plot([1,2,3], [1,2,2], 'bo-', label='line 1', linewidth=2)"
     ],
     "language": "python",
     "metadata": {},
     "outputs": [
      {
       "metadata": {},
       "output_type": "pyout",
       "prompt_number": 3,
       "text": [
        "[<matplotlib.lines.Line2D at 0x7fa190159790>]"
       ]
      }
     ],
     "prompt_number": 3
    },
    {
     "cell_type": "code",
     "collapsed": false,
     "input": [
      "pylab.show()"
     ],
     "language": "python",
     "metadata": {},
     "outputs": [],
     "prompt_number": 4
    },
    {
     "cell_type": "markdown",
     "metadata": {},
     "source": [
      "Head Echo doppler function \n",
      "======="
     ]
    },
    {
     "cell_type": "markdown",
     "metadata": {},
     "source": [
      "The equation is  obtained from publication at http://adsabs.harvard.edu/abs/1998JIMO...26..117R (1998)"
     ]
    },
    {
     "cell_type": "code",
     "collapsed": false,
     "input": [
      "from sympy import symbols, sign, sqrt\n",
      "from sympy.plotting import plot\n",
      "t, f0, c, vm, r0 = symbols('t f_0 c v_m r_0')"
     ],
     "language": "python",
     "metadata": {},
     "outputs": [],
     "prompt_number": 13
    },
    {
     "cell_type": "code",
     "collapsed": false,
     "input": [
      "delta_f = - sign(t) * sqrt(((2*f0)/c)**2 * (vm**2)/(r0**2/(vm**2 * t**2) + 1) )"
     ],
     "language": "python",
     "metadata": {},
     "outputs": [],
     "prompt_number": 14
    },
    {
     "cell_type": "code",
     "collapsed": false,
     "input": [
      "delta_f.subs([(f0,55.260e6),(c,3e8),(vm,40e3),(r0,300e3), (t,1)])"
     ],
     "language": "python",
     "metadata": {},
     "outputs": [
      {
       "metadata": {},
       "output_type": "pyout",
       "prompt_number": 15,
       "text": [
        "-1947.56457926124"
       ]
      }
     ],
     "prompt_number": 15
    },
    {
     "cell_type": "code",
     "collapsed": false,
     "input": [
      "plot(delta_f.subs([(f0,55.260e6),(c,3e8),(vm,40e3),(r0,300e3)]), (t, -10, 10))"
     ],
     "language": "python",
     "metadata": {},
     "outputs": [
      {
       "metadata": {},
       "output_type": "pyout",
       "prompt_number": 16,
       "text": [
        "<sympy.plotting.plot.Plot at 0x7f1b6fb8fcd0>"
       ]
      }
     ],
     "prompt_number": 16
    },
    {
     "cell_type": "code",
     "collapsed": false,
     "input": [],
     "language": "python",
     "metadata": {},
     "outputs": [],
     "prompt_number": 8
    },
    {
     "cell_type": "heading",
     "level": 2,
     "metadata": {},
     "source": [
      "Artificial meteor generator"
     ]
    },
    {
     "cell_type": "code",
     "collapsed": false,
     "input": [
      "from mpl_toolkits.mplot3d.axes3d import Axes3D\n",
      "import matplotlib.pyplot as plt \n",
      "import numpy as np\n",
      "import scipy.constants\n",
      "from Geocentric import Geocentric\n",
      "geoC = Geocentric(6378137, 6356752.314)"
     ],
     "language": "python",
     "metadata": {},
     "outputs": [],
     "prompt_number": 28
    },
    {
     "cell_type": "code",
     "collapsed": false,
     "input": [
      "#Artificial meteors coordinates:\n",
      "\n",
      "ZHR = 1\n",
      "\n",
      "met_start_altitude = np.random.normal(100e3,20e3,ZHR)\n",
      "met_stop_altitude = np.random.normal(60e3,20e3,ZHR)\n",
      "\n",
      "met_start_lat = np.random.normal(50,2,ZHR)  \n",
      "met_start_lon = np.random.normal(14,2,ZHR)\n",
      "\n",
      "met_stop_lat = np.random.normal(50,2,ZHR) \n",
      "met_stop_lon = np.random.normal(14,2,ZHR)\n",
      "\n",
      "met_velocity = np.random.normal(50000,20000,ZHR)"
     ],
     "language": "python",
     "metadata": {},
     "outputs": [],
     "prompt_number": 112
    },
    {
     "cell_type": "code",
     "collapsed": false,
     "input": [],
     "language": "python",
     "metadata": {},
     "outputs": [],
     "prompt_number": 29
    },
    {
     "cell_type": "code",
     "collapsed": false,
     "input": [
      "# Model parameters\n",
      "\n",
      "t = 0.1\n",
      "c = scipy.constants.c\n",
      "f0 = 143050000\n",
      "trans_station_point = np.array(geoC.GeographicToGeocentric(47.347993, 5.515079, 190))\n",
      "timesteps = np.arange(-10,10,t)\n"
     ],
     "language": "python",
     "metadata": {},
     "outputs": [],
     "prompt_number": 106
    },
    {
     "cell_type": "code",
     "collapsed": false,
     "input": [
      "def estimate_dopplers(trajectory, f0, trans_station, rec_station):\n",
      "    '''\n",
      "        Returns array of dopplers for given transmitter to receiver position and defined frequency and known trajectory.\n",
      "    '''\n",
      "    rec_to_met = np.empty([trajectory.shape[0], 1])\n",
      "    trans_to_met = np.empty([trajectory.shape[0], 1])\n",
      "    doppler = np.empty([trajectory.shape[0], 2])\n",
      "    \n",
      "    previous_rec_to_met = np.linalg.norm(rec_station - trajectory[0])\n",
      "    previous_trans_to_met = np.linalg.norm(trans_station - trajectory[0])\n",
      "        \n",
      "    for i in range(trajectory.shape[0]):\n",
      "        rec_to_met[i] = np.linalg.norm(rec_station - trajectory[i])\n",
      "        trans_to_met[i] = np.linalg.norm(trans_station - trajectory[i])\n",
      "    \n",
      "        met_trans_speed = previous_trans_to_met - trans_to_met[i]\n",
      "        previous_trans_to_met = trans_to_met[i]\n",
      "        speed = met_trans_speed/t    \n",
      "        f1 = ((c + speed)/c * f0)\n",
      "        \n",
      "        met_rec_speed = previous_rec_to_met - rec_to_met[i]\n",
      "        previous_rec_to_met = rec_to_met[i]\n",
      "        speed = met_rec_speed/t\n",
      "        f2 = (c/(c - speed) * f1)\n",
      "        doppler[i] = np.array([timesteps[i], f2-f0])\n",
      "    return doppler"
     ],
     "language": "python",
     "metadata": {},
     "outputs": [],
     "prompt_number": 107
    },
    {
     "cell_type": "code",
     "collapsed": false,
     "input": [
      "stations = []\n",
      "stations.append({'name': 'Zebrak','latitude':49.8736, 'longitude':13.8986,'elevation':400, 'status': 'operational', 'type': 'receiver'})\n",
      "stations.append({'name': 'uFlu','latitude':50.0795, 'longitude':14.4891,'elevation':400, 'status': 'operational', 'type': 'receiver'})\n",
      "stations.append({'name': 'OBSUPICE','latitude':50.5067,'longitude':16.0115,'elevation':400, 'status': 'operational', 'type': 'receiver'})\n",
      "stations.append({'name': 'SVAKOV','latitude':49.2607,'longitude':14.6917,'elevation':400, 'status': 'operational', 'type': 'receiver'})\n",
      "stations.append({'name': 'ZVPP','latitude':48.9869,'longitude':14.4675,'elevation':400, 'status': 'operational', 'type': 'receiver'})\n",
      "stations.append({'name': 'BPB','latitude':48.653153,'longitude':17.537413,'elevation':400, 'status': 'testing', 'type': 'receiver'})\n",
      "stations.append({'name': 'HPHK','latitude':50.1772,'longitude':15.8386,'elevation':400, 'status': 'testing', 'type': 'receiver'})\n",
      "stations.append({'name': 'OBSJAROMER','latitude':50.351397,'longitude':15.915878,'elevation':400, 'status': 'testing', 'type': 'receiver'})\n",
      "stations.append({'name': 'JHRADEC','latitude':49.1314,'longitude': 14.9999,'elevation':400, 'status': 'testing', 'type': 'receiver'})\n",
      "stations.append({'name': 'VALMEZ','latitude':49.463038,'longitude': 17.973544,'elevation':400, 'status': 'testing', 'type': 'receiver'})\n",
      "stations.append({'name': 'NACHODSKO','latitude':50.409407,'longitude':15.414812,'elevation':400, 'status': 'operational', 'type': 'receiver'})\n"
     ],
     "language": "python",
     "metadata": {},
     "outputs": [],
     "prompt_number": 108
    },
    {
     "cell_type": "code",
     "collapsed": false,
     "input": [
      "# compute dopplers for multiple stations\n",
      "\n",
      "%matplotlib\n",
      "fig, ax1 = plt.subplots(figsize=(9, 7))\n",
      "ax1.set_title('Meteor Dopplers at multiple Bolidozor stations')\n",
      "ax1.set_ylabel('Doppler [Hz]')\n",
      "ax1.set_xlabel('Time [s]')\n",
      "#grid(True)\n",
      "\n",
      "meteor_dopplers = [1,2]\n",
      "\n",
      "for meteor in range(ZHR):\n",
      "    \n",
      "    # get meteor vector from start and stop point\n",
      "    met_start_point = np.array(geoC.GeographicToGeocentric(met_start_lat[meteor], met_start_lon[meteor], met_start_altitude[meteor]))\n",
      "    met_stop_point = np.array(geoC.GeographicToGeocentric(met_stop_lat[meteor], met_stop_lon[meteor], met_stop_altitude[meteor]))\n",
      "    met_vect = met_start_point - met_stop_point\n",
      "\n",
      "    for i in range(timesteps.size):  # generate points on artifitial meteor trajectory (discretize in space)\n",
      "        met_points[i] =  met_start_point + (met_vect/np.linalg.norm(met_vect) * (timesteps[i] * met_velocity[meteor]))\n",
      "    \n",
      "    for station in stations:\n",
      "        rec_station_point = np.array(geoC.GeographicToGeocentric(station['latitude'], station['longitude'], station['elevation']))\n",
      "        \n",
      "        doppler = estimate_dopplers(met_points, f0, trans_station_point, rec_station_point)\n",
      "            \n",
      "        meteor_dopplers[meteor] = doppler\n",
      "        plt.plot(doppler[1:,0], doppler[1:,1], label=station['name'] if meteor == 0 else \"\")\n",
      "    \n",
      "    plt.legend(loc=1)"
     ],
     "language": "python",
     "metadata": {},
     "outputs": [
      {
       "output_type": "stream",
       "stream": "stdout",
       "text": [
        "Using matplotlib backend: TkAgg\n"
       ]
      }
     ],
     "prompt_number": 88
    },
    {
     "cell_type": "code",
     "collapsed": false,
     "input": [
      "%matplotlib\n",
      "fig = plt.figure()\n",
      "ax = plt.axes(projection='3d')\n",
      "ax.scatter(met_points[:,0], met_points[:,1], met_points[:,2])"
     ],
     "language": "python",
     "metadata": {},
     "outputs": [
      {
       "output_type": "stream",
       "stream": "stdout",
       "text": [
        "Using matplotlib backend: TkAgg\n"
       ]
      },
      {
       "metadata": {},
       "output_type": "pyout",
       "prompt_number": 56,
       "text": [
        "<mpl_toolkits.mplot3d.art3d.Patch3DCollection at 0x7f1b6f824c10>"
       ]
      }
     ],
     "prompt_number": 56
    },
    {
     "cell_type": "code",
     "collapsed": false,
     "input": [],
     "language": "python",
     "metadata": {},
     "outputs": [],
     "prompt_number": 103
    },
    {
     "cell_type": "code",
     "collapsed": false,
     "input": [
      "%matplotlib\n",
      "fig, ax1 = plt.subplots(figsize=(9, 7))\n",
      "ax1.set_title('Meteor Dopplers at multiple Bolidozor stations')\n",
      "ax1.set_ylabel('Doppler [Hz]')\n",
      "ax1.set_xlabel('Time [s]')\n",
      "\n",
      "meteor_dopplers = [1,2]\n",
      "\n",
      "met_points = np.empty([timesteps.size, 3])\n",
      "est_points = np.empty([timesteps.size, 3])\n",
      "\n",
      "\n",
      "for meteor in range(ZHR):\n",
      "    \n",
      "    est_start_altitude = np.random.normal(100e3,20e3,ZHR)\n",
      "    est_stop_altitude = np.random.normal(60e3,20e3,ZHR)\n",
      "\n",
      "    est_start_lat = np.random.normal(50,2,ZHR)  \n",
      "    est_start_lon = np.random.normal(14,2,ZHR)\n",
      "\n",
      "    est_stop_lat = np.random.normal(50,2,ZHR) \n",
      "    est_stop_lon = np.random.normal(14,2,ZHR)\n",
      "\n",
      "    est_velocity = np.random.normal(50000,20000,ZHR)\n",
      "    \n",
      "    # get meteor vector from start and stop point\n",
      "    est_start_point = np.array(geoC.GeographicToGeocentric(met_start_lat[meteor], met_start_lon[meteor], met_start_altitude[meteor]))\n",
      "    est_stop_point = np.array(geoC.GeographicToGeocentric(met_stop_lat[meteor], met_stop_lon[meteor], met_stop_altitude[meteor]))\n",
      "    est_vect = est_start_point - est_stop_point\n",
      "    \n",
      "    # get meteor vector from start and stop point\n",
      "    met_start_point = np.array(geoC.GeographicToGeocentric(met_start_lat[meteor], met_start_lon[meteor], met_start_altitude[meteor]))\n",
      "    met_stop_point = np.array(geoC.GeographicToGeocentric(met_stop_lat[meteor], met_stop_lon[meteor], met_stop_altitude[meteor]))\n",
      "    met_vect = met_start_point - met_stop_point\n",
      "\n",
      "    for i in range(timesteps.size):  # generate points on meteor trajectory (discretize in space)\n",
      "        est_points[i] =  est_start_point + (est_vect/np.linalg.norm(est_vect) * (timesteps[i] * est_velocity[meteor]))\n",
      "    \n",
      "    for i in range(timesteps.size):  # generate points on meteor trajectory (discretize in space)\n",
      "        met_points[i] =  met_start_point + (met_vect/np.linalg.norm(met_vect) * (timesteps[i] * met_velocity[meteor]))\n",
      "\n",
      "    doppler_deviation = np.zeros(timesteps.size-1)\n",
      "    for station in stations:\n",
      "        rec_station_point = np.array(geoC.GeographicToGeocentric(station['latitude'], station['longitude'], station['elevation']))\n",
      "        \n",
      "        met_doppler = estimate_dopplers(met_points, f0, trans_station_point, rec_station_point)\n",
      "        est_doppler = estimate_dopplers(est_points, f0, trans_station_point, rec_station_point)\n",
      "            \n",
      "        doppler_deviation += met_doppler[1:,1] - est_doppler[1:,1]\n",
      "        plt.plot(met_doppler[1:,0], doppler_deviation, label=station['name'] if meteor == 0 else \"\")\n",
      "    \n",
      "    plt.legend(loc=1)"
     ],
     "language": "python",
     "metadata": {},
     "outputs": [
      {
       "output_type": "stream",
       "stream": "stdout",
       "text": [
        "Using matplotlib backend: TkAgg\n"
       ]
      }
     ],
     "prompt_number": 135
    },
    {
     "cell_type": "code",
     "collapsed": false,
     "input": [
      "doppler_deviation.shape"
     ],
     "language": "python",
     "metadata": {},
     "outputs": [
      {
       "metadata": {},
       "output_type": "pyout",
       "prompt_number": 124,
       "text": [
        "(199,)"
       ]
      }
     ],
     "prompt_number": 124
    },
    {
     "cell_type": "code",
     "collapsed": false,
     "input": [
      "deviation[i] = meteor_dopplers[0][i][1] - meteor_dopplers[1][i][1]"
     ],
     "language": "python",
     "metadata": {},
     "outputs": [
      {
       "metadata": {},
       "output_type": "pyout",
       "prompt_number": 76,
       "text": [
        "array([ 3596035.31628676,  1297036.87099378,  5580297.93780076])"
       ]
      }
     ],
     "prompt_number": 76
    },
    {
     "cell_type": "code",
     "collapsed": false,
     "input": [
      "doppler_deviation"
     ],
     "language": "python",
     "metadata": {},
     "outputs": [
      {
       "metadata": {},
       "output_type": "pyout",
       "prompt_number": 114,
       "text": [
        "array([-15728.52315667, -15603.19094867, -15478.5623416 , -15354.82256082,\n",
        "       -15232.16411069, -15110.78701031, -14990.89904061, -14872.71600091,\n",
        "       -14756.46197245, -14642.36958367, -14530.68027255, -14421.64453799,\n",
        "       -14315.52217093, -14212.58245295, -14113.1043061 , -14017.37637648,\n",
        "       -13925.69702604, -13838.37420389, -13755.7251623 , -13678.07597297,\n",
        "       -13605.76079306, -13539.12081701, -13478.5028424 , -13424.25736126,\n",
        "       -13376.73607442, -13336.28871095, -13303.25901505, -13277.97974327,\n",
        "       -13260.76649603, -13251.91018671, -13251.66793194, -13260.25213328,\n",
        "       -13277.81750822, -13304.44582608, -13340.1281172 , -13384.74414513,\n",
        "       -13438.03898492, -13499.59662306, -13568.81060553, -13644.85191265,\n",
        "       -13726.63443491, -13812.7786707 , -13901.57456562, -13990.94476169,\n",
        "       -14078.40990835, -14161.0581063 , -14235.52097297, -14297.9592182 ,\n",
        "       -14344.06096455, -14369.05629373, -14367.75161982, -14334.58741468,\n",
        "       -14263.72251588, -14149.1476492 , -13984.82985577, -13764.88812795,\n",
        "       -13483.79866439, -13136.6256696 , -12719.27052888, -12228.72855335,\n",
        "       -11663.3385658 , -11023.00685287, -10309.38417745,  -9525.9735584 ,\n",
        "        -8678.14833751,  -7773.06535605,  -6819.46696764,  -5827.37732527,\n",
        "        -4807.71121809,  -3771.82532066,  -2731.04963127,  -1696.23931313,\n",
        "         -677.38353634,    316.70091027,   1278.57552505,   2202.28258315,\n",
        "         3083.35246426,   3918.73210794,   4706.65515608,   5446.4751119 ,\n",
        "         6138.48093575,   6783.71095473,   7383.7767688 ,   7940.7047345 ,\n",
        "         8456.7990756 ,   8934.52791405,   9376.43156782,   9785.05123106,\n",
        "        10162.87549475,  10512.30193177,  10835.61101666,  11134.94987187,\n",
        "        11412.32363451,  11669.59257871,  11908.47345471,  12130.54380926,\n",
        "        12337.24831671,  12529.90637079,  12709.72037399,  12877.78430703,\n",
        "        13035.09227884,  13182.54684889,  13320.96698207,  13451.09554958,\n",
        "        13573.6063284 ,  13689.11047864,  13798.16249812,  13901.26567069,\n",
        "        13998.87702709,  14091.41184977,  14179.24775124,  14262.72835913,\n",
        "        14342.16664028,  14417.84789523,  14490.03245318,  14558.95809621,\n",
        "        14624.84223804,  14687.88388243,  14748.26538301,  14806.15402448,\n",
        "        14861.70344386,  14915.05490831,  14966.33846381,  15015.673969  ,\n",
        "        15063.17202562,  15108.93481624,  15153.05685923,  15195.62568974,\n",
        "        15236.72247368,  15276.4225623 ,  15314.79599327,  15351.90794387,\n",
        "        15387.81914097,  15422.58623224,  15456.2621226 ,  15488.89627969,\n",
        "        15520.53501108,  15551.22171557,  15580.99711299,  15609.8994517 ,\n",
        "        15637.9646993 ,  15665.226715  ,  15691.71740806,  15717.46688181,\n",
        "        15742.50356561,  15766.85433531,  15790.54462382,  15813.59852257,\n",
        "        15836.03887394,  15857.887357  ,  15879.16456538,  15899.89007974,\n",
        "        15920.08253387,  15939.75967592,  15958.93842462,  15977.63492149,\n",
        "        15995.86457884,  16013.64212415,  16030.98164102,  16047.89660752,\n",
        "        16064.3999317 ,  16080.50398353,  16096.22062629,  16111.5612441 ,\n",
        "        16126.53676867,  16141.15770343,  16155.43414682,  16169.37581295,\n",
        "        16182.99205205,  16196.29186857,  16209.283939  ,  16221.97662756,\n",
        "        16234.37800184,  16246.49584669,  16258.33767805,  16269.91075513,\n",
        "        16281.22209227,  16292.27847013,  16303.08644593,  16313.65236378,\n",
        "        16323.98236331,  16334.08238873,  16343.95819718,  16353.61536619,\n",
        "        16363.05930158,  16372.2952438 ,  16381.32827502,  16390.16332528,\n",
        "        16398.80517837,  16407.25847727,  16415.52773002,  16423.61731413,\n",
        "        16431.53148198,  16439.27436528,  16446.84997913,  16454.26222649,\n",
        "        16461.51490229,  16468.61169675,  16475.55619949])"
       ]
      }
     ],
     "prompt_number": 114
    },
    {
     "cell_type": "code",
     "collapsed": false,
     "input": [],
     "language": "python",
     "metadata": {},
     "outputs": []
    }
   ],
   "metadata": {}
  }
 ]
}