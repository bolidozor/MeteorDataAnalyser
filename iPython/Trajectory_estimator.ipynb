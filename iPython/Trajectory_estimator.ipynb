{
 "metadata": {
  "name": "",
  "signature": "sha256:b2c13450103ccec8e8b322e2f5c392d3b6067799e9f83efdc13443de80cfc1cd"
 },
 "nbformat": 3,
 "nbformat_minor": 0,
 "worksheets": [
  {
   "cells": [
    {
     "cell_type": "markdown",
     "metadata": {},
     "source": [
      "Calculation of meteor trajectory from head-echo dopplers\n",
      "=======\n",
      "\n",
      "Theory is adopted from Christian Steyaert et. al. 2010\n"
     ]
    },
    {
     "cell_type": "code",
     "collapsed": false,
     "input": [
      "TMx = (x_M \u2212 x T )\n",
      "TMy = (y M \u2212 y T )\n",
      "TMz = (z M \u2212 z T )"
     ],
     "language": "python",
     "metadata": {},
     "outputs": [
      {
       "ename": "SyntaxError",
       "evalue": "invalid syntax (<ipython-input-1-98dca8f4f72e>, line 1)",
       "output_type": "pyerr",
       "traceback": [
        "\u001b[0;36m  File \u001b[0;32m\"<ipython-input-1-98dca8f4f72e>\"\u001b[0;36m, line \u001b[0;32m1\u001b[0m\n\u001b[0;31m    TMx = (x_M \u2212 x T )\u001b[0m\n\u001b[0m               ^\u001b[0m\n\u001b[0;31mSyntaxError\u001b[0m\u001b[0;31m:\u001b[0m invalid syntax\n"
       ]
      }
     ],
     "prompt_number": 1
    },
    {
     "cell_type": "code",
     "collapsed": false,
     "input": [
      "import pylab\n",
      "f = pylab.figure()"
     ],
     "language": "python",
     "metadata": {},
     "outputs": [],
     "prompt_number": 2
    },
    {
     "cell_type": "code",
     "collapsed": false,
     "input": [
      "pylab.plot([1,2,3], [1,2,4], 'go-', label='line 1', linewidth=2)\n",
      "pylab.plot([1,2,3], [1,2,2], 'bo-', label='line 1', linewidth=2)"
     ],
     "language": "python",
     "metadata": {},
     "outputs": [
      {
       "metadata": {},
       "output_type": "pyout",
       "prompt_number": 3,
       "text": [
        "[<matplotlib.lines.Line2D at 0x7fa190159790>]"
       ]
      }
     ],
     "prompt_number": 3
    },
    {
     "cell_type": "code",
     "collapsed": false,
     "input": [
      "pylab.show()"
     ],
     "language": "python",
     "metadata": {},
     "outputs": [],
     "prompt_number": 4
    },
    {
     "cell_type": "markdown",
     "metadata": {},
     "source": [
      "Head Echo doppler function \n",
      "======="
     ]
    },
    {
     "cell_type": "markdown",
     "metadata": {},
     "source": [
      "The equation is  obtained from publication at http://adsabs.harvard.edu/abs/1998JIMO...26..117R (1998)"
     ]
    },
    {
     "cell_type": "code",
     "collapsed": false,
     "input": [
      "from sympy import symbols, sign, sqrt\n",
      "from sympy.plotting import plot\n",
      "t, f0, c, vm, r0 = symbols('t f_0 c v_m r_0')"
     ],
     "language": "python",
     "metadata": {},
     "outputs": [],
     "prompt_number": 5
    },
    {
     "cell_type": "code",
     "collapsed": false,
     "input": [
      "delta_f = - sign(t) * sqrt(((2*f0)/c)**2 * (vm**2)/(r0**2/(vm**2 * t**2) + 1) )"
     ],
     "language": "python",
     "metadata": {},
     "outputs": [],
     "prompt_number": 6
    },
    {
     "cell_type": "code",
     "collapsed": false,
     "input": [
      "delta_f.subs([(f0,55.260e6),(c,3e8),(vm,40e3),(r0,300e3), (t,1)])"
     ],
     "language": "python",
     "metadata": {},
     "outputs": [
      {
       "metadata": {},
       "output_type": "pyout",
       "prompt_number": 7,
       "text": [
        "-1947.56457926124"
       ]
      }
     ],
     "prompt_number": 7
    },
    {
     "cell_type": "code",
     "collapsed": false,
     "input": [
      "plot(delta_f.subs([(f0,55.260e6),(c,3e8),(vm,40e3),(r0,300e3)]), (t, -10, 10))"
     ],
     "language": "python",
     "metadata": {},
     "outputs": [
      {
       "metadata": {},
       "output_type": "pyout",
       "prompt_number": 8,
       "text": [
        "<sympy.plotting.plot.Plot at 0x7fa1878d9550>"
       ]
      }
     ],
     "prompt_number": 8
    },
    {
     "cell_type": "code",
     "collapsed": false,
     "input": [],
     "language": "python",
     "metadata": {},
     "outputs": [],
     "prompt_number": 8
    },
    {
     "cell_type": "heading",
     "level": 2,
     "metadata": {},
     "source": [
      "Artificial meteor generator"
     ]
    },
    {
     "cell_type": "code",
     "collapsed": false,
     "input": [
      "from mpl_toolkits.mplot3d.axes3d import Axes3D\n",
      "import matplotlib.pyplot as plt \n",
      "import numpy as np\n",
      "import scipy.constants\n",
      "from Geocentric import Geocentric\n",
      "geoC = Geocentric(6378137, 6356752.314)"
     ],
     "language": "python",
     "metadata": {},
     "outputs": [],
     "prompt_number": 21
    },
    {
     "cell_type": "code",
     "collapsed": false,
     "input": [
      "#Artificial meteors coordinates:\n",
      "\n",
      "ZHR = 5\n",
      "\n",
      "met_start_altitude = np.random.normal(100e3,20e3,ZHR)\n",
      "met_stop_altitude = np.random.normal(60e3,20e3,ZHR)\n",
      "\n",
      "met_start_lat = np.random.normal(50,2,ZHR)  \n",
      "met_start_lon = np.random.normal(14,2,ZHR)\n",
      "\n",
      "met_stop_lat = np.random.normal(50,2,ZHR) \n",
      "met_stop_lon = np.random.normal(14,2,ZHR)\n",
      "\n",
      "met_velocity = np.random.normal(50000,20000,ZHR)"
     ],
     "language": "python",
     "metadata": {},
     "outputs": [],
     "prompt_number": 73
    },
    {
     "cell_type": "code",
     "collapsed": false,
     "input": [],
     "language": "python",
     "metadata": {},
     "outputs": [],
     "prompt_number": 73
    },
    {
     "cell_type": "code",
     "collapsed": false,
     "input": [
      "t = 0.1\n",
      "c = scipy.constants.c\n",
      "f0 = 143050000\n",
      "trans_station_point = np.array(geoC.GeographicToGeocentric(47.347993, 5.515079, 190))\n",
      "timesteps = np.arange(-10,10,t)\n",
      "met_points = np.empty([timesteps.size, 3])"
     ],
     "language": "python",
     "metadata": {},
     "outputs": [],
     "prompt_number": 74
    },
    {
     "cell_type": "code",
     "collapsed": false,
     "input": [],
     "language": "python",
     "metadata": {},
     "outputs": [],
     "prompt_number": 74
    },
    {
     "cell_type": "code",
     "collapsed": false,
     "input": [
      "stations = []\n",
      "stations.append({'name': 'Zebrak','latitude':49.8736, 'longitude':13.8986,'elevation':400, 'status': 'operational', 'type': 'receiver'})\n",
      "stations.append({'name': 'uFlu','latitude':50.0795, 'longitude':14.4891,'elevation':400, 'status': 'operational', 'type': 'receiver'})\n",
      "stations.append({'name': 'OBSUPICE','latitude':50.5067,'longitude':16.0115,'elevation':400, 'status': 'operational', 'type': 'receiver'})\n",
      "stations.append({'name': 'SVAKOV','latitude':49.2607,'longitude':14.6917,'elevation':400, 'status': 'operational', 'type': 'receiver'})\n",
      "stations.append({'name': 'ZVPP','latitude':48.9869,'longitude':14.4675,'elevation':400, 'status': 'operational', 'type': 'receiver'})\n",
      "stations.append({'name': 'BPB','latitude':48.653153,'longitude':17.537413,'elevation':400, 'status': 'testing', 'type': 'receiver'})\n",
      "stations.append({'name': 'HPHK','latitude':50.1772,'longitude':15.8386,'elevation':400, 'status': 'testing', 'type': 'receiver'})\n",
      "stations.append({'name': 'OBSJAROMER','latitude':50.351397,'longitude':15.915878,'elevation':400, 'status': 'testing', 'type': 'receiver'})\n",
      "stations.append({'name': 'JHRADEC','latitude':49.1314,'longitude': 14.9999,'elevation':400, 'status': 'testing', 'type': 'receiver'})\n",
      "stations.append({'name': 'VALMEZ','latitude':49.463038,'longitude': 17.973544,'elevation':400, 'status': 'testing', 'type': 'receiver'})\n",
      "stations.append({'name': 'NACHODSKO','latitude':50.409407,'longitude':15.414812,'elevation':400, 'status': 'operational', 'type': 'receiver'})\n"
     ],
     "language": "python",
     "metadata": {},
     "outputs": [],
     "prompt_number": 75
    },
    {
     "cell_type": "code",
     "collapsed": false,
     "input": [
      "%matplotlib\n",
      "fig, ax1 = plt.subplots(figsize=(9, 7))\n",
      "ax1.set_title('Meteor Dopplers at multiple Bolidozor stations')\n",
      "ax1.set_ylabel('Doppler [Hz]')\n",
      "ax1.set_xlabel('Time [s]')\n",
      "#grid(True)\n",
      "\n",
      "for meteor in range(ZHR):\n",
      "\n",
      "    met_start_point = np.array(geoC.GeographicToGeocentric(met_start_lat[meteor], met_start_lon[meteor], met_start_altitude[meteor]))\n",
      "    met_stop_point = np.array(geoC.GeographicToGeocentric(met_stop_lat[meteor], met_stop_lon[meteor], met_stop_altitude[meteor]))\n",
      "\n",
      "    met_vect = met_start_point - met_stop_point\n",
      "\n",
      "    for i in range(timesteps.size):\n",
      "        met_points[i] =  met_start_point + (met_vect/np.linalg.norm(met_vect) * (timesteps[i] * met_velocity[meteor]))\n",
      "    \n",
      "    for station in stations:\n",
      "        rec_station_point = np.array(geoC.GeographicToGeocentric(station['latitude'], station['longitude'], station['elevation']))\n",
      "        \n",
      "        rec_to_met = np.empty([timesteps.size, 1])\n",
      "        trans_to_met = np.empty([timesteps.size, 1])\n",
      "        doppler = np.empty([timesteps.size, 2])\n",
      "        \n",
      "        previous_rec_to_met = np.linalg.norm(rec_station_point - met_points[0])\n",
      "        previous_trans_to_met = np.linalg.norm(trans_station_point - met_points[0])\n",
      "        \n",
      "        for i in range(timesteps.size):\n",
      "            rec_to_met[i] = np.linalg.norm(rec_station_point - met_points[i])\n",
      "            trans_to_met[i] = np.linalg.norm(trans_station_point - met_points[i])\n",
      "        \n",
      "            met_trans_speed = previous_trans_to_met - trans_to_met[i]\n",
      "            previous_trans_to_met = trans_to_met[i]\n",
      "            speed = met_trans_speed/t    \n",
      "            f1 = ((c + speed)/c * f0)\n",
      "            \n",
      "            met_rec_speed = previous_rec_to_met - rec_to_met[i]\n",
      "            previous_rec_to_met = rec_to_met[i]\n",
      "            speed = met_rec_speed/t\n",
      "            f2 = (c/(c - speed) * f1)\n",
      "            doppler[i] = np.array([timesteps[i], f2-f0])\n",
      "            \n",
      "        plt.plot(doppler[1:,0], doppler[1:,1], label=station['name'] if meteor == 0 else \"\")\n",
      "    \n",
      "    plt.legend(loc=1)"
     ],
     "language": "python",
     "metadata": {},
     "outputs": [
      {
       "output_type": "stream",
       "stream": "stdout",
       "text": [
        "Using matplotlib backend: TkAgg\n"
       ]
      }
     ],
     "prompt_number": 76
    },
    {
     "cell_type": "code",
     "collapsed": false,
     "input": [
      "%matplotlib\n",
      "fig = plt.figure()\n",
      "ax = plt.axes(projection='3d')\n",
      "ax.scatter(met_points[:,0], met_points[:,1], met_points[:,2])"
     ],
     "language": "python",
     "metadata": {},
     "outputs": [],
     "prompt_number": 54
    },
    {
     "cell_type": "code",
     "collapsed": false,
     "input": [],
     "language": "python",
     "metadata": {},
     "outputs": [],
     "prompt_number": 55
    },
    {
     "cell_type": "code",
     "collapsed": false,
     "input": [],
     "language": "python",
     "metadata": {},
     "outputs": []
    }
   ],
   "metadata": {}
  }
 ]
}