{
 "cells": [
  {
   "cell_type": "markdown",
   "metadata": {},
   "source": [
    "Calculation of meteor trajectory from head-echo dopplers\n",
    "=======\n",
    "\n",
    "Theory is adopted from Christian Steyaert et. al. 2010\n"
   ]
  },
  {
   "cell_type": "code",
   "execution_count": 296,
   "metadata": {
    "collapsed": false
   },
   "outputs": [
    {
     "ename": "SyntaxError",
     "evalue": "invalid syntax (<ipython-input-296-98dca8f4f72e>, line 1)",
     "output_type": "error",
     "traceback": [
      "\u001b[0;36m  File \u001b[0;32m\"<ipython-input-296-98dca8f4f72e>\"\u001b[0;36m, line \u001b[0;32m1\u001b[0m\n\u001b[0;31m    TMx = (x_M − x T )\u001b[0m\n\u001b[0m               ^\u001b[0m\n\u001b[0;31mSyntaxError\u001b[0m\u001b[0;31m:\u001b[0m invalid syntax\n"
     ]
    }
   ],
   "source": [
    "TMx = (x_M − x T )\n",
    "TMy = (y M − y T )\n",
    "TMz = (z M − z T )"
   ]
  },
  {
   "cell_type": "code",
   "execution_count": 297,
   "metadata": {
    "collapsed": false
   },
   "outputs": [],
   "source": [
    "import pylab\n",
    "f = pylab.figure()"
   ]
  },
  {
   "cell_type": "code",
   "execution_count": 298,
   "metadata": {
    "collapsed": false
   },
   "outputs": [
    {
     "data": {
      "text/plain": [
       "[<matplotlib.lines.Line2D at 0x7fac0084dfd0>]"
      ]
     },
     "execution_count": 298,
     "metadata": {},
     "output_type": "execute_result"
    }
   ],
   "source": [
    "pylab.plot([1,2,3], [1,2,4], 'go-', label='line 1', linewidth=2)\n",
    "pylab.plot([1,2,3], [1,2,2], 'bo-', label='line 1', linewidth=2)"
   ]
  },
  {
   "cell_type": "code",
   "execution_count": 299,
   "metadata": {
    "collapsed": false
   },
   "outputs": [],
   "source": [
    "pylab.show()"
   ]
  },
  {
   "cell_type": "markdown",
   "metadata": {},
   "source": [
    "Head Echo doppler function \n",
    "======="
   ]
  },
  {
   "cell_type": "markdown",
   "metadata": {},
   "source": [
    "The equation is  obtained from publication at http://adsabs.harvard.edu/abs/1998JIMO...26..117R (1998)"
   ]
  },
  {
   "cell_type": "code",
   "execution_count": 1,
   "metadata": {
    "collapsed": false
   },
   "outputs": [],
   "source": [
    "from sympy import symbols, sign, sqrt\n",
    "from sympy.plotting import plot\n",
    "t, f0, c, vm, r0 = symbols('t f_0 c v_m r_0')"
   ]
  },
  {
   "cell_type": "code",
   "execution_count": 2,
   "metadata": {
    "collapsed": false
   },
   "outputs": [],
   "source": [
    "delta_f = - sign(t) * sqrt(((2*f0)/c)**2 * (vm**2)/(r0**2/(vm**2 * t**2) + 1) )"
   ]
  },
  {
   "cell_type": "code",
   "execution_count": 3,
   "metadata": {
    "collapsed": false
   },
   "outputs": [
    {
     "data": {
      "text/plain": [
       "-1947.56457926124"
      ]
     },
     "execution_count": 3,
     "metadata": {},
     "output_type": "execute_result"
    }
   ],
   "source": [
    "delta_f.subs([(f0,55.260e6),(c,3e8),(vm,40e3),(r0,300e3), (t,1)])"
   ]
  },
  {
   "cell_type": "code",
   "execution_count": 4,
   "metadata": {
    "collapsed": false
   },
   "outputs": [
    {
     "data": {
      "text/plain": [
       "<sympy.plotting.plot.Plot at 0x7fa807732450>"
      ]
     },
     "execution_count": 4,
     "metadata": {},
     "output_type": "execute_result"
    }
   ],
   "source": [
    "plot(delta_f.subs([(f0,55.260e6),(c,3e8),(vm,40e3),(r0,300e3)]), (t, -10, 10))"
   ]
  },
  {
   "cell_type": "code",
   "execution_count": 8,
   "metadata": {
    "collapsed": false
   },
   "outputs": [],
   "source": []
  },
  {
   "cell_type": "markdown",
   "metadata": {},
   "source": [
    "## Artificial meteor generator"
   ]
  },
  {
   "cell_type": "code",
   "execution_count": 5,
   "metadata": {
    "collapsed": false
   },
   "outputs": [
    {
     "name": "stdout",
     "output_type": "stream",
     "text": [
      "Populating the interactive namespace from numpy and matplotlib\n"
     ]
    },
    {
     "name": "stderr",
     "output_type": "stream",
     "text": [
      "WARNING: pylab import has clobbered these variables: ['plot', 'sqrt', 'sign']\n",
      "`%matplotlib` prevents importing * from pylab and numpy\n",
      "/usr/lib/python2.7/dist-packages/matplotlib/__init__.py:1314: UserWarning:  This call to matplotlib.use() has no effect\n",
      "because the backend has already been chosen;\n",
      "matplotlib.use() must be called *before* pylab, matplotlib.pyplot,\n",
      "or matplotlib.backends is imported for the first time.\n",
      "\n",
      "  warnings.warn(_use_error_msg)\n"
     ]
    }
   ],
   "source": [
    "%pylab inline\n",
    "matplotlib.use('Agg')\n",
    "\n",
    "from mpl_toolkits.mplot3d.axes3d import Axes3D\n",
    "import matplotlib.pyplot as plt\n",
    "import numpy as np\n",
    "import scipy\n",
    "from scipy.optimize import minimize\n",
    "from scipy.interpolate import interp1d, UnivariateSpline\n",
    "from Geocentric import Geocentric\n",
    "geoC = Geocentric(6378137, 6356752.314)"
   ]
  },
  {
   "cell_type": "code",
   "execution_count": 6,
   "metadata": {
    "collapsed": false
   },
   "outputs": [],
   "source": [
    "import scipy.constants\n",
    "import numpy as np\n",
    "from scipy.optimize import minimize #,  differential_evolution\n",
    "from Geocentric import Geocentric\n",
    "geoC = Geocentric(6378137, 6356752.314)"
   ]
  },
  {
   "cell_type": "markdown",
   "metadata": {},
   "source": [
    "Generate Artificial meteor for algorithm testing"
   ]
  },
  {
   "cell_type": "code",
   "execution_count": 7,
   "metadata": {
    "collapsed": false
   },
   "outputs": [],
   "source": [
    "c = scipy.constants.c\n",
    "f0 = 143050000\n",
    "trans_station_point = np.array(geoC.GeographicToGeocentric(47.347993, 5.515079, 190))\n",
    "t = 0.01\n",
    "timesteps = np.arange(-5,5,t)"
   ]
  },
  {
   "cell_type": "code",
   "execution_count": 15,
   "metadata": {
    "collapsed": false
   },
   "outputs": [],
   "source": [
    "#Artificial meteors coordinates:\n",
    "\n",
    "ZHR = 1\n",
    "\n",
    "met_start_altitude = np.random.normal(100e3,20e3,ZHR)\n",
    "met_stop_altitude = np.random.normal(60e3,20e3,ZHR)\n",
    "\n",
    "met_start_lat = np.random.normal(49,1,ZHR)  \n",
    "met_start_lon = np.random.normal(11,1,ZHR)\n",
    "\n",
    "met_stop_lat = np.random.normal(49,1,ZHR) \n",
    "met_stop_lon = np.random.normal(11,1,ZHR)\n",
    "\n",
    "met_velocity = np.random.normal(50000,20000,ZHR)\n",
    "timesteps = np.arange(-10,10,t)\n"
   ]
  },
  {
   "cell_type": "code",
   "execution_count": 9,
   "metadata": {
    "collapsed": false
   },
   "outputs": [],
   "source": [
    "def estimate_dopplers(trajectory, timesteps, f0, trans_station, rec_station):\n",
    "    '''\n",
    "        Returns array of dopplers for given transmitter to receiver position and defined frequency and known trajectory.\n",
    "    '''\n",
    "    rec_to_met = np.empty([trajectory.shape[0], 1])\n",
    "    trans_to_met = np.empty([trajectory.shape[0], 1])\n",
    "    doppler = np.empty([trajectory.shape[0], 2])\n",
    "    \n",
    "    previous_rec_to_met = np.linalg.norm(rec_station - trajectory[0])\n",
    "    previous_trans_to_met = np.linalg.norm(trans_station - trajectory[0])\n",
    "    \n",
    "    t = timesteps[1] - timesteps[0]\n",
    "    \n",
    "    for i in range(trajectory.shape[0]):\n",
    "        rec_to_met[i] = np.linalg.norm(rec_station - trajectory[i])\n",
    "        trans_to_met[i] = np.linalg.norm(trans_station - trajectory[i])\n",
    "    \n",
    "        met_trans_speed = previous_trans_to_met - trans_to_met[i]\n",
    "        previous_trans_to_met = trans_to_met[i]\n",
    "        speed = met_trans_speed/t    \n",
    "        f1 = ((c + speed)/c * f0)\n",
    "        \n",
    "        met_rec_speed = previous_rec_to_met - rec_to_met[i]    ## calculate bistatic velocity from known position\n",
    "        previous_rec_to_met = rec_to_met[i]\n",
    "        speed = met_rec_speed/t\n",
    "        f2 = (c/(c - speed) * f1)\n",
    "        doppler[i] = np.array([timesteps[i], f2-f0])\n",
    "    return doppler"
   ]
  },
  {
   "cell_type": "markdown",
   "metadata": {},
   "source": [
    "Define Bolidozor network station. List may be updated from space.astro.cz server according to stored data."
   ]
  },
  {
   "cell_type": "code",
   "execution_count": 10,
   "metadata": {
    "collapsed": false
   },
   "outputs": [],
   "source": [
    "stations = []\n",
    "stations.append({'name': 'Zebrak','latitude':49.8736, 'longitude':13.8986,'elevation':400, 'status': 'operational', 'type': 'receiver'})\n",
    "stations.append({'name': 'uFlu','latitude':50.0795, 'longitude':14.4891,'elevation':400, 'status': 'operational', 'type': 'receiver'})\n",
    "stations.append({'name': 'OBSUPICE','latitude':50.5067,'longitude':16.0115,'elevation':400, 'status': 'operational', 'type': 'receiver'})\n",
    "stations.append({'name': 'SVAKOV','latitude':49.2607,'longitude':14.6917,'elevation':400, 'status': 'operational', 'type': 'receiver'})\n",
    "stations.append({'name': 'ZVPP','latitude':48.9869,'longitude':14.4675,'elevation':400, 'status': 'operational', 'type': 'receiver'})\n",
    "stations.append({'name': 'BPB','latitude':48.653153,'longitude':17.537413,'elevation':400, 'status': 'testing', 'type': 'receiver'})\n",
    "stations.append({'name': 'HPHK','latitude':50.1772,'longitude':15.8386,'elevation':400, 'status': 'testing', 'type': 'receiver'})\n",
    "stations.append({'name': 'OBSJAROMER','latitude':50.351397,'longitude':15.915878,'elevation':400, 'status': 'testing', 'type': 'receiver'})\n",
    "stations.append({'name': 'JHRADEC','latitude':49.1314,'longitude': 14.9999,'elevation':400, 'status': 'testing', 'type': 'receiver'})\n",
    "stations.append({'name': 'VALMEZ','latitude':49.463038,'longitude': 17.973544,'elevation':400, 'status': 'testing', 'type': 'receiver'})\n",
    "stations.append({'name': 'NACHODSKO','latitude':50.409407,'longitude':15.414812,'elevation':400, 'status': 'operational', 'type': 'receiver'})\n",
    "#stations.append({'name': 'GERM1','latitude':50.409407,'longitude':10.414812,'elevation':400, 'status': 'operational', 'type': 'receiver'})\n",
    "#stations.append({'name': 'GERM2','latitude':50.009407,'longitude':9.414812,'elevation':400, 'status': 'operational', 'type': 'receiver'})\n",
    "#stations.append({'name': 'IT1','latitude':45.409407,'longitude':10.414812,'elevation':400, 'status': 'operational', 'type': 'receiver'})\n"
   ]
  },
  {
   "cell_type": "code",
   "execution_count": 16,
   "metadata": {
    "collapsed": false
   },
   "outputs": [
    {
     "data": {
      "image/png": "[encoded data removed]",
      "text/plain": [
       "<matplotlib.figure.Figure at 0x7fa7ed9dd610>"
      ]
     },
     "metadata": {},
     "output_type": "display_data"
    }
   ],
   "source": [
    "# compute dopplers for multiple stations\n",
    "\n",
    "from Geocentric import Geocentric\n",
    "geoC = Geocentric(6378137, 6356752.314)\n",
    "\n",
    "#%matplotlib\n",
    "#fig, ax1 = plt.subplots(figsize=(9, 7))\n",
    "#ax1.set_title('Meteor Dopplers at multiple Bolidozor stations')\n",
    "#ax1.set_ylabel('Doppler [Hz]')\n",
    "#ax1.set_xlabel('Time [s]')\n",
    "#grid(True)\n",
    "\n",
    "meteor_dopplers = [1,2]\n",
    "met_points = np.empty([timesteps.size, 3])\n",
    "\n",
    "for meteor in range(ZHR):\n",
    "    \n",
    "    # get meteor vector from start and stop point\n",
    "    met_start_point = np.array(geoC.GeographicToGeocentric(met_start_lat[meteor], met_start_lon[meteor], met_start_altitude[meteor]))\n",
    "    met_stop_point = np.array(geoC.GeographicToGeocentric(met_stop_lat[meteor], met_stop_lon[meteor], met_stop_altitude[meteor]))\n",
    "    met_vect = met_start_point - met_stop_point\n",
    "\n",
    "    for i in range(timesteps.size):  # generate points on artifitial meteor trajectory (discretize in space)\n",
    "        met_points[i] =  met_start_point + (met_vect/np.linalg.norm(met_vect) * (timesteps[i] * met_velocity[meteor]))\n",
    "    \n",
    "    for station in stations:\n",
    "        rec_station_point = np.array(geoC.GeographicToGeocentric(station['latitude'], station['longitude'], station['elevation']))\n",
    "        \n",
    "        doppler = estimate_dopplers(met_points, timesteps, f0, trans_station_point, rec_station_point)\n",
    "            \n",
    "        meteor_dopplers[meteor] = doppler\n",
    "        plt.plot(doppler[1:,0], doppler[1:,1], label=station['name'] if meteor == 0 else \"\")\n",
    "    \n",
    "    plt.legend(loc=1)\n",
    "    plt.xlabel(\"Relative time [s]\")\n",
    "    plt.ylabel(\"Doppler shift [Hz]\")"
   ]
  },
  {
   "cell_type": "markdown",
   "metadata": {},
   "source": [
    "Plot artifitial meteor trajectory points"
   ]
  },
  {
   "cell_type": "code",
   "execution_count": 8,
   "metadata": {
    "collapsed": false
   },
   "outputs": [
    {
     "data": {
      "text/plain": [
       "11"
      ]
     },
     "execution_count": 8,
     "metadata": {},
     "output_type": "execute_result"
    }
   ],
   "source": [
    "len(stations)"
   ]
  },
  {
   "cell_type": "code",
   "execution_count": 27,
   "metadata": {
    "collapsed": false
   },
   "outputs": [],
   "source": [
    "\n",
    "from mpltools import style\n",
    "from mpltools import layout\n",
    "\n",
    "style.use('ggplot')\n",
    "\n",
    "from mpl_toolkits.basemap import Basemap\n",
    "\n",
    "land_color = 'lightgray'\n",
    "water_color = 'lightblue'\n",
    "\n",
    "fig, ax = subplots(figsize=(20,20))\n",
    "map = Basemap(projection='merc', llcrnrlat=45, urcrnrlat=55,\n",
    "            llcrnrlon=8, urcrnrlon=25, resolution='i',area_thresh = 50)\n",
    "\n",
    "land_color = 'lightgray'\n",
    "water_color = 'lightblue'\n",
    "\n",
    "map.fillcontinents(color=land_color, lake_color=water_color)\n",
    "map.drawcoastlines()\n",
    "map.drawcountries()\n",
    "#map.drawparallels(np.arange(-90.,120.,30.))\n",
    "#map.drawmeridians(np.arange(0.,420.,60.))\n",
    "map.drawmapboundary(fill_color=water_color)\n",
    "ax.set_title('Bolidozor network')\n",
    "\n",
    "#x, y = map(np.array(near_transmitters.longitude_deg), np.array(near_transmitters.latitude_deg))\n",
    "#map.plot(x, y, marker='o', markersize=6, markerfacecolor='red', linewidth=0)\n",
    "\n",
    "colors = plt.get_cmap('jet')(np.linspace(0, 1.0, len(stations)))\n",
    "ax.set_color_cycle(colors)\n",
    "for station in stations:\n",
    "    station_latitude = station['latitude']\n",
    "    station_longitude = station['longitude']\n",
    "    x, y = map(station_longitude, station_latitude)\n",
    "    \n",
    "    map.plot(x, y, marker='o', markersize=8, linewidth=0, label=station['name'])\n",
    "plt.legend(numpoints=1,loc='best')\n",
    "\n",
    "map.drawgreatcircle(met_start_lon, met_start_lat, met_stop_lon, met_stop_lat,linewidth=2,color='green')\n",
    "\n",
    "map.ax = ax\n"
   ]
  },
  {
   "cell_type": "code",
   "execution_count": 11,
   "metadata": {
    "collapsed": false
   },
   "outputs": [
    {
     "name": "stdout",
     "output_type": "stream",
     "text": [
      "Using matplotlib backend: TkAgg\n"
     ]
    }
   ],
   "source": [
    "%matplotlib\n",
    "fig = plt.figure()\n",
    "ax = plt.axes(projection='3d')\n",
    "ax.scatter(met_points[:,0], met_points[:,1], met_points[:,2])\n",
    "for station in stations:\n",
    "    rec_station_point = np.array(geoC.GeographicToGeocentric(station['latitude'], station['longitude'], station['elevation']))\n",
    "    ax.scatter(rec_station_point[0], rec_station_point[1], rec_station_point[2])\n"
   ]
  },
  {
   "cell_type": "markdown",
   "metadata": {},
   "source": [
    "Compute difference between of estimated trajectory dopplers and \"real\" simulated trajectory."
   ]
  },
  {
   "cell_type": "code",
   "execution_count": 67,
   "metadata": {
    "collapsed": false
   },
   "outputs": [],
   "source": [
    "\"\"\"\n",
    "Make virtual artificial meteor report from a model trajectory. \n",
    "\n",
    "\"\"\"\n",
    "\n",
    "meteor_data = doppler[1:,0]\n",
    "\n",
    "doppler_min = -500.0\n",
    "doppler_max = 500.0\n",
    "\n",
    "for station in stations:\n",
    "    rec_station_point = np.array(geoC.GeographicToGeocentric(station['latitude'], station['longitude'], station['elevation']))\n",
    "    dopplers = estimate_dopplers(met_points, timesteps, f0, trans_station_point, rec_station_point)\n",
    "    indexes = np.where(np.logical_and(dopplers[1:,1] > doppler_min, dopplers[1:,1] < doppler_max ))\n",
    "    station['doppler'] = np.concatenate((np.take(dopplers[1:,0], indexes), np.take(dopplers[1:,1], indexes)), axis = 0).T\n",
    "#    met_doppler_function = interp1d(station['doppler'][:,1], station['doppler'][:,0]) # make interpolation function of measured dopplers. \n",
    "#    station['PCA_time'] = float(met_doppler_function(0)) # Get point of the closest approach time\n",
    "    "
   ]
  },
  {
   "cell_type": "code",
   "execution_count": 68,
   "metadata": {
    "collapsed": false
   },
   "outputs": [],
   "source": [
    "outfile = \"station_data\" \n",
    "np.savez(outfile, timesteps=timesteps, stations=stations)"
   ]
  },
  {
   "cell_type": "code",
   "execution_count": 70,
   "metadata": {
    "collapsed": false
   },
   "outputs": [],
   "source": []
  },
  {
   "cell_type": "code",
   "execution_count": 34,
   "metadata": {
    "collapsed": false
   },
   "outputs": [
    {
     "name": "stdout",
     "output_type": "stream",
     "text": [
      "Using matplotlib backend: TkAgg\n"
     ]
    },
    {
     "ename": "NameError",
     "evalue": "name 'error_func' is not defined",
     "output_type": "error",
     "traceback": [
      "\u001b[0;31m---------------------------------------------------------------------------\u001b[0m\n\u001b[0;31mNameError\u001b[0m                                 Traceback (most recent call last)",
      "\u001b[0;32m<ipython-input-34-fd20039f5af2>\u001b[0m in \u001b[0;36m<module>\u001b[0;34m()\u001b[0m\n\u001b[1;32m     21\u001b[0m         \u001b[0mmet_points\u001b[0m\u001b[0;34m[\u001b[0m\u001b[0mi\u001b[0m\u001b[0;34m]\u001b[0m \u001b[0;34m=\u001b[0m  \u001b[0mmet_start_point\u001b[0m \u001b[0;34m+\u001b[0m \u001b[0;34m(\u001b[0m\u001b[0mmet_vect\u001b[0m \u001b[0;34m*\u001b[0m \u001b[0mtimesteps\u001b[0m\u001b[0;34m[\u001b[0m\u001b[0mi\u001b[0m\u001b[0;34m]\u001b[0m\u001b[0;34m)\u001b[0m\u001b[0;34m\u001b[0m\u001b[0m\n\u001b[1;32m     22\u001b[0m \u001b[0;34m\u001b[0m\u001b[0m\n\u001b[0;32m---> 23\u001b[0;31m     \u001b[0mdoppler_deviations\u001b[0m \u001b[0;34m=\u001b[0m \u001b[0merror_func\u001b[0m\u001b[0;34m(\u001b[0m\u001b[0mmake_meteor\u001b[0m\u001b[0;34m(\u001b[0m\u001b[0;34m)\u001b[0m\u001b[0;34m,\u001b[0m \u001b[0mtimesteps\u001b[0m\u001b[0;34m,\u001b[0m \u001b[0mstations\u001b[0m\u001b[0;34m)\u001b[0m\u001b[0;34m\u001b[0m\u001b[0m\n\u001b[0m\u001b[1;32m     24\u001b[0m \u001b[0;34m\u001b[0m\u001b[0m\n\u001b[1;32m     25\u001b[0m     \u001b[0;32mfor\u001b[0m \u001b[0mstation\u001b[0m \u001b[0;32min\u001b[0m \u001b[0mdoppler_deviations\u001b[0m\u001b[0;34m:\u001b[0m\u001b[0;34m\u001b[0m\u001b[0m\n",
      "\u001b[0;31mNameError\u001b[0m: name 'error_func' is not defined"
     ]
    }
   ],
   "source": [
    "%matplotlib\n",
    "fig, ax1 = plt.subplots(figsize=(9, 7))\n",
    "ax1.set_title('Errors of estimated trajectory doppler time over all Bolidozor stations data')\n",
    "ax1.set_ylabel('Time error [s]')\n",
    "ax1.set_xlabel('Number of records')\n",
    "\n",
    "meteor_dopplers = [1,2]\n",
    "\n",
    "met_points = np.empty([timesteps.size, 3])\n",
    "\n",
    "\n",
    "for meteor in range(ZHR):\n",
    "    \n",
    "    # get meteor vector from start and stop point\n",
    "    met_start_point = np.array(geoC.GeographicToGeocentric(met_start_lat[meteor], met_start_lon[meteor], met_start_altitude[meteor]))\n",
    "    met_stop_point = np.array(geoC.GeographicToGeocentric(met_stop_lat[meteor], met_stop_lon[meteor], met_stop_altitude[meteor]))\n",
    "    met_vect = met_start_point - met_stop_point\n",
    "    met_speed_vect = met_vect/np.linalg.norm(met_vect) * met_velocity[meteor]\n",
    "    \n",
    "    for i in range(timesteps.size):  # generate points on meteor trajectory (discretize in space)\n",
    "        met_points[i] =  met_start_point + (met_vect * timesteps[i])\n",
    "    \n",
    "    doppler_deviations = error_func(make_meteor(), timesteps, stations)\n",
    "    \n",
    "    for station in doppler_deviations:\n",
    "        plt.plot(doppler_deviations[station][:] , label=station if meteor == 0 else \"\")\n",
    "    plt.legend(loc=1)"
   ]
  },
  {
   "cell_type": "code",
   "execution_count": 62,
   "metadata": {
    "collapsed": false
   },
   "outputs": [],
   "source": []
  },
  {
   "cell_type": "markdown",
   "metadata": {},
   "source": [
    "## Meteor parameters Estimator"
   ]
  },
  {
   "cell_type": "code",
   "execution_count": 70,
   "metadata": {
    "collapsed": false
   },
   "outputs": [],
   "source": [
    "def make_meteor():\n",
    "    ## initial meteor trajectory guess \n",
    "    est_start_altitude = np.random.normal(100e3,20e3,1)\n",
    "    est_stop_altitude = np.random.normal(60e3,20e3,1)\n",
    "    \n",
    "    est_start_lat = np.random.normal(49,2,1)  \n",
    "    est_start_lon = np.random.normal(11,2,1)\n",
    "    \n",
    "    est_stop_lat = np.random.normal(49,2,1) \n",
    "    est_stop_lon = np.random.normal(11,2,1)\n",
    "    \n",
    "    est_velocity = np.random.normal(50000,20000,1)\n",
    "\n",
    "    est_start_point = np.array(geoC.GeographicToGeocentric(est_start_lat, est_start_lon, est_start_altitude))\n",
    "    est_stop_point = np.array(geoC.GeographicToGeocentric(est_stop_lat, est_stop_lon, est_stop_altitude))\n",
    "    est_vect = est_start_point - est_stop_point\n",
    "    est_speed_vect = est_vect/np.linalg.norm(est_vect) * est_velocity\n",
    "    est_params = np.concatenate((est_start_point.ravel(), est_speed_vect.ravel()), axis=1)\n",
    "    return est_params\n"
   ]
  },
  {
   "cell_type": "code",
   "execution_count": 19,
   "metadata": {
    "collapsed": false
   },
   "outputs": [],
   "source": [
    "def error_func(est_params, timesteps, stations):\n",
    "    \"\"\"\n",
    "    Returns time difference between real and estimated meteor trajectory dopplers\n",
    "    \"\"\"\n",
    "    from Geocentric import Geocentric\n",
    "    geoC = Geocentric(6378137, 6356752.314)\n",
    "    \n",
    "    est_start_point = est_params[0:3]\n",
    "    est_vect = est_params[3:6]\n",
    "    est_points = np.empty([timesteps.size, 3])\n",
    "    \n",
    "    for i in range(timesteps.size):  # generate points of estimated meteor trajectory\n",
    "        est_points[i] =  est_start_point + (est_vect * timesteps[i])\n",
    "\n",
    "    doppler_deviations = {}\n",
    "    for station in stations:\n",
    "        doppler_deviation = np.zeros(station['doppler'].shape[0])\n",
    "        rec_station_point = np.array(geoC.GeographicToGeocentric(station['latitude'], station['longitude'], station['elevation']))\n",
    "        est_doppler = estimate_dopplers(est_points, timesteps, f0, trans_station_point, rec_station_point)\n",
    "        est_doppler_function = UnivariateSpline(est_doppler[1:,1], est_doppler[1:,0]) # make interpolation function of estimated dopplers. \n",
    "\n",
    "        for i in range(station['doppler'].shape[0]):  \n",
    "            doppler_deviation[i] = (station['doppler'][:,0][i] - est_doppler_function(station['doppler'][:,1][i]))**2\n",
    "        \n",
    "        doppler_deviations[station['name']] = doppler_deviation\n",
    "        \n",
    "    return doppler_deviations\n"
   ]
  },
  {
   "cell_type": "code",
   "execution_count": 20,
   "metadata": {
    "collapsed": false
   },
   "outputs": [],
   "source": [
    "def station_errors(met_params, timesteps, stations):\n",
    "    \"\"\"\n",
    "    Calculate total error value of estimated meteor params to every station signal. \n",
    "    \"\"\"    \n",
    "    doppler_errors = error_func(met_params, timesteps, stations)\n",
    "    total_deviation = []\n",
    "    for station in doppler_errors:\n",
    "        total_deviation.append(np.sum(doppler_errors[station]))\n",
    "    return total_deviation"
   ]
  },
  {
   "cell_type": "markdown",
   "metadata": {},
   "source": [
    "### Gradient method of trajectory search"
   ]
  },
  {
   "cell_type": "code",
   "execution_count": 91,
   "metadata": {
    "collapsed": false
   },
   "outputs": [],
   "source": [
    "def total_error(est_params, timesteps, stations_data):\n",
    "    return np.sum(station_errors(est_params, timesteps, stations)[5]) ## test to match meteor to one station\n",
    "#    return station_errors(est_params, timesteps, stations)"
   ]
  },
  {
   "cell_type": "code",
   "execution_count": 92,
   "metadata": {
    "collapsed": false
   },
   "outputs": [],
   "source": [
    "def find_trajectory(timesteps,stations_data):\n",
    "    ## initial meteor trajectory guess \n",
    "\n",
    "    est_params = make_meteor()\n",
    "    res = minimize(total_error, est_params, args = (timesteps, stations_data,), method = 'Nelder-Mead', options = {'disp': True, 'maxfev': 1e10, 'maxiter': 1e10, 'ftol': 1e-6})\n",
    "    return res"
   ]
  },
  {
   "cell_type": "code",
   "execution_count": 93,
   "metadata": {
    "collapsed": false
   },
   "outputs": [
    {
     "name": "stdout",
     "output_type": "stream",
     "text": [
      "Optimization terminated successfully.\n",
      "         Current function value: 0.000001\n",
      "         Iterations: 2696\n",
      "         Function evaluations: 4270\n"
     ]
    }
   ],
   "source": [
    "res = find_trajectory(timesteps, stations)"
   ]
  },
  {
   "cell_type": "code",
   "execution_count": 78,
   "metadata": {
    "collapsed": false
   },
   "outputs": [],
   "source": [
    "out3 = res"
   ]
  },
  {
   "cell_type": "code",
   "execution_count": 79,
   "metadata": {
    "collapsed": false
   },
   "outputs": [
    {
     "data": {
      "text/plain": [
       "  status: 0\n",
       "    nfev: 1376\n",
       " success: True\n",
       "     fun: 1.428537905214907\n",
       "       x: array([ 3869958.80753883,  1137019.9788224 ,  4952259.776283  ,\n",
       "         -51013.77567784,   -57200.82574611,    64911.35323292])\n",
       " message: 'Optimization terminated successfully.'\n",
       "     nit: 842"
      ]
     },
     "execution_count": 79,
     "metadata": {},
     "output_type": "execute_result"
    }
   ],
   "source": [
    "out3"
   ]
  },
  {
   "cell_type": "code",
   "execution_count": 43,
   "metadata": {
    "collapsed": false
   },
   "outputs": [
    {
     "data": {
      "text/plain": [
       "  status: 0\n",
       "    nfev: 2216\n",
       " success: True\n",
       "     fun: 0.0016556680880811074\n",
       "       x: array([ 4265519.87918796,   693206.00450766,  5061117.47264313,\n",
       "         -39979.92824764,   -25414.1862104 ,    30701.52182132])\n",
       " message: 'Optimization terminated successfully.'\n",
       "     nit: 1385"
      ]
     },
     "execution_count": 43,
     "metadata": {},
     "output_type": "execute_result"
    }
   ],
   "source": [
    "out2"
   ]
  },
  {
   "cell_type": "code",
   "execution_count": 40,
   "metadata": {
    "collapsed": false
   },
   "outputs": [
    {
     "data": {
      "text/plain": [
       "  status: 0\n",
       "    nfev: 2075\n",
       " success: True\n",
       "     fun: 0.01830973655510101\n",
       "       x: array([ 4106982.42184792,   810779.5087746 ,  5020410.49986387,\n",
       "         -51137.29994397,   -38970.8060082 ,    39396.84388943])\n",
       " message: 'Optimization terminated successfully.'\n",
       "     nit: 1271"
      ]
     },
     "execution_count": 40,
     "metadata": {},
     "output_type": "execute_result"
    }
   ],
   "source": [
    "out1"
   ]
  },
  {
   "cell_type": "code",
   "execution_count": 80,
   "metadata": {
    "collapsed": false
   },
   "outputs": [],
   "source": [
    "est_params = out3['x']"
   ]
  },
  {
   "cell_type": "code",
   "execution_count": 81,
   "metadata": {
    "collapsed": false
   },
   "outputs": [
    {
     "data": {
      "text/plain": [
       "array([ 3869958.80753883,  1137019.9788224 ,  4952259.776283  ,\n",
       "         -51013.77567784,   -57200.82574611,    64911.35323292])"
      ]
     },
     "execution_count": 81,
     "metadata": {},
     "output_type": "execute_result"
    }
   ],
   "source": [
    "est_params"
   ]
  },
  {
   "cell_type": "markdown",
   "metadata": {},
   "source": [
    "## Precision Analysis"
   ]
  },
  {
   "cell_type": "code",
   "execution_count": 97,
   "metadata": {
    "collapsed": false
   },
   "outputs": [],
   "source": [
    "est_start_point = est_params[0:3]\n",
    "est_vect = est_params[3:6]\n",
    "est_points = np.empty([timesteps.size, 3])\n",
    "\n",
    "for i in range(timesteps.size):  # generate points on meteor trajectory (discretize in space)\n",
    "    est_points[i] =  est_start_point + (est_vect * timesteps[i])"
   ]
  },
  {
   "cell_type": "code",
   "execution_count": 98,
   "metadata": {
    "collapsed": false
   },
   "outputs": [
    {
     "name": "stdout",
     "output_type": "stream",
     "text": [
      "Using matplotlib backend: TkAgg\n"
     ]
    }
   ],
   "source": [
    "%matplotlib\n",
    "fig = plt.figure()\n",
    "ax = plt.axes(projection='3d')\n",
    "ax.set_title('Meteor Trajectories')\n",
    "ax.set_ylabel('Position [m]')\n",
    "ax.set_xlabel('Position [m]')\n",
    "ax.set_zlabel('Position [m]')\n",
    "ax.scatter(met_points[:,0], met_points[:,1], met_points[:,2], color = 'b', label= \"Real\")\n",
    "ax.scatter(est_points[:,0], est_points[:,1], est_points[:,2], color = 'r', label= \"Estimated\")\n",
    "for station in stations:\n",
    "    rec_station_point = np.array(geoC.GeographicToGeocentric(station['latitude'], station['longitude'], station['elevation']))\n",
    "    ax.scatter(rec_station_point[0], rec_station_point[1], rec_station_point[2])\n"
   ]
  },
  {
   "cell_type": "code",
   "execution_count": 99,
   "metadata": {
    "collapsed": false
   },
   "outputs": [
    {
     "name": "stdout",
     "output_type": "stream",
     "text": [
      "Using matplotlib backend: TkAgg\n"
     ]
    }
   ],
   "source": [
    "%matplotlib\n",
    "fig = plt.figure()\n",
    "ax = plt.axes(projection='3d')\n",
    "ax.scatter(met_points[:,0], met_points[:,1], met_points[:,2])\n",
    "for station in stations:\n",
    "    rec_station_point = np.array(geoC.GeographicToGeocentric(station['latitude'], station['longitude'], station['elevation']))\n",
    "    ax.scatter(rec_station_point[0], rec_station_point[1], rec_station_point[2])"
   ]
  },
  {
   "cell_type": "code",
   "execution_count": 100,
   "metadata": {
    "collapsed": false
   },
   "outputs": [
    {
     "name": "stdout",
     "output_type": "stream",
     "text": [
      "Using matplotlib backend: TkAgg\n"
     ]
    },
    {
     "data": {
      "text/plain": [
       "<matplotlib.legend.Legend at 0x7f4cfc706bd0>"
      ]
     },
     "execution_count": 100,
     "metadata": {},
     "output_type": "execute_result"
    }
   ],
   "source": [
    "%matplotlib\n",
    "fig, ax1 = plt.subplots(figsize=(9, 7))\n",
    "ax1.set_title('Dopplers of estimated  meteor trajectory')\n",
    "ax1.set_ylabel('Doppler [Hz]')\n",
    "ax1.set_xlabel('Time [s]')\n",
    "\n",
    "    \n",
    "for station in stations:\n",
    "    rec_station_point = np.array(geoC.GeographicToGeocentric(station['latitude'], station['longitude'], station['elevation']))\n",
    "\n",
    "    #doppler_met = estimate_dopplers(met_points, f0, trans_station_point, rec_station_point)\n",
    "    doppler_est = estimate_dopplers(est_points, timesteps, f0, trans_station_point, rec_station_point)\n",
    "\n",
    "#    plt.plot(station['doppler'][:,0], station['doppler'][:,1], label=station['name'] if meteor == 0 else \"\", color = 'b')\n",
    "    plt.plot(station['doppler'][:,0], station['doppler'][:,1], label=station['name'] if meteor == 0 else \"\")\n",
    "    plt.plot(doppler_est[1:,0], doppler_est[1:,1], color = 'r')\n",
    "    \n",
    "plt.legend(loc=1)"
   ]
  },
  {
   "cell_type": "code",
   "execution_count": 187,
   "metadata": {
    "collapsed": false
   },
   "outputs": [],
   "source": [
    "data_file = np.load(\"station_data.npz\")\n",
    "timesteps = data_file['timesteps']\n",
    "stations = data_file['stations']"
   ]
  },
  {
   "cell_type": "code",
   "execution_count": 195,
   "metadata": {
    "collapsed": false
   },
   "outputs": [],
   "source": []
  },
  {
   "cell_type": "code",
   "execution_count": 89,
   "metadata": {
    "collapsed": false
   },
   "outputs": [
    {
     "name": "stdout",
     "output_type": "stream",
     "text": [
      "[array('d', [4242178.838858588, 877133.9277853557, 4739756.869906342, 39681.670874463365, 25625.12571113396, -36807.68411802771])]\n"
     ]
    }
   ],
   "source": [
    "print hof"
   ]
  },
  {
   "cell_type": "code",
   "execution_count": 68,
   "metadata": {
    "collapsed": false
   },
   "outputs": [
    {
     "name": "stdout",
     "output_type": "stream",
     "text": [
      "[array('d', [3953586.958058075, 988944.7005357716, 5010073.095748296, -45095.19931529084, 22091.309637106715, 62240.493103505054])]\n"
     ]
    }
   ],
   "source": [
    "print hof"
   ]
  },
  {
   "cell_type": "code",
   "execution_count": 90,
   "metadata": {
    "collapsed": false
   },
   "outputs": [],
   "source": [
    "est_params = np.array(hof[0])"
   ]
  },
  {
   "cell_type": "code",
   "execution_count": 96,
   "metadata": {
    "collapsed": false
   },
   "outputs": [
    {
     "data": {
      "text/plain": [
       "array([ 3934917.07977772,   770685.36426358,  4159837.83877261,\n",
       "          41700.43985408,   -16343.75792138,   -26616.27784591])"
      ]
     },
     "execution_count": 96,
     "metadata": {},
     "output_type": "execute_result"
    }
   ],
   "source": [
    "est_params"
   ]
  },
  {
   "cell_type": "code",
   "execution_count": 92,
   "metadata": {
    "collapsed": false
   },
   "outputs": [
    {
     "ename": "TypeError",
     "evalue": "'module' object is not callable",
     "output_type": "error",
     "traceback": [
      "\u001b[0;31m---------------------------------------------------------------------------\u001b[0m\n\u001b[0;31mTypeError\u001b[0m                                 Traceback (most recent call last)",
      "\u001b[0;32m<ipython-input-92-de521def3302>\u001b[0m in \u001b[0;36m<module>\u001b[0;34m()\u001b[0m\n\u001b[0;32m----> 1\u001b[0;31m \u001b[0marray\u001b[0m\u001b[0;34m(\u001b[0m\u001b[0;34m'd'\u001b[0m\u001b[0;34m,\u001b[0m \u001b[0;34m[\u001b[0m\u001b[0;36m4054680.0680794725\u001b[0m\u001b[0;34m,\u001b[0m \u001b[0;36m1080843.3217390168\u001b[0m\u001b[0;34m,\u001b[0m \u001b[0;36m4911049.2573404275\u001b[0m\u001b[0;34m,\u001b[0m \u001b[0;34m-\u001b[0m\u001b[0;36m4949.93417629765\u001b[0m\u001b[0;34m,\u001b[0m \u001b[0;36m41461.15462661179\u001b[0m\u001b[0;34m,\u001b[0m \u001b[0;34m-\u001b[0m\u001b[0;36m6000.00731814691\u001b[0m\u001b[0;34m]\u001b[0m\u001b[0;34m)\u001b[0m\u001b[0;34m\u001b[0m\u001b[0m\n\u001b[0m",
      "\u001b[0;31mTypeError\u001b[0m: 'module' object is not callable"
     ]
    }
   ],
   "source": [
    "est_params = array('d', [4054680.0680794725, 1080843.3217390168, 4911049.2573404275, -4949.93417629765, 41461.15462661179, -6000.00731814691])"
   ]
  },
  {
   "cell_type": "code",
   "execution_count": 197,
   "metadata": {
    "collapsed": false
   },
   "outputs": [
    {
     "data": {
      "text/plain": [
       "839.79927029195528"
      ]
     },
     "execution_count": 197,
     "metadata": {},
     "output_type": "execute_result"
    }
   ],
   "source": [
    "np.sum(station_errors(est_params, timesteps, stations))"
   ]
  },
  {
   "cell_type": "code",
   "execution_count": 95,
   "metadata": {
    "collapsed": false
   },
   "outputs": [
    {
     "data": {
      "text/plain": [
       "[104.45282764075326,\n",
       " 5.828832365428176,\n",
       " 60.245002395726701,\n",
       " 26.21114089575903,\n",
       " 122.67345228971118,\n",
       " 105.78887634673868,\n",
       " 54.701922297646412,\n",
       " 12.490411091586182,\n",
       " 53.15391909368055,\n",
       " 9.097261762537288,\n",
       " 303.28568997578896,\n",
       " 3.6847407729791484,\n",
       " 41.540464961530205,\n",
       " 86.19622486239912]"
      ]
     },
     "execution_count": 95,
     "metadata": {},
     "output_type": "execute_result"
    }
   ],
   "source": [
    "station_errors(est_params, timesteps, stations)"
   ]
  },
  {
   "cell_type": "code",
   "execution_count": 94,
   "metadata": {
    "collapsed": false
   },
   "outputs": [],
   "source": [
    "est_params = np.load(\"estimated_parameters.npy\")"
   ]
  },
  {
   "cell_type": "code",
   "execution_count": 22,
   "metadata": {
    "collapsed": false
   },
   "outputs": [],
   "source": []
  },
  {
   "cell_type": "code",
   "execution_count": 62,
   "metadata": {
    "collapsed": false
   },
   "outputs": [],
   "source": []
  },
  {
   "cell_type": "markdown",
   "metadata": {
    "collapsed": false
   },
   "source": [
    "\n",
    "Edmond záznamy"
   ]
  },
  {
   "cell_type": "code",
   "execution_count": null,
   "metadata": {
    "collapsed": false
   },
   "outputs": [],
   "source": [
    "http://meteor1.astrozor.cz:5252/multibolid/event/950404/\n",
    "http://meteor1.astrozor.cz:5252/multibolid/event/1651523/\n",
    "http://meteor1.astrozor.cz:5252/multibolid/event/1650562/\n",
    "http://meteor1.astrozor.cz:5252/multibolid/event/1740199/\n"
   ]
  }
 ],
 "metadata": {
  "kernelspec": {
   "display_name": "Python 2",
   "language": "python",
   "name": "python2"
  },
  "language_info": {
   "codemirror_mode": {
    "name": "ipython",
    "version": 2
   },
   "file_extension": ".py",
   "mimetype": "text/x-python",
   "name": "python",
   "nbconvert_exporter": "python",
   "pygments_lexer": "ipython2",
   "version": "2.7.11+"
  }
 },
 "nbformat": 4,
 "nbformat_minor": 0
}
