{
 "metadata": {
  "name": "",
  "signature": "sha256:095d4d8d5ad91e25f2966e9a10582ffabd82b6ec6f1388d28842504c5e73dfc8"
 },
 "nbformat": 3,
 "nbformat_minor": 0,
 "worksheets": [
  {
   "cells": [
    {
     "cell_type": "markdown",
     "metadata": {},
     "source": [
      "Calculation of meteor trajectory from head-echo dopplers\n",
      "=======\n",
      "\n",
      "Theory is adopted from Christian Steyaert et. al. 2010\n"
     ]
    },
    {
     "cell_type": "code",
     "collapsed": false,
     "input": [
      "TMx = (x_M \u2212 x T )\n",
      "TMy = (y M \u2212 y T )\n",
      "TMz = (z M \u2212 z T )"
     ],
     "language": "python",
     "metadata": {},
     "outputs": [
      {
       "ename": "SyntaxError",
       "evalue": "invalid syntax (<ipython-input-296-98dca8f4f72e>, line 1)",
       "output_type": "pyerr",
       "traceback": [
        "\u001b[0;36m  File \u001b[0;32m\"<ipython-input-296-98dca8f4f72e>\"\u001b[0;36m, line \u001b[0;32m1\u001b[0m\n\u001b[0;31m    TMx = (x_M \u2212 x T )\u001b[0m\n\u001b[0m               ^\u001b[0m\n\u001b[0;31mSyntaxError\u001b[0m\u001b[0;31m:\u001b[0m invalid syntax\n"
       ]
      }
     ],
     "prompt_number": 296
    },
    {
     "cell_type": "code",
     "collapsed": false,
     "input": [
      "import pylab\n",
      "f = pylab.figure()"
     ],
     "language": "python",
     "metadata": {},
     "outputs": [],
     "prompt_number": 297
    },
    {
     "cell_type": "code",
     "collapsed": false,
     "input": [
      "pylab.plot([1,2,3], [1,2,4], 'go-', label='line 1', linewidth=2)\n",
      "pylab.plot([1,2,3], [1,2,2], 'bo-', label='line 1', linewidth=2)"
     ],
     "language": "python",
     "metadata": {},
     "outputs": [
      {
       "metadata": {},
       "output_type": "pyout",
       "prompt_number": 298,
       "text": [
        "[<matplotlib.lines.Line2D at 0x7fac0084dfd0>]"
       ]
      }
     ],
     "prompt_number": 298
    },
    {
     "cell_type": "code",
     "collapsed": false,
     "input": [
      "pylab.show()"
     ],
     "language": "python",
     "metadata": {},
     "outputs": [],
     "prompt_number": 299
    },
    {
     "cell_type": "markdown",
     "metadata": {},
     "source": [
      "Head Echo doppler function \n",
      "======="
     ]
    },
    {
     "cell_type": "markdown",
     "metadata": {},
     "source": [
      "The equation is  obtained from publication at http://adsabs.harvard.edu/abs/1998JIMO...26..117R (1998)"
     ]
    },
    {
     "cell_type": "code",
     "collapsed": false,
     "input": [
      "from sympy import symbols, sign, sqrt\n",
      "from sympy.plotting import plot\n",
      "t, f0, c, vm, r0 = symbols('t f_0 c v_m r_0')"
     ],
     "language": "python",
     "metadata": {},
     "outputs": [],
     "prompt_number": 57
    },
    {
     "cell_type": "code",
     "collapsed": false,
     "input": [
      "delta_f = - sign(t) * sqrt(((2*f0)/c)**2 * (vm**2)/(r0**2/(vm**2 * t**2) + 1) )"
     ],
     "language": "python",
     "metadata": {},
     "outputs": [],
     "prompt_number": 58
    },
    {
     "cell_type": "code",
     "collapsed": false,
     "input": [
      "delta_f.subs([(f0,55.260e6),(c,3e8),(vm,40e3),(r0,300e3), (t,1)])"
     ],
     "language": "python",
     "metadata": {},
     "outputs": [
      {
       "metadata": {},
       "output_type": "pyout",
       "prompt_number": 59,
       "text": [
        "-1947.56457926124"
       ]
      }
     ],
     "prompt_number": 59
    },
    {
     "cell_type": "code",
     "collapsed": false,
     "input": [
      "plot(delta_f.subs([(f0,55.260e6),(c,3e8),(vm,40e3),(r0,300e3)]), (t, -10, 10))"
     ],
     "language": "python",
     "metadata": {},
     "outputs": [
      {
       "metadata": {},
       "output_type": "pyout",
       "prompt_number": 60,
       "text": [
        "<sympy.plotting.plot.Plot at 0x7f6c33cca1d0>"
       ]
      }
     ],
     "prompt_number": 60
    },
    {
     "cell_type": "code",
     "collapsed": false,
     "input": [],
     "language": "python",
     "metadata": {},
     "outputs": [],
     "prompt_number": 8
    },
    {
     "cell_type": "heading",
     "level": 2,
     "metadata": {},
     "source": [
      "Artificial meteor generator"
     ]
    },
    {
     "cell_type": "code",
     "collapsed": false,
     "input": [
      "%pylab inline\n",
      "matplotlib.use('Agg')\n",
      "\n",
      "from mpl_toolkits.mplot3d.axes3d import Axes3D\n",
      "import matplotlib.pyplot as plt\n",
      "import numpy as np\n",
      "import scipy\n",
      "from scipy.optimize import minimize\n",
      "from scipy.interpolate import interp1d\n",
      "from Geocentric import Geocentric\n",
      "geoC = Geocentric(6378137, 6356752.314)"
     ],
     "language": "python",
     "metadata": {},
     "outputs": [
      {
       "output_type": "stream",
       "stream": "stdout",
       "text": [
        "Populating the interactive namespace from numpy and matplotlib\n"
       ]
      },
      {
       "output_type": "stream",
       "stream": "stderr",
       "text": [
        "WARNING: pylab import has clobbered these variables: ['plot', 'sqrt', 'sign']\n",
        "`%matplotlib` prevents importing * from pylab and numpy\n"
       ]
      }
     ],
     "prompt_number": 62
    },
    {
     "cell_type": "code",
     "collapsed": false,
     "input": [
      "import scipy.constants\n",
      "import numpy as np\n",
      "from scipy.optimize import minimize #,  differential_evolution\n",
      "from Geocentric import Geocentric\n",
      "geoC = Geocentric(6378137, 6356752.314)"
     ],
     "language": "python",
     "metadata": {},
     "outputs": [],
     "prompt_number": 63
    },
    {
     "cell_type": "markdown",
     "metadata": {},
     "source": [
      "Generate Artificial meteor for algorithm testing"
     ]
    },
    {
     "cell_type": "code",
     "collapsed": false,
     "input": [
      "c = scipy.constants.c\n",
      "f0 = 143050000\n",
      "trans_station_point = np.array(geoC.GeographicToGeocentric(47.347993, 5.515079, 190))\n",
      "t = 0.07"
     ],
     "language": "python",
     "metadata": {},
     "outputs": [],
     "prompt_number": 64
    },
    {
     "cell_type": "code",
     "collapsed": false,
     "input": [
      "#Artificial meteors coordinates:\n",
      "\n",
      "ZHR = 1\n",
      "\n",
      "met_start_altitude = np.random.normal(100e3,20e3,ZHR)\n",
      "met_stop_altitude = np.random.normal(60e3,20e3,ZHR)\n",
      "\n",
      "met_start_lat = np.random.normal(49,1,ZHR)  \n",
      "met_start_lon = np.random.normal(11,1,ZHR)\n",
      "\n",
      "met_stop_lat = np.random.normal(49,1,ZHR) \n",
      "met_stop_lon = np.random.normal(11,1,ZHR)\n",
      "\n",
      "met_velocity = np.random.normal(50000,20000,ZHR)\n",
      "timesteps = np.arange(-10,10,t)\n"
     ],
     "language": "python",
     "metadata": {},
     "outputs": [],
     "prompt_number": 65
    },
    {
     "cell_type": "code",
     "collapsed": false,
     "input": [
      "def estimate_dopplers(trajectory, timesteps, f0, trans_station, rec_station):\n",
      "    '''\n",
      "        Returns array of dopplers for given transmitter to receiver position and defined frequency and known trajectory.\n",
      "    '''\n",
      "    rec_to_met = np.empty([trajectory.shape[0], 1])\n",
      "    trans_to_met = np.empty([trajectory.shape[0], 1])\n",
      "    doppler = np.empty([trajectory.shape[0], 2])\n",
      "    \n",
      "    previous_rec_to_met = np.linalg.norm(rec_station - trajectory[0])\n",
      "    previous_trans_to_met = np.linalg.norm(trans_station - trajectory[0])\n",
      "    \n",
      "    t = timesteps[1] - timesteps[0]\n",
      "    \n",
      "    for i in range(trajectory.shape[0]):\n",
      "        rec_to_met[i] = np.linalg.norm(rec_station - trajectory[i])\n",
      "        trans_to_met[i] = np.linalg.norm(trans_station - trajectory[i])\n",
      "    \n",
      "        met_trans_speed = previous_trans_to_met - trans_to_met[i]\n",
      "        previous_trans_to_met = trans_to_met[i]\n",
      "        speed = met_trans_speed/t    \n",
      "        f1 = ((c + speed)/c * f0)\n",
      "        \n",
      "        met_rec_speed = previous_rec_to_met - rec_to_met[i]    ## calculate bistatic velocity from known position\n",
      "        previous_rec_to_met = rec_to_met[i]\n",
      "        speed = met_rec_speed/t\n",
      "        f2 = (c/(c - speed) * f1)\n",
      "        doppler[i] = np.array([timesteps[i], f2-f0])\n",
      "    return doppler"
     ],
     "language": "python",
     "metadata": {},
     "outputs": [],
     "prompt_number": 5
    },
    {
     "cell_type": "code",
     "collapsed": false,
     "input": [
      "def error_func(est_params, timesteps, stations):\n",
      "    \"\"\"\n",
      "    Returns time difference between real and estimated meteor trajectory dopplers\n",
      "    \"\"\"\n",
      "    from Geocentric import Geocentric\n",
      "    geoC = Geocentric(6378137, 6356752.314)\n",
      "    \n",
      "    est_start_point = est_params[0:3]\n",
      "    est_vect = est_params[3:6]\n",
      "    est_points = np.empty([timesteps.size, 3])\n",
      "    \n",
      "    for i in range(timesteps.size):  # generate points of estimated meteor trajectory\n",
      "        est_points[i] =  est_start_point + (est_vect * timesteps[i])\n",
      "\n",
      "    doppler_deviations = {}\n",
      "    for station in stations:\n",
      "        doppler_deviation = np.zeros(station['doppler'].shape[0])\n",
      "        rec_station_point = np.array(geoC.GeographicToGeocentric(station['latitude'], station['longitude'], station['elevation']))\n",
      "        est_doppler = estimate_dopplers(est_points, timesteps, f0, trans_station_point, rec_station_point)\n",
      "        est_doppler_function = interp1d(est_doppler[1:,1], est_doppler[1:,0]) # make interpolation function of estimated dopplers. \n",
      "\n",
      "        for i in range(station['doppler'].shape[0]):  \n",
      "            doppler_deviation[i] = station['doppler'][:,0][i] - est_doppler_function(station['doppler'][:,1][i])\n",
      "        \n",
      "        doppler_deviations[station['name']] = doppler_deviation\n",
      "        \n",
      "    return doppler_deviations\n"
     ],
     "language": "python",
     "metadata": {},
     "outputs": [],
     "prompt_number": 43
    },
    {
     "cell_type": "code",
     "collapsed": false,
     "input": [
      "def station_errors(met_params, timesteps, stations):\n",
      "    \"\"\"\n",
      "    Calculate total error value of estimated meteor params to every station signal. \n",
      "    \"\"\"    \n",
      "    doppler_errors = error_func(met_params, timesteps, stations)\n",
      "    total_deviation = []\n",
      "    for station in doppler_errors:\n",
      "        total_deviation.append(np.sum(doppler_errors[station][:,1]))\n",
      "    return total_deviation"
     ],
     "language": "python",
     "metadata": {},
     "outputs": [],
     "prompt_number": 7
    },
    {
     "cell_type": "markdown",
     "metadata": {},
     "source": [
      "Define Bolidozor network station. List may be updated from space.astro.cz server according to stored data."
     ]
    },
    {
     "cell_type": "code",
     "collapsed": false,
     "input": [
      "stations = []\n",
      "stations.append({'name': 'Zebrak','latitude':49.8736, 'longitude':13.8986,'elevation':400, 'status': 'operational', 'type': 'receiver'})\n",
      "stations.append({'name': 'uFlu','latitude':50.0795, 'longitude':14.4891,'elevation':400, 'status': 'operational', 'type': 'receiver'})\n",
      "stations.append({'name': 'OBSUPICE','latitude':50.5067,'longitude':16.0115,'elevation':400, 'status': 'operational', 'type': 'receiver'})\n",
      "stations.append({'name': 'SVAKOV','latitude':49.2607,'longitude':14.6917,'elevation':400, 'status': 'operational', 'type': 'receiver'})\n",
      "stations.append({'name': 'ZVPP','latitude':48.9869,'longitude':14.4675,'elevation':400, 'status': 'operational', 'type': 'receiver'})\n",
      "stations.append({'name': 'BPB','latitude':48.653153,'longitude':17.537413,'elevation':400, 'status': 'testing', 'type': 'receiver'})\n",
      "stations.append({'name': 'HPHK','latitude':50.1772,'longitude':15.8386,'elevation':400, 'status': 'testing', 'type': 'receiver'})\n",
      "stations.append({'name': 'OBSJAROMER','latitude':50.351397,'longitude':15.915878,'elevation':400, 'status': 'testing', 'type': 'receiver'})\n",
      "stations.append({'name': 'JHRADEC','latitude':49.1314,'longitude': 14.9999,'elevation':400, 'status': 'testing', 'type': 'receiver'})\n",
      "stations.append({'name': 'VALMEZ','latitude':49.463038,'longitude': 17.973544,'elevation':400, 'status': 'testing', 'type': 'receiver'})\n",
      "stations.append({'name': 'NACHODSKO','latitude':50.409407,'longitude':15.414812,'elevation':400, 'status': 'operational', 'type': 'receiver'})\n"
     ],
     "language": "python",
     "metadata": {},
     "outputs": [],
     "prompt_number": 8
    },
    {
     "cell_type": "code",
     "collapsed": false,
     "input": [
      "# compute dopplers for multiple stations\n",
      "\n",
      "from Geocentric import Geocentric\n",
      "geoC = Geocentric(6378137, 6356752.314)\n",
      "\n",
      "#%matplotlib\n",
      "#fig, ax1 = plt.subplots(figsize=(9, 7))\n",
      "#ax1.set_title('Meteor Dopplers at multiple Bolidozor stations')\n",
      "#ax1.set_ylabel('Doppler [Hz]')\n",
      "#ax1.set_xlabel('Time [s]')\n",
      "#grid(True)\n",
      "\n",
      "meteor_dopplers = [1,2]\n",
      "met_points = np.empty([timesteps.size, 3])\n",
      "\n",
      "for meteor in range(ZHR):\n",
      "    \n",
      "    # get meteor vector from start and stop point\n",
      "    met_start_point = np.array(geoC.GeographicToGeocentric(met_start_lat[meteor], met_start_lon[meteor], met_start_altitude[meteor]))\n",
      "    met_stop_point = np.array(geoC.GeographicToGeocentric(met_stop_lat[meteor], met_stop_lon[meteor], met_stop_altitude[meteor]))\n",
      "    met_vect = met_start_point - met_stop_point\n",
      "\n",
      "    for i in range(timesteps.size):  # generate points on artifitial meteor trajectory (discretize in space)\n",
      "        met_points[i] =  met_start_point + (met_vect/np.linalg.norm(met_vect) * (timesteps[i] * met_velocity[meteor]))\n",
      "    \n",
      "    for station in stations:\n",
      "        rec_station_point = np.array(geoC.GeographicToGeocentric(station['latitude'], station['longitude'], station['elevation']))\n",
      "        \n",
      "        doppler = estimate_dopplers(met_points, timesteps, f0, trans_station_point, rec_station_point)\n",
      "            \n",
      "        meteor_dopplers[meteor] = doppler\n",
      "        plt.plot(doppler[1:,0], doppler[1:,1], label=station['name'] if meteor == 0 else \"\")\n",
      "    \n",
      "    plt.legend(loc=1)"
     ],
     "language": "python",
     "metadata": {},
     "outputs": [
      {
       "metadata": {},
       "output_type": "display_data",
       "png": "[encoded data removed]",
       "text": [
        "<matplotlib.figure.Figure at 0x7f6c29429b10>"
       ]
      }
     ],
     "prompt_number": 66
    },
    {
     "cell_type": "code",
     "collapsed": false,
     "input": [
      "from mpl_toolkits.basemap import Basemap\n",
      "\n",
      "land_color = 'lightgray'\n",
      "water_color = 'lightblue'\n",
      "\n",
      "fig, ax = subplots(figsize=(20,20))\n",
      "map = Basemap(projection='merc', llcrnrlat=45, urcrnrlat=55,\n",
      "            llcrnrlon=8, urcrnrlon=25, resolution='i',area_thresh = 50)\n",
      "\n",
      "land_color = 'lightgray'\n",
      "water_color = 'lightblue'\n",
      "\n",
      "map.fillcontinents(color=land_color, lake_color=water_color)\n",
      "map.drawcoastlines()\n",
      "map.drawcountries()\n",
      "#map.drawparallels(np.arange(-90.,120.,30.))\n",
      "#map.drawmeridians(np.arange(0.,420.,60.))\n",
      "map.drawmapboundary(fill_color=water_color)\n",
      "ax.set_title('Bistatic network')\n",
      "\n",
      "#x, y = map(np.array(near_transmitters.longitude_deg), np.array(near_transmitters.latitude_deg))\n",
      "#map.plot(x, y, marker='o', markersize=6, markerfacecolor='red', linewidth=0)\n",
      "\n",
      "for station in stations:\n",
      "    station_latitude = station['latitude']\n",
      "    station_longitude = station['longitude']\n",
      "    x, y = map(station_longitude, station_latitude)\n",
      "    map.plot(x, y, marker='o', markersize=6, markerfacecolor='blue', linewidth=0)\n",
      "\n",
      "map.drawgreatcircle(met_start_lon, met_start_lat, met_stop_lon, met_stop_lat,linewidth=2,color='green')\n",
      "\n",
      "map.ax = ax\n"
     ],
     "language": "python",
     "metadata": {},
     "outputs": [
      {
       "metadata": {},
       "output_type": "display_data",
       "png": "[encoded data removed]",
       "text": [
        "<matplotlib.figure.Figure at 0x7f6c3392d990>"
       ]
      }
     ],
     "prompt_number": 10
    },
    {
     "cell_type": "markdown",
     "metadata": {},
     "source": [
      "Plot artifitial meteor trajectory points"
     ]
    },
    {
     "cell_type": "code",
     "collapsed": false,
     "input": [
      "%matplotlib\n",
      "fig = plt.figure()\n",
      "ax = plt.axes(projection='3d')\n",
      "ax.scatter(met_points[:,0], met_points[:,1], met_points[:,2])\n",
      "for station in stations:\n",
      "    rec_station_point = np.array(geoC.GeographicToGeocentric(station['latitude'], station['longitude'], station['elevation']))\n",
      "    ax.scatter(rec_station_point[0], rec_station_point[1], rec_station_point[2])\n"
     ],
     "language": "python",
     "metadata": {},
     "outputs": [
      {
       "output_type": "stream",
       "stream": "stdout",
       "text": [
        "Using matplotlib backend: TkAgg\n"
       ]
      }
     ],
     "prompt_number": 11
    },
    {
     "cell_type": "markdown",
     "metadata": {},
     "source": [
      "Compute difference between of estimated trajectory dopplers and \"real\" simulated trajectory."
     ]
    },
    {
     "cell_type": "code",
     "collapsed": false,
     "input": [
      "\"\"\"\n",
      "Make virtual artificial meteor report from a model trajectory. \n",
      "\n",
      "\"\"\"\n",
      "\n",
      "meteor_data = doppler[1:,0]\n",
      "\n",
      "doppler_min = -500.0\n",
      "doppler_max = 500.0\n",
      "\n",
      "for station in stations:\n",
      "    rec_station_point = np.array(geoC.GeographicToGeocentric(station['latitude'], station['longitude'], station['elevation']))\n",
      "    dopplers = estimate_dopplers(met_points, timesteps, f0, trans_station_point, rec_station_point)\n",
      "    indexes = np.where(np.logical_and(dopplers[1:,1] > doppler_min, dopplers[1:,1] < doppler_max ))\n",
      "    station['doppler'] = np.concatenate((np.take(dopplers[1:,0], indexes), np.take(dopplers[1:,1], indexes)), axis = 0).T\n",
      "#    met_doppler_function = interp1d(station['doppler'][:,1], station['doppler'][:,0]) # make interpolation function of measured dopplers. \n",
      "#    station['PCA_time'] = float(met_doppler_function(0)) # Get point of the closest approach time\n",
      "    "
     ],
     "language": "python",
     "metadata": {},
     "outputs": [],
     "prompt_number": 12
    },
    {
     "cell_type": "code",
     "collapsed": false,
     "input": [
      "outfile = \"station_data\" \n",
      "np.savez(outfile, timesteps=timesteps, stations=stations)"
     ],
     "language": "python",
     "metadata": {},
     "outputs": [],
     "prompt_number": 62
    },
    {
     "cell_type": "code",
     "collapsed": false,
     "input": [
      "stations"
     ],
     "language": "python",
     "metadata": {},
     "outputs": [
      {
       "metadata": {},
       "output_type": "pyout",
       "prompt_number": 13,
       "text": [
        "[{'doppler': array([[  -3.        ,  388.05923554],\n",
        "         [  -2.93      ,  267.79606846],\n",
        "         [  -2.86      ,  146.83744431],\n",
        "         [  -2.79      ,   25.07769144],\n",
        "         [  -2.72      ,  -97.59083983],\n",
        "         [  -2.65      , -221.27793294],\n",
        "         [  -2.58      , -346.09566295],\n",
        "         [  -2.51      , -472.15855896]]),\n",
        "  'elevation': 400,\n",
        "  'latitude': 49.8736,\n",
        "  'longitude': 13.8986,\n",
        "  'name': 'Zebrak',\n",
        "  'status': 'operational',\n",
        "  'type': 'receiver'},\n",
        " {'doppler': array([[  -2.86      ,  415.5534696 ],\n",
        "         [  -2.79      ,  307.74840808],\n",
        "         [  -2.72      ,  199.66530335],\n",
        "         [  -2.65      ,   91.2242226 ],\n",
        "         [  -2.58      ,  -17.65561643],\n",
        "         [  -2.51      , -127.05594406],\n",
        "         [  -2.44      , -237.05953786],\n",
        "         [  -2.37      , -347.75032437],\n",
        "         [  -2.3       , -459.2134808 ]]),\n",
        "  'elevation': 400,\n",
        "  'latitude': 50.0795,\n",
        "  'longitude': 14.4891,\n",
        "  'name': 'uFlu',\n",
        "  'status': 'operational',\n",
        "  'type': 'receiver'},\n",
        " {'doppler': array([[  -2.72      ,  499.40695769],\n",
        "         [  -2.65      ,  409.57913196],\n",
        "         [  -2.58      ,  320.07109749],\n",
        "         [  -2.51      ,  230.83266154],\n",
        "         [  -2.44      ,  141.81393591],\n",
        "         [  -2.37      ,   52.9652909 ],\n",
        "         [  -2.3       ,  -35.76268956],\n",
        "         [  -2.23      , -124.41925359],\n",
        "         [  -2.16      , -213.05352581],\n",
        "         [  -2.09      , -301.71455252],\n",
        "         [  -2.02      , -390.45134616],\n",
        "         [  -1.95      , -479.3129299 ]]),\n",
        "  'elevation': 400,\n",
        "  'latitude': 50.5067,\n",
        "  'longitude': 16.0115,\n",
        "  'name': 'OBSUPICE',\n",
        "  'status': 'operational',\n",
        "  'type': 'receiver'},\n",
        " {'doppler': array([[  -3.91      ,  407.83692017],\n",
        "         [  -3.84      ,  264.87129897],\n",
        "         [  -3.77      ,  122.07430395],\n",
        "         [  -3.7       ,  -20.65051857],\n",
        "         [  -3.63      , -163.39957795],\n",
        "         [  -3.56      , -306.26931095],\n",
        "         [  -3.49      , -449.35625386]]),\n",
        "  'elevation': 400,\n",
        "  'latitude': 49.2607,\n",
        "  'longitude': 14.6917,\n",
        "  'name': 'SVAKOV',\n",
        "  'status': 'operational',\n",
        "  'type': 'receiver'},\n",
        " {'doppler': array([[  -4.26      ,  445.40046072],\n",
        "         [  -4.19      ,  284.75587034],\n",
        "         [  -4.12      ,  124.34550065],\n",
        "         [  -4.05      ,  -35.94046357],\n",
        "         [  -3.98      , -196.21172267],\n",
        "         [  -3.91      , -356.57792822]]),\n",
        "  'elevation': 400,\n",
        "  'latitude': 48.9869,\n",
        "  'longitude': 14.4675,\n",
        "  'name': 'ZVPP',\n",
        "  'status': 'operational',\n",
        "  'type': 'receiver'},\n",
        " {'doppler': array([[  -5.03      ,  481.41215456],\n",
        "         [  -4.96      ,  314.44027999],\n",
        "         [  -4.89      ,  149.53659984],\n",
        "         [  -4.82      ,  -13.38761455],\n",
        "         [  -4.75      , -174.41937697],\n",
        "         [  -4.68      , -333.64399219],\n",
        "         [  -4.61      , -491.14506668]]),\n",
        "  'elevation': 400,\n",
        "  'latitude': 48.653153,\n",
        "  'longitude': 17.537413,\n",
        "  'name': 'BPB',\n",
        "  'status': 'testing',\n",
        "  'type': 'receiver'},\n",
        " {'doppler': array([[  -3.        ,  435.53833881],\n",
        "         [  -2.93      ,  335.73462123],\n",
        "         [  -2.86      ,  236.25586766],\n",
        "         [  -2.79      ,  137.04462251],\n",
        "         [  -2.72      ,   38.04375601],\n",
        "         [  -2.65      ,  -60.80358642],\n",
        "         [  -2.58      , -159.55403405],\n",
        "         [  -2.51      , -258.2640413 ],\n",
        "         [  -2.44      , -356.98993695],\n",
        "         [  -2.37      , -455.78797448]]),\n",
        "  'elevation': 400,\n",
        "  'latitude': 50.1772,\n",
        "  'longitude': 15.8386,\n",
        "  'name': 'HPHK',\n",
        "  'status': 'testing',\n",
        "  'type': 'receiver'},\n",
        " {'doppler': array([[  -2.86      ,  491.26808268],\n",
        "         [  -2.79      ,  396.89089319],\n",
        "         [  -2.72      ,  302.84092546],\n",
        "         [  -2.65      ,  209.06453788],\n",
        "         [  -2.58      ,  115.50840324],\n",
        "         [  -2.51      ,   22.11946043],\n",
        "         [  -2.44      ,  -71.15513337],\n",
        "         [  -2.37      , -164.36805075],\n",
        "         [  -2.3       , -257.57184142],\n",
        "         [  -2.23      , -350.81897989],\n",
        "         [  -2.16      , -444.16191256]]),\n",
        "  'elevation': 400,\n",
        "  'latitude': 50.351397,\n",
        "  'longitude': 15.915878,\n",
        "  'name': 'OBSJAROMER',\n",
        "  'status': 'testing',\n",
        "  'type': 'receiver'},\n",
        " {'doppler': array([[  -4.12      ,  366.90151453],\n",
        "         [  -4.05      ,  218.48837677],\n",
        "         [  -3.98      ,   70.53504464],\n",
        "         [  -3.91      ,  -77.05190143],\n",
        "         [  -3.84      , -224.36536849],\n",
        "         [  -3.77      , -371.49780762]]),\n",
        "  'elevation': 400,\n",
        "  'latitude': 49.1314,\n",
        "  'longitude': 14.9999,\n",
        "  'name': 'JHRADEC',\n",
        "  'status': 'testing',\n",
        "  'type': 'receiver'},\n",
        " {'doppler': array([[  -4.19      ,  392.88362604],\n",
        "         [  -4.12      ,  266.08202544],\n",
        "         [  -4.05      ,  140.6692118 ],\n",
        "         [  -3.98      ,   16.57879946],\n",
        "         [  -3.91      , -106.25417948],\n",
        "         [  -3.84      , -227.89331162],\n",
        "         [  -3.77      , -348.40083995],\n",
        "         [  -3.7       , -467.83770102]]),\n",
        "  'elevation': 400,\n",
        "  'latitude': 49.463038,\n",
        "  'longitude': 17.973544,\n",
        "  'name': 'VALMEZ',\n",
        "  'status': 'testing',\n",
        "  'type': 'receiver'},\n",
        " {'doppler': array([[  -2.65      ,  415.17682743],\n",
        "         [  -2.58      ,  321.73219338],\n",
        "         [  -2.51      ,  228.38490579],\n",
        "         [  -2.44      ,  135.07808596],\n",
        "         [  -2.37      ,   41.75482616],\n",
        "         [  -2.3       ,  -51.64186713],\n",
        "         [  -2.23      , -145.16913083],\n",
        "         [  -2.16      , -238.88430229],\n",
        "         [  -2.09      , -332.84497708],\n",
        "         [  -2.02      , -427.10906693]]),\n",
        "  'elevation': 400,\n",
        "  'latitude': 50.409407,\n",
        "  'longitude': 15.414812,\n",
        "  'name': 'NACHODSKO',\n",
        "  'status': 'operational',\n",
        "  'type': 'receiver'}]"
       ]
      }
     ],
     "prompt_number": 13
    },
    {
     "cell_type": "code",
     "collapsed": false,
     "input": [
      "def make_meteor():\n",
      "    ## initial meteor trajectory guess \n",
      "    est_start_altitude = np.random.normal(100e3,20e3,1)\n",
      "    est_stop_altitude = np.random.normal(60e3,20e3,1)\n",
      "    \n",
      "    est_start_lat = np.random.normal(49,2,1)  \n",
      "    est_start_lon = np.random.normal(11,2,1)\n",
      "    \n",
      "    est_stop_lat = np.random.normal(49,2,1) \n",
      "    est_stop_lon = np.random.normal(11,2,1)\n",
      "    \n",
      "    est_velocity = np.random.normal(50000,20000,1)\n",
      "\n",
      "    est_start_point = np.array(geoC.GeographicToGeocentric(est_start_lat, est_start_lon, est_start_altitude))\n",
      "    est_stop_point = np.array(geoC.GeographicToGeocentric(est_stop_lat, est_stop_lon, est_stop_altitude))\n",
      "    est_vect = est_start_point - est_stop_point\n",
      "    est_speed_vect = est_vect/np.linalg.norm(est_vect) * est_velocity\n",
      "    est_params = np.concatenate((est_start_point.ravel(), est_speed_vect.ravel()), axis=1)\n",
      "    return est_params\n"
     ],
     "language": "python",
     "metadata": {},
     "outputs": [],
     "prompt_number": 14
    },
    {
     "cell_type": "code",
     "collapsed": false,
     "input": [
      "%matplotlib\n",
      "fig, ax1 = plt.subplots(figsize=(9, 7))\n",
      "ax1.set_title('Errors of estimated trajectory dopplers over all Bolidozor stations data')\n",
      "ax1.set_ylabel('Doppler [Hz]')\n",
      "ax1.set_xlabel('Time [s]')\n",
      "\n",
      "meteor_dopplers = [1,2]\n",
      "\n",
      "met_points = np.empty([timesteps.size, 3])\n",
      "\n",
      "\n",
      "for meteor in range(ZHR):\n",
      "    \n",
      "    # get meteor vector from start and stop point\n",
      "    met_start_point = np.array(geoC.GeographicToGeocentric(met_start_lat[meteor], met_start_lon[meteor], met_start_altitude[meteor]))\n",
      "    met_stop_point = np.array(geoC.GeographicToGeocentric(met_stop_lat[meteor], met_stop_lon[meteor], met_stop_altitude[meteor]))\n",
      "    met_vect = met_start_point - met_stop_point\n",
      "    met_speed_vect = met_vect/np.linalg.norm(met_vect) * met_velocity[meteor]\n",
      "    \n",
      "    for i in range(timesteps.size):  # generate points on meteor trajectory (discretize in space)\n",
      "        met_points[i] =  met_start_point + (met_vect * timesteps[i])\n",
      "    \n",
      "    doppler_deviations = error_func(make_meteor(), timesteps, stations)\n",
      "    \n",
      "    for station in doppler_deviations:\n",
      "        plt.plot(doppler_deviations[station][:] , label=station if meteor == 0 else \"\")\n",
      "    plt.legend(loc=1)"
     ],
     "language": "python",
     "metadata": {},
     "outputs": [
      {
       "output_type": "stream",
       "stream": "stdout",
       "text": [
        "Using matplotlib backend: TkAgg\n"
       ]
      },
      {
       "ename": "ValueError",
       "evalue": "A value in x_new is above the interpolation range.",
       "output_type": "pyerr",
       "traceback": [
        "\u001b[0;31m---------------------------------------------------------------------------\u001b[0m\n\u001b[0;31mValueError\u001b[0m                                Traceback (most recent call last)",
        "\u001b[0;32m<ipython-input-69-afc1588c3377>\u001b[0m in \u001b[0;36m<module>\u001b[0;34m()\u001b[0m\n\u001b[1;32m     21\u001b[0m         \u001b[0mmet_points\u001b[0m\u001b[0;34m[\u001b[0m\u001b[0mi\u001b[0m\u001b[0;34m]\u001b[0m \u001b[0;34m=\u001b[0m  \u001b[0mmet_start_point\u001b[0m \u001b[0;34m+\u001b[0m \u001b[0;34m(\u001b[0m\u001b[0mmet_vect\u001b[0m \u001b[0;34m*\u001b[0m \u001b[0mtimesteps\u001b[0m\u001b[0;34m[\u001b[0m\u001b[0mi\u001b[0m\u001b[0;34m]\u001b[0m\u001b[0;34m)\u001b[0m\u001b[0;34m\u001b[0m\u001b[0m\n\u001b[1;32m     22\u001b[0m \u001b[0;34m\u001b[0m\u001b[0m\n\u001b[0;32m---> 23\u001b[0;31m     \u001b[0mdoppler_deviations\u001b[0m \u001b[0;34m=\u001b[0m \u001b[0merror_func\u001b[0m\u001b[0;34m(\u001b[0m\u001b[0mmake_meteor\u001b[0m\u001b[0;34m(\u001b[0m\u001b[0;34m)\u001b[0m\u001b[0;34m,\u001b[0m \u001b[0mtimesteps\u001b[0m\u001b[0;34m,\u001b[0m \u001b[0mstations\u001b[0m\u001b[0;34m)\u001b[0m\u001b[0;34m\u001b[0m\u001b[0m\n\u001b[0m\u001b[1;32m     24\u001b[0m \u001b[0;34m\u001b[0m\u001b[0m\n\u001b[1;32m     25\u001b[0m     \u001b[0;32mfor\u001b[0m \u001b[0mstation\u001b[0m \u001b[0;32min\u001b[0m \u001b[0mdoppler_deviations\u001b[0m\u001b[0;34m:\u001b[0m\u001b[0;34m\u001b[0m\u001b[0m\n",
        "\u001b[0;32m<ipython-input-43-cd697b5905b7>\u001b[0m in \u001b[0;36merror_func\u001b[0;34m(est_params, timesteps, stations)\u001b[0m\n\u001b[1;32m     21\u001b[0m \u001b[0;34m\u001b[0m\u001b[0m\n\u001b[1;32m     22\u001b[0m         \u001b[0;32mfor\u001b[0m \u001b[0mi\u001b[0m \u001b[0;32min\u001b[0m \u001b[0mrange\u001b[0m\u001b[0;34m(\u001b[0m\u001b[0mstation\u001b[0m\u001b[0;34m[\u001b[0m\u001b[0;34m'doppler'\u001b[0m\u001b[0;34m]\u001b[0m\u001b[0;34m.\u001b[0m\u001b[0mshape\u001b[0m\u001b[0;34m[\u001b[0m\u001b[0;36m0\u001b[0m\u001b[0;34m]\u001b[0m\u001b[0;34m)\u001b[0m\u001b[0;34m:\u001b[0m\u001b[0;34m\u001b[0m\u001b[0m\n\u001b[0;32m---> 23\u001b[0;31m             \u001b[0mdoppler_deviation\u001b[0m\u001b[0;34m[\u001b[0m\u001b[0mi\u001b[0m\u001b[0;34m]\u001b[0m \u001b[0;34m=\u001b[0m \u001b[0mstation\u001b[0m\u001b[0;34m[\u001b[0m\u001b[0;34m'doppler'\u001b[0m\u001b[0;34m]\u001b[0m\u001b[0;34m[\u001b[0m\u001b[0;34m:\u001b[0m\u001b[0;34m,\u001b[0m\u001b[0;36m0\u001b[0m\u001b[0;34m]\u001b[0m\u001b[0;34m[\u001b[0m\u001b[0mi\u001b[0m\u001b[0;34m]\u001b[0m \u001b[0;34m-\u001b[0m \u001b[0mest_doppler_function\u001b[0m\u001b[0;34m(\u001b[0m\u001b[0mstation\u001b[0m\u001b[0;34m[\u001b[0m\u001b[0;34m'doppler'\u001b[0m\u001b[0;34m]\u001b[0m\u001b[0;34m[\u001b[0m\u001b[0;34m:\u001b[0m\u001b[0;34m,\u001b[0m\u001b[0;36m1\u001b[0m\u001b[0;34m]\u001b[0m\u001b[0;34m[\u001b[0m\u001b[0mi\u001b[0m\u001b[0;34m]\u001b[0m\u001b[0;34m)\u001b[0m\u001b[0;34m\u001b[0m\u001b[0m\n\u001b[0m\u001b[1;32m     24\u001b[0m \u001b[0;34m\u001b[0m\u001b[0m\n\u001b[1;32m     25\u001b[0m         \u001b[0mdoppler_deviations\u001b[0m\u001b[0;34m[\u001b[0m\u001b[0mstation\u001b[0m\u001b[0;34m[\u001b[0m\u001b[0;34m'name'\u001b[0m\u001b[0;34m]\u001b[0m\u001b[0;34m]\u001b[0m \u001b[0;34m=\u001b[0m \u001b[0mdoppler_deviation\u001b[0m\u001b[0;34m\u001b[0m\u001b[0m\n",
        "\u001b[0;32m/usr/local/lib/python2.7/dist-packages/scipy/interpolate/polyint.pyc\u001b[0m in \u001b[0;36m__call__\u001b[0;34m(self, x)\u001b[0m\n\u001b[1;32m     77\u001b[0m         \"\"\"\n\u001b[1;32m     78\u001b[0m         \u001b[0mx\u001b[0m\u001b[0;34m,\u001b[0m \u001b[0mx_shape\u001b[0m \u001b[0;34m=\u001b[0m \u001b[0mself\u001b[0m\u001b[0;34m.\u001b[0m\u001b[0m_prepare_x\u001b[0m\u001b[0;34m(\u001b[0m\u001b[0mx\u001b[0m\u001b[0;34m)\u001b[0m\u001b[0;34m\u001b[0m\u001b[0m\n\u001b[0;32m---> 79\u001b[0;31m         \u001b[0my\u001b[0m \u001b[0;34m=\u001b[0m \u001b[0mself\u001b[0m\u001b[0;34m.\u001b[0m\u001b[0m_evaluate\u001b[0m\u001b[0;34m(\u001b[0m\u001b[0mx\u001b[0m\u001b[0;34m)\u001b[0m\u001b[0;34m\u001b[0m\u001b[0m\n\u001b[0m\u001b[1;32m     80\u001b[0m         \u001b[0;32mreturn\u001b[0m \u001b[0mself\u001b[0m\u001b[0;34m.\u001b[0m\u001b[0m_finish_y\u001b[0m\u001b[0;34m(\u001b[0m\u001b[0my\u001b[0m\u001b[0;34m,\u001b[0m \u001b[0mx_shape\u001b[0m\u001b[0;34m)\u001b[0m\u001b[0;34m\u001b[0m\u001b[0m\n\u001b[1;32m     81\u001b[0m \u001b[0;34m\u001b[0m\u001b[0m\n",
        "\u001b[0;32m/usr/local/lib/python2.7/dist-packages/scipy/interpolate/interpolate.pyc\u001b[0m in \u001b[0;36m_evaluate\u001b[0;34m(self, x_new)\u001b[0m\n\u001b[1;32m    495\u001b[0m         \u001b[0;31m#    The behavior is set by the bounds_error variable.\u001b[0m\u001b[0;34m\u001b[0m\u001b[0;34m\u001b[0m\u001b[0m\n\u001b[1;32m    496\u001b[0m         \u001b[0mx_new\u001b[0m \u001b[0;34m=\u001b[0m \u001b[0masarray\u001b[0m\u001b[0;34m(\u001b[0m\u001b[0mx_new\u001b[0m\u001b[0;34m)\u001b[0m\u001b[0;34m\u001b[0m\u001b[0m\n\u001b[0;32m--> 497\u001b[0;31m         \u001b[0mout_of_bounds\u001b[0m \u001b[0;34m=\u001b[0m \u001b[0mself\u001b[0m\u001b[0;34m.\u001b[0m\u001b[0m_check_bounds\u001b[0m\u001b[0;34m(\u001b[0m\u001b[0mx_new\u001b[0m\u001b[0;34m)\u001b[0m\u001b[0;34m\u001b[0m\u001b[0m\n\u001b[0m\u001b[1;32m    498\u001b[0m         \u001b[0my_new\u001b[0m \u001b[0;34m=\u001b[0m \u001b[0mself\u001b[0m\u001b[0;34m.\u001b[0m\u001b[0m_call\u001b[0m\u001b[0;34m(\u001b[0m\u001b[0mself\u001b[0m\u001b[0;34m,\u001b[0m \u001b[0mx_new\u001b[0m\u001b[0;34m)\u001b[0m\u001b[0;34m\u001b[0m\u001b[0m\n\u001b[1;32m    499\u001b[0m         \u001b[0;32mif\u001b[0m \u001b[0mlen\u001b[0m\u001b[0;34m(\u001b[0m\u001b[0my_new\u001b[0m\u001b[0;34m)\u001b[0m \u001b[0;34m>\u001b[0m \u001b[0;36m0\u001b[0m\u001b[0;34m:\u001b[0m\u001b[0;34m\u001b[0m\u001b[0m\n",
        "\u001b[0;32m/usr/local/lib/python2.7/dist-packages/scipy/interpolate/interpolate.pyc\u001b[0m in \u001b[0;36m_check_bounds\u001b[0;34m(self, x_new)\u001b[0m\n\u001b[1;32m    525\u001b[0m                 \"range.\")\n\u001b[1;32m    526\u001b[0m         \u001b[0;32mif\u001b[0m \u001b[0mself\u001b[0m\u001b[0;34m.\u001b[0m\u001b[0mbounds_error\u001b[0m \u001b[0;32mand\u001b[0m \u001b[0mabove_bounds\u001b[0m\u001b[0;34m.\u001b[0m\u001b[0many\u001b[0m\u001b[0;34m(\u001b[0m\u001b[0;34m)\u001b[0m\u001b[0;34m:\u001b[0m\u001b[0;34m\u001b[0m\u001b[0m\n\u001b[0;32m--> 527\u001b[0;31m             raise ValueError(\"A value in x_new is above the interpolation \"\n\u001b[0m\u001b[1;32m    528\u001b[0m                 \"range.\")\n\u001b[1;32m    529\u001b[0m \u001b[0;34m\u001b[0m\u001b[0m\n",
        "\u001b[0;31mValueError\u001b[0m: A value in x_new is above the interpolation range."
       ]
      }
     ],
     "prompt_number": 69
    },
    {
     "cell_type": "code",
     "collapsed": false,
     "input": [
      "doppler_deviations"
     ],
     "language": "python",
     "metadata": {},
     "outputs": [
      {
       "metadata": {},
       "output_type": "pyout",
       "prompt_number": 49,
       "text": [
        "{'BPB': array([ 2.76181269,  2.66502322,  2.56356076,  2.4577936 ,  2.34747149,\n",
        "         2.23298082,  2.11422588]),\n",
        " 'HPHK': array([ 3.22383826,  3.22111978,  3.2169772 ,  3.21136512,  3.20425035,\n",
        "         3.19557634,  3.18528714,  3.17332749,  3.159643  ,  3.14408161]),\n",
        " 'JHRADEC': array([ 3.25012627,  3.26490266,  3.27661621,  3.28478379,  3.28891004,\n",
        "         3.28849242]),\n",
        " 'NACHODSKO': array([ 2.552206  ,  2.55649313,  2.55977661,  2.5620039 ,  2.563122  ,\n",
        "         2.56307752,  2.5618168 ,  2.55928599,  2.55543115,  2.55019833]),\n",
        " 'OBSJAROMER': array([ 3.03714476,  3.03565816,  3.03313361,  3.02952726,  3.02479519,\n",
        "         3.01889353,  3.01177852,  3.00330731,  2.99349621,  2.98233088,\n",
        "         2.96976999]),\n",
        " 'OBSUPICE': array([ 2.89223947,  2.89152508,  2.89000977,  2.8876582 ,  2.88443484,\n",
        "         2.88030411,  2.87523035,  2.86916764,  2.86201514,  2.85380564,\n",
        "         2.84450466,  2.83407798]),\n",
        " 'SVAKOV': array([ 3.44154479,  3.47211594,  3.50144334,  3.52655728,  3.54958438,\n",
        "         3.56978805,  3.58495034]),\n",
        " 'VALMEZ': array([ 4.38635363,  4.31801915,  4.24644391,  4.17160437,  4.09350122,\n",
        "         4.01215991,  3.92763079,  3.839865  ]),\n",
        " 'ZVPP': array([ 2.52739468,  2.55130035,  2.57308934,  2.59195481,  2.60632277,\n",
        "         2.61698569]),\n",
        " 'Zebrak': array([ 1.82114461,  1.84100563,  1.85931296,  1.87585804,  1.89040762,\n",
        "         1.90231221,  1.91189107,  1.91890863]),\n",
        " 'uFlu': array([ 2.17592697,  2.18893688,  2.20051611,  2.21054348,  2.218895  ,\n",
        "         2.22544413,  2.23006222,  2.23261884,  2.2329822 ])}"
       ]
      }
     ],
     "prompt_number": 49
    },
    {
     "cell_type": "code",
     "collapsed": false,
     "input": [
      "station['doppler'][:,1][i]"
     ],
     "language": "python",
     "metadata": {},
     "outputs": [
      {
       "metadata": {},
       "output_type": "pyout",
       "prompt_number": 32,
       "text": [
        "-427.10906693339348"
       ]
      }
     ],
     "prompt_number": 32
    },
    {
     "cell_type": "code",
     "collapsed": false,
     "input": [
      "est_doppler_function(-427.10906693339348)"
     ],
     "language": "python",
     "metadata": {},
     "outputs": [
      {
       "metadata": {},
       "output_type": "pyout",
       "prompt_number": 34,
       "text": [
        "array(-3.2981291516452442)"
       ]
      }
     ],
     "prompt_number": 34
    },
    {
     "cell_type": "code",
     "collapsed": false,
     "input": [
      "def total_error(met_params, timesteps, stations):\n",
      "    \"\"\"\n",
      "    Calculate total error value of estimated meteor params to every station signal. \n",
      "    \"\"\"    \n",
      "    doppler_errors = error_func(met_params, timesteps, stations)\n",
      "    total_deviation = 0\n",
      "#    for station in doppler_errors:\n",
      "#        total_deviation += np.sum(doppler_errors[station][:,1])\n",
      "    total_deviation += np.sum(doppler_errors[\"BPB\"][:,1])\n",
      "    return total_deviation"
     ],
     "language": "python",
     "metadata": {},
     "outputs": [],
     "prompt_number": 42
    },
    {
     "cell_type": "code",
     "collapsed": false,
     "input": [
      "def find_trajectory(timesteps,stations_data):\n",
      "    ## initial meteor trajectory guess \n",
      "\n",
      "    est_params = make_meteor()\n",
      "    res = minimize(total_error, est_params, args = (timesteps, stations_data,), method ='BFGS' , tol = 100.0,options = {'disp': True})\n",
      "    return res"
     ],
     "language": "python",
     "metadata": {},
     "outputs": [],
     "prompt_number": 43
    },
    {
     "cell_type": "code",
     "collapsed": false,
     "input": [
      "res = find_trajectory(timesteps, stations)"
     ],
     "language": "python",
     "metadata": {},
     "outputs": [
      {
       "output_type": "stream",
       "stream": "stdout",
       "text": [
        "Warning: Desired error not necessarily achieved due to precision loss.\n",
        "         Current function value: 109829269.190159\n",
        "         Iterations: 22\n",
        "         Function evaluations: 476\n",
        "         Gradient evaluations: 58\n"
       ]
      }
     ],
     "prompt_number": 45
    },
    {
     "cell_type": "code",
     "collapsed": false,
     "input": [
      "est_params = np.array(hof[0])"
     ],
     "language": "python",
     "metadata": {},
     "outputs": [],
     "prompt_number": 46
    },
    {
     "cell_type": "code",
     "collapsed": false,
     "input": [
      "est_start_point = est_params[0:3]\n",
      "est_vect = est_params[3:6]\n",
      "est_points = np.empty([timesteps.size, 3])\n",
      "\n",
      "for i in range(timesteps.size):  # generate points on meteor trajectory (discretize in space)\n",
      "    est_points[i] =  est_start_point + (est_vect * timesteps[i])"
     ],
     "language": "python",
     "metadata": {},
     "outputs": [],
     "prompt_number": 293
    },
    {
     "cell_type": "code",
     "collapsed": false,
     "input": [
      "%matplotlib\n",
      "fig = plt.figure()\n",
      "ax = plt.axes(projection='3d')\n",
      "ax.set_title('Meteor Trajectories')\n",
      "ax.set_ylabel('Position [m]')\n",
      "ax.set_xlabel('Position [m]')\n",
      "ax.set_zlabel('Position [m]')\n",
      "ax.scatter(met_points[:,0], met_points[:,1], met_points[:,2], color = 'b', label= \"Real\")\n",
      "ax.scatter(est_points[:,0], est_points[:,1], est_points[:,2], color = 'r', label= \"Estimated\")\n"
     ],
     "language": "python",
     "metadata": {},
     "outputs": [
      {
       "output_type": "stream",
       "stream": "stdout",
       "text": [
        "Using matplotlib backend: TkAgg\n"
       ]
      },
      {
       "metadata": {},
       "output_type": "pyout",
       "prompt_number": 294,
       "text": [
        "<mpl_toolkits.mplot3d.art3d.Path3DCollection at 0x7fabfb5a1d90>"
       ]
      }
     ],
     "prompt_number": 294
    },
    {
     "cell_type": "code",
     "collapsed": false,
     "input": [
      "%matplotlib\n",
      "fig, ax1 = plt.subplots(figsize=(9, 7))\n",
      "ax1.set_title('Dopplers of estimated  meteor trajectory')\n",
      "ax1.set_ylabel('Doppler [Hz]')\n",
      "ax1.set_xlabel('Time [s]')\n",
      "\n",
      "    \n",
      "for station in stations:\n",
      "    rec_station_point = np.array(geoC.GeographicToGeocentric(station['latitude'], station['longitude'], station['elevation']))\n",
      "\n",
      "    #doppler_met = estimate_dopplers(met_points, f0, trans_station_point, rec_station_point)\n",
      "    doppler_est = estimate_dopplers(est_points, timesteps, f0, trans_station_point, rec_station_point)\n",
      "\n",
      "#    plt.plot(station['doppler'][:,0], station['doppler'][:,1], label=station['name'] if meteor == 0 else \"\", color = 'b')\n",
      "    plt.plot(station['doppler'][:,0], station['doppler'][:,1], label=station['name'] if meteor == 0 else \"\")\n",
      "    plt.plot(doppler_est[1:,0], doppler_est[1:,1], color = 'r')\n",
      "    \n",
      "plt.legend(loc=1)"
     ],
     "language": "python",
     "metadata": {},
     "outputs": [
      {
       "output_type": "stream",
       "stream": "stdout",
       "text": [
        "Using matplotlib backend: TkAgg\n"
       ]
      },
      {
       "metadata": {},
       "output_type": "pyout",
       "prompt_number": 295,
       "text": [
        "<matplotlib.legend.Legend at 0x7fac02ef15d0>"
       ]
      }
     ],
     "prompt_number": 295
    },
    {
     "cell_type": "code",
     "collapsed": false,
     "input": [
      "data_file = np.load(\"station_data.npz\")\n",
      "timesteps = data_file['timesteps']\n",
      "stations = data_file['stations']"
     ],
     "language": "python",
     "metadata": {},
     "outputs": [],
     "prompt_number": 187
    },
    {
     "cell_type": "code",
     "collapsed": false,
     "input": [],
     "language": "python",
     "metadata": {},
     "outputs": [],
     "prompt_number": 194
    },
    {
     "cell_type": "code",
     "collapsed": false,
     "input": [],
     "language": "python",
     "metadata": {},
     "outputs": [],
     "prompt_number": 194
    },
    {
     "cell_type": "code",
     "collapsed": false,
     "input": [],
     "language": "python",
     "metadata": {},
     "outputs": [],
     "prompt_number": 195
    },
    {
     "cell_type": "code",
     "collapsed": false,
     "input": [
      "print hof"
     ],
     "language": "python",
     "metadata": {},
     "outputs": [
      {
       "output_type": "stream",
       "stream": "stdout",
       "text": [
        "[array('d', [4242178.838858588, 877133.9277853557, 4739756.869906342, 39681.670874463365, 25625.12571113396, -36807.68411802771])]\n"
       ]
      }
     ],
     "prompt_number": 89
    },
    {
     "cell_type": "code",
     "collapsed": false,
     "input": [
      "print hof"
     ],
     "language": "python",
     "metadata": {},
     "outputs": [
      {
       "output_type": "stream",
       "stream": "stdout",
       "text": [
        "[array('d', [3953586.958058075, 988944.7005357716, 5010073.095748296, -45095.19931529084, 22091.309637106715, 62240.493103505054])]\n"
       ]
      }
     ],
     "prompt_number": 68
    },
    {
     "cell_type": "code",
     "collapsed": false,
     "input": [
      "est_params = np.array(hof[0])"
     ],
     "language": "python",
     "metadata": {},
     "outputs": [],
     "prompt_number": 90
    },
    {
     "cell_type": "code",
     "collapsed": false,
     "input": [
      "est_params"
     ],
     "language": "python",
     "metadata": {},
     "outputs": [
      {
       "metadata": {},
       "output_type": "pyout",
       "prompt_number": 91,
       "text": [
        "array([ 4242178.83885859,   877133.92778536,  4739756.86990634,\n",
        "          39681.67087446,    25625.12571113,   -36807.68411803])"
       ]
      }
     ],
     "prompt_number": 91
    },
    {
     "cell_type": "code",
     "collapsed": false,
     "input": [
      "est_params = array('d', [4054680.0680794725, 1080843.3217390168, 4911049.2573404275, -4949.93417629765, 41461.15462661179, -6000.00731814691])"
     ],
     "language": "python",
     "metadata": {},
     "outputs": [
      {
       "ename": "TypeError",
       "evalue": "'module' object is not callable",
       "output_type": "pyerr",
       "traceback": [
        "\u001b[0;31m---------------------------------------------------------------------------\u001b[0m\n\u001b[0;31mTypeError\u001b[0m                                 Traceback (most recent call last)",
        "\u001b[0;32m<ipython-input-92-de521def3302>\u001b[0m in \u001b[0;36m<module>\u001b[0;34m()\u001b[0m\n\u001b[0;32m----> 1\u001b[0;31m \u001b[0marray\u001b[0m\u001b[0;34m(\u001b[0m\u001b[0;34m'd'\u001b[0m\u001b[0;34m,\u001b[0m \u001b[0;34m[\u001b[0m\u001b[0;36m4054680.0680794725\u001b[0m\u001b[0;34m,\u001b[0m \u001b[0;36m1080843.3217390168\u001b[0m\u001b[0;34m,\u001b[0m \u001b[0;36m4911049.2573404275\u001b[0m\u001b[0;34m,\u001b[0m \u001b[0;34m-\u001b[0m\u001b[0;36m4949.93417629765\u001b[0m\u001b[0;34m,\u001b[0m \u001b[0;36m41461.15462661179\u001b[0m\u001b[0;34m,\u001b[0m \u001b[0;34m-\u001b[0m\u001b[0;36m6000.00731814691\u001b[0m\u001b[0;34m]\u001b[0m\u001b[0;34m)\u001b[0m\u001b[0;34m\u001b[0m\u001b[0m\n\u001b[0m",
        "\u001b[0;31mTypeError\u001b[0m: 'module' object is not callable"
       ]
      }
     ],
     "prompt_number": 92
    },
    {
     "cell_type": "code",
     "collapsed": false,
     "input": [
      "total_error(est_params, timesteps, stations)"
     ],
     "language": "python",
     "metadata": {},
     "outputs": [
      {
       "metadata": {},
       "output_type": "pyout",
       "prompt_number": 292,
       "text": [
        "13538365429.202583"
       ]
      }
     ],
     "prompt_number": 292
    },
    {
     "cell_type": "code",
     "collapsed": false,
     "input": [
      "station_errors(est_params, timesteps, stations)"
     ],
     "language": "python",
     "metadata": {},
     "outputs": [
      {
       "metadata": {},
       "output_type": "pyout",
       "prompt_number": 232,
       "text": [
        "[4929933542.2555342,\n",
        " 7049037421.9238224,\n",
        " 2983408786.1519389,\n",
        " 4632455443.8347025,\n",
        " 4928913631.5047913,\n",
        " 5143245644.6735773,\n",
        " 3363193586.4283075,\n",
        " 3480688275.7911773,\n",
        " 4056209148.2918882,\n",
        " 3126667981.5152659,\n",
        " 5100017167.7549553]"
       ]
      }
     ],
     "prompt_number": 232
    },
    {
     "cell_type": "code",
     "collapsed": false,
     "input": [
      "est_params = np.load(\"estimated_parameters.npy\")"
     ],
     "language": "python",
     "metadata": {},
     "outputs": [],
     "prompt_number": 38
    },
    {
     "cell_type": "code",
     "collapsed": false,
     "input": [
      "error_func(est_params, timesteps, stations)[\"BPB\"]"
     ],
     "language": "python",
     "metadata": {},
     "outputs": [
      {
       "metadata": {},
       "output_type": "pyout",
       "prompt_number": 41,
       "text": [
        "array([[ -9.93000000e+00,   5.70221187e+08],\n",
        "       [ -9.86000000e+00,   5.66314482e+08],\n",
        "       [ -9.79000000e+00,   5.62271459e+08],\n",
        "       [ -9.72000000e+00,   5.58090835e+08],\n",
        "       [ -9.65000000e+00,   5.53771413e+08],\n",
        "       [ -9.58000000e+00,   5.49312087e+08],\n",
        "       [ -9.51000000e+00,   5.44711848e+08],\n",
        "       [ -9.44000000e+00,   5.39969790e+08],\n",
        "       [ -9.37000000e+00,   5.35085117e+08],\n",
        "       [ -9.30000000e+00,   5.30057149e+08],\n",
        "       [ -9.23000000e+00,   5.24885328e+08],\n",
        "       [ -9.16000000e+00,   5.19569227e+08],\n",
        "       [ -9.09000000e+00,   5.14108553e+08],\n",
        "       [ -9.02000000e+00,   5.08503157e+08],\n",
        "       [ -8.95000000e+00,   5.02753041e+08],\n",
        "       [ -8.88000000e+00,   4.96858364e+08],\n",
        "       [ -8.81000000e+00,   4.90819450e+08],\n",
        "       [ -8.74000000e+00,   4.84636796e+08],\n",
        "       [ -8.67000000e+00,   4.78311078e+08],\n",
        "       [ -8.60000000e+00,   4.71843161e+08],\n",
        "       [ -8.53000000e+00,   4.65234103e+08],\n",
        "       [ -8.46000000e+00,   4.58485168e+08],\n",
        "       [ -8.39000000e+00,   4.51597828e+08],\n",
        "       [ -8.32000000e+00,   4.44573774e+08],\n",
        "       [ -8.25000000e+00,   4.37414924e+08],\n",
        "       [ -8.18000000e+00,   4.30123430e+08],\n",
        "       [ -8.11000000e+00,   4.22701683e+08],\n",
        "       [ -8.04000000e+00,   4.15152326e+08],\n",
        "       [ -7.97000000e+00,   4.07478256e+08],\n",
        "       [ -7.90000000e+00,   3.99682634e+08],\n",
        "       [ -7.83000000e+00,   3.91768894e+08],\n",
        "       [ -7.76000000e+00,   3.83740746e+08],\n",
        "       [ -7.69000000e+00,   3.75602182e+08],\n",
        "       [ -7.62000000e+00,   3.67357490e+08],\n",
        "       [ -7.55000000e+00,   3.59011251e+08],\n",
        "       [ -7.48000000e+00,   3.50568350e+08],\n",
        "       [ -7.41000000e+00,   3.42033982e+08],\n",
        "       [ -7.34000000e+00,   3.33413652e+08],\n",
        "       [ -7.27000000e+00,   3.24713185e+08],\n",
        "       [ -7.20000000e+00,   3.15938729e+08],\n",
        "       [ -7.13000000e+00,   3.07096756e+08],\n",
        "       [ -7.06000000e+00,   2.98194068e+08],\n",
        "       [ -6.99000000e+00,   2.89237797e+08],\n",
        "       [ -6.92000000e+00,   2.80235408e+08],\n",
        "       [ -6.85000000e+00,   2.71194701e+08],\n",
        "       [ -6.78000000e+00,   2.62123809e+08],\n",
        "       [ -6.71000000e+00,   2.53031198e+08],\n",
        "       [ -6.64000000e+00,   2.43925667e+08],\n",
        "       [ -6.57000000e+00,   2.34816345e+08],\n",
        "       [ -6.50000000e+00,   2.25712687e+08],\n",
        "       [ -6.43000000e+00,   2.16624468e+08],\n",
        "       [ -6.36000000e+00,   2.07561783e+08],\n",
        "       [ -6.29000000e+00,   1.98535033e+08],\n",
        "       [ -6.22000000e+00,   1.89554925e+08],\n",
        "       [ -6.15000000e+00,   1.80632455e+08],\n",
        "       [ -6.08000000e+00,   1.71778905e+08],\n",
        "       [ -6.01000000e+00,   1.63005828e+08],\n",
        "       [ -5.94000000e+00,   1.54325034e+08],\n",
        "       [ -5.87000000e+00,   1.45748578e+08],\n",
        "       [ -5.80000000e+00,   1.37288743e+08],\n",
        "       [ -5.73000000e+00,   1.28958023e+08],\n",
        "       [ -5.66000000e+00,   1.20769105e+08],\n",
        "       [ -5.59000000e+00,   1.12734847e+08],\n",
        "       [ -5.52000000e+00,   1.04868260e+08],\n",
        "       [ -5.45000000e+00,   9.71824789e+07],\n",
        "       [ -5.38000000e+00,   8.96907440e+07],\n",
        "       [ -5.31000000e+00,   8.24063705e+07],\n",
        "       [ -5.24000000e+00,   7.53427225e+07],\n",
        "       [ -5.17000000e+00,   6.85131835e+07],\n",
        "       [ -5.10000000e+00,   6.19311257e+07],\n",
        "       [ -5.03000000e+00,   5.56098780e+07],\n",
        "       [ -4.96000000e+00,   4.95626929e+07],\n",
        "       [ -4.89000000e+00,   4.38027119e+07],\n",
        "       [ -4.82000000e+00,   3.83429295e+07],\n",
        "       [ -4.75000000e+00,   3.31961573e+07],\n",
        "       [ -4.68000000e+00,   2.83749856e+07],\n",
        "       [ -4.61000000e+00,   2.38917453e+07],\n",
        "       [ -4.54000000e+00,   1.97584690e+07],\n",
        "       [ -4.47000000e+00,   1.59868513e+07],\n",
        "       [ -4.40000000e+00,   1.25882088e+07],\n",
        "       [ -4.33000000e+00,   9.57344034e+06],\n",
        "       [ -4.26000000e+00,   6.95298673e+06],\n",
        "       [ -4.19000000e+00,   4.73679122e+06],\n",
        "       [ -4.12000000e+00,   2.93426019e+06],\n",
        "       [ -4.05000000e+00,   1.55422451e+06],\n",
        "       [ -3.98000000e+00,   6.04901895e+05],\n",
        "       [ -3.91000000e+00,   9.38604023e+04],\n",
        "       [ -3.84000000e+00,   2.79832499e+04],\n",
        "       [ -3.77000000e+00,   4.13435318e+05],\n",
        "       [ -3.70000000e+00,   1.25563149e+06],\n",
        "       [ -3.63000000e+00,   2.55920707e+06],\n",
        "       [ -3.56000000e+00,   4.32799057e+06],\n",
        "       [ -3.49000000e+00,   6.56497900e+06],\n",
        "       [ -3.42000000e+00,   9.27231593e+06],\n",
        "       [ -3.35000000e+00,   1.24512725e+07],\n",
        "       [ -3.28000000e+00,   1.61022315e+07],\n",
        "       [ -3.21000000e+00,   2.02246750e+07],\n",
        "       [ -3.14000000e+00,   2.48171750e+07],\n",
        "       [ -3.07000000e+00,   2.98773879e+07],\n",
        "       [ -3.00000000e+00,   3.54020528e+07],\n",
        "       [ -2.93000000e+00,   4.13869930e+07],\n",
        "       [ -2.86000000e+00,   4.78271219e+07],\n",
        "       [ -2.79000000e+00,   5.47164519e+07],\n",
        "       [ -2.72000000e+00,   6.20481083e+07],\n",
        "       [ -2.65000000e+00,   6.98143452e+07],\n",
        "       [ -2.58000000e+00,   7.80065667e+07],\n",
        "       [ -2.51000000e+00,   8.66153509e+07],\n",
        "       [ -2.44000000e+00,   9.56304769e+07],\n",
        "       [ -2.37000000e+00,   1.05040956e+08],\n",
        "       [ -2.30000000e+00,   1.14835066e+08],\n",
        "       [ -2.23000000e+00,   1.25000386e+08],\n",
        "       [ -2.16000000e+00,   1.35523838e+08],\n",
        "       [ -2.09000000e+00,   1.46391728e+08],\n",
        "       [ -2.02000000e+00,   1.57589789e+08],\n",
        "       [ -1.95000000e+00,   1.69103228e+08],\n",
        "       [ -1.88000000e+00,   1.80916773e+08],\n",
        "       [ -1.81000000e+00,   1.93014721e+08],\n",
        "       [ -1.74000000e+00,   2.05380989e+08],\n",
        "       [ -1.67000000e+00,   2.17999163e+08],\n",
        "       [ -1.60000000e+00,   2.30852550e+08],\n",
        "       [ -1.53000000e+00,   2.43924228e+08],\n",
        "       [ -1.46000000e+00,   2.57197098e+08],\n",
        "       [ -1.39000000e+00,   2.70653934e+08],\n",
        "       [ -1.32000000e+00,   2.84277429e+08],\n",
        "       [ -1.25000000e+00,   2.98050251e+08],\n",
        "       [ -1.18000000e+00,   3.11955083e+08],\n",
        "       [ -1.11000000e+00,   3.25974674e+08],\n",
        "       [ -1.04000000e+00,   3.40091880e+08],\n",
        "       [ -9.70000000e-01,   3.54289709e+08],\n",
        "       [ -9.00000000e-01,   3.68551362e+08],\n",
        "       [ -8.30000000e-01,   3.82860270e+08],\n",
        "       [ -7.60000000e-01,   3.97200128e+08],\n",
        "       [ -6.90000000e-01,   4.11554937e+08],\n",
        "       [ -6.20000000e-01,   4.25909027e+08],\n",
        "       [ -5.50000000e-01,   4.40247090e+08],\n",
        "       [ -4.80000000e-01,   4.54554209e+08],\n",
        "       [ -4.10000000e-01,   4.68815879e+08],\n",
        "       [ -3.40000000e-01,   4.83018029e+08],\n",
        "       [ -2.70000000e-01,   4.97147044e+08],\n",
        "       [ -2.00000000e-01,   5.11189780e+08],\n",
        "       [ -1.30000000e-01,   5.25133578e+08],\n",
        "       [ -6.00000000e-02,   5.38966278e+08],\n",
        "       [  1.00000000e-02,   5.52676229e+08],\n",
        "       [  8.00000000e-02,   5.66252294e+08],\n",
        "       [  1.50000000e-01,   5.79683859e+08],\n",
        "       [  2.20000000e-01,   5.92960837e+08],\n",
        "       [  2.90000000e-01,   6.06073665e+08],\n",
        "       [  3.60000000e-01,   6.19013311e+08],\n",
        "       [  4.30000000e-01,   6.31771267e+08],\n",
        "       [  5.00000000e-01,   6.44339548e+08],\n",
        "       [  5.70000000e-01,   6.56710687e+08],\n",
        "       [  6.40000000e-01,   6.68877729e+08],\n",
        "       [  7.10000000e-01,   6.80834225e+08],\n",
        "       [  7.80000000e-01,   6.92574220e+08],\n",
        "       [  8.50000000e-01,   7.04092249e+08],\n",
        "       [  9.20000000e-01,   7.15383323e+08],\n",
        "       [  9.90000000e-01,   7.26442916e+08],\n",
        "       [  1.06000000e+00,   7.37266961e+08],\n",
        "       [  1.13000000e+00,   7.47851830e+08],\n",
        "       [  1.20000000e+00,   7.58194322e+08],\n",
        "       [  1.27000000e+00,   7.68291653e+08],\n",
        "       [  1.34000000e+00,   7.78141443e+08],\n",
        "       [  1.41000000e+00,   7.87741695e+08],\n",
        "       [  1.48000000e+00,   7.97090789e+08],\n",
        "       [  1.55000000e+00,   8.06187462e+08],\n",
        "       [  1.62000000e+00,   8.15030796e+08],\n",
        "       [  1.69000000e+00,   8.23620203e+08],\n",
        "       [  1.76000000e+00,   8.31955412e+08],\n",
        "       [  1.83000000e+00,   8.40036452e+08],\n",
        "       [  1.90000000e+00,   8.47863638e+08],\n",
        "       [  1.97000000e+00,   8.55437560e+08],\n",
        "       [  2.04000000e+00,   8.62759066e+08],\n",
        "       [  2.11000000e+00,   8.69829250e+08],\n",
        "       [  2.18000000e+00,   8.76649438e+08],\n",
        "       [  2.25000000e+00,   8.83221173e+08],\n",
        "       [  2.32000000e+00,   8.89546205e+08],\n",
        "       [  2.39000000e+00,   8.95626480e+08],\n",
        "       [  2.46000000e+00,   9.01464122e+08],\n",
        "       [  2.53000000e+00,   9.07061424e+08],\n",
        "       [  2.60000000e+00,   9.12420841e+08],\n",
        "       [  2.67000000e+00,   9.17544970e+08],\n",
        "       [  2.74000000e+00,   9.22436547e+08],\n",
        "       [  2.81000000e+00,   9.27098432e+08],\n",
        "       [  2.88000000e+00,   9.31533603e+08],\n",
        "       [  2.95000000e+00,   9.35745140e+08],\n",
        "       [  3.02000000e+00,   9.39736224e+08],\n",
        "       [  3.09000000e+00,   9.43510120e+08],\n",
        "       [  3.16000000e+00,   9.47070174e+08],\n",
        "       [  3.23000000e+00,   9.50419803e+08],\n",
        "       [  3.30000000e+00,   9.53562487e+08],\n",
        "       [  3.37000000e+00,   9.56501762e+08],\n",
        "       [  3.44000000e+00,   9.59241210e+08],\n",
        "       [  3.51000000e+00,   9.61784459e+08],\n",
        "       [  3.58000000e+00,   9.64135169e+08],\n",
        "       [  3.65000000e+00,   9.66297030e+08],\n",
        "       [  3.72000000e+00,   9.68273756e+08],\n",
        "       [  3.79000000e+00,   9.70069078e+08],\n",
        "       [  3.86000000e+00,   9.71686739e+08],\n",
        "       [  3.93000000e+00,   9.73130491e+08],\n",
        "       [  4.00000000e+00,   9.74404088e+08],\n",
        "       [  4.07000000e+00,   9.75511281e+08],\n",
        "       [  4.14000000e+00,   9.76455818e+08],\n",
        "       [  4.21000000e+00,   9.77241435e+08],\n",
        "       [  4.28000000e+00,   9.77871856e+08],\n",
        "       [  4.35000000e+00,   9.78350788e+08],\n",
        "       [  4.42000000e+00,   9.78681918e+08],\n",
        "       [  4.49000000e+00,   9.78868908e+08],\n",
        "       [  4.56000000e+00,   9.78915398e+08],\n",
        "       [  4.63000000e+00,   9.78824997e+08],\n",
        "       [  4.70000000e+00,   9.78601282e+08],\n",
        "       [  4.77000000e+00,   9.78247800e+08],\n",
        "       [  4.84000000e+00,   9.77768061e+08],\n",
        "       [  4.91000000e+00,   9.77165537e+08],\n",
        "       [  4.98000000e+00,   9.76443662e+08],\n",
        "       [  5.05000000e+00,   9.75605831e+08],\n",
        "       [  5.12000000e+00,   9.74655394e+08],\n",
        "       [  5.19000000e+00,   9.73595660e+08],\n",
        "       [  5.26000000e+00,   9.72429892e+08],\n",
        "       [  5.33000000e+00,   9.71161308e+08],\n",
        "       [  5.40000000e+00,   9.69793079e+08],\n",
        "       [  5.47000000e+00,   9.68328329e+08],\n",
        "       [  5.54000000e+00,   9.66770135e+08],\n",
        "       [  5.61000000e+00,   9.65121521e+08],\n",
        "       [  5.68000000e+00,   9.63385466e+08],\n",
        "       [  5.75000000e+00,   9.61564897e+08],\n",
        "       [  5.82000000e+00,   9.59662690e+08],\n",
        "       [  5.89000000e+00,   9.57681671e+08],\n",
        "       [  5.96000000e+00,   9.55624616e+08],\n",
        "       [  6.03000000e+00,   9.53494248e+08],\n",
        "       [  6.10000000e+00,   9.51293241e+08],\n",
        "       [  6.17000000e+00,   9.49024216e+08],\n",
        "       [  6.24000000e+00,   9.46689743e+08],\n",
        "       [  6.31000000e+00,   9.44292341e+08],\n",
        "       [  6.38000000e+00,   9.41834480e+08],\n",
        "       [  6.45000000e+00,   9.39318575e+08],\n",
        "       [  6.52000000e+00,   9.36746993e+08],\n",
        "       [  6.59000000e+00,   9.34122051e+08],\n",
        "       [  6.66000000e+00,   9.31446014e+08],\n",
        "       [  6.73000000e+00,   9.28721099e+08],\n",
        "       [  6.80000000e+00,   9.25949473e+08],\n",
        "       [  6.87000000e+00,   9.23133253e+08],\n",
        "       [  6.94000000e+00,   9.20274509e+08],\n",
        "       [  7.01000000e+00,   9.17375262e+08],\n",
        "       [  7.08000000e+00,   9.14437485e+08],\n",
        "       [  7.15000000e+00,   9.11463104e+08],\n",
        "       [  7.22000000e+00,   9.08454000e+08],\n",
        "       [  7.29000000e+00,   9.05412005e+08],\n",
        "       [  7.36000000e+00,   9.02338908e+08],\n",
        "       [  7.43000000e+00,   8.99236453e+08],\n",
        "       [  7.50000000e+00,   8.96106337e+08],\n",
        "       [  7.57000000e+00,   8.92950217e+08],\n",
        "       [  7.64000000e+00,   8.89769704e+08],\n",
        "       [  7.71000000e+00,   8.86566367e+08],\n",
        "       [  7.78000000e+00,   8.83341735e+08],\n",
        "       [  7.85000000e+00,   8.80097293e+08],\n",
        "       [  7.92000000e+00,   8.76834488e+08],\n",
        "       [  7.99000000e+00,   8.73554726e+08],\n",
        "       [  8.06000000e+00,   8.70259373e+08],\n",
        "       [  8.13000000e+00,   8.66949758e+08],\n",
        "       [  8.20000000e+00,   8.63627171e+08],\n",
        "       [  8.27000000e+00,   8.60292864e+08],\n",
        "       [  8.34000000e+00,   8.56948056e+08],\n",
        "       [  8.41000000e+00,   8.53593925e+08],\n",
        "       [  8.48000000e+00,   8.50231619e+08],\n",
        "       [  8.55000000e+00,   8.46862246e+08],\n",
        "       [  8.62000000e+00,   8.43486885e+08],\n",
        "       [  8.69000000e+00,   8.40106579e+08],\n",
        "       [  8.76000000e+00,   8.36722340e+08],\n",
        "       [  8.83000000e+00,   8.33335146e+08],\n",
        "       [  8.90000000e+00,   8.29945946e+08],\n",
        "       [  8.97000000e+00,   8.26555657e+08],\n",
        "       [  9.04000000e+00,   8.23165166e+08],\n",
        "       [  9.11000000e+00,   8.19775333e+08],\n",
        "       [  9.18000000e+00,   8.16386985e+08],\n",
        "       [  9.25000000e+00,   8.13000926e+08],\n",
        "       [  9.32000000e+00,   8.09617928e+08],\n",
        "       [  9.39000000e+00,   8.06238740e+08],\n",
        "       [  9.46000000e+00,   8.02864081e+08],\n",
        "       [  9.53000000e+00,   7.99494648e+08],\n",
        "       [  9.60000000e+00,   7.96131111e+08],\n",
        "       [  9.67000000e+00,   7.92774116e+08],\n",
        "       [  9.74000000e+00,   7.89424285e+08],\n",
        "       [  9.81000000e+00,   7.86082217e+08],\n",
        "       [  9.88000000e+00,   7.82748488e+08],\n",
        "       [  9.95000000e+00,   7.79423653e+08]])"
       ]
      }
     ],
     "prompt_number": 41
    },
    {
     "cell_type": "code",
     "collapsed": false,
     "input": [],
     "language": "python",
     "metadata": {},
     "outputs": []
    }
   ],
   "metadata": {}
  }
 ]
}