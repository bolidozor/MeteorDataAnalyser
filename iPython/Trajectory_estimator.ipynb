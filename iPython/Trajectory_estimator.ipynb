{
 "metadata": {
  "name": "",
  "signature": "sha256:5227a7883af669f76cd4abfed4675ca267bfbc4adc0489177e9d4c6680c1f792"
 },
 "nbformat": 3,
 "nbformat_minor": 0,
 "worksheets": [
  {
   "cells": [
    {
     "cell_type": "markdown",
     "metadata": {},
     "source": [
      "Calculation of meteor trajectory from head-echo dopplers\n",
      "=======\n",
      "\n",
      "Theory is adopted from Christian Steyaert et. al. 2010\n"
     ]
    },
    {
     "cell_type": "code",
     "collapsed": false,
     "input": [
      "TMx = (x_M \u2212 x T )\n",
      "TMy = (y M \u2212 y T )\n",
      "TMz = (z M \u2212 z T )"
     ],
     "language": "python",
     "metadata": {},
     "outputs": [
      {
       "ename": "SyntaxError",
       "evalue": "invalid syntax (<ipython-input-1-98dca8f4f72e>, line 1)",
       "output_type": "pyerr",
       "traceback": [
        "\u001b[0;36m  File \u001b[0;32m\"<ipython-input-1-98dca8f4f72e>\"\u001b[0;36m, line \u001b[0;32m1\u001b[0m\n\u001b[0;31m    TMx = (x_M \u2212 x T )\u001b[0m\n\u001b[0m               ^\u001b[0m\n\u001b[0;31mSyntaxError\u001b[0m\u001b[0;31m:\u001b[0m invalid syntax\n"
       ]
      }
     ],
     "prompt_number": 1
    },
    {
     "cell_type": "code",
     "collapsed": false,
     "input": [
      "import pylab\n",
      "f = pylab.figure()"
     ],
     "language": "python",
     "metadata": {},
     "outputs": [],
     "prompt_number": 2
    },
    {
     "cell_type": "code",
     "collapsed": false,
     "input": [
      "pylab.plot([1,2,3], [1,2,4], 'go-', label='line 1', linewidth=2)\n",
      "pylab.plot([1,2,3], [1,2,2], 'bo-', label='line 1', linewidth=2)"
     ],
     "language": "python",
     "metadata": {},
     "outputs": [
      {
       "metadata": {},
       "output_type": "pyout",
       "prompt_number": 3,
       "text": [
        "[<matplotlib.lines.Line2D at 0x7fa190159790>]"
       ]
      }
     ],
     "prompt_number": 3
    },
    {
     "cell_type": "code",
     "collapsed": false,
     "input": [
      "pylab.show()"
     ],
     "language": "python",
     "metadata": {},
     "outputs": [],
     "prompt_number": 4
    },
    {
     "cell_type": "markdown",
     "metadata": {},
     "source": [
      "Head Echo doppler function \n",
      "======="
     ]
    },
    {
     "cell_type": "markdown",
     "metadata": {},
     "source": [
      "The equation is  obtained from publication at http://adsabs.harvard.edu/abs/1998JIMO...26..117R (1998)"
     ]
    },
    {
     "cell_type": "code",
     "collapsed": false,
     "input": [
      "from sympy import symbols, sign, sqrt\n",
      "from sympy.plotting import plot\n",
      "t, f0, c, vm, r0 = symbols('t f_0 c v_m r_0')"
     ],
     "language": "python",
     "metadata": {},
     "outputs": [],
     "prompt_number": 1
    },
    {
     "cell_type": "code",
     "collapsed": false,
     "input": [
      "delta_f = - sign(t) * sqrt(((2*f0)/c)**2 * (vm**2)/(r0**2/(vm**2 * t**2) + 1) )"
     ],
     "language": "python",
     "metadata": {},
     "outputs": [],
     "prompt_number": 2
    },
    {
     "cell_type": "code",
     "collapsed": false,
     "input": [
      "delta_f.subs([(f0,55.260e6),(c,3e8),(vm,40e3),(r0,300e3), (t,1)])"
     ],
     "language": "python",
     "metadata": {},
     "outputs": [
      {
       "metadata": {},
       "output_type": "pyout",
       "prompt_number": 15,
       "text": [
        "-1947.56457926124"
       ]
      }
     ],
     "prompt_number": 15
    },
    {
     "cell_type": "code",
     "collapsed": false,
     "input": [
      "plot(delta_f.subs([(f0,55.260e6),(c,3e8),(vm,40e3),(r0,300e3)]), (t, -10, 10))"
     ],
     "language": "python",
     "metadata": {},
     "outputs": [
      {
       "metadata": {},
       "output_type": "pyout",
       "prompt_number": 16,
       "text": [
        "<sympy.plotting.plot.Plot at 0x7f1b6fb8fcd0>"
       ]
      }
     ],
     "prompt_number": 16
    },
    {
     "cell_type": "code",
     "collapsed": false,
     "input": [],
     "language": "python",
     "metadata": {},
     "outputs": [],
     "prompt_number": 8
    },
    {
     "cell_type": "heading",
     "level": 2,
     "metadata": {},
     "source": [
      "Artificial meteor generator"
     ]
    },
    {
     "cell_type": "code",
     "collapsed": false,
     "input": [
      "from mpl_toolkits.mplot3d.axes3d import Axes3D\n",
      "import matplotlib.pyplot as plt\n",
      "import numpy as np\n",
      "import scipy\n",
      "from scipy.optimize import minimize\n",
      "from scipy.interpolate import interp1d\n",
      "from Geocentric import Geocentric\n",
      "geoC = Geocentric(6378137, 6356752.314)"
     ],
     "language": "python",
     "metadata": {},
     "outputs": [],
     "prompt_number": 1
    },
    {
     "cell_type": "code",
     "collapsed": false,
     "input": [
      "from IPython import parallel\n",
      "clients = parallel.Client()\n",
      "view = clients.load_balanced_view()\n",
      "view.block = False"
     ],
     "language": "python",
     "metadata": {},
     "outputs": [
      {
       "ename": "IOError",
       "evalue": "[Errno 2] No such file or directory: u'/home/kaklik/.ipython/profile_default/security/ipcontroller-client.json'",
       "output_type": "pyerr",
       "traceback": [
        "\u001b[0;31m---------------------------------------------------------------------------\u001b[0m\n\u001b[0;31mIOError\u001b[0m                                   Traceback (most recent call last)",
        "\u001b[0;32m<ipython-input-2-3b06661e163c>\u001b[0m in \u001b[0;36m<module>\u001b[0;34m()\u001b[0m\n\u001b[1;32m      1\u001b[0m \u001b[0;32mfrom\u001b[0m \u001b[0mIPython\u001b[0m \u001b[0;32mimport\u001b[0m \u001b[0mparallel\u001b[0m\u001b[0;34m\u001b[0m\u001b[0m\n\u001b[0;32m----> 2\u001b[0;31m \u001b[0mclients\u001b[0m \u001b[0;34m=\u001b[0m \u001b[0mparallel\u001b[0m\u001b[0;34m.\u001b[0m\u001b[0mClient\u001b[0m\u001b[0;34m(\u001b[0m\u001b[0;34m)\u001b[0m\u001b[0;34m\u001b[0m\u001b[0m\n\u001b[0m\u001b[1;32m      3\u001b[0m \u001b[0mview\u001b[0m \u001b[0;34m=\u001b[0m \u001b[0mclients\u001b[0m\u001b[0;34m.\u001b[0m\u001b[0mload_balanced_view\u001b[0m\u001b[0;34m(\u001b[0m\u001b[0;34m)\u001b[0m\u001b[0;34m\u001b[0m\u001b[0m\n\u001b[1;32m      4\u001b[0m \u001b[0mview\u001b[0m\u001b[0;34m.\u001b[0m\u001b[0mblock\u001b[0m \u001b[0;34m=\u001b[0m \u001b[0mFalse\u001b[0m\u001b[0;34m\u001b[0m\u001b[0m\n",
        "\u001b[0;32m/usr/lib/python2.7/dist-packages/IPython/parallel/client/client.pyc\u001b[0m in \u001b[0;36m__init__\u001b[0;34m(self, url_file, profile, profile_dir, ipython_dir, context, debug, sshserver, sshkey, password, paramiko, timeout, cluster_id, **extra_args)\u001b[0m\n\u001b[1;32m    409\u001b[0m             )\n\u001b[1;32m    410\u001b[0m \u001b[0;34m\u001b[0m\u001b[0m\n\u001b[0;32m--> 411\u001b[0;31m         \u001b[0;32mwith\u001b[0m \u001b[0mopen\u001b[0m\u001b[0;34m(\u001b[0m\u001b[0murl_file\u001b[0m\u001b[0;34m)\u001b[0m \u001b[0;32mas\u001b[0m \u001b[0mf\u001b[0m\u001b[0;34m:\u001b[0m\u001b[0;34m\u001b[0m\u001b[0m\n\u001b[0m\u001b[1;32m    412\u001b[0m             \u001b[0mcfg\u001b[0m \u001b[0;34m=\u001b[0m \u001b[0mjson\u001b[0m\u001b[0;34m.\u001b[0m\u001b[0mload\u001b[0m\u001b[0;34m(\u001b[0m\u001b[0mf\u001b[0m\u001b[0;34m)\u001b[0m\u001b[0;34m\u001b[0m\u001b[0m\n\u001b[1;32m    413\u001b[0m \u001b[0;34m\u001b[0m\u001b[0m\n",
        "\u001b[0;31mIOError\u001b[0m: [Errno 2] No such file or directory: u'/home/kaklik/.ipython/profile_default/security/ipcontroller-client.json'"
       ]
      }
     ],
     "prompt_number": 2
    },
    {
     "cell_type": "markdown",
     "metadata": {},
     "source": [
      "Pallalel execute on all available engines"
     ]
    },
    {
     "cell_type": "code",
     "collapsed": false,
     "input": [
      "\n",
      "import scipy.constants\n",
      "import numpy as np\n",
      "from scipy.optimize import minimize #,  differential_evolution\n",
      "from Geocentric import Geocentric\n",
      "geoC = Geocentric(6378137, 6356752.314)"
     ],
     "language": "python",
     "metadata": {},
     "outputs": [],
     "prompt_number": 3
    },
    {
     "cell_type": "markdown",
     "metadata": {},
     "source": [
      "Generate Artificial meteor for algorithm testing"
     ]
    },
    {
     "cell_type": "code",
     "collapsed": false,
     "input": [
      "c = scipy.constants.c\n",
      "f0 = 143050000\n",
      "trans_station_point = np.array(geoC.GeographicToGeocentric(47.347993, 5.515079, 190))\n",
      "t = 0.07"
     ],
     "language": "python",
     "metadata": {},
     "outputs": [],
     "prompt_number": 4
    },
    {
     "cell_type": "code",
     "collapsed": false,
     "input": [
      "#Artificial meteors coordinates:\n",
      "\n",
      "ZHR = 1\n",
      "\n",
      "met_start_altitude = np.random.normal(100e3,20e3,ZHR)\n",
      "met_stop_altitude = np.random.normal(60e3,20e3,ZHR)\n",
      "\n",
      "met_start_lat = np.random.normal(50,2,ZHR)  \n",
      "met_start_lon = np.random.normal(14,2,ZHR)\n",
      "\n",
      "met_stop_lat = np.random.normal(50,2,ZHR) \n",
      "met_stop_lon = np.random.normal(14,2,ZHR)\n",
      "\n",
      "met_velocity = np.random.normal(50000,20000,ZHR)\n",
      "timesteps = np.arange(-10,10,t)\n"
     ],
     "language": "python",
     "metadata": {},
     "outputs": [],
     "prompt_number": 204
    },
    {
     "cell_type": "code",
     "collapsed": false,
     "input": [
      "def estimate_dopplers(trajectory, timesteps, f0, trans_station, rec_station):\n",
      "    '''\n",
      "        Returns array of dopplers for given transmitter to receiver position and defined frequency and known trajectory.\n",
      "    '''\n",
      "    rec_to_met = np.empty([trajectory.shape[0], 1])\n",
      "    trans_to_met = np.empty([trajectory.shape[0], 1])\n",
      "    doppler = np.empty([trajectory.shape[0], 2])\n",
      "    \n",
      "    previous_rec_to_met = np.linalg.norm(rec_station - trajectory[0])\n",
      "    previous_trans_to_met = np.linalg.norm(trans_station - trajectory[0])\n",
      "    \n",
      "    t = timesteps[1] - timesteps[0]\n",
      "    \n",
      "    for i in range(trajectory.shape[0]):\n",
      "        rec_to_met[i] = np.linalg.norm(rec_station - trajectory[i])\n",
      "        trans_to_met[i] = np.linalg.norm(trans_station - trajectory[i])\n",
      "    \n",
      "        met_trans_speed = previous_trans_to_met - trans_to_met[i]\n",
      "        previous_trans_to_met = trans_to_met[i]\n",
      "        speed = met_trans_speed/t    \n",
      "        f1 = ((c + speed)/c * f0)\n",
      "        \n",
      "        met_rec_speed = previous_rec_to_met - rec_to_met[i]    ## calculate bistatic velocity from known position\n",
      "        previous_rec_to_met = rec_to_met[i]\n",
      "        speed = met_rec_speed/t\n",
      "        f2 = (c/(c - speed) * f1)\n",
      "        doppler[i] = np.array([timesteps[i], f2-f0])\n",
      "    return doppler"
     ],
     "language": "python",
     "metadata": {},
     "outputs": [],
     "prompt_number": 6
    },
    {
     "cell_type": "code",
     "collapsed": false,
     "input": [
      "def error_func(est_params, timesteps, stations):\n",
      "    \"\"\"\n",
      "    Returns difference between real and estimated meteor trajectory dopplers\n",
      "    \"\"\"\n",
      "    from Geocentric import Geocentric\n",
      "    geoC = Geocentric(6378137, 6356752.314)\n",
      "    \n",
      "    est_start_point = est_params[0:3]\n",
      "    est_vect = est_params[3:6]\n",
      "    est_points = np.empty([timesteps.size, 3])\n",
      "    \n",
      "    for i in range(timesteps.size):  # generate points of estimated meteor trajectory\n",
      "        est_points[i] =  est_start_point + (est_vect * timesteps[i])\n",
      "\n",
      "    doppler_deviations = {}\n",
      "    for station in stations:\n",
      "        doppler_deviation = np.zeros_like(station['doppler'])\n",
      "        rec_station_point = np.array(geoC.GeographicToGeocentric(station['latitude'], station['longitude'], station['elevation']))\n",
      "        est_doppler = estimate_dopplers(est_points, timesteps, f0, trans_station_point, rec_station_point)\n",
      "        est_doppler_function = interp1d(est_doppler[1:,0], est_doppler[1:,1])\n",
      "\n",
      "        for i in range(station['doppler'].shape[0]):  \n",
      "            doppler_deviation[i] = station['doppler'][:,0][i], (station['doppler'][:,1][i] - est_doppler_function(station['doppler'][:,0][i]))**2\n",
      "        \n",
      "        doppler_deviations[station['name']] = doppler_deviation\n",
      "        \n",
      "    return doppler_deviations\n"
     ],
     "language": "python",
     "metadata": {},
     "outputs": [],
     "prompt_number": 24
    },
    {
     "cell_type": "code",
     "collapsed": false,
     "input": [
      "def station_errors(met_params, timesteps, stations):\n",
      "    \"\"\"\n",
      "    Calculate total error value of estimated meteor params to every station signal. \n",
      "    \"\"\"    \n",
      "    doppler_errors = error_func(met_params, timesteps, stations)\n",
      "    total_deviation = []\n",
      "    for station in doppler_errors:\n",
      "        total_deviation.append(np.sum(doppler_errors[station][:,1]))\n",
      "    return total_deviation"
     ],
     "language": "python",
     "metadata": {},
     "outputs": [],
     "prompt_number": 113
    },
    {
     "cell_type": "code",
     "collapsed": false,
     "input": [
      "def total_error(met_params, timesteps, stations):\n",
      "    \"\"\"\n",
      "    Calculate total error value of estimated meteor params to every station signal. \n",
      "    \"\"\"    \n",
      "    doppler_errors = error_func(met_params, timesteps, stations)\n",
      "    total_deviation = 0\n",
      "    for station in doppler_errors:\n",
      "        total_deviation += np.sum(doppler_errors[station][:,1])\n",
      "    return total_deviation"
     ],
     "language": "python",
     "metadata": {},
     "outputs": [],
     "prompt_number": 114
    },
    {
     "cell_type": "markdown",
     "metadata": {},
     "source": [
      "Define Bolidozor network station. List may be updated from space.astro.cz server according to stored data."
     ]
    },
    {
     "cell_type": "code",
     "collapsed": false,
     "input": [
      "stations = []\n",
      "stations.append({'name': 'Zebrak','latitude':49.8736, 'longitude':13.8986,'elevation':400, 'status': 'operational', 'type': 'receiver'})\n",
      "stations.append({'name': 'uFlu','latitude':50.0795, 'longitude':14.4891,'elevation':400, 'status': 'operational', 'type': 'receiver'})\n",
      "stations.append({'name': 'OBSUPICE','latitude':50.5067,'longitude':16.0115,'elevation':400, 'status': 'operational', 'type': 'receiver'})\n",
      "stations.append({'name': 'SVAKOV','latitude':49.2607,'longitude':14.6917,'elevation':400, 'status': 'operational', 'type': 'receiver'})\n",
      "stations.append({'name': 'ZVPP','latitude':48.9869,'longitude':14.4675,'elevation':400, 'status': 'operational', 'type': 'receiver'})\n",
      "stations.append({'name': 'BPB','latitude':48.653153,'longitude':17.537413,'elevation':400, 'status': 'testing', 'type': 'receiver'})\n",
      "stations.append({'name': 'HPHK','latitude':50.1772,'longitude':15.8386,'elevation':400, 'status': 'testing', 'type': 'receiver'})\n",
      "stations.append({'name': 'OBSJAROMER','latitude':50.351397,'longitude':15.915878,'elevation':400, 'status': 'testing', 'type': 'receiver'})\n",
      "stations.append({'name': 'JHRADEC','latitude':49.1314,'longitude': 14.9999,'elevation':400, 'status': 'testing', 'type': 'receiver'})\n",
      "stations.append({'name': 'VALMEZ','latitude':49.463038,'longitude': 17.973544,'elevation':400, 'status': 'testing', 'type': 'receiver'})\n",
      "stations.append({'name': 'NACHODSKO','latitude':50.409407,'longitude':15.414812,'elevation':400, 'status': 'operational', 'type': 'receiver'})\n"
     ],
     "language": "python",
     "metadata": {},
     "outputs": [],
     "prompt_number": 9
    },
    {
     "cell_type": "code",
     "collapsed": false,
     "input": [
      "# compute dopplers for multiple stations\n",
      "\n",
      "from Geocentric import Geocentric\n",
      "geoC = Geocentric(6378137, 6356752.314)\n",
      "\n",
      "%matplotlib\n",
      "fig, ax1 = plt.subplots(figsize=(9, 7))\n",
      "ax1.set_title('Meteor Dopplers at multiple Bolidozor stations')\n",
      "ax1.set_ylabel('Doppler [Hz]')\n",
      "ax1.set_xlabel('Time [s]')\n",
      "#grid(True)\n",
      "\n",
      "meteor_dopplers = [1,2]\n",
      "met_points = np.empty([timesteps.size, 3])\n",
      "\n",
      "for meteor in range(ZHR):\n",
      "    \n",
      "    # get meteor vector from start and stop point\n",
      "    met_start_point = np.array(geoC.GeographicToGeocentric(met_start_lat[meteor], met_start_lon[meteor], met_start_altitude[meteor]))\n",
      "    met_stop_point = np.array(geoC.GeographicToGeocentric(met_stop_lat[meteor], met_stop_lon[meteor], met_stop_altitude[meteor]))\n",
      "    met_vect = met_start_point - met_stop_point\n",
      "\n",
      "    for i in range(timesteps.size):  # generate points on artifitial meteor trajectory (discretize in space)\n",
      "        met_points[i] =  met_start_point + (met_vect/np.linalg.norm(met_vect) * (timesteps[i] * met_velocity[meteor]))\n",
      "    \n",
      "    for station in stations:\n",
      "        rec_station_point = np.array(geoC.GeographicToGeocentric(station['latitude'], station['longitude'], station['elevation']))\n",
      "        \n",
      "        doppler = estimate_dopplers(met_points, timesteps, f0, trans_station_point, rec_station_point)\n",
      "            \n",
      "        meteor_dopplers[meteor] = doppler\n",
      "        plt.plot(doppler[1:,0], doppler[1:,1], label=station['name'] if meteor == 0 else \"\")\n",
      "    \n",
      "    plt.legend(loc=1)"
     ],
     "language": "python",
     "metadata": {},
     "outputs": [
      {
       "output_type": "stream",
       "stream": "stdout",
       "text": [
        "Using matplotlib backend: TkAgg\n"
       ]
      }
     ],
     "prompt_number": 205
    },
    {
     "cell_type": "markdown",
     "metadata": {},
     "source": [
      "Plot artifitial meteor trajectory points"
     ]
    },
    {
     "cell_type": "code",
     "collapsed": false,
     "input": [
      "%matplotlib\n",
      "fig = plt.figure()\n",
      "ax = plt.axes(projection='3d')\n",
      "ax.scatter(met_points[:,0], met_points[:,1], met_points[:,2])"
     ],
     "language": "python",
     "metadata": {},
     "outputs": [
      {
       "output_type": "stream",
       "stream": "stdout",
       "text": [
        "Using matplotlib backend: TkAgg\n"
       ]
      },
      {
       "metadata": {},
       "output_type": "pyout",
       "prompt_number": 85,
       "text": [
        "<mpl_toolkits.mplot3d.art3d.Path3DCollection at 0x7fc33c7e2790>"
       ]
      }
     ],
     "prompt_number": 85
    },
    {
     "cell_type": "markdown",
     "metadata": {},
     "source": [
      "Compute difference between of estimated trajectory dopplers and \"real\" simulated trajectory."
     ]
    },
    {
     "cell_type": "code",
     "collapsed": false,
     "input": [
      "meteor_data = doppler[1:,0]\n",
      "\n",
      "doppler_min = -6000.0\n",
      "doppler_max = 10000.0\n",
      "\n",
      "for station in stations:\n",
      "    rec_station_point = np.array(geoC.GeographicToGeocentric(station['latitude'], station['longitude'], station['elevation']))\n",
      "    dopplers = estimate_dopplers(met_points, timesteps, f0, trans_station_point, rec_station_point)\n",
      "    indexes = np.where(np.logical_and(dopplers[1:,1] > doppler_min, dopplers[1:,1] < doppler_max ))\n",
      "    station['doppler'] = np.concatenate((np.take(dopplers[1:,0], indexes), np.take(dopplers[1:,1], indexes)), axis = 0).T"
     ],
     "language": "python",
     "metadata": {},
     "outputs": [],
     "prompt_number": 209
    },
    {
     "cell_type": "code",
     "collapsed": false,
     "input": [],
     "language": "python",
     "metadata": {},
     "outputs": [],
     "prompt_number": 71
    },
    {
     "cell_type": "code",
     "collapsed": false,
     "input": [
      "## initial meteor trajectory guess \n",
      "est_start_altitude = np.random.normal(100e3,20e3,ZHR)\n",
      "est_stop_altitude = np.random.normal(60e3,20e3,ZHR)\n",
      "\n",
      "est_start_lat = np.random.normal(50,2,ZHR)  \n",
      "est_start_lon = np.random.normal(14,2,ZHR)\n",
      "\n",
      "est_stop_lat = np.random.normal(50,2,ZHR) \n",
      "est_stop_lon = np.random.normal(14,2,ZHR)\n",
      "\n",
      "est_velocity = np.random.normal(50000,20000,ZHR)"
     ],
     "language": "python",
     "metadata": {},
     "outputs": [],
     "prompt_number": 87
    },
    {
     "cell_type": "code",
     "collapsed": false,
     "input": [
      "%matplotlib\n",
      "fig, ax1 = plt.subplots(figsize=(9, 7))\n",
      "ax1.set_title('Errors of estimated trajectory dopplers over all Bolidozor stations data')\n",
      "ax1.set_ylabel('Doppler [Hz]')\n",
      "ax1.set_xlabel('Time [s]')\n",
      "\n",
      "meteor_dopplers = [1,2]\n",
      "\n",
      "met_points = np.empty([timesteps.size, 3])\n",
      "\n",
      "\n",
      "for meteor in range(ZHR):\n",
      "    \n",
      "    # get meteor vector from start and stop point\n",
      "    est_start_point = np.array(geoC.GeographicToGeocentric(est_start_lat[meteor], est_start_lon[meteor], est_start_altitude[meteor]))\n",
      "    est_stop_point = np.array(geoC.GeographicToGeocentric(est_stop_lat[meteor], est_stop_lon[meteor], est_stop_altitude[meteor]))\n",
      "    est_vect = est_start_point - est_stop_point\n",
      "    est_speed_vect = est_vect/np.linalg.norm(est_vect) * est_velocity[meteor]\n",
      "    \n",
      "    # get meteor vector from start and stop point\n",
      "    met_start_point = np.array(geoC.GeographicToGeocentric(met_start_lat[meteor], met_start_lon[meteor], met_start_altitude[meteor]))\n",
      "    met_stop_point = np.array(geoC.GeographicToGeocentric(met_stop_lat[meteor], met_stop_lon[meteor], met_stop_altitude[meteor]))\n",
      "    met_vect = met_start_point - met_stop_point\n",
      "    met_speed_vect = met_vect/np.linalg.norm(met_vect) * met_velocity[meteor]\n",
      "    \n",
      "    for i in range(timesteps.size):  # generate points on meteor trajectory (discretize in space)\n",
      "        met_points[i] =  met_start_point + (met_vect * timesteps[i])\n",
      "\n",
      "    est_params = np.concatenate((est_start_point, est_speed_vect), axis=1)\n",
      "    \n",
      "    doppler_deviations = error_func(est_params, timesteps, stations)\n",
      "    \n",
      "    for station in doppler_deviations:\n",
      "        plt.plot(doppler_deviations[station][:,0], doppler_deviations[station][:,1] , label=station if meteor == 0 else \"\")\n",
      "    plt.legend(loc=1)"
     ],
     "language": "python",
     "metadata": {},
     "outputs": [
      {
       "output_type": "stream",
       "stream": "stdout",
       "text": [
        "Using matplotlib backend: TkAgg\n"
       ]
      }
     ],
     "prompt_number": 210
    },
    {
     "cell_type": "code",
     "collapsed": false,
     "input": [
      "def make_meteor():\n",
      "    ## initial meteor trajectory guess \n",
      "    est_start_altitude = np.random.normal(100e3,20e3,1)\n",
      "    est_stop_altitude = np.random.normal(60e3,20e3,1)\n",
      "    \n",
      "    est_start_lat = np.random.normal(50,2,1)  \n",
      "    est_start_lon = np.random.normal(14,2,1)\n",
      "    \n",
      "    est_stop_lat = np.random.normal(50,2,1) \n",
      "    est_stop_lon = np.random.normal(14,2,1)\n",
      "    \n",
      "    est_velocity = np.random.normal(50000,20000,1)\n",
      "\n",
      "    est_start_point = np.array(geoC.GeographicToGeocentric(est_start_lat, est_start_lon, est_start_altitude))\n",
      "    est_stop_point = np.array(geoC.GeographicToGeocentric(est_stop_lat, est_stop_lon, est_stop_altitude))\n",
      "    est_vect = est_start_point - est_stop_point\n",
      "    est_speed_vect = est_vect/np.linalg.norm(est_vect) * est_velocity\n",
      "    est_params = np.concatenate((est_start_point.ravel(), est_speed_vect.ravel()), axis=1)\n",
      "    return est_params\n"
     ],
     "language": "python",
     "metadata": {},
     "outputs": [],
     "prompt_number": 211
    },
    {
     "cell_type": "code",
     "collapsed": false,
     "input": [
      "def make_deap_meteor():\n",
      "    return array.array('d',make_meteor())"
     ],
     "language": "python",
     "metadata": {},
     "outputs": [],
     "prompt_number": 145
    },
    {
     "cell_type": "code",
     "collapsed": false,
     "input": [
      "def find_trajectory(timesteps,stations_data):\n",
      "    ## initial meteor trajectory guess \n",
      "\n",
      "    est_params = make_meteor()\n",
      "    res = minimize(total_error, est_params, args = (timesteps, stations_data,), method ='BFGS' , tol = 100.0,options = {'disp': True})\n",
      "    return res"
     ],
     "language": "python",
     "metadata": {},
     "outputs": [],
     "prompt_number": 115
    },
    {
     "cell_type": "code",
     "collapsed": false,
     "input": [
      "res = find_trajectory(timesteps, stations)"
     ],
     "language": "python",
     "metadata": {},
     "outputs": [
      {
       "output_type": "stream",
       "stream": "stdout",
       "text": [
        "Warning: Desired error not necessarily achieved due to precision loss.\n",
        "         Current function value: 3130773800.940541\n",
        "         Iterations: 3\n",
        "         Function evaluations: 188\n",
        "         Gradient evaluations: 22\n"
       ]
      }
     ],
     "prompt_number": 117
    },
    {
     "cell_type": "code",
     "collapsed": false,
     "input": [
      "est_params = np.array(hof[0])"
     ],
     "language": "python",
     "metadata": {},
     "outputs": [],
     "prompt_number": 235
    },
    {
     "cell_type": "code",
     "collapsed": false,
     "input": [
      "est_start_point = est_params[0:3]\n",
      "est_vect = est_params[3:6]\n",
      "est_points = np.empty([timesteps.size, 3])\n",
      "\n",
      "for i in range(timesteps.size):  # generate points on meteor trajectory (discretize in space)\n",
      "    est_points[i] =  est_start_point + (est_vect * timesteps[i])"
     ],
     "language": "python",
     "metadata": {},
     "outputs": [],
     "prompt_number": 236
    },
    {
     "cell_type": "code",
     "collapsed": false,
     "input": [
      "%matplotlib\n",
      "fig = plt.figure()\n",
      "ax = plt.axes(projection='3d')\n",
      "ax.set_title('Meteor Trajectories')\n",
      "ax.set_ylabel('Position [m]')\n",
      "ax.set_xlabel('Position [m]')\n",
      "ax.set_zlabel('Position [m]')\n",
      "ax.scatter(met_points[:,0], met_points[:,1], met_points[:,2], color = 'b', label= \"Real\")\n",
      "ax.scatter(est_points[:,0], est_points[:,1], est_points[:,2], color = 'r', label= \"Estimated\")\n"
     ],
     "language": "python",
     "metadata": {},
     "outputs": [
      {
       "output_type": "stream",
       "stream": "stdout",
       "text": [
        "Using matplotlib backend: TkAgg\n"
       ]
      },
      {
       "metadata": {},
       "output_type": "pyout",
       "prompt_number": 237,
       "text": [
        "<mpl_toolkits.mplot3d.art3d.Path3DCollection at 0x7fc33bdb5750>"
       ]
      }
     ],
     "prompt_number": 237
    },
    {
     "cell_type": "code",
     "collapsed": false,
     "input": [
      "%matplotlib\n",
      "fig, ax1 = plt.subplots(figsize=(9, 7))\n",
      "ax1.set_title('Dopplers of estimated  meteor trajectory')\n",
      "ax1.set_ylabel('Doppler [Hz]')\n",
      "ax1.set_xlabel('Time [s]')\n",
      "\n",
      "    \n",
      "for station in stations:\n",
      "    rec_station_point = np.array(geoC.GeographicToGeocentric(station['latitude'], station['longitude'], station['elevation']))\n",
      "\n",
      "    #doppler_met = estimate_dopplers(met_points, f0, trans_station_point, rec_station_point)\n",
      "    doppler_est = estimate_dopplers(est_points, timesteps, f0, trans_station_point, rec_station_point)\n",
      "\n",
      "    plt.plot(station['doppler'][:,0], station['doppler'][:,1], label=station['name'] if meteor == 0 else \"\", color = 'b')\n",
      "    plt.plot(doppler_est[1:,0], doppler_est[1:,1], color = 'r')\n",
      "    \n",
      "plt.legend(loc=1)"
     ],
     "language": "python",
     "metadata": {},
     "outputs": [
      {
       "output_type": "stream",
       "stream": "stdout",
       "text": [
        "Using matplotlib backend: TkAgg\n"
       ]
      },
      {
       "metadata": {},
       "output_type": "pyout",
       "prompt_number": 238,
       "text": [
        "<matplotlib.legend.Legend at 0x7fc33dc2ab50>"
       ]
      }
     ],
     "prompt_number": 238
    },
    {
     "cell_type": "code",
     "collapsed": false,
     "input": [],
     "language": "python",
     "metadata": {},
     "outputs": [],
     "prompt_number": 194
    },
    {
     "cell_type": "code",
     "collapsed": false,
     "input": [],
     "language": "python",
     "metadata": {},
     "outputs": [],
     "prompt_number": 194
    },
    {
     "cell_type": "code",
     "collapsed": false,
     "input": [],
     "language": "python",
     "metadata": {},
     "outputs": [],
     "prompt_number": 194
    },
    {
     "cell_type": "code",
     "collapsed": false,
     "input": [],
     "language": "python",
     "metadata": {},
     "outputs": [],
     "prompt_number": 194
    },
    {
     "cell_type": "code",
     "collapsed": false,
     "input": [],
     "language": "python",
     "metadata": {},
     "outputs": [],
     "prompt_number": 195
    },
    {
     "cell_type": "code",
     "collapsed": false,
     "input": [
      "import array\n",
      "import multiprocessing\n",
      "\n",
      "from deap import algorithms\n",
      "from deap import base\n",
      "from deap import creator\n",
      "from deap import tools\n",
      "\n",
      "creator.create(\"FitnessMin\", base.Fitness, weights=(-1.0,-1.0,-1.0,-1.0,-1.0,-1.0,-1.0,-1.0,-1.0,-1.0,-1.0,))\n",
      "creator.create(\"Individual\", array.array, typecode='d', fitness=creator.FitnessMin)\n",
      "\n",
      "toolbox = base.Toolbox()\n",
      "pool = multiprocessing.Pool()\n",
      "toolbox.register(\"map\", pool.map)\n",
      "\n",
      "# Attribute generator\n",
      "toolbox.register(\"indices\", make_deap_meteor )\n",
      "\n",
      "# Structure initializers\n",
      "toolbox.register(\"individual\", tools.initIterate, creator.Individual, toolbox.indices)\n",
      "toolbox.register(\"population\", tools.initRepeat, list, toolbox.individual)\n",
      "\n",
      "def evalTSP(individual):\n",
      "    met_params = np.array(individual)\n",
      "    return station_errors(met_params,timesteps, stations)\n",
      "\n",
      "toolbox.register(\"mate\", tools.cxOnePoint)\n",
      "toolbox.register(\"mutate\", tools.mutGaussian, mu = 0, sigma = (5000, 5000, 5000, 500, 500, 500), indpb=0.2)\n",
      "toolbox.register(\"select\", tools.selBest)\n",
      "toolbox.register(\"evaluate\", evalTSP)\n"
     ],
     "language": "python",
     "metadata": {},
     "outputs": [],
     "prompt_number": 232
    },
    {
     "cell_type": "code",
     "collapsed": false,
     "input": [
      "pop = toolbox.population(n=100)\n",
      "\n",
      "hof = tools.HallOfFame(1)\n",
      "stats = tools.Statistics(lambda ind: ind.fitness.values)\n",
      "stats.register(\"min\", np.min)\n",
      "\n",
      "\n",
      "algorithms.eaSimple(pop, toolbox, 0.7, 0.5, 10, stats=stats, halloffame=hof, verbose=True)\n",
      "\n",
      "#pop, stats, hof"
     ],
     "language": "python",
     "metadata": {},
     "outputs": [
      {
       "output_type": "stream",
       "stream": "stdout",
       "text": [
        "gen\tnevals\tmin        \n",
        "0  \t100   \t2.37141e+07\n",
        "1  \t82    \t4.23229e+07"
       ]
      },
      {
       "output_type": "stream",
       "stream": "stdout",
       "text": [
        "\n",
        "2  \t87    \t5.52873e+07"
       ]
      },
      {
       "output_type": "stream",
       "stream": "stdout",
       "text": [
        "\n",
        "3  \t89    \t4.84624e+07"
       ]
      },
      {
       "output_type": "stream",
       "stream": "stdout",
       "text": [
        "\n",
        "4  \t87    \t2.00001e+06"
       ]
      },
      {
       "output_type": "stream",
       "stream": "stdout",
       "text": [
        "\n",
        "5  \t83    \t2.00001e+06"
       ]
      },
      {
       "output_type": "stream",
       "stream": "stdout",
       "text": [
        "\n",
        "6  \t85    \t1.00185e+07"
       ]
      },
      {
       "output_type": "stream",
       "stream": "stdout",
       "text": [
        "\n",
        "7  \t86    \t2.08246e+07"
       ]
      },
      {
       "output_type": "stream",
       "stream": "stdout",
       "text": [
        "\n",
        "8  \t85    \t2.08246e+07"
       ]
      },
      {
       "output_type": "stream",
       "stream": "stdout",
       "text": [
        "\n",
        "9  \t87    \t4.28925e+06"
       ]
      },
      {
       "output_type": "stream",
       "stream": "stdout",
       "text": [
        "\n",
        "10 \t77    \t6.93301e+06"
       ]
      },
      {
       "output_type": "stream",
       "stream": "stdout",
       "text": [
        "\n"
       ]
      },
      {
       "metadata": {},
       "output_type": "pyout",
       "prompt_number": 240,
       "text": [
        "([array('d', [3769937.842866402, 949324.7712742385, 4790644.399475283, -41215.79849943341, 35620.07971553006, 31944.795158979]),\n",
        "  array('d', [4146990.2890273086, 1417063.7044505267, 4935471.701355477, -25553.817345187497, -11659.354445059033, 31770.977047809443]),\n",
        "  array('d', [4168632.53527497, 1099589.8382676716, 5011704.025281547, 7810.359188236102, -17805.99942148601, 18096.39348908169]),\n",
        "  array('d', [4178255.535116294, 957679.5743465489, 4945099.519989766, 10104.167115245276, -26149.262551932552, 10555.532757819998]),\n",
        "  array('d', [4194006.1202913052, 1161918.523584591, 5042839.293950257, -27473.49384173381, 30923.742907280266, 388.4332016365715]),\n",
        "  array('d', [4161937.049984433, 851095.2715770686, 4648024.735567896, 34727.438530742504, 2485.5340971999603, -36898.036944034]),\n",
        "  array('d', [4328759.47346232, 819542.6595995828, 4949474.957571282, 14803.103253288988, 4114.2604605048955, 17689.729773422143]),\n",
        "  array('d', [3988661.5371349487, 567759.5663973691, 4992310.171713431, -834.4732770465362, -25587.345450609777, 20507.182116837917]),\n",
        "  array('d', [4450829.626252149, 934700.6766513884, 4552670.993824346, -14072.977191498907, 27624.41301145624, -5476.75363816617]),\n",
        "  array('d', [4254437.864112874, 953754.7315901405, 4733767.135710344, 6505.291305988543, 20088.70159213298, 31513.820221557846]),\n",
        "  array('d', [4280433.698677885, 1100153.346291729, 4885156.829014519, -10473.574523939096, 5397.802569043365, 19859.219934052762]),\n",
        "  array('d', [3821091.2052576123, 1033441.2429254185, 5135677.745177242, -10878.392142270564, -6812.578367342368, 10345.031474925338]),\n",
        "  array('d', [4319686.9654316865, 833890.7218241303, 4650480.334460702, -23849.36539958463, 17409.314699632665, 12689.742101319247]),\n",
        "  array('d', [4331160.681695955, 1244021.6408551845, 4903403.580302506, -631.6854727540452, -7827.515883925763, 54.049336411122795]),\n",
        "  array('d', [4201599.517231444, 1424555.2945980057, 4957819.315388023, -18129.676185735938, 24992.327237903704, -21584.566455222463]),\n",
        "  array('d', [4230999.994186149, 913976.6018557685, 4808976.739349342, -8460.964862477284, -12933.856788041181, -3406.064604288037]),\n",
        "  array('d', [4194111.0622575413, 921175.2765898907, 5055906.0744957905, 9496.553045708752, 16880.947898780363, -11151.798061112344]),\n",
        "  array('d', [4270986.465140263, 851224.0360922079, 4814907.142418174, -19511.170453324987, 6857.405747617247, 22101.87728609462]),\n",
        "  array('d', [3930455.636151814, 841968.4364446613, 4968065.824122525, -24223.350269011742, -8167.892757546345, 8531.71719984582]),\n",
        "  array('d', [3942553.474372039, 850931.6790307477, 4724859.70052391, -28212.495593235224, 12411.522351439531, 8705.325761414173]),\n",
        "  array('d', [3953526.334006675, 930006.6807818399, 5062370.182810688, -13803.305436175197, -20710.89044773024, 32557.808532031668]),\n",
        "  array('d', [4394947.110452968, 836410.496684864, 5008090.571606879, 10104.7112925858, 11199.0243675691, -14419.954980927103]),\n",
        "  array('d', [4096069.446507973, 805036.65674295, 4932471.793895432, 3517.796664740102, -475.34740330766266, -19631.53890342392]),\n",
        "  array('d', [4461319.11137023, 919881.2340613885, 4970707.427593423, 46053.22307018049, 50163.325809158465, 5681.681917568088]),\n",
        "  array('d', [4163776.9986551073, 883674.6697613825, 4796920.3444434265, 13182.85228288907, -26112.460334186497, 17839.632427931057]),\n",
        "  array('d', [4107271.686522726, 1136207.8680858389, 5052192.407792936, 16900.366575750682, 36899.466966432046, -18500.184099760754]),\n",
        "  array('d', [4193663.059300191, 974040.1823562845, 4920037.179355503, 10039.45275895671, -7159.09874820791, 8287.353759149333]),\n",
        "  array('d', [3945029.199673908, 895917.1505842084, 4963959.4216974685, -52605.47007484465, 16046.93721560848, 40904.613997874665]),\n",
        "  array('d', [3829850.3625737024, 809527.7930436844, 4854384.282914318, -1128.9079876939193, 55457.72297682378, 1184.1031045184761]),\n",
        "  array('d', [4024458.769632668, 917240.7173408995, 4824994.942697307, 9197.31757096351, 22520.740204433674, -2648.0761633609172]),\n",
        "  array('d', [4046656.512545669, 1041985.8079200836, 4922837.1168137165, -34329.23671685073, 23163.162610648313, 42069.51835541783]),\n",
        "  array('d', [4303588.781517165, 1001236.0502039758, 5099915.205146921, -2383.7155504378507, -34968.38233485387, 30439.7095050187]),\n",
        "  array('d', [4099727.6571578006, 979256.8703031914, 5153519.9217633745, -4217.347812234149, -6285.0230317405885, 14509.641771386374]),\n",
        "  array('d', [3884272.1290010526, 1042800.8677696149, 4553588.453646838, 8429.794550426685, 32533.74540799855, 12760.242511910112]),\n",
        "  array('d', [3826413.7974159713, 1099644.3422702597, 5060353.122439335, -23899.22337329835, 59715.03477354015, -21503.188384775523]),\n",
        "  array('d', [3834031.499915531, 871164.7302359429, 4976433.13649951, 16177.085937037005, -446.84381130602173, -14550.01573388263]),\n",
        "  array('d', [3965890.567554175, 844179.7712751481, 4858474.516843466, 17082.140470001268, 36236.78612919721, 21224.484135587034]),\n",
        "  array('d', [4199174.150128382, 978034.3684258332, 4696499.354678067, -20753.421034822662, -7974.838753159088, 19786.303868851057]),\n",
        "  array('d', [4125296.693976934, 1023515.983794372, 4682277.565040135, 34738.181519981496, -28967.353186779572, -12282.242571815115]),\n",
        "  array('d', [4110376.959889231, 1158247.1163982928, 4969453.957351743, 26803.331381614043, 12050.095916019005, 12814.277813677501]),\n",
        "  array('d', [4127117.9293191535, 998242.4145055093, 4995677.214860041, -34637.10715014745, -13585.799874785087, -23109.742021727332]),\n",
        "  array('d', [4094808.1027595126, 872949.4541789101, 4814968.456064985, 38842.81488409016, -12810.487033869416, 27210.181962633473]),\n",
        "  array('d', [3997989.256442365, 966187.4956327846, 5071859.751416118, 25130.998093000628, 36724.67784336702, -8488.719627272256]),\n",
        "  array('d', [4052380.788839999, 997196.1939303864, 4959908.34434535, -11637.007204365302, 35422.62025608411, -29749.474709349153]),\n",
        "  array('d', [4046880.0477191196, 944015.1583952649, 5150004.331773702, -1186.1534992539753, -19011.66566232066, -20150.422758223838]),\n",
        "  array('d', [4199067.891922535, 832663.5569679791, 4797599.960298804, -24744.16883185749, -13077.898207611977, -25983.701664856228]),\n",
        "  array('d', [4082548.3085520067, 1111577.6776261078, 5031845.591087961, -19713.430540807487, -18602.802220133217, -21092.722728915942]),\n",
        "  array('d', [4099027.4963193326, 1226383.7497425438, 4908902.35721031, 23110.998270051154, 72810.3772822841, -9570.05944524085]),\n",
        "  array('d', [4101030.644049663, 1120824.0972950151, 4950213.095758371, 36925.68320997173, 77771.44096075426, 41328.01711794981]),\n",
        "  array('d', [4089684.161366373, 988482.7565751689, 5016090.774497409, 16527.33248567767, 14200.581134535943, -21899.824643835153]),\n",
        "  array('d', [3931932.3436101316, 1072660.3732671747, 4961023.929770603, 22091.489780377247, 43548.34439966153, -10946.93719203792]),\n",
        "  array('d', [4113953.2033579503, 714270.318039243, 4940139.766831264, -21025.291106334465, 49836.02481044862, 38403.01951688053]),\n",
        "  array('d', [3890828.1135072564, 1057463.8261807163, 4879931.6109562805, 17416.364420070797, -7006.296355715828, -23138.109275082355]),\n",
        "  array('d', [3834060.874476065, 1036880.478847064, 5070929.979919882, -15855.859373181389, -30941.157747756464, -10140.088833018652]),\n",
        "  array('d', [4186387.130024581, 943401.7344774215, 4994108.561384167, 48252.12925140534, 22679.535538418513, 31596.2726935329]),\n",
        "  array('d', [4081935.1439960925, 1214541.6865950883, 4903947.96249826, 33032.35103794104, 17830.83292058181, 7824.1383079495035]),\n",
        "  array('d', [4040749.4225549577, 661398.5404923818, 4596304.128287606, -16482.329228861854, -40151.07665545816, 23815.571454835725]),\n",
        "  array('d', [4256750.864710409, 1060265.4188977585, 4823660.324976064, 9136.826179805237, -25535.77146256201, 28176.66639309868]),\n",
        "  array('d', [4045709.4089366193, 831200.4224999079, 5119213.358727308, -19508.47454208175, 57994.8707755401, 22472.29050826251]),\n",
        "  array('d', [3631250.1884932476, 1146051.61805443, 4758951.401356157, 29414.98155494596, -41484.099896996115, -18916.924176794364]),\n",
        "  array('d', [4012624.486211685, 1062300.8244659398, 4607235.642856108, 1017.9485110295325, -45706.020313292815, -22694.5020903915]),\n",
        "  array('d', [4121645.560748573, 808314.8034659069, 5044501.731022135, 20399.54072457602, 36485.43475585084, -26925.122263776433]),\n",
        "  array('d', [4404068.1632785965, 916013.0398175081, 4818232.457283766, -34224.304269955814, 9290.249127254656, 44251.93005913728]),\n",
        "  array('d', [4229527.230904045, 1237388.019929759, 4751484.657807268, -39497.31353217133, 2531.4310206195205, -27603.405618466706]),\n",
        "  array('d', [4131444.544089057, 1078655.1186343634, 4904923.287137738, -19397.383443690924, -29889.845479828167, 30852.340956727872]),\n",
        "  array('d', [4286889.733630844, 1041555.4588797219, 4976068.615126254, 34155.02292730182, 53928.67731091165, -40463.78530900148]),\n",
        "  array('d', [4207718.9308742015, 1067531.719171157, 4944911.436377279, 36639.97237640523, 23480.85121215507, -29566.49027802251]),\n",
        "  array('d', [4033453.4053293476, 643424.7988543246, 4794392.969942508, 42900.39049389148, 28707.360766204383, -22681.193450005143]),\n",
        "  array('d', [3935767.8523293096, 895914.6108526379, 4921057.049731861, -22858.296478007098, -50411.406702590175, 30116.522569116558]),\n",
        "  array('d', [4167796.996257167, 810241.4737675948, 4903553.7858163165, 2141.146068898082, -7156.88669752773, 63999.21239817425]),\n",
        "  array('d', [4073578.3503478663, 1031302.2447998872, 5266552.6713287, -15162.670899763463, -39804.32037552064, -30512.536694456743]),\n",
        "  array('d', [4390091.371747621, 1272530.4866300053, 4607876.179695483, 59635.11329664693, 18615.716596790233, -15652.952659153305]),\n",
        "  array('d', [4159963.4556120704, 862572.2282138916, 5130720.317962382, 41065.89208221382, 12392.701076797266, -23796.95335247873]),\n",
        "  array('d', [3915970.8600783143, 1087460.928573417, 4993512.6608158415, 5497.586276593916, -55428.08641084664, -19960.49262641772]),\n",
        "  array('d', [3793825.314573478, 1002102.8125472333, 4996112.166862901, 23663.632278954974, 56070.3989529857, -13146.96950577275]),\n",
        "  array('d', [4001852.2698245374, 787250.3143938958, 4788021.412127429, 31175.488064200203, 38679.28814531723, -35835.337772724735]),\n",
        "  array('d', [4131557.4503529826, 975614.6990295721, 4886980.937211231, -37847.52521133884, -36655.168531969044, -2799.1655525814085]),\n",
        "  array('d', [4392363.654484818, 1382766.5033274977, 4546877.489150075, -13281.266474699618, -44637.97405564276, -7109.5942868086895]),\n",
        "  array('d', [4252175.830234098, 1009500.0028182735, 5032564.732139537, -47473.048843344644, -5604.162916750761, -25443.960526805597]),\n",
        "  array('d', [4111162.836881387, 897908.6736456159, 5105126.926427938, 35725.07949013231, 37765.40147925204, -36498.103856551]),\n",
        "  array('d', [3983622.956815834, 1213870.3539528372, 4799676.091145502, 36388.86969358691, -17268.526277373316, 37205.83369286377]),\n",
        "  array('d', [4139971.8372196006, 1016512.8392307666, 4878466.257265631, 46676.4705063587, -27059.22270872036, 34899.258437055614]),\n",
        "  array('d', [4160864.1402466735, 966168.8561158561, 4788606.771876221, 72350.8496821695, 9109.438288143781, -6475.899231247252]),\n",
        "  array('d', [4114048.3971905434, 1081493.4647206285, 4802293.2259155875, 53012.10537204754, -11048.887105298516, 41438.647277974815]),\n",
        "  array('d', [3724602.289038632, 1267634.3555657067, 5029066.41937263, 5291.764054975239, -55783.95098821932, 13966.821618281534]),\n",
        "  array('d', [4032420.2069161925, 969767.1558797394, 4705574.490179536, 55849.990452651655, 14522.39271559401, 39793.1612369817]),\n",
        "  array('d', [3924059.6011987776, 916944.8864176024, 4839028.178580035, -49668.902720533035, -37739.99548764358, 47407.300603805896]),\n",
        "  array('d', [3937897.2191295796, 965092.9943668525, 4891880.691089211, 39169.50261555279, -43166.585301881096, 12279.404552136451]),\n",
        "  array('d', [3974802.929712916, 953179.3026014335, 4827845.618218342, 34249.27408356058, -25385.07951694555, 54893.11738447254]),\n",
        "  array('d', [3991725.855219873, 1059559.7329697416, 4779209.806761822, 42629.56578437915, -37849.71507939632, 24666.725672924244]),\n",
        "  array('d', [4464658.44346707, 1245034.10669299, 4881227.822813906, 7263.1374972594695, -56628.75546991147, 36150.53869118578]),\n",
        "  array('d', [4028558.856281109, 1029063.3601223266, 5257132.813424629, -46665.661426084494, -34422.29537598056, -25138.95490721546]),\n",
        "  array('d', [3969049.5189487436, 1017159.1509862406, 5017263.404668887, 50666.32590712313, -34430.33762258615, -25288.461620406673]),\n",
        "  array('d', [3850577.5408657338, 1151055.6128912207, 4867217.940064668, 44506.12456729986, -39919.5939922788, -20577.512391752327]),\n",
        "  array('d', [3939510.1598391146, 1301572.4681933688, 4704828.524401624, 14124.650166838888, -61070.308932804044, 38716.75274108716]),\n",
        "  array('d', [4057187.1809523995, 987763.1524686648, 5001584.058723169, 52061.16099252387, -24115.677112695048, -42419.900069904084]),\n",
        "  array('d', [3950951.5687119276, 1148476.9340013224, 4988527.676064033, 26217.28583345183, -60969.754703721694, 57054.05745627303]),\n",
        "  array('d', [3879533.935087426, 1174118.8670741955, 4898581.6303111175, 38840.62254628827, -56101.40410262817, 45555.9089541923]),\n",
        "  array('d', [3864541.7791133802, 1064464.165323836, 4876176.478032666, 34142.64560821982, -66787.9931806822, -42469.32142477236]),\n",
        "  array('d', [3847382.436754661, 1194881.4883354243, 4873313.001784664, 43406.09407323611, -56145.79528134144, -52964.673191650414])],\n",
        " [{'gen': 0, 'min': 23714064.403126307, 'nevals': 100},\n",
        "  {'gen': 1, 'min': 42322945.684578873, 'nevals': 82},\n",
        "  {'gen': 2, 'min': 55287343.089236774, 'nevals': 87},\n",
        "  {'gen': 3, 'min': 48462429.516451359, 'nevals': 89},\n",
        "  {'gen': 4, 'min': 2000010.1702272939, 'nevals': 87},\n",
        "  {'gen': 5, 'min': 2000010.1702272939, 'nevals': 83},\n",
        "  {'gen': 6, 'min': 10018479.447367916, 'nevals': 85},\n",
        "  {'gen': 7, 'min': 20824619.365559492, 'nevals': 86},\n",
        "  {'gen': 8, 'min': 20824619.365559492, 'nevals': 85},\n",
        "  {'gen': 9, 'min': 4289246.2452864824, 'nevals': 87},\n",
        "  {'gen': 10, 'min': 6933011.7925812304, 'nevals': 77}])"
       ]
      }
     ],
     "prompt_number": 240
    },
    {
     "cell_type": "code",
     "collapsed": false,
     "input": [
      "print hof"
     ],
     "language": "python",
     "metadata": {},
     "outputs": [
      {
       "output_type": "stream",
       "stream": "stdout",
       "text": [
        "[array('d', [4153208.436942277, 1179429.5690620984, 4814231.836072391, 35093.26272048812, 32218.053535814208, -13913.50436586378])]\n"
       ]
      }
     ],
     "prompt_number": 234
    },
    {
     "cell_type": "code",
     "collapsed": false,
     "input": [],
     "language": "python",
     "metadata": {},
     "outputs": [],
     "prompt_number": 169
    },
    {
     "cell_type": "code",
     "collapsed": false,
     "input": [],
     "language": "python",
     "metadata": {},
     "outputs": [],
     "prompt_number": 25
    },
    {
     "cell_type": "code",
     "collapsed": false,
     "input": [],
     "language": "python",
     "metadata": {},
     "outputs": []
    }
   ],
   "metadata": {}
  }
 ]
}