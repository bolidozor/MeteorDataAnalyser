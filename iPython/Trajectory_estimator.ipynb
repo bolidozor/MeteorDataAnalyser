{
 "metadata": {
  "name": "",
  "signature": "sha256:9334a295e8fcbc73b2e93413529b5d44c457ddeb7b80307e6a68ff5e738a45cb"
 },
 "nbformat": 3,
 "nbformat_minor": 0,
 "worksheets": [
  {
   "cells": [
    {
     "cell_type": "markdown",
     "metadata": {},
     "source": [
      "Calculation of meteor trajectory from head-echo dopplers\n",
      "=======\n",
      "\n",
      "Theory is adopted from Christian Steyaert et. al. 2010\n"
     ]
    },
    {
     "cell_type": "code",
     "collapsed": false,
     "input": [
      "TMx = (x_M \u2212 x T )\n",
      "TMy = (y M \u2212 y T )\n",
      "TMz = (z M \u2212 z T )"
     ],
     "language": "python",
     "metadata": {},
     "outputs": [
      {
       "ename": "SyntaxError",
       "evalue": "invalid syntax (<ipython-input-1-98dca8f4f72e>, line 1)",
       "output_type": "pyerr",
       "traceback": [
        "\u001b[0;36m  File \u001b[0;32m\"<ipython-input-1-98dca8f4f72e>\"\u001b[0;36m, line \u001b[0;32m1\u001b[0m\n\u001b[0;31m    TMx = (x_M \u2212 x T )\u001b[0m\n\u001b[0m               ^\u001b[0m\n\u001b[0;31mSyntaxError\u001b[0m\u001b[0;31m:\u001b[0m invalid syntax\n"
       ]
      }
     ],
     "prompt_number": 1
    },
    {
     "cell_type": "code",
     "collapsed": false,
     "input": [
      "import pylab\n",
      "f = pylab.figure()"
     ],
     "language": "python",
     "metadata": {},
     "outputs": [],
     "prompt_number": 2
    },
    {
     "cell_type": "code",
     "collapsed": false,
     "input": [
      "pylab.plot([1,2,3], [1,2,4], 'go-', label='line 1', linewidth=2)\n",
      "pylab.plot([1,2,3], [1,2,2], 'bo-', label='line 1', linewidth=2)"
     ],
     "language": "python",
     "metadata": {},
     "outputs": [
      {
       "metadata": {},
       "output_type": "pyout",
       "prompt_number": 3,
       "text": [
        "[<matplotlib.lines.Line2D at 0x7fa190159790>]"
       ]
      }
     ],
     "prompt_number": 3
    },
    {
     "cell_type": "code",
     "collapsed": false,
     "input": [
      "pylab.show()"
     ],
     "language": "python",
     "metadata": {},
     "outputs": [],
     "prompt_number": 4
    },
    {
     "cell_type": "markdown",
     "metadata": {},
     "source": [
      "Head Echo doppler function \n",
      "======="
     ]
    },
    {
     "cell_type": "markdown",
     "metadata": {},
     "source": [
      "The equation is  obtained from publication at http://adsabs.harvard.edu/abs/1998JIMO...26..117R (1998)"
     ]
    },
    {
     "cell_type": "code",
     "collapsed": false,
     "input": [
      "from sympy import symbols, sign, sqrt\n",
      "from sympy.plotting import plot\n",
      "t, f0, c, vm, r0 = symbols('t f_0 c v_m r_0')"
     ],
     "language": "python",
     "metadata": {},
     "outputs": [],
     "prompt_number": 1
    },
    {
     "cell_type": "code",
     "collapsed": false,
     "input": [
      "delta_f = - sign(t) * sqrt(((2*f0)/c)**2 * (vm**2)/(r0**2/(vm**2 * t**2) + 1) )"
     ],
     "language": "python",
     "metadata": {},
     "outputs": [],
     "prompt_number": 2
    },
    {
     "cell_type": "code",
     "collapsed": false,
     "input": [
      "delta_f.subs([(f0,55.260e6),(c,3e8),(vm,40e3),(r0,300e3), (t,1)])"
     ],
     "language": "python",
     "metadata": {},
     "outputs": [
      {
       "metadata": {},
       "output_type": "pyout",
       "prompt_number": 15,
       "text": [
        "-1947.56457926124"
       ]
      }
     ],
     "prompt_number": 15
    },
    {
     "cell_type": "code",
     "collapsed": false,
     "input": [
      "plot(delta_f.subs([(f0,55.260e6),(c,3e8),(vm,40e3),(r0,300e3)]), (t, -10, 10))"
     ],
     "language": "python",
     "metadata": {},
     "outputs": [
      {
       "metadata": {},
       "output_type": "pyout",
       "prompt_number": 16,
       "text": [
        "<sympy.plotting.plot.Plot at 0x7f1b6fb8fcd0>"
       ]
      }
     ],
     "prompt_number": 16
    },
    {
     "cell_type": "code",
     "collapsed": false,
     "input": [],
     "language": "python",
     "metadata": {},
     "outputs": [],
     "prompt_number": 8
    },
    {
     "cell_type": "heading",
     "level": 2,
     "metadata": {},
     "source": [
      "Artificial meteor generator"
     ]
    },
    {
     "cell_type": "code",
     "collapsed": false,
     "input": [
      "%pylab inline\n",
      "matplotlib.use('Agg')\n",
      "\n",
      "from mpl_toolkits.mplot3d.axes3d import Axes3D\n",
      "import matplotlib.pyplot as plt\n",
      "import numpy as np\n",
      "import scipy\n",
      "from scipy.optimize import minimize\n",
      "from scipy.interpolate import interp1d\n",
      "from Geocentric import Geocentric\n",
      "geoC = Geocentric(6378137, 6356752.314)"
     ],
     "language": "python",
     "metadata": {},
     "outputs": [
      {
       "output_type": "stream",
       "stream": "stdout",
       "text": [
        "Populating the interactive namespace from numpy and matplotlib\n"
       ]
      },
      {
       "output_type": "stream",
       "stream": "stderr",
       "text": [
        "/usr/lib/python2.7/dist-packages/matplotlib/__init__.py:1314: UserWarning:  This call to matplotlib.use() has no effect\n",
        "because the backend has already been chosen;\n",
        "matplotlib.use() must be called *before* pylab, matplotlib.pyplot,\n",
        "or matplotlib.backends is imported for the first time.\n",
        "\n",
        "  warnings.warn(_use_error_msg)\n"
       ]
      }
     ],
     "prompt_number": 1
    },
    {
     "cell_type": "code",
     "collapsed": false,
     "input": [
      "from IPython import parallel\n",
      "clients = parallel.Client()\n",
      "view = clients.load_balanced_view()\n",
      "view.block = False"
     ],
     "language": "python",
     "metadata": {},
     "outputs": [],
     "prompt_number": 2
    },
    {
     "cell_type": "markdown",
     "metadata": {},
     "source": [
      "Pallalel execute on all available engines"
     ]
    },
    {
     "cell_type": "code",
     "collapsed": false,
     "input": [
      "\n",
      "import scipy.constants\n",
      "import numpy as np\n",
      "from scipy.optimize import minimize #,  differential_evolution\n",
      "from Geocentric import Geocentric\n",
      "geoC = Geocentric(6378137, 6356752.314)"
     ],
     "language": "python",
     "metadata": {},
     "outputs": [],
     "prompt_number": 25
    },
    {
     "cell_type": "markdown",
     "metadata": {},
     "source": [
      "Generate Artificial meteor for algorithm testing"
     ]
    },
    {
     "cell_type": "code",
     "collapsed": false,
     "input": [
      "c = scipy.constants.c\n",
      "f0 = 143050000\n",
      "trans_station_point = np.array(geoC.GeographicToGeocentric(47.347993, 5.515079, 190))\n",
      "t = 0.07"
     ],
     "language": "python",
     "metadata": {},
     "outputs": [],
     "prompt_number": 26
    },
    {
     "cell_type": "code",
     "collapsed": false,
     "input": [
      "#Artificial meteors coordinates:\n",
      "\n",
      "ZHR = 1\n",
      "\n",
      "met_start_altitude = np.random.normal(100e3,20e3,ZHR)\n",
      "met_stop_altitude = np.random.normal(60e3,20e3,ZHR)\n",
      "\n",
      "met_start_lat = np.random.normal(50,2,ZHR)  \n",
      "met_start_lon = np.random.normal(14,2,ZHR)\n",
      "\n",
      "met_stop_lat = np.random.normal(50,2,ZHR) \n",
      "met_stop_lon = np.random.normal(14,2,ZHR)\n",
      "\n",
      "met_velocity = np.random.normal(50000,20000,ZHR)\n",
      "timesteps = np.arange(-10,10,t)\n"
     ],
     "language": "python",
     "metadata": {},
     "outputs": [],
     "prompt_number": 27
    },
    {
     "cell_type": "code",
     "collapsed": false,
     "input": [
      "def estimate_dopplers(trajectory, timesteps, f0, trans_station, rec_station):\n",
      "    '''\n",
      "        Returns array of dopplers for given transmitter to receiver position and defined frequency and known trajectory.\n",
      "    '''\n",
      "    rec_to_met = np.empty([trajectory.shape[0], 1])\n",
      "    trans_to_met = np.empty([trajectory.shape[0], 1])\n",
      "    doppler = np.empty([trajectory.shape[0], 2])\n",
      "    \n",
      "    previous_rec_to_met = np.linalg.norm(rec_station - trajectory[0])\n",
      "    previous_trans_to_met = np.linalg.norm(trans_station - trajectory[0])\n",
      "    \n",
      "    t = timesteps[1] - timesteps[0]\n",
      "    \n",
      "    for i in range(trajectory.shape[0]):\n",
      "        rec_to_met[i] = np.linalg.norm(rec_station - trajectory[i])\n",
      "        trans_to_met[i] = np.linalg.norm(trans_station - trajectory[i])\n",
      "    \n",
      "        met_trans_speed = previous_trans_to_met - trans_to_met[i]\n",
      "        previous_trans_to_met = trans_to_met[i]\n",
      "        speed = met_trans_speed/t    \n",
      "        f1 = ((c + speed)/c * f0)\n",
      "        \n",
      "        met_rec_speed = previous_rec_to_met - rec_to_met[i]    ## calculate bistatic velocity from known position\n",
      "        previous_rec_to_met = rec_to_met[i]\n",
      "        speed = met_rec_speed/t\n",
      "        f2 = (c/(c - speed) * f1)\n",
      "        doppler[i] = np.array([timesteps[i], f2-f0])\n",
      "    return doppler"
     ],
     "language": "python",
     "metadata": {},
     "outputs": [],
     "prompt_number": 28
    },
    {
     "cell_type": "code",
     "collapsed": false,
     "input": [
      "def error_func(est_params, timesteps, stations):\n",
      "    \"\"\"\n",
      "    Returns difference between real and estimated meteor trajectory dopplers\n",
      "    \"\"\"\n",
      "    from Geocentric import Geocentric\n",
      "    geoC = Geocentric(6378137, 6356752.314)\n",
      "    \n",
      "    est_start_point = est_params[0:3]\n",
      "    est_vect = est_params[3:6]\n",
      "    est_points = np.empty([timesteps.size, 3])\n",
      "    \n",
      "    for i in range(timesteps.size):  # generate points of estimated meteor trajectory\n",
      "        est_points[i] =  est_start_point + (est_vect * timesteps[i])\n",
      "\n",
      "    doppler_deviations = {}\n",
      "    for station in stations:\n",
      "        doppler_deviation = np.zeros_like(station['doppler'])\n",
      "        rec_station_point = np.array(geoC.GeographicToGeocentric(station['latitude'], station['longitude'], station['elevation']))\n",
      "        est_doppler = estimate_dopplers(est_points, timesteps, f0, trans_station_point, rec_station_point)\n",
      "        est_doppler_function = interp1d(est_doppler[1:,0], est_doppler[1:,1])\n",
      "\n",
      "        for i in range(station['doppler'].shape[0]):  \n",
      "            doppler_deviation[i] = station['doppler'][:,0][i], (station['doppler'][:,1][i] - est_doppler_function(station['doppler'][:,0][i]))**2\n",
      "        \n",
      "        doppler_deviations[station['name']] = doppler_deviation\n",
      "        \n",
      "    return doppler_deviations\n"
     ],
     "language": "python",
     "metadata": {},
     "outputs": [],
     "prompt_number": 29
    },
    {
     "cell_type": "code",
     "collapsed": false,
     "input": [
      "def station_errors(met_params, timesteps, stations):\n",
      "    \"\"\"\n",
      "    Calculate total error value of estimated meteor params to every station signal. \n",
      "    \"\"\"    \n",
      "    doppler_errors = error_func(met_params, timesteps, stations)\n",
      "    total_deviation = []\n",
      "    for station in doppler_errors:\n",
      "        total_deviation.append(np.sum(doppler_errors[station][:,1]))\n",
      "    return total_deviation"
     ],
     "language": "python",
     "metadata": {},
     "outputs": [],
     "prompt_number": 30
    },
    {
     "cell_type": "code",
     "collapsed": false,
     "input": [
      "def total_error(met_params, timesteps, stations):\n",
      "    \"\"\"\n",
      "    Calculate total error value of estimated meteor params to every station signal. \n",
      "    \"\"\"    \n",
      "    doppler_errors = error_func(met_params, timesteps, stations)\n",
      "    total_deviation = 0\n",
      "    for station in doppler_errors:\n",
      "        total_deviation += np.sum(doppler_errors[station][:,1])\n",
      "    return total_deviation"
     ],
     "language": "python",
     "metadata": {},
     "outputs": [],
     "prompt_number": 31
    },
    {
     "cell_type": "markdown",
     "metadata": {},
     "source": [
      "Define Bolidozor network station. List may be updated from space.astro.cz server according to stored data."
     ]
    },
    {
     "cell_type": "code",
     "collapsed": false,
     "input": [
      "stations = []\n",
      "stations.append({'name': 'Zebrak','latitude':49.8736, 'longitude':13.8986,'elevation':400, 'status': 'operational', 'type': 'receiver'})\n",
      "stations.append({'name': 'uFlu','latitude':50.0795, 'longitude':14.4891,'elevation':400, 'status': 'operational', 'type': 'receiver'})\n",
      "stations.append({'name': 'OBSUPICE','latitude':50.5067,'longitude':16.0115,'elevation':400, 'status': 'operational', 'type': 'receiver'})\n",
      "stations.append({'name': 'SVAKOV','latitude':49.2607,'longitude':14.6917,'elevation':400, 'status': 'operational', 'type': 'receiver'})\n",
      "stations.append({'name': 'ZVPP','latitude':48.9869,'longitude':14.4675,'elevation':400, 'status': 'operational', 'type': 'receiver'})\n",
      "stations.append({'name': 'BPB','latitude':48.653153,'longitude':17.537413,'elevation':400, 'status': 'testing', 'type': 'receiver'})\n",
      "stations.append({'name': 'HPHK','latitude':50.1772,'longitude':15.8386,'elevation':400, 'status': 'testing', 'type': 'receiver'})\n",
      "stations.append({'name': 'OBSJAROMER','latitude':50.351397,'longitude':15.915878,'elevation':400, 'status': 'testing', 'type': 'receiver'})\n",
      "stations.append({'name': 'JHRADEC','latitude':49.1314,'longitude': 14.9999,'elevation':400, 'status': 'testing', 'type': 'receiver'})\n",
      "stations.append({'name': 'VALMEZ','latitude':49.463038,'longitude': 17.973544,'elevation':400, 'status': 'testing', 'type': 'receiver'})\n",
      "stations.append({'name': 'NACHODSKO','latitude':50.409407,'longitude':15.414812,'elevation':400, 'status': 'operational', 'type': 'receiver'})\n"
     ],
     "language": "python",
     "metadata": {},
     "outputs": [],
     "prompt_number": 32
    },
    {
     "cell_type": "code",
     "collapsed": false,
     "input": [
      "# compute dopplers for multiple stations\n",
      "\n",
      "from Geocentric import Geocentric\n",
      "geoC = Geocentric(6378137, 6356752.314)\n",
      "\n",
      "#%matplotlib\n",
      "#fig, ax1 = plt.subplots(figsize=(9, 7))\n",
      "#ax1.set_title('Meteor Dopplers at multiple Bolidozor stations')\n",
      "#ax1.set_ylabel('Doppler [Hz]')\n",
      "#ax1.set_xlabel('Time [s]')\n",
      "#grid(True)\n",
      "\n",
      "meteor_dopplers = [1,2]\n",
      "met_points = np.empty([timesteps.size, 3])\n",
      "\n",
      "for meteor in range(ZHR):\n",
      "    \n",
      "    # get meteor vector from start and stop point\n",
      "    met_start_point = np.array(geoC.GeographicToGeocentric(met_start_lat[meteor], met_start_lon[meteor], met_start_altitude[meteor]))\n",
      "    met_stop_point = np.array(geoC.GeographicToGeocentric(met_stop_lat[meteor], met_stop_lon[meteor], met_stop_altitude[meteor]))\n",
      "    met_vect = met_start_point - met_stop_point\n",
      "\n",
      "    for i in range(timesteps.size):  # generate points on artifitial meteor trajectory (discretize in space)\n",
      "        met_points[i] =  met_start_point + (met_vect/np.linalg.norm(met_vect) * (timesteps[i] * met_velocity[meteor]))\n",
      "    \n",
      "    for station in stations:\n",
      "        rec_station_point = np.array(geoC.GeographicToGeocentric(station['latitude'], station['longitude'], station['elevation']))\n",
      "        \n",
      "        doppler = estimate_dopplers(met_points, timesteps, f0, trans_station_point, rec_station_point)\n",
      "            \n",
      "        meteor_dopplers[meteor] = doppler\n",
      "#        plt.plot(doppler[1:,0], doppler[1:,1], label=station['name'] if meteor == 0 else \"\")\n",
      "    \n",
      "#    plt.legend(loc=1)"
     ],
     "language": "python",
     "metadata": {},
     "outputs": [],
     "prompt_number": 33
    },
    {
     "cell_type": "code",
     "collapsed": false,
     "input": [],
     "language": "python",
     "metadata": {},
     "outputs": [],
     "prompt_number": 11
    },
    {
     "cell_type": "markdown",
     "metadata": {},
     "source": [
      "Plot artifitial meteor trajectory points"
     ]
    },
    {
     "cell_type": "code",
     "collapsed": false,
     "input": [
      "%matplotlib\n",
      "fig = plt.figure()\n",
      "ax = plt.axes(projection='3d')\n",
      "ax.scatter(met_points[:,0], met_points[:,1], met_points[:,2])"
     ],
     "language": "python",
     "metadata": {},
     "outputs": [
      {
       "output_type": "stream",
       "stream": "stdout",
       "text": [
        "Using matplotlib backend: TkAgg\n"
       ]
      },
      {
       "ename": "TclError",
       "evalue": "no display name and no $DISPLAY environment variable",
       "output_type": "pyerr",
       "traceback": [
        "\u001b[0;31m---------------------------------------------------------------------------\u001b[0m\n\u001b[0;31mTclError\u001b[0m                                  Traceback (most recent call last)",
        "\u001b[0;32m<ipython-input-12-215e67e93bef>\u001b[0m in \u001b[0;36m<module>\u001b[0;34m()\u001b[0m\n\u001b[1;32m      1\u001b[0m \u001b[0mget_ipython\u001b[0m\u001b[0;34m(\u001b[0m\u001b[0;34m)\u001b[0m\u001b[0;34m.\u001b[0m\u001b[0mmagic\u001b[0m\u001b[0;34m(\u001b[0m\u001b[0;34mu'matplotlib'\u001b[0m\u001b[0;34m)\u001b[0m\u001b[0;34m\u001b[0m\u001b[0m\n\u001b[0;32m----> 2\u001b[0;31m \u001b[0mfig\u001b[0m \u001b[0;34m=\u001b[0m \u001b[0mplt\u001b[0m\u001b[0;34m.\u001b[0m\u001b[0mfigure\u001b[0m\u001b[0;34m(\u001b[0m\u001b[0;34m)\u001b[0m\u001b[0;34m\u001b[0m\u001b[0m\n\u001b[0m\u001b[1;32m      3\u001b[0m \u001b[0max\u001b[0m \u001b[0;34m=\u001b[0m \u001b[0mplt\u001b[0m\u001b[0;34m.\u001b[0m\u001b[0maxes\u001b[0m\u001b[0;34m(\u001b[0m\u001b[0mprojection\u001b[0m\u001b[0;34m=\u001b[0m\u001b[0;34m'3d'\u001b[0m\u001b[0;34m)\u001b[0m\u001b[0;34m\u001b[0m\u001b[0m\n\u001b[1;32m      4\u001b[0m \u001b[0max\u001b[0m\u001b[0;34m.\u001b[0m\u001b[0mscatter\u001b[0m\u001b[0;34m(\u001b[0m\u001b[0mmet_points\u001b[0m\u001b[0;34m[\u001b[0m\u001b[0;34m:\u001b[0m\u001b[0;34m,\u001b[0m\u001b[0;36m0\u001b[0m\u001b[0;34m]\u001b[0m\u001b[0;34m,\u001b[0m \u001b[0mmet_points\u001b[0m\u001b[0;34m[\u001b[0m\u001b[0;34m:\u001b[0m\u001b[0;34m,\u001b[0m\u001b[0;36m1\u001b[0m\u001b[0;34m]\u001b[0m\u001b[0;34m,\u001b[0m \u001b[0mmet_points\u001b[0m\u001b[0;34m[\u001b[0m\u001b[0;34m:\u001b[0m\u001b[0;34m,\u001b[0m\u001b[0;36m2\u001b[0m\u001b[0;34m]\u001b[0m\u001b[0;34m)\u001b[0m\u001b[0;34m\u001b[0m\u001b[0m\n",
        "\u001b[0;32m/usr/lib/python2.7/dist-packages/matplotlib/pyplot.pyc\u001b[0m in \u001b[0;36mfigure\u001b[0;34m(num, figsize, dpi, facecolor, edgecolor, frameon, FigureClass, **kwargs)\u001b[0m\n\u001b[1;32m    433\u001b[0m                                         \u001b[0mframeon\u001b[0m\u001b[0;34m=\u001b[0m\u001b[0mframeon\u001b[0m\u001b[0;34m,\u001b[0m\u001b[0;34m\u001b[0m\u001b[0m\n\u001b[1;32m    434\u001b[0m                                         \u001b[0mFigureClass\u001b[0m\u001b[0;34m=\u001b[0m\u001b[0mFigureClass\u001b[0m\u001b[0;34m,\u001b[0m\u001b[0;34m\u001b[0m\u001b[0m\n\u001b[0;32m--> 435\u001b[0;31m                                         **kwargs)\n\u001b[0m\u001b[1;32m    436\u001b[0m \u001b[0;34m\u001b[0m\u001b[0m\n\u001b[1;32m    437\u001b[0m         \u001b[0;32mif\u001b[0m \u001b[0mfigLabel\u001b[0m\u001b[0;34m:\u001b[0m\u001b[0;34m\u001b[0m\u001b[0m\n",
        "\u001b[0;32m/usr/lib/python2.7/dist-packages/matplotlib/backends/backend_tkagg.pyc\u001b[0m in \u001b[0;36mnew_figure_manager\u001b[0;34m(num, *args, **kwargs)\u001b[0m\n\u001b[1;32m     79\u001b[0m     \u001b[0mFigureClass\u001b[0m \u001b[0;34m=\u001b[0m \u001b[0mkwargs\u001b[0m\u001b[0;34m.\u001b[0m\u001b[0mpop\u001b[0m\u001b[0;34m(\u001b[0m\u001b[0;34m'FigureClass'\u001b[0m\u001b[0;34m,\u001b[0m \u001b[0mFigure\u001b[0m\u001b[0;34m)\u001b[0m\u001b[0;34m\u001b[0m\u001b[0m\n\u001b[1;32m     80\u001b[0m     \u001b[0mfigure\u001b[0m \u001b[0;34m=\u001b[0m \u001b[0mFigureClass\u001b[0m\u001b[0;34m(\u001b[0m\u001b[0;34m*\u001b[0m\u001b[0margs\u001b[0m\u001b[0;34m,\u001b[0m \u001b[0;34m**\u001b[0m\u001b[0mkwargs\u001b[0m\u001b[0;34m)\u001b[0m\u001b[0;34m\u001b[0m\u001b[0m\n\u001b[0;32m---> 81\u001b[0;31m     \u001b[0;32mreturn\u001b[0m \u001b[0mnew_figure_manager_given_figure\u001b[0m\u001b[0;34m(\u001b[0m\u001b[0mnum\u001b[0m\u001b[0;34m,\u001b[0m \u001b[0mfigure\u001b[0m\u001b[0;34m)\u001b[0m\u001b[0;34m\u001b[0m\u001b[0m\n\u001b[0m\u001b[1;32m     82\u001b[0m \u001b[0;34m\u001b[0m\u001b[0m\n\u001b[1;32m     83\u001b[0m \u001b[0;34m\u001b[0m\u001b[0m\n",
        "\u001b[0;32m/usr/lib/python2.7/dist-packages/matplotlib/backends/backend_tkagg.pyc\u001b[0m in \u001b[0;36mnew_figure_manager_given_figure\u001b[0;34m(num, figure)\u001b[0m\n\u001b[1;32m     87\u001b[0m     \"\"\"\n\u001b[1;32m     88\u001b[0m     \u001b[0m_focus\u001b[0m \u001b[0;34m=\u001b[0m \u001b[0mwindowing\u001b[0m\u001b[0;34m.\u001b[0m\u001b[0mFocusManager\u001b[0m\u001b[0;34m(\u001b[0m\u001b[0;34m)\u001b[0m\u001b[0;34m\u001b[0m\u001b[0m\n\u001b[0;32m---> 89\u001b[0;31m     \u001b[0mwindow\u001b[0m \u001b[0;34m=\u001b[0m \u001b[0mTk\u001b[0m\u001b[0;34m.\u001b[0m\u001b[0mTk\u001b[0m\u001b[0;34m(\u001b[0m\u001b[0;34m)\u001b[0m\u001b[0;34m\u001b[0m\u001b[0m\n\u001b[0m\u001b[1;32m     90\u001b[0m     \u001b[0mwindow\u001b[0m\u001b[0;34m.\u001b[0m\u001b[0mwithdraw\u001b[0m\u001b[0;34m(\u001b[0m\u001b[0;34m)\u001b[0m\u001b[0;34m\u001b[0m\u001b[0m\n\u001b[1;32m     91\u001b[0m \u001b[0;34m\u001b[0m\u001b[0m\n",
        "\u001b[0;32m/usr/lib/python2.7/lib-tk/Tkinter.pyc\u001b[0m in \u001b[0;36m__init__\u001b[0;34m(self, screenName, baseName, className, useTk, sync, use)\u001b[0m\n\u001b[1;32m   1815\u001b[0m                 \u001b[0mbaseName\u001b[0m \u001b[0;34m=\u001b[0m \u001b[0mbaseName\u001b[0m \u001b[0;34m+\u001b[0m \u001b[0mext\u001b[0m\u001b[0;34m\u001b[0m\u001b[0m\n\u001b[1;32m   1816\u001b[0m         \u001b[0minteractive\u001b[0m \u001b[0;34m=\u001b[0m \u001b[0;36m0\u001b[0m\u001b[0;34m\u001b[0m\u001b[0m\n\u001b[0;32m-> 1817\u001b[0;31m         \u001b[0mself\u001b[0m\u001b[0;34m.\u001b[0m\u001b[0mtk\u001b[0m \u001b[0;34m=\u001b[0m \u001b[0m_tkinter\u001b[0m\u001b[0;34m.\u001b[0m\u001b[0mcreate\u001b[0m\u001b[0;34m(\u001b[0m\u001b[0mscreenName\u001b[0m\u001b[0;34m,\u001b[0m \u001b[0mbaseName\u001b[0m\u001b[0;34m,\u001b[0m \u001b[0mclassName\u001b[0m\u001b[0;34m,\u001b[0m \u001b[0minteractive\u001b[0m\u001b[0;34m,\u001b[0m \u001b[0mwantobjects\u001b[0m\u001b[0;34m,\u001b[0m \u001b[0museTk\u001b[0m\u001b[0;34m,\u001b[0m \u001b[0msync\u001b[0m\u001b[0;34m,\u001b[0m \u001b[0muse\u001b[0m\u001b[0;34m)\u001b[0m\u001b[0;34m\u001b[0m\u001b[0m\n\u001b[0m\u001b[1;32m   1818\u001b[0m         \u001b[0;32mif\u001b[0m \u001b[0museTk\u001b[0m\u001b[0;34m:\u001b[0m\u001b[0;34m\u001b[0m\u001b[0m\n\u001b[1;32m   1819\u001b[0m             \u001b[0mself\u001b[0m\u001b[0;34m.\u001b[0m\u001b[0m_loadtk\u001b[0m\u001b[0;34m(\u001b[0m\u001b[0;34m)\u001b[0m\u001b[0;34m\u001b[0m\u001b[0m\n",
        "\u001b[0;31mTclError\u001b[0m: no display name and no $DISPLAY environment variable"
       ]
      }
     ],
     "prompt_number": 12
    },
    {
     "cell_type": "markdown",
     "metadata": {},
     "source": [
      "Compute difference between of estimated trajectory dopplers and \"real\" simulated trajectory."
     ]
    },
    {
     "cell_type": "code",
     "collapsed": false,
     "input": [
      "meteor_data = doppler[1:,0]\n",
      "\n",
      "doppler_min = -6000.0\n",
      "doppler_max = 10000.0\n",
      "\n",
      "for station in stations:\n",
      "    rec_station_point = np.array(geoC.GeographicToGeocentric(station['latitude'], station['longitude'], station['elevation']))\n",
      "    dopplers = estimate_dopplers(met_points, timesteps, f0, trans_station_point, rec_station_point)\n",
      "    indexes = np.where(np.logical_and(dopplers[1:,1] > doppler_min, dopplers[1:,1] < doppler_max ))\n",
      "    station['doppler'] = np.concatenate((np.take(dopplers[1:,0], indexes), np.take(dopplers[1:,1], indexes)), axis = 0).T"
     ],
     "language": "python",
     "metadata": {},
     "outputs": [],
     "prompt_number": 35
    },
    {
     "cell_type": "code",
     "collapsed": false,
     "input": [],
     "language": "python",
     "metadata": {},
     "outputs": [],
     "prompt_number": 15
    },
    {
     "cell_type": "code",
     "collapsed": false,
     "input": [
      "## initial meteor trajectory guess \n",
      "est_start_altitude = np.random.normal(100e3,20e3,ZHR)\n",
      "est_stop_altitude = np.random.normal(60e3,20e3,ZHR)\n",
      "\n",
      "est_start_lat = np.random.normal(50,2,ZHR)  \n",
      "est_start_lon = np.random.normal(14,2,ZHR)\n",
      "\n",
      "est_stop_lat = np.random.normal(50,2,ZHR) \n",
      "est_stop_lon = np.random.normal(14,2,ZHR)\n",
      "\n",
      "est_velocity = np.random.normal(50000,20000,ZHR)"
     ],
     "language": "python",
     "metadata": {},
     "outputs": [],
     "prompt_number": 36
    },
    {
     "cell_type": "code",
     "collapsed": false,
     "input": [
      "%matplotlib\n",
      "fig, ax1 = plt.subplots(figsize=(9, 7))\n",
      "ax1.set_title('Errors of estimated trajectory dopplers over all Bolidozor stations data')\n",
      "ax1.set_ylabel('Doppler [Hz]')\n",
      "ax1.set_xlabel('Time [s]')\n",
      "\n",
      "meteor_dopplers = [1,2]\n",
      "\n",
      "met_points = np.empty([timesteps.size, 3])\n",
      "\n",
      "\n",
      "for meteor in range(ZHR):\n",
      "    \n",
      "    # get meteor vector from start and stop point\n",
      "    est_start_point = np.array(geoC.GeographicToGeocentric(est_start_lat[meteor], est_start_lon[meteor], est_start_altitude[meteor]))\n",
      "    est_stop_point = np.array(geoC.GeographicToGeocentric(est_stop_lat[meteor], est_stop_lon[meteor], est_stop_altitude[meteor]))\n",
      "    est_vect = est_start_point - est_stop_point\n",
      "    est_speed_vect = est_vect/np.linalg.norm(est_vect) * est_velocity[meteor]\n",
      "    \n",
      "    # get meteor vector from start and stop point\n",
      "    met_start_point = np.array(geoC.GeographicToGeocentric(met_start_lat[meteor], met_start_lon[meteor], met_start_altitude[meteor]))\n",
      "    met_stop_point = np.array(geoC.GeographicToGeocentric(met_stop_lat[meteor], met_stop_lon[meteor], met_stop_altitude[meteor]))\n",
      "    met_vect = met_start_point - met_stop_point\n",
      "    met_speed_vect = met_vect/np.linalg.norm(met_vect) * met_velocity[meteor]\n",
      "    \n",
      "    for i in range(timesteps.size):  # generate points on meteor trajectory (discretize in space)\n",
      "        met_points[i] =  met_start_point + (met_vect * timesteps[i])\n",
      "\n",
      "    est_params = np.concatenate((est_start_point, est_speed_vect), axis=1)\n",
      "    \n",
      "    doppler_deviations = error_func(est_params, timesteps, stations)\n",
      "    \n",
      "    for station in doppler_deviations:\n",
      "        plt.plot(doppler_deviations[station][:,0], doppler_deviations[station][:,1] , label=station if meteor == 0 else \"\")\n",
      "    plt.legend(loc=1)"
     ],
     "language": "python",
     "metadata": {},
     "outputs": [
      {
       "output_type": "stream",
       "stream": "stdout",
       "text": [
        "Using matplotlib backend: TkAgg\n"
       ]
      },
      {
       "ename": "TclError",
       "evalue": "no display name and no $DISPLAY environment variable",
       "output_type": "pyerr",
       "traceback": [
        "\u001b[0;31m---------------------------------------------------------------------------\u001b[0m\n\u001b[0;31mTclError\u001b[0m                                  Traceback (most recent call last)",
        "\u001b[0;32m<ipython-input-17-84bc0a959778>\u001b[0m in \u001b[0;36m<module>\u001b[0;34m()\u001b[0m\n\u001b[1;32m      1\u001b[0m \u001b[0mget_ipython\u001b[0m\u001b[0;34m(\u001b[0m\u001b[0;34m)\u001b[0m\u001b[0;34m.\u001b[0m\u001b[0mmagic\u001b[0m\u001b[0;34m(\u001b[0m\u001b[0;34mu'matplotlib'\u001b[0m\u001b[0;34m)\u001b[0m\u001b[0;34m\u001b[0m\u001b[0m\n\u001b[0;32m----> 2\u001b[0;31m \u001b[0mfig\u001b[0m\u001b[0;34m,\u001b[0m \u001b[0max1\u001b[0m \u001b[0;34m=\u001b[0m \u001b[0mplt\u001b[0m\u001b[0;34m.\u001b[0m\u001b[0msubplots\u001b[0m\u001b[0;34m(\u001b[0m\u001b[0mfigsize\u001b[0m\u001b[0;34m=\u001b[0m\u001b[0;34m(\u001b[0m\u001b[0;36m9\u001b[0m\u001b[0;34m,\u001b[0m \u001b[0;36m7\u001b[0m\u001b[0;34m)\u001b[0m\u001b[0;34m)\u001b[0m\u001b[0;34m\u001b[0m\u001b[0m\n\u001b[0m\u001b[1;32m      3\u001b[0m \u001b[0max1\u001b[0m\u001b[0;34m.\u001b[0m\u001b[0mset_title\u001b[0m\u001b[0;34m(\u001b[0m\u001b[0;34m'Errors of estimated trajectory dopplers over all Bolidozor stations data'\u001b[0m\u001b[0;34m)\u001b[0m\u001b[0;34m\u001b[0m\u001b[0m\n\u001b[1;32m      4\u001b[0m \u001b[0max1\u001b[0m\u001b[0;34m.\u001b[0m\u001b[0mset_ylabel\u001b[0m\u001b[0;34m(\u001b[0m\u001b[0;34m'Doppler [Hz]'\u001b[0m\u001b[0;34m)\u001b[0m\u001b[0;34m\u001b[0m\u001b[0m\n\u001b[1;32m      5\u001b[0m \u001b[0max1\u001b[0m\u001b[0;34m.\u001b[0m\u001b[0mset_xlabel\u001b[0m\u001b[0;34m(\u001b[0m\u001b[0;34m'Time [s]'\u001b[0m\u001b[0;34m)\u001b[0m\u001b[0;34m\u001b[0m\u001b[0m\n",
        "\u001b[0;32m/usr/lib/python2.7/dist-packages/matplotlib/pyplot.pyc\u001b[0m in \u001b[0;36msubplots\u001b[0;34m(nrows, ncols, sharex, sharey, squeeze, subplot_kw, gridspec_kw, **fig_kw)\u001b[0m\n\u001b[1;32m   1076\u001b[0m         \u001b[0mgridspec_kw\u001b[0m \u001b[0;34m=\u001b[0m \u001b[0;34m{\u001b[0m\u001b[0;34m}\u001b[0m\u001b[0;34m\u001b[0m\u001b[0m\n\u001b[1;32m   1077\u001b[0m \u001b[0;34m\u001b[0m\u001b[0m\n\u001b[0;32m-> 1078\u001b[0;31m     \u001b[0mfig\u001b[0m \u001b[0;34m=\u001b[0m \u001b[0mfigure\u001b[0m\u001b[0;34m(\u001b[0m\u001b[0;34m**\u001b[0m\u001b[0mfig_kw\u001b[0m\u001b[0;34m)\u001b[0m\u001b[0;34m\u001b[0m\u001b[0m\n\u001b[0m\u001b[1;32m   1079\u001b[0m     \u001b[0mgs\u001b[0m \u001b[0;34m=\u001b[0m \u001b[0mGridSpec\u001b[0m\u001b[0;34m(\u001b[0m\u001b[0mnrows\u001b[0m\u001b[0;34m,\u001b[0m \u001b[0mncols\u001b[0m\u001b[0;34m,\u001b[0m \u001b[0;34m**\u001b[0m\u001b[0mgridspec_kw\u001b[0m\u001b[0;34m)\u001b[0m\u001b[0;34m\u001b[0m\u001b[0m\n\u001b[1;32m   1080\u001b[0m \u001b[0;34m\u001b[0m\u001b[0m\n",
        "\u001b[0;32m/usr/lib/python2.7/dist-packages/matplotlib/pyplot.pyc\u001b[0m in \u001b[0;36mfigure\u001b[0;34m(num, figsize, dpi, facecolor, edgecolor, frameon, FigureClass, **kwargs)\u001b[0m\n\u001b[1;32m    433\u001b[0m                                         \u001b[0mframeon\u001b[0m\u001b[0;34m=\u001b[0m\u001b[0mframeon\u001b[0m\u001b[0;34m,\u001b[0m\u001b[0;34m\u001b[0m\u001b[0m\n\u001b[1;32m    434\u001b[0m                                         \u001b[0mFigureClass\u001b[0m\u001b[0;34m=\u001b[0m\u001b[0mFigureClass\u001b[0m\u001b[0;34m,\u001b[0m\u001b[0;34m\u001b[0m\u001b[0m\n\u001b[0;32m--> 435\u001b[0;31m                                         **kwargs)\n\u001b[0m\u001b[1;32m    436\u001b[0m \u001b[0;34m\u001b[0m\u001b[0m\n\u001b[1;32m    437\u001b[0m         \u001b[0;32mif\u001b[0m \u001b[0mfigLabel\u001b[0m\u001b[0;34m:\u001b[0m\u001b[0;34m\u001b[0m\u001b[0m\n",
        "\u001b[0;32m/usr/lib/python2.7/dist-packages/matplotlib/backends/backend_tkagg.pyc\u001b[0m in \u001b[0;36mnew_figure_manager\u001b[0;34m(num, *args, **kwargs)\u001b[0m\n\u001b[1;32m     79\u001b[0m     \u001b[0mFigureClass\u001b[0m \u001b[0;34m=\u001b[0m \u001b[0mkwargs\u001b[0m\u001b[0;34m.\u001b[0m\u001b[0mpop\u001b[0m\u001b[0;34m(\u001b[0m\u001b[0;34m'FigureClass'\u001b[0m\u001b[0;34m,\u001b[0m \u001b[0mFigure\u001b[0m\u001b[0;34m)\u001b[0m\u001b[0;34m\u001b[0m\u001b[0m\n\u001b[1;32m     80\u001b[0m     \u001b[0mfigure\u001b[0m \u001b[0;34m=\u001b[0m \u001b[0mFigureClass\u001b[0m\u001b[0;34m(\u001b[0m\u001b[0;34m*\u001b[0m\u001b[0margs\u001b[0m\u001b[0;34m,\u001b[0m \u001b[0;34m**\u001b[0m\u001b[0mkwargs\u001b[0m\u001b[0;34m)\u001b[0m\u001b[0;34m\u001b[0m\u001b[0m\n\u001b[0;32m---> 81\u001b[0;31m     \u001b[0;32mreturn\u001b[0m \u001b[0mnew_figure_manager_given_figure\u001b[0m\u001b[0;34m(\u001b[0m\u001b[0mnum\u001b[0m\u001b[0;34m,\u001b[0m \u001b[0mfigure\u001b[0m\u001b[0;34m)\u001b[0m\u001b[0;34m\u001b[0m\u001b[0m\n\u001b[0m\u001b[1;32m     82\u001b[0m \u001b[0;34m\u001b[0m\u001b[0m\n\u001b[1;32m     83\u001b[0m \u001b[0;34m\u001b[0m\u001b[0m\n",
        "\u001b[0;32m/usr/lib/python2.7/dist-packages/matplotlib/backends/backend_tkagg.pyc\u001b[0m in \u001b[0;36mnew_figure_manager_given_figure\u001b[0;34m(num, figure)\u001b[0m\n\u001b[1;32m     87\u001b[0m     \"\"\"\n\u001b[1;32m     88\u001b[0m     \u001b[0m_focus\u001b[0m \u001b[0;34m=\u001b[0m \u001b[0mwindowing\u001b[0m\u001b[0;34m.\u001b[0m\u001b[0mFocusManager\u001b[0m\u001b[0;34m(\u001b[0m\u001b[0;34m)\u001b[0m\u001b[0;34m\u001b[0m\u001b[0m\n\u001b[0;32m---> 89\u001b[0;31m     \u001b[0mwindow\u001b[0m \u001b[0;34m=\u001b[0m \u001b[0mTk\u001b[0m\u001b[0;34m.\u001b[0m\u001b[0mTk\u001b[0m\u001b[0;34m(\u001b[0m\u001b[0;34m)\u001b[0m\u001b[0;34m\u001b[0m\u001b[0m\n\u001b[0m\u001b[1;32m     90\u001b[0m     \u001b[0mwindow\u001b[0m\u001b[0;34m.\u001b[0m\u001b[0mwithdraw\u001b[0m\u001b[0;34m(\u001b[0m\u001b[0;34m)\u001b[0m\u001b[0;34m\u001b[0m\u001b[0m\n\u001b[1;32m     91\u001b[0m \u001b[0;34m\u001b[0m\u001b[0m\n",
        "\u001b[0;32m/usr/lib/python2.7/lib-tk/Tkinter.pyc\u001b[0m in \u001b[0;36m__init__\u001b[0;34m(self, screenName, baseName, className, useTk, sync, use)\u001b[0m\n\u001b[1;32m   1815\u001b[0m                 \u001b[0mbaseName\u001b[0m \u001b[0;34m=\u001b[0m \u001b[0mbaseName\u001b[0m \u001b[0;34m+\u001b[0m \u001b[0mext\u001b[0m\u001b[0;34m\u001b[0m\u001b[0m\n\u001b[1;32m   1816\u001b[0m         \u001b[0minteractive\u001b[0m \u001b[0;34m=\u001b[0m \u001b[0;36m0\u001b[0m\u001b[0;34m\u001b[0m\u001b[0m\n\u001b[0;32m-> 1817\u001b[0;31m         \u001b[0mself\u001b[0m\u001b[0;34m.\u001b[0m\u001b[0mtk\u001b[0m \u001b[0;34m=\u001b[0m \u001b[0m_tkinter\u001b[0m\u001b[0;34m.\u001b[0m\u001b[0mcreate\u001b[0m\u001b[0;34m(\u001b[0m\u001b[0mscreenName\u001b[0m\u001b[0;34m,\u001b[0m \u001b[0mbaseName\u001b[0m\u001b[0;34m,\u001b[0m \u001b[0mclassName\u001b[0m\u001b[0;34m,\u001b[0m \u001b[0minteractive\u001b[0m\u001b[0;34m,\u001b[0m \u001b[0mwantobjects\u001b[0m\u001b[0;34m,\u001b[0m \u001b[0museTk\u001b[0m\u001b[0;34m,\u001b[0m \u001b[0msync\u001b[0m\u001b[0;34m,\u001b[0m \u001b[0muse\u001b[0m\u001b[0;34m)\u001b[0m\u001b[0;34m\u001b[0m\u001b[0m\n\u001b[0m\u001b[1;32m   1818\u001b[0m         \u001b[0;32mif\u001b[0m \u001b[0museTk\u001b[0m\u001b[0;34m:\u001b[0m\u001b[0;34m\u001b[0m\u001b[0m\n\u001b[1;32m   1819\u001b[0m             \u001b[0mself\u001b[0m\u001b[0;34m.\u001b[0m\u001b[0m_loadtk\u001b[0m\u001b[0;34m(\u001b[0m\u001b[0;34m)\u001b[0m\u001b[0;34m\u001b[0m\u001b[0m\n",
        "\u001b[0;31mTclError\u001b[0m: no display name and no $DISPLAY environment variable"
       ]
      }
     ],
     "prompt_number": 17
    },
    {
     "cell_type": "code",
     "collapsed": false,
     "input": [
      "def make_meteor():\n",
      "    ## initial meteor trajectory guess \n",
      "    est_start_altitude = np.random.normal(100e3,20e3,1)\n",
      "    est_stop_altitude = np.random.normal(60e3,20e3,1)\n",
      "    \n",
      "    est_start_lat = np.random.normal(50,2,1)  \n",
      "    est_start_lon = np.random.normal(14,2,1)\n",
      "    \n",
      "    est_stop_lat = np.random.normal(50,2,1) \n",
      "    est_stop_lon = np.random.normal(14,2,1)\n",
      "    \n",
      "    est_velocity = np.random.normal(50000,20000,1)\n",
      "\n",
      "    est_start_point = np.array(geoC.GeographicToGeocentric(est_start_lat, est_start_lon, est_start_altitude))\n",
      "    est_stop_point = np.array(geoC.GeographicToGeocentric(est_stop_lat, est_stop_lon, est_stop_altitude))\n",
      "    est_vect = est_start_point - est_stop_point\n",
      "    est_speed_vect = est_vect/np.linalg.norm(est_vect) * est_velocity\n",
      "    est_params = np.concatenate((est_start_point.ravel(), est_speed_vect.ravel()), axis=1)\n",
      "    return est_params\n"
     ],
     "language": "python",
     "metadata": {},
     "outputs": [],
     "prompt_number": 37
    },
    {
     "cell_type": "code",
     "collapsed": false,
     "input": [
      "def make_deap_meteor():\n",
      "    return array.array('d',make_meteor())"
     ],
     "language": "python",
     "metadata": {},
     "outputs": [],
     "prompt_number": 38
    },
    {
     "cell_type": "code",
     "collapsed": false,
     "input": [
      "def find_trajectory(timesteps,stations_data):\n",
      "    ## initial meteor trajectory guess \n",
      "\n",
      "    est_params = make_meteor()\n",
      "    res = minimize(total_error, est_params, args = (timesteps, stations_data,), method ='BFGS' , tol = 100.0,options = {'disp': True})\n",
      "    return res"
     ],
     "language": "python",
     "metadata": {},
     "outputs": [],
     "prompt_number": 39
    },
    {
     "cell_type": "code",
     "collapsed": false,
     "input": [
      "res = find_trajectory(timesteps, stations)"
     ],
     "language": "python",
     "metadata": {},
     "outputs": [
      {
       "output_type": "stream",
       "stream": "stdout",
       "text": [
        "Warning: Desired error not necessarily achieved due to precision loss.\n",
        "         Current function value: 23934921691.110622\n",
        "         Iterations: 6\n",
        "         Function evaluations: 228\n",
        "         Gradient evaluations: 27\n"
       ]
      }
     ],
     "prompt_number": 19
    },
    {
     "cell_type": "code",
     "collapsed": false,
     "input": [
      "est_params = np.array(hof[0])"
     ],
     "language": "python",
     "metadata": {},
     "outputs": [],
     "prompt_number": 46
    },
    {
     "cell_type": "code",
     "collapsed": false,
     "input": [
      "est_start_point = est_params[0:3]\n",
      "est_vect = est_params[3:6]\n",
      "est_points = np.empty([timesteps.size, 3])\n",
      "\n",
      "for i in range(timesteps.size):  # generate points on meteor trajectory (discretize in space)\n",
      "    est_points[i] =  est_start_point + (est_vect * timesteps[i])"
     ],
     "language": "python",
     "metadata": {},
     "outputs": [],
     "prompt_number": 35
    },
    {
     "cell_type": "code",
     "collapsed": false,
     "input": [
      "%matplotlib\n",
      "fig = plt.figure()\n",
      "ax = plt.axes(projection='3d')\n",
      "ax.set_title('Meteor Trajectories')\n",
      "ax.set_ylabel('Position [m]')\n",
      "ax.set_xlabel('Position [m]')\n",
      "ax.set_zlabel('Position [m]')\n",
      "ax.scatter(met_points[:,0], met_points[:,1], met_points[:,2], color = 'b', label= \"Real\")\n",
      "ax.scatter(est_points[:,0], est_points[:,1], est_points[:,2], color = 'r', label= \"Estimated\")\n"
     ],
     "language": "python",
     "metadata": {},
     "outputs": [
      {
       "output_type": "stream",
       "stream": "stdout",
       "text": [
        "Using matplotlib backend: TkAgg\n"
       ]
      },
      {
       "metadata": {},
       "output_type": "pyout",
       "prompt_number": 36,
       "text": [
        "<mpl_toolkits.mplot3d.art3d.Path3DCollection at 0x7f9e2ecb3150>"
       ]
      }
     ],
     "prompt_number": 36
    },
    {
     "cell_type": "code",
     "collapsed": false,
     "input": [
      "%matplotlib\n",
      "fig, ax1 = plt.subplots(figsize=(9, 7))\n",
      "ax1.set_title('Dopplers of estimated  meteor trajectory')\n",
      "ax1.set_ylabel('Doppler [Hz]')\n",
      "ax1.set_xlabel('Time [s]')\n",
      "\n",
      "    \n",
      "for station in stations:\n",
      "    rec_station_point = np.array(geoC.GeographicToGeocentric(station['latitude'], station['longitude'], station['elevation']))\n",
      "\n",
      "    #doppler_met = estimate_dopplers(met_points, f0, trans_station_point, rec_station_point)\n",
      "    doppler_est = estimate_dopplers(est_points, timesteps, f0, trans_station_point, rec_station_point)\n",
      "\n",
      "    plt.plot(station['doppler'][:,0], station['doppler'][:,1], label=station['name'] if meteor == 0 else \"\", color = 'b')\n",
      "    plt.plot(doppler_est[1:,0], doppler_est[1:,1], color = 'r')\n",
      "    \n",
      "plt.legend(loc=1)"
     ],
     "language": "python",
     "metadata": {},
     "outputs": [
      {
       "output_type": "stream",
       "stream": "stdout",
       "text": [
        "Using matplotlib backend: TkAgg\n"
       ]
      },
      {
       "metadata": {},
       "output_type": "pyout",
       "prompt_number": 37,
       "text": [
        "<matplotlib.legend.Legend at 0x7f9e2df78150>"
       ]
      }
     ],
     "prompt_number": 37
    },
    {
     "cell_type": "code",
     "collapsed": false,
     "input": [],
     "language": "python",
     "metadata": {},
     "outputs": [],
     "prompt_number": 194
    },
    {
     "cell_type": "code",
     "collapsed": false,
     "input": [],
     "language": "python",
     "metadata": {},
     "outputs": [],
     "prompt_number": 194
    },
    {
     "cell_type": "code",
     "collapsed": false,
     "input": [],
     "language": "python",
     "metadata": {},
     "outputs": [],
     "prompt_number": 194
    },
    {
     "cell_type": "code",
     "collapsed": false,
     "input": [],
     "language": "python",
     "metadata": {},
     "outputs": [],
     "prompt_number": 194
    },
    {
     "cell_type": "code",
     "collapsed": false,
     "input": [],
     "language": "python",
     "metadata": {},
     "outputs": [],
     "prompt_number": 195
    },
    {
     "cell_type": "code",
     "collapsed": false,
     "input": [
      "import array\n",
      "#import multiprocessing\n",
      "\n",
      "from deap import algorithms\n",
      "from deap import base\n",
      "from deap import creator\n",
      "from deap import tools\n",
      "\n",
      "creator.create(\"FitnessMin\", base.Fitness, weights=(-1.0,-1.0,-1.0,-1.0,-1.0,-1.0,-1.0,-1.0,-1.0,-1.0,-1.0,))\n",
      "creator.create(\"Individual\", array.array, typecode='d', fitness=creator.FitnessMin)\n",
      "\n",
      "toolbox = base.Toolbox()\n",
      "#pool = multiprocessing.Pool()\n",
      "#toolbox.register(\"map\", pool.map)\n",
      "\n",
      "# Attribute generator\n",
      "toolbox.register(\"indices\", make_deap_meteor )\n",
      "\n",
      "# Structure initializers\n",
      "toolbox.register(\"individual\", tools.initIterate, creator.Individual, toolbox.indices)\n",
      "toolbox.register(\"population\", tools.initRepeat, list, toolbox.individual)\n",
      "\n",
      "def evalTSP(individual):\n",
      "    met_params = np.array(individual)\n",
      "    return station_errors(met_params,timesteps, stations)\n",
      "\n",
      "toolbox.register(\"mate\", tools.cxOnePoint)\n",
      "toolbox.register(\"mutate\", tools.mutGaussian, mu = 0, sigma = (50000, 50000, 50000, 5000, 5000, 5000), indpb=1.0)\n",
      "toolbox.register(\"select\", tools.selBest)\n",
      "toolbox.register(\"evaluate\", evalTSP)\n"
     ],
     "language": "python",
     "metadata": {},
     "outputs": [],
     "prompt_number": 21
    },
    {
     "cell_type": "code",
     "collapsed": false,
     "input": [
      "pop = toolbox.population(n=50)\n",
      "\n",
      "hof = tools.HallOfFame(1)\n",
      "stats = tools.Statistics(lambda ind: ind.fitness.values)\n",
      "stats.register(\"min\", np.min)\n",
      "\n",
      "\n",
      "#algorithms.eaSimple(pop, toolbox, 0.7, 0.5, 10, stats=stats, halloffame=hof, verbose=True)\n",
      "algorithms.eaMuPlusLambda(pop, toolbox, cxpb=0.6, mutpb=0.4, ngen=4500, stats=stats, halloffame=hof, verbose=True, mu=5, lambda_=50)\n",
      "\n",
      "#pop, stats, hof"
     ],
     "language": "python",
     "metadata": {},
     "outputs": [
      {
       "output_type": "stream",
       "stream": "stdout",
       "text": [
        "gen\tnevals\tmin        \n",
        "0  \t50    \t7.74383e+07\n",
        "1  \t50    \t7.74383e+07"
       ]
      },
      {
       "output_type": "stream",
       "stream": "stdout",
       "text": [
        "\n",
        "2  \t50    \t2.1873e+08 "
       ]
      },
      {
       "output_type": "stream",
       "stream": "stdout",
       "text": [
        "\n",
        "3  \t50    \t2.1873e+08 "
       ]
      },
      {
       "output_type": "stream",
       "stream": "stdout",
       "text": [
        "\n",
        "4  \t50    \t1.96258e+08"
       ]
      },
      {
       "output_type": "stream",
       "stream": "stdout",
       "text": [
        "\n",
        "5  \t50    \t1.88131e+08"
       ]
      },
      {
       "output_type": "stream",
       "stream": "stdout",
       "text": [
        "\n",
        "6  \t50    \t1.93087e+08"
       ]
      }
     ]
    },
    {
     "cell_type": "code",
     "collapsed": false,
     "input": [
      "print hof"
     ],
     "language": "python",
     "metadata": {},
     "outputs": [
      {
       "output_type": "stream",
       "stream": "stdout",
       "text": [
        "[array('d', [4201391.020494896, 650117.9169805223, 4729861.018501096, -15042.763277657148, 53830.15281241961, 27890.731743251734])]\n"
       ]
      }
     ],
     "prompt_number": 45
    },
    {
     "cell_type": "code",
     "collapsed": false,
     "input": [
      "array('d', [4054680.0680794725, 1080843.3217390168, 4911049.2573404275, -4949.93417629765, 41461.15462661179, -6000.00731814691])"
     ],
     "language": "python",
     "metadata": {},
     "outputs": []
    },
    {
     "cell_type": "code",
     "collapsed": false,
     "input": [
      "total_error(est_params, timesteps, stations)"
     ],
     "language": "python",
     "metadata": {},
     "outputs": [
      {
       "metadata": {},
       "output_type": "pyout",
       "prompt_number": 47,
       "text": [
        "13852387769.477968"
       ]
      }
     ],
     "prompt_number": 47
    },
    {
     "cell_type": "code",
     "collapsed": false,
     "input": [],
     "language": "python",
     "metadata": {},
     "outputs": []
    }
   ],
   "metadata": {}
  }
 ]
}