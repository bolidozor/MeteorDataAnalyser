{
 "metadata": {
  "name": "",
  "signature": "sha256:07c66a09720351d2b472b37bd85d40a14ffd4aa546c8430f5bcf04d9a03ba306"
 },
 "nbformat": 3,
 "nbformat_minor": 0,
 "worksheets": [
  {
   "cells": [
    {
     "cell_type": "markdown",
     "metadata": {},
     "source": [
      "Calculation of meteor trajectory from head-echo dopplers\n",
      "=======\n",
      "\n",
      "Theory is adopted from Christian Steyaert et. al. 2010\n"
     ]
    },
    {
     "cell_type": "code",
     "collapsed": false,
     "input": [
      "TMx = (x_M \u2212 x T )\n",
      "TMy = (y M \u2212 y T )\n",
      "TMz = (z M \u2212 z T )"
     ],
     "language": "python",
     "metadata": {},
     "outputs": [
      {
       "ename": "SyntaxError",
       "evalue": "invalid syntax (<ipython-input-1-98dca8f4f72e>, line 1)",
       "output_type": "pyerr",
       "traceback": [
        "\u001b[0;36m  File \u001b[0;32m\"<ipython-input-1-98dca8f4f72e>\"\u001b[0;36m, line \u001b[0;32m1\u001b[0m\n\u001b[0;31m    TMx = (x_M \u2212 x T )\u001b[0m\n\u001b[0m               ^\u001b[0m\n\u001b[0;31mSyntaxError\u001b[0m\u001b[0;31m:\u001b[0m invalid syntax\n"
       ]
      }
     ],
     "prompt_number": 1
    },
    {
     "cell_type": "code",
     "collapsed": false,
     "input": [
      "import pylab\n",
      "f = pylab.figure()"
     ],
     "language": "python",
     "metadata": {},
     "outputs": [],
     "prompt_number": 2
    },
    {
     "cell_type": "code",
     "collapsed": false,
     "input": [
      "pylab.plot([1,2,3], [1,2,4], 'go-', label='line 1', linewidth=2)\n",
      "pylab.plot([1,2,3], [1,2,2], 'bo-', label='line 1', linewidth=2)"
     ],
     "language": "python",
     "metadata": {},
     "outputs": [
      {
       "metadata": {},
       "output_type": "pyout",
       "prompt_number": 3,
       "text": [
        "[<matplotlib.lines.Line2D at 0x7fa190159790>]"
       ]
      }
     ],
     "prompt_number": 3
    },
    {
     "cell_type": "code",
     "collapsed": false,
     "input": [
      "pylab.show()"
     ],
     "language": "python",
     "metadata": {},
     "outputs": [],
     "prompt_number": 4
    },
    {
     "cell_type": "markdown",
     "metadata": {},
     "source": [
      "Head Echo doppler function \n",
      "======="
     ]
    },
    {
     "cell_type": "markdown",
     "metadata": {},
     "source": [
      "The equation is  obtained from publication at http://adsabs.harvard.edu/abs/1998JIMO...26..117R (1998)"
     ]
    },
    {
     "cell_type": "code",
     "collapsed": false,
     "input": [
      "from sympy import symbols, sign, sqrt\n",
      "from sympy.plotting import plot\n",
      "t, f0, c, vm, r0 = symbols('t f_0 c v_m r_0')"
     ],
     "language": "python",
     "metadata": {},
     "outputs": [],
     "prompt_number": 1
    },
    {
     "cell_type": "code",
     "collapsed": false,
     "input": [
      "delta_f = - sign(t) * sqrt(((2*f0)/c)**2 * (vm**2)/(r0**2/(vm**2 * t**2) + 1) )"
     ],
     "language": "python",
     "metadata": {},
     "outputs": [],
     "prompt_number": 2
    },
    {
     "cell_type": "code",
     "collapsed": false,
     "input": [
      "delta_f.subs([(f0,55.260e6),(c,3e8),(vm,40e3),(r0,300e3), (t,1)])"
     ],
     "language": "python",
     "metadata": {},
     "outputs": [
      {
       "metadata": {},
       "output_type": "pyout",
       "prompt_number": 15,
       "text": [
        "-1947.56457926124"
       ]
      }
     ],
     "prompt_number": 15
    },
    {
     "cell_type": "code",
     "collapsed": false,
     "input": [
      "plot(delta_f.subs([(f0,55.260e6),(c,3e8),(vm,40e3),(r0,300e3)]), (t, -10, 10))"
     ],
     "language": "python",
     "metadata": {},
     "outputs": [
      {
       "metadata": {},
       "output_type": "pyout",
       "prompt_number": 16,
       "text": [
        "<sympy.plotting.plot.Plot at 0x7f1b6fb8fcd0>"
       ]
      }
     ],
     "prompt_number": 16
    },
    {
     "cell_type": "code",
     "collapsed": false,
     "input": [],
     "language": "python",
     "metadata": {},
     "outputs": [],
     "prompt_number": 8
    },
    {
     "cell_type": "heading",
     "level": 2,
     "metadata": {},
     "source": [
      "Artificial meteor generator"
     ]
    },
    {
     "cell_type": "code",
     "collapsed": false,
     "input": [
      "from mpl_toolkits.mplot3d.axes3d import Axes3D\n",
      "import matplotlib.pyplot as plt\n",
      "import numpy as np\n",
      "import scipy\n",
      "from scipy.optimize import minimize #,  differential_evolution\n",
      "from Geocentric import Geocentric\n",
      "geoC = Geocentric(6378137, 6356752.314)"
     ],
     "language": "python",
     "metadata": {},
     "outputs": [],
     "prompt_number": 14
    },
    {
     "cell_type": "code",
     "collapsed": false,
     "input": [
      "from IPython import parallel\n",
      "clients = parallel.Client()\n",
      "view = clients.load_balanced_view()\n",
      "view.block = False"
     ],
     "language": "python",
     "metadata": {},
     "outputs": [],
     "prompt_number": 3
    },
    {
     "cell_type": "markdown",
     "metadata": {},
     "source": [
      "Pallalel execute on all available engines"
     ]
    },
    {
     "cell_type": "code",
     "collapsed": false,
     "input": [
      "%%px\n",
      "import scipy.constants\n",
      "import numpy as np\n",
      "from scipy.optimize import minimize #,  differential_evolution\n",
      "from Geocentric import Geocentric\n",
      "geoC = Geocentric(6378137, 6356752.314)"
     ],
     "language": "python",
     "metadata": {},
     "outputs": [],
     "prompt_number": 18
    },
    {
     "cell_type": "markdown",
     "metadata": {},
     "source": [
      "Generate Artificial meteor for algorithm testing"
     ]
    },
    {
     "cell_type": "code",
     "collapsed": false,
     "input": [
      "#Artificial meteors coordinates:\n",
      "\n",
      "ZHR = 1\n",
      "\n",
      "met_start_altitude = np.random.normal(100e3,20e3,ZHR)\n",
      "met_stop_altitude = np.random.normal(60e3,20e3,ZHR)\n",
      "\n",
      "met_start_lat = np.random.normal(50,2,ZHR)  \n",
      "met_start_lon = np.random.normal(14,2,ZHR)\n",
      "\n",
      "met_stop_lat = np.random.normal(50,2,ZHR) \n",
      "met_stop_lon = np.random.normal(14,2,ZHR)\n",
      "\n",
      "met_velocity = np.random.normal(50000,20000,ZHR)\n",
      "timesteps = np.arange(-10,10,t)\n"
     ],
     "language": "python",
     "metadata": {},
     "outputs": [],
     "prompt_number": 10
    },
    {
     "cell_type": "code",
     "collapsed": false,
     "input": [
      "def estimate_dopplers(trajectory, f0, trans_station, rec_station):\n",
      "    '''\n",
      "        Returns array of dopplers for given transmitter to receiver position and defined frequency and known trajectory.\n",
      "    '''\n",
      "    rec_to_met = np.empty([trajectory.shape[0], 1])\n",
      "    trans_to_met = np.empty([trajectory.shape[0], 1])\n",
      "    doppler = np.empty([trajectory.shape[0], 2])\n",
      "    \n",
      "    previous_rec_to_met = np.linalg.norm(rec_station - trajectory[0])\n",
      "    previous_trans_to_met = np.linalg.norm(trans_station - trajectory[0])\n",
      "        \n",
      "    for i in range(trajectory.shape[0]):\n",
      "        rec_to_met[i] = np.linalg.norm(rec_station - trajectory[i])\n",
      "        trans_to_met[i] = np.linalg.norm(trans_station - trajectory[i])\n",
      "    \n",
      "        met_trans_speed = previous_trans_to_met - trans_to_met[i]\n",
      "        previous_trans_to_met = trans_to_met[i]\n",
      "        speed = met_trans_speed/t    \n",
      "        f1 = ((c + speed)/c * f0)\n",
      "        \n",
      "        met_rec_speed = previous_rec_to_met - rec_to_met[i]\n",
      "        previous_rec_to_met = rec_to_met[i]\n",
      "        speed = met_rec_speed/t\n",
      "        f2 = (c/(c - speed) * f1)\n",
      "        doppler[i] = np.array([timesteps[i], f2-f0])\n",
      "    return doppler"
     ],
     "language": "python",
     "metadata": {},
     "outputs": [],
     "prompt_number": 11
    },
    {
     "cell_type": "code",
     "collapsed": false,
     "input": [
      "%%px\n",
      "def estimate_dopplers(trajectory, timesteps, f0, trans_station, rec_station):\n",
      "    '''\n",
      "        Returns array of dopplers for given transmitter to receiver position and defined frequency and known trajectory.\n",
      "    '''\n",
      "    rec_to_met = np.empty([trajectory.shape[0], 1])\n",
      "    trans_to_met = np.empty([trajectory.shape[0], 1])\n",
      "    doppler = np.empty([trajectory.shape[0], 2])\n",
      "    \n",
      "    previous_rec_to_met = np.linalg.norm(rec_station - trajectory[0])\n",
      "    previous_trans_to_met = np.linalg.norm(trans_station - trajectory[0])\n",
      "    \n",
      "    t = timesteps[1] - timesteps[0]\n",
      "    \n",
      "    for i in range(trajectory.shape[0]):\n",
      "        rec_to_met[i] = np.linalg.norm(rec_station - trajectory[i])\n",
      "        trans_to_met[i] = np.linalg.norm(trans_station - trajectory[i])\n",
      "    \n",
      "        met_trans_speed = previous_trans_to_met - trans_to_met[i]\n",
      "        previous_trans_to_met = trans_to_met[i]\n",
      "        speed = met_trans_speed/t    \n",
      "        f1 = ((c + speed)/c * f0)\n",
      "        \n",
      "        met_rec_speed = previous_rec_to_met - rec_to_met[i]    ## calculate bistatic velocity from known position\n",
      "        previous_rec_to_met = rec_to_met[i]\n",
      "        speed = met_rec_speed/t\n",
      "        f2 = (c/(c - speed) * f1)\n",
      "        doppler[i] = np.array([timesteps[i], f2-f0])\n",
      "    return doppler"
     ],
     "language": "python",
     "metadata": {},
     "outputs": [],
     "prompt_number": 12
    },
    {
     "cell_type": "code",
     "collapsed": false,
     "input": [
      "%%px\n",
      "# Model parameters\n",
      "\n",
      "c = constants.c\n",
      "f0 = 143050000\n",
      "trans_station_point = np.array(geoC.GeographicToGeocentric(47.347993, 5.515079, 190))\n",
      "t = 0.01"
     ],
     "language": "python",
     "metadata": {},
     "outputs": [
      {
       "ename": "CompositeError",
       "evalue": "one or more exceptions from call to method: execute\n[0:execute]: NameError: name 'constants' is not defined\n[1:execute]: NameError: name 'constants' is not defined\n[2:execute]: NameError: name 'constants' is not defined\n[3:execute]: NameError: name 'constants' is not defined",
       "output_type": "pyerr",
       "traceback": [
        "[0:execute]: ",
        "\u001b[0;31m---------------------------------------------------------------------------\u001b[0m",
        "\u001b[0;31mNameError\u001b[0m                                 Traceback (most recent call last)\u001b[0;32m<ipython-input-7-43ecae69744e>\u001b[0m in \u001b[0;36m<module>\u001b[0;34m()\u001b[0m",
        "\u001b[1;32m      1\u001b[0m \u001b[0;31m# Model parameters\u001b[0m\u001b[0;34m\u001b[0m\u001b[0;34m\u001b[0m\u001b[0m",
        "\u001b[1;32m      2\u001b[0m \u001b[0;34m\u001b[0m\u001b[0m",
        "\u001b[0;32m----> 3\u001b[0;31m \u001b[0mc\u001b[0m \u001b[0;34m=\u001b[0m \u001b[0mconstants\u001b[0m\u001b[0;34m.\u001b[0m\u001b[0mc\u001b[0m\u001b[0;34m\u001b[0m\u001b[0m",
        "\u001b[0m\u001b[1;32m      4\u001b[0m \u001b[0mf0\u001b[0m \u001b[0;34m=\u001b[0m \u001b[0;36m143050000\u001b[0m\u001b[0;34m\u001b[0m\u001b[0m",
        "\u001b[1;32m      5\u001b[0m \u001b[0mtrans_station_point\u001b[0m \u001b[0;34m=\u001b[0m \u001b[0mnp\u001b[0m\u001b[0;34m.\u001b[0m\u001b[0marray\u001b[0m\u001b[0;34m(\u001b[0m\u001b[0mgeoC\u001b[0m\u001b[0;34m.\u001b[0m\u001b[0mGeographicToGeocentric\u001b[0m\u001b[0;34m(\u001b[0m\u001b[0;36m47.347993\u001b[0m\u001b[0;34m,\u001b[0m \u001b[0;36m5.515079\u001b[0m\u001b[0;34m,\u001b[0m \u001b[0;36m190\u001b[0m\u001b[0;34m)\u001b[0m\u001b[0;34m)\u001b[0m\u001b[0;34m\u001b[0m\u001b[0m",
        "\u001b[0;31mNameError\u001b[0m: name 'constants' is not defined",
        "",
        "[1:execute]: ",
        "\u001b[0;31m---------------------------------------------------------------------------\u001b[0m",
        "\u001b[0;31mNameError\u001b[0m                                 Traceback (most recent call last)\u001b[0;32m<ipython-input-7-43ecae69744e>\u001b[0m in \u001b[0;36m<module>\u001b[0;34m()\u001b[0m",
        "\u001b[1;32m      1\u001b[0m \u001b[0;31m# Model parameters\u001b[0m\u001b[0;34m\u001b[0m\u001b[0;34m\u001b[0m\u001b[0m",
        "\u001b[1;32m      2\u001b[0m \u001b[0;34m\u001b[0m\u001b[0m",
        "\u001b[0;32m----> 3\u001b[0;31m \u001b[0mc\u001b[0m \u001b[0;34m=\u001b[0m \u001b[0mconstants\u001b[0m\u001b[0;34m.\u001b[0m\u001b[0mc\u001b[0m\u001b[0;34m\u001b[0m\u001b[0m",
        "\u001b[0m\u001b[1;32m      4\u001b[0m \u001b[0mf0\u001b[0m \u001b[0;34m=\u001b[0m \u001b[0;36m143050000\u001b[0m\u001b[0;34m\u001b[0m\u001b[0m",
        "\u001b[1;32m      5\u001b[0m \u001b[0mtrans_station_point\u001b[0m \u001b[0;34m=\u001b[0m \u001b[0mnp\u001b[0m\u001b[0;34m.\u001b[0m\u001b[0marray\u001b[0m\u001b[0;34m(\u001b[0m\u001b[0mgeoC\u001b[0m\u001b[0;34m.\u001b[0m\u001b[0mGeographicToGeocentric\u001b[0m\u001b[0;34m(\u001b[0m\u001b[0;36m47.347993\u001b[0m\u001b[0;34m,\u001b[0m \u001b[0;36m5.515079\u001b[0m\u001b[0;34m,\u001b[0m \u001b[0;36m190\u001b[0m\u001b[0;34m)\u001b[0m\u001b[0;34m)\u001b[0m\u001b[0;34m\u001b[0m\u001b[0m",
        "\u001b[0;31mNameError\u001b[0m: name 'constants' is not defined",
        "",
        "[2:execute]: ",
        "\u001b[0;31m---------------------------------------------------------------------------\u001b[0m",
        "\u001b[0;31mNameError\u001b[0m                                 Traceback (most recent call last)\u001b[0;32m<ipython-input-7-43ecae69744e>\u001b[0m in \u001b[0;36m<module>\u001b[0;34m()\u001b[0m",
        "\u001b[1;32m      1\u001b[0m \u001b[0;31m# Model parameters\u001b[0m\u001b[0;34m\u001b[0m\u001b[0;34m\u001b[0m\u001b[0m",
        "\u001b[1;32m      2\u001b[0m \u001b[0;34m\u001b[0m\u001b[0m",
        "\u001b[0;32m----> 3\u001b[0;31m \u001b[0mc\u001b[0m \u001b[0;34m=\u001b[0m \u001b[0mconstants\u001b[0m\u001b[0;34m.\u001b[0m\u001b[0mc\u001b[0m\u001b[0;34m\u001b[0m\u001b[0m",
        "\u001b[0m\u001b[1;32m      4\u001b[0m \u001b[0mf0\u001b[0m \u001b[0;34m=\u001b[0m \u001b[0;36m143050000\u001b[0m\u001b[0;34m\u001b[0m\u001b[0m",
        "\u001b[1;32m      5\u001b[0m \u001b[0mtrans_station_point\u001b[0m \u001b[0;34m=\u001b[0m \u001b[0mnp\u001b[0m\u001b[0;34m.\u001b[0m\u001b[0marray\u001b[0m\u001b[0;34m(\u001b[0m\u001b[0mgeoC\u001b[0m\u001b[0;34m.\u001b[0m\u001b[0mGeographicToGeocentric\u001b[0m\u001b[0;34m(\u001b[0m\u001b[0;36m47.347993\u001b[0m\u001b[0;34m,\u001b[0m \u001b[0;36m5.515079\u001b[0m\u001b[0;34m,\u001b[0m \u001b[0;36m190\u001b[0m\u001b[0;34m)\u001b[0m\u001b[0;34m)\u001b[0m\u001b[0;34m\u001b[0m\u001b[0m",
        "\u001b[0;31mNameError\u001b[0m: name 'constants' is not defined",
        "",
        "[3:execute]: ",
        "\u001b[0;31m---------------------------------------------------------------------------\u001b[0m",
        "\u001b[0;31mNameError\u001b[0m                                 Traceback (most recent call last)\u001b[0;32m<ipython-input-7-43ecae69744e>\u001b[0m in \u001b[0;36m<module>\u001b[0;34m()\u001b[0m",
        "\u001b[1;32m      1\u001b[0m \u001b[0;31m# Model parameters\u001b[0m\u001b[0;34m\u001b[0m\u001b[0;34m\u001b[0m\u001b[0m",
        "\u001b[1;32m      2\u001b[0m \u001b[0;34m\u001b[0m\u001b[0m",
        "\u001b[0;32m----> 3\u001b[0;31m \u001b[0mc\u001b[0m \u001b[0;34m=\u001b[0m \u001b[0mconstants\u001b[0m\u001b[0;34m.\u001b[0m\u001b[0mc\u001b[0m\u001b[0;34m\u001b[0m\u001b[0m",
        "\u001b[0m\u001b[1;32m      4\u001b[0m \u001b[0mf0\u001b[0m \u001b[0;34m=\u001b[0m \u001b[0;36m143050000\u001b[0m\u001b[0;34m\u001b[0m\u001b[0m",
        "\u001b[1;32m      5\u001b[0m \u001b[0mtrans_station_point\u001b[0m \u001b[0;34m=\u001b[0m \u001b[0mnp\u001b[0m\u001b[0;34m.\u001b[0m\u001b[0marray\u001b[0m\u001b[0;34m(\u001b[0m\u001b[0mgeoC\u001b[0m\u001b[0;34m.\u001b[0m\u001b[0mGeographicToGeocentric\u001b[0m\u001b[0;34m(\u001b[0m\u001b[0;36m47.347993\u001b[0m\u001b[0;34m,\u001b[0m \u001b[0;36m5.515079\u001b[0m\u001b[0;34m,\u001b[0m \u001b[0;36m190\u001b[0m\u001b[0;34m)\u001b[0m\u001b[0;34m)\u001b[0m\u001b[0;34m\u001b[0m\u001b[0m",
        "\u001b[0;31mNameError\u001b[0m: name 'constants' is not defined",
        ""
       ]
      }
     ],
     "prompt_number": 19
    },
    {
     "cell_type": "code",
     "collapsed": false,
     "input": [
      "c = scipy.constants.c\n",
      "f0 = 143050000\n",
      "trans_station_point = np.array(geoC.GeographicToGeocentric(47.347993, 5.515079, 190))\n",
      "t = 0.01"
     ],
     "language": "python",
     "metadata": {},
     "outputs": [],
     "prompt_number": 20
    },
    {
     "cell_type": "code",
     "collapsed": false,
     "input": [
      "%%px\n",
      "def error_func(est_params, timesteps, stations):\n",
      "    \"\"\"\n",
      "    Returns difference between real and estimated meteor trajectory dopplers\n",
      "    \"\"\"\n",
      "    from Geocentric import Geocentric\n",
      "    geoC = Geocentric(6378137, 6356752.314)\n",
      "    \n",
      "    est_start_point = est_params[0:3]\n",
      "    est_vect = est_params[3:6]\n",
      "    est_points = np.empty([timesteps.size, 3])\n",
      "    \n",
      "    for i in range(timesteps.size):  # generate points on meteor trajectory (discretize in space)\n",
      "        est_points[i] =  est_start_point + (est_vect * timesteps[i])\n",
      "\n",
      "    doppler_deviation = np.zeros(timesteps.size-1)\n",
      "    for station in stations:\n",
      "        rec_station_point = np.array(geoC.GeographicToGeocentric(station['latitude'], station['longitude'], station['elevation']))\n",
      "        est_doppler = estimate_dopplers(est_points, timesteps, f0, trans_station_point, rec_station_point)\n",
      "        indexes = station['doppler_indexes'][0]\n",
      "        \n",
      "        d = 0\n",
      "        for i in indexes:  \n",
      "            doppler_deviation[i] += (station['doppler'][:,1][d] - est_doppler[1:,1][i])**2\n",
      "            d += 1\n",
      "    return est_doppler[1:,0], doppler_deviation\n"
     ],
     "language": "python",
     "metadata": {},
     "outputs": [],
     "prompt_number": 12
    },
    {
     "cell_type": "code",
     "collapsed": false,
     "input": [
      "def error_func(est_params, timesteps, stations):\n",
      "    \"\"\"\n",
      "    Returns difference between real and estimated meteor trajectory dopplers\n",
      "    \"\"\"\n",
      "    from Geocentric import Geocentric\n",
      "    geoC = Geocentric(6378137, 6356752.314)\n",
      "    \n",
      "    est_start_point = est_params[0:3]\n",
      "    est_vect = est_params[3:6]\n",
      "    est_points = np.empty([timesteps.size, 3])\n",
      "    \n",
      "    for i in range(timesteps.size):  # generate points on meteor trajectory (discretize in space)\n",
      "        est_points[i] =  est_start_point + (est_vect * timesteps[i])\n",
      "\n",
      "    doppler_deviation = np.zeros(timesteps.size-1)\n",
      "    for station in stations:\n",
      "        rec_station_point = np.array(geoC.GeographicToGeocentric(station['latitude'], station['longitude'], station['elevation']))\n",
      "        est_doppler = estimate_dopplers(est_points, f0, trans_station_point, rec_station_point)\n",
      "        indexes = station['doppler_indexes'][0]\n",
      "        \n",
      "        d = 0\n",
      "        for i in indexes:  \n",
      "            doppler_deviation[i] += (station['doppler'][:,1][d] - est_doppler[1:,1][i])**2\n",
      "            d += 1\n",
      "    return est_doppler[1:,0], doppler_deviation\n"
     ],
     "language": "python",
     "metadata": {},
     "outputs": [],
     "prompt_number": 21
    },
    {
     "cell_type": "code",
     "collapsed": false,
     "input": [],
     "language": "python",
     "metadata": {},
     "outputs": [],
     "prompt_number": 13
    },
    {
     "cell_type": "code",
     "collapsed": false,
     "input": [
      "def total_error(met_params, timesteps, stations):\n",
      "    time, doppler_errors = error_func(met_params, timesteps, stations)\n",
      "    \n",
      "    return np.sum(doppler_errors)"
     ],
     "language": "python",
     "metadata": {},
     "outputs": [],
     "prompt_number": 22
    },
    {
     "cell_type": "code",
     "collapsed": false,
     "input": [
      "%%px\n",
      "def total_error(met_params, timesteps, stations):\n",
      "    time, doppler_errors = error_func(met_params, timesteps, stations)\n",
      "    \n",
      "    return np.sum(doppler_errors)"
     ],
     "language": "python",
     "metadata": {},
     "outputs": [],
     "prompt_number": 15
    },
    {
     "cell_type": "markdown",
     "metadata": {},
     "source": [
      "Define Bolidozor network station. List may be updated from space.astro.cz server according to stored data."
     ]
    },
    {
     "cell_type": "code",
     "collapsed": false,
     "input": [
      "stations = []\n",
      "stations.append({'name': 'Zebrak','latitude':49.8736, 'longitude':13.8986,'elevation':400, 'status': 'operational', 'type': 'receiver'})\n",
      "stations.append({'name': 'uFlu','latitude':50.0795, 'longitude':14.4891,'elevation':400, 'status': 'operational', 'type': 'receiver'})\n",
      "stations.append({'name': 'OBSUPICE','latitude':50.5067,'longitude':16.0115,'elevation':400, 'status': 'operational', 'type': 'receiver'})\n",
      "stations.append({'name': 'SVAKOV','latitude':49.2607,'longitude':14.6917,'elevation':400, 'status': 'operational', 'type': 'receiver'})\n",
      "stations.append({'name': 'ZVPP','latitude':48.9869,'longitude':14.4675,'elevation':400, 'status': 'operational', 'type': 'receiver'})\n",
      "stations.append({'name': 'BPB','latitude':48.653153,'longitude':17.537413,'elevation':400, 'status': 'testing', 'type': 'receiver'})\n",
      "stations.append({'name': 'HPHK','latitude':50.1772,'longitude':15.8386,'elevation':400, 'status': 'testing', 'type': 'receiver'})\n",
      "stations.append({'name': 'OBSJAROMER','latitude':50.351397,'longitude':15.915878,'elevation':400, 'status': 'testing', 'type': 'receiver'})\n",
      "stations.append({'name': 'JHRADEC','latitude':49.1314,'longitude': 14.9999,'elevation':400, 'status': 'testing', 'type': 'receiver'})\n",
      "stations.append({'name': 'VALMEZ','latitude':49.463038,'longitude': 17.973544,'elevation':400, 'status': 'testing', 'type': 'receiver'})\n",
      "stations.append({'name': 'NACHODSKO','latitude':50.409407,'longitude':15.414812,'elevation':400, 'status': 'operational', 'type': 'receiver'})\n"
     ],
     "language": "python",
     "metadata": {},
     "outputs": [],
     "prompt_number": 23
    },
    {
     "cell_type": "code",
     "collapsed": false,
     "input": [
      "# compute dopplers for multiple stations\n",
      "\n",
      "from Geocentric import Geocentric\n",
      "geoC = Geocentric(6378137, 6356752.314)\n",
      "\n",
      "%matplotlib\n",
      "fig, ax1 = plt.subplots(figsize=(9, 7))\n",
      "ax1.set_title('Meteor Dopplers at multiple Bolidozor stations')\n",
      "ax1.set_ylabel('Doppler [Hz]')\n",
      "ax1.set_xlabel('Time [s]')\n",
      "#grid(True)\n",
      "\n",
      "meteor_dopplers = [1,2]\n",
      "met_points = np.empty([timesteps.size, 3])\n",
      "\n",
      "for meteor in range(ZHR):\n",
      "    \n",
      "    # get meteor vector from start and stop point\n",
      "    met_start_point = np.array(geoC.GeographicToGeocentric(met_start_lat[meteor], met_start_lon[meteor], met_start_altitude[meteor]))\n",
      "    met_stop_point = np.array(geoC.GeographicToGeocentric(met_stop_lat[meteor], met_stop_lon[meteor], met_stop_altitude[meteor]))\n",
      "    met_vect = met_start_point - met_stop_point\n",
      "\n",
      "    for i in range(timesteps.size):  # generate points on artifitial meteor trajectory (discretize in space)\n",
      "        met_points[i] =  met_start_point + (met_vect/np.linalg.norm(met_vect) * (timesteps[i] * met_velocity[meteor]))\n",
      "    \n",
      "    for station in stations:\n",
      "        rec_station_point = np.array(geoC.GeographicToGeocentric(station['latitude'], station['longitude'], station['elevation']))\n",
      "        \n",
      "        doppler = estimate_dopplers(met_points, f0, trans_station_point, rec_station_point)\n",
      "            \n",
      "        meteor_dopplers[meteor] = doppler\n",
      "        plt.plot(doppler[1:,0], doppler[1:,1], label=station['name'] if meteor == 0 else \"\")\n",
      "    \n",
      "    plt.legend(loc=1)"
     ],
     "language": "python",
     "metadata": {},
     "outputs": [
      {
       "output_type": "stream",
       "stream": "stdout",
       "text": [
        "Using matplotlib backend: TkAgg\n"
       ]
      }
     ],
     "prompt_number": 24
    },
    {
     "cell_type": "code",
     "collapsed": false,
     "input": [
      "%matplotlib\n",
      "fig = plt.figure()\n",
      "ax = plt.axes(projection='3d')\n",
      "ax.scatter(met_points[:,0], met_points[:,1], met_points[:,2])"
     ],
     "language": "python",
     "metadata": {},
     "outputs": [
      {
       "output_type": "stream",
       "stream": "stdout",
       "text": [
        "Using matplotlib backend: TkAgg\n"
       ]
      },
      {
       "metadata": {},
       "output_type": "pyout",
       "prompt_number": 40,
       "text": [
        "<mpl_toolkits.mplot3d.art3d.Patch3DCollection at 0x7f4727ffc490>"
       ]
      }
     ],
     "prompt_number": 40
    },
    {
     "cell_type": "markdown",
     "metadata": {},
     "source": [
      "Compute difference between of estimated trajectory dopplers and \"real\" simulated trajectory."
     ]
    },
    {
     "cell_type": "code",
     "collapsed": false,
     "input": [
      "#import pandas as pd\n",
      "\n",
      "#meteor_data = pd.DataFrame()\n",
      "\n",
      "meteor_data = doppler[1:,0]\n",
      "\n",
      "doppler_min = -6000.0\n",
      "doppler_max = 10000.0\n",
      "\n",
      "for station in stations:\n",
      "    rec_station_point = np.array(geoC.GeographicToGeocentric(station['latitude'], station['longitude'], station['elevation']))\n",
      "    dopplers = estimate_dopplers(met_points, f0, trans_station_point, rec_station_point)\n",
      "    indexes = np.where(np.logical_and(dopplers[1:,1] > doppler_min, dopplers[1:,1] < doppler_max ))\n",
      "    station['doppler'] = np.concatenate((np.take(dopplers[1:,0], indexes), np.take(dopplers[1:,1], indexes)), axis = 0).T\n",
      "    station['doppler_indexes'] = indexes"
     ],
     "language": "python",
     "metadata": {},
     "outputs": [],
     "prompt_number": 26
    },
    {
     "cell_type": "code",
     "collapsed": false,
     "input": [],
     "language": "python",
     "metadata": {},
     "outputs": [],
     "prompt_number": 64
    },
    {
     "cell_type": "code",
     "collapsed": false,
     "input": [],
     "language": "python",
     "metadata": {},
     "outputs": [],
     "prompt_number": 64
    },
    {
     "cell_type": "code",
     "collapsed": false,
     "input": [
      "## initial meteor trajectory guess \n",
      "est_start_altitude = np.random.normal(100e3,20e3,ZHR)\n",
      "est_stop_altitude = np.random.normal(60e3,20e3,ZHR)\n",
      "\n",
      "est_start_lat = np.random.normal(50,2,ZHR)  \n",
      "est_start_lon = np.random.normal(14,2,ZHR)\n",
      "\n",
      "est_stop_lat = np.random.normal(50,2,ZHR) \n",
      "est_stop_lon = np.random.normal(14,2,ZHR)\n",
      "\n",
      "est_velocity = np.random.normal(50000,20000,ZHR)"
     ],
     "language": "python",
     "metadata": {},
     "outputs": [],
     "prompt_number": 28
    },
    {
     "cell_type": "code",
     "collapsed": false,
     "input": [
      "%matplotlib\n",
      "fig, ax1 = plt.subplots(figsize=(9, 7))\n",
      "ax1.set_title('Errors of estimated trajectory dopplers over all Bolidozor stations data')\n",
      "ax1.set_ylabel('Doppler [Hz]')\n",
      "ax1.set_xlabel('Time [s]')\n",
      "\n",
      "meteor_dopplers = [1,2]\n",
      "\n",
      "met_points = np.empty([timesteps.size, 3])\n",
      "\n",
      "\n",
      "for meteor in range(ZHR):\n",
      "    \n",
      "    # get meteor vector from start and stop point\n",
      "#    est_start_point = np.array(geoC.GeographicToGeocentric(est_start_lat[meteor], est_start_lon[meteor], est_start_altitude[meteor]))\n",
      "    est_start_point = np.array(geoC.GeographicToGeocentric(met_start_lat[meteor], met_start_lon[meteor], met_start_altitude[meteor]))\n",
      "    est_stop_point = np.array(geoC.GeographicToGeocentric(est_stop_lat[meteor], est_stop_lon[meteor], est_stop_altitude[meteor]))\n",
      "    est_vect = est_start_point - est_stop_point\n",
      "    est_speed_vect = est_vect/np.linalg.norm(est_vect) * est_velocity[meteor]\n",
      "    \n",
      "    # get meteor vector from start and stop point\n",
      "    met_start_point = np.array(geoC.GeographicToGeocentric(met_start_lat[meteor], met_start_lon[meteor], met_start_altitude[meteor]))\n",
      "    met_stop_point = np.array(geoC.GeographicToGeocentric(met_stop_lat[meteor], met_stop_lon[meteor], met_stop_altitude[meteor]))\n",
      "    met_vect = met_start_point - met_stop_point\n",
      "    met_speed_vect = met_vect/np.linalg.norm(met_vect) * met_velocity[meteor]\n",
      "    \n",
      "    for i in range(timesteps.size):  # generate points on meteor trajectory (discretize in space)\n",
      "        met_points[i] =  met_start_point + (met_vect * timesteps[i])\n",
      "\n",
      "    est_params = np.concatenate((est_start_point, est_speed_vect), axis=1)\n",
      "    \n",
      "    time, doppler_deviation = error_func(est_params, timesteps, stations)\n",
      "        \n",
      "    plt.plot(time, doppler_deviation, label=station['name'] if meteor == 0 else \"\")   \n",
      "    plt.legend(loc=1)"
     ],
     "language": "python",
     "metadata": {},
     "outputs": [
      {
       "output_type": "stream",
       "stream": "stdout",
       "text": [
        "Using matplotlib backend: TkAgg\n"
       ]
      }
     ],
     "prompt_number": 41
    },
    {
     "cell_type": "code",
     "collapsed": false,
     "input": [],
     "language": "python",
     "metadata": {},
     "outputs": [],
     "prompt_number": 15
    },
    {
     "cell_type": "code",
     "collapsed": false,
     "input": [
      "est_params"
     ],
     "language": "python",
     "metadata": {},
     "outputs": [
      {
       "metadata": {},
       "output_type": "pyout",
       "prompt_number": 71,
       "text": [
        "array([ 3948196.76719176,   758610.32711493,  5042852.02475125,\n",
        "          22746.70893985,   -23667.85689335,    -8584.50374134])"
       ]
      }
     ],
     "prompt_number": 71
    },
    {
     "cell_type": "code",
     "collapsed": false,
     "input": [],
     "language": "python",
     "metadata": {},
     "outputs": [],
     "prompt_number": 18
    },
    {
     "cell_type": "code",
     "collapsed": false,
     "input": [],
     "language": "python",
     "metadata": {},
     "outputs": [],
     "prompt_number": 21
    },
    {
     "cell_type": "code",
     "collapsed": false,
     "input": [],
     "language": "python",
     "metadata": {},
     "outputs": []
    },
    {
     "cell_type": "code",
     "collapsed": false,
     "input": [
      "res = minimize(total_error, est_params, args = (timesteps, stations,), method ='BFGS' , tol = 100.0,options = {'disp': True})"
     ],
     "language": "python",
     "metadata": {},
     "outputs": [
      {
       "output_type": "stream",
       "stream": "stdout",
       "text": [
        "Warning: Desired error not necessarily achieved due to precision loss.\n",
        "         Current function value: 23657072217.233959\n",
        "         Iterations: 3\n",
        "         Function evaluations: 180\n",
        "         Gradient evaluations: 21\n"
       ]
      }
     ],
     "prompt_number": 29
    },
    {
     "cell_type": "code",
     "collapsed": false,
     "input": [
      "res['success']"
     ],
     "language": "python",
     "metadata": {},
     "outputs": [
      {
       "metadata": {},
       "output_type": "pyout",
       "prompt_number": 30,
       "text": [
        "False"
       ]
      }
     ],
     "prompt_number": 30
    },
    {
     "cell_type": "code",
     "collapsed": false,
     "input": [
      "total_error(res['x'],timesteps, stations,)"
     ],
     "language": "python",
     "metadata": {},
     "outputs": [
      {
       "metadata": {},
       "output_type": "pyout",
       "prompt_number": 31,
       "text": [
        "23657072217.233959"
       ]
      }
     ],
     "prompt_number": 31
    },
    {
     "cell_type": "code",
     "collapsed": false,
     "input": [
      "est_params = res['x']"
     ],
     "language": "python",
     "metadata": {},
     "outputs": [],
     "prompt_number": 125
    },
    {
     "cell_type": "code",
     "collapsed": false,
     "input": [
      "np.linalg.norm(res['x'][3:6])"
     ],
     "language": "python",
     "metadata": {},
     "outputs": [
      {
       "metadata": {},
       "output_type": "pyout",
       "prompt_number": 101,
       "text": [
        "487977.77088964626"
       ]
      }
     ],
     "prompt_number": 101
    },
    {
     "cell_type": "code",
     "collapsed": false,
     "input": [
      "for i in range(500):\n",
      "    ## initial meteor trajectory guess \n",
      "    est_start_altitude = np.random.normal(100e3,20e3,ZHR)\n",
      "    est_stop_altitude = np.random.normal(60e3,20e3,ZHR)\n",
      "    \n",
      "    est_start_lat = np.random.normal(50,2,ZHR)  \n",
      "    est_start_lon = np.random.normal(14,2,ZHR)\n",
      "    \n",
      "    est_stop_lat = np.random.normal(50,2,ZHR) \n",
      "    est_stop_lon = np.random.normal(14,2,ZHR)\n",
      "    \n",
      "    est_velocity = np.random.normal(50000,20000,ZHR)\n",
      "\n",
      "    est_start_point = np.array(geoC.GeographicToGeocentric(met_start_lat[meteor], met_start_lon[meteor], met_start_altitude[meteor]))\n",
      "    est_stop_point = np.array(geoC.GeographicToGeocentric(met_stop_lat[meteor], met_stop_lon[meteor], met_stop_altitude[meteor]))\n",
      "    est_vect = est_start_point - est_stop_point\n",
      "    est_speed_vect = est_vect/np.linalg.norm(est_vect) * est_velocity[meteor]\n",
      "    est_params = np.concatenate((est_start_point, est_speed_vect), axis=1)\n",
      "    res = minimize(total_error, est_params, args = (timesteps, stations), method ='BFGS' , tol = 100.0,options = {'disp': True})\n",
      "    if res['success'] == True:\n",
      "        print res\n",
      "        break"
     ],
     "language": "python",
     "metadata": {},
     "outputs": [
      {
       "output_type": "stream",
       "stream": "stdout",
       "text": [
        "Warning: Desired error not necessarily achieved due to precision loss.\n",
        "         Current function value: 17366476584.119450\n",
        "         Iterations: 5\n",
        "         Function evaluations: 196\n",
        "         Gradient evaluations: 23\n",
        "Warning: Desired error not necessarily achieved due to precision loss."
       ]
      },
      {
       "output_type": "stream",
       "stream": "stdout",
       "text": [
        "\n",
        "         Current function value: 14537889556.997091\n",
        "         Iterations: 6\n",
        "         Function evaluations: 180\n",
        "         Gradient evaluations: 21\n",
        "Warning: Desired error not necessarily achieved due to precision loss."
       ]
      },
      {
       "output_type": "stream",
       "stream": "stdout",
       "text": [
        "\n",
        "         Current function value: 85800730.358029\n",
        "         Iterations: 14\n",
        "         Function evaluations: 348\n",
        "         Gradient evaluations: 42\n",
        "Warning: Desired error not necessarily achieved due to precision loss."
       ]
      },
      {
       "output_type": "stream",
       "stream": "stdout",
       "text": [
        "\n",
        "         Current function value: 16804295712.354950\n",
        "         Iterations: 3\n",
        "         Function evaluations: 196\n",
        "         Gradient evaluations: 23\n",
        "Warning: Desired error not necessarily achieved due to precision loss."
       ]
      },
      {
       "output_type": "stream",
       "stream": "stdout",
       "text": [
        "\n",
        "         Current function value: 20701518.069551\n",
        "         Iterations: 21\n",
        "         Function evaluations: 460\n",
        "         Gradient evaluations: 56\n"
       ]
      },
      {
       "ename": "KeyboardInterrupt",
       "evalue": "",
       "output_type": "pyerr",
       "traceback": [
        "\u001b[0;31m---------------------------------------------------------------------------\u001b[0m\n\u001b[0;31mKeyboardInterrupt\u001b[0m                         Traceback (most recent call last)",
        "\u001b[0;32m<ipython-input-112-cda0bd611613>\u001b[0m in \u001b[0;36m<module>\u001b[0;34m()\u001b[0m\n\u001b[1;32m     17\u001b[0m     \u001b[0mest_speed_vect\u001b[0m \u001b[0;34m=\u001b[0m \u001b[0mest_vect\u001b[0m\u001b[0;34m/\u001b[0m\u001b[0mnp\u001b[0m\u001b[0;34m.\u001b[0m\u001b[0mlinalg\u001b[0m\u001b[0;34m.\u001b[0m\u001b[0mnorm\u001b[0m\u001b[0;34m(\u001b[0m\u001b[0mest_vect\u001b[0m\u001b[0;34m)\u001b[0m \u001b[0;34m*\u001b[0m \u001b[0mest_velocity\u001b[0m\u001b[0;34m[\u001b[0m\u001b[0mmeteor\u001b[0m\u001b[0;34m]\u001b[0m\u001b[0;34m\u001b[0m\u001b[0m\n\u001b[1;32m     18\u001b[0m     \u001b[0mest_params\u001b[0m \u001b[0;34m=\u001b[0m \u001b[0mnp\u001b[0m\u001b[0;34m.\u001b[0m\u001b[0mconcatenate\u001b[0m\u001b[0;34m(\u001b[0m\u001b[0;34m(\u001b[0m\u001b[0mest_start_point\u001b[0m\u001b[0;34m,\u001b[0m \u001b[0mest_speed_vect\u001b[0m\u001b[0;34m)\u001b[0m\u001b[0;34m,\u001b[0m \u001b[0maxis\u001b[0m\u001b[0;34m=\u001b[0m\u001b[0;36m1\u001b[0m\u001b[0;34m)\u001b[0m\u001b[0;34m\u001b[0m\u001b[0m\n\u001b[0;32m---> 19\u001b[0;31m     \u001b[0mres\u001b[0m \u001b[0;34m=\u001b[0m \u001b[0mminimize\u001b[0m\u001b[0;34m(\u001b[0m\u001b[0mtotal_error\u001b[0m\u001b[0;34m,\u001b[0m \u001b[0mest_params\u001b[0m\u001b[0;34m,\u001b[0m \u001b[0margs\u001b[0m \u001b[0;34m=\u001b[0m \u001b[0;34m(\u001b[0m\u001b[0mtimesteps\u001b[0m\u001b[0;34m,\u001b[0m \u001b[0mstations\u001b[0m\u001b[0;34m)\u001b[0m\u001b[0;34m,\u001b[0m \u001b[0mmethod\u001b[0m \u001b[0;34m=\u001b[0m\u001b[0;34m'BFGS'\u001b[0m \u001b[0;34m,\u001b[0m \u001b[0mtol\u001b[0m \u001b[0;34m=\u001b[0m \u001b[0;36m100.0\u001b[0m\u001b[0;34m,\u001b[0m\u001b[0moptions\u001b[0m \u001b[0;34m=\u001b[0m \u001b[0;34m{\u001b[0m\u001b[0;34m'disp'\u001b[0m\u001b[0;34m:\u001b[0m \u001b[0mTrue\u001b[0m\u001b[0;34m}\u001b[0m\u001b[0;34m)\u001b[0m\u001b[0;34m\u001b[0m\u001b[0m\n\u001b[0m\u001b[1;32m     20\u001b[0m     \u001b[0;32mif\u001b[0m \u001b[0mres\u001b[0m\u001b[0;34m[\u001b[0m\u001b[0;34m'success'\u001b[0m\u001b[0;34m]\u001b[0m \u001b[0;34m==\u001b[0m \u001b[0mTrue\u001b[0m\u001b[0;34m:\u001b[0m\u001b[0;34m\u001b[0m\u001b[0m\n\u001b[1;32m     21\u001b[0m         \u001b[0;32mprint\u001b[0m \u001b[0mres\u001b[0m\u001b[0;34m\u001b[0m\u001b[0m\n",
        "\u001b[0;32m/usr/lib/python2.7/dist-packages/scipy/optimize/_minimize.pyc\u001b[0m in \u001b[0;36mminimize\u001b[0;34m(fun, x0, args, method, jac, hess, hessp, bounds, constraints, tol, callback, options)\u001b[0m\n\u001b[1;32m    417\u001b[0m         \u001b[0;32mreturn\u001b[0m \u001b[0m_minimize_cg\u001b[0m\u001b[0;34m(\u001b[0m\u001b[0mfun\u001b[0m\u001b[0;34m,\u001b[0m \u001b[0mx0\u001b[0m\u001b[0;34m,\u001b[0m \u001b[0margs\u001b[0m\u001b[0;34m,\u001b[0m \u001b[0mjac\u001b[0m\u001b[0;34m,\u001b[0m \u001b[0mcallback\u001b[0m\u001b[0;34m,\u001b[0m \u001b[0;34m**\u001b[0m\u001b[0moptions\u001b[0m\u001b[0;34m)\u001b[0m\u001b[0;34m\u001b[0m\u001b[0m\n\u001b[1;32m    418\u001b[0m     \u001b[0;32melif\u001b[0m \u001b[0mmeth\u001b[0m \u001b[0;34m==\u001b[0m \u001b[0;34m'bfgs'\u001b[0m\u001b[0;34m:\u001b[0m\u001b[0;34m\u001b[0m\u001b[0m\n\u001b[0;32m--> 419\u001b[0;31m         \u001b[0;32mreturn\u001b[0m \u001b[0m_minimize_bfgs\u001b[0m\u001b[0;34m(\u001b[0m\u001b[0mfun\u001b[0m\u001b[0;34m,\u001b[0m \u001b[0mx0\u001b[0m\u001b[0;34m,\u001b[0m \u001b[0margs\u001b[0m\u001b[0;34m,\u001b[0m \u001b[0mjac\u001b[0m\u001b[0;34m,\u001b[0m \u001b[0mcallback\u001b[0m\u001b[0;34m,\u001b[0m \u001b[0;34m**\u001b[0m\u001b[0moptions\u001b[0m\u001b[0;34m)\u001b[0m\u001b[0;34m\u001b[0m\u001b[0m\n\u001b[0m\u001b[1;32m    420\u001b[0m     \u001b[0;32melif\u001b[0m \u001b[0mmeth\u001b[0m \u001b[0;34m==\u001b[0m \u001b[0;34m'newton-cg'\u001b[0m\u001b[0;34m:\u001b[0m\u001b[0;34m\u001b[0m\u001b[0m\n\u001b[1;32m    421\u001b[0m         return _minimize_newtoncg(fun, x0, args, jac, hess, hessp, callback,\n",
        "\u001b[0;32m/usr/lib/python2.7/dist-packages/scipy/optimize/optimize.pyc\u001b[0m in \u001b[0;36m_minimize_bfgs\u001b[0;34m(fun, x0, args, jac, callback, gtol, norm, eps, maxiter, disp, return_all, **unknown_options)\u001b[0m\n\u001b[1;32m    848\u001b[0m             \u001b[0malpha_k\u001b[0m\u001b[0;34m,\u001b[0m \u001b[0mfc\u001b[0m\u001b[0;34m,\u001b[0m \u001b[0mgc\u001b[0m\u001b[0;34m,\u001b[0m \u001b[0mold_fval\u001b[0m\u001b[0;34m,\u001b[0m \u001b[0mold_old_fval\u001b[0m\u001b[0;34m,\u001b[0m \u001b[0mgfkp1\u001b[0m \u001b[0;34m=\u001b[0m\u001b[0;31m \u001b[0m\u001b[0;31m\\\u001b[0m\u001b[0;34m\u001b[0m\u001b[0m\n\u001b[1;32m    849\u001b[0m                      _line_search_wolfe12(f, myfprime, xk, pk, gfk,\n\u001b[0;32m--> 850\u001b[0;31m                                           old_fval, old_old_fval)\n\u001b[0m\u001b[1;32m    851\u001b[0m         \u001b[0;32mexcept\u001b[0m \u001b[0m_LineSearchError\u001b[0m\u001b[0;34m:\u001b[0m\u001b[0;34m\u001b[0m\u001b[0m\n\u001b[1;32m    852\u001b[0m             \u001b[0;31m# Line search failed to find a better solution.\u001b[0m\u001b[0;34m\u001b[0m\u001b[0;34m\u001b[0m\u001b[0m\n",
        "\u001b[0;32m/usr/lib/python2.7/dist-packages/scipy/optimize/optimize.pyc\u001b[0m in \u001b[0;36m_line_search_wolfe12\u001b[0;34m(f, fprime, xk, pk, gfk, old_fval, old_old_fval, **kwargs)\u001b[0m\n\u001b[1;32m    683\u001b[0m     ret = line_search_wolfe1(f, fprime, xk, pk, gfk,\n\u001b[1;32m    684\u001b[0m                              \u001b[0mold_fval\u001b[0m\u001b[0;34m,\u001b[0m \u001b[0mold_old_fval\u001b[0m\u001b[0;34m,\u001b[0m\u001b[0;34m\u001b[0m\u001b[0m\n\u001b[0;32m--> 685\u001b[0;31m                              **kwargs)\n\u001b[0m\u001b[1;32m    686\u001b[0m \u001b[0;34m\u001b[0m\u001b[0m\n\u001b[1;32m    687\u001b[0m     \u001b[0;32mif\u001b[0m \u001b[0mret\u001b[0m\u001b[0;34m[\u001b[0m\u001b[0;36m0\u001b[0m\u001b[0;34m]\u001b[0m \u001b[0;32mis\u001b[0m \u001b[0mNone\u001b[0m\u001b[0;34m:\u001b[0m\u001b[0;34m\u001b[0m\u001b[0m\n",
        "\u001b[0;32m/usr/lib/python2.7/dist-packages/scipy/optimize/linesearch.pyc\u001b[0m in \u001b[0;36mline_search_wolfe1\u001b[0;34m(f, fprime, xk, pk, gfk, old_fval, old_old_fval, args, c1, c2, amax, amin, xtol)\u001b[0m\n\u001b[1;32m     94\u001b[0m     stp, fval, old_fval = scalar_search_wolfe1(\n\u001b[1;32m     95\u001b[0m             \u001b[0mphi\u001b[0m\u001b[0;34m,\u001b[0m \u001b[0mderphi\u001b[0m\u001b[0;34m,\u001b[0m \u001b[0mold_fval\u001b[0m\u001b[0;34m,\u001b[0m \u001b[0mold_old_fval\u001b[0m\u001b[0;34m,\u001b[0m \u001b[0mderphi0\u001b[0m\u001b[0;34m,\u001b[0m\u001b[0;34m\u001b[0m\u001b[0m\n\u001b[0;32m---> 96\u001b[0;31m             c1=c1, c2=c2, amax=amax, amin=amin, xtol=xtol)\n\u001b[0m\u001b[1;32m     97\u001b[0m \u001b[0;34m\u001b[0m\u001b[0m\n\u001b[1;32m     98\u001b[0m     \u001b[0;32mreturn\u001b[0m \u001b[0mstp\u001b[0m\u001b[0;34m,\u001b[0m \u001b[0mfc\u001b[0m\u001b[0;34m[\u001b[0m\u001b[0;36m0\u001b[0m\u001b[0;34m]\u001b[0m\u001b[0;34m,\u001b[0m \u001b[0mgc\u001b[0m\u001b[0;34m[\u001b[0m\u001b[0;36m0\u001b[0m\u001b[0;34m]\u001b[0m\u001b[0;34m,\u001b[0m \u001b[0mfval\u001b[0m\u001b[0;34m,\u001b[0m \u001b[0mold_fval\u001b[0m\u001b[0;34m,\u001b[0m \u001b[0mgval\u001b[0m\u001b[0;34m[\u001b[0m\u001b[0;36m0\u001b[0m\u001b[0;34m]\u001b[0m\u001b[0;34m\u001b[0m\u001b[0m\n",
        "\u001b[0;32m/usr/lib/python2.7/dist-packages/scipy/optimize/linesearch.pyc\u001b[0m in \u001b[0;36mscalar_search_wolfe1\u001b[0;34m(phi, derphi, phi0, old_phi0, derphi0, c1, c2, amax, amin, xtol)\u001b[0m\n\u001b[1;32m    166\u001b[0m             \u001b[0malpha1\u001b[0m \u001b[0;34m=\u001b[0m \u001b[0mstp\u001b[0m\u001b[0;34m\u001b[0m\u001b[0m\n\u001b[1;32m    167\u001b[0m             \u001b[0mphi1\u001b[0m \u001b[0;34m=\u001b[0m \u001b[0mphi\u001b[0m\u001b[0;34m(\u001b[0m\u001b[0mstp\u001b[0m\u001b[0;34m)\u001b[0m\u001b[0;34m\u001b[0m\u001b[0m\n\u001b[0;32m--> 168\u001b[0;31m             \u001b[0mderphi1\u001b[0m \u001b[0;34m=\u001b[0m \u001b[0mderphi\u001b[0m\u001b[0;34m(\u001b[0m\u001b[0mstp\u001b[0m\u001b[0;34m)\u001b[0m\u001b[0;34m\u001b[0m\u001b[0m\n\u001b[0m\u001b[1;32m    169\u001b[0m         \u001b[0;32melse\u001b[0m\u001b[0;34m:\u001b[0m\u001b[0;34m\u001b[0m\u001b[0m\n\u001b[1;32m    170\u001b[0m             \u001b[0;32mbreak\u001b[0m\u001b[0;34m\u001b[0m\u001b[0m\n",
        "\u001b[0;32m/usr/lib/python2.7/dist-packages/scipy/optimize/linesearch.pyc\u001b[0m in \u001b[0;36mderphi\u001b[0;34m(s)\u001b[0m\n\u001b[1;32m     83\u001b[0m \u001b[0;34m\u001b[0m\u001b[0m\n\u001b[1;32m     84\u001b[0m     \u001b[0;32mdef\u001b[0m \u001b[0mderphi\u001b[0m\u001b[0;34m(\u001b[0m\u001b[0ms\u001b[0m\u001b[0;34m)\u001b[0m\u001b[0;34m:\u001b[0m\u001b[0;34m\u001b[0m\u001b[0m\n\u001b[0;32m---> 85\u001b[0;31m         \u001b[0mgval\u001b[0m\u001b[0;34m[\u001b[0m\u001b[0;36m0\u001b[0m\u001b[0;34m]\u001b[0m \u001b[0;34m=\u001b[0m \u001b[0mfprime\u001b[0m\u001b[0;34m(\u001b[0m\u001b[0mxk\u001b[0m \u001b[0;34m+\u001b[0m \u001b[0ms\u001b[0m\u001b[0;34m*\u001b[0m\u001b[0mpk\u001b[0m\u001b[0;34m,\u001b[0m \u001b[0;34m*\u001b[0m\u001b[0mnewargs\u001b[0m\u001b[0;34m)\u001b[0m\u001b[0;34m\u001b[0m\u001b[0m\n\u001b[0m\u001b[1;32m     86\u001b[0m         \u001b[0;32mif\u001b[0m \u001b[0mgradient\u001b[0m\u001b[0;34m:\u001b[0m\u001b[0;34m\u001b[0m\u001b[0m\n\u001b[1;32m     87\u001b[0m             \u001b[0mgc\u001b[0m\u001b[0;34m[\u001b[0m\u001b[0;36m0\u001b[0m\u001b[0;34m]\u001b[0m \u001b[0;34m+=\u001b[0m \u001b[0;36m1\u001b[0m\u001b[0;34m\u001b[0m\u001b[0m\n",
        "\u001b[0;32m/usr/lib/python2.7/dist-packages/scipy/optimize/optimize.pyc\u001b[0m in \u001b[0;36mfunction_wrapper\u001b[0;34m(*wrapper_args)\u001b[0m\n\u001b[1;32m    279\u001b[0m     \u001b[0;32mdef\u001b[0m \u001b[0mfunction_wrapper\u001b[0m\u001b[0;34m(\u001b[0m\u001b[0;34m*\u001b[0m\u001b[0mwrapper_args\u001b[0m\u001b[0;34m)\u001b[0m\u001b[0;34m:\u001b[0m\u001b[0;34m\u001b[0m\u001b[0m\n\u001b[1;32m    280\u001b[0m         \u001b[0mncalls\u001b[0m\u001b[0;34m[\u001b[0m\u001b[0;36m0\u001b[0m\u001b[0;34m]\u001b[0m \u001b[0;34m+=\u001b[0m \u001b[0;36m1\u001b[0m\u001b[0;34m\u001b[0m\u001b[0m\n\u001b[0;32m--> 281\u001b[0;31m         \u001b[0;32mreturn\u001b[0m \u001b[0mfunction\u001b[0m\u001b[0;34m(\u001b[0m\u001b[0;34m*\u001b[0m\u001b[0;34m(\u001b[0m\u001b[0mwrapper_args\u001b[0m \u001b[0;34m+\u001b[0m \u001b[0margs\u001b[0m\u001b[0;34m)\u001b[0m\u001b[0;34m)\u001b[0m\u001b[0;34m\u001b[0m\u001b[0m\n\u001b[0m\u001b[1;32m    282\u001b[0m \u001b[0;34m\u001b[0m\u001b[0m\n\u001b[1;32m    283\u001b[0m     \u001b[0;32mreturn\u001b[0m \u001b[0mncalls\u001b[0m\u001b[0;34m,\u001b[0m \u001b[0mfunction_wrapper\u001b[0m\u001b[0;34m\u001b[0m\u001b[0m\n",
        "\u001b[0;32m/usr/lib/python2.7/dist-packages/scipy/optimize/optimize.pyc\u001b[0m in \u001b[0;36mapprox_fprime\u001b[0;34m(xk, f, epsilon, *args)\u001b[0m\n\u001b[1;32m    608\u001b[0m         \u001b[0mei\u001b[0m\u001b[0;34m[\u001b[0m\u001b[0mk\u001b[0m\u001b[0;34m]\u001b[0m \u001b[0;34m=\u001b[0m \u001b[0;36m1.0\u001b[0m\u001b[0;34m\u001b[0m\u001b[0m\n\u001b[1;32m    609\u001b[0m         \u001b[0md\u001b[0m \u001b[0;34m=\u001b[0m \u001b[0mepsilon\u001b[0m \u001b[0;34m*\u001b[0m \u001b[0mei\u001b[0m\u001b[0;34m\u001b[0m\u001b[0m\n\u001b[0;32m--> 610\u001b[0;31m         \u001b[0mgrad\u001b[0m\u001b[0;34m[\u001b[0m\u001b[0mk\u001b[0m\u001b[0;34m]\u001b[0m \u001b[0;34m=\u001b[0m \u001b[0;34m(\u001b[0m\u001b[0mf\u001b[0m\u001b[0;34m(\u001b[0m\u001b[0;34m*\u001b[0m\u001b[0;34m(\u001b[0m\u001b[0;34m(\u001b[0m\u001b[0mxk\u001b[0m \u001b[0;34m+\u001b[0m \u001b[0md\u001b[0m\u001b[0;34m,\u001b[0m\u001b[0;34m)\u001b[0m \u001b[0;34m+\u001b[0m \u001b[0margs\u001b[0m\u001b[0;34m)\u001b[0m\u001b[0;34m)\u001b[0m \u001b[0;34m-\u001b[0m \u001b[0mf0\u001b[0m\u001b[0;34m)\u001b[0m \u001b[0;34m/\u001b[0m \u001b[0md\u001b[0m\u001b[0;34m[\u001b[0m\u001b[0mk\u001b[0m\u001b[0;34m]\u001b[0m\u001b[0;34m\u001b[0m\u001b[0m\n\u001b[0m\u001b[1;32m    611\u001b[0m         \u001b[0mei\u001b[0m\u001b[0;34m[\u001b[0m\u001b[0mk\u001b[0m\u001b[0;34m]\u001b[0m \u001b[0;34m=\u001b[0m \u001b[0;36m0.0\u001b[0m\u001b[0;34m\u001b[0m\u001b[0m\n\u001b[1;32m    612\u001b[0m \u001b[0;34m\u001b[0m\u001b[0m\n",
        "\u001b[0;32m/usr/lib/python2.7/dist-packages/scipy/optimize/optimize.pyc\u001b[0m in \u001b[0;36mfunction_wrapper\u001b[0;34m(*wrapper_args)\u001b[0m\n\u001b[1;32m    279\u001b[0m     \u001b[0;32mdef\u001b[0m \u001b[0mfunction_wrapper\u001b[0m\u001b[0;34m(\u001b[0m\u001b[0;34m*\u001b[0m\u001b[0mwrapper_args\u001b[0m\u001b[0;34m)\u001b[0m\u001b[0;34m:\u001b[0m\u001b[0;34m\u001b[0m\u001b[0m\n\u001b[1;32m    280\u001b[0m         \u001b[0mncalls\u001b[0m\u001b[0;34m[\u001b[0m\u001b[0;36m0\u001b[0m\u001b[0;34m]\u001b[0m \u001b[0;34m+=\u001b[0m \u001b[0;36m1\u001b[0m\u001b[0;34m\u001b[0m\u001b[0m\n\u001b[0;32m--> 281\u001b[0;31m         \u001b[0;32mreturn\u001b[0m \u001b[0mfunction\u001b[0m\u001b[0;34m(\u001b[0m\u001b[0;34m*\u001b[0m\u001b[0;34m(\u001b[0m\u001b[0mwrapper_args\u001b[0m \u001b[0;34m+\u001b[0m \u001b[0margs\u001b[0m\u001b[0;34m)\u001b[0m\u001b[0;34m)\u001b[0m\u001b[0;34m\u001b[0m\u001b[0m\n\u001b[0m\u001b[1;32m    282\u001b[0m \u001b[0;34m\u001b[0m\u001b[0m\n\u001b[1;32m    283\u001b[0m     \u001b[0;32mreturn\u001b[0m \u001b[0mncalls\u001b[0m\u001b[0;34m,\u001b[0m \u001b[0mfunction_wrapper\u001b[0m\u001b[0;34m\u001b[0m\u001b[0m\n",
        "\u001b[0;32m<ipython-input-56-c875c4bb57b2>\u001b[0m in \u001b[0;36mtotal_error\u001b[0;34m(met_params, timesteps, stations)\u001b[0m\n\u001b[1;32m      1\u001b[0m \u001b[0;32mdef\u001b[0m \u001b[0mtotal_error\u001b[0m\u001b[0;34m(\u001b[0m\u001b[0mmet_params\u001b[0m\u001b[0;34m,\u001b[0m \u001b[0mtimesteps\u001b[0m\u001b[0;34m,\u001b[0m \u001b[0mstations\u001b[0m\u001b[0;34m)\u001b[0m\u001b[0;34m:\u001b[0m\u001b[0;34m\u001b[0m\u001b[0m\n\u001b[0;32m----> 2\u001b[0;31m     \u001b[0mtime\u001b[0m\u001b[0;34m,\u001b[0m \u001b[0mdoppler_errors\u001b[0m \u001b[0;34m=\u001b[0m \u001b[0merror_func\u001b[0m\u001b[0;34m(\u001b[0m\u001b[0mmet_params\u001b[0m\u001b[0;34m,\u001b[0m \u001b[0mtimesteps\u001b[0m\u001b[0;34m,\u001b[0m \u001b[0mstations\u001b[0m\u001b[0;34m)\u001b[0m\u001b[0;34m\u001b[0m\u001b[0m\n\u001b[0m\u001b[1;32m      3\u001b[0m \u001b[0;34m\u001b[0m\u001b[0m\n\u001b[1;32m      4\u001b[0m     \u001b[0;32mreturn\u001b[0m \u001b[0mnp\u001b[0m\u001b[0;34m.\u001b[0m\u001b[0msum\u001b[0m\u001b[0;34m(\u001b[0m\u001b[0mdoppler_errors\u001b[0m\u001b[0;34m)\u001b[0m\u001b[0;34m\u001b[0m\u001b[0m\n",
        "\u001b[0;32m<ipython-input-68-c17e543280cb>\u001b[0m in \u001b[0;36merror_func\u001b[0;34m(est_params, timesteps, stations)\u001b[0m\n\u001b[1;32m     16\u001b[0m     \u001b[0;32mfor\u001b[0m \u001b[0mstation\u001b[0m \u001b[0;32min\u001b[0m \u001b[0mstations\u001b[0m\u001b[0;34m:\u001b[0m\u001b[0;34m\u001b[0m\u001b[0m\n\u001b[1;32m     17\u001b[0m         \u001b[0mrec_station_point\u001b[0m \u001b[0;34m=\u001b[0m \u001b[0mnp\u001b[0m\u001b[0;34m.\u001b[0m\u001b[0marray\u001b[0m\u001b[0;34m(\u001b[0m\u001b[0mgeoC\u001b[0m\u001b[0;34m.\u001b[0m\u001b[0mGeographicToGeocentric\u001b[0m\u001b[0;34m(\u001b[0m\u001b[0mstation\u001b[0m\u001b[0;34m[\u001b[0m\u001b[0;34m'latitude'\u001b[0m\u001b[0;34m]\u001b[0m\u001b[0;34m,\u001b[0m \u001b[0mstation\u001b[0m\u001b[0;34m[\u001b[0m\u001b[0;34m'longitude'\u001b[0m\u001b[0;34m]\u001b[0m\u001b[0;34m,\u001b[0m \u001b[0mstation\u001b[0m\u001b[0;34m[\u001b[0m\u001b[0;34m'elevation'\u001b[0m\u001b[0;34m]\u001b[0m\u001b[0;34m)\u001b[0m\u001b[0;34m)\u001b[0m\u001b[0;34m\u001b[0m\u001b[0m\n\u001b[0;32m---> 18\u001b[0;31m         \u001b[0mest_doppler\u001b[0m \u001b[0;34m=\u001b[0m \u001b[0mestimate_dopplers\u001b[0m\u001b[0;34m(\u001b[0m\u001b[0mest_points\u001b[0m\u001b[0;34m,\u001b[0m \u001b[0mtimesteps\u001b[0m\u001b[0;34m,\u001b[0m \u001b[0mf0\u001b[0m\u001b[0;34m,\u001b[0m \u001b[0mtrans_station_point\u001b[0m\u001b[0;34m,\u001b[0m \u001b[0mrec_station_point\u001b[0m\u001b[0;34m)\u001b[0m\u001b[0;34m\u001b[0m\u001b[0m\n\u001b[0m\u001b[1;32m     19\u001b[0m         \u001b[0mindexes\u001b[0m \u001b[0;34m=\u001b[0m \u001b[0mstation\u001b[0m\u001b[0;34m[\u001b[0m\u001b[0;34m'doppler_indexes'\u001b[0m\u001b[0;34m]\u001b[0m\u001b[0;34m[\u001b[0m\u001b[0;36m0\u001b[0m\u001b[0;34m]\u001b[0m\u001b[0;34m\u001b[0m\u001b[0m\n\u001b[1;32m     20\u001b[0m \u001b[0;34m\u001b[0m\u001b[0m\n",
        "\u001b[0;32m<ipython-input-45-b40b914725ae>\u001b[0m in \u001b[0;36mestimate_dopplers\u001b[0;34m(trajectory, timesteps, f0, trans_station, rec_station)\u001b[0m\n\u001b[1;32m     22\u001b[0m         \u001b[0mprevious_rec_to_met\u001b[0m \u001b[0;34m=\u001b[0m \u001b[0mrec_to_met\u001b[0m\u001b[0;34m[\u001b[0m\u001b[0mi\u001b[0m\u001b[0;34m]\u001b[0m\u001b[0;34m\u001b[0m\u001b[0m\n\u001b[1;32m     23\u001b[0m         \u001b[0mspeed\u001b[0m \u001b[0;34m=\u001b[0m \u001b[0mmet_rec_speed\u001b[0m\u001b[0;34m/\u001b[0m\u001b[0mt\u001b[0m\u001b[0;34m\u001b[0m\u001b[0m\n\u001b[0;32m---> 24\u001b[0;31m         \u001b[0mf2\u001b[0m \u001b[0;34m=\u001b[0m \u001b[0;34m(\u001b[0m\u001b[0mc\u001b[0m\u001b[0;34m/\u001b[0m\u001b[0;34m(\u001b[0m\u001b[0mc\u001b[0m \u001b[0;34m-\u001b[0m \u001b[0mspeed\u001b[0m\u001b[0;34m)\u001b[0m \u001b[0;34m*\u001b[0m \u001b[0mf1\u001b[0m\u001b[0;34m)\u001b[0m\u001b[0;34m\u001b[0m\u001b[0m\n\u001b[0m\u001b[1;32m     25\u001b[0m         \u001b[0mdoppler\u001b[0m\u001b[0;34m[\u001b[0m\u001b[0mi\u001b[0m\u001b[0;34m]\u001b[0m \u001b[0;34m=\u001b[0m \u001b[0mnp\u001b[0m\u001b[0;34m.\u001b[0m\u001b[0marray\u001b[0m\u001b[0;34m(\u001b[0m\u001b[0;34m[\u001b[0m\u001b[0mtimesteps\u001b[0m\u001b[0;34m[\u001b[0m\u001b[0mi\u001b[0m\u001b[0;34m]\u001b[0m\u001b[0;34m,\u001b[0m \u001b[0mf2\u001b[0m\u001b[0;34m-\u001b[0m\u001b[0mf0\u001b[0m\u001b[0;34m]\u001b[0m\u001b[0;34m)\u001b[0m\u001b[0;34m\u001b[0m\u001b[0m\n\u001b[1;32m     26\u001b[0m     \u001b[0;32mreturn\u001b[0m \u001b[0mdoppler\u001b[0m\u001b[0;34m\u001b[0m\u001b[0m\n",
        "\u001b[0;31mKeyboardInterrupt\u001b[0m: "
       ]
      }
     ],
     "prompt_number": 112
    },
    {
     "cell_type": "code",
     "collapsed": false,
     "input": [
      "dview = clients[:]"
     ],
     "language": "python",
     "metadata": {},
     "outputs": [],
     "prompt_number": 28
    },
    {
     "cell_type": "code",
     "collapsed": false,
     "input": [
      "res  = dview.apply(find_trajectory, timesteps, stations)"
     ],
     "language": "python",
     "metadata": {},
     "outputs": [],
     "prompt_number": 106
    },
    {
     "cell_type": "code",
     "collapsed": false,
     "input": [
      "process_list = [] \n",
      "\n",
      "for i in clients.ids:\n",
      "    process_list.append(view.apply(find_trajectory, timesteps, stations))"
     ],
     "language": "python",
     "metadata": {},
     "outputs": [],
     "prompt_number": 31
    },
    {
     "cell_type": "code",
     "collapsed": false,
     "input": [
      "import time\n",
      "\n",
      "trajectory_known = False\n",
      "\n",
      "\n",
      "while not trajectory_known:\n",
      "    for process in process_list:\n",
      "        if process.ready():\n",
      "            if process.result['success']:\n",
      "                print process.result\n",
      "                est_params = process.result['x']\n",
      "                trajectory_known = True\n",
      "                break\n",
      "            else:\n",
      "                print process.result['fun']\n",
      "                process_list.remove(process)\n",
      "                process_list.append(view.apply(find_trajectory, timesteps, stations))\n",
      "    time.sleep(10)"
     ],
     "language": "python",
     "metadata": {},
     "outputs": [
      {
       "output_type": "stream",
       "stream": "stdout",
       "text": [
        "1.93918910769e+11\n",
        "38061917808.6\n",
        "1.56643497393e+11"
       ]
      },
      {
       "output_type": "stream",
       "stream": "stdout",
       "text": [
        "\n",
        "1.6689432036e+12"
       ]
      },
      {
       "output_type": "stream",
       "stream": "stdout",
       "text": [
        "\n",
        "7.29052318141e+13"
       ]
      },
      {
       "output_type": "stream",
       "stream": "stdout",
       "text": [
        "\n",
        "1.65690686653e+12"
       ]
      }
     ]
    },
    {
     "cell_type": "code",
     "collapsed": false,
     "input": [
      "process_list[3].ready()"
     ],
     "language": "python",
     "metadata": {},
     "outputs": [
      {
       "metadata": {},
       "output_type": "pyout",
       "prompt_number": 57,
       "text": [
        "True"
       ]
      }
     ],
     "prompt_number": 57
    },
    {
     "cell_type": "code",
     "collapsed": false,
     "input": [
      "def find_trajectory(timesteps,stations_data):\n",
      "    ## initial meteor trajectory guess \n",
      "    est_start_altitude = np.random.normal(100e3,20e3,1)\n",
      "    est_stop_altitude = np.random.normal(60e3,20e3,1)\n",
      "    \n",
      "    est_start_lat = np.random.normal(50,2,1)  \n",
      "    est_start_lon = np.random.normal(14,2,1)\n",
      "    \n",
      "    est_stop_lat = np.random.normal(50,2,1) \n",
      "    est_stop_lon = np.random.normal(14,2,1)\n",
      "    \n",
      "    est_velocity = np.random.normal(50000,20000,1)\n",
      "\n",
      "    est_start_point = np.array(geoC.GeographicToGeocentric(est_start_lat, est_start_lon, est_start_altitude))\n",
      "    est_stop_point = np.array(geoC.GeographicToGeocentric(est_stop_lat, est_stop_lon, est_stop_altitude))\n",
      "    est_vect = est_start_point - est_stop_point\n",
      "    est_speed_vect = est_vect/np.linalg.norm(est_vect) * est_velocity\n",
      "    est_params = np.concatenate((est_start_point, est_speed_vect), axis=1)\n",
      "    res = minimize(total_error, est_params, args = (timesteps, stations_data,), method ='BFGS' , tol = 100.0,options = {'disp': True})\n",
      "    return res"
     ],
     "language": "python",
     "metadata": {},
     "outputs": [],
     "prompt_number": 30
    },
    {
     "cell_type": "code",
     "collapsed": false,
     "input": [
      "res = find_trajectory(stations)"
     ],
     "language": "python",
     "metadata": {},
     "outputs": [
      {
       "output_type": "stream",
       "stream": "stdout",
       "text": [
        "Warning: Desired error not necessarily achieved due to precision loss.\n",
        "         Current function value: 758755302860.741943\n",
        "         Iterations: 26\n",
        "         Function evaluations: 516\n",
        "         Gradient evaluations: 63\n"
       ]
      }
     ],
     "prompt_number": 100
    },
    {
     "cell_type": "code",
     "collapsed": false,
     "input": [
      "est_params = np.array([  2.01861912e+06,   9.70584813e+05,   3.70345954e+06,\n",
      "        -8.96368371e+02,   4.22467222e+04,   1.49112623e+04])"
     ],
     "language": "python",
     "metadata": {},
     "outputs": [],
     "prompt_number": 94
    },
    {
     "cell_type": "code",
     "collapsed": false,
     "input": [
      "est_start_point = est_params[0:3]\n",
      "est_vect = est_params[3:6]\n",
      "est_points = np.empty([timesteps.size, 3])\n",
      "\n",
      "for i in range(timesteps.size):  # generate points on meteor trajectory (discretize in space)\n",
      "    est_points[i] =  est_start_point + (est_vect * timesteps[i])"
     ],
     "language": "python",
     "metadata": {},
     "outputs": [],
     "prompt_number": 126
    },
    {
     "cell_type": "code",
     "collapsed": false,
     "input": [
      "%matplotlib\n",
      "fig = plt.figure()\n",
      "ax = plt.axes(projection='3d')\n",
      "ax.set_title('Meteor Trajectories')\n",
      "ax.set_ylabel('Position [m]')\n",
      "ax.set_xlabel('Position [m]')\n",
      "ax.set_zlabel('Position [m]')\n",
      "ax.scatter(met_points[:,0], met_points[:,1], met_points[:,2], color = 'b', label= \"Real\")\n",
      "ax.scatter(est_points[:,0], est_points[:,1], est_points[:,2], color = 'r', label= \"Estimated\")\n"
     ],
     "language": "python",
     "metadata": {},
     "outputs": [
      {
       "output_type": "stream",
       "stream": "stdout",
       "text": [
        "Using matplotlib backend: TkAgg\n"
       ]
      },
      {
       "metadata": {},
       "output_type": "pyout",
       "prompt_number": 127,
       "text": [
        "<mpl_toolkits.mplot3d.art3d.Path3DCollection at 0x7f9217adf8d0>"
       ]
      }
     ],
     "prompt_number": 127
    },
    {
     "cell_type": "code",
     "collapsed": false,
     "input": [
      "%matplotlib\n",
      "fig, ax1 = plt.subplots(figsize=(9, 7))\n",
      "ax1.set_title('Dopplers of estimated  meteor trajectory')\n",
      "ax1.set_ylabel('Doppler [Hz]')\n",
      "ax1.set_xlabel('Time [s]')\n",
      "\n",
      "    \n",
      "for station in stations:\n",
      "    rec_station_point = np.array(geoC.GeographicToGeocentric(station['latitude'], station['longitude'], station['elevation']))\n",
      "\n",
      "    #doppler_met = estimate_dopplers(met_points, f0, trans_station_point, rec_station_point)\n",
      "    doppler_est = estimate_dopplers(est_points, f0, trans_station_point, rec_station_point)\n",
      "\n",
      "    plt.plot(station['doppler'][:,0], station['doppler'][:,1], label=station['name'] if meteor == 0 else \"\", color = 'b')\n",
      "    plt.plot(doppler_est[1:,0], doppler_est[1:,1], color = 'r')\n",
      "    \n",
      "plt.legend(loc=1)"
     ],
     "language": "python",
     "metadata": {},
     "outputs": [
      {
       "ename": "NameError",
       "evalue": "name 'est_points' is not defined",
       "output_type": "pyerr",
       "traceback": [
        "\u001b[0;31m---------------------------------------------------------------------------\u001b[0m\n\u001b[0;31mNameError\u001b[0m                                 Traceback (most recent call last)",
        "\u001b[0;32m<ipython-input-30-219071759e06>\u001b[0m in \u001b[0;36m<module>\u001b[0;34m()\u001b[0m\n\u001b[1;32m     10\u001b[0m \u001b[0;34m\u001b[0m\u001b[0m\n\u001b[1;32m     11\u001b[0m     \u001b[0;31m#doppler_met = estimate_dopplers(met_points, f0, trans_station_point, rec_station_point)\u001b[0m\u001b[0;34m\u001b[0m\u001b[0;34m\u001b[0m\u001b[0m\n\u001b[0;32m---> 12\u001b[0;31m     \u001b[0mdoppler_est\u001b[0m \u001b[0;34m=\u001b[0m \u001b[0mestimate_dopplers\u001b[0m\u001b[0;34m(\u001b[0m\u001b[0mest_points\u001b[0m\u001b[0;34m,\u001b[0m \u001b[0mf0\u001b[0m\u001b[0;34m,\u001b[0m \u001b[0mtrans_station_point\u001b[0m\u001b[0;34m,\u001b[0m \u001b[0mrec_station_point\u001b[0m\u001b[0;34m)\u001b[0m\u001b[0;34m\u001b[0m\u001b[0m\n\u001b[0m\u001b[1;32m     13\u001b[0m \u001b[0;34m\u001b[0m\u001b[0m\n\u001b[1;32m     14\u001b[0m     \u001b[0mplt\u001b[0m\u001b[0;34m.\u001b[0m\u001b[0mplot\u001b[0m\u001b[0;34m(\u001b[0m\u001b[0mstation\u001b[0m\u001b[0;34m[\u001b[0m\u001b[0;34m'doppler'\u001b[0m\u001b[0;34m]\u001b[0m\u001b[0;34m[\u001b[0m\u001b[0;34m:\u001b[0m\u001b[0;34m,\u001b[0m\u001b[0;36m0\u001b[0m\u001b[0;34m]\u001b[0m\u001b[0;34m,\u001b[0m \u001b[0mstation\u001b[0m\u001b[0;34m[\u001b[0m\u001b[0;34m'doppler'\u001b[0m\u001b[0;34m]\u001b[0m\u001b[0;34m[\u001b[0m\u001b[0;34m:\u001b[0m\u001b[0;34m,\u001b[0m\u001b[0;36m1\u001b[0m\u001b[0;34m]\u001b[0m\u001b[0;34m,\u001b[0m \u001b[0mlabel\u001b[0m\u001b[0;34m=\u001b[0m\u001b[0mstation\u001b[0m\u001b[0;34m[\u001b[0m\u001b[0;34m'name'\u001b[0m\u001b[0;34m]\u001b[0m \u001b[0;32mif\u001b[0m \u001b[0mmeteor\u001b[0m \u001b[0;34m==\u001b[0m \u001b[0;36m0\u001b[0m \u001b[0;32melse\u001b[0m \u001b[0;34m\"\"\u001b[0m\u001b[0;34m,\u001b[0m \u001b[0mcolor\u001b[0m \u001b[0;34m=\u001b[0m \u001b[0;34m'b'\u001b[0m\u001b[0;34m)\u001b[0m\u001b[0;34m\u001b[0m\u001b[0m\n",
        "\u001b[0;31mNameError\u001b[0m: name 'est_points' is not defined"
       ]
      },
      {
       "output_type": "stream",
       "stream": "stdout",
       "text": [
        "Using matplotlib backend: TkAgg\n"
       ]
      }
     ],
     "prompt_number": 30
    },
    {
     "cell_type": "code",
     "collapsed": false,
     "input": [
      "est_points.shape\n"
     ],
     "language": "python",
     "metadata": {},
     "outputs": []
    },
    {
     "cell_type": "code",
     "collapsed": false,
     "input": [
      "help(minimize)"
     ],
     "language": "python",
     "metadata": {},
     "outputs": [
      {
       "ename": "NameError",
       "evalue": "name 'minimize' is not defined",
       "output_type": "pyerr",
       "traceback": [
        "\u001b[0;31m---------------------------------------------------------------------------\u001b[0m\n\u001b[0;31mNameError\u001b[0m                                 Traceback (most recent call last)",
        "\u001b[0;32m<ipython-input-55-53b9f071b3f5>\u001b[0m in \u001b[0;36m<module>\u001b[0;34m()\u001b[0m\n\u001b[0;32m----> 1\u001b[0;31m \u001b[0mhelp\u001b[0m\u001b[0;34m(\u001b[0m\u001b[0mminimize\u001b[0m\u001b[0;34m)\u001b[0m\u001b[0;34m\u001b[0m\u001b[0m\n\u001b[0m",
        "\u001b[0;31mNameError\u001b[0m: name 'minimize' is not defined"
       ]
      }
     ],
     "prompt_number": 55
    },
    {
     "cell_type": "code",
     "collapsed": false,
     "input": [
      "bounds = [(3.0e+06,4.0e+06), (3.0e+06,4.0e+06), (3.0e+06,4.0e+06), (-3.0e+04,3.0e+04), (-3.0e+04,3.0e+04), (-3.0e+04,3.0e+04)]\n",
      "res = differential_evolution(total_error, bounds, disp = True )"
     ],
     "language": "python",
     "metadata": {},
     "outputs": []
    },
    {
     "cell_type": "code",
     "collapsed": false,
     "input": [
      "import array\n",
      "import random\n",
      "import json\n",
      "\n",
      "import numpy\n",
      "\n",
      "from deap import algorithms\n",
      "from deap import base\n",
      "from deap import creator\n",
      "from deap import tools\n",
      "\n",
      "# gr*.json contains the distance map in list of list style in JSON format\n",
      "# Optimal solutions are : gr17 = 2085, gr24 = 1272, gr120 = 6942\n",
      "with open(\"tsp/gr17.json\", \"r\") as tsp_data:\n",
      "    tsp = json.load(tsp_data)\n",
      "\n",
      "distance_map = tsp[\"DistanceMatrix\"]\n",
      "IND_SIZE = tsp[\"TourSize\"]\n",
      "\n",
      "creator.create(\"FitnessMin\", base.Fitness, weights=(-1.0,))\n",
      "creator.create(\"Individual\", array.array, typecode='i', fitness=creator.FitnessMin)\n",
      "\n",
      "toolbox = base.Toolbox()\n",
      "\n",
      "# Attribute generator\n",
      "toolbox.register(\"indices\", random.sample, range(IND_SIZE), IND_SIZE)\n",
      "\n",
      "# Structure initializers\n",
      "toolbox.register(\"individual\", tools.initIterate, creator.Individual, toolbox.indices)\n",
      "toolbox.register(\"population\", tools.initRepeat, list, toolbox.individual)\n",
      "\n",
      "def evalTSP(individual):\n",
      "    distance = distance_map[individual[-1]][individual[0]]\n",
      "    for gene1, gene2 in zip(individual[0:-1], individual[1:]):\n",
      "        distance += distance_map[gene1][gene2]\n",
      "    return distance,\n",
      "\n",
      "toolbox.register(\"mate\", tools.cxPartialyMatched)\n",
      "toolbox.register(\"mutate\", tools.mutShuffleIndexes, indpb=0.05)\n",
      "toolbox.register(\"select\", tools.selTournament, tournsize=3)\n",
      "toolbox.register(\"evaluate\", evalTSP)\n"
     ],
     "language": "python",
     "metadata": {},
     "outputs": [],
     "prompt_number": 1
    },
    {
     "cell_type": "code",
     "collapsed": false,
     "input": [
      "random.seed(169)\n",
      "\n",
      "pop = toolbox.population(n=300)\n",
      "\n",
      "hof = tools.HallOfFame(1)\n",
      "stats = tools.Statistics(lambda ind: ind.fitness.values)\n",
      "stats.register(\"avg\", numpy.mean)\n",
      "stats.register(\"std\", numpy.std)\n",
      "stats.register(\"min\", numpy.min)\n",
      "stats.register(\"max\", numpy.max)\n",
      "\n",
      "algorithms.eaSimple(pop, toolbox, 0.7, 0.2, 40, stats=stats, halloffame=hof)\n",
      "\n",
      "#pop, stats, hof"
     ],
     "language": "python",
     "metadata": {},
     "outputs": [
      {
       "output_type": "stream",
       "stream": "stdout",
       "text": [
        "gen\tnevals\tavg   \tstd    \tmin \tmax \n",
        "0  \t300   \t4700.7\t424.386\t3606\t5842\n",
        "1  \t217   \t4463.74\t385.243\t3587\t5808\n",
        "2  \t225   \t4364.21\t416.823\t3364\t5513\n",
        "3  \t223   \t4285.67\t458.048\t3201\t5501\n",
        "4  \t223   \t4206.02\t475.679\t3215\t5606\n",
        "5  \t230   \t4146.42\t504.015\t3150\t5943\n",
        "6  \t247   \t4123.21\t513.325\t3078\t5652"
       ]
      },
      {
       "output_type": "stream",
       "stream": "stdout",
       "text": [
        "\n",
        "7  \t231   \t4081.35\t533.341\t2616\t5580\n",
        "8  \t232   \t4027.11\t510.98 \t2616\t5571\n",
        "9  \t214   \t3978.78\t525.99 \t2616\t5645\n",
        "10 \t228   \t3943.08\t569.815\t2811\t5422\n",
        "11 \t235   \t3900.61\t570.03 \t2542\t5524\n",
        "12 \t213   \t3816.81\t565.796\t2542\t5477"
       ]
      },
      {
       "output_type": "stream",
       "stream": "stdout",
       "text": [
        "\n",
        "13 \t222   \t3744.63\t560.789\t2542\t5049\n",
        "14 \t228   \t3643.4 \t559.641\t2542\t5217\n",
        "15 \t229   \t3551.48\t572.28 \t2526\t5100\n",
        "16 \t226   \t3391.22\t491.641\t2505\t5370\n",
        "17 \t236   \t3253.73\t496.11 \t2468\t5012\n",
        "18 \t221   \t3050.2 \t378.099\t2412\t4823\n",
        "19 \t215   \t2918.94\t328.25 \t2339\t4331"
       ]
      },
      {
       "output_type": "stream",
       "stream": "stdout",
       "text": [
        "\n",
        "20 \t205   \t2798.48\t314.093\t2339\t3940\n",
        "21 \t209   \t2707.55\t352.161\t2276\t4257\n",
        "22 \t216   \t2568.45\t321.18 \t2233\t4708\n",
        "23 \t244   \t2498.27\t336.388\t2233\t4785\n",
        "24 \t219   \t2424.09\t262.651\t2228\t3928\n",
        "25 \t231   \t2406.27\t326.672\t2157\t4838"
       ]
      },
      {
       "output_type": "stream",
       "stream": "stdout",
       "text": [
        "\n",
        "26 \t217   \t2357.61\t288.564\t2147\t4444\n",
        "27 \t209   \t2310.19\t229.065\t2157\t3857\n",
        "28 \t228   \t2322.92\t336.49 \t2144\t4419\n",
        "29 \t236   \t2287.16\t286.619\t2143\t4101\n",
        "30 \t238   \t2292.43\t344.675\t2135\t4190\n",
        "31 \t215   \t2244.14\t256.413\t2132\t3866"
       ]
      },
      {
       "output_type": "stream",
       "stream": "stdout",
       "text": [
        "\n",
        "32 \t224   \t2237.4 \t300.56 \t2132\t4216\n",
        "33 \t237   \t2298.76\t394.533\t2132\t4408\n",
        "34 \t213   \t2241.81\t310.337\t2132\t3916\n",
        "35 \t241   \t2235.37\t298.392\t2132\t4026\n",
        "36 \t219   \t2264.78\t379.305\t2132\t4704\n",
        "37 \t239   \t2230.39\t303.224\t2132\t3919"
       ]
      },
      {
       "output_type": "stream",
       "stream": "stdout",
       "text": [
        "\n",
        "38 \t226   \t2249.34\t345.478\t2132\t4776\n",
        "39 \t226   \t2222.23\t303.603\t2085\t4391\n",
        "40 \t220   \t2228.51\t329.468\t2085\t4235\n"
       ]
      },
      {
       "metadata": {},
       "output_type": "pyout",
       "prompt_number": 2,
       "text": [
        "([array('i', [7, 6, 12, 3, 0, 15, 11, 8, 4, 1, 9, 10, 14, 2, 13, 16, 5]),\n",
        "  array('i', [7, 6, 12, 3, 0, 15, 11, 8, 4, 1, 9, 10, 14, 2, 13, 16, 5]),\n",
        "  array('i', [7, 6, 12, 3, 0, 15, 11, 8, 4, 1, 9, 10, 14, 2, 13, 16, 5]),\n",
        "  array('i', [7, 6, 12, 3, 0, 15, 11, 8, 4, 1, 9, 10, 14, 2, 13, 16, 5]),\n",
        "  array('i', [7, 6, 12, 3, 0, 15, 11, 8, 4, 1, 9, 10, 14, 2, 13, 16, 5]),\n",
        "  array('i', [7, 6, 12, 3, 0, 15, 11, 8, 4, 1, 9, 10, 14, 2, 13, 16, 5]),\n",
        "  array('i', [7, 6, 12, 3, 0, 15, 11, 8, 4, 1, 9, 10, 14, 2, 13, 16, 5]),\n",
        "  array('i', [7, 6, 12, 3, 0, 15, 11, 8, 4, 1, 9, 10, 14, 2, 13, 16, 5]),\n",
        "  array('i', [7, 6, 12, 3, 0, 15, 11, 8, 4, 1, 9, 10, 14, 2, 13, 16, 5]),\n",
        "  array('i', [7, 6, 12, 3, 0, 15, 11, 8, 4, 1, 9, 10, 14, 2, 13, 16, 5]),\n",
        "  array('i', [12, 6, 0, 3, 7, 15, 11, 8, 4, 1, 9, 10, 16, 2, 13, 14, 5]),\n",
        "  array('i', [7, 6, 12, 3, 0, 15, 11, 8, 4, 1, 9, 10, 14, 2, 13, 16, 5]),\n",
        "  array('i', [7, 6, 12, 3, 0, 15, 11, 8, 4, 1, 9, 10, 14, 2, 13, 16, 5]),\n",
        "  array('i', [7, 6, 12, 3, 0, 15, 11, 8, 4, 1, 9, 10, 14, 2, 13, 16, 5]),\n",
        "  array('i', [7, 6, 12, 3, 0, 15, 11, 8, 4, 1, 9, 10, 14, 2, 13, 16, 5]),\n",
        "  array('i', [7, 6, 12, 3, 0, 15, 11, 8, 4, 1, 9, 10, 14, 2, 13, 16, 5]),\n",
        "  array('i', [7, 6, 12, 3, 0, 15, 11, 8, 4, 1, 9, 10, 14, 2, 13, 16, 5]),\n",
        "  array('i', [7, 6, 12, 3, 0, 15, 11, 8, 4, 1, 9, 10, 14, 2, 13, 16, 5]),\n",
        "  array('i', [7, 6, 12, 3, 0, 15, 11, 8, 4, 1, 9, 10, 14, 2, 13, 16, 5]),\n",
        "  array('i', [7, 6, 12, 3, 0, 15, 11, 8, 4, 1, 9, 10, 14, 2, 13, 16, 5]),\n",
        "  array('i', [7, 6, 12, 3, 0, 15, 11, 8, 4, 1, 9, 10, 14, 2, 13, 16, 5]),\n",
        "  array('i', [7, 6, 12, 3, 0, 15, 11, 8, 4, 1, 9, 10, 14, 2, 13, 16, 5]),\n",
        "  array('i', [7, 6, 12, 3, 0, 15, 11, 8, 4, 1, 9, 10, 14, 2, 13, 16, 5]),\n",
        "  array('i', [7, 6, 12, 3, 0, 15, 11, 8, 4, 1, 9, 10, 14, 2, 13, 16, 5]),\n",
        "  array('i', [11, 6, 12, 3, 0, 15, 7, 8, 4, 1, 9, 10, 14, 2, 13, 16, 5]),\n",
        "  array('i', [7, 6, 12, 3, 0, 15, 11, 8, 4, 1, 9, 10, 14, 2, 13, 16, 5]),\n",
        "  array('i', [7, 6, 12, 3, 0, 15, 11, 8, 4, 1, 9, 10, 14, 2, 13, 16, 5]),\n",
        "  array('i', [7, 6, 12, 3, 0, 15, 11, 8, 4, 1, 9, 10, 14, 2, 13, 16, 5]),\n",
        "  array('i', [7, 6, 12, 3, 0, 15, 11, 8, 4, 1, 9, 10, 14, 2, 13, 16, 5]),\n",
        "  array('i', [7, 6, 12, 3, 0, 15, 11, 8, 4, 1, 9, 10, 14, 2, 13, 16, 5]),\n",
        "  array('i', [7, 6, 12, 3, 0, 15, 11, 8, 4, 1, 9, 10, 14, 2, 13, 16, 5]),\n",
        "  array('i', [7, 6, 12, 3, 0, 15, 11, 8, 4, 1, 9, 10, 14, 2, 13, 16, 5]),\n",
        "  array('i', [7, 6, 12, 3, 0, 15, 11, 8, 4, 1, 9, 10, 14, 2, 13, 16, 5]),\n",
        "  array('i', [7, 6, 12, 3, 0, 15, 11, 8, 4, 1, 9, 10, 14, 2, 13, 16, 5]),\n",
        "  array('i', [7, 6, 12, 3, 0, 15, 11, 8, 4, 1, 9, 10, 14, 2, 13, 16, 5]),\n",
        "  array('i', [7, 6, 12, 3, 0, 15, 11, 8, 4, 1, 9, 10, 14, 2, 13, 16, 5]),\n",
        "  array('i', [7, 6, 12, 3, 0, 15, 11, 8, 4, 1, 9, 10, 14, 2, 13, 16, 5]),\n",
        "  array('i', [7, 6, 12, 3, 0, 15, 11, 8, 4, 1, 9, 10, 14, 2, 13, 16, 5]),\n",
        "  array('i', [7, 6, 12, 3, 0, 15, 11, 8, 4, 1, 9, 10, 14, 2, 13, 16, 5]),\n",
        "  array('i', [7, 6, 12, 3, 0, 9, 11, 8, 4, 1, 15, 10, 14, 2, 13, 16, 5]),\n",
        "  array('i', [7, 6, 12, 3, 0, 15, 11, 8, 4, 1, 9, 10, 14, 2, 13, 16, 5]),\n",
        "  array('i', [7, 6, 12, 3, 0, 15, 11, 5, 4, 8, 9, 10, 14, 2, 13, 16, 1]),\n",
        "  array('i', [7, 6, 12, 3, 0, 15, 11, 8, 4, 1, 9, 10, 14, 2, 13, 16, 5]),\n",
        "  array('i', [7, 6, 12, 3, 0, 15, 11, 8, 4, 1, 9, 10, 14, 2, 13, 16, 5]),\n",
        "  array('i', [7, 6, 12, 3, 0, 15, 11, 8, 4, 1, 9, 10, 14, 2, 13, 16, 5]),\n",
        "  array('i', [7, 6, 12, 3, 0, 15, 11, 8, 4, 1, 9, 10, 14, 2, 13, 16, 5]),\n",
        "  array('i', [7, 6, 12, 3, 0, 15, 11, 8, 4, 1, 9, 10, 14, 2, 13, 16, 5]),\n",
        "  array('i', [7, 6, 12, 3, 0, 15, 11, 8, 4, 1, 9, 10, 14, 2, 13, 16, 5]),\n",
        "  array('i', [7, 6, 12, 3, 0, 15, 11, 8, 4, 1, 9, 10, 14, 2, 13, 16, 5]),\n",
        "  array('i', [7, 6, 12, 3, 0, 15, 11, 8, 4, 1, 9, 10, 14, 2, 13, 16, 5]),\n",
        "  array('i', [7, 6, 12, 3, 0, 15, 11, 8, 4, 1, 9, 10, 14, 2, 13, 16, 5]),\n",
        "  array('i', [7, 6, 8, 3, 1, 15, 11, 12, 4, 0, 9, 10, 14, 2, 13, 16, 5]),\n",
        "  array('i', [7, 6, 12, 3, 0, 15, 11, 8, 4, 1, 9, 10, 14, 2, 13, 16, 5]),\n",
        "  array('i', [7, 6, 12, 3, 0, 15, 11, 8, 4, 1, 9, 10, 14, 2, 13, 16, 5]),\n",
        "  array('i', [7, 6, 12, 3, 0, 15, 11, 13, 4, 9, 1, 10, 14, 2, 8, 16, 5]),\n",
        "  array('i', [7, 6, 12, 3, 0, 15, 11, 8, 4, 1, 9, 10, 14, 2, 13, 16, 5]),\n",
        "  array('i', [7, 6, 12, 3, 0, 15, 11, 8, 4, 1, 9, 10, 14, 2, 13, 16, 5]),\n",
        "  array('i', [7, 6, 12, 3, 0, 15, 11, 8, 4, 1, 9, 10, 14, 2, 13, 16, 5]),\n",
        "  array('i', [7, 6, 12, 3, 0, 15, 11, 8, 4, 1, 9, 10, 14, 2, 13, 16, 5]),\n",
        "  array('i', [7, 6, 12, 3, 0, 15, 11, 8, 4, 1, 9, 10, 14, 2, 13, 16, 5]),\n",
        "  array('i', [10, 6, 12, 3, 0, 15, 11, 8, 4, 1, 9, 7, 14, 2, 13, 16, 5]),\n",
        "  array('i', [7, 15, 12, 13, 0, 6, 11, 8, 4, 1, 9, 10, 14, 2, 3, 16, 5]),\n",
        "  array('i', [7, 6, 12, 3, 0, 15, 11, 8, 4, 1, 9, 10, 14, 2, 13, 16, 5]),\n",
        "  array('i', [7, 6, 12, 3, 0, 15, 11, 8, 4, 1, 9, 10, 14, 2, 13, 16, 5]),\n",
        "  array('i', [7, 6, 12, 3, 0, 15, 11, 8, 4, 1, 9, 10, 14, 2, 13, 16, 5]),\n",
        "  array('i', [7, 6, 12, 3, 0, 15, 11, 8, 4, 1, 9, 10, 14, 2, 13, 16, 5]),\n",
        "  array('i', [7, 6, 12, 3, 0, 15, 11, 8, 4, 1, 9, 10, 14, 2, 13, 16, 5]),\n",
        "  array('i', [7, 6, 12, 3, 0, 15, 11, 8, 4, 1, 9, 10, 14, 2, 13, 16, 5]),\n",
        "  array('i', [7, 6, 12, 3, 0, 15, 11, 8, 4, 1, 9, 10, 14, 2, 13, 16, 5]),\n",
        "  array('i', [7, 6, 12, 3, 0, 15, 11, 8, 4, 1, 9, 10, 14, 2, 13, 16, 5]),\n",
        "  array('i', [7, 6, 12, 1, 0, 16, 11, 8, 4, 3, 9, 10, 14, 2, 13, 15, 5]),\n",
        "  array('i', [7, 6, 12, 3, 0, 15, 11, 8, 4, 1, 9, 10, 14, 2, 13, 16, 5]),\n",
        "  array('i', [7, 6, 12, 3, 0, 15, 11, 8, 4, 1, 9, 13, 14, 2, 10, 16, 5]),\n",
        "  array('i', [14, 6, 12, 3, 0, 15, 11, 8, 4, 1, 9, 10, 7, 2, 13, 16, 5]),\n",
        "  array('i', [7, 6, 12, 3, 0, 15, 11, 8, 4, 1, 9, 10, 14, 2, 13, 16, 5]),\n",
        "  array('i', [7, 6, 12, 3, 0, 15, 11, 8, 4, 1, 9, 10, 14, 2, 13, 16, 5]),\n",
        "  array('i', [7, 11, 12, 3, 0, 15, 6, 10, 4, 1, 9, 8, 14, 2, 13, 16, 5]),\n",
        "  array('i', [6, 7, 12, 3, 0, 15, 11, 2, 4, 5, 9, 10, 14, 8, 13, 16, 1]),\n",
        "  array('i', [7, 6, 12, 3, 0, 15, 11, 8, 4, 1, 9, 10, 14, 2, 13, 16, 5]),\n",
        "  array('i', [7, 6, 12, 3, 0, 15, 11, 8, 4, 1, 9, 10, 14, 2, 13, 16, 5]),\n",
        "  array('i', [7, 6, 12, 3, 0, 15, 11, 8, 4, 1, 9, 10, 14, 2, 13, 16, 5]),\n",
        "  array('i', [7, 6, 12, 3, 0, 15, 11, 8, 4, 1, 9, 10, 14, 2, 13, 16, 5]),\n",
        "  array('i', [7, 6, 12, 3, 0, 15, 11, 8, 4, 1, 9, 10, 14, 2, 13, 16, 5]),\n",
        "  array('i', [7, 6, 12, 3, 0, 15, 11, 8, 4, 1, 9, 10, 14, 2, 13, 16, 5]),\n",
        "  array('i', [7, 6, 12, 3, 0, 15, 11, 8, 4, 1, 9, 10, 14, 2, 13, 16, 5]),\n",
        "  array('i', [7, 6, 12, 3, 0, 15, 11, 8, 4, 1, 9, 10, 14, 2, 13, 16, 5]),\n",
        "  array('i', [7, 6, 12, 3, 0, 15, 11, 13, 4, 1, 9, 10, 14, 2, 8, 16, 5]),\n",
        "  array('i', [7, 6, 12, 3, 0, 15, 11, 8, 4, 1, 9, 10, 14, 2, 13, 16, 5]),\n",
        "  array('i', [7, 6, 12, 3, 0, 15, 11, 8, 4, 1, 9, 10, 14, 2, 13, 16, 5]),\n",
        "  array('i', [7, 6, 12, 3, 0, 15, 11, 8, 4, 1, 9, 10, 14, 2, 13, 16, 5]),\n",
        "  array('i', [7, 6, 12, 3, 0, 15, 11, 8, 4, 1, 9, 10, 14, 2, 13, 16, 5]),\n",
        "  array('i', [7, 6, 12, 3, 0, 15, 11, 8, 4, 1, 9, 10, 14, 2, 13, 16, 5]),\n",
        "  array('i', [7, 6, 12, 3, 0, 15, 11, 8, 4, 1, 9, 10, 14, 2, 13, 16, 5]),\n",
        "  array('i', [7, 6, 12, 3, 0, 15, 11, 8, 4, 1, 9, 10, 14, 2, 13, 16, 5]),\n",
        "  array('i', [7, 6, 12, 3, 0, 15, 11, 8, 4, 1, 9, 10, 14, 2, 13, 16, 5]),\n",
        "  array('i', [7, 6, 12, 3, 0, 15, 11, 8, 4, 1, 9, 10, 14, 2, 13, 16, 5]),\n",
        "  array('i', [7, 6, 12, 3, 0, 15, 11, 8, 4, 1, 9, 10, 14, 2, 13, 16, 5]),\n",
        "  array('i', [7, 6, 12, 3, 0, 15, 11, 8, 4, 1, 9, 10, 14, 2, 13, 16, 5]),\n",
        "  array('i', [7, 6, 12, 3, 0, 15, 11, 8, 4, 1, 9, 10, 14, 2, 13, 16, 5]),\n",
        "  array('i', [7, 6, 12, 3, 0, 15, 11, 8, 4, 1, 9, 10, 14, 2, 13, 16, 5]),\n",
        "  array('i', [7, 6, 12, 3, 0, 15, 11, 8, 4, 1, 9, 10, 14, 2, 13, 16, 5]),\n",
        "  array('i', [7, 6, 12, 3, 0, 15, 11, 8, 4, 1, 9, 10, 14, 2, 13, 16, 5]),\n",
        "  array('i', [7, 6, 12, 3, 0, 15, 11, 8, 4, 1, 9, 10, 14, 2, 13, 16, 5]),\n",
        "  array('i', [7, 6, 12, 3, 0, 15, 11, 8, 4, 1, 9, 10, 14, 2, 13, 16, 5]),\n",
        "  array('i', [7, 6, 12, 3, 0, 15, 11, 8, 4, 1, 9, 10, 14, 2, 13, 16, 5]),\n",
        "  array('i', [7, 6, 12, 3, 0, 15, 11, 8, 4, 1, 9, 10, 14, 2, 13, 16, 5]),\n",
        "  array('i', [7, 6, 12, 3, 0, 15, 11, 8, 4, 1, 9, 10, 14, 2, 13, 16, 5]),\n",
        "  array('i', [7, 6, 12, 3, 0, 15, 11, 8, 4, 1, 9, 10, 14, 2, 13, 16, 5]),\n",
        "  array('i', [7, 6, 12, 3, 0, 15, 11, 8, 4, 1, 9, 10, 14, 2, 13, 16, 5]),\n",
        "  array('i', [7, 6, 12, 3, 0, 15, 11, 8, 4, 1, 9, 10, 14, 2, 13, 16, 5]),\n",
        "  array('i', [6, 7, 12, 3, 5, 15, 11, 8, 4, 1, 9, 10, 14, 2, 13, 16, 0]),\n",
        "  array('i', [7, 11, 12, 3, 0, 15, 6, 8, 4, 1, 9, 10, 14, 2, 13, 16, 5]),\n",
        "  array('i', [7, 6, 12, 3, 0, 14, 11, 8, 4, 1, 9, 10, 15, 2, 13, 16, 5]),\n",
        "  array('i', [7, 6, 12, 3, 0, 15, 11, 8, 4, 1, 9, 10, 14, 2, 13, 16, 5]),\n",
        "  array('i', [7, 6, 12, 3, 0, 15, 11, 8, 4, 1, 9, 10, 14, 2, 13, 16, 5]),\n",
        "  array('i', [7, 6, 12, 3, 0, 15, 11, 8, 4, 1, 9, 10, 14, 2, 13, 16, 5]),\n",
        "  array('i', [7, 6, 12, 3, 0, 15, 11, 8, 4, 1, 9, 10, 14, 2, 13, 16, 5]),\n",
        "  array('i', [7, 6, 12, 3, 0, 15, 11, 8, 4, 1, 9, 10, 14, 2, 13, 16, 5]),\n",
        "  array('i', [7, 6, 12, 3, 0, 15, 11, 8, 4, 1, 9, 10, 14, 2, 13, 16, 5]),\n",
        "  array('i', [7, 6, 12, 3, 0, 15, 11, 8, 4, 1, 9, 10, 14, 2, 13, 16, 5]),\n",
        "  array('i', [7, 6, 12, 3, 0, 15, 11, 8, 4, 1, 9, 10, 14, 2, 13, 16, 5]),\n",
        "  array('i', [7, 6, 12, 3, 0, 15, 11, 8, 4, 1, 9, 10, 14, 2, 13, 16, 5]),\n",
        "  array('i', [7, 6, 12, 3, 0, 15, 11, 8, 4, 1, 9, 10, 14, 2, 13, 16, 5]),\n",
        "  array('i', [7, 6, 12, 3, 0, 15, 11, 8, 4, 1, 9, 10, 14, 2, 13, 16, 5]),\n",
        "  array('i', [7, 6, 12, 3, 0, 15, 11, 8, 4, 1, 9, 10, 14, 2, 13, 16, 5]),\n",
        "  array('i', [7, 6, 12, 3, 0, 15, 11, 8, 4, 1, 9, 10, 14, 2, 13, 16, 5]),\n",
        "  array('i', [7, 6, 12, 3, 0, 15, 11, 8, 4, 1, 9, 10, 14, 2, 13, 16, 5]),\n",
        "  array('i', [7, 6, 12, 3, 0, 15, 11, 8, 4, 1, 9, 10, 14, 2, 13, 16, 5]),\n",
        "  array('i', [7, 6, 12, 3, 0, 15, 11, 8, 4, 1, 9, 10, 14, 2, 13, 16, 5]),\n",
        "  array('i', [7, 6, 12, 3, 0, 15, 11, 8, 4, 1, 9, 10, 14, 2, 13, 16, 5]),\n",
        "  array('i', [7, 6, 12, 3, 0, 15, 11, 8, 4, 1, 9, 10, 14, 2, 13, 16, 5]),\n",
        "  array('i', [7, 6, 9, 3, 0, 15, 11, 8, 4, 1, 12, 10, 14, 2, 13, 16, 5]),\n",
        "  array('i', [7, 6, 12, 3, 0, 15, 11, 8, 4, 1, 9, 10, 2, 14, 13, 16, 5]),\n",
        "  array('i', [7, 6, 12, 3, 0, 15, 11, 8, 4, 1, 9, 10, 14, 2, 13, 16, 5]),\n",
        "  array('i', [7, 6, 12, 3, 0, 15, 11, 8, 4, 1, 9, 10, 14, 2, 13, 16, 5]),\n",
        "  array('i', [7, 6, 12, 3, 0, 15, 11, 8, 4, 1, 9, 10, 2, 14, 13, 16, 5]),\n",
        "  array('i', [7, 6, 12, 3, 0, 15, 11, 8, 4, 1, 9, 10, 14, 2, 13, 16, 5]),\n",
        "  array('i', [7, 6, 12, 3, 0, 15, 11, 8, 4, 1, 9, 10, 14, 2, 13, 16, 5]),\n",
        "  array('i', [7, 6, 12, 3, 0, 15, 11, 8, 4, 1, 9, 10, 14, 2, 13, 16, 5]),\n",
        "  array('i', [7, 6, 12, 3, 0, 15, 11, 8, 4, 1, 9, 10, 14, 2, 13, 16, 5]),\n",
        "  array('i', [7, 6, 12, 3, 0, 15, 11, 8, 4, 1, 9, 10, 14, 2, 13, 16, 5]),\n",
        "  array('i', [7, 6, 12, 3, 0, 15, 11, 8, 4, 1, 9, 10, 14, 2, 13, 16, 5]),\n",
        "  array('i', [7, 6, 12, 3, 0, 15, 11, 8, 4, 1, 9, 10, 14, 2, 13, 16, 5]),\n",
        "  array('i', [7, 6, 12, 3, 0, 15, 11, 8, 4, 1, 9, 10, 14, 2, 13, 16, 5]),\n",
        "  array('i', [7, 6, 12, 3, 0, 15, 11, 8, 4, 1, 9, 10, 14, 2, 13, 16, 5]),\n",
        "  array('i', [7, 6, 12, 3, 0, 15, 11, 8, 4, 1, 9, 10, 14, 2, 13, 16, 5]),\n",
        "  array('i', [7, 6, 12, 3, 0, 15, 11, 8, 4, 1, 9, 10, 14, 2, 13, 16, 5]),\n",
        "  array('i', [7, 6, 12, 3, 0, 15, 11, 8, 4, 1, 9, 10, 14, 2, 13, 16, 5]),\n",
        "  array('i', [7, 6, 12, 3, 0, 15, 11, 8, 4, 1, 9, 10, 14, 2, 13, 16, 5]),\n",
        "  array('i', [7, 6, 12, 3, 0, 15, 11, 8, 4, 1, 9, 10, 14, 2, 13, 16, 5]),\n",
        "  array('i', [7, 6, 12, 3, 0, 15, 11, 8, 4, 1, 9, 10, 14, 2, 13, 16, 5]),\n",
        "  array('i', [7, 6, 12, 3, 0, 15, 11, 8, 4, 1, 9, 10, 14, 2, 13, 16, 5]),\n",
        "  array('i', [7, 6, 12, 3, 0, 15, 11, 8, 4, 1, 9, 10, 14, 2, 13, 16, 5]),\n",
        "  array('i', [7, 6, 12, 3, 0, 15, 11, 8, 4, 1, 9, 10, 14, 2, 13, 16, 5]),\n",
        "  array('i', [7, 6, 12, 3, 0, 15, 11, 8, 4, 1, 9, 10, 14, 2, 13, 16, 5]),\n",
        "  array('i', [7, 6, 12, 3, 0, 15, 11, 8, 4, 1, 9, 10, 2, 14, 13, 16, 5]),\n",
        "  array('i', [7, 6, 12, 3, 0, 15, 11, 8, 4, 1, 9, 10, 14, 2, 13, 16, 5]),\n",
        "  array('i', [7, 6, 12, 3, 0, 15, 11, 8, 4, 1, 9, 10, 14, 2, 13, 16, 5]),\n",
        "  array('i', [7, 6, 12, 3, 0, 15, 11, 8, 4, 1, 9, 10, 14, 2, 13, 16, 5]),\n",
        "  array('i', [7, 6, 12, 3, 0, 15, 11, 8, 4, 1, 9, 10, 14, 2, 13, 16, 5]),\n",
        "  array('i', [7, 6, 12, 3, 0, 15, 11, 8, 4, 1, 9, 10, 2, 14, 13, 16, 5]),\n",
        "  array('i', [7, 6, 12, 3, 0, 15, 11, 8, 4, 1, 9, 10, 14, 2, 13, 16, 5]),\n",
        "  array('i', [7, 6, 12, 3, 0, 15, 11, 8, 4, 1, 9, 10, 14, 2, 13, 16, 5]),\n",
        "  array('i', [7, 6, 12, 3, 0, 15, 11, 8, 4, 1, 9, 10, 14, 2, 13, 16, 5]),\n",
        "  array('i', [7, 6, 12, 3, 0, 15, 11, 8, 4, 1, 9, 10, 14, 2, 13, 16, 5]),\n",
        "  array('i', [7, 6, 12, 3, 0, 15, 11, 8, 4, 1, 9, 10, 14, 2, 13, 16, 5]),\n",
        "  array('i', [7, 6, 12, 3, 0, 15, 11, 8, 4, 1, 9, 10, 14, 2, 13, 16, 5]),\n",
        "  array('i', [7, 6, 12, 3, 0, 15, 11, 8, 4, 1, 9, 10, 14, 2, 13, 16, 5]),\n",
        "  array('i', [7, 6, 12, 3, 0, 15, 11, 8, 4, 1, 9, 10, 14, 2, 13, 16, 5]),\n",
        "  array('i', [7, 6, 12, 3, 0, 15, 11, 8, 4, 1, 9, 10, 14, 2, 13, 16, 5]),\n",
        "  array('i', [7, 6, 12, 3, 0, 15, 11, 8, 4, 1, 9, 10, 14, 2, 13, 16, 5]),\n",
        "  array('i', [7, 6, 12, 3, 0, 15, 11, 8, 4, 1, 9, 10, 14, 2, 13, 16, 5]),\n",
        "  array('i', [7, 6, 12, 3, 0, 15, 11, 8, 4, 1, 9, 10, 14, 2, 13, 16, 5]),\n",
        "  array('i', [7, 6, 12, 3, 0, 15, 11, 8, 4, 1, 9, 10, 14, 2, 13, 16, 5]),\n",
        "  array('i', [7, 6, 12, 3, 0, 15, 11, 8, 4, 1, 9, 10, 2, 14, 13, 16, 5]),\n",
        "  array('i', [7, 6, 12, 3, 0, 15, 11, 8, 4, 1, 9, 10, 14, 2, 13, 16, 5]),\n",
        "  array('i', [7, 6, 12, 3, 0, 15, 11, 8, 4, 1, 9, 10, 14, 2, 13, 16, 5]),\n",
        "  array('i', [7, 6, 12, 3, 0, 15, 11, 8, 4, 1, 9, 10, 14, 2, 13, 16, 5]),\n",
        "  array('i', [7, 6, 12, 3, 0, 15, 11, 8, 4, 1, 9, 10, 14, 2, 13, 16, 5]),\n",
        "  array('i', [15, 6, 12, 3, 0, 7, 11, 8, 4, 1, 9, 10, 14, 2, 13, 16, 5]),\n",
        "  array('i', [7, 6, 12, 3, 0, 15, 11, 8, 4, 1, 9, 10, 14, 2, 13, 16, 5]),\n",
        "  array('i', [7, 6, 12, 3, 0, 15, 11, 8, 4, 1, 9, 10, 14, 2, 13, 16, 5]),\n",
        "  array('i', [7, 6, 12, 3, 0, 15, 11, 8, 4, 1, 9, 10, 14, 2, 13, 16, 5]),\n",
        "  array('i', [7, 6, 12, 3, 0, 15, 11, 8, 4, 1, 9, 10, 14, 2, 13, 16, 5]),\n",
        "  array('i', [7, 6, 12, 3, 0, 15, 11, 8, 4, 1, 9, 10, 14, 2, 13, 16, 5]),\n",
        "  array('i', [7, 6, 12, 3, 0, 15, 11, 8, 4, 1, 9, 10, 14, 2, 13, 16, 5]),\n",
        "  array('i', [7, 6, 12, 3, 0, 15, 11, 8, 4, 1, 9, 10, 14, 2, 13, 16, 5]),\n",
        "  array('i', [7, 6, 12, 3, 0, 15, 11, 8, 4, 1, 9, 10, 14, 2, 13, 16, 5]),\n",
        "  array('i', [7, 6, 12, 3, 0, 15, 11, 8, 4, 1, 9, 10, 14, 2, 13, 16, 5]),\n",
        "  array('i', [7, 6, 12, 3, 0, 15, 11, 8, 4, 1, 9, 10, 14, 2, 13, 16, 5]),\n",
        "  array('i', [1, 6, 12, 3, 0, 15, 11, 8, 4, 7, 9, 10, 14, 2, 13, 16, 5]),\n",
        "  array('i', [7, 6, 12, 3, 0, 15, 11, 8, 4, 1, 9, 10, 14, 2, 13, 16, 5]),\n",
        "  array('i', [7, 6, 12, 3, 0, 15, 11, 8, 4, 1, 9, 10, 14, 2, 13, 16, 5]),\n",
        "  array('i', [7, 6, 12, 3, 0, 15, 11, 8, 4, 1, 9, 10, 14, 2, 13, 16, 5]),\n",
        "  array('i', [7, 6, 12, 3, 0, 15, 11, 8, 4, 1, 9, 10, 14, 2, 13, 16, 5]),\n",
        "  array('i', [7, 6, 12, 3, 0, 15, 11, 8, 4, 1, 9, 10, 14, 2, 13, 16, 5]),\n",
        "  array('i', [7, 6, 12, 3, 0, 15, 11, 8, 4, 1, 9, 10, 14, 2, 13, 16, 5]),\n",
        "  array('i', [7, 6, 12, 3, 0, 15, 11, 8, 4, 1, 16, 10, 14, 2, 13, 9, 5]),\n",
        "  array('i', [7, 6, 12, 15, 0, 3, 11, 4, 8, 1, 9, 10, 14, 2, 13, 16, 5]),\n",
        "  array('i', [7, 6, 12, 3, 0, 15, 11, 8, 4, 1, 9, 10, 14, 2, 13, 16, 5]),\n",
        "  array('i', [7, 6, 12, 3, 0, 15, 11, 8, 4, 1, 9, 10, 14, 2, 13, 16, 5]),\n",
        "  array('i', [7, 6, 12, 3, 0, 15, 11, 8, 4, 1, 9, 10, 14, 2, 13, 16, 5]),\n",
        "  array('i', [7, 6, 12, 3, 0, 15, 11, 8, 4, 1, 9, 10, 14, 2, 13, 16, 5]),\n",
        "  array('i', [7, 6, 12, 3, 0, 15, 11, 8, 4, 1, 9, 10, 14, 2, 13, 16, 5]),\n",
        "  array('i', [7, 6, 12, 3, 0, 15, 11, 8, 4, 1, 9, 10, 14, 2, 13, 16, 5]),\n",
        "  array('i', [7, 6, 12, 3, 0, 15, 11, 8, 4, 1, 9, 10, 14, 2, 13, 16, 5]),\n",
        "  array('i', [7, 6, 12, 3, 0, 15, 11, 8, 4, 1, 2, 10, 14, 9, 13, 16, 5]),\n",
        "  array('i', [7, 6, 12, 3, 0, 15, 11, 8, 4, 1, 9, 10, 14, 2, 13, 16, 5]),\n",
        "  array('i', [7, 6, 12, 3, 0, 15, 11, 8, 13, 1, 9, 10, 14, 2, 4, 16, 5]),\n",
        "  array('i', [7, 6, 12, 3, 0, 15, 11, 8, 4, 1, 9, 10, 14, 2, 13, 16, 5]),\n",
        "  array('i', [7, 6, 12, 3, 0, 15, 11, 8, 4, 1, 9, 10, 14, 2, 13, 16, 5]),\n",
        "  array('i', [7, 6, 12, 3, 0, 15, 11, 8, 4, 1, 9, 10, 14, 2, 13, 16, 5]),\n",
        "  array('i', [7, 6, 12, 3, 0, 15, 4, 8, 11, 1, 9, 10, 14, 2, 13, 16, 5]),\n",
        "  array('i', [7, 6, 12, 3, 0, 15, 11, 8, 4, 1, 9, 10, 14, 2, 13, 16, 5]),\n",
        "  array('i', [7, 1, 12, 3, 0, 15, 11, 8, 4, 6, 9, 10, 14, 2, 13, 16, 5]),\n",
        "  array('i', [7, 6, 12, 3, 0, 15, 11, 8, 4, 1, 9, 10, 14, 2, 13, 16, 5]),\n",
        "  array('i', [7, 6, 12, 3, 0, 15, 11, 8, 4, 1, 9, 10, 14, 2, 13, 16, 5]),\n",
        "  array('i', [7, 6, 12, 3, 0, 15, 11, 8, 4, 1, 9, 10, 14, 2, 13, 16, 5]),\n",
        "  array('i', [7, 6, 12, 3, 0, 15, 11, 8, 4, 1, 9, 10, 14, 2, 13, 16, 5]),\n",
        "  array('i', [7, 6, 12, 3, 0, 15, 11, 8, 4, 1, 9, 10, 14, 2, 13, 16, 5]),\n",
        "  array('i', [7, 6, 12, 3, 0, 15, 11, 8, 4, 1, 9, 10, 14, 2, 13, 16, 5]),\n",
        "  array('i', [7, 6, 12, 3, 0, 15, 11, 8, 4, 1, 9, 10, 14, 2, 13, 16, 5]),\n",
        "  array('i', [7, 6, 12, 3, 0, 15, 11, 8, 4, 1, 9, 10, 14, 2, 13, 16, 5]),\n",
        "  array('i', [7, 6, 12, 3, 0, 15, 11, 8, 4, 1, 9, 10, 14, 2, 13, 16, 5]),\n",
        "  array('i', [7, 6, 12, 3, 0, 15, 11, 8, 4, 1, 9, 10, 14, 2, 13, 16, 5]),\n",
        "  array('i', [7, 6, 12, 3, 0, 15, 11, 8, 4, 1, 9, 10, 14, 2, 13, 16, 5]),\n",
        "  array('i', [7, 6, 12, 3, 0, 15, 11, 8, 4, 1, 9, 10, 14, 2, 13, 16, 5]),\n",
        "  array('i', [7, 6, 12, 3, 0, 15, 11, 8, 4, 1, 9, 10, 14, 2, 13, 16, 5]),\n",
        "  array('i', [7, 6, 12, 3, 0, 15, 11, 8, 4, 1, 9, 10, 14, 2, 13, 16, 5]),\n",
        "  array('i', [7, 6, 12, 3, 0, 15, 11, 8, 4, 1, 9, 10, 14, 2, 13, 16, 5]),\n",
        "  array('i', [7, 6, 12, 3, 0, 13, 11, 8, 4, 1, 9, 10, 14, 2, 15, 16, 5]),\n",
        "  array('i', [7, 6, 12, 3, 0, 15, 11, 8, 4, 1, 9, 10, 14, 2, 13, 16, 5]),\n",
        "  array('i', [7, 6, 12, 3, 0, 15, 11, 8, 4, 1, 9, 10, 14, 2, 13, 16, 5]),\n",
        "  array('i', [7, 6, 12, 3, 0, 15, 11, 8, 4, 1, 9, 10, 14, 2, 13, 16, 5]),\n",
        "  array('i', [7, 6, 12, 3, 0, 15, 11, 8, 4, 1, 9, 10, 2, 14, 13, 16, 5]),\n",
        "  array('i', [7, 6, 12, 3, 0, 15, 11, 8, 4, 1, 9, 10, 14, 2, 13, 16, 5]),\n",
        "  array('i', [7, 6, 12, 3, 0, 15, 11, 8, 4, 1, 9, 10, 14, 2, 13, 16, 5]),\n",
        "  array('i', [7, 6, 12, 3, 0, 15, 11, 8, 4, 1, 9, 10, 14, 2, 13, 16, 5]),\n",
        "  array('i', [7, 6, 12, 3, 0, 15, 11, 8, 4, 1, 9, 10, 14, 2, 13, 16, 5]),\n",
        "  array('i', [7, 6, 12, 3, 0, 15, 11, 8, 4, 1, 9, 10, 14, 2, 13, 16, 5]),\n",
        "  array('i', [7, 6, 12, 3, 0, 15, 11, 8, 4, 1, 9, 10, 14, 2, 13, 16, 5]),\n",
        "  array('i', [7, 6, 12, 3, 0, 15, 11, 8, 4, 1, 9, 10, 14, 2, 13, 16, 5]),\n",
        "  array('i', [7, 6, 12, 3, 0, 15, 11, 8, 4, 1, 9, 10, 14, 2, 13, 16, 5]),\n",
        "  array('i', [7, 6, 12, 3, 0, 15, 11, 8, 4, 1, 9, 10, 14, 2, 13, 16, 5]),\n",
        "  array('i', [7, 6, 12, 3, 0, 15, 11, 8, 4, 1, 9, 10, 14, 2, 13, 16, 5]),\n",
        "  array('i', [7, 6, 12, 3, 0, 15, 11, 8, 4, 1, 9, 10, 14, 2, 13, 16, 5]),\n",
        "  array('i', [7, 6, 12, 3, 0, 15, 11, 8, 4, 1, 9, 10, 14, 2, 13, 16, 5]),\n",
        "  array('i', [7, 6, 12, 3, 0, 15, 11, 8, 4, 1, 9, 10, 14, 2, 13, 16, 5]),\n",
        "  array('i', [7, 6, 12, 3, 0, 15, 11, 8, 4, 1, 9, 10, 14, 2, 13, 16, 5]),\n",
        "  array('i', [7, 6, 12, 3, 0, 15, 11, 8, 4, 1, 9, 10, 14, 2, 13, 16, 5]),\n",
        "  array('i', [7, 6, 12, 3, 0, 15, 11, 8, 4, 1, 9, 10, 14, 2, 13, 16, 5]),\n",
        "  array('i', [7, 6, 12, 3, 0, 15, 11, 8, 4, 1, 9, 10, 14, 2, 13, 16, 5]),\n",
        "  array('i', [7, 6, 12, 3, 0, 15, 11, 8, 4, 1, 9, 10, 2, 14, 13, 16, 5]),\n",
        "  array('i', [7, 6, 12, 3, 0, 15, 11, 8, 4, 1, 9, 10, 14, 2, 13, 16, 5]),\n",
        "  array('i', [7, 6, 12, 3, 0, 15, 11, 8, 4, 1, 9, 10, 14, 2, 13, 16, 5]),\n",
        "  array('i', [7, 6, 12, 3, 0, 15, 11, 8, 4, 1, 9, 10, 14, 2, 13, 16, 5]),\n",
        "  array('i', [7, 6, 12, 3, 0, 15, 11, 8, 4, 1, 9, 10, 14, 2, 13, 16, 5]),\n",
        "  array('i', [7, 6, 12, 3, 0, 15, 11, 8, 4, 1, 9, 10, 14, 2, 13, 16, 5]),\n",
        "  array('i', [7, 6, 12, 3, 0, 15, 11, 8, 4, 1, 9, 10, 14, 2, 13, 16, 5]),\n",
        "  array('i', [7, 6, 12, 3, 0, 15, 11, 8, 4, 1, 9, 10, 14, 2, 13, 16, 5]),\n",
        "  array('i', [7, 6, 12, 3, 0, 15, 11, 8, 4, 1, 9, 10, 14, 2, 13, 16, 5]),\n",
        "  array('i', [7, 6, 12, 3, 0, 15, 11, 8, 4, 1, 9, 10, 14, 2, 13, 16, 5]),\n",
        "  array('i', [7, 6, 12, 3, 0, 15, 11, 8, 4, 1, 9, 10, 14, 2, 13, 16, 5]),\n",
        "  array('i', [7, 6, 12, 3, 0, 15, 11, 8, 4, 1, 9, 10, 14, 2, 13, 16, 5]),\n",
        "  array('i', [7, 6, 12, 3, 0, 15, 11, 8, 4, 1, 9, 10, 14, 2, 13, 16, 5]),\n",
        "  array('i', [7, 6, 12, 3, 0, 15, 11, 8, 4, 1, 9, 10, 14, 2, 13, 16, 5]),\n",
        "  array('i', [7, 6, 12, 3, 0, 15, 11, 1, 4, 8, 9, 10, 14, 2, 13, 16, 5]),\n",
        "  array('i', [7, 6, 12, 3, 0, 15, 11, 8, 4, 1, 9, 10, 14, 2, 13, 16, 5]),\n",
        "  array('i', [7, 6, 12, 3, 0, 15, 11, 8, 4, 1, 9, 10, 14, 2, 13, 16, 5]),\n",
        "  array('i', [7, 6, 12, 3, 0, 15, 11, 8, 4, 1, 9, 10, 14, 2, 13, 16, 5]),\n",
        "  array('i', [7, 6, 12, 3, 0, 15, 11, 8, 4, 1, 9, 10, 2, 14, 13, 16, 5]),\n",
        "  array('i', [7, 6, 12, 3, 0, 15, 11, 8, 4, 1, 9, 10, 14, 2, 13, 16, 5]),\n",
        "  array('i', [7, 6, 12, 3, 0, 15, 11, 8, 4, 1, 9, 10, 14, 2, 13, 16, 5]),\n",
        "  array('i', [7, 6, 12, 3, 0, 15, 11, 8, 4, 1, 9, 10, 14, 2, 13, 16, 5]),\n",
        "  array('i', [7, 6, 12, 3, 0, 15, 11, 8, 4, 1, 9, 10, 14, 2, 13, 16, 5]),\n",
        "  array('i', [7, 6, 12, 3, 0, 15, 11, 8, 4, 1, 9, 10, 14, 2, 13, 16, 5]),\n",
        "  array('i', [7, 6, 12, 3, 0, 15, 11, 8, 4, 1, 9, 10, 14, 2, 13, 16, 5]),\n",
        "  array('i', [7, 6, 12, 3, 0, 15, 11, 8, 4, 1, 9, 10, 14, 2, 13, 16, 5]),\n",
        "  array('i', [7, 6, 12, 3, 0, 15, 11, 8, 4, 1, 9, 10, 14, 2, 13, 16, 5]),\n",
        "  array('i', [7, 6, 12, 3, 0, 15, 11, 8, 4, 1, 9, 10, 14, 2, 13, 16, 5]),\n",
        "  array('i', [7, 6, 12, 3, 0, 15, 11, 8, 4, 1, 9, 10, 14, 2, 13, 16, 5]),\n",
        "  array('i', [7, 6, 12, 3, 0, 15, 11, 8, 4, 1, 9, 10, 14, 2, 13, 16, 5]),\n",
        "  array('i', [7, 6, 12, 3, 0, 15, 11, 8, 4, 1, 9, 10, 14, 2, 13, 16, 5]),\n",
        "  array('i', [7, 6, 12, 3, 0, 15, 11, 8, 4, 1, 9, 10, 2, 14, 13, 16, 5]),\n",
        "  array('i', [7, 6, 12, 3, 0, 15, 11, 8, 4, 1, 9, 10, 14, 2, 13, 16, 5]),\n",
        "  array('i', [11, 6, 12, 3, 0, 15, 7, 8, 4, 1, 9, 10, 14, 2, 13, 16, 5]),\n",
        "  array('i', [7, 6, 12, 3, 0, 15, 11, 8, 4, 1, 9, 10, 14, 2, 13, 16, 5]),\n",
        "  array('i', [7, 6, 12, 3, 0, 15, 11, 8, 4, 1, 9, 10, 14, 2, 13, 16, 5]),\n",
        "  array('i', [7, 6, 12, 3, 0, 15, 11, 8, 4, 1, 9, 10, 14, 2, 13, 16, 5]),\n",
        "  array('i', [7, 6, 12, 3, 0, 15, 11, 8, 4, 1, 9, 10, 14, 2, 13, 16, 5]),\n",
        "  array('i', [7, 6, 12, 3, 0, 15, 11, 8, 4, 1, 9, 10, 14, 2, 13, 16, 5]),\n",
        "  array('i', [7, 6, 12, 3, 0, 15, 11, 8, 4, 1, 9, 10, 2, 14, 13, 16, 5]),\n",
        "  array('i', [7, 6, 13, 3, 14, 15, 11, 8, 10, 1, 9, 4, 0, 2, 12, 16, 5]),\n",
        "  array('i', [7, 6, 12, 3, 0, 15, 11, 8, 4, 1, 9, 10, 2, 14, 13, 16, 5]),\n",
        "  array('i', [7, 6, 12, 3, 0, 15, 11, 8, 4, 1, 9, 10, 14, 2, 13, 16, 5]),\n",
        "  array('i', [7, 6, 12, 3, 0, 15, 11, 8, 4, 1, 9, 10, 14, 2, 13, 16, 5]),\n",
        "  array('i', [7, 6, 12, 3, 0, 15, 11, 8, 4, 1, 9, 10, 14, 2, 13, 16, 5]),\n",
        "  array('i', [7, 6, 12, 3, 0, 15, 11, 8, 4, 1, 9, 10, 14, 2, 13, 16, 5]),\n",
        "  array('i', [7, 6, 12, 3, 0, 15, 11, 8, 4, 1, 9, 10, 14, 2, 13, 16, 5]),\n",
        "  array('i', [7, 6, 12, 3, 0, 15, 11, 8, 4, 1, 9, 10, 14, 2, 13, 16, 5])],\n",
        " [{'avg': 4700.6999999999998,\n",
        "   'gen': 0,\n",
        "   'max': 5842.0,\n",
        "   'min': 3606.0,\n",
        "   'nevals': 300,\n",
        "   'std': 424.3855361971394},\n",
        "  {'avg': 4463.7399999999998,\n",
        "   'gen': 1,\n",
        "   'max': 5808.0,\n",
        "   'min': 3587.0,\n",
        "   'nevals': 217,\n",
        "   'std': 385.24293512881803},\n",
        "  {'avg': 4364.21,\n",
        "   'gen': 2,\n",
        "   'max': 5513.0,\n",
        "   'min': 3364.0,\n",
        "   'nevals': 225,\n",
        "   'std': 416.82305506453599},\n",
        "  {'avg': 4285.6700000000001,\n",
        "   'gen': 3,\n",
        "   'max': 5501.0,\n",
        "   'min': 3201.0,\n",
        "   'nevals': 223,\n",
        "   'std': 458.04804817107714},\n",
        "  {'avg': 4206.0166666666664,\n",
        "   'gen': 4,\n",
        "   'max': 5606.0,\n",
        "   'min': 3215.0,\n",
        "   'nevals': 223,\n",
        "   'std': 475.67925088469235},\n",
        "  {'avg': 4146.416666666667,\n",
        "   'gen': 5,\n",
        "   'max': 5943.0,\n",
        "   'min': 3150.0,\n",
        "   'nevals': 230,\n",
        "   'std': 504.01492344528407},\n",
        "  {'avg': 4123.2133333333331,\n",
        "   'gen': 6,\n",
        "   'max': 5652.0,\n",
        "   'min': 3078.0,\n",
        "   'nevals': 247,\n",
        "   'std': 513.32492097003149},\n",
        "  {'avg': 4081.3466666666668,\n",
        "   'gen': 7,\n",
        "   'max': 5580.0,\n",
        "   'min': 2616.0,\n",
        "   'nevals': 231,\n",
        "   'std': 533.34068519932805},\n",
        "  {'avg': 4027.1133333333332,\n",
        "   'gen': 8,\n",
        "   'max': 5571.0,\n",
        "   'min': 2616.0,\n",
        "   'nevals': 232,\n",
        "   'std': 510.97990223578176},\n",
        "  {'avg': 3978.7800000000002,\n",
        "   'gen': 9,\n",
        "   'max': 5645.0,\n",
        "   'min': 2616.0,\n",
        "   'nevals': 214,\n",
        "   'std': 525.99037849248407},\n",
        "  {'avg': 3943.0833333333335,\n",
        "   'gen': 10,\n",
        "   'max': 5422.0,\n",
        "   'min': 2811.0,\n",
        "   'nevals': 228,\n",
        "   'std': 569.8153528897659},\n",
        "  {'avg': 3900.6066666666666,\n",
        "   'gen': 11,\n",
        "   'max': 5524.0,\n",
        "   'min': 2542.0,\n",
        "   'nevals': 235,\n",
        "   'std': 570.02996291618058},\n",
        "  {'avg': 3816.8066666666668,\n",
        "   'gen': 12,\n",
        "   'max': 5477.0,\n",
        "   'min': 2542.0,\n",
        "   'nevals': 213,\n",
        "   'std': 565.79603152451375},\n",
        "  {'avg': 3744.6266666666666,\n",
        "   'gen': 13,\n",
        "   'max': 5049.0,\n",
        "   'min': 2542.0,\n",
        "   'nevals': 222,\n",
        "   'std': 560.78890320293931},\n",
        "  {'avg': 3643.4033333333332,\n",
        "   'gen': 14,\n",
        "   'max': 5217.0,\n",
        "   'min': 2542.0,\n",
        "   'nevals': 228,\n",
        "   'std': 559.64104030073497},\n",
        "  {'avg': 3551.48,\n",
        "   'gen': 15,\n",
        "   'max': 5100.0,\n",
        "   'min': 2526.0,\n",
        "   'nevals': 229,\n",
        "   'std': 572.28023694690012},\n",
        "  {'avg': 3391.2233333333334,\n",
        "   'gen': 16,\n",
        "   'max': 5370.0,\n",
        "   'min': 2505.0,\n",
        "   'nevals': 226,\n",
        "   'std': 491.64067514349887},\n",
        "  {'avg': 3253.7266666666665,\n",
        "   'gen': 17,\n",
        "   'max': 5012.0,\n",
        "   'min': 2468.0,\n",
        "   'nevals': 236,\n",
        "   'std': 496.10970422097398},\n",
        "  {'avg': 3050.1999999999998,\n",
        "   'gen': 18,\n",
        "   'max': 4823.0,\n",
        "   'min': 2412.0,\n",
        "   'nevals': 221,\n",
        "   'std': 378.09885832499793},\n",
        "  {'avg': 2918.9366666666665,\n",
        "   'gen': 19,\n",
        "   'max': 4331.0,\n",
        "   'min': 2339.0,\n",
        "   'nevals': 215,\n",
        "   'std': 328.24975144274242},\n",
        "  {'avg': 2798.48,\n",
        "   'gen': 20,\n",
        "   'max': 3940.0,\n",
        "   'min': 2339.0,\n",
        "   'nevals': 205,\n",
        "   'std': 314.09345148644331},\n",
        "  {'avg': 2707.5466666666666,\n",
        "   'gen': 21,\n",
        "   'max': 4257.0,\n",
        "   'min': 2276.0,\n",
        "   'nevals': 209,\n",
        "   'std': 352.16131884249978},\n",
        "  {'avg': 2568.4499999999998,\n",
        "   'gen': 22,\n",
        "   'max': 4708.0,\n",
        "   'min': 2233.0,\n",
        "   'nevals': 216,\n",
        "   'std': 321.18028296685117},\n",
        "  {'avg': 2498.27,\n",
        "   'gen': 23,\n",
        "   'max': 4785.0,\n",
        "   'min': 2233.0,\n",
        "   'nevals': 244,\n",
        "   'std': 336.38833278419918},\n",
        "  {'avg': 2424.0933333333332,\n",
        "   'gen': 24,\n",
        "   'max': 3928.0,\n",
        "   'min': 2228.0,\n",
        "   'nevals': 219,\n",
        "   'std': 262.65079089078648},\n",
        "  {'avg': 2406.2733333333335,\n",
        "   'gen': 25,\n",
        "   'max': 4838.0,\n",
        "   'min': 2157.0,\n",
        "   'nevals': 231,\n",
        "   'std': 326.67219852458942},\n",
        "  {'avg': 2357.6100000000001,\n",
        "   'gen': 26,\n",
        "   'max': 4444.0,\n",
        "   'min': 2147.0,\n",
        "   'nevals': 217,\n",
        "   'std': 288.56402738387192},\n",
        "  {'avg': 2310.1933333333332,\n",
        "   'gen': 27,\n",
        "   'max': 3857.0,\n",
        "   'min': 2157.0,\n",
        "   'nevals': 209,\n",
        "   'std': 229.06541123055274},\n",
        "  {'avg': 2322.9166666666665,\n",
        "   'gen': 28,\n",
        "   'max': 4419.0,\n",
        "   'min': 2144.0,\n",
        "   'nevals': 228,\n",
        "   'std': 336.48986570507935},\n",
        "  {'avg': 2287.1633333333334,\n",
        "   'gen': 29,\n",
        "   'max': 4101.0,\n",
        "   'min': 2143.0,\n",
        "   'nevals': 236,\n",
        "   'std': 286.61947477835889},\n",
        "  {'avg': 2292.4266666666667,\n",
        "   'gen': 30,\n",
        "   'max': 4190.0,\n",
        "   'min': 2135.0,\n",
        "   'nevals': 238,\n",
        "   'std': 344.67533219280773},\n",
        "  {'avg': 2244.1399999999999,\n",
        "   'gen': 31,\n",
        "   'max': 3866.0,\n",
        "   'min': 2132.0,\n",
        "   'nevals': 215,\n",
        "   'std': 256.41311796916085},\n",
        "  {'avg': 2237.4000000000001,\n",
        "   'gen': 32,\n",
        "   'max': 4216.0,\n",
        "   'min': 2132.0,\n",
        "   'nevals': 224,\n",
        "   'std': 300.56034335886716},\n",
        "  {'avg': 2298.7566666666667,\n",
        "   'gen': 33,\n",
        "   'max': 4408.0,\n",
        "   'min': 2132.0,\n",
        "   'nevals': 237,\n",
        "   'std': 394.53274150851155},\n",
        "  {'avg': 2241.8099999999999,\n",
        "   'gen': 34,\n",
        "   'max': 3916.0,\n",
        "   'min': 2132.0,\n",
        "   'nevals': 213,\n",
        "   'std': 310.33665682072854},\n",
        "  {'avg': 2235.3666666666668,\n",
        "   'gen': 35,\n",
        "   'max': 4026.0,\n",
        "   'min': 2132.0,\n",
        "   'nevals': 241,\n",
        "   'std': 298.39236846064864},\n",
        "  {'avg': 2264.7833333333333,\n",
        "   'gen': 36,\n",
        "   'max': 4704.0,\n",
        "   'min': 2132.0,\n",
        "   'nevals': 219,\n",
        "   'std': 379.30496488826611},\n",
        "  {'avg': 2230.3933333333334,\n",
        "   'gen': 37,\n",
        "   'max': 3919.0,\n",
        "   'min': 2132.0,\n",
        "   'nevals': 239,\n",
        "   'std': 303.22417222613097},\n",
        "  {'avg': 2249.3366666666666,\n",
        "   'gen': 38,\n",
        "   'max': 4776.0,\n",
        "   'min': 2132.0,\n",
        "   'nevals': 226,\n",
        "   'std': 345.4777223723047},\n",
        "  {'avg': 2222.2266666666665,\n",
        "   'gen': 39,\n",
        "   'max': 4391.0,\n",
        "   'min': 2085.0,\n",
        "   'nevals': 226,\n",
        "   'std': 303.60332994806816},\n",
        "  {'avg': 2228.5133333333333,\n",
        "   'gen': 40,\n",
        "   'max': 4235.0,\n",
        "   'min': 2085.0,\n",
        "   'nevals': 220,\n",
        "   'std': 329.46779785317869}])"
       ]
      }
     ],
     "prompt_number": 2
    },
    {
     "cell_type": "code",
     "collapsed": false,
     "input": [
      "distance_map"
     ],
     "language": "python",
     "metadata": {},
     "outputs": [
      {
       "metadata": {},
       "output_type": "pyout",
       "prompt_number": 4,
       "text": [
        "[[0,\n",
        "  633,\n",
        "  257,\n",
        "  91,\n",
        "  412,\n",
        "  150,\n",
        "  80,\n",
        "  134,\n",
        "  259,\n",
        "  505,\n",
        "  353,\n",
        "  324,\n",
        "  70,\n",
        "  211,\n",
        "  268,\n",
        "  246,\n",
        "  121],\n",
        " [633,\n",
        "  0,\n",
        "  390,\n",
        "  661,\n",
        "  227,\n",
        "  488,\n",
        "  572,\n",
        "  530,\n",
        "  555,\n",
        "  289,\n",
        "  282,\n",
        "  638,\n",
        "  567,\n",
        "  466,\n",
        "  420,\n",
        "  745,\n",
        "  518],\n",
        " [257,\n",
        "  390,\n",
        "  0,\n",
        "  228,\n",
        "  169,\n",
        "  112,\n",
        "  196,\n",
        "  154,\n",
        "  372,\n",
        "  262,\n",
        "  110,\n",
        "  437,\n",
        "  191,\n",
        "  74,\n",
        "  53,\n",
        "  472,\n",
        "  142],\n",
        " [91,\n",
        "  661,\n",
        "  228,\n",
        "  0,\n",
        "  383,\n",
        "  120,\n",
        "  77,\n",
        "  105,\n",
        "  175,\n",
        "  476,\n",
        "  324,\n",
        "  240,\n",
        "  27,\n",
        "  182,\n",
        "  239,\n",
        "  237,\n",
        "  84],\n",
        " [412,\n",
        "  227,\n",
        "  169,\n",
        "  383,\n",
        "  0,\n",
        "  267,\n",
        "  351,\n",
        "  309,\n",
        "  338,\n",
        "  196,\n",
        "  61,\n",
        "  421,\n",
        "  346,\n",
        "  243,\n",
        "  199,\n",
        "  528,\n",
        "  297],\n",
        " [150,\n",
        "  488,\n",
        "  112,\n",
        "  120,\n",
        "  267,\n",
        "  0,\n",
        "  63,\n",
        "  34,\n",
        "  264,\n",
        "  360,\n",
        "  208,\n",
        "  329,\n",
        "  83,\n",
        "  105,\n",
        "  123,\n",
        "  364,\n",
        "  35],\n",
        " [80, 572, 196, 77, 351, 63, 0, 29, 232, 444, 292, 297, 47, 150, 207, 332, 29],\n",
        " [134,\n",
        "  530,\n",
        "  154,\n",
        "  105,\n",
        "  309,\n",
        "  34,\n",
        "  29,\n",
        "  0,\n",
        "  249,\n",
        "  402,\n",
        "  250,\n",
        "  314,\n",
        "  68,\n",
        "  108,\n",
        "  165,\n",
        "  349,\n",
        "  36],\n",
        " [259,\n",
        "  555,\n",
        "  372,\n",
        "  175,\n",
        "  338,\n",
        "  264,\n",
        "  232,\n",
        "  249,\n",
        "  0,\n",
        "  495,\n",
        "  352,\n",
        "  95,\n",
        "  189,\n",
        "  326,\n",
        "  383,\n",
        "  202,\n",
        "  236],\n",
        " [505,\n",
        "  289,\n",
        "  262,\n",
        "  476,\n",
        "  196,\n",
        "  360,\n",
        "  444,\n",
        "  402,\n",
        "  495,\n",
        "  0,\n",
        "  154,\n",
        "  578,\n",
        "  439,\n",
        "  336,\n",
        "  240,\n",
        "  685,\n",
        "  390],\n",
        " [353,\n",
        "  282,\n",
        "  110,\n",
        "  324,\n",
        "  61,\n",
        "  208,\n",
        "  292,\n",
        "  250,\n",
        "  352,\n",
        "  154,\n",
        "  0,\n",
        "  435,\n",
        "  287,\n",
        "  184,\n",
        "  140,\n",
        "  542,\n",
        "  238],\n",
        " [324,\n",
        "  638,\n",
        "  437,\n",
        "  240,\n",
        "  421,\n",
        "  329,\n",
        "  297,\n",
        "  314,\n",
        "  95,\n",
        "  578,\n",
        "  435,\n",
        "  0,\n",
        "  254,\n",
        "  391,\n",
        "  448,\n",
        "  157,\n",
        "  301],\n",
        " [70, 567, 191, 27, 346, 83, 47, 68, 189, 439, 287, 254, 0, 145, 202, 289, 55],\n",
        " [211,\n",
        "  466,\n",
        "  74,\n",
        "  182,\n",
        "  243,\n",
        "  105,\n",
        "  150,\n",
        "  108,\n",
        "  326,\n",
        "  336,\n",
        "  184,\n",
        "  391,\n",
        "  145,\n",
        "  0,\n",
        "  57,\n",
        "  426,\n",
        "  96],\n",
        " [268,\n",
        "  420,\n",
        "  53,\n",
        "  239,\n",
        "  199,\n",
        "  123,\n",
        "  207,\n",
        "  165,\n",
        "  383,\n",
        "  240,\n",
        "  140,\n",
        "  448,\n",
        "  202,\n",
        "  57,\n",
        "  0,\n",
        "  483,\n",
        "  153],\n",
        " [246,\n",
        "  745,\n",
        "  472,\n",
        "  237,\n",
        "  528,\n",
        "  364,\n",
        "  332,\n",
        "  349,\n",
        "  202,\n",
        "  685,\n",
        "  542,\n",
        "  157,\n",
        "  289,\n",
        "  426,\n",
        "  483,\n",
        "  0,\n",
        "  336],\n",
        " [121, 518, 142, 84, 297, 35, 29, 36, 236, 390, 238, 301, 55, 96, 153, 336, 0]]"
       ]
      }
     ],
     "prompt_number": 4
    },
    {
     "cell_type": "code",
     "collapsed": false,
     "input": [
      "print toolbox.population(IND_SIZE)"
     ],
     "language": "python",
     "metadata": {},
     "outputs": [
      {
       "output_type": "stream",
       "stream": "stdout",
       "text": [
        "[array('i', [6, 14, 8, 3, 1, 9, 11, 0, 10, 7, 13, 15, 12, 16, 5, 2, 4]), array('i', [4, 16, 7, 13, 15, 9, 5, 2, 11, 8, 3, 14, 12, 6, 0, 10, 1]), array('i', [4, 6, 2, 9, 16, 11, 1, 5, 12, 3, 7, 8, 0, 13, 10, 14, 15]), array('i', [1, 7, 11, 14, 3, 13, 15, 0, 10, 5, 4, 16, 12, 9, 2, 8, 6]), array('i', [2, 0, 1, 12, 14, 8, 7, 4, 16, 11, 13, 6, 5, 15, 9, 10, 3]), array('i', [12, 10, 9, 3, 0, 16, 13, 14, 6, 7, 4, 15, 11, 1, 5, 2, 8]), array('i', [6, 10, 14, 13, 8, 0, 1, 3, 2, 15, 7, 4, 9, 11, 16, 12, 5]), array('i', [11, 10, 8, 2, 7, 16, 12, 14, 0, 6, 1, 9, 13, 15, 3, 4, 5]), array('i', [10, 0, 9, 1, 15, 8, 4, 16, 6, 7, 14, 5, 13, 11, 12, 2, 3]), array('i', [8, 6, 15, 10, 4, 7, 11, 13, 2, 5, 3, 16, 9, 12, 0, 1, 14]), array('i', [3, 14, 11, 13, 8, 2, 5, 10, 6, 12, 15, 7, 16, 4, 1, 9, 0]), array('i', [3, 1, 13, 6, 15, 4, 11, 7, 9, 10, 5, 14, 16, 12, 2, 0, 8]), array('i', [16, 15, 10, 13, 4, 5, 12, 6, 8, 9, 1, 2, 14, 7, 3, 11, 0]), array('i', [6, 7, 3, 8, 10, 11, 4, 16, 0, 13, 15, 1, 14, 12, 5, 9, 2]), array('i', [0, 3, 4, 2, 12, 10, 16, 14, 7, 15, 13, 11, 8, 5, 1, 6, 9]), array('i', [8, 16, 1, 9, 12, 6, 7, 3, 2, 13, 15, 4, 11, 5, 10, 14, 0]), array('i', [6, 13, 11, 2, 16, 9, 3, 15, 8, 5, 12, 7, 4, 1, 14, 0, 10])]\n"
       ]
      }
     ],
     "prompt_number": 33
    },
    {
     "cell_type": "code",
     "collapsed": false,
     "input": [],
     "language": "python",
     "metadata": {},
     "outputs": [],
     "prompt_number": 25
    },
    {
     "cell_type": "code",
     "collapsed": false,
     "input": [],
     "language": "python",
     "metadata": {},
     "outputs": []
    }
   ],
   "metadata": {}
  }
 ]
}