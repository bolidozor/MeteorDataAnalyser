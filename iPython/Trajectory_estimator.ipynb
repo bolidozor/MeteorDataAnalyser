{
 "cells": [
  {
   "cell_type": "markdown",
   "metadata": {},
   "source": [
    "Calculation of meteor trajectory from head-echo dopplers\n",
    "=======\n",
    "\n",
    "Theory is adopted from Christian Steyaert et. al. 2010\n"
   ]
  },
  {
   "cell_type": "code",
   "execution_count": null,
   "metadata": {},
   "outputs": [],
   "source": [
    "TMx = (x_M − x T )\n",
    "TMy = (y M − y T )\n",
    "TMz = (z M − z T )"
   ]
  },
  {
   "cell_type": "code",
   "execution_count": 1,
   "metadata": {},
   "outputs": [],
   "source": [
    "import pylab\n",
    "f = pylab.figure()"
   ]
  },
  {
   "cell_type": "code",
   "execution_count": 2,
   "metadata": {},
   "outputs": [
    {
     "data": {
      "text/plain": [
       "[<matplotlib.lines.Line2D at 0x7ffb3ddb0898>]"
      ]
     },
     "execution_count": 2,
     "metadata": {},
     "output_type": "execute_result"
    }
   ],
   "source": [
    "pylab.plot([1,2,3], [1,2,4], 'go-', label='line 1', linewidth=2)\n",
    "pylab.plot([1,2,3], [1,2,2], 'bo-', label='line 1', linewidth=2)"
   ]
  },
  {
   "cell_type": "code",
   "execution_count": 3,
   "metadata": {},
   "outputs": [
    {
     "data": {
      "image/png": "[encoded data removed]",
      "text/plain": [
       "<matplotlib.figure.Figure at 0x7ffb64d40fd0>"
      ]
     },
     "metadata": {},
     "output_type": "display_data"
    }
   ],
   "source": [
    "pylab.show()"
   ]
  },
  {
   "cell_type": "markdown",
   "metadata": {},
   "source": [
    "Head Echo doppler function \n",
    "======="
   ]
  },
  {
   "cell_type": "markdown",
   "metadata": {},
   "source": [
    "The equation is  obtained from publication at http://adsabs.harvard.edu/abs/1998JIMO...26..117R (1998)"
   ]
  },
  {
   "cell_type": "code",
   "execution_count": 1,
   "metadata": {},
   "outputs": [],
   "source": [
    "from sympy import symbols, sign, sqrt\n",
    "from sympy.plotting import plot\n",
    "t, f0, c, vm, r0 = symbols('t f_0 c v_m r_0')"
   ]
  },
  {
   "cell_type": "code",
   "execution_count": 2,
   "metadata": {},
   "outputs": [],
   "source": [
    "delta_f = - sign(t) * sqrt(((2*f0)/c)**2 * (vm**2)/(r0**2/(vm**2 * t**2) + 1) )"
   ]
  },
  {
   "cell_type": "code",
   "execution_count": 3,
   "metadata": {},
   "outputs": [
    {
     "data": {
      "text/plain": [
       "-1947.56457926124"
      ]
     },
     "execution_count": 3,
     "metadata": {},
     "output_type": "execute_result"
    }
   ],
   "source": [
    "delta_f.subs([(f0,55.260e6),(c,3e8),(vm,40e3),(r0,300e3), (t,1)])"
   ]
  },
  {
   "cell_type": "code",
   "execution_count": 4,
   "metadata": {},
   "outputs": [
    {
     "data": {
      "image/png": "[encoded data removed]",
      "text/plain": [
       "<matplotlib.figure.Figure at 0x7f0e41cc49e8>"
      ]
     },
     "metadata": {},
     "output_type": "display_data"
    },
    {
     "data": {
      "text/plain": [
       "<sympy.plotting.plot.Plot at 0x7f0e41e1ae10>"
      ]
     },
     "execution_count": 4,
     "metadata": {},
     "output_type": "execute_result"
    }
   ],
   "source": [
    "plot(delta_f.subs([(f0,55.260e6),(c,3e8),(vm,40e3),(r0,300e3)]), (t, -10, 10))"
   ]
  },
  {
   "cell_type": "code",
   "execution_count": null,
   "metadata": {},
   "outputs": [],
   "source": []
  },
  {
   "cell_type": "markdown",
   "metadata": {},
   "source": [
    "## Artificial meteor generator"
   ]
  },
  {
   "cell_type": "code",
   "execution_count": 27,
   "metadata": {},
   "outputs": [],
   "source": [
    "%matplotlib inline\n",
    "\n",
    "from mpl_toolkits.mplot3d.axes3d import Axes3D\n",
    "import matplotlib.pyplot as plt\n",
    "import numpy as np\n",
    "import scipy\n",
    "import scipy.constants\n",
    "from scipy.optimize import minimize\n",
    "from scipy.interpolate import interp1d, UnivariateSpline\n",
    "from Geocentric import Geocentric\n",
    "geoC = Geocentric(6378137, 6356752.314)"
   ]
  },
  {
   "cell_type": "markdown",
   "metadata": {},
   "source": [
    "Generate Artificial meteor for algorithm testing"
   ]
  },
  {
   "cell_type": "code",
   "execution_count": 28,
   "metadata": {},
   "outputs": [],
   "source": [
    "c = scipy.constants.c\n",
    "f0 = 143050000\n",
    "trans_station_point = np.array(geoC.GeographicToGeocentric(47.347993, 5.515079, 190))\n",
    "t = 0.01\n",
    "timesteps = np.arange(-5,5,t)"
   ]
  },
  {
   "cell_type": "code",
   "execution_count": 113,
   "metadata": {},
   "outputs": [
    {
     "name": "stdout",
     "output_type": "stream",
     "text": [
      "[ 105323.51148911]\n",
      "[ 28817.49935655]\n",
      "<class 'numpy.ndarray'>\n",
      "[ 48.66256299]\n",
      "[ 11.32155907]\n",
      "[ 47.64712963]\n",
      "[ 8.92309783]\n",
      "[ 33697.48822468]\n",
      "[-10.    -9.99  -9.98 ...,   9.97   9.98   9.99]\n"
     ]
    }
   ],
   "source": [
    "#Artificial meteors coordinates:\n",
    "\n",
    "ZHR = 1\n",
    "\n",
    "met_start_altitude = np.random.normal(100e3,20e3,ZHR)\n",
    "met_stop_altitude = np.random.normal(60e3,20e3,ZHR)\n",
    "\n",
    "met_start_lat = np.random.normal(49,1,ZHR)  \n",
    "met_start_lon = np.random.normal(11,1,ZHR)\n",
    "\n",
    "met_stop_lat = np.random.normal(49,1,ZHR) \n",
    "met_stop_lon = np.random.normal(11,1,ZHR)\n",
    "\n",
    "met_velocity = np.random.normal(50000,20000,ZHR)\n",
    "timesteps = np.arange(-10,10,t)\n",
    "\n",
    "print(met_start_altitude)\n",
    "print(met_stop_altitude)\n",
    "print(type(met_stop_altitude))\n",
    "\n",
    "print(met_start_lat)\n",
    "print(met_start_lon)\n",
    "print(met_stop_lat)\n",
    "print(met_stop_lon)\n",
    "print(met_velocity)\n",
    "print(timesteps)"
   ]
  },
  {
   "cell_type": "code",
   "execution_count": 115,
   "metadata": {},
   "outputs": [
    {
     "name": "stdout",
     "output_type": "stream",
     "text": [
      "[ 80000.]\n",
      "[ 41000.]\n",
      "[ 49.99743939]\n",
      "[ 9.69250498]\n",
      "[ 50.03532718]\n",
      "[ 7.56001363]\n",
      "[ 17035.8497842]\n",
      "[-10.    -9.99  -9.98 ...,   9.97   9.98   9.99]\n"
     ]
    }
   ],
   "source": [
    "met_start_altitude = np.array([80000.0])\n",
    "met_stop_altitude = np.array([41000.0])\n",
    "\n",
    "met_start_lat = np.array([49.997439391249])\n",
    "met_start_lon = np.array([9.692504979925])\n",
    "\n",
    "met_stop_lat = np.array([50.035327181108])\n",
    "met_stop_lon = np.array([7.560013628387])\n",
    "\n",
    "met_velocity = np.random.normal(50000,20000,ZHR)\n",
    "timesteps = np.arange(-10,10,t)\n",
    "\n",
    "\n",
    "print(met_start_altitude)\n",
    "print(met_stop_altitude)\n",
    "\n",
    "print(met_start_lat)\n",
    "print(met_start_lon)\n",
    "print(met_stop_lat)\n",
    "print(met_stop_lon)\n",
    "print(met_velocity)\n",
    "print(timesteps)"
   ]
  },
  {
   "cell_type": "code",
   "execution_count": 116,
   "metadata": {},
   "outputs": [],
   "source": [
    "def estimate_dopplers(trajectory, timesteps, f0, trans_station, rec_station):\n",
    "    '''\n",
    "        Returns array of dopplers for given transmitter to receiver position and defined frequency and known trajectory.\n",
    "    '''\n",
    "    rec_to_met = np.empty([trajectory.shape[0], 1])\n",
    "    trans_to_met = np.empty([trajectory.shape[0], 1])\n",
    "    doppler = np.empty([trajectory.shape[0], 2])\n",
    "    \n",
    "    previous_rec_to_met = np.linalg.norm(rec_station - trajectory[0])\n",
    "    previous_trans_to_met = np.linalg.norm(trans_station - trajectory[0])\n",
    "    \n",
    "    t = timesteps[1] - timesteps[0]\n",
    "    \n",
    "    for i in range(trajectory.shape[0]):\n",
    "        rec_to_met[i] = np.linalg.norm(rec_station - trajectory[i])\n",
    "        trans_to_met[i] = np.linalg.norm(trans_station - trajectory[i])\n",
    "    \n",
    "        met_trans_speed = previous_trans_to_met - trans_to_met[i]\n",
    "        previous_trans_to_met = trans_to_met[i]\n",
    "        speed = met_trans_speed/t    \n",
    "        f1 = ((c + speed)/c * f0)\n",
    "        \n",
    "        met_rec_speed = previous_rec_to_met - rec_to_met[i]    ## calculate bistatic velocity from known position\n",
    "        previous_rec_to_met = rec_to_met[i]\n",
    "        speed = met_rec_speed/t\n",
    "        f2 = (c/(c - speed) * f1)\n",
    "        doppler[i] = np.array([timesteps[i], f2-f0])\n",
    "    return doppler"
   ]
  },
  {
   "cell_type": "markdown",
   "metadata": {},
   "source": [
    "Define Bolidozor network station. List may be updated from space.astro.cz server according to stored data."
   ]
  },
  {
   "cell_type": "code",
   "execution_count": 117,
   "metadata": {},
   "outputs": [],
   "source": [
    "stations = []\n",
    "#stations.append({'name': 'Zebrak','latitude':49.8736, 'longitude':13.8986,'elevation':400, 'status': 'operational', 'type': 'receiver'})\n",
    "#stations.append({'name': 'uFlu','latitude':50.0795, 'longitude':14.4891,'elevation':400, 'status': 'operational', 'type': 'receiver'})\n",
    "#stations.append({'name': 'OBSUPICE','latitude':50.5067,'longitude':16.0115,'elevation':400, 'status': 'operational', 'type': 'receiver'})\n",
    "stations.append({'name': 'SVAKOV','latitude':49.2607,'longitude':14.6917,'elevation':400, 'status': 'operational', 'type': 'receiver'})\n",
    "#stations.append({'name': 'ZVPP','latitude':48.9869,'longitude':14.4675,'elevation':400, 'status': 'operational', 'type': 'receiver'})\n",
    "#stations.append({'name': 'BPB','latitude':48.653153,'longitude':17.537413,'elevation':400, 'status': 'testing', 'type': 'receiver'})\n",
    "#stations.append({'name': 'HPHK','latitude':50.1772,'longitude':15.8386,'elevation':400, 'status': 'testing', 'type': 'receiver'})\n",
    "#stations.append({'name': 'OBSJAROMER','latitude':50.351397,'longitude':15.915878,'elevation':400, 'status': 'testing', 'type': 'receiver'})\n",
    "#stations.append({'name': 'JHRADEC','latitude':49.1314,'longitude': 14.9999,'elevation':400, 'status': 'testing', 'type': 'receiver'})\n",
    "#stations.append({'name': 'VALMEZ','latitude':49.463038,'longitude': 17.973544,'elevation':400, 'status': 'testing', 'type': 'receiver'})\n",
    "#stations.append({'name': 'NACHODSKO','latitude':50.409407,'longitude':15.414812,'elevation':400, 'status': 'operational', 'type': 'receiver'})\n",
    "#stations.append({'name': 'GERM1','latitude':50.409407,'longitude':10.414812,'elevation':400, 'status': 'operational', 'type': 'receiver'})\n",
    "#stations.append({'name': 'GERM2','latitude':50.009407,'longitude':9.414812,'elevation':400, 'status': 'operational', 'type': 'receiver'})\n",
    "#stations.append({'name': 'IT1','latitude':45.409407,'longitude':10.414812,'elevation':400, 'status': 'operational', 'type': 'receiver'})\n",
    "\n",
    "stations.append({'name': 'HFN','latitude':49.1314,'longitude':14.9999,'elevation':450, 'status': 'operational', 'type': 'receiver'})\n",
    "stations.append({'name': 'TREBIC','latitude':49.2071,'longitude':15.8759,'elevation':480, 'status': 'operational', 'type': 'receiver'})\n"
   ]
  },
  {
   "cell_type": "code",
   "execution_count": 121,
   "metadata": {},
   "outputs": [
    {
     "name": "stdout",
     "output_type": "stream",
     "text": [
      "Using matplotlib backend: TkAgg\n",
      "[   4854.94030886  156778.48911399   27149.25661826]\n"
     ]
    }
   ],
   "source": [
    "# compute dopplers for multiple stations\n",
    "\n",
    "\n",
    "from Geocentric import Geocentric\n",
    "geoC = Geocentric(6378137, 6356752.314)\n",
    "\n",
    "%matplotlib\n",
    "fig, ax1 = plt.subplots(figsize=(9, 7))\n",
    "ax1.set_title('Meteor Dopplers at multiple Bolidozor stations')\n",
    "ax1.set_ylabel('Doppler [Hz]')\n",
    "ax1.set_xlabel('Time [s]')\n",
    "grid(True)\n",
    "\n",
    "meteor_dopplers = [1,2]\n",
    "met_points = np.empty([timesteps.size, 3])\n",
    "\n",
    "for meteor in range(ZHR):\n",
    "    \n",
    "    # get meteor vector from start and stop point\n",
    "    met_start_point = np.array(geoC.GeographicToGeocentric(met_start_lat[meteor], met_start_lon[meteor], met_start_altitude[meteor]))\n",
    "    met_stop_point = np.array(geoC.GeographicToGeocentric(met_stop_lat[meteor], met_stop_lon[meteor], met_stop_altitude[meteor]))\n",
    "    met_vect = met_start_point - met_stop_point\n",
    "    print(met_vect)\n",
    "\n",
    "    for i in range(timesteps.size):  # generate points on artifitial meteor trajectory (discretize in space)\n",
    "        met_points[i] =  met_start_point + (met_vect/np.linalg.norm(met_vect) * (timesteps[i] * met_velocity[meteor]))\n",
    "    \n",
    "    for station in stations:\n",
    "        rec_station_point = np.array(geoC.GeographicToGeocentric(station['latitude'], station['longitude'], station['elevation']))\n",
    "        \n",
    "        doppler = estimate_dopplers(met_points, timesteps, f0, trans_station_point, rec_station_point)\n",
    "            \n",
    "        meteor_dopplers[meteor] = doppler\n",
    "        plt.plot(doppler[1:,0], doppler[1:,1], label=station['name'] if meteor == 0 else \"\")\n",
    "    \n",
    "    plt.legend(loc=1)\n",
    "    plt.xlabel(\"Relative time [s]\")\n",
    "    plt.ylabel(\"Doppler shift [Hz]\")\n"
   ]
  },
  {
   "cell_type": "markdown",
   "metadata": {},
   "source": [
    "Plot artifitial meteor trajectory points"
   ]
  },
  {
   "cell_type": "code",
   "execution_count": 119,
   "metadata": {},
   "outputs": [
    {
     "data": {
      "text/plain": [
       "3"
      ]
     },
     "execution_count": 119,
     "metadata": {},
     "output_type": "execute_result"
    }
   ],
   "source": [
    "len(stations)"
   ]
  },
  {
   "cell_type": "code",
   "execution_count": 120,
   "metadata": {},
   "outputs": [
    {
     "name": "stderr",
     "output_type": "stream",
     "text": [
      "/usr/local/lib/python3.5/dist-packages/matplotlib/__init__.py:800: MatplotlibDeprecationWarning: axes.color_cycle is deprecated and replaced with axes.prop_cycle; please use the latter.\n",
      "  mplDeprecation)\n",
      "/usr/local/lib/python3.5/dist-packages/mpl_toolkits/basemap/__init__.py:1704: MatplotlibDeprecationWarning: The axesPatch function was deprecated in version 2.1. Use Axes.patch instead.\n",
      "  limb = ax.axesPatch\n",
      "/usr/local/lib/python3.5/dist-packages/mpl_toolkits/basemap/__init__.py:1707: MatplotlibDeprecationWarning: The axesPatch function was deprecated in version 2.1. Use Axes.patch instead.\n",
      "  if limb is not ax.axesPatch:\n",
      "/usr/local/lib/python3.5/dist-packages/matplotlib/cbook/deprecation.py:106: MatplotlibDeprecationWarning: The set_color_cycle attribute was deprecated in version 1.5. Use set_prop_cycle instead.\n",
      "  warnings.warn(message, mplDeprecation, stacklevel=1)\n"
     ]
    }
   ],
   "source": [
    "\n",
    "from mpltools import style\n",
    "from mpltools import layout\n",
    "\n",
    "style.use('ggplot')\n",
    "\n",
    "from mpl_toolkits.basemap import Basemap\n",
    "\n",
    "land_color = 'lightgray'\n",
    "water_color = 'lightblue'\n",
    "\n",
    "fig, ax = subplots(figsize=(20,20))\n",
    "map = Basemap(projection='merc', llcrnrlat=45, urcrnrlat=55,\n",
    "            llcrnrlon=5, urcrnrlon=25, resolution='i',area_thresh = 50)\n",
    "\n",
    "land_color = 'lightgray'\n",
    "water_color = 'lightblue'\n",
    "\n",
    "map.fillcontinents(color=land_color, lake_color=water_color)\n",
    "map.drawcoastlines()\n",
    "map.drawcountries()\n",
    "#map.drawparallels(np.arange(-90.,120.,30.))\n",
    "#map.drawmeridians(np.arange(0.,420.,60.))\n",
    "map.drawmapboundary(fill_color=water_color)\n",
    "ax.set_title('Bolidozor network')\n",
    "\n",
    "#x, y = map(np.array(near_transmitters.longitude_deg), np.array(near_transmitters.latitude_deg))\n",
    "#map.plot(x, y, marker='o', markersize=6, markerfacecolor='red', linewidth=0)\n",
    "\n",
    "colors = plt.get_cmap('jet')(np.linspace(0, 1.0, len(stations)))\n",
    "ax.set_color_cycle(colors)\n",
    "for station in stations:\n",
    "    station_latitude = station['latitude']\n",
    "    station_longitude = station['longitude']\n",
    "    x, y = map(station_longitude, station_latitude)\n",
    "    \n",
    "    map.plot(x, y, marker='o', markersize=8, linewidth=0, label=station['name'])\n",
    "plt.legend(numpoints=1,loc='best')\n",
    "\n",
    "map.drawgreatcircle(met_start_lon, met_start_lat, met_stop_lon, met_stop_lat,linewidth=2,color='green')\n",
    "\n",
    "map.ax = ax\n"
   ]
  },
  {
   "cell_type": "code",
   "execution_count": 103,
   "metadata": {},
   "outputs": [
    {
     "name": "stdout",
     "output_type": "stream",
     "text": [
      "Using matplotlib backend: TkAgg\n"
     ]
    }
   ],
   "source": [
    "%matplotlib\n",
    "fig = plt.figure()\n",
    "ax = plt.axes(projection='3d')\n",
    "ax.scatter(met_points[:,0], met_points[:,1], met_points[:,2])\n",
    "for station in stations:\n",
    "    rec_station_point = np.array(geoC.GeographicToGeocentric(station['latitude'], station['longitude'], station['elevation']))\n",
    "    ax.scatter(rec_station_point[0], rec_station_point[1], rec_station_point[2])\n"
   ]
  },
  {
   "cell_type": "markdown",
   "metadata": {},
   "source": [
    "Compute difference between of estimated trajectory dopplers and \"real\" simulated trajectory."
   ]
  },
  {
   "cell_type": "code",
   "execution_count": 104,
   "metadata": {},
   "outputs": [],
   "source": [
    "\"\"\"\n",
    "Make virtual artificial meteor report from a model trajectory. \n",
    "\n",
    "\"\"\"\n",
    "\n",
    "meteor_data = doppler[1:,0]\n",
    "\n",
    "doppler_min = -500.0\n",
    "doppler_max = 500.0\n",
    "\n",
    "for station in stations:\n",
    "    rec_station_point = np.array(geoC.GeographicToGeocentric(station['latitude'], station['longitude'], station['elevation']))\n",
    "    dopplers = estimate_dopplers(met_points, timesteps, f0, trans_station_point, rec_station_point)\n",
    "    indexes = np.where(np.logical_and(dopplers[1:,1] > doppler_min, dopplers[1:,1] < doppler_max ))\n",
    "    station['doppler'] = np.concatenate((np.take(dopplers[1:,0], indexes), np.take(dopplers[1:,1], indexes)), axis = 0).T\n",
    "#    met_doppler_function = interp1d(station['doppler'][:,1], station['doppler'][:,0]) # make interpolation function of measured dopplers. \n",
    "#    station['PCA_time'] = float(met_doppler_function(0)) # Get point of the closest approach time\n",
    "    "
   ]
  },
  {
   "cell_type": "code",
   "execution_count": 105,
   "metadata": {},
   "outputs": [],
   "source": [
    "outfile = \"station_data\" \n",
    "np.savez(outfile, timesteps=timesteps, stations=stations)"
   ]
  },
  {
   "cell_type": "code",
   "execution_count": null,
   "metadata": {},
   "outputs": [],
   "source": []
  },
  {
   "cell_type": "code",
   "execution_count": 106,
   "metadata": {},
   "outputs": [
    {
     "name": "stdout",
     "output_type": "stream",
     "text": [
      "Using matplotlib backend: TkAgg\n"
     ]
    },
    {
     "ename": "AxisError",
     "evalue": "axis 1 is out of bounds for array of dimension 1",
     "output_type": "error",
     "traceback": [
      "\u001b[0;31m---------------------------------------------------------------------------\u001b[0m",
      "\u001b[0;31mAxisError\u001b[0m                                 Traceback (most recent call last)",
      "\u001b[0;32m<ipython-input-106-e4525ed7870e>\u001b[0m in \u001b[0;36m<module>\u001b[0;34m()\u001b[0m\n\u001b[1;32m     21\u001b[0m         \u001b[0mmet_points\u001b[0m\u001b[0;34m[\u001b[0m\u001b[0mi\u001b[0m\u001b[0;34m]\u001b[0m \u001b[0;34m=\u001b[0m  \u001b[0mmet_start_point\u001b[0m \u001b[0;34m+\u001b[0m \u001b[0;34m(\u001b[0m\u001b[0mmet_vect\u001b[0m \u001b[0;34m*\u001b[0m \u001b[0mtimesteps\u001b[0m\u001b[0;34m[\u001b[0m\u001b[0mi\u001b[0m\u001b[0;34m]\u001b[0m\u001b[0;34m)\u001b[0m\u001b[0;34m\u001b[0m\u001b[0m\n\u001b[1;32m     22\u001b[0m \u001b[0;34m\u001b[0m\u001b[0m\n\u001b[0;32m---> 23\u001b[0;31m     \u001b[0mdoppler_deviations\u001b[0m \u001b[0;34m=\u001b[0m \u001b[0merror_func\u001b[0m\u001b[0;34m(\u001b[0m\u001b[0mmake_meteor\u001b[0m\u001b[0;34m(\u001b[0m\u001b[0;34m)\u001b[0m\u001b[0;34m,\u001b[0m \u001b[0mtimesteps\u001b[0m\u001b[0;34m,\u001b[0m \u001b[0mstations\u001b[0m\u001b[0;34m)\u001b[0m\u001b[0;34m\u001b[0m\u001b[0m\n\u001b[0m\u001b[1;32m     24\u001b[0m \u001b[0;34m\u001b[0m\u001b[0m\n\u001b[1;32m     25\u001b[0m     \u001b[0;32mfor\u001b[0m \u001b[0mstation\u001b[0m \u001b[0;32min\u001b[0m \u001b[0mdoppler_deviations\u001b[0m\u001b[0;34m:\u001b[0m\u001b[0;34m\u001b[0m\u001b[0m\n",
      "\u001b[0;32m<ipython-input-14-3fb9fc3ea62d>\u001b[0m in \u001b[0;36mmake_meteor\u001b[0;34m()\u001b[0m\n\u001b[1;32m     16\u001b[0m     \u001b[0mest_vect\u001b[0m \u001b[0;34m=\u001b[0m \u001b[0mest_start_point\u001b[0m \u001b[0;34m-\u001b[0m \u001b[0mest_stop_point\u001b[0m\u001b[0;34m\u001b[0m\u001b[0m\n\u001b[1;32m     17\u001b[0m     \u001b[0mest_speed_vect\u001b[0m \u001b[0;34m=\u001b[0m \u001b[0mest_vect\u001b[0m\u001b[0;34m/\u001b[0m\u001b[0mnp\u001b[0m\u001b[0;34m.\u001b[0m\u001b[0mlinalg\u001b[0m\u001b[0;34m.\u001b[0m\u001b[0mnorm\u001b[0m\u001b[0;34m(\u001b[0m\u001b[0mest_vect\u001b[0m\u001b[0;34m)\u001b[0m \u001b[0;34m*\u001b[0m \u001b[0mest_velocity\u001b[0m\u001b[0;34m\u001b[0m\u001b[0m\n\u001b[0;32m---> 18\u001b[0;31m     \u001b[0mest_params\u001b[0m \u001b[0;34m=\u001b[0m \u001b[0mnp\u001b[0m\u001b[0;34m.\u001b[0m\u001b[0mconcatenate\u001b[0m\u001b[0;34m(\u001b[0m\u001b[0;34m(\u001b[0m\u001b[0mest_start_point\u001b[0m\u001b[0;34m.\u001b[0m\u001b[0mravel\u001b[0m\u001b[0;34m(\u001b[0m\u001b[0;34m)\u001b[0m\u001b[0;34m,\u001b[0m \u001b[0mest_speed_vect\u001b[0m\u001b[0;34m.\u001b[0m\u001b[0mravel\u001b[0m\u001b[0;34m(\u001b[0m\u001b[0;34m)\u001b[0m\u001b[0;34m)\u001b[0m\u001b[0;34m,\u001b[0m \u001b[0maxis\u001b[0m\u001b[0;34m=\u001b[0m\u001b[0;36m1\u001b[0m\u001b[0;34m)\u001b[0m\u001b[0;34m\u001b[0m\u001b[0m\n\u001b[0m\u001b[1;32m     19\u001b[0m     \u001b[0;32mreturn\u001b[0m \u001b[0mest_params\u001b[0m\u001b[0;34m\u001b[0m\u001b[0m\n",
      "\u001b[0;31mAxisError\u001b[0m: axis 1 is out of bounds for array of dimension 1"
     ]
    }
   ],
   "source": [
    "%matplotlib\n",
    "fig, ax1 = plt.subplots(figsize=(9, 7))\n",
    "ax1.set_title('Errors of estimated trajectory doppler time over all Bolidozor stations data')\n",
    "ax1.set_ylabel('Time error [s]')\n",
    "ax1.set_xlabel('Number of records')\n",
    "\n",
    "meteor_dopplers = [1,2]\n",
    "\n",
    "met_points = np.empty([timesteps.size, 3])\n",
    "\n",
    "\n",
    "for meteor in range(ZHR):\n",
    "    \n",
    "    # get meteor vector from start and stop point\n",
    "    met_start_point = np.array(geoC.GeographicToGeocentric(met_start_lat[meteor], met_start_lon[meteor], met_start_altitude[meteor]))\n",
    "    met_stop_point = np.array(geoC.GeographicToGeocentric(met_stop_lat[meteor], met_stop_lon[meteor], met_stop_altitude[meteor]))\n",
    "    met_vect = met_start_point - met_stop_point\n",
    "    met_speed_vect = met_vect/np.linalg.norm(met_vect) * met_velocity[meteor]\n",
    "    \n",
    "    for i in range(timesteps.size):  # generate points on meteor trajectory (discretize in space)\n",
    "        met_points[i] =  met_start_point + (met_vect * timesteps[i])\n",
    "    \n",
    "    doppler_deviations = error_func(make_meteor(), timesteps, stations)\n",
    "    \n",
    "    for station in doppler_deviations:\n",
    "        plt.plot(doppler_deviations[station][:] , label=station if meteor == 0 else \"\")\n",
    "    plt.legend(loc=1)"
   ]
  },
  {
   "cell_type": "code",
   "execution_count": 62,
   "metadata": {},
   "outputs": [],
   "source": []
  },
  {
   "cell_type": "markdown",
   "metadata": {},
   "source": [
    "## Meteor parameters Estimator"
   ]
  },
  {
   "cell_type": "code",
   "execution_count": 14,
   "metadata": {},
   "outputs": [],
   "source": [
    "def make_meteor():\n",
    "    ## initial meteor trajectory guess \n",
    "    est_start_altitude = np.random.normal(100e3,20e3,1)\n",
    "    est_stop_altitude = np.random.normal(60e3,20e3,1)\n",
    "    \n",
    "    est_start_lat = np.random.normal(49,2,1)  \n",
    "    est_start_lon = np.random.normal(11,2,1)\n",
    "    \n",
    "    est_stop_lat = np.random.normal(49,2,1) \n",
    "    est_stop_lon = np.random.normal(11,2,1)\n",
    "    \n",
    "    est_velocity = np.random.normal(50000,20000,1)\n",
    "\n",
    "    est_start_point = np.array(geoC.GeographicToGeocentric(est_start_lat, est_start_lon, est_start_altitude))\n",
    "    est_stop_point = np.array(geoC.GeographicToGeocentric(est_stop_lat, est_stop_lon, est_stop_altitude))\n",
    "    est_vect = est_start_point - est_stop_point\n",
    "    est_speed_vect = est_vect/np.linalg.norm(est_vect) * est_velocity\n",
    "    est_params = np.concatenate((est_start_point.ravel(), est_speed_vect.ravel()), axis=1)\n",
    "    return est_params\n"
   ]
  },
  {
   "cell_type": "code",
   "execution_count": 15,
   "metadata": {},
   "outputs": [],
   "source": [
    "def error_func(est_params, timesteps, stations):\n",
    "    \"\"\"\n",
    "    Returns time difference between real and estimated meteor trajectory dopplers\n",
    "    \"\"\"\n",
    "    from Geocentric import Geocentric\n",
    "    geoC = Geocentric(6378137, 6356752.314)\n",
    "    \n",
    "    est_start_point = est_params[0:3]\n",
    "    est_vect = est_params[3:6]\n",
    "    est_points = np.empty([timesteps.size, 3])\n",
    "    \n",
    "    for i in range(timesteps.size):  # generate points of estimated meteor trajectory\n",
    "        est_points[i] =  est_start_point + (est_vect * timesteps[i])\n",
    "\n",
    "    doppler_deviations = {}\n",
    "    for station in stations:\n",
    "        doppler_deviation = np.zeros(station['doppler'].shape[0])\n",
    "        rec_station_point = np.array(geoC.GeographicToGeocentric(station['latitude'], station['longitude'], station['elevation']))\n",
    "        est_doppler = estimate_dopplers(est_points, timesteps, f0, trans_station_point, rec_station_point)\n",
    "        est_doppler_function = UnivariateSpline(est_doppler[1:,1], est_doppler[1:,0]) # make interpolation function of estimated dopplers. \n",
    "\n",
    "        for i in range(station['doppler'].shape[0]):  \n",
    "            doppler_deviation[i] = (station['doppler'][:,0][i] - est_doppler_function(station['doppler'][:,1][i]))**2\n",
    "        \n",
    "        doppler_deviations[station['name']] = doppler_deviation\n",
    "        \n",
    "    return doppler_deviations\n"
   ]
  },
  {
   "cell_type": "code",
   "execution_count": 16,
   "metadata": {},
   "outputs": [],
   "source": [
    "def station_errors(met_params, timesteps, stations):\n",
    "    \"\"\"\n",
    "    Calculate total error value of estimated meteor params to every station signal. \n",
    "    \"\"\"    \n",
    "    doppler_errors = error_func(met_params, timesteps, stations)\n",
    "    total_deviation = []\n",
    "    for station in doppler_errors:\n",
    "        total_deviation.append(np.sum(doppler_errors[station]))\n",
    "    return total_deviation"
   ]
  },
  {
   "cell_type": "markdown",
   "metadata": {},
   "source": [
    "### Gradient method of trajectory search"
   ]
  },
  {
   "cell_type": "code",
   "execution_count": 17,
   "metadata": {},
   "outputs": [],
   "source": [
    "def total_error(est_params, timesteps, stations_data):\n",
    "    return np.sum(station_errors(est_params, timesteps, stations)[5]) ## test to match meteor to one station\n",
    "#    return station_errors(est_params, timesteps, stations)"
   ]
  },
  {
   "cell_type": "code",
   "execution_count": 18,
   "metadata": {},
   "outputs": [],
   "source": [
    "def find_trajectory(timesteps,stations_data):\n",
    "    ## initial meteor trajectory guess \n",
    "\n",
    "    est_params = make_meteor()\n",
    "    res = minimize(total_error, est_params, args = (timesteps, stations_data,), method = 'Nelder-Mead', options = {'disp': True, 'maxfev': 1e10, 'maxiter': 1e10, 'ftol': 1e-6})\n",
    "    return res"
   ]
  },
  {
   "cell_type": "code",
   "execution_count": 19,
   "metadata": {},
   "outputs": [
    {
     "ename": "AxisError",
     "evalue": "axis 1 is out of bounds for array of dimension 1",
     "output_type": "error",
     "traceback": [
      "\u001b[0;31m---------------------------------------------------------------------------\u001b[0m",
      "\u001b[0;31mAxisError\u001b[0m                                 Traceback (most recent call last)",
      "\u001b[0;32m<ipython-input-19-248e8cefa42a>\u001b[0m in \u001b[0;36m<module>\u001b[0;34m()\u001b[0m\n\u001b[0;32m----> 1\u001b[0;31m \u001b[0mres\u001b[0m \u001b[0;34m=\u001b[0m \u001b[0mfind_trajectory\u001b[0m\u001b[0;34m(\u001b[0m\u001b[0mtimesteps\u001b[0m\u001b[0;34m,\u001b[0m \u001b[0mstations\u001b[0m\u001b[0;34m)\u001b[0m\u001b[0;34m\u001b[0m\u001b[0m\n\u001b[0m",
      "\u001b[0;32m<ipython-input-18-ada96a56f050>\u001b[0m in \u001b[0;36mfind_trajectory\u001b[0;34m(timesteps, stations_data)\u001b[0m\n\u001b[1;32m      2\u001b[0m     \u001b[0;31m## initial meteor trajectory guess\u001b[0m\u001b[0;34m\u001b[0m\u001b[0;34m\u001b[0m\u001b[0m\n\u001b[1;32m      3\u001b[0m \u001b[0;34m\u001b[0m\u001b[0m\n\u001b[0;32m----> 4\u001b[0;31m     \u001b[0mest_params\u001b[0m \u001b[0;34m=\u001b[0m \u001b[0mmake_meteor\u001b[0m\u001b[0;34m(\u001b[0m\u001b[0;34m)\u001b[0m\u001b[0;34m\u001b[0m\u001b[0m\n\u001b[0m\u001b[1;32m      5\u001b[0m     \u001b[0mres\u001b[0m \u001b[0;34m=\u001b[0m \u001b[0mminimize\u001b[0m\u001b[0;34m(\u001b[0m\u001b[0mtotal_error\u001b[0m\u001b[0;34m,\u001b[0m \u001b[0mest_params\u001b[0m\u001b[0;34m,\u001b[0m \u001b[0margs\u001b[0m \u001b[0;34m=\u001b[0m \u001b[0;34m(\u001b[0m\u001b[0mtimesteps\u001b[0m\u001b[0;34m,\u001b[0m \u001b[0mstations_data\u001b[0m\u001b[0;34m,\u001b[0m\u001b[0;34m)\u001b[0m\u001b[0;34m,\u001b[0m \u001b[0mmethod\u001b[0m \u001b[0;34m=\u001b[0m \u001b[0;34m'Nelder-Mead'\u001b[0m\u001b[0;34m,\u001b[0m \u001b[0moptions\u001b[0m \u001b[0;34m=\u001b[0m \u001b[0;34m{\u001b[0m\u001b[0;34m'disp'\u001b[0m\u001b[0;34m:\u001b[0m \u001b[0;32mTrue\u001b[0m\u001b[0;34m,\u001b[0m \u001b[0;34m'maxfev'\u001b[0m\u001b[0;34m:\u001b[0m \u001b[0;36m1e10\u001b[0m\u001b[0;34m,\u001b[0m \u001b[0;34m'maxiter'\u001b[0m\u001b[0;34m:\u001b[0m \u001b[0;36m1e10\u001b[0m\u001b[0;34m,\u001b[0m \u001b[0;34m'ftol'\u001b[0m\u001b[0;34m:\u001b[0m \u001b[0;36m1e-6\u001b[0m\u001b[0;34m}\u001b[0m\u001b[0;34m)\u001b[0m\u001b[0;34m\u001b[0m\u001b[0m\n\u001b[1;32m      6\u001b[0m     \u001b[0;32mreturn\u001b[0m \u001b[0mres\u001b[0m\u001b[0;34m\u001b[0m\u001b[0m\n",
      "\u001b[0;32m<ipython-input-14-3fb9fc3ea62d>\u001b[0m in \u001b[0;36mmake_meteor\u001b[0;34m()\u001b[0m\n\u001b[1;32m     16\u001b[0m     \u001b[0mest_vect\u001b[0m \u001b[0;34m=\u001b[0m \u001b[0mest_start_point\u001b[0m \u001b[0;34m-\u001b[0m \u001b[0mest_stop_point\u001b[0m\u001b[0;34m\u001b[0m\u001b[0m\n\u001b[1;32m     17\u001b[0m     \u001b[0mest_speed_vect\u001b[0m \u001b[0;34m=\u001b[0m \u001b[0mest_vect\u001b[0m\u001b[0;34m/\u001b[0m\u001b[0mnp\u001b[0m\u001b[0;34m.\u001b[0m\u001b[0mlinalg\u001b[0m\u001b[0;34m.\u001b[0m\u001b[0mnorm\u001b[0m\u001b[0;34m(\u001b[0m\u001b[0mest_vect\u001b[0m\u001b[0;34m)\u001b[0m \u001b[0;34m*\u001b[0m \u001b[0mest_velocity\u001b[0m\u001b[0;34m\u001b[0m\u001b[0m\n\u001b[0;32m---> 18\u001b[0;31m     \u001b[0mest_params\u001b[0m \u001b[0;34m=\u001b[0m \u001b[0mnp\u001b[0m\u001b[0;34m.\u001b[0m\u001b[0mconcatenate\u001b[0m\u001b[0;34m(\u001b[0m\u001b[0;34m(\u001b[0m\u001b[0mest_start_point\u001b[0m\u001b[0;34m.\u001b[0m\u001b[0mravel\u001b[0m\u001b[0;34m(\u001b[0m\u001b[0;34m)\u001b[0m\u001b[0;34m,\u001b[0m \u001b[0mest_speed_vect\u001b[0m\u001b[0;34m.\u001b[0m\u001b[0mravel\u001b[0m\u001b[0;34m(\u001b[0m\u001b[0;34m)\u001b[0m\u001b[0;34m)\u001b[0m\u001b[0;34m,\u001b[0m \u001b[0maxis\u001b[0m\u001b[0;34m=\u001b[0m\u001b[0;36m1\u001b[0m\u001b[0;34m)\u001b[0m\u001b[0;34m\u001b[0m\u001b[0m\n\u001b[0m\u001b[1;32m     19\u001b[0m     \u001b[0;32mreturn\u001b[0m \u001b[0mest_params\u001b[0m\u001b[0;34m\u001b[0m\u001b[0m\n",
      "\u001b[0;31mAxisError\u001b[0m: axis 1 is out of bounds for array of dimension 1"
     ]
    }
   ],
   "source": [
    "res = find_trajectory(timesteps, stations)"
   ]
  },
  {
   "cell_type": "code",
   "execution_count": 20,
   "metadata": {},
   "outputs": [
    {
     "ename": "NameError",
     "evalue": "name 'res' is not defined",
     "output_type": "error",
     "traceback": [
      "\u001b[0;31m---------------------------------------------------------------------------\u001b[0m",
      "\u001b[0;31mNameError\u001b[0m                                 Traceback (most recent call last)",
      "\u001b[0;32m<ipython-input-20-da6bdddbf3e3>\u001b[0m in \u001b[0;36m<module>\u001b[0;34m()\u001b[0m\n\u001b[0;32m----> 1\u001b[0;31m \u001b[0mout3\u001b[0m \u001b[0;34m=\u001b[0m \u001b[0mres\u001b[0m\u001b[0;34m\u001b[0m\u001b[0m\n\u001b[0m",
      "\u001b[0;31mNameError\u001b[0m: name 'res' is not defined"
     ]
    }
   ],
   "source": [
    "out3 = res"
   ]
  },
  {
   "cell_type": "code",
   "execution_count": 21,
   "metadata": {},
   "outputs": [
    {
     "ename": "NameError",
     "evalue": "name 'out3' is not defined",
     "output_type": "error",
     "traceback": [
      "\u001b[0;31m---------------------------------------------------------------------------\u001b[0m",
      "\u001b[0;31mNameError\u001b[0m                                 Traceback (most recent call last)",
      "\u001b[0;32m<ipython-input-21-f0e88bc64535>\u001b[0m in \u001b[0;36m<module>\u001b[0;34m()\u001b[0m\n\u001b[0;32m----> 1\u001b[0;31m \u001b[0mout3\u001b[0m\u001b[0;34m\u001b[0m\u001b[0m\n\u001b[0m",
      "\u001b[0;31mNameError\u001b[0m: name 'out3' is not defined"
     ]
    }
   ],
   "source": [
    "out3"
   ]
  },
  {
   "cell_type": "code",
   "execution_count": 22,
   "metadata": {},
   "outputs": [
    {
     "ename": "NameError",
     "evalue": "name 'out2' is not defined",
     "output_type": "error",
     "traceback": [
      "\u001b[0;31m---------------------------------------------------------------------------\u001b[0m",
      "\u001b[0;31mNameError\u001b[0m                                 Traceback (most recent call last)",
      "\u001b[0;32m<ipython-input-22-ac5b6ee6812d>\u001b[0m in \u001b[0;36m<module>\u001b[0;34m()\u001b[0m\n\u001b[0;32m----> 1\u001b[0;31m \u001b[0mout2\u001b[0m\u001b[0;34m\u001b[0m\u001b[0m\n\u001b[0m",
      "\u001b[0;31mNameError\u001b[0m: name 'out2' is not defined"
     ]
    }
   ],
   "source": [
    "out2"
   ]
  },
  {
   "cell_type": "code",
   "execution_count": 40,
   "metadata": {},
   "outputs": [
    {
     "data": {
      "text/plain": [
       "  status: 0\n",
       "    nfev: 2075\n",
       " success: True\n",
       "     fun: 0.01830973655510101\n",
       "       x: array([ 4106982.42184792,   810779.5087746 ,  5020410.49986387,\n",
       "         -51137.29994397,   -38970.8060082 ,    39396.84388943])\n",
       " message: 'Optimization terminated successfully.'\n",
       "     nit: 1271"
      ]
     },
     "execution_count": 40,
     "metadata": {},
     "output_type": "execute_result"
    }
   ],
   "source": [
    "out1"
   ]
  },
  {
   "cell_type": "code",
   "execution_count": 80,
   "metadata": {},
   "outputs": [],
   "source": [
    "est_params = out3['x']"
   ]
  },
  {
   "cell_type": "code",
   "execution_count": 81,
   "metadata": {},
   "outputs": [
    {
     "data": {
      "text/plain": [
       "array([ 3869958.80753883,  1137019.9788224 ,  4952259.776283  ,\n",
       "         -51013.77567784,   -57200.82574611,    64911.35323292])"
      ]
     },
     "execution_count": 81,
     "metadata": {},
     "output_type": "execute_result"
    }
   ],
   "source": [
    "est_params"
   ]
  },
  {
   "cell_type": "markdown",
   "metadata": {},
   "source": [
    "## Precision Analysis"
   ]
  },
  {
   "cell_type": "code",
   "execution_count": 97,
   "metadata": {},
   "outputs": [],
   "source": [
    "est_start_point = est_params[0:3]\n",
    "est_vect = est_params[3:6]\n",
    "est_points = np.empty([timesteps.size, 3])\n",
    "\n",
    "for i in range(timesteps.size):  # generate points on meteor trajectory (discretize in space)\n",
    "    est_points[i] =  est_start_point + (est_vect * timesteps[i])"
   ]
  },
  {
   "cell_type": "code",
   "execution_count": 98,
   "metadata": {},
   "outputs": [
    {
     "name": "stdout",
     "output_type": "stream",
     "text": [
      "Using matplotlib backend: TkAgg\n"
     ]
    }
   ],
   "source": [
    "%matplotlib\n",
    "fig = plt.figure()\n",
    "ax = plt.axes(projection='3d')\n",
    "ax.set_title('Meteor Trajectories')\n",
    "ax.set_ylabel('Position [m]')\n",
    "ax.set_xlabel('Position [m]')\n",
    "ax.set_zlabel('Position [m]')\n",
    "ax.scatter(met_points[:,0], met_points[:,1], met_points[:,2], color = 'b', label= \"Real\")\n",
    "ax.scatter(est_points[:,0], est_points[:,1], est_points[:,2], color = 'r', label= \"Estimated\")\n",
    "for station in stations:\n",
    "    rec_station_point = np.array(geoC.GeographicToGeocentric(station['latitude'], station['longitude'], station['elevation']))\n",
    "    ax.scatter(rec_station_point[0], rec_station_point[1], rec_station_point[2])\n"
   ]
  },
  {
   "cell_type": "code",
   "execution_count": 99,
   "metadata": {},
   "outputs": [
    {
     "name": "stdout",
     "output_type": "stream",
     "text": [
      "Using matplotlib backend: TkAgg\n"
     ]
    }
   ],
   "source": [
    "%matplotlib\n",
    "fig = plt.figure()\n",
    "ax = plt.axes(projection='3d')\n",
    "ax.scatter(met_points[:,0], met_points[:,1], met_points[:,2])\n",
    "for station in stations:\n",
    "    rec_station_point = np.array(geoC.GeographicToGeocentric(station['latitude'], station['longitude'], station['elevation']))\n",
    "    ax.scatter(rec_station_point[0], rec_station_point[1], rec_station_point[2])"
   ]
  },
  {
   "cell_type": "code",
   "execution_count": 100,
   "metadata": {},
   "outputs": [
    {
     "name": "stdout",
     "output_type": "stream",
     "text": [
      "Using matplotlib backend: TkAgg\n"
     ]
    },
    {
     "data": {
      "text/plain": [
       "<matplotlib.legend.Legend at 0x7f4cfc706bd0>"
      ]
     },
     "execution_count": 100,
     "metadata": {},
     "output_type": "execute_result"
    }
   ],
   "source": [
    "%matplotlib\n",
    "fig, ax1 = plt.subplots(figsize=(9, 7))\n",
    "ax1.set_title('Dopplers of estimated  meteor trajectory')\n",
    "ax1.set_ylabel('Doppler [Hz]')\n",
    "ax1.set_xlabel('Time [s]')\n",
    "\n",
    "    \n",
    "for station in stations:\n",
    "    rec_station_point = np.array(geoC.GeographicToGeocentric(station['latitude'], station['longitude'], station['elevation']))\n",
    "\n",
    "    #doppler_met = estimate_dopplers(met_points, f0, trans_station_point, rec_station_point)\n",
    "    doppler_est = estimate_dopplers(est_points, timesteps, f0, trans_station_point, rec_station_point)\n",
    "\n",
    "#    plt.plot(station['doppler'][:,0], station['doppler'][:,1], label=station['name'] if meteor == 0 else \"\", color = 'b')\n",
    "    plt.plot(station['doppler'][:,0], station['doppler'][:,1], label=station['name'] if meteor == 0 else \"\")\n",
    "    plt.plot(doppler_est[1:,0], doppler_est[1:,1], color = 'r')\n",
    "    \n",
    "plt.legend(loc=1)"
   ]
  },
  {
   "cell_type": "code",
   "execution_count": 187,
   "metadata": {},
   "outputs": [],
   "source": [
    "data_file = np.load(\"station_data.npz\")\n",
    "timesteps = data_file['timesteps']\n",
    "stations = data_file['stations']"
   ]
  },
  {
   "cell_type": "code",
   "execution_count": 195,
   "metadata": {},
   "outputs": [],
   "source": []
  },
  {
   "cell_type": "code",
   "execution_count": 89,
   "metadata": {},
   "outputs": [
    {
     "name": "stdout",
     "output_type": "stream",
     "text": [
      "[array('d', [4242178.838858588, 877133.9277853557, 4739756.869906342, 39681.670874463365, 25625.12571113396, -36807.68411802771])]\n"
     ]
    }
   ],
   "source": [
    "print hof"
   ]
  },
  {
   "cell_type": "code",
   "execution_count": 68,
   "metadata": {},
   "outputs": [
    {
     "name": "stdout",
     "output_type": "stream",
     "text": [
      "[array('d', [3953586.958058075, 988944.7005357716, 5010073.095748296, -45095.19931529084, 22091.309637106715, 62240.493103505054])]\n"
     ]
    }
   ],
   "source": [
    "print hof"
   ]
  },
  {
   "cell_type": "code",
   "execution_count": 90,
   "metadata": {},
   "outputs": [],
   "source": [
    "est_params = np.array(hof[0])"
   ]
  },
  {
   "cell_type": "code",
   "execution_count": 96,
   "metadata": {},
   "outputs": [
    {
     "data": {
      "text/plain": [
       "array([ 3934917.07977772,   770685.36426358,  4159837.83877261,\n",
       "          41700.43985408,   -16343.75792138,   -26616.27784591])"
      ]
     },
     "execution_count": 96,
     "metadata": {},
     "output_type": "execute_result"
    }
   ],
   "source": [
    "est_params"
   ]
  },
  {
   "cell_type": "code",
   "execution_count": 92,
   "metadata": {},
   "outputs": [
    {
     "ename": "TypeError",
     "evalue": "'module' object is not callable",
     "output_type": "error",
     "traceback": [
      "\u001b[0;31m---------------------------------------------------------------------------\u001b[0m\n\u001b[0;31mTypeError\u001b[0m                                 Traceback (most recent call last)",
      "\u001b[0;32m<ipython-input-92-de521def3302>\u001b[0m in \u001b[0;36m<module>\u001b[0;34m()\u001b[0m\n\u001b[0;32m----> 1\u001b[0;31m \u001b[0marray\u001b[0m\u001b[0;34m(\u001b[0m\u001b[0;34m'd'\u001b[0m\u001b[0;34m,\u001b[0m \u001b[0;34m[\u001b[0m\u001b[0;36m4054680.0680794725\u001b[0m\u001b[0;34m,\u001b[0m \u001b[0;36m1080843.3217390168\u001b[0m\u001b[0;34m,\u001b[0m \u001b[0;36m4911049.2573404275\u001b[0m\u001b[0;34m,\u001b[0m \u001b[0;34m-\u001b[0m\u001b[0;36m4949.93417629765\u001b[0m\u001b[0;34m,\u001b[0m \u001b[0;36m41461.15462661179\u001b[0m\u001b[0;34m,\u001b[0m \u001b[0;34m-\u001b[0m\u001b[0;36m6000.00731814691\u001b[0m\u001b[0;34m]\u001b[0m\u001b[0;34m)\u001b[0m\u001b[0;34m\u001b[0m\u001b[0m\n\u001b[0m",
      "\u001b[0;31mTypeError\u001b[0m: 'module' object is not callable"
     ]
    }
   ],
   "source": [
    "est_params = array('d', [4054680.0680794725, 1080843.3217390168, 4911049.2573404275, -4949.93417629765, 41461.15462661179, -6000.00731814691])"
   ]
  },
  {
   "cell_type": "code",
   "execution_count": 197,
   "metadata": {},
   "outputs": [
    {
     "data": {
      "text/plain": [
       "839.79927029195528"
      ]
     },
     "execution_count": 197,
     "metadata": {},
     "output_type": "execute_result"
    }
   ],
   "source": [
    "np.sum(station_errors(est_params, timesteps, stations))"
   ]
  },
  {
   "cell_type": "code",
   "execution_count": 95,
   "metadata": {},
   "outputs": [
    {
     "data": {
      "text/plain": [
       "[104.45282764075326,\n",
       " 5.828832365428176,\n",
       " 60.245002395726701,\n",
       " 26.21114089575903,\n",
       " 122.67345228971118,\n",
       " 105.78887634673868,\n",
       " 54.701922297646412,\n",
       " 12.490411091586182,\n",
       " 53.15391909368055,\n",
       " 9.097261762537288,\n",
       " 303.28568997578896,\n",
       " 3.6847407729791484,\n",
       " 41.540464961530205,\n",
       " 86.19622486239912]"
      ]
     },
     "execution_count": 95,
     "metadata": {},
     "output_type": "execute_result"
    }
   ],
   "source": [
    "station_errors(est_params, timesteps, stations)"
   ]
  },
  {
   "cell_type": "code",
   "execution_count": 94,
   "metadata": {},
   "outputs": [],
   "source": [
    "est_params = np.load(\"estimated_parameters.npy\")"
   ]
  },
  {
   "cell_type": "code",
   "execution_count": 22,
   "metadata": {},
   "outputs": [],
   "source": []
  },
  {
   "cell_type": "code",
   "execution_count": 62,
   "metadata": {},
   "outputs": [],
   "source": []
  },
  {
   "cell_type": "markdown",
   "metadata": {},
   "source": [
    "\n",
    "Edmond záznamy"
   ]
  },
  {
   "cell_type": "code",
   "execution_count": null,
   "metadata": {},
   "outputs": [],
   "source": [
    "http://meteor1.astrozor.cz:5252/multibolid/event/950404/\n",
    "http://meteor1.astrozor.cz:5252/multibolid/event/1651523/\n",
    "http://meteor1.astrozor.cz:5252/multibolid/event/1650562/\n",
    "http://meteor1.astrozor.cz:5252/multibolid/event/1740199/\n"
   ]
  }
 ],
 "metadata": {
  "kernelspec": {
   "display_name": "Python 3",
   "language": "python",
   "name": "python3"
  },
  "language_info": {
   "codemirror_mode": {
    "name": "ipython",
    "version": 3
   },
   "file_extension": ".py",
   "mimetype": "text/x-python",
   "name": "python",
   "nbconvert_exporter": "python",
   "pygments_lexer": "ipython3",
   "version": "3.5.2"
  }
 },
 "nbformat": 4,
 "nbformat_minor": 1
}
