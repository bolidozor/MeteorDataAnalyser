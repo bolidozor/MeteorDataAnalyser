{
 "metadata": {
  "name": "",
  "signature": "sha256:8f61474733fc6ae202f9bbf348e69afb320979c1581c8a0a3ff8bf6fe9188f3c"
 },
 "nbformat": 3,
 "nbformat_minor": 0,
 "worksheets": [
  {
   "cells": [
    {
     "cell_type": "markdown",
     "metadata": {},
     "source": [
      "Calculation of meteor trajectory from head-echo dopplers\n",
      "=======\n",
      "\n",
      "Theory is adopted from Christian Steyaert et. al. 2010\n"
     ]
    },
    {
     "cell_type": "code",
     "collapsed": false,
     "input": [
      "TMx = (x_M \u2212 x T )\n",
      "TMy = (y M \u2212 y T )\n",
      "TMz = (z M \u2212 z T )"
     ],
     "language": "python",
     "metadata": {},
     "outputs": [
      {
       "ename": "SyntaxError",
       "evalue": "invalid syntax (<ipython-input-296-98dca8f4f72e>, line 1)",
       "output_type": "pyerr",
       "traceback": [
        "\u001b[0;36m  File \u001b[0;32m\"<ipython-input-296-98dca8f4f72e>\"\u001b[0;36m, line \u001b[0;32m1\u001b[0m\n\u001b[0;31m    TMx = (x_M \u2212 x T )\u001b[0m\n\u001b[0m               ^\u001b[0m\n\u001b[0;31mSyntaxError\u001b[0m\u001b[0;31m:\u001b[0m invalid syntax\n"
       ]
      }
     ],
     "prompt_number": 296
    },
    {
     "cell_type": "code",
     "collapsed": false,
     "input": [
      "import pylab\n",
      "f = pylab.figure()"
     ],
     "language": "python",
     "metadata": {},
     "outputs": [],
     "prompt_number": 297
    },
    {
     "cell_type": "code",
     "collapsed": false,
     "input": [
      "pylab.plot([1,2,3], [1,2,4], 'go-', label='line 1', linewidth=2)\n",
      "pylab.plot([1,2,3], [1,2,2], 'bo-', label='line 1', linewidth=2)"
     ],
     "language": "python",
     "metadata": {},
     "outputs": [
      {
       "metadata": {},
       "output_type": "pyout",
       "prompt_number": 298,
       "text": [
        "[<matplotlib.lines.Line2D at 0x7fac0084dfd0>]"
       ]
      }
     ],
     "prompt_number": 298
    },
    {
     "cell_type": "code",
     "collapsed": false,
     "input": [
      "pylab.show()"
     ],
     "language": "python",
     "metadata": {},
     "outputs": [],
     "prompt_number": 299
    },
    {
     "cell_type": "markdown",
     "metadata": {},
     "source": [
      "Head Echo doppler function \n",
      "======="
     ]
    },
    {
     "cell_type": "markdown",
     "metadata": {},
     "source": [
      "The equation is  obtained from publication at http://adsabs.harvard.edu/abs/1998JIMO...26..117R (1998)"
     ]
    },
    {
     "cell_type": "code",
     "collapsed": false,
     "input": [
      "from sympy import symbols, sign, sqrt\n",
      "from sympy.plotting import plot\n",
      "t, f0, c, vm, r0 = symbols('t f_0 c v_m r_0')"
     ],
     "language": "python",
     "metadata": {},
     "outputs": [],
     "prompt_number": 57
    },
    {
     "cell_type": "code",
     "collapsed": false,
     "input": [
      "delta_f = - sign(t) * sqrt(((2*f0)/c)**2 * (vm**2)/(r0**2/(vm**2 * t**2) + 1) )"
     ],
     "language": "python",
     "metadata": {},
     "outputs": [],
     "prompt_number": 58
    },
    {
     "cell_type": "code",
     "collapsed": false,
     "input": [
      "delta_f.subs([(f0,55.260e6),(c,3e8),(vm,40e3),(r0,300e3), (t,1)])"
     ],
     "language": "python",
     "metadata": {},
     "outputs": [
      {
       "metadata": {},
       "output_type": "pyout",
       "prompt_number": 59,
       "text": [
        "-1947.56457926124"
       ]
      }
     ],
     "prompt_number": 59
    },
    {
     "cell_type": "code",
     "collapsed": false,
     "input": [
      "plot(delta_f.subs([(f0,55.260e6),(c,3e8),(vm,40e3),(r0,300e3)]), (t, -10, 10))"
     ],
     "language": "python",
     "metadata": {},
     "outputs": [
      {
       "metadata": {},
       "output_type": "pyout",
       "prompt_number": 60,
       "text": [
        "<sympy.plotting.plot.Plot at 0x7f6c33cca1d0>"
       ]
      }
     ],
     "prompt_number": 60
    },
    {
     "cell_type": "code",
     "collapsed": false,
     "input": [],
     "language": "python",
     "metadata": {},
     "outputs": [],
     "prompt_number": 8
    },
    {
     "cell_type": "heading",
     "level": 2,
     "metadata": {},
     "source": [
      "Artificial meteor generator"
     ]
    },
    {
     "cell_type": "code",
     "collapsed": false,
     "input": [
      "%pylab inline\n",
      "matplotlib.use('Agg')\n",
      "\n",
      "from mpl_toolkits.mplot3d.axes3d import Axes3D\n",
      "import matplotlib.pyplot as plt\n",
      "import numpy as np\n",
      "import scipy\n",
      "from scipy.optimize import minimize\n",
      "from scipy.interpolate import interp1d, UnivariateSpline\n",
      "from Geocentric import Geocentric\n",
      "geoC = Geocentric(6378137, 6356752.314)"
     ],
     "language": "python",
     "metadata": {},
     "outputs": [
      {
       "output_type": "stream",
       "stream": "stdout",
       "text": [
        "Populating the interactive namespace from numpy and matplotlib\n"
       ]
      },
      {
       "output_type": "stream",
       "stream": "stderr",
       "text": [
        "/usr/lib/pymodules/python2.7/matplotlib/__init__.py:1173: UserWarning:  This call to matplotlib.use() has no effect\n",
        "because the backend has already been chosen;\n",
        "matplotlib.use() must be called *before* pylab, matplotlib.pyplot,\n",
        "or matplotlib.backends is imported for the first time.\n",
        "\n",
        "  warnings.warn(_use_error_msg)\n"
       ]
      }
     ],
     "prompt_number": 1
    },
    {
     "cell_type": "code",
     "collapsed": false,
     "input": [
      "import scipy.constants\n",
      "import numpy as np\n",
      "from scipy.optimize import minimize #,  differential_evolution\n",
      "from Geocentric import Geocentric\n",
      "geoC = Geocentric(6378137, 6356752.314)"
     ],
     "language": "python",
     "metadata": {},
     "outputs": [],
     "prompt_number": 2
    },
    {
     "cell_type": "markdown",
     "metadata": {},
     "source": [
      "Generate Artificial meteor for algorithm testing"
     ]
    },
    {
     "cell_type": "code",
     "collapsed": false,
     "input": [
      "c = scipy.constants.c\n",
      "f0 = 143050000\n",
      "trans_station_point = np.array(geoC.GeographicToGeocentric(47.347993, 5.515079, 190))\n",
      "t = 0.01\n",
      "timesteps = np.arange(-5,5,t)"
     ],
     "language": "python",
     "metadata": {},
     "outputs": [],
     "prompt_number": 18
    },
    {
     "cell_type": "code",
     "collapsed": false,
     "input": [
      "#Artificial meteors coordinates:\n",
      "\n",
      "ZHR = 1\n",
      "\n",
      "met_start_altitude = np.random.normal(100e3,20e3,ZHR)\n",
      "met_stop_altitude = np.random.normal(60e3,20e3,ZHR)\n",
      "\n",
      "met_start_lat = np.random.normal(49,1,ZHR)  \n",
      "met_start_lon = np.random.normal(11,1,ZHR)\n",
      "\n",
      "met_stop_lat = np.random.normal(49,1,ZHR) \n",
      "met_stop_lon = np.random.normal(11,1,ZHR)\n",
      "\n",
      "met_velocity = np.random.normal(50000,20000,ZHR)\n",
      "timesteps = np.arange(-10,10,t)\n"
     ],
     "language": "python",
     "metadata": {},
     "outputs": [],
     "prompt_number": 10
    },
    {
     "cell_type": "code",
     "collapsed": false,
     "input": [
      "def estimate_dopplers(trajectory, timesteps, f0, trans_station, rec_station):\n",
      "    '''\n",
      "        Returns array of dopplers for given transmitter to receiver position and defined frequency and known trajectory.\n",
      "    '''\n",
      "    rec_to_met = np.empty([trajectory.shape[0], 1])\n",
      "    trans_to_met = np.empty([trajectory.shape[0], 1])\n",
      "    doppler = np.empty([trajectory.shape[0], 2])\n",
      "    \n",
      "    previous_rec_to_met = np.linalg.norm(rec_station - trajectory[0])\n",
      "    previous_trans_to_met = np.linalg.norm(trans_station - trajectory[0])\n",
      "    \n",
      "    t = timesteps[1] - timesteps[0]\n",
      "    \n",
      "    for i in range(trajectory.shape[0]):\n",
      "        rec_to_met[i] = np.linalg.norm(rec_station - trajectory[i])\n",
      "        trans_to_met[i] = np.linalg.norm(trans_station - trajectory[i])\n",
      "    \n",
      "        met_trans_speed = previous_trans_to_met - trans_to_met[i]\n",
      "        previous_trans_to_met = trans_to_met[i]\n",
      "        speed = met_trans_speed/t    \n",
      "        f1 = ((c + speed)/c * f0)\n",
      "        \n",
      "        met_rec_speed = previous_rec_to_met - rec_to_met[i]    ## calculate bistatic velocity from known position\n",
      "        previous_rec_to_met = rec_to_met[i]\n",
      "        speed = met_rec_speed/t\n",
      "        f2 = (c/(c - speed) * f1)\n",
      "        doppler[i] = np.array([timesteps[i], f2-f0])\n",
      "    return doppler"
     ],
     "language": "python",
     "metadata": {},
     "outputs": [],
     "prompt_number": 5
    },
    {
     "cell_type": "code",
     "collapsed": false,
     "input": [
      "def error_func(est_params, timesteps, stations):\n",
      "    \"\"\"\n",
      "    Returns time difference between real and estimated meteor trajectory dopplers\n",
      "    \"\"\"\n",
      "    from Geocentric import Geocentric\n",
      "    geoC = Geocentric(6378137, 6356752.314)\n",
      "    \n",
      "    est_start_point = est_params[0:3]\n",
      "    est_vect = est_params[3:6]\n",
      "    est_points = np.empty([timesteps.size, 3])\n",
      "    \n",
      "    for i in range(timesteps.size):  # generate points of estimated meteor trajectory\n",
      "        est_points[i] =  est_start_point + (est_vect * timesteps[i])\n",
      "\n",
      "    doppler_deviations = {}\n",
      "    for station in stations:\n",
      "        doppler_deviation = np.zeros(station['doppler'].shape[0])\n",
      "        rec_station_point = np.array(geoC.GeographicToGeocentric(station['latitude'], station['longitude'], station['elevation']))\n",
      "        est_doppler = estimate_dopplers(est_points, timesteps, f0, trans_station_point, rec_station_point)\n",
      "        est_doppler_function = UnivariateSpline(est_doppler[1:,1], est_doppler[1:,0]) # make interpolation function of estimated dopplers. \n",
      "\n",
      "        for i in range(station['doppler'].shape[0]):  \n",
      "            doppler_deviation[i] = (station['doppler'][:,0][i] - est_doppler_function(station['doppler'][:,1][i]))**2\n",
      "        \n",
      "        doppler_deviations[station['name']] = doppler_deviation\n",
      "        \n",
      "    return doppler_deviations\n"
     ],
     "language": "python",
     "metadata": {},
     "outputs": [],
     "prompt_number": 6
    },
    {
     "cell_type": "code",
     "collapsed": false,
     "input": [
      "def station_errors(met_params, timesteps, stations):\n",
      "    \"\"\"\n",
      "    Calculate total error value of estimated meteor params to every station signal. \n",
      "    \"\"\"    \n",
      "    doppler_errors = error_func(met_params, timesteps, stations)\n",
      "    total_deviation = []\n",
      "    for station in doppler_errors:\n",
      "        total_deviation.append(np.sum(doppler_errors[station]))\n",
      "    return total_deviation"
     ],
     "language": "python",
     "metadata": {},
     "outputs": [],
     "prompt_number": 7
    },
    {
     "cell_type": "markdown",
     "metadata": {},
     "source": [
      "Define Bolidozor network station. List may be updated from space.astro.cz server according to stored data."
     ]
    },
    {
     "cell_type": "code",
     "collapsed": false,
     "input": [
      "stations = []\n",
      "stations.append({'name': 'Zebrak','latitude':49.8736, 'longitude':13.8986,'elevation':400, 'status': 'operational', 'type': 'receiver'})\n",
      "stations.append({'name': 'uFlu','latitude':50.0795, 'longitude':14.4891,'elevation':400, 'status': 'operational', 'type': 'receiver'})\n",
      "stations.append({'name': 'OBSUPICE','latitude':50.5067,'longitude':16.0115,'elevation':400, 'status': 'operational', 'type': 'receiver'})\n",
      "stations.append({'name': 'SVAKOV','latitude':49.2607,'longitude':14.6917,'elevation':400, 'status': 'operational', 'type': 'receiver'})\n",
      "stations.append({'name': 'ZVPP','latitude':48.9869,'longitude':14.4675,'elevation':400, 'status': 'operational', 'type': 'receiver'})\n",
      "stations.append({'name': 'BPB','latitude':48.653153,'longitude':17.537413,'elevation':400, 'status': 'testing', 'type': 'receiver'})\n",
      "stations.append({'name': 'HPHK','latitude':50.1772,'longitude':15.8386,'elevation':400, 'status': 'testing', 'type': 'receiver'})\n",
      "stations.append({'name': 'OBSJAROMER','latitude':50.351397,'longitude':15.915878,'elevation':400, 'status': 'testing', 'type': 'receiver'})\n",
      "stations.append({'name': 'JHRADEC','latitude':49.1314,'longitude': 14.9999,'elevation':400, 'status': 'testing', 'type': 'receiver'})\n",
      "stations.append({'name': 'VALMEZ','latitude':49.463038,'longitude': 17.973544,'elevation':400, 'status': 'testing', 'type': 'receiver'})\n",
      "stations.append({'name': 'NACHODSKO','latitude':50.409407,'longitude':15.414812,'elevation':400, 'status': 'operational', 'type': 'receiver'})\n"
     ],
     "language": "python",
     "metadata": {},
     "outputs": [],
     "prompt_number": 8
    },
    {
     "cell_type": "code",
     "collapsed": false,
     "input": [
      "# compute dopplers for multiple stations\n",
      "\n",
      "from Geocentric import Geocentric\n",
      "geoC = Geocentric(6378137, 6356752.314)\n",
      "\n",
      "#%matplotlib\n",
      "#fig, ax1 = plt.subplots(figsize=(9, 7))\n",
      "#ax1.set_title('Meteor Dopplers at multiple Bolidozor stations')\n",
      "#ax1.set_ylabel('Doppler [Hz]')\n",
      "#ax1.set_xlabel('Time [s]')\n",
      "#grid(True)\n",
      "\n",
      "meteor_dopplers = [1,2]\n",
      "met_points = np.empty([timesteps.size, 3])\n",
      "\n",
      "for meteor in range(ZHR):\n",
      "    \n",
      "    # get meteor vector from start and stop point\n",
      "    met_start_point = np.array(geoC.GeographicToGeocentric(met_start_lat[meteor], met_start_lon[meteor], met_start_altitude[meteor]))\n",
      "    met_stop_point = np.array(geoC.GeographicToGeocentric(met_stop_lat[meteor], met_stop_lon[meteor], met_stop_altitude[meteor]))\n",
      "    met_vect = met_start_point - met_stop_point\n",
      "\n",
      "    for i in range(timesteps.size):  # generate points on artifitial meteor trajectory (discretize in space)\n",
      "        met_points[i] =  met_start_point + (met_vect/np.linalg.norm(met_vect) * (timesteps[i] * met_velocity[meteor]))\n",
      "    \n",
      "    for station in stations:\n",
      "        rec_station_point = np.array(geoC.GeographicToGeocentric(station['latitude'], station['longitude'], station['elevation']))\n",
      "        \n",
      "        doppler = estimate_dopplers(met_points, timesteps, f0, trans_station_point, rec_station_point)\n",
      "            \n",
      "        meteor_dopplers[meteor] = doppler\n",
      "        plt.plot(doppler[1:,0], doppler[1:,1], label=station['name'] if meteor == 0 else \"\")\n",
      "    \n",
      "    plt.legend(loc=1)"
     ],
     "language": "python",
     "metadata": {},
     "outputs": [],
     "prompt_number": 19
    },
    {
     "cell_type": "code",
     "collapsed": false,
     "input": [
      "from mpl_toolkits.basemap import Basemap\n",
      "\n",
      "land_color = 'lightgray'\n",
      "water_color = 'lightblue'\n",
      "\n",
      "fig, ax = subplots(figsize=(20,20))\n",
      "map = Basemap(projection='merc', llcrnrlat=45, urcrnrlat=55,\n",
      "            llcrnrlon=8, urcrnrlon=25, resolution='i',area_thresh = 50)\n",
      "\n",
      "land_color = 'lightgray'\n",
      "water_color = 'lightblue'\n",
      "\n",
      "map.fillcontinents(color=land_color, lake_color=water_color)\n",
      "map.drawcoastlines()\n",
      "map.drawcountries()\n",
      "#map.drawparallels(np.arange(-90.,120.,30.))\n",
      "#map.drawmeridians(np.arange(0.,420.,60.))\n",
      "map.drawmapboundary(fill_color=water_color)\n",
      "ax.set_title('Bistatic network')\n",
      "\n",
      "#x, y = map(np.array(near_transmitters.longitude_deg), np.array(near_transmitters.latitude_deg))\n",
      "#map.plot(x, y, marker='o', markersize=6, markerfacecolor='red', linewidth=0)\n",
      "\n",
      "for station in stations:\n",
      "    station_latitude = station['latitude']\n",
      "    station_longitude = station['longitude']\n",
      "    x, y = map(station_longitude, station_latitude)\n",
      "    map.plot(x, y, marker='o', markersize=6, markerfacecolor='blue', linewidth=0)\n",
      "\n",
      "map.drawgreatcircle(met_start_lon, met_start_lat, met_stop_lon, met_stop_lat,linewidth=2,color='green')\n",
      "\n",
      "map.ax = ax\n"
     ],
     "language": "python",
     "metadata": {},
     "outputs": [],
     "prompt_number": 20
    },
    {
     "cell_type": "markdown",
     "metadata": {},
     "source": [
      "Plot artifitial meteor trajectory points"
     ]
    },
    {
     "cell_type": "code",
     "collapsed": false,
     "input": [
      "%matplotlib\n",
      "fig = plt.figure()\n",
      "ax = plt.axes(projection='3d')\n",
      "ax.scatter(met_points[:,0], met_points[:,1], met_points[:,2])\n",
      "for station in stations:\n",
      "    rec_station_point = np.array(geoC.GeographicToGeocentric(station['latitude'], station['longitude'], station['elevation']))\n",
      "    ax.scatter(rec_station_point[0], rec_station_point[1], rec_station_point[2])\n"
     ],
     "language": "python",
     "metadata": {},
     "outputs": [
      {
       "output_type": "stream",
       "stream": "stdout",
       "text": [
        "Using matplotlib backend: TkAgg\n"
       ]
      }
     ],
     "prompt_number": 21
    },
    {
     "cell_type": "markdown",
     "metadata": {},
     "source": [
      "Compute difference between of estimated trajectory dopplers and \"real\" simulated trajectory."
     ]
    },
    {
     "cell_type": "code",
     "collapsed": false,
     "input": [
      "\"\"\"\n",
      "Make virtual artificial meteor report from a model trajectory. \n",
      "\n",
      "\"\"\"\n",
      "\n",
      "meteor_data = doppler[1:,0]\n",
      "\n",
      "doppler_min = -500.0\n",
      "doppler_max = 500.0\n",
      "\n",
      "for station in stations:\n",
      "    rec_station_point = np.array(geoC.GeographicToGeocentric(station['latitude'], station['longitude'], station['elevation']))\n",
      "    dopplers = estimate_dopplers(met_points, timesteps, f0, trans_station_point, rec_station_point)\n",
      "    indexes = np.where(np.logical_and(dopplers[1:,1] > doppler_min, dopplers[1:,1] < doppler_max ))\n",
      "    station['doppler'] = np.concatenate((np.take(dopplers[1:,0], indexes), np.take(dopplers[1:,1], indexes)), axis = 0).T\n",
      "#    met_doppler_function = interp1d(station['doppler'][:,1], station['doppler'][:,0]) # make interpolation function of measured dopplers. \n",
      "#    station['PCA_time'] = float(met_doppler_function(0)) # Get point of the closest approach time\n",
      "    "
     ],
     "language": "python",
     "metadata": {},
     "outputs": [],
     "prompt_number": 22
    },
    {
     "cell_type": "code",
     "collapsed": false,
     "input": [
      "outfile = \"station_data\" \n",
      "np.savez(outfile, timesteps=timesteps, stations=stations)"
     ],
     "language": "python",
     "metadata": {},
     "outputs": [],
     "prompt_number": 23
    },
    {
     "cell_type": "code",
     "collapsed": false,
     "input": [
      "stations"
     ],
     "language": "python",
     "metadata": {},
     "outputs": [
      {
       "metadata": {},
       "output_type": "pyout",
       "prompt_number": 24,
       "text": [
        "[{'doppler': array([[  -2.19      ,  438.24698746],\n",
        "       [  -2.18      ,  241.9245854 ],\n",
        "       [  -2.17      ,   45.23939854],\n",
        "       [  -2.16      , -151.79838681],\n",
        "       [  -2.15      , -349.17845601]]),\n",
        "  'elevation': 400,\n",
        "  'latitude': 49.8736,\n",
        "  'longitude': 13.8986,\n",
        "  'name': 'Zebrak',\n",
        "  'status': 'operational',\n",
        "  'type': 'receiver'},\n",
        " {'doppler': array([[  -2.11      ,  446.44109407],\n",
        "       [  -2.1       ,  285.10785306],\n",
        "       [  -2.09      ,  123.54767883],\n",
        "       [  -2.08      ,  -38.23459882],\n",
        "       [  -2.07      , -200.23409969],\n",
        "       [  -2.06      , -362.44589379]]),\n",
        "  'elevation': 400,\n",
        "  'latitude': 50.0795,\n",
        "  'longitude': 14.4891,\n",
        "  'name': 'uFlu',\n",
        "  'status': 'operational',\n",
        "  'type': 'receiver'},\n",
        " {'doppler': array([[  -2.04      ,  390.60575294],\n",
        "       [  -2.03      ,  276.08123994],\n",
        "       [  -2.02      ,  161.47927997],\n",
        "       [  -2.01      ,   46.80111945],\n",
        "       [  -2.        ,  -67.95198777],\n",
        "       [  -1.99      , -182.77878013],\n",
        "       [  -1.98      , -297.67798901],\n",
        "       [  -1.97      , -412.64833811]]),\n",
        "  'elevation': 400,\n",
        "  'latitude': 50.5067,\n",
        "  'longitude': 16.0115,\n",
        "  'name': 'OBSUPICE',\n",
        "  'status': 'operational',\n",
        "  'type': 'receiver'},\n",
        " {'doppler': array([[  -3.12      ,  493.76361611],\n",
        "       [  -3.11      ,  319.46973345],\n",
        "       [  -3.1       ,  145.08870038],\n",
        "       [  -3.09      ,  -29.37262332],\n",
        "       [  -3.08      , -203.9073562 ],\n",
        "       [  -3.07      , -378.50859699]]),\n",
        "  'elevation': 400,\n",
        "  'latitude': 49.2607,\n",
        "  'longitude': 14.6917,\n",
        "  'name': 'SVAKOV',\n",
        "  'status': 'operational',\n",
        "  'type': 'receiver'},\n",
        " {'doppler': array([[  -3.41      ,  482.58736801],\n",
        "       [  -3.4       ,  289.12759024],\n",
        "       [  -3.39      ,   95.62452102],\n",
        "       [  -3.38      ,  -97.9116528 ],\n",
        "       [  -3.37      , -291.47073287],\n",
        "       [  -3.36      , -485.04251283]]),\n",
        "  'elevation': 400,\n",
        "  'latitude': 48.9869,\n",
        "  'longitude': 14.4675,\n",
        "  'name': 'ZVPP',\n",
        "  'status': 'operational',\n",
        "  'type': 'receiver'},\n",
        " {'doppler': array([[  -4.14      ,  419.01165584],\n",
        "       [  -4.13      ,  314.59403467],\n",
        "       [  -4.12      ,  210.19124943],\n",
        "       [  -4.11      ,  105.80421332],\n",
        "       [  -4.1       ,    1.43383801],\n",
        "       [  -4.09      , -102.91896617],\n",
        "       [  -4.08      , -207.25329024],\n",
        "       [  -4.07      , -311.56822658],\n",
        "       [  -4.06      , -415.86286914]]),\n",
        "  'elevation': 400,\n",
        "  'latitude': 48.653153,\n",
        "  'longitude': 17.537413,\n",
        "  'name': 'BPB',\n",
        "  'status': 'testing',\n",
        "  'type': 'receiver'},\n",
        " {'doppler': array([[  -2.34      ,  426.07667515],\n",
        "       [  -2.33      ,  303.96678239],\n",
        "       [  -2.32      ,  181.77949741],\n",
        "       [  -2.31      ,   59.51647061],\n",
        "       [  -2.3       ,  -62.82063881],\n",
        "       [  -2.29      , -185.23016316],\n",
        "       [  -2.28      , -307.71042603],\n",
        "       [  -2.27      , -430.25974303]]),\n",
        "  'elevation': 400,\n",
        "  'latitude': 50.1772,\n",
        "  'longitude': 15.8386,\n",
        "  'name': 'HPHK',\n",
        "  'status': 'testing',\n",
        "  'type': 'receiver'},\n",
        " {'doppler': array([[  -2.18      ,  448.68997028],\n",
        "       [  -2.17      ,  330.45597142],\n",
        "       [  -2.16      ,  212.1427232 ],\n",
        "       [  -2.15      ,   93.75165716],\n",
        "       [  -2.14      ,  -24.71578684],\n",
        "       [  -2.13      , -143.25816056],\n",
        "       [  -2.12      , -261.874008  ],\n",
        "       [  -2.11      , -380.56186485],\n",
        "       [  -2.1       , -499.32025909]]),\n",
        "  'elevation': 400,\n",
        "  'latitude': 50.351397,\n",
        "  'longitude': 15.915878,\n",
        "  'name': 'OBSJAROMER',\n",
        "  'status': 'testing',\n",
        "  'type': 'receiver'},\n",
        " {'doppler': array([[  -3.33      ,  467.7495864 ],\n",
        "       [  -3.32      ,  304.77241942],\n",
        "       [  -3.31      ,  141.75545353],\n",
        "       [  -3.3       ,  -21.29598191],\n",
        "       [  -3.29      , -184.37654978],\n",
        "       [  -3.28      , -347.48090616]]),\n",
        "  'elevation': 400,\n",
        "  'latitude': 49.1314,\n",
        "  'longitude': 14.9999,\n",
        "  'name': 'JHRADEC',\n",
        "  'status': 'testing',\n",
        "  'type': 'receiver'},\n",
        " {'doppler': array([[  -3.4       ,  438.73618603],\n",
        "       [  -3.39      ,  341.31512782],\n",
        "       [  -3.38      ,  243.88882917],\n",
        "       [  -3.37      ,  146.45799163],\n",
        "       [  -3.36      ,   49.02331713],\n",
        "       [  -3.35      ,  -48.4144921 ],\n",
        "       [  -3.34      , -145.85473377],\n",
        "       [  -3.33      , -243.29670528],\n",
        "       [  -3.32      , -340.73970401],\n",
        "       [  -3.31      , -438.18302718]]),\n",
        "  'elevation': 400,\n",
        "  'latitude': 49.463038,\n",
        "  'longitude': 17.973544,\n",
        "  'name': 'VALMEZ',\n",
        "  'status': 'testing',\n",
        "  'type': 'receiver'},\n",
        " {'doppler': array([[  -1.99      ,  380.2679224 ],\n",
        "       [  -1.98      ,  253.16248545],\n",
        "       [  -1.97      ,  125.9399744 ],\n",
        "       [  -1.96      ,   -1.39772832],\n",
        "       [  -1.95      , -128.84872562],\n",
        "       [  -1.94      , -256.41110569],\n",
        "       [  -1.93      , -384.08294258]]),\n",
        "  'elevation': 400,\n",
        "  'latitude': 50.409407,\n",
        "  'longitude': 15.414812,\n",
        "  'name': 'NACHODSKO',\n",
        "  'status': 'operational',\n",
        "  'type': 'receiver'}]"
       ]
      }
     ],
     "prompt_number": 24
    },
    {
     "cell_type": "code",
     "collapsed": false,
     "input": [
      "def make_meteor():\n",
      "    ## initial meteor trajectory guess \n",
      "    est_start_altitude = np.random.normal(100e3,20e3,1)\n",
      "    est_stop_altitude = np.random.normal(60e3,20e3,1)\n",
      "    \n",
      "    est_start_lat = np.random.normal(49,2,1)  \n",
      "    est_start_lon = np.random.normal(11,2,1)\n",
      "    \n",
      "    est_stop_lat = np.random.normal(49,2,1) \n",
      "    est_stop_lon = np.random.normal(11,2,1)\n",
      "    \n",
      "    est_velocity = np.random.normal(50000,20000,1)\n",
      "\n",
      "    est_start_point = np.array(geoC.GeographicToGeocentric(est_start_lat, est_start_lon, est_start_altitude))\n",
      "    est_stop_point = np.array(geoC.GeographicToGeocentric(est_stop_lat, est_stop_lon, est_stop_altitude))\n",
      "    est_vect = est_start_point - est_stop_point\n",
      "    est_speed_vect = est_vect/np.linalg.norm(est_vect) * est_velocity\n",
      "    est_params = np.concatenate((est_start_point.ravel(), est_speed_vect.ravel()), axis=1)\n",
      "    return est_params\n"
     ],
     "language": "python",
     "metadata": {},
     "outputs": [],
     "prompt_number": 25
    },
    {
     "cell_type": "code",
     "collapsed": false,
     "input": [
      "%matplotlib\n",
      "fig, ax1 = plt.subplots(figsize=(9, 7))\n",
      "ax1.set_title('Errors of estimated trajectory dopplers over all Bolidozor stations data')\n",
      "ax1.set_ylabel('Doppler [Hz]')\n",
      "ax1.set_xlabel('Time [s]')\n",
      "\n",
      "meteor_dopplers = [1,2]\n",
      "\n",
      "met_points = np.empty([timesteps.size, 3])\n",
      "\n",
      "\n",
      "for meteor in range(ZHR):\n",
      "    \n",
      "    # get meteor vector from start and stop point\n",
      "    met_start_point = np.array(geoC.GeographicToGeocentric(met_start_lat[meteor], met_start_lon[meteor], met_start_altitude[meteor]))\n",
      "    met_stop_point = np.array(geoC.GeographicToGeocentric(met_stop_lat[meteor], met_stop_lon[meteor], met_stop_altitude[meteor]))\n",
      "    met_vect = met_start_point - met_stop_point\n",
      "    met_speed_vect = met_vect/np.linalg.norm(met_vect) * met_velocity[meteor]\n",
      "    \n",
      "    for i in range(timesteps.size):  # generate points on meteor trajectory (discretize in space)\n",
      "        met_points[i] =  met_start_point + (met_vect * timesteps[i])\n",
      "    \n",
      "    doppler_deviations = error_func(make_meteor(), timesteps, stations)\n",
      "    \n",
      "    for station in doppler_deviations:\n",
      "        plt.plot(doppler_deviations[station][:] , label=station if meteor == 0 else \"\")\n",
      "    plt.legend(loc=1)"
     ],
     "language": "python",
     "metadata": {},
     "outputs": [
      {
       "output_type": "stream",
       "stream": "stdout",
       "text": [
        "Using matplotlib backend: TkAgg\n"
       ]
      }
     ],
     "prompt_number": 26
    },
    {
     "cell_type": "code",
     "collapsed": false,
     "input": [
      "doppler_deviations"
     ],
     "language": "python",
     "metadata": {},
     "outputs": [
      {
       "metadata": {},
       "output_type": "pyout",
       "prompt_number": 27,
       "text": [
        "{'BPB': array([ 28.48384507,  28.58403808,  28.68353313,  28.78233631,\n",
        "        28.88045381,  28.97789197,  29.07465725,  29.17075624,  29.26619565]),\n",
        " 'HPHK': array([ 0.0068786 ,  0.0073395 ,  0.0078075 ,  0.00828223,  0.00876337,\n",
        "        0.00925066,  0.00974386,  0.01024282]),\n",
        " 'JHRADEC': array([ 7.35609809,  7.37810233,  7.39939421,  7.41999391,  7.439922  ,\n",
        "        7.45919938]),\n",
        " 'NACHODSKO': array([ 0.73488568,  0.73366557,  0.73255146,  0.73153861,  0.73062228,\n",
        "        0.72979774,  0.72906027]),\n",
        " 'OBSJAROMER': array([ 0.13511414,  0.13279351,  0.13052475,  0.12830574,  0.12613446,\n",
        "        0.12400888,  0.12192707,  0.11988711,  0.11788713]),\n",
        " 'OBSUPICE': array([ 0.55199756,  0.54639049,  0.54087697,  0.53545355,  0.53011686,\n",
        "        0.52486356,  0.51969036,  0.51459402]),\n",
        " 'SVAKOV': array([ 4.20461722,  4.21928839,  4.233437  ,  4.24708256,  4.26024497,\n",
        "        4.27294449]),\n",
        " 'VALMEZ': array([  9.77649741,   9.83969488,   9.90283286,   9.96591244,\n",
        "        10.02893478,  10.09190112,  10.15481274,  10.21767101,\n",
        "        10.28047735,  10.34323322]),\n",
        " 'ZVPP': array([ 7.20793069,  7.25326473,  7.29776047,  7.3414455 ,  7.3843483 ,\n",
        "        7.42649816]),\n",
        " 'Zebrak': array([ 0.25715404,  0.25739911,  0.2577799 ,  0.25828635,  0.2589083 ]),\n",
        " 'uFlu': array([ 0.36422227,  0.36869083,  0.37330158,  0.37804931,  0.38292862,\n",
        "        0.38793387])}"
       ]
      }
     ],
     "prompt_number": 27
    },
    {
     "cell_type": "code",
     "collapsed": false,
     "input": [],
     "language": "python",
     "metadata": {},
     "outputs": [],
     "prompt_number": 72
    },
    {
     "cell_type": "code",
     "collapsed": false,
     "input": [],
     "language": "python",
     "metadata": {},
     "outputs": [],
     "prompt_number": 16
    },
    {
     "cell_type": "code",
     "collapsed": false,
     "input": [
      "def total_error(est_params, timesteps, stations_data):\n",
      "    return np.sum(station_errors(est_params, timesteps, stations))\n",
      "#    return station_errors(est_params, timesteps, stations)"
     ],
     "language": "python",
     "metadata": {},
     "outputs": [],
     "prompt_number": 28
    },
    {
     "cell_type": "code",
     "collapsed": false,
     "input": [
      "def find_trajectory(timesteps,stations_data):\n",
      "    ## initial meteor trajectory guess \n",
      "\n",
      "    est_params = make_meteor()\n",
      "    res = minimize(total_error, est_params, args = (timesteps, stations_data,), method = 'Nelder-Mead', options = {'disp': True, 'maxfev': 1e10, 'maxiter': 1e10, 'ftol': 1e-9})\n",
      "    return res"
     ],
     "language": "python",
     "metadata": {},
     "outputs": [],
     "prompt_number": 31
    },
    {
     "cell_type": "code",
     "collapsed": false,
     "input": [
      "res = find_trajectory(timesteps, stations)"
     ],
     "language": "python",
     "metadata": {},
     "outputs": [],
     "prompt_number": "*"
    },
    {
     "cell_type": "code",
     "collapsed": false,
     "input": [
      "out3 = res"
     ],
     "language": "python",
     "metadata": {},
     "outputs": [],
     "prompt_number": 54
    },
    {
     "cell_type": "code",
     "collapsed": false,
     "input": [
      "out3"
     ],
     "language": "python",
     "metadata": {},
     "outputs": [
      {
       "metadata": {},
       "output_type": "pyout",
       "prompt_number": 55,
       "text": [
        "  status: 0\n",
        "    nfev: 3071\n",
        " success: True\n",
        "     fun: 0.012694039174211118\n",
        "       x: array([ 4009596.82593572,   857050.78974446,  4545817.77742471,\n",
        "         -46033.77389376,   -26331.1935294 ,    -7176.6853925 ])\n",
        " message: 'Optimization terminated successfully.'\n",
        "     nit: 1887"
       ]
      }
     ],
     "prompt_number": 55
    },
    {
     "cell_type": "code",
     "collapsed": false,
     "input": [
      "out2"
     ],
     "language": "python",
     "metadata": {},
     "outputs": [
      {
       "metadata": {},
       "output_type": "pyout",
       "prompt_number": 43,
       "text": [
        "  status: 0\n",
        "    nfev: 2216\n",
        " success: True\n",
        "     fun: 0.0016556680880811074\n",
        "       x: array([ 4265519.87918796,   693206.00450766,  5061117.47264313,\n",
        "         -39979.92824764,   -25414.1862104 ,    30701.52182132])\n",
        " message: 'Optimization terminated successfully.'\n",
        "     nit: 1385"
       ]
      }
     ],
     "prompt_number": 43
    },
    {
     "cell_type": "code",
     "collapsed": false,
     "input": [
      "out1"
     ],
     "language": "python",
     "metadata": {},
     "outputs": [
      {
       "metadata": {},
       "output_type": "pyout",
       "prompt_number": 40,
       "text": [
        "  status: 0\n",
        "    nfev: 2075\n",
        " success: True\n",
        "     fun: 0.01830973655510101\n",
        "       x: array([ 4106982.42184792,   810779.5087746 ,  5020410.49986387,\n",
        "         -51137.29994397,   -38970.8060082 ,    39396.84388943])\n",
        " message: 'Optimization terminated successfully.'\n",
        "     nit: 1271"
       ]
      }
     ],
     "prompt_number": 40
    },
    {
     "cell_type": "code",
     "collapsed": false,
     "input": [
      "est_params = out1['x']"
     ],
     "language": "python",
     "metadata": {},
     "outputs": [],
     "prompt_number": 68
    },
    {
     "cell_type": "code",
     "collapsed": false,
     "input": [
      "est_start_point = est_params[0:3]\n",
      "est_vect = est_params[3:6]\n",
      "est_points = np.empty([timesteps.size, 3])\n",
      "\n",
      "for i in range(timesteps.size):  # generate points on meteor trajectory (discretize in space)\n",
      "    est_points[i] =  est_start_point + (est_vect * timesteps[i])"
     ],
     "language": "python",
     "metadata": {},
     "outputs": [],
     "prompt_number": 69
    },
    {
     "cell_type": "code",
     "collapsed": false,
     "input": [
      "%matplotlib\n",
      "fig = plt.figure()\n",
      "ax = plt.axes(projection='3d')\n",
      "ax.set_title('Meteor Trajectories')\n",
      "ax.set_ylabel('Position [m]')\n",
      "ax.set_xlabel('Position [m]')\n",
      "ax.set_zlabel('Position [m]')\n",
      "ax.scatter(met_points[:,0], met_points[:,1], met_points[:,2], color = 'b', label= \"Real\")\n",
      "ax.scatter(est_points[:,0], est_points[:,1], est_points[:,2], color = 'r', label= \"Estimated\")\n"
     ],
     "language": "python",
     "metadata": {},
     "outputs": [
      {
       "output_type": "stream",
       "stream": "stdout",
       "text": [
        "Using matplotlib backend: TkAgg\n"
       ]
      },
      {
       "metadata": {},
       "output_type": "pyout",
       "prompt_number": 70,
       "text": [
        "<mpl_toolkits.mplot3d.art3d.Path3DCollection at 0x7f93596a2510>"
       ]
      }
     ],
     "prompt_number": 70
    },
    {
     "cell_type": "code",
     "collapsed": false,
     "input": [
      "%matplotlib\n",
      "fig, ax1 = plt.subplots(figsize=(9, 7))\n",
      "ax1.set_title('Dopplers of estimated  meteor trajectory')\n",
      "ax1.set_ylabel('Doppler [Hz]')\n",
      "ax1.set_xlabel('Time [s]')\n",
      "\n",
      "    \n",
      "for station in stations:\n",
      "    rec_station_point = np.array(geoC.GeographicToGeocentric(station['latitude'], station['longitude'], station['elevation']))\n",
      "\n",
      "    #doppler_met = estimate_dopplers(met_points, f0, trans_station_point, rec_station_point)\n",
      "    doppler_est = estimate_dopplers(est_points, timesteps, f0, trans_station_point, rec_station_point)\n",
      "\n",
      "#    plt.plot(station['doppler'][:,0], station['doppler'][:,1], label=station['name'] if meteor == 0 else \"\", color = 'b')\n",
      "    plt.plot(station['doppler'][:,0], station['doppler'][:,1], label=station['name'] if meteor == 0 else \"\")\n",
      "    plt.plot(doppler_est[1:,0], doppler_est[1:,1], color = 'r')\n",
      "    \n",
      "plt.legend(loc=1)"
     ],
     "language": "python",
     "metadata": {},
     "outputs": [
      {
       "output_type": "stream",
       "stream": "stdout",
       "text": [
        "Using matplotlib backend: TkAgg\n"
       ]
      },
      {
       "metadata": {},
       "output_type": "pyout",
       "prompt_number": 71,
       "text": [
        "<matplotlib.legend.Legend at 0x7f9359584550>"
       ]
      }
     ],
     "prompt_number": 71
    },
    {
     "cell_type": "code",
     "collapsed": false,
     "input": [
      "data_file = np.load(\"station_data.npz\")\n",
      "timesteps = data_file['timesteps']\n",
      "stations = data_file['stations']"
     ],
     "language": "python",
     "metadata": {},
     "outputs": [],
     "prompt_number": 187
    },
    {
     "cell_type": "code",
     "collapsed": false,
     "input": [],
     "language": "python",
     "metadata": {},
     "outputs": [],
     "prompt_number": 194
    },
    {
     "cell_type": "code",
     "collapsed": false,
     "input": [],
     "language": "python",
     "metadata": {},
     "outputs": [],
     "prompt_number": 194
    },
    {
     "cell_type": "code",
     "collapsed": false,
     "input": [],
     "language": "python",
     "metadata": {},
     "outputs": [],
     "prompt_number": 195
    },
    {
     "cell_type": "code",
     "collapsed": false,
     "input": [
      "print hof"
     ],
     "language": "python",
     "metadata": {},
     "outputs": [
      {
       "output_type": "stream",
       "stream": "stdout",
       "text": [
        "[array('d', [4242178.838858588, 877133.9277853557, 4739756.869906342, 39681.670874463365, 25625.12571113396, -36807.68411802771])]\n"
       ]
      }
     ],
     "prompt_number": 89
    },
    {
     "cell_type": "code",
     "collapsed": false,
     "input": [
      "print hof"
     ],
     "language": "python",
     "metadata": {},
     "outputs": [
      {
       "output_type": "stream",
       "stream": "stdout",
       "text": [
        "[array('d', [3953586.958058075, 988944.7005357716, 5010073.095748296, -45095.19931529084, 22091.309637106715, 62240.493103505054])]\n"
       ]
      }
     ],
     "prompt_number": 68
    },
    {
     "cell_type": "code",
     "collapsed": false,
     "input": [
      "est_params = np.array(hof[0])"
     ],
     "language": "python",
     "metadata": {},
     "outputs": [],
     "prompt_number": 90
    },
    {
     "cell_type": "code",
     "collapsed": false,
     "input": [
      "est_params"
     ],
     "language": "python",
     "metadata": {},
     "outputs": [
      {
       "metadata": {},
       "output_type": "pyout",
       "prompt_number": 91,
       "text": [
        "array([ 4242178.83885859,   877133.92778536,  4739756.86990634,\n",
        "          39681.67087446,    25625.12571113,   -36807.68411803])"
       ]
      }
     ],
     "prompt_number": 91
    },
    {
     "cell_type": "code",
     "collapsed": false,
     "input": [
      "est_params = array('d', [4054680.0680794725, 1080843.3217390168, 4911049.2573404275, -4949.93417629765, 41461.15462661179, -6000.00731814691])"
     ],
     "language": "python",
     "metadata": {},
     "outputs": [
      {
       "ename": "TypeError",
       "evalue": "'module' object is not callable",
       "output_type": "pyerr",
       "traceback": [
        "\u001b[0;31m---------------------------------------------------------------------------\u001b[0m\n\u001b[0;31mTypeError\u001b[0m                                 Traceback (most recent call last)",
        "\u001b[0;32m<ipython-input-92-de521def3302>\u001b[0m in \u001b[0;36m<module>\u001b[0;34m()\u001b[0m\n\u001b[0;32m----> 1\u001b[0;31m \u001b[0marray\u001b[0m\u001b[0;34m(\u001b[0m\u001b[0;34m'd'\u001b[0m\u001b[0;34m,\u001b[0m \u001b[0;34m[\u001b[0m\u001b[0;36m4054680.0680794725\u001b[0m\u001b[0;34m,\u001b[0m \u001b[0;36m1080843.3217390168\u001b[0m\u001b[0;34m,\u001b[0m \u001b[0;36m4911049.2573404275\u001b[0m\u001b[0;34m,\u001b[0m \u001b[0;34m-\u001b[0m\u001b[0;36m4949.93417629765\u001b[0m\u001b[0;34m,\u001b[0m \u001b[0;36m41461.15462661179\u001b[0m\u001b[0;34m,\u001b[0m \u001b[0;34m-\u001b[0m\u001b[0;36m6000.00731814691\u001b[0m\u001b[0;34m]\u001b[0m\u001b[0;34m)\u001b[0m\u001b[0;34m\u001b[0m\u001b[0m\n\u001b[0m",
        "\u001b[0;31mTypeError\u001b[0m: 'module' object is not callable"
       ]
      }
     ],
     "prompt_number": 92
    },
    {
     "cell_type": "code",
     "collapsed": false,
     "input": [
      "np.sum(station_errors(est_params, timesteps, stations))"
     ],
     "language": "python",
     "metadata": {},
     "outputs": [
      {
       "metadata": {},
       "output_type": "pyout",
       "prompt_number": 197,
       "text": [
        "839.79927029195528"
       ]
      }
     ],
     "prompt_number": 197
    },
    {
     "cell_type": "code",
     "collapsed": false,
     "input": [
      "station_errors(est_params, timesteps, stations)[0]"
     ],
     "language": "python",
     "metadata": {},
     "outputs": [
      {
       "metadata": {},
       "output_type": "pyout",
       "prompt_number": 198,
       "text": [
        "86.002467510644195"
       ]
      }
     ],
     "prompt_number": 198
    },
    {
     "cell_type": "code",
     "collapsed": false,
     "input": [
      "est_params = np.load(\"estimated_parameters.npy\")"
     ],
     "language": "python",
     "metadata": {},
     "outputs": [],
     "prompt_number": 38
    },
    {
     "cell_type": "code",
     "collapsed": false,
     "input": [],
     "language": "python",
     "metadata": {},
     "outputs": [],
     "prompt_number": 22
    },
    {
     "cell_type": "code",
     "collapsed": false,
     "input": [
      "est_doppler[1:,0]"
     ],
     "language": "python",
     "metadata": {},
     "outputs": [
      {
       "metadata": {},
       "output_type": "pyout",
       "prompt_number": 141,
       "text": [
        "array([-9.93, -9.86, -9.79, -9.72, -9.65, -9.58, -9.51, -9.44, -9.37,\n",
        "       -9.3 , -9.23, -9.16, -9.09, -9.02, -8.95, -8.88, -8.81, -8.74,\n",
        "       -8.67, -8.6 , -8.53, -8.46, -8.39, -8.32, -8.25, -8.18, -8.11,\n",
        "       -8.04, -7.97, -7.9 , -7.83, -7.76, -7.69, -7.62, -7.55, -7.48,\n",
        "       -7.41, -7.34, -7.27, -7.2 , -7.13, -7.06, -6.99, -6.92, -6.85,\n",
        "       -6.78, -6.71, -6.64, -6.57, -6.5 , -6.43, -6.36, -6.29, -6.22,\n",
        "       -6.15, -6.08, -6.01, -5.94, -5.87, -5.8 , -5.73, -5.66, -5.59,\n",
        "       -5.52, -5.45, -5.38, -5.31, -5.24, -5.17, -5.1 , -5.03, -4.96,\n",
        "       -4.89, -4.82, -4.75, -4.68, -4.61, -4.54, -4.47, -4.4 , -4.33,\n",
        "       -4.26, -4.19, -4.12, -4.05, -3.98, -3.91, -3.84, -3.77, -3.7 ,\n",
        "       -3.63, -3.56, -3.49, -3.42, -3.35, -3.28, -3.21, -3.14, -3.07,\n",
        "       -3.  , -2.93, -2.86, -2.79, -2.72, -2.65, -2.58, -2.51, -2.44,\n",
        "       -2.37, -2.3 , -2.23, -2.16, -2.09, -2.02, -1.95, -1.88, -1.81,\n",
        "       -1.74, -1.67, -1.6 , -1.53, -1.46, -1.39, -1.32, -1.25, -1.18,\n",
        "       -1.11, -1.04, -0.97, -0.9 , -0.83, -0.76, -0.69, -0.62, -0.55,\n",
        "       -0.48, -0.41, -0.34, -0.27, -0.2 , -0.13, -0.06,  0.01,  0.08,\n",
        "        0.15,  0.22,  0.29,  0.36,  0.43,  0.5 ,  0.57,  0.64,  0.71,\n",
        "        0.78,  0.85,  0.92,  0.99,  1.06,  1.13,  1.2 ,  1.27,  1.34,\n",
        "        1.41,  1.48,  1.55,  1.62,  1.69,  1.76,  1.83,  1.9 ,  1.97,\n",
        "        2.04,  2.11,  2.18,  2.25,  2.32,  2.39,  2.46,  2.53,  2.6 ,\n",
        "        2.67,  2.74,  2.81,  2.88,  2.95,  3.02,  3.09,  3.16,  3.23,\n",
        "        3.3 ,  3.37,  3.44,  3.51,  3.58,  3.65,  3.72,  3.79,  3.86,\n",
        "        3.93,  4.  ,  4.07,  4.14,  4.21,  4.28,  4.35,  4.42,  4.49,\n",
        "        4.56,  4.63,  4.7 ,  4.77,  4.84,  4.91,  4.98,  5.05,  5.12,\n",
        "        5.19,  5.26,  5.33,  5.4 ,  5.47,  5.54,  5.61,  5.68,  5.75,\n",
        "        5.82,  5.89,  5.96,  6.03,  6.1 ,  6.17,  6.24,  6.31,  6.38,\n",
        "        6.45,  6.52,  6.59,  6.66,  6.73,  6.8 ,  6.87,  6.94,  7.01,\n",
        "        7.08,  7.15,  7.22,  7.29,  7.36,  7.43,  7.5 ,  7.57,  7.64,\n",
        "        7.71,  7.78,  7.85,  7.92,  7.99,  8.06,  8.13,  8.2 ,  8.27,\n",
        "        8.34,  8.41,  8.48,  8.55,  8.62,  8.69,  8.76,  8.83,  8.9 ,\n",
        "        8.97,  9.04,  9.11,  9.18,  9.25,  9.32,  9.39,  9.46,  9.53,\n",
        "        9.6 ,  9.67,  9.74,  9.81,  9.88,  9.95])"
       ]
      }
     ],
     "prompt_number": 141
    },
    {
     "cell_type": "code",
     "collapsed": false,
     "input": [
      "\n",
      "plot(est_doppler[1:,1], est_doppler_function(est_doppler[1:,1]), 'r-', est_doppler[1:,1], est_doppler[1:,0], 'b--')"
     ],
     "language": "python",
     "metadata": {},
     "outputs": [
      {
       "ename": "NameError",
       "evalue": "name 'est_doppler' is not defined",
       "output_type": "pyerr",
       "traceback": [
        "\u001b[0;31m---------------------------------------------------------------------------\u001b[0m\n\u001b[0;31mNameError\u001b[0m                                 Traceback (most recent call last)",
        "\u001b[0;32m<ipython-input-52-89be4f048eb4>\u001b[0m in \u001b[0;36m<module>\u001b[0;34m()\u001b[0m\n\u001b[1;32m      1\u001b[0m \u001b[0;34m\u001b[0m\u001b[0m\n\u001b[0;32m----> 2\u001b[0;31m \u001b[0mplot\u001b[0m\u001b[0;34m(\u001b[0m\u001b[0mest_doppler\u001b[0m\u001b[0;34m[\u001b[0m\u001b[0;36m1\u001b[0m\u001b[0;34m:\u001b[0m\u001b[0;34m,\u001b[0m\u001b[0;36m1\u001b[0m\u001b[0;34m]\u001b[0m\u001b[0;34m,\u001b[0m \u001b[0mest_doppler_function\u001b[0m\u001b[0;34m(\u001b[0m\u001b[0mest_doppler\u001b[0m\u001b[0;34m[\u001b[0m\u001b[0;36m1\u001b[0m\u001b[0;34m:\u001b[0m\u001b[0;34m,\u001b[0m\u001b[0;36m1\u001b[0m\u001b[0;34m]\u001b[0m\u001b[0;34m)\u001b[0m\u001b[0;34m,\u001b[0m \u001b[0;34m'r-'\u001b[0m\u001b[0;34m,\u001b[0m \u001b[0mest_doppler\u001b[0m\u001b[0;34m[\u001b[0m\u001b[0;36m1\u001b[0m\u001b[0;34m:\u001b[0m\u001b[0;34m,\u001b[0m\u001b[0;36m1\u001b[0m\u001b[0;34m]\u001b[0m\u001b[0;34m,\u001b[0m \u001b[0mest_doppler\u001b[0m\u001b[0;34m[\u001b[0m\u001b[0;36m1\u001b[0m\u001b[0;34m:\u001b[0m\u001b[0;34m,\u001b[0m\u001b[0;36m0\u001b[0m\u001b[0;34m]\u001b[0m\u001b[0;34m,\u001b[0m \u001b[0;34m'b--'\u001b[0m\u001b[0;34m)\u001b[0m\u001b[0;34m\u001b[0m\u001b[0m\n\u001b[0m",
        "\u001b[0;31mNameError\u001b[0m: name 'est_doppler' is not defined"
       ]
      }
     ],
     "prompt_number": 52
    },
    {
     "cell_type": "code",
     "collapsed": false,
     "input": [],
     "language": "python",
     "metadata": {},
     "outputs": []
    }
   ],
   "metadata": {}
  }
 ]
}