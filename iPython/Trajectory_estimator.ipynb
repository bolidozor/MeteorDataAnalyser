{
 "metadata": {
  "name": "",
  "signature": "sha256:7ac0a498360dc43f8956d0c3581cfba387a52e6ae4affe6c1c6e3208547ec139"
 },
 "nbformat": 3,
 "nbformat_minor": 0,
 "worksheets": [
  {
   "cells": [
    {
     "cell_type": "markdown",
     "metadata": {},
     "source": [
      "Calculation of meteor trajectory from head-echo dopplers\n",
      "=======\n",
      "\n",
      "Theory is adopted from Christian Steyaert et. al. 2010\n"
     ]
    },
    {
     "cell_type": "code",
     "collapsed": false,
     "input": [
      "TMx = (x_M \u2212 x T )\n",
      "TMy = (y M \u2212 y T )\n",
      "TMz = (z M \u2212 z T )"
     ],
     "language": "python",
     "metadata": {},
     "outputs": [
      {
       "ename": "SyntaxError",
       "evalue": "invalid syntax (<ipython-input-1-98dca8f4f72e>, line 1)",
       "output_type": "pyerr",
       "traceback": [
        "\u001b[0;36m  File \u001b[0;32m\"<ipython-input-1-98dca8f4f72e>\"\u001b[0;36m, line \u001b[0;32m1\u001b[0m\n\u001b[0;31m    TMx = (x_M \u2212 x T )\u001b[0m\n\u001b[0m               ^\u001b[0m\n\u001b[0;31mSyntaxError\u001b[0m\u001b[0;31m:\u001b[0m invalid syntax\n"
       ]
      }
     ],
     "prompt_number": 1
    },
    {
     "cell_type": "code",
     "collapsed": false,
     "input": [
      "import pylab\n",
      "f = pylab.figure()"
     ],
     "language": "python",
     "metadata": {},
     "outputs": [],
     "prompt_number": 2
    },
    {
     "cell_type": "code",
     "collapsed": false,
     "input": [
      "pylab.plot([1,2,3], [1,2,4], 'go-', label='line 1', linewidth=2)\n",
      "pylab.plot([1,2,3], [1,2,2], 'bo-', label='line 1', linewidth=2)"
     ],
     "language": "python",
     "metadata": {},
     "outputs": [
      {
       "metadata": {},
       "output_type": "pyout",
       "prompt_number": 3,
       "text": [
        "[<matplotlib.lines.Line2D at 0x7fa190159790>]"
       ]
      }
     ],
     "prompt_number": 3
    },
    {
     "cell_type": "code",
     "collapsed": false,
     "input": [
      "pylab.show()"
     ],
     "language": "python",
     "metadata": {},
     "outputs": [],
     "prompt_number": 4
    },
    {
     "cell_type": "markdown",
     "metadata": {},
     "source": [
      "Head Echo doppler function \n",
      "======="
     ]
    },
    {
     "cell_type": "markdown",
     "metadata": {},
     "source": [
      "The equation is  obtained from publication at http://adsabs.harvard.edu/abs/1998JIMO...26..117R (1998)"
     ]
    },
    {
     "cell_type": "code",
     "collapsed": false,
     "input": [
      "from sympy import symbols, sign, sqrt\n",
      "from sympy.plotting import plot\n",
      "t, f0, c, vm, r0 = symbols('t f_0 c v_m r_0')"
     ],
     "language": "python",
     "metadata": {},
     "outputs": [],
     "prompt_number": 1
    },
    {
     "cell_type": "code",
     "collapsed": false,
     "input": [
      "delta_f = - sign(t) * sqrt(((2*f0)/c)**2 * (vm**2)/(r0**2/(vm**2 * t**2) + 1) )"
     ],
     "language": "python",
     "metadata": {},
     "outputs": [],
     "prompt_number": 2
    },
    {
     "cell_type": "code",
     "collapsed": false,
     "input": [
      "delta_f.subs([(f0,55.260e6),(c,3e8),(vm,40e3),(r0,300e3), (t,1)])"
     ],
     "language": "python",
     "metadata": {},
     "outputs": [
      {
       "metadata": {},
       "output_type": "pyout",
       "prompt_number": 15,
       "text": [
        "-1947.56457926124"
       ]
      }
     ],
     "prompt_number": 15
    },
    {
     "cell_type": "code",
     "collapsed": false,
     "input": [
      "plot(delta_f.subs([(f0,55.260e6),(c,3e8),(vm,40e3),(r0,300e3)]), (t, -10, 10))"
     ],
     "language": "python",
     "metadata": {},
     "outputs": [
      {
       "metadata": {},
       "output_type": "pyout",
       "prompt_number": 16,
       "text": [
        "<sympy.plotting.plot.Plot at 0x7f1b6fb8fcd0>"
       ]
      }
     ],
     "prompt_number": 16
    },
    {
     "cell_type": "code",
     "collapsed": false,
     "input": [],
     "language": "python",
     "metadata": {},
     "outputs": [],
     "prompt_number": 8
    },
    {
     "cell_type": "heading",
     "level": 2,
     "metadata": {},
     "source": [
      "Artificial meteor generator"
     ]
    },
    {
     "cell_type": "code",
     "collapsed": false,
     "input": [
      "from mpl_toolkits.mplot3d.axes3d import Axes3D\n",
      "import matplotlib.pyplot as plt\n",
      "import numpy as np\n",
      "import scipy\n",
      "from scipy.optimize import minimize\n",
      "from scipy.interpolate import interp1d\n",
      "from Geocentric import Geocentric\n",
      "geoC = Geocentric(6378137, 6356752.314)"
     ],
     "language": "python",
     "metadata": {},
     "outputs": [],
     "prompt_number": 1
    },
    {
     "cell_type": "code",
     "collapsed": false,
     "input": [
      "from IPython import parallel\n",
      "clients = parallel.Client()\n",
      "view = clients.load_balanced_view()\n",
      "view.block = False"
     ],
     "language": "python",
     "metadata": {},
     "outputs": [],
     "prompt_number": 2
    },
    {
     "cell_type": "markdown",
     "metadata": {},
     "source": [
      "Pallalel execute on all available engines"
     ]
    },
    {
     "cell_type": "code",
     "collapsed": false,
     "input": [
      "\n",
      "import scipy.constants\n",
      "import numpy as np\n",
      "from scipy.optimize import minimize #,  differential_evolution\n",
      "from Geocentric import Geocentric\n",
      "geoC = Geocentric(6378137, 6356752.314)"
     ],
     "language": "python",
     "metadata": {},
     "outputs": [],
     "prompt_number": 3
    },
    {
     "cell_type": "markdown",
     "metadata": {},
     "source": [
      "Generate Artificial meteor for algorithm testing"
     ]
    },
    {
     "cell_type": "code",
     "collapsed": false,
     "input": [
      "c = scipy.constants.c\n",
      "f0 = 143050000\n",
      "trans_station_point = np.array(geoC.GeographicToGeocentric(47.347993, 5.515079, 190))\n",
      "t = 0.07"
     ],
     "language": "python",
     "metadata": {},
     "outputs": [],
     "prompt_number": 4
    },
    {
     "cell_type": "code",
     "collapsed": false,
     "input": [
      "#Artificial meteors coordinates:\n",
      "\n",
      "ZHR = 1\n",
      "\n",
      "met_start_altitude = np.random.normal(100e3,20e3,ZHR)\n",
      "met_stop_altitude = np.random.normal(60e3,20e3,ZHR)\n",
      "\n",
      "met_start_lat = np.random.normal(50,2,ZHR)  \n",
      "met_start_lon = np.random.normal(14,2,ZHR)\n",
      "\n",
      "met_stop_lat = np.random.normal(50,2,ZHR) \n",
      "met_stop_lon = np.random.normal(14,2,ZHR)\n",
      "\n",
      "met_velocity = np.random.normal(50000,20000,ZHR)\n",
      "timesteps = np.arange(-10,10,t)\n"
     ],
     "language": "python",
     "metadata": {},
     "outputs": [],
     "prompt_number": 5
    },
    {
     "cell_type": "code",
     "collapsed": false,
     "input": [
      "def estimate_dopplers(trajectory, timesteps, f0, trans_station, rec_station):\n",
      "    '''\n",
      "        Returns array of dopplers for given transmitter to receiver position and defined frequency and known trajectory.\n",
      "    '''\n",
      "    rec_to_met = np.empty([trajectory.shape[0], 1])\n",
      "    trans_to_met = np.empty([trajectory.shape[0], 1])\n",
      "    doppler = np.empty([trajectory.shape[0], 2])\n",
      "    \n",
      "    previous_rec_to_met = np.linalg.norm(rec_station - trajectory[0])\n",
      "    previous_trans_to_met = np.linalg.norm(trans_station - trajectory[0])\n",
      "    \n",
      "    t = timesteps[1] - timesteps[0]\n",
      "    \n",
      "    for i in range(trajectory.shape[0]):\n",
      "        rec_to_met[i] = np.linalg.norm(rec_station - trajectory[i])\n",
      "        trans_to_met[i] = np.linalg.norm(trans_station - trajectory[i])\n",
      "    \n",
      "        met_trans_speed = previous_trans_to_met - trans_to_met[i]\n",
      "        previous_trans_to_met = trans_to_met[i]\n",
      "        speed = met_trans_speed/t    \n",
      "        f1 = ((c + speed)/c * f0)\n",
      "        \n",
      "        met_rec_speed = previous_rec_to_met - rec_to_met[i]    ## calculate bistatic velocity from known position\n",
      "        previous_rec_to_met = rec_to_met[i]\n",
      "        speed = met_rec_speed/t\n",
      "        f2 = (c/(c - speed) * f1)\n",
      "        doppler[i] = np.array([timesteps[i], f2-f0])\n",
      "    return doppler"
     ],
     "language": "python",
     "metadata": {},
     "outputs": [],
     "prompt_number": 6
    },
    {
     "cell_type": "code",
     "collapsed": false,
     "input": [
      "def error_func(est_params, timesteps, stations):\n",
      "    \"\"\"\n",
      "    Returns difference between real and estimated meteor trajectory dopplers\n",
      "    \"\"\"\n",
      "    from Geocentric import Geocentric\n",
      "    geoC = Geocentric(6378137, 6356752.314)\n",
      "    \n",
      "    est_start_point = est_params[0:3]\n",
      "    est_vect = est_params[3:6]\n",
      "    est_points = np.empty([timesteps.size, 3])\n",
      "    \n",
      "    for i in range(timesteps.size):  # generate points of estimated meteor trajectory\n",
      "        est_points[i] =  est_start_point + (est_vect * timesteps[i])\n",
      "\n",
      "    doppler_deviations = {}\n",
      "    for station in stations:\n",
      "        doppler_deviation = np.zeros_like(station['doppler'])\n",
      "        rec_station_point = np.array(geoC.GeographicToGeocentric(station['latitude'], station['longitude'], station['elevation']))\n",
      "        est_doppler = estimate_dopplers(est_points, timesteps, f0, trans_station_point, rec_station_point)\n",
      "        est_doppler_function = interp1d(est_doppler[1:,0], est_doppler[1:,1])\n",
      "\n",
      "        for i in range(station['doppler'].shape[0]):  \n",
      "            doppler_deviation[i] = station['doppler'][:,0][i], (station['doppler'][:,1][i] - est_doppler_function(station['doppler'][:,0][i]))**2\n",
      "        \n",
      "        doppler_deviations[station['name']] = doppler_deviation\n",
      "        \n",
      "    return doppler_deviations\n"
     ],
     "language": "python",
     "metadata": {},
     "outputs": [],
     "prompt_number": 7
    },
    {
     "cell_type": "code",
     "collapsed": false,
     "input": [
      "def station_errors(met_params, timesteps, stations):\n",
      "    \"\"\"\n",
      "    Calculate total error value of estimated meteor params to every station signal. \n",
      "    \"\"\"    \n",
      "    doppler_errors = error_func(met_params, timesteps, stations)\n",
      "    total_deviation = []\n",
      "    for station in doppler_errors:\n",
      "        total_deviation.append(np.sum(doppler_errors[station][:,1]))\n",
      "    return total_deviation"
     ],
     "language": "python",
     "metadata": {},
     "outputs": [],
     "prompt_number": 8
    },
    {
     "cell_type": "code",
     "collapsed": false,
     "input": [
      "def total_error(met_params, timesteps, stations):\n",
      "    \"\"\"\n",
      "    Calculate total error value of estimated meteor params to every station signal. \n",
      "    \"\"\"    \n",
      "    doppler_errors = error_func(met_params, timesteps, stations)\n",
      "    total_deviation = 0\n",
      "    for station in doppler_errors:\n",
      "        total_deviation += np.sum(doppler_errors[station][:,1])\n",
      "    return total_deviation"
     ],
     "language": "python",
     "metadata": {},
     "outputs": [],
     "prompt_number": 9
    },
    {
     "cell_type": "markdown",
     "metadata": {},
     "source": [
      "Define Bolidozor network station. List may be updated from space.astro.cz server according to stored data."
     ]
    },
    {
     "cell_type": "code",
     "collapsed": false,
     "input": [
      "stations = []\n",
      "stations.append({'name': 'Zebrak','latitude':49.8736, 'longitude':13.8986,'elevation':400, 'status': 'operational', 'type': 'receiver'})\n",
      "stations.append({'name': 'uFlu','latitude':50.0795, 'longitude':14.4891,'elevation':400, 'status': 'operational', 'type': 'receiver'})\n",
      "stations.append({'name': 'OBSUPICE','latitude':50.5067,'longitude':16.0115,'elevation':400, 'status': 'operational', 'type': 'receiver'})\n",
      "stations.append({'name': 'SVAKOV','latitude':49.2607,'longitude':14.6917,'elevation':400, 'status': 'operational', 'type': 'receiver'})\n",
      "stations.append({'name': 'ZVPP','latitude':48.9869,'longitude':14.4675,'elevation':400, 'status': 'operational', 'type': 'receiver'})\n",
      "stations.append({'name': 'BPB','latitude':48.653153,'longitude':17.537413,'elevation':400, 'status': 'testing', 'type': 'receiver'})\n",
      "stations.append({'name': 'HPHK','latitude':50.1772,'longitude':15.8386,'elevation':400, 'status': 'testing', 'type': 'receiver'})\n",
      "stations.append({'name': 'OBSJAROMER','latitude':50.351397,'longitude':15.915878,'elevation':400, 'status': 'testing', 'type': 'receiver'})\n",
      "stations.append({'name': 'JHRADEC','latitude':49.1314,'longitude': 14.9999,'elevation':400, 'status': 'testing', 'type': 'receiver'})\n",
      "stations.append({'name': 'VALMEZ','latitude':49.463038,'longitude': 17.973544,'elevation':400, 'status': 'testing', 'type': 'receiver'})\n",
      "stations.append({'name': 'NACHODSKO','latitude':50.409407,'longitude':15.414812,'elevation':400, 'status': 'operational', 'type': 'receiver'})\n"
     ],
     "language": "python",
     "metadata": {},
     "outputs": [],
     "prompt_number": 10
    },
    {
     "cell_type": "code",
     "collapsed": false,
     "input": [
      "# compute dopplers for multiple stations\n",
      "\n",
      "from Geocentric import Geocentric\n",
      "geoC = Geocentric(6378137, 6356752.314)\n",
      "\n",
      "%matplotlib\n",
      "fig, ax1 = plt.subplots(figsize=(9, 7))\n",
      "ax1.set_title('Meteor Dopplers at multiple Bolidozor stations')\n",
      "ax1.set_ylabel('Doppler [Hz]')\n",
      "ax1.set_xlabel('Time [s]')\n",
      "#grid(True)\n",
      "\n",
      "meteor_dopplers = [1,2]\n",
      "met_points = np.empty([timesteps.size, 3])\n",
      "\n",
      "for meteor in range(ZHR):\n",
      "    \n",
      "    # get meteor vector from start and stop point\n",
      "    met_start_point = np.array(geoC.GeographicToGeocentric(met_start_lat[meteor], met_start_lon[meteor], met_start_altitude[meteor]))\n",
      "    met_stop_point = np.array(geoC.GeographicToGeocentric(met_stop_lat[meteor], met_stop_lon[meteor], met_stop_altitude[meteor]))\n",
      "    met_vect = met_start_point - met_stop_point\n",
      "\n",
      "    for i in range(timesteps.size):  # generate points on artifitial meteor trajectory (discretize in space)\n",
      "        met_points[i] =  met_start_point + (met_vect/np.linalg.norm(met_vect) * (timesteps[i] * met_velocity[meteor]))\n",
      "    \n",
      "    for station in stations:\n",
      "        rec_station_point = np.array(geoC.GeographicToGeocentric(station['latitude'], station['longitude'], station['elevation']))\n",
      "        \n",
      "        doppler = estimate_dopplers(met_points, timesteps, f0, trans_station_point, rec_station_point)\n",
      "            \n",
      "        meteor_dopplers[meteor] = doppler\n",
      "        plt.plot(doppler[1:,0], doppler[1:,1], label=station['name'] if meteor == 0 else \"\")\n",
      "    \n",
      "    plt.legend(loc=1)"
     ],
     "language": "python",
     "metadata": {},
     "outputs": [
      {
       "output_type": "stream",
       "stream": "stdout",
       "text": [
        "Using matplotlib backend: TkAgg\n"
       ]
      }
     ],
     "prompt_number": 11
    },
    {
     "cell_type": "markdown",
     "metadata": {},
     "source": [
      "Plot artifitial meteor trajectory points"
     ]
    },
    {
     "cell_type": "code",
     "collapsed": false,
     "input": [
      "%matplotlib\n",
      "fig = plt.figure()\n",
      "ax = plt.axes(projection='3d')\n",
      "ax.scatter(met_points[:,0], met_points[:,1], met_points[:,2])"
     ],
     "language": "python",
     "metadata": {},
     "outputs": [
      {
       "output_type": "stream",
       "stream": "stdout",
       "text": [
        "Using matplotlib backend: TkAgg\n"
       ]
      },
      {
       "metadata": {},
       "output_type": "pyout",
       "prompt_number": 12,
       "text": [
        "<mpl_toolkits.mplot3d.art3d.Path3DCollection at 0x7f9e2e3f1ed0>"
       ]
      }
     ],
     "prompt_number": 12
    },
    {
     "cell_type": "markdown",
     "metadata": {},
     "source": [
      "Compute difference between of estimated trajectory dopplers and \"real\" simulated trajectory."
     ]
    },
    {
     "cell_type": "code",
     "collapsed": false,
     "input": [
      "meteor_data = doppler[1:,0]\n",
      "\n",
      "doppler_min = -6000.0\n",
      "doppler_max = 10000.0\n",
      "\n",
      "for station in stations:\n",
      "    rec_station_point = np.array(geoC.GeographicToGeocentric(station['latitude'], station['longitude'], station['elevation']))\n",
      "    dopplers = estimate_dopplers(met_points, timesteps, f0, trans_station_point, rec_station_point)\n",
      "    indexes = np.where(np.logical_and(dopplers[1:,1] > doppler_min, dopplers[1:,1] < doppler_max ))\n",
      "    station['doppler'] = np.concatenate((np.take(dopplers[1:,0], indexes), np.take(dopplers[1:,1], indexes)), axis = 0).T"
     ],
     "language": "python",
     "metadata": {},
     "outputs": [],
     "prompt_number": 13
    },
    {
     "cell_type": "code",
     "collapsed": false,
     "input": [],
     "language": "python",
     "metadata": {},
     "outputs": [],
     "prompt_number": 13
    },
    {
     "cell_type": "code",
     "collapsed": false,
     "input": [
      "## initial meteor trajectory guess \n",
      "est_start_altitude = np.random.normal(100e3,20e3,ZHR)\n",
      "est_stop_altitude = np.random.normal(60e3,20e3,ZHR)\n",
      "\n",
      "est_start_lat = np.random.normal(50,2,ZHR)  \n",
      "est_start_lon = np.random.normal(14,2,ZHR)\n",
      "\n",
      "est_stop_lat = np.random.normal(50,2,ZHR) \n",
      "est_stop_lon = np.random.normal(14,2,ZHR)\n",
      "\n",
      "est_velocity = np.random.normal(50000,20000,ZHR)"
     ],
     "language": "python",
     "metadata": {},
     "outputs": [],
     "prompt_number": 14
    },
    {
     "cell_type": "code",
     "collapsed": false,
     "input": [
      "%matplotlib\n",
      "fig, ax1 = plt.subplots(figsize=(9, 7))\n",
      "ax1.set_title('Errors of estimated trajectory dopplers over all Bolidozor stations data')\n",
      "ax1.set_ylabel('Doppler [Hz]')\n",
      "ax1.set_xlabel('Time [s]')\n",
      "\n",
      "meteor_dopplers = [1,2]\n",
      "\n",
      "met_points = np.empty([timesteps.size, 3])\n",
      "\n",
      "\n",
      "for meteor in range(ZHR):\n",
      "    \n",
      "    # get meteor vector from start and stop point\n",
      "    est_start_point = np.array(geoC.GeographicToGeocentric(est_start_lat[meteor], est_start_lon[meteor], est_start_altitude[meteor]))\n",
      "    est_stop_point = np.array(geoC.GeographicToGeocentric(est_stop_lat[meteor], est_stop_lon[meteor], est_stop_altitude[meteor]))\n",
      "    est_vect = est_start_point - est_stop_point\n",
      "    est_speed_vect = est_vect/np.linalg.norm(est_vect) * est_velocity[meteor]\n",
      "    \n",
      "    # get meteor vector from start and stop point\n",
      "    met_start_point = np.array(geoC.GeographicToGeocentric(met_start_lat[meteor], met_start_lon[meteor], met_start_altitude[meteor]))\n",
      "    met_stop_point = np.array(geoC.GeographicToGeocentric(met_stop_lat[meteor], met_stop_lon[meteor], met_stop_altitude[meteor]))\n",
      "    met_vect = met_start_point - met_stop_point\n",
      "    met_speed_vect = met_vect/np.linalg.norm(met_vect) * met_velocity[meteor]\n",
      "    \n",
      "    for i in range(timesteps.size):  # generate points on meteor trajectory (discretize in space)\n",
      "        met_points[i] =  met_start_point + (met_vect * timesteps[i])\n",
      "\n",
      "    est_params = np.concatenate((est_start_point, est_speed_vect), axis=1)\n",
      "    \n",
      "    doppler_deviations = error_func(est_params, timesteps, stations)\n",
      "    \n",
      "    for station in doppler_deviations:\n",
      "        plt.plot(doppler_deviations[station][:,0], doppler_deviations[station][:,1] , label=station if meteor == 0 else \"\")\n",
      "    plt.legend(loc=1)"
     ],
     "language": "python",
     "metadata": {},
     "outputs": [
      {
       "output_type": "stream",
       "stream": "stdout",
       "text": [
        "Using matplotlib backend: TkAgg\n"
       ]
      }
     ],
     "prompt_number": 15
    },
    {
     "cell_type": "code",
     "collapsed": false,
     "input": [
      "def make_meteor():\n",
      "    ## initial meteor trajectory guess \n",
      "    est_start_altitude = np.random.normal(100e3,20e3,1)\n",
      "    est_stop_altitude = np.random.normal(60e3,20e3,1)\n",
      "    \n",
      "    est_start_lat = np.random.normal(50,2,1)  \n",
      "    est_start_lon = np.random.normal(14,2,1)\n",
      "    \n",
      "    est_stop_lat = np.random.normal(50,2,1) \n",
      "    est_stop_lon = np.random.normal(14,2,1)\n",
      "    \n",
      "    est_velocity = np.random.normal(50000,20000,1)\n",
      "\n",
      "    est_start_point = np.array(geoC.GeographicToGeocentric(est_start_lat, est_start_lon, est_start_altitude))\n",
      "    est_stop_point = np.array(geoC.GeographicToGeocentric(est_stop_lat, est_stop_lon, est_stop_altitude))\n",
      "    est_vect = est_start_point - est_stop_point\n",
      "    est_speed_vect = est_vect/np.linalg.norm(est_vect) * est_velocity\n",
      "    est_params = np.concatenate((est_start_point.ravel(), est_speed_vect.ravel()), axis=1)\n",
      "    return est_params\n"
     ],
     "language": "python",
     "metadata": {},
     "outputs": [],
     "prompt_number": 16
    },
    {
     "cell_type": "code",
     "collapsed": false,
     "input": [
      "def make_deap_meteor():\n",
      "    return array.array('d',make_meteor())"
     ],
     "language": "python",
     "metadata": {},
     "outputs": [],
     "prompt_number": 17
    },
    {
     "cell_type": "code",
     "collapsed": false,
     "input": [
      "def find_trajectory(timesteps,stations_data):\n",
      "    ## initial meteor trajectory guess \n",
      "\n",
      "    est_params = make_meteor()\n",
      "    res = minimize(total_error, est_params, args = (timesteps, stations_data,), method ='BFGS' , tol = 100.0,options = {'disp': True})\n",
      "    return res"
     ],
     "language": "python",
     "metadata": {},
     "outputs": [],
     "prompt_number": 18
    },
    {
     "cell_type": "code",
     "collapsed": false,
     "input": [
      "res = find_trajectory(timesteps, stations)"
     ],
     "language": "python",
     "metadata": {},
     "outputs": [
      {
       "output_type": "stream",
       "stream": "stdout",
       "text": [
        "Warning: Desired error not necessarily achieved due to precision loss.\n",
        "         Current function value: 23934921691.110622\n",
        "         Iterations: 6\n",
        "         Function evaluations: 228\n",
        "         Gradient evaluations: 27\n"
       ]
      }
     ],
     "prompt_number": 19
    },
    {
     "cell_type": "code",
     "collapsed": false,
     "input": [
      "est_params = np.array(hof[0])"
     ],
     "language": "python",
     "metadata": {},
     "outputs": [],
     "prompt_number": 235
    },
    {
     "cell_type": "code",
     "collapsed": false,
     "input": [
      "est_start_point = est_params[0:3]\n",
      "est_vect = est_params[3:6]\n",
      "est_points = np.empty([timesteps.size, 3])\n",
      "\n",
      "for i in range(timesteps.size):  # generate points on meteor trajectory (discretize in space)\n",
      "    est_points[i] =  est_start_point + (est_vect * timesteps[i])"
     ],
     "language": "python",
     "metadata": {},
     "outputs": [],
     "prompt_number": 236
    },
    {
     "cell_type": "code",
     "collapsed": false,
     "input": [
      "%matplotlib\n",
      "fig = plt.figure()\n",
      "ax = plt.axes(projection='3d')\n",
      "ax.set_title('Meteor Trajectories')\n",
      "ax.set_ylabel('Position [m]')\n",
      "ax.set_xlabel('Position [m]')\n",
      "ax.set_zlabel('Position [m]')\n",
      "ax.scatter(met_points[:,0], met_points[:,1], met_points[:,2], color = 'b', label= \"Real\")\n",
      "ax.scatter(est_points[:,0], est_points[:,1], est_points[:,2], color = 'r', label= \"Estimated\")\n"
     ],
     "language": "python",
     "metadata": {},
     "outputs": [
      {
       "output_type": "stream",
       "stream": "stdout",
       "text": [
        "Using matplotlib backend: TkAgg\n"
       ]
      },
      {
       "metadata": {},
       "output_type": "pyout",
       "prompt_number": 237,
       "text": [
        "<mpl_toolkits.mplot3d.art3d.Path3DCollection at 0x7fc33bdb5750>"
       ]
      }
     ],
     "prompt_number": 237
    },
    {
     "cell_type": "code",
     "collapsed": false,
     "input": [
      "%matplotlib\n",
      "fig, ax1 = plt.subplots(figsize=(9, 7))\n",
      "ax1.set_title('Dopplers of estimated  meteor trajectory')\n",
      "ax1.set_ylabel('Doppler [Hz]')\n",
      "ax1.set_xlabel('Time [s]')\n",
      "\n",
      "    \n",
      "for station in stations:\n",
      "    rec_station_point = np.array(geoC.GeographicToGeocentric(station['latitude'], station['longitude'], station['elevation']))\n",
      "\n",
      "    #doppler_met = estimate_dopplers(met_points, f0, trans_station_point, rec_station_point)\n",
      "    doppler_est = estimate_dopplers(est_points, timesteps, f0, trans_station_point, rec_station_point)\n",
      "\n",
      "    plt.plot(station['doppler'][:,0], station['doppler'][:,1], label=station['name'] if meteor == 0 else \"\", color = 'b')\n",
      "    plt.plot(doppler_est[1:,0], doppler_est[1:,1], color = 'r')\n",
      "    \n",
      "plt.legend(loc=1)"
     ],
     "language": "python",
     "metadata": {},
     "outputs": [
      {
       "output_type": "stream",
       "stream": "stdout",
       "text": [
        "Using matplotlib backend: TkAgg\n"
       ]
      },
      {
       "metadata": {},
       "output_type": "pyout",
       "prompt_number": 238,
       "text": [
        "<matplotlib.legend.Legend at 0x7fc33dc2ab50>"
       ]
      }
     ],
     "prompt_number": 238
    },
    {
     "cell_type": "code",
     "collapsed": false,
     "input": [],
     "language": "python",
     "metadata": {},
     "outputs": [],
     "prompt_number": 194
    },
    {
     "cell_type": "code",
     "collapsed": false,
     "input": [],
     "language": "python",
     "metadata": {},
     "outputs": [],
     "prompt_number": 194
    },
    {
     "cell_type": "code",
     "collapsed": false,
     "input": [],
     "language": "python",
     "metadata": {},
     "outputs": [],
     "prompt_number": 194
    },
    {
     "cell_type": "code",
     "collapsed": false,
     "input": [],
     "language": "python",
     "metadata": {},
     "outputs": [],
     "prompt_number": 194
    },
    {
     "cell_type": "code",
     "collapsed": false,
     "input": [],
     "language": "python",
     "metadata": {},
     "outputs": [],
     "prompt_number": 195
    },
    {
     "cell_type": "code",
     "collapsed": false,
     "input": [
      "import array\n",
      "#import multiprocessing\n",
      "\n",
      "from deap import algorithms\n",
      "from deap import base\n",
      "from deap import creator\n",
      "from deap import tools\n",
      "\n",
      "creator.create(\"FitnessMin\", base.Fitness, weights=(-1.0,-1.0,-1.0,-1.0,-1.0,-1.0,-1.0,-1.0,-1.0,-1.0,-1.0,))\n",
      "creator.create(\"Individual\", array.array, typecode='d', fitness=creator.FitnessMin)\n",
      "\n",
      "toolbox = base.Toolbox()\n",
      "#pool = multiprocessing.Pool()\n",
      "#toolbox.register(\"map\", pool.map)\n",
      "\n",
      "# Attribute generator\n",
      "toolbox.register(\"indices\", make_deap_meteor )\n",
      "\n",
      "# Structure initializers\n",
      "toolbox.register(\"individual\", tools.initIterate, creator.Individual, toolbox.indices)\n",
      "toolbox.register(\"population\", tools.initRepeat, list, toolbox.individual)\n",
      "\n",
      "def evalTSP(individual):\n",
      "    met_params = np.array(individual)\n",
      "    return station_errors(met_params,timesteps, stations)\n",
      "\n",
      "toolbox.register(\"mate\", tools.cxOnePoint)\n",
      "toolbox.register(\"mutate\", tools.mutGaussian, mu = 0, sigma = (5000, 5000, 5000, 500, 500, 500), indpb=0.2)\n",
      "toolbox.register(\"select\", tools.selBest)\n",
      "toolbox.register(\"evaluate\", evalTSP)\n"
     ],
     "language": "python",
     "metadata": {},
     "outputs": [],
     "prompt_number": 20
    },
    {
     "cell_type": "code",
     "collapsed": false,
     "input": [
      "pop = toolbox.population(n=100)\n",
      "\n",
      "hof = tools.HallOfFame(1)\n",
      "stats = tools.Statistics(lambda ind: ind.fitness.values)\n",
      "stats.register(\"min\", np.min)\n",
      "\n",
      "\n",
      "algorithms.eaSimple(pop, toolbox, 0.7, 0.5, 10, stats=stats, halloffame=hof, verbose=True)\n",
      "\n",
      "#pop, stats, hof"
     ],
     "language": "python",
     "metadata": {},
     "outputs": [
      {
       "output_type": "stream",
       "stream": "stdout",
       "text": [
        "gen\tnevals\tmin        \n",
        "0  \t100   \t2.31857e+07\n",
        "1  \t86    \t2.31857e+07"
       ]
      },
      {
       "output_type": "stream",
       "stream": "stdout",
       "text": [
        "\n",
        "2  \t86    \t2.31857e+07"
       ]
      },
      {
       "output_type": "stream",
       "stream": "stdout",
       "text": [
        "\n",
        "3  \t86    \t1.82849e+07"
       ]
      },
      {
       "output_type": "stream",
       "stream": "stdout",
       "text": [
        "\n",
        "4  \t91    \t3.97191e+07"
       ]
      },
      {
       "output_type": "stream",
       "stream": "stdout",
       "text": [
        "\n",
        "5  \t82    \t3.18013e+07"
       ]
      },
      {
       "output_type": "stream",
       "stream": "stdout",
       "text": [
        "\n",
        "6  \t81    \t2.75858e+07"
       ]
      },
      {
       "output_type": "stream",
       "stream": "stdout",
       "text": [
        "\n",
        "7  \t88    \t5.17485e+07"
       ]
      },
      {
       "output_type": "stream",
       "stream": "stdout",
       "text": [
        "\n",
        "8  \t87    \t6.17761e+06"
       ]
      },
      {
       "output_type": "stream",
       "stream": "stdout",
       "text": [
        "\n",
        "9  \t91    \t3.698e+06  "
       ]
      },
      {
       "output_type": "stream",
       "stream": "stdout",
       "text": [
        "\n",
        "10 \t77    \t3.698e+06  "
       ]
      },
      {
       "output_type": "stream",
       "stream": "stdout",
       "text": [
        "\n"
       ]
      },
      {
       "metadata": {},
       "output_type": "pyout",
       "prompt_number": 21,
       "text": [
        "([array('d', [4137867.317523491, 1160145.4641895765, 4904665.611997226, -7666.695918824934, 10050.470908904499, 27682.800615375327]),\n",
        "  array('d', [4414505.9420186775, 1151068.8768505703, 5012216.745556769, -14621.042479808135, -2329.038443771553, 19141.04887521426]),\n",
        "  array('d', [3958131.6433827137, 1099120.2258027073, 4774418.712252127, -11904.997689969137, 28045.986291416808, 15841.62981540309]),\n",
        "  array('d', [3843808.8765820935, 973665.4851021875, 5041514.706242795, -15934.927486945742, -5192.504426370804, 1112.652651024433]),\n",
        "  array('d', [4172137.739213404, 1096021.9753262512, 4883676.3150937585, -6588.940736465415, 29378.46705990784, -11478.023074574194]),\n",
        "  array('d', [4394368.662883396, 621533.7670827804, 4900997.451566823, 6034.356157680304, -5130.938997308559, -12860.702687807256]),\n",
        "  array('d', [4120524.9387374776, 941048.1851351263, 4319111.949357632, 16845.428750814473, 918.4799165838044, 6182.221540103001]),\n",
        "  array('d', [4110561.9284719694, 883860.9636465254, 5021215.635437762, -24590.011440623817, 25630.843741174773, 22908.596437486485]),\n",
        "  array('d', [4121494.680188507, 829157.6693785299, 4974765.244479252, -4134.998100431996, -2892.159231169646, 207.75499814289216]),\n",
        "  array('d', [4061744.7295639096, 1098034.1643183078, 4853501.902091879, -24523.918183476282, 6267.1956462336575, 4204.873443418988]),\n",
        "  array('d', [4072648.152033373, 1074813.7568619633, 4858194.949510884, 22658.23875089926, -14002.589738643139, -10092.867258866898]),\n",
        "  array('d', [4176163.001193494, 1160365.919594941, 4898193.350616411, -1525.211383520193, 2464.6669561396093, 4065.1760652835237]),\n",
        "  array('d', [4016423.8335462017, 1202757.1407955268, 5148812.568195793, 1833.632410332596, 40666.48981341473, 4333.959346281313]),\n",
        "  array('d', [4218405.727569182, 1029120.566022396, 4692728.046714544, 14300.87246720423, 9191.153488718746, 21345.141351526763]),\n",
        "  array('d', [4113201.3189765364, 883024.1076631878, 5059965.947995951, 21142.771341577783, 2332.2006874625836, 15990.67915065738]),\n",
        "  array('d', [4009591.7220255486, 977564.8515417967, 5005369.760275285, -11578.936884002487, 10319.572820883088, 14818.221306682384]),\n",
        "  array('d', [4399940.061200378, 768998.3750550497, 4933222.634475312, 36428.69658253906, 10332.986540224134, 22619.20446195864]),\n",
        "  array('d', [4291189.758875628, 1268621.2008030803, 4739868.648771562, 10445.648681788363, 10630.062043043992, -2337.64526159906]),\n",
        "  array('d', [4153625.252516489, 947806.8320906992, 4885161.387807701, 35709.1792439589, 11147.320820011724, -6159.492785848135]),\n",
        "  array('d', [4288863.040563588, 1094711.5083466624, 4985808.852974163, 39318.19368815931, 18575.465579096483, -15068.627489637922]),\n",
        "  array('d', [4331690.489422136, 1197559.83285912, 4723235.520400437, 37316.624465198955, -23948.92958375221, -1867.9351466895596]),\n",
        "  array('d', [4176434.666388078, 1057879.3934314204, 4681768.964860847, 2883.2835757196826, 35059.715184149376, -16206.395618032295]),\n",
        "  array('d', [3807787.6249444713, 968653.0767982127, 4997625.372281561, 1556.8420526553016, -10719.051698702224, -16245.89782538207]),\n",
        "  array('d', [4046094.7604535217, 1055763.1739292333, 4975296.230980387, -2669.8532626062965, 32881.57490835065, -21404.277900875168]),\n",
        "  array('d', [4489220.743184906, 990725.1957132455, 4662206.699501999, -25314.643452732118, 15049.220924120118, -25490.19984264008]),\n",
        "  array('d', [3993333.3770722956, 1264777.6567468063, 4593718.684177169, 28145.991086171303, 17322.717202908367, -2990.288286813694]),\n",
        "  array('d', [3974596.9770550057, 813388.6084828733, 5135339.816841014, -18867.068971220993, -25693.648161126435, 20881.237946136614]),\n",
        "  array('d', [4209918.455932593, 1007993.686812977, 4908361.429011064, 29794.974408343904, -13765.51994052292, -20516.47349713804]),\n",
        "  array('d', [3800827.0629521688, 810403.0576572004, 4746308.0395987, 39069.80460665707, 15180.605927049954, -805.0161017022182]),\n",
        "  array('d', [4125544.329670662, 994245.0496825649, 5113209.437831046, -35204.112251198174, 23241.221406181365, 9927.272980000578]),\n",
        "  array('d', [4123017.0024767173, 1089812.5235407918, 5056637.03839164, -15595.407371724916, 215.17030476440448, -9331.26300667561]),\n",
        "  array('d', [4195900.503043536, 1184563.7038985484, 4704673.267237467, 44907.43622076874, -3818.5112618466023, -14317.916626712095]),\n",
        "  array('d', [3972828.1336209676, 911723.5559712945, 4602192.253734539, -7619.307547532924, -250.31770986582814, 39192.168644758916]),\n",
        "  array('d', [4128919.825055093, 817656.8147568393, 4868044.021643743, -23578.973877759145, 24222.003578175765, 25600.13186653162]),\n",
        "  array('d', [4054708.6123262015, 959154.6334181933, 5219399.135002862, -8040.712438489812, 55589.06122650689, 25798.88194869701]),\n",
        "  array('d', [4001652.0220674584, 1038094.0027912816, 5113221.084631428, -17754.45253024944, 32882.32377376334, 33592.33343550441]),\n",
        "  array('d', [4109721.708654515, 1023860.1451159947, 4618137.410074976, -42244.235261568385, 50075.39618655141, 3637.296042008847]),\n",
        "  array('d', [4374433.6044567935, 1196230.3484278747, 4971817.573196032, -29288.534993670783, 14915.444923923113, 48424.29500939838]),\n",
        "  array('d', [4106508.5185560514, 1153246.9971964639, 4570171.863127329, -15392.015584667868, 746.4520327449765, -21367.446900082312]),\n",
        "  array('d', [4676800.958986643, 1007175.0042989461, 4930703.923313557, -5783.459036026855, 24521.188091032567, -9705.238894763133]),\n",
        "  array('d', [4257634.547864468, 753132.7239728594, 5124248.671283983, 41709.10103043094, -25829.45955741785, -20139.380126200038]),\n",
        "  array('d', [4300855.321434561, 1014558.4218973052, 4814485.1665465245, 30427.12220551857, 34563.27279062477, 43755.91821771212]),\n",
        "  array('d', [3909506.737487145, 1183050.2473767141, 4979761.509857092, 21026.000285287042, -15901.969653182285, -14431.885937145065]),\n",
        "  array('d', [3939382.207689696, 1132943.3910653892, 5023523.3256548885, -20443.285668846285, -14260.524885884246, 17646.135908020056]),\n",
        "  array('d', [3913783.525073259, 1089822.9714677834, 4895714.702043547, -39352.85782198256, 9275.157230474897, -19706.185227441325]),\n",
        "  array('d', [4097476.5791717656, 1185677.611041326, 4816398.59743986, 17603.06440123951, 3274.3303602719902, 28553.74444617516]),\n",
        "  array('d', [3870801.759770071, 838282.5897400413, 4760838.9340494415, 22814.321635898646, 51989.964378038836, -21722.281418626193]),\n",
        "  array('d', [4090530.1435795682, 1028714.3662671559, 5107487.508934069, 26810.979069728663, -38420.135424968284, 13130.772837788143]),\n",
        "  array('d', [4033283.503155012, 1097201.733909372, 4958226.801230909, 28830.249019670096, 56114.18909058303, 1856.4823098703412]),\n",
        "  array('d', [4068657.813517098, 985393.0117289094, 4900948.647165855, 22807.770769361563, -14575.130135446792, 14118.40689247671]),\n",
        "  array('d', [4147044.377143328, 946293.1243913248, 4962450.665321714, 29587.106987010928, 22428.95218071101, -26592.972130652317]),\n",
        "  array('d', [4211491.973915836, 1240933.3700364796, 4920931.241123803, 16282.257432262748, 34501.48122048002, 17934.872022351876]),\n",
        "  array('d', [4056321.1318147983, 987657.0563625087, 4667873.924869376, -34788.19082691429, -10590.177462203697, 20964.145990113033]),\n",
        "  array('d', [3812013.298501252, 1049775.1382001445, 5082167.756509349, 22855.705312774604, -22338.184539963873, 2799.22588048779]),\n",
        "  array('d', [4174818.959202889, 903077.6425963584, 4577221.324158703, -515.7087785938178, -23980.358364288575, 26106.74940401284]),\n",
        "  array('d', [4004104.1928361715, 946699.4970524904, 4902681.339739945, 47206.83284335045, 17603.92850866076, 28772.507298391258]),\n",
        "  array('d', [4068353.191936115, 808796.2524115683, 4757650.295755155, 50929.589786314435, -15304.012247859519, -13620.447332574087]),\n",
        "  array('d', [4227733.825170062, 951441.8673006395, 4848943.651018183, 30390.867474451883, 12559.658703258969, -29731.737600031734]),\n",
        "  array('d', [4081304.819852844, 1159413.1725717736, 5105975.091263355, 26877.05742713549, 58801.09513861626, 153.18241137107896]),\n",
        "  array('d', [4208657.831148609, 1253636.5714205795, 4891644.464555447, 23483.373064339637, 34449.94962705173, 42451.62595977571]),\n",
        "  array('d', [3991181.458364596, 1129588.5293113824, 4986929.716174585, -50551.0428184209, 20648.844129116766, -12659.87025738537]),\n",
        "  array('d', [4133848.4728088942, 1431116.7793248757, 4922415.002376498, -17397.316492402668, 50048.81226176408, -18299.177333634896]),\n",
        "  array('d', [4159932.125800513, 833149.0066910882, 4962558.730308079, 18476.373964456066, 21700.293218791696, -16448.631324828053]),\n",
        "  array('d', [4104633.622239252, 1029608.8213156691, 4854716.258605589, -33868.9000131299, -14854.723448206674, -34374.750745267964]),\n",
        "  array('d', [3916107.863112715, 1088653.0375212252, 4923626.769240131, 15840.401406247716, 21516.665413059203, -33353.26582611093]),\n",
        "  array('d', [4140778.9186059064, 972919.1054837806, 5004638.248754356, 31051.074627923495, 12671.638239176506, -32613.730202224415]),\n",
        "  array('d', [4007511.982277207, 808277.3908997074, 4875513.640659081, -29817.415922759443, 39759.82563724727, 53002.53809623541]),\n",
        "  array('d', [4421954.042860855, 924496.8366860376, 4956017.09332323, 34121.11390156394, 30386.745428651106, -35226.366593366416]),\n",
        "  array('d', [4188678.1291667153, 746928.3605845837, 5016134.3519774, 58029.5200351511, -33388.75701879838, 8435.61043350444]),\n",
        "  array('d', [3952582.265715578, 700058.3255826561, 4814929.132103286, -1499.1633565706832, 49337.97099868769, 32265.2104830026]),\n",
        "  array('d', [3811352.848057181, 1328448.4112183056, 4953188.024094106, -34113.10686949617, 32979.002861811045, 13633.669510593883]),\n",
        "  array('d', [4037611.6054142406, 713595.2740474619, 4817499.782959113, -33163.24264920324, -43496.24105695555, 32020.722086402147]),\n",
        "  array('d', [3857924.3738755914, 1092458.75160769, 4880015.1900709765, 39458.903412323016, -27534.90935619948, -22321.165962781448]),\n",
        "  array('d', [4078957.3479068726, 873178.4187416194, 4860343.065788928, 37845.75181141195, 16654.1539357522, 23787.754838412362]),\n",
        "  array('d', [4130833.2439378332, 965864.3826582397, 5271818.820730863, -22602.061262250747, -47998.18434922394, 49988.15944921129]),\n",
        "  array('d', [3632899.9600850916, 853703.8251348861, 5028883.786467857, -5957.1207928447875, -51992.622603202566, 17164.53414645035]),\n",
        "  array('d', [4110934.04124203, 927968.2064378436, 4915312.038341578, 47230.40256273091, 25176.527500413096, -25547.076494681336]),\n",
        "  array('d', [4061305.6967554893, 947983.0407528904, 5122097.950257412, 44176.553118019496, -22682.372572206452, 42169.480217656295]),\n",
        "  array('d', [3865218.5158175193, 985139.1398000352, 4939248.142174771, -15752.15167522227, -28275.28902382822, 41974.53038860716]),\n",
        "  array('d', [3800989.927660175, 1055503.636594497, 5097178.35115176, 34750.68703215241, -27941.54000062693, -38553.832398790786]),\n",
        "  array('d', [3884871.6053550695, 1040503.489586826, 4752855.272623777, 7860.3342246235425, -45181.13480701258, 12168.730774717451]),\n",
        "  array('d', [4384537.751463984, 872400.5433970428, 5060374.814299288, -33991.07297012501, 72524.0507318868, 11820.099360814802]),\n",
        "  array('d', [4007490.3774564504, 934794.0431601614, 4972370.602882495, 17293.295021288955, 55406.3101340495, -34977.74767599866]),\n",
        "  array('d', [4001649.0093742656, 1084234.7014357646, 4862775.071260906, 48875.947056068835, 19208.866636255538, -29658.25406180971]),\n",
        "  array('d', [4017908.857681003, 1022196.2936948491, 4915795.872829743, 52079.34421543683, -5464.613653431789, -19822.722984558302]),\n",
        "  array('d', [4156200.6725169453, 1071060.3073916873, 4671002.175319199, 49974.224578334935, -34098.88410831271, -33146.44653517893]),\n",
        "  array('d', [4285331.065230983, 941970.7315058428, 4809214.104375325, -47237.87609514121, -35364.04329286534, 40373.88475796986]),\n",
        "  array('d', [3944334.0164409326, 1206700.1611903734, 4820888.263298957, 47529.260128277136, -41486.99841474986, -31007.610466204253]),\n",
        "  array('d', [4047812.7862359467, 883985.8312768458, 4928534.179344691, 65571.65674648552, -27977.15433256216, -26318.837338711695]),\n",
        "  array('d', [4037443.512218668, 857252.9873663731, 4764942.248273012, 5215.941711636228, -47413.42890493657, 59458.27837545082]),\n",
        "  array('d', [3844308.8951335317, 1006239.3628342876, 4781907.031443929, 58434.89701401474, 28628.400228180686, -46884.17460170256]),\n",
        "  array('d', [4230657.304868892, 997615.9487420507, 4825682.230829367, -46801.797570507806, -53863.04816577327, 38126.426165782745]),\n",
        "  array('d', [4008487.6137474095, 1005739.0500030497, 4996206.185730038, 53960.24932399191, 46739.073972626684, -48906.43194032388]),\n",
        "  array('d', [3927960.0387948565, 984121.6438368894, 4925170.335923579, -27512.833837580976, -55204.536913944736, -45592.02965475264]),\n",
        "  array('d', [3686372.6075520264, 775588.1660131442, 5180989.436314529, 53973.25251032691, -30627.278948538944, -33429.907099574746]),\n",
        "  array('d', [3613535.720639767, 1191806.9941751598, 4878220.756485048, 43549.36137815801, 46430.37849615289, -56457.2852972838]),\n",
        "  array('d', [4164248.711850397, 956970.92095753, 4924699.060043487, -6647.72166351239, -68470.30473986728, -36751.06174000739]),\n",
        "  array('d', [3978957.656746298, 1259703.0047979946, 5047959.010429183, 66771.9688836396, -50594.482761300955, 43628.598745089184]),\n",
        "  array('d', [3903857.521570817, 992740.4232023055, 4832947.288855926, 46322.24462672704, -62295.31893466441, 49601.38758581191]),\n",
        "  array('d', [3918677.770049601, 1009658.7917932562, 5028422.195877361, 63694.15805437874, -62326.138620484984, -8278.133632503374])],\n",
        " [{'gen': 0, 'min': 23185665.807306774, 'nevals': 100},\n",
        "  {'gen': 1, 'min': 23185665.807306774, 'nevals': 86},\n",
        "  {'gen': 2, 'min': 23185665.807306774, 'nevals': 86},\n",
        "  {'gen': 3, 'min': 18284930.146376371, 'nevals': 86},\n",
        "  {'gen': 4, 'min': 39719065.030932553, 'nevals': 91},\n",
        "  {'gen': 5, 'min': 31801334.718171239, 'nevals': 82},\n",
        "  {'gen': 6, 'min': 27585758.666783005, 'nevals': 81},\n",
        "  {'gen': 7, 'min': 51748519.165824294, 'nevals': 88},\n",
        "  {'gen': 8, 'min': 6177613.7295435118, 'nevals': 87},\n",
        "  {'gen': 9, 'min': 3697996.6284999973, 'nevals': 91},\n",
        "  {'gen': 10, 'min': 3697996.6284999973, 'nevals': 77}])"
       ]
      }
     ],
     "prompt_number": 21
    },
    {
     "cell_type": "code",
     "collapsed": false,
     "input": [
      "print hof"
     ],
     "language": "python",
     "metadata": {},
     "outputs": [
      {
       "output_type": "stream",
       "stream": "stdout",
       "text": [
        "[array('d', [4153208.436942277, 1179429.5690620984, 4814231.836072391, 35093.26272048812, 32218.053535814208, -13913.50436586378])]\n"
       ]
      }
     ],
     "prompt_number": 234
    },
    {
     "cell_type": "code",
     "collapsed": false,
     "input": [],
     "language": "python",
     "metadata": {},
     "outputs": [],
     "prompt_number": 169
    },
    {
     "cell_type": "code",
     "collapsed": false,
     "input": [],
     "language": "python",
     "metadata": {},
     "outputs": [],
     "prompt_number": 25
    },
    {
     "cell_type": "code",
     "collapsed": false,
     "input": [],
     "language": "python",
     "metadata": {},
     "outputs": []
    }
   ],
   "metadata": {}
  }
 ]
}