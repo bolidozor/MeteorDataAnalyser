{
 "cells": [
  {
   "cell_type": "markdown",
   "metadata": {},
   "source": [
    "Calculation of meteor trajectory from head-echo dopplers\n",
    "=======\n",
    "\n",
    "Theory is adopted from Christian Steyaert et. al. 2010\n"
   ]
  },
  {
   "cell_type": "code",
   "execution_count": null,
   "metadata": {},
   "outputs": [],
   "source": [
    "TMx = (x_M − x T )\n",
    "TMy = (y M − y T )\n",
    "TMz = (z M − z T )"
   ]
  },
  {
   "cell_type": "code",
   "execution_count": 8,
   "metadata": {},
   "outputs": [],
   "source": [
    "import pylab\n",
    "f = pylab.figure()"
   ]
  },
  {
   "cell_type": "code",
   "execution_count": 2,
   "metadata": {},
   "outputs": [
    {
     "data": {
      "text/plain": [
       "[<matplotlib.lines.Line2D at 0x7ffb3ddb0898>]"
      ]
     },
     "execution_count": 2,
     "metadata": {},
     "output_type": "execute_result"
    }
   ],
   "source": [
    "pylab.plot([1,2,3], [1,2,4], 'go-', label='line 1', linewidth=2)\n",
    "pylab.plot([1,2,3], [1,2,2], 'bo-', label='line 1', linewidth=2)"
   ]
  },
  {
   "cell_type": "code",
   "execution_count": 3,
   "metadata": {},
   "outputs": [
    {
     "data": {
      "image/png": "[encoded data removed]",
      "text/plain": [
       "<matplotlib.figure.Figure at 0x7ffb64d40fd0>"
      ]
     },
     "metadata": {},
     "output_type": "display_data"
    }
   ],
   "source": [
    "pylab.show()"
   ]
  },
  {
   "cell_type": "markdown",
   "metadata": {},
   "source": [
    "Head Echo doppler function \n",
    "======="
   ]
  },
  {
   "cell_type": "markdown",
   "metadata": {},
   "source": [
    "The equation is  obtained from publication at http://adsabs.harvard.edu/abs/1998JIMO...26..117R (1998)"
   ]
  },
  {
   "cell_type": "code",
   "execution_count": 1,
   "metadata": {},
   "outputs": [],
   "source": [
    "from sympy import symbols, sign, sqrt\n",
    "from sympy.plotting import plot\n",
    "t, f0, c, vm, r0 = symbols('t f_0 c v_m r_0')"
   ]
  },
  {
   "cell_type": "code",
   "execution_count": 2,
   "metadata": {},
   "outputs": [],
   "source": [
    "delta_f = - sign(t) * sqrt(((2*f0)/c)**2 * (vm**2)/(r0**2/(vm**2 * t**2) + 1) )"
   ]
  },
  {
   "cell_type": "code",
   "execution_count": 3,
   "metadata": {},
   "outputs": [
    {
     "data": {
      "text/plain": [
       "-1947.56457926124"
      ]
     },
     "execution_count": 3,
     "metadata": {},
     "output_type": "execute_result"
    }
   ],
   "source": [
    "delta_f.subs([(f0,55.260e6),(c,3e8),(vm,40e3),(r0,300e3), (t,1)])"
   ]
  },
  {
   "cell_type": "code",
   "execution_count": 4,
   "metadata": {},
   "outputs": [
    {
     "data": {
      "image/png": "[encoded data removed]",
      "text/plain": [
       "<matplotlib.figure.Figure at 0x7f6026fd84e0>"
      ]
     },
     "metadata": {},
     "output_type": "display_data"
    },
    {
     "data": {
      "text/plain": [
       "<sympy.plotting.plot.Plot at 0x7f6026fd8978>"
      ]
     },
     "execution_count": 4,
     "metadata": {},
     "output_type": "execute_result"
    }
   ],
   "source": [
    "plot(delta_f.subs([(f0,55.260e6),(c,3e8),(vm,40e3),(r0,300e3)]), (t, -10, 10))"
   ]
  },
  {
   "cell_type": "code",
   "execution_count": null,
   "metadata": {},
   "outputs": [],
   "source": []
  },
  {
   "cell_type": "markdown",
   "metadata": {},
   "source": [
    "## Artificial meteor generator"
   ]
  },
  {
   "cell_type": "code",
   "execution_count": 26,
   "metadata": {},
   "outputs": [],
   "source": [
    "%matplotlib inline\n",
    "\n",
    "from mpl_toolkits.mplot3d.axes3d import Axes3D\n",
    "import matplotlib.pyplot as plt\n",
    "import numpy as np\n",
    "import scipy\n",
    "import scipy.constants\n",
    "from scipy.optimize import minimize\n",
    "from scipy.interpolate import interp1d, UnivariateSpline\n",
    "from Geocentric import Geocentric\n",
    "geoC = Geocentric(6378137, 6356752.314)"
   ]
  },
  {
   "cell_type": "markdown",
   "metadata": {},
   "source": [
    "Generate Artificial meteor for algorithm testing"
   ]
  },
  {
   "cell_type": "code",
   "execution_count": 77,
   "metadata": {},
   "outputs": [],
   "source": [
    "c = scipy.constants.c\n",
    "f0 = 143050000\n",
    "trans_station_point = np.array(geoC.GeographicToGeocentric(47.347993, 5.515079, 190))\n",
    "t = 0.01"
   ]
  },
  {
   "cell_type": "code",
   "execution_count": 78,
   "metadata": {},
   "outputs": [],
   "source": [
    "#Artificial meteors coordinates:\n",
    "\n",
    "ZHR = 1\n",
    "\n",
    "met_start_altitude = np.random.normal(100e3,20e3,ZHR)\n",
    "met_stop_altitude = np.random.normal(60e3,20e3,ZHR)\n",
    "\n",
    "met_start_lat = np.random.normal(49,1,ZHR)  \n",
    "met_start_lon = np.random.normal(11,1,ZHR)\n",
    "\n",
    "met_stop_lat = np.random.normal(49,1,ZHR) \n",
    "met_stop_lon = np.random.normal(11,1,ZHR)\n",
    "\n",
    "met_velocity = np.random.normal(50000,20000,ZHR)\n",
    "timesteps = np.arange(-10,10,t)"
   ]
  },
  {
   "cell_type": "code",
   "execution_count": 109,
   "metadata": {},
   "outputs": [],
   "source": [
    "if True:\n",
    "    met_start_altitude = np.array([80000.0])\n",
    "    met_stop_altitude = np.array([45000.0])\n",
    "\n",
    "    met_start_lat = np.array([48.340593635025])\n",
    "    met_start_lon = np.array([6.572188010297])\n",
    "\n",
    "    met_stop_lat = np.array([49.52717828089])\n",
    "    met_stop_lon = np.array([6.763558272451])\n",
    "\n",
    "    met_velocity = np.random.normal(50000,20000,ZHR)\n",
    "    met_velocity = np.array([24000])\n",
    "    timesteps = np.arange(-10,10,t)\n",
    "\n",
    "    \n",
    "if False:\n",
    "    met_start_altitude = np.array([80000.0])\n",
    "    met_stop_altitude = np.array([45000.0])\n",
    "\n",
    "    met_start_lat = np.array([50.340593635025])\n",
    "    met_start_lon = np.array([12.572188010297])\n",
    "\n",
    "    met_stop_lat = np.array([48.52717828089])\n",
    "    met_stop_lon = np.array([6.763558272451])\n",
    "\n",
    "    met_velocity = np.random.normal(50000,20000,ZHR)\n",
    "    met_velocity = np.array([35000])\n",
    "    timesteps = np.arange(-15,15,t)\n",
    "\n",
    "if False:#2017388\n",
    "    multibolid_id = 2017388\n",
    "    met_start_altitude = np.array([60000.0])\n",
    "    met_stop_altitude = np.array([8910.7633450924])\n",
    "\n",
    "    met_stop_lon = np.array([6.512636353428])\n",
    "    met_stop_lat = np.array([51.944553218498])\n",
    "    \n",
    "    met_start_lon = np.array([9.996094184309])\n",
    "    met_start_lat = np.array([51.230870109095])\n",
    "    \n",
    "    met_velocity = np.array([32000])\n",
    "    \n",
    "    \n",
    "    \n",
    "if True:\n",
    "    met_start_altitude = np.array([80000.0])\n",
    "    met_stop_altitude = np.array([45000.0])\n",
    "\n",
    "    met_start_lat = np.array([46])\n",
    "    met_start_lon = np.array([10])\n",
    "\n",
    "    met_stop_lat = np.array([50])\n",
    "    met_stop_lon = np.array([8])\n",
    "\n",
    "    met_velocity = np.array([35000])\n",
    "    timesteps = np.arange(-10,10,t)\n",
    "    \n",
    "    \n",
    "if True:\n",
    "    met_start_altitude = np.array([80000.0])\n",
    "    met_stop_altitude = np.array([45000.0])\n",
    "    \n",
    "    met_start_lat = np.array([50])\n",
    "    met_start_lon = np.array([8])\n",
    "\n",
    "    met_stop_lat = np.array([46])\n",
    "    met_stop_lon = np.array([10])\n",
    "    \n",
    "if True:\n",
    "    met_start_altitude = np.array([80000.0])\n",
    "    met_stop_altitude = np.array([45000.0])\n",
    "\n",
    "    met_start_lat = np.array([50])\n",
    "    met_start_lon = np.array([5])\n",
    "\n",
    "    met_stop_lat = np.array([51])\n",
    "    met_stop_lon = np.array([16])\n",
    "\n",
    "    met_velocity = np.array([35000])\n",
    "    timesteps = np.arange(-10,10,t)\n",
    "    \n",
    "    \n",
    "if True:\n",
    "    met_start_altitude = np.array([80000.0])\n",
    "    met_stop_altitude = np.array([45000.0])\n",
    "\n",
    "    met_start_lat = np.array([51])\n",
    "    met_start_lon = np.array([16])\n",
    "    met_stop_lat = np.array([50])\n",
    "    met_stop_lon = np.array([5])\n",
    "\n",
    "    met_velocity = np.array([35000])\n",
    "    timesteps = np.arange(-10,10,t)\n",
    "\n",
    "\n",
    "    met_velocity = np.array([35000])\n",
    "    timesteps = np.arange(-10,10,t)"
   ]
  },
  {
   "cell_type": "code",
   "execution_count": 110,
   "metadata": {},
   "outputs": [],
   "source": [
    "def estimate_dopplers(trajectory, timesteps, f0, trans_station, rec_station):\n",
    "    '''\n",
    "        Returns array of dopplers for given transmitter to receiver position and defined frequency and known trajectory.\n",
    "    '''\n",
    "    rec_to_met = np.empty([trajectory.shape[0], 1])\n",
    "    trans_to_met = np.empty([trajectory.shape[0], 1])\n",
    "    doppler = np.empty([trajectory.shape[0], 2])\n",
    "    \n",
    "    previous_rec_to_met = np.linalg.norm(rec_station - trajectory[0])\n",
    "    previous_trans_to_met = np.linalg.norm(trans_station - trajectory[0])\n",
    "    \n",
    "    t = timesteps[1] - timesteps[0]\n",
    "    \n",
    "    for i in range(trajectory.shape[0]):\n",
    "        rec_to_met[i] = np.linalg.norm(rec_station - trajectory[i])\n",
    "        trans_to_met[i] = np.linalg.norm(trans_station - trajectory[i])\n",
    "        \n",
    "        #print(rec_to_met[i], trans_to_met[i])\n",
    "    \n",
    "        met_trans_speed = previous_trans_to_met - trans_to_met[i]\n",
    "        previous_trans_to_met = trans_to_met[i]\n",
    "        speed = met_trans_speed/t    \n",
    "        f1 = ((c + speed)/c * f0)\n",
    "        \n",
    "        met_rec_speed = previous_rec_to_met - rec_to_met[i]    ## calculate bistatic velocity from known position\n",
    "        previous_rec_to_met = rec_to_met[i]\n",
    "        speed = met_rec_speed/t\n",
    "        f2 = (c/(c - speed) * f1)\n",
    "        doppler[i] = np.array([timesteps[i], f2-f0])\n",
    "    return doppler"
   ]
  },
  {
   "cell_type": "code",
   "execution_count": 111,
   "metadata": {},
   "outputs": [],
   "source": [
    "def estimate_dopplers2(trajectory, timesteps, f0, trans_station, rec_station):\n",
    "    # alternative algorithm\n",
    "    '''\n",
    "        Returns array of dopplers for given transmitter to receiver position and defined frequency and known trajectory.\n",
    "    '''\n",
    "   \n",
    "    doppler = np.empty([trajectory.shape[0], 2])\n",
    "    t = timesteps[1] - timesteps[0]\n",
    "    \n",
    "    for i in range(trajectory.shape[0]):\n",
    "        try: \n",
    "            # angle transmitter - meteor - reciever\n",
    "            ba = trans_station-trajectory[i]\n",
    "            bc = rec_station-trajectory[i]\n",
    "            TMR = np.arccos(np.dot(ba, bc) / (np.linalg.norm(ba) * np.linalg.norm(bc)))\n",
    "\n",
    "            # angle trajectory - meteor - reciever\n",
    "            ba = trajectory[i+1]-trajectory[i]\n",
    "            bc = rec_station-trajectory[i]\n",
    "            VMR = np.arccos(np.dot(ba, bc) / (np.linalg.norm(ba) * np.linalg.norm(bc)))\n",
    "\n",
    "            # angle trajectory - meteor - axis (of angle transmitter-meter-reciever)\n",
    "            VMA = VMR-TMR/2\n",
    "            # radial speed of meteor to axis of TMR angle (Transmitter - meteor - reciever)\n",
    "            radial_speed = np.cos(VMA)*(np.linalg.norm(trajectory[i]-trajectory[i+1])/t)\n",
    "            doppler_offset = (radial_speed/c)*f0\n",
    "            \n",
    "        except Exception:\n",
    "            pass\n",
    "        \n",
    "        doppler[i] = np.array([timesteps[i], doppler_offset])\n",
    "    return doppler"
   ]
  },
  {
   "cell_type": "markdown",
   "metadata": {},
   "source": [
    "Define Bolidozor network station. List may be updated from space.astro.cz server according to stored data."
   ]
  },
  {
   "cell_type": "code",
   "execution_count": 112,
   "metadata": {},
   "outputs": [],
   "source": [
    "stations = []\n",
    "#stations.append({'name': 'Zebrak','latitude':49.8736, 'longitude':13.8986,'elevation':400, 'status': 'operational', 'type': 'receiver'})\n",
    "#stations.append({'name': 'uFlu','latitude':50.0795, 'longitude':14.4891,'elevation':400, 'status': 'operational', 'type': 'receiver'})\n",
    "stations.append({'name': 'OBSUPICE','latitude':50.5067,'longitude':16.0115,'elevation':400, 'status': 'operational', 'type': 'receiver'})\n",
    "stations.append({'name': 'SVAKOV','latitude':49.2607,'longitude':14.6917,'elevation':400, 'status': 'operational', 'type': 'receiver'})\n",
    "stations.append({'name': 'ZVPP','latitude':48.9869,'longitude':14.4675,'elevation':400, 'status': 'operational', 'type': 'receiver'})\n",
    "#stations.append({'name': 'BPB','latitude':48.653153,'longitude':17.537413,'elevation':400, 'status': 'testing', 'type': 'receiver'})\n",
    "#stations.append({'name': 'HPHK','latitude':50.1772,'longitude':15.8386,'elevation':400, 'status': 'testing', 'type': 'receiver'})\n",
    "#stations.append({'name': 'OBSJAROMER','latitude':50.351397,'longitude':15.915878,'elevation':400, 'status': 'testing', 'type': 'receiver'})\n",
    "stations.append({'name': 'JHRADEC','latitude':49.1314,'longitude': 14.9999,'elevation':400, 'status': 'operational', 'type': 'receiver'})\n",
    "#stations.append({'name': 'VALMEZ','latitude':49.463038,'longitude': 17.973544,'elevation':400, 'status': 'testing', 'type': 'receiver'})\n",
    "#stations.append({'name': 'NACHODSKO','latitude':50.409407,'longitude':15.414812,'elevation':400, 'status': 'operational', 'type': 'receiver'})\n",
    "#stations.append({'name': 'GERM1','latitude':50.409407,'longitude':10.414812,'elevation':400, 'status': 'operational', 'type': 'receiver'})\n",
    "#stations.append({'name': 'GERM2','latitude':50.009407,'longitude':9.414812,'elevation':400, 'status': 'operational', 'type': 'receiver'})\n",
    "#stations.append({'name': 'IT1','latitude':45.409407,'longitude':10.414812,'elevation':400, 'status': 'operational', 'type': 'receiver'})\n",
    "\n",
    "stations.append({'name': 'TREBIC','latitude':49.2071,'longitude':15.8759,'elevation':480, 'status': 'operational', 'type': 'receiver'})\n"
   ]
  },
  {
   "cell_type": "code",
   "execution_count": 113,
   "metadata": {},
   "outputs": [
    {
     "name": "stdout",
     "output_type": "stream",
     "text": [
      "Using matplotlib backend: TkAgg\n",
      "vector [ 3914619.34236496  1122499.03342533  4995716.29687602] [ 4121047.80062862   360544.96440345  4897261.03738143] [-206428.45826367  761954.06902188   98455.25949459]\n"
     ]
    }
   ],
   "source": [
    "# compute dopplers for multiple stations\n",
    "\n",
    "\n",
    "from Geocentric import Geocentric\n",
    "geoC = Geocentric(6378137, 6356752.314)\n",
    "\n",
    "%matplotlib\n",
    "fig, ax1 = plt.subplots(figsize=(9, 7))\n",
    "ax1.set_title('Meteor Dopplers at multiple Bolidozor stations')\n",
    "ax1.set_ylabel('Doppler [Hz]')\n",
    "ax1.set_xlabel('Time [s]')\n",
    "ax1.grid(True)\n",
    "\n",
    "meteor_dopplers = [1,2]\n",
    "met_points = np.empty([timesteps.size, 3])\n",
    "\n",
    "for meteor in range(ZHR):\n",
    "    \n",
    "    # get meteor vector from start and stop point\n",
    "    met_start_point = np.array(geoC.GeographicToGeocentric(met_start_lat[meteor], met_start_lon[meteor], met_start_altitude[meteor]))\n",
    "    met_stop_point = np.array(geoC.GeographicToGeocentric(met_stop_lat[meteor], met_stop_lon[meteor], met_stop_altitude[meteor]))\n",
    "    met_vect = met_start_point - met_stop_point\n",
    "    print(\"vector\", met_start_point, met_stop_point, met_vect)\n",
    "\n",
    "    for i in range(timesteps.size):  # generate points on artifitial meteor trajectory (discretize in space)\n",
    "        met_points[i] =  met_start_point + (met_vect/np.linalg.norm(met_vect) * (timesteps[i] * met_velocity[meteor]))\n",
    "    \n",
    "    for station in stations:\n",
    "        rec_station_point = np.array(geoC.GeographicToGeocentric(station['latitude'], station['longitude'], station['elevation']))\n",
    "        \n",
    "        doppler = estimate_dopplers(met_points, timesteps, f0, trans_station_point, rec_station_point)\n",
    "        doppler2 = estimate_dopplers2(met_points, timesteps, f0, trans_station_point, rec_station_point)\n",
    "             \n",
    "        meteor_dopplers[meteor] = doppler\n",
    "        #dopp_freq = np.vectorize(lambda x: (x+13250.0))\n",
    "\n",
    "        plt.plot(doppler[1:,0], doppler[1:,1], label=station['name'] if meteor == 0 else \"\")\n",
    "        plt.plot(doppler2[1:,0], doppler2[1:,1], '--', label=station['name']+\" alg2\" if meteor == 0 else \"\")\n",
    "    \n",
    "    plt.legend(loc=1)\n",
    "    plt.xlabel(\"Relative time [s]\")\n",
    "    plt.ylabel(\"Doppler shift [Hz]\")\n"
   ]
  },
  {
   "cell_type": "markdown",
   "metadata": {},
   "source": [
    "Plot artifitial meteor trajectory points"
   ]
  },
  {
   "cell_type": "code",
   "execution_count": 114,
   "metadata": {},
   "outputs": [
    {
     "data": {
      "text/plain": [
       "5"
      ]
     },
     "execution_count": 114,
     "metadata": {},
     "output_type": "execute_result"
    }
   ],
   "source": [
    "len(stations)"
   ]
  },
  {
   "cell_type": "code",
   "execution_count": 120,
   "metadata": {},
   "outputs": [
    {
     "name": "stderr",
     "output_type": "stream",
     "text": [
      "/usr/local/lib/python3.5/dist-packages/matplotlib/__init__.py:800: MatplotlibDeprecationWarning: axes.color_cycle is deprecated and replaced with axes.prop_cycle; please use the latter.\n",
      "  mplDeprecation)\n",
      "/usr/local/lib/python3.5/dist-packages/mpl_toolkits/basemap/__init__.py:1704: MatplotlibDeprecationWarning: The axesPatch function was deprecated in version 2.1. Use Axes.patch instead.\n",
      "  limb = ax.axesPatch\n",
      "/usr/local/lib/python3.5/dist-packages/mpl_toolkits/basemap/__init__.py:1707: MatplotlibDeprecationWarning: The axesPatch function was deprecated in version 2.1. Use Axes.patch instead.\n",
      "  if limb is not ax.axesPatch:\n",
      "/usr/local/lib/python3.5/dist-packages/matplotlib/cbook/deprecation.py:106: MatplotlibDeprecationWarning: The set_color_cycle attribute was deprecated in version 1.5. Use set_prop_cycle instead.\n",
      "  warnings.warn(message, mplDeprecation, stacklevel=1)\n"
     ]
    }
   ],
   "source": [
    "\n",
    "from mpltools import style\n",
    "from mpltools import layout\n",
    "import matplotlib.pyplot as plt\n",
    "\n",
    "\n",
    "style.use('ggplot')\n",
    "\n",
    "from mpl_toolkits.basemap import Basemap\n",
    "\n",
    "land_color = 'lightgray'\n",
    "water_color = 'lightblue'\n",
    "\n",
    "fig, ax = plt.subplots(figsize=(20,20))\n",
    "map = Basemap(projection='merc', llcrnrlat=45, urcrnrlat=55,\n",
    "            llcrnrlon=5, urcrnrlon=25, resolution='i',area_thresh = 50)\n",
    "\n",
    "land_color = 'lightgray'\n",
    "water_color = 'lightblue'\n",
    "\n",
    "map.fillcontinents(color=land_color, lake_color=water_color)\n",
    "map.drawcoastlines()\n",
    "map.drawcountries()\n",
    "#map.drawparallels(np.arange(-90.,120.,30.))\n",
    "#map.drawmeridians(np.arange(0.,420.,60.))\n",
    "map.drawmapboundary(fill_color=water_color)\n",
    "ax.set_title('Bolidozor network')\n",
    "\n",
    "#x, y = map(np.array(near_transmitters.longitude_deg), np.array(near_transmitters.latitude_deg))\n",
    "#map.plot(x, y, marker='o', markersize=6, markerfacecolor='red', linewidth=0)\n",
    "\n",
    "colors = plt.get_cmap('jet')(np.linspace(0, 1.0, len(stations)))\n",
    "ax.set_color_cycle(colors)\n",
    "for station in stations:\n",
    "    station_latitude = station['latitude']\n",
    "    station_longitude = station['longitude']\n",
    "    x, y = map(station_longitude, station_latitude)\n",
    "    \n",
    "    map.plot(x, y, marker='o', markersize=8, linewidth=0, label=station['name'])\n",
    "plt.legend(numpoints=1,loc='best')\n",
    "\n",
    "map.drawgreatcircle(met_start_lon, met_start_lat, met_stop_lon, met_stop_lat,linewidth=2,color='green')\n",
    "\n",
    "map.ax = ax\n"
   ]
  },
  {
   "cell_type": "code",
   "execution_count": 39,
   "metadata": {},
   "outputs": [
    {
     "name": "stdout",
     "output_type": "stream",
     "text": [
      "Using matplotlib backend: TkAgg\n"
     ]
    }
   ],
   "source": [
    "%matplotlib\n",
    "fig = plt.figure()\n",
    "ax = plt.axes(projection='3d')\n",
    "ax.scatter(met_points[:,0], met_points[:,1], met_points[:,2])\n",
    "for station in stations:\n",
    "    rec_station_point = np.array(geoC.GeographicToGeocentric(station['latitude'], station['longitude'], station['elevation']))\n",
    "    ax.scatter(rec_station_point[0], rec_station_point[1], rec_station_point[2])\n"
   ]
  },
  {
   "cell_type": "markdown",
   "metadata": {},
   "source": [
    "Compute difference between of estimated trajectory dopplers and \"real\" simulated trajectory."
   ]
  },
  {
   "cell_type": "code",
   "execution_count": 40,
   "metadata": {},
   "outputs": [],
   "source": [
    "\"\"\"\n",
    "Make virtual artificial meteor report from a model trajectory. \n",
    "\n",
    "\"\"\"\n",
    "\n",
    "meteor_data = doppler[1:,0]\n",
    "\n",
    "doppler_min = -500.0\n",
    "doppler_max = 500.0\n",
    "\n",
    "for station in stations:\n",
    "    rec_station_point = np.array(geoC.GeographicToGeocentric(station['latitude'], station['longitude'], station['elevation']))\n",
    "    dopplers = estimate_dopplers(met_points, timesteps, f0, trans_station_point, rec_station_point)\n",
    "    indexes = np.where(np.logical_and(dopplers[1:,1] > doppler_min, dopplers[1:,1] < doppler_max ))\n",
    "    station['doppler'] = np.concatenate((np.take(dopplers[1:,0], indexes), np.take(dopplers[1:,1], indexes)), axis = 0).T\n",
    "#    met_doppler_function = interp1d(station['doppler'][:,1], station['doppler'][:,0]) # make interpolation function of measured dopplers. \n",
    "#    station['PCA_time'] = float(met_doppler_function(0)) # Get point of the closest approach time\n",
    "    "
   ]
  },
  {
   "cell_type": "code",
   "execution_count": 41,
   "metadata": {},
   "outputs": [],
   "source": [
    "outfile = \"station_data\" \n",
    "np.savez(outfile, timesteps=timesteps, stations=stations)"
   ]
  },
  {
   "cell_type": "code",
   "execution_count": null,
   "metadata": {},
   "outputs": [],
   "source": []
  },
  {
   "cell_type": "code",
   "execution_count": 42,
   "metadata": {},
   "outputs": [
    {
     "name": "stdout",
     "output_type": "stream",
     "text": [
      "Using matplotlib backend: TkAgg\n"
     ]
    },
    {
     "ename": "NameError",
     "evalue": "name 'error_func' is not defined",
     "output_type": "error",
     "traceback": [
      "\u001b[0;31m---------------------------------------------------------------------------\u001b[0m",
      "\u001b[0;31mNameError\u001b[0m                                 Traceback (most recent call last)",
      "\u001b[0;32m<ipython-input-42-e4525ed7870e>\u001b[0m in \u001b[0;36m<module>\u001b[0;34m()\u001b[0m\n\u001b[1;32m     21\u001b[0m         \u001b[0mmet_points\u001b[0m\u001b[0;34m[\u001b[0m\u001b[0mi\u001b[0m\u001b[0;34m]\u001b[0m \u001b[0;34m=\u001b[0m  \u001b[0mmet_start_point\u001b[0m \u001b[0;34m+\u001b[0m \u001b[0;34m(\u001b[0m\u001b[0mmet_vect\u001b[0m \u001b[0;34m*\u001b[0m \u001b[0mtimesteps\u001b[0m\u001b[0;34m[\u001b[0m\u001b[0mi\u001b[0m\u001b[0;34m]\u001b[0m\u001b[0;34m)\u001b[0m\u001b[0;34m\u001b[0m\u001b[0m\n\u001b[1;32m     22\u001b[0m \u001b[0;34m\u001b[0m\u001b[0m\n\u001b[0;32m---> 23\u001b[0;31m     \u001b[0mdoppler_deviations\u001b[0m \u001b[0;34m=\u001b[0m \u001b[0merror_func\u001b[0m\u001b[0;34m(\u001b[0m\u001b[0mmake_meteor\u001b[0m\u001b[0;34m(\u001b[0m\u001b[0;34m)\u001b[0m\u001b[0;34m,\u001b[0m \u001b[0mtimesteps\u001b[0m\u001b[0;34m,\u001b[0m \u001b[0mstations\u001b[0m\u001b[0;34m)\u001b[0m\u001b[0;34m\u001b[0m\u001b[0m\n\u001b[0m\u001b[1;32m     24\u001b[0m \u001b[0;34m\u001b[0m\u001b[0m\n\u001b[1;32m     25\u001b[0m     \u001b[0;32mfor\u001b[0m \u001b[0mstation\u001b[0m \u001b[0;32min\u001b[0m \u001b[0mdoppler_deviations\u001b[0m\u001b[0;34m:\u001b[0m\u001b[0;34m\u001b[0m\u001b[0m\n",
      "\u001b[0;31mNameError\u001b[0m: name 'error_func' is not defined"
     ]
    }
   ],
   "source": [
    "%matplotlib\n",
    "fig, ax1 = plt.subplots(figsize=(9, 7))\n",
    "ax1.set_title('Errors of estimated trajectory doppler time over all Bolidozor stations data')\n",
    "ax1.set_ylabel('Time error [s]')\n",
    "ax1.set_xlabel('Number of records')\n",
    "\n",
    "meteor_dopplers = [1,2]\n",
    "\n",
    "met_points = np.empty([timesteps.size, 3])\n",
    "\n",
    "\n",
    "for meteor in range(ZHR):\n",
    "    \n",
    "    # get meteor vector from start and stop point\n",
    "    met_start_point = np.array(geoC.GeographicToGeocentric(met_start_lat[meteor], met_start_lon[meteor], met_start_altitude[meteor]))\n",
    "    met_stop_point = np.array(geoC.GeographicToGeocentric(met_stop_lat[meteor], met_stop_lon[meteor], met_stop_altitude[meteor]))\n",
    "    met_vect = met_start_point - met_stop_point\n",
    "    met_speed_vect = met_vect/np.linalg.norm(met_vect) * met_velocity[meteor]\n",
    "    \n",
    "    for i in range(timesteps.size):  # generate points on meteor trajectory (discretize in space)\n",
    "        met_points[i] =  met_start_point + (met_vect * timesteps[i])\n",
    "    \n",
    "    doppler_deviations = error_func(make_meteor(), timesteps, stations)\n",
    "    \n",
    "    for station in doppler_deviations:\n",
    "        plt.plot(doppler_deviations[station][:] , label=station if meteor == 0 else \"\")\n",
    "    plt.legend(loc=1)"
   ]
  },
  {
   "cell_type": "code",
   "execution_count": null,
   "metadata": {},
   "outputs": [],
   "source": []
  },
  {
   "cell_type": "markdown",
   "metadata": {},
   "source": [
    "## Meteor parameters Estimator"
   ]
  },
  {
   "cell_type": "code",
   "execution_count": 43,
   "metadata": {},
   "outputs": [],
   "source": [
    "def make_meteor():\n",
    "    ## initial meteor trajectory guess \n",
    "    est_start_altitude = np.random.normal(100e3,20e3,1)\n",
    "    est_stop_altitude = np.random.normal(60e3,20e3,1)\n",
    "    \n",
    "    est_start_lat = np.random.normal(49,2,1)  \n",
    "    est_start_lon = np.random.normal(11,2,1)\n",
    "    \n",
    "    est_stop_lat = np.random.normal(49,2,1) \n",
    "    est_stop_lon = np.random.normal(11,2,1)\n",
    "    \n",
    "    est_velocity = np.random.normal(50000,20000,1)\n",
    "\n",
    "    est_start_point = np.array(geoC.GeographicToGeocentric(est_start_lat, est_start_lon, est_start_altitude))\n",
    "    est_stop_point = np.array(geoC.GeographicToGeocentric(est_stop_lat, est_stop_lon, est_stop_altitude))\n",
    "    est_vect = est_start_point - est_stop_point\n",
    "    est_speed_vect = est_vect/np.linalg.norm(est_vect) * est_velocity\n",
    "    est_params = np.concatenate((est_start_point.ravel(), est_speed_vect.ravel()), axis=1)\n",
    "    return est_params\n"
   ]
  },
  {
   "cell_type": "code",
   "execution_count": 44,
   "metadata": {},
   "outputs": [],
   "source": [
    "def error_func(est_params, timesteps, stations):\n",
    "    \"\"\"\n",
    "    Returns time difference between real and estimated meteor trajectory dopplers\n",
    "    \"\"\"\n",
    "    from Geocentric import Geocentric\n",
    "    geoC = Geocentric(6378137, 6356752.314)\n",
    "    \n",
    "    est_start_point = est_params[0:3]\n",
    "    est_vect = est_params[3:6]\n",
    "    est_points = np.empty([timesteps.size, 3])\n",
    "    \n",
    "    for i in range(timesteps.size):  # generate points of estimated meteor trajectory\n",
    "        est_points[i] =  est_start_point + (est_vect * timesteps[i])\n",
    "\n",
    "    doppler_deviations = {}\n",
    "    for station in stations:\n",
    "        doppler_deviation = np.zeros(station['doppler'].shape[0])\n",
    "        rec_station_point = np.array(geoC.GeographicToGeocentric(station['latitude'], station['longitude'], station['elevation']))\n",
    "        est_doppler = estimate_dopplers(est_points, timesteps, f0, trans_station_point, rec_station_point)\n",
    "        est_doppler_function = UnivariateSpline(est_doppler[1:,1], est_doppler[1:,0]) # make interpolation function of estimated dopplers. \n",
    "\n",
    "        for i in range(station['doppler'].shape[0]):  \n",
    "            doppler_deviation[i] = (station['doppler'][:,0][i] - est_doppler_function(station['doppler'][:,1][i]))**2\n",
    "        \n",
    "        doppler_deviations[station['name']] = doppler_deviation\n",
    "        \n",
    "    return doppler_deviations\n"
   ]
  },
  {
   "cell_type": "code",
   "execution_count": 45,
   "metadata": {},
   "outputs": [],
   "source": [
    "def station_errors(met_params, timesteps, stations):\n",
    "    \"\"\"\n",
    "    Calculate total error value of estimated meteor params to every station signal. \n",
    "    \"\"\"    \n",
    "    doppler_errors = error_func(met_params, timesteps, stations)\n",
    "    total_deviation = []\n",
    "    for station in doppler_errors:\n",
    "        total_deviation.append(np.sum(doppler_errors[station]))\n",
    "    return total_deviation"
   ]
  },
  {
   "cell_type": "markdown",
   "metadata": {},
   "source": [
    "### Gradient method of trajectory search"
   ]
  },
  {
   "cell_type": "code",
   "execution_count": 46,
   "metadata": {},
   "outputs": [],
   "source": [
    "def total_error(est_params, timesteps, stations_data):\n",
    "    return np.sum(station_errors(est_params, timesteps, stations)[5]) ## test to match meteor to one station\n",
    "#    return station_errors(est_params, timesteps, stations)"
   ]
  },
  {
   "cell_type": "code",
   "execution_count": 47,
   "metadata": {},
   "outputs": [],
   "source": [
    "def find_trajectory(timesteps,stations_data):\n",
    "    ## initial meteor trajectory guess \n",
    "\n",
    "    est_params = make_meteor()\n",
    "    res = minimize(total_error, est_params, args = (timesteps, stations_data,), method = 'Nelder-Mead', options = {'disp': True, 'maxfev': 1e10, 'maxiter': 1e10, 'ftol': 1e-6})\n",
    "    return res"
   ]
  },
  {
   "cell_type": "code",
   "execution_count": 176,
   "metadata": {},
   "outputs": [
    {
     "ename": "AxisError",
     "evalue": "axis 1 is out of bounds for array of dimension 1",
     "output_type": "error",
     "traceback": [
      "\u001b[0;31m---------------------------------------------------------------------------\u001b[0m",
      "\u001b[0;31mAxisError\u001b[0m                                 Traceback (most recent call last)",
      "\u001b[0;32m<ipython-input-176-248e8cefa42a>\u001b[0m in \u001b[0;36m<module>\u001b[0;34m()\u001b[0m\n\u001b[0;32m----> 1\u001b[0;31m \u001b[0mres\u001b[0m \u001b[0;34m=\u001b[0m \u001b[0mfind_trajectory\u001b[0m\u001b[0;34m(\u001b[0m\u001b[0mtimesteps\u001b[0m\u001b[0;34m,\u001b[0m \u001b[0mstations\u001b[0m\u001b[0;34m)\u001b[0m\u001b[0;34m\u001b[0m\u001b[0m\n\u001b[0m",
      "\u001b[0;32m<ipython-input-175-ada96a56f050>\u001b[0m in \u001b[0;36mfind_trajectory\u001b[0;34m(timesteps, stations_data)\u001b[0m\n\u001b[1;32m      2\u001b[0m     \u001b[0;31m## initial meteor trajectory guess\u001b[0m\u001b[0;34m\u001b[0m\u001b[0;34m\u001b[0m\u001b[0m\n\u001b[1;32m      3\u001b[0m \u001b[0;34m\u001b[0m\u001b[0m\n\u001b[0;32m----> 4\u001b[0;31m     \u001b[0mest_params\u001b[0m \u001b[0;34m=\u001b[0m \u001b[0mmake_meteor\u001b[0m\u001b[0;34m(\u001b[0m\u001b[0;34m)\u001b[0m\u001b[0;34m\u001b[0m\u001b[0m\n\u001b[0m\u001b[1;32m      5\u001b[0m     \u001b[0mres\u001b[0m \u001b[0;34m=\u001b[0m \u001b[0mminimize\u001b[0m\u001b[0;34m(\u001b[0m\u001b[0mtotal_error\u001b[0m\u001b[0;34m,\u001b[0m \u001b[0mest_params\u001b[0m\u001b[0;34m,\u001b[0m \u001b[0margs\u001b[0m \u001b[0;34m=\u001b[0m \u001b[0;34m(\u001b[0m\u001b[0mtimesteps\u001b[0m\u001b[0;34m,\u001b[0m \u001b[0mstations_data\u001b[0m\u001b[0;34m,\u001b[0m\u001b[0;34m)\u001b[0m\u001b[0;34m,\u001b[0m \u001b[0mmethod\u001b[0m \u001b[0;34m=\u001b[0m \u001b[0;34m'Nelder-Mead'\u001b[0m\u001b[0;34m,\u001b[0m \u001b[0moptions\u001b[0m \u001b[0;34m=\u001b[0m \u001b[0;34m{\u001b[0m\u001b[0;34m'disp'\u001b[0m\u001b[0;34m:\u001b[0m \u001b[0;32mTrue\u001b[0m\u001b[0;34m,\u001b[0m \u001b[0;34m'maxfev'\u001b[0m\u001b[0;34m:\u001b[0m \u001b[0;36m1e10\u001b[0m\u001b[0;34m,\u001b[0m \u001b[0;34m'maxiter'\u001b[0m\u001b[0;34m:\u001b[0m \u001b[0;36m1e10\u001b[0m\u001b[0;34m,\u001b[0m \u001b[0;34m'ftol'\u001b[0m\u001b[0;34m:\u001b[0m \u001b[0;36m1e-6\u001b[0m\u001b[0;34m}\u001b[0m\u001b[0;34m)\u001b[0m\u001b[0;34m\u001b[0m\u001b[0m\n\u001b[1;32m      6\u001b[0m     \u001b[0;32mreturn\u001b[0m \u001b[0mres\u001b[0m\u001b[0;34m\u001b[0m\u001b[0m\n",
      "\u001b[0;32m<ipython-input-171-3fb9fc3ea62d>\u001b[0m in \u001b[0;36mmake_meteor\u001b[0;34m()\u001b[0m\n\u001b[1;32m     16\u001b[0m     \u001b[0mest_vect\u001b[0m \u001b[0;34m=\u001b[0m \u001b[0mest_start_point\u001b[0m \u001b[0;34m-\u001b[0m \u001b[0mest_stop_point\u001b[0m\u001b[0;34m\u001b[0m\u001b[0m\n\u001b[1;32m     17\u001b[0m     \u001b[0mest_speed_vect\u001b[0m \u001b[0;34m=\u001b[0m \u001b[0mest_vect\u001b[0m\u001b[0;34m/\u001b[0m\u001b[0mnp\u001b[0m\u001b[0;34m.\u001b[0m\u001b[0mlinalg\u001b[0m\u001b[0;34m.\u001b[0m\u001b[0mnorm\u001b[0m\u001b[0;34m(\u001b[0m\u001b[0mest_vect\u001b[0m\u001b[0;34m)\u001b[0m \u001b[0;34m*\u001b[0m \u001b[0mest_velocity\u001b[0m\u001b[0;34m\u001b[0m\u001b[0m\n\u001b[0;32m---> 18\u001b[0;31m     \u001b[0mest_params\u001b[0m \u001b[0;34m=\u001b[0m \u001b[0mnp\u001b[0m\u001b[0;34m.\u001b[0m\u001b[0mconcatenate\u001b[0m\u001b[0;34m(\u001b[0m\u001b[0;34m(\u001b[0m\u001b[0mest_start_point\u001b[0m\u001b[0;34m.\u001b[0m\u001b[0mravel\u001b[0m\u001b[0;34m(\u001b[0m\u001b[0;34m)\u001b[0m\u001b[0;34m,\u001b[0m \u001b[0mest_speed_vect\u001b[0m\u001b[0;34m.\u001b[0m\u001b[0mravel\u001b[0m\u001b[0;34m(\u001b[0m\u001b[0;34m)\u001b[0m\u001b[0;34m)\u001b[0m\u001b[0;34m,\u001b[0m \u001b[0maxis\u001b[0m\u001b[0;34m=\u001b[0m\u001b[0;36m1\u001b[0m\u001b[0;34m)\u001b[0m\u001b[0;34m\u001b[0m\u001b[0m\n\u001b[0m\u001b[1;32m     19\u001b[0m     \u001b[0;32mreturn\u001b[0m \u001b[0mest_params\u001b[0m\u001b[0;34m\u001b[0m\u001b[0m\n",
      "\u001b[0;31mAxisError\u001b[0m: axis 1 is out of bounds for array of dimension 1"
     ]
    }
   ],
   "source": [
    "res = find_trajectory(timesteps, stations)"
   ]
  },
  {
   "cell_type": "code",
   "execution_count": 177,
   "metadata": {},
   "outputs": [
    {
     "ename": "NameError",
     "evalue": "name 'res' is not defined",
     "output_type": "error",
     "traceback": [
      "\u001b[0;31m---------------------------------------------------------------------------\u001b[0m",
      "\u001b[0;31mNameError\u001b[0m                                 Traceback (most recent call last)",
      "\u001b[0;32m<ipython-input-177-da6bdddbf3e3>\u001b[0m in \u001b[0;36m<module>\u001b[0;34m()\u001b[0m\n\u001b[0;32m----> 1\u001b[0;31m \u001b[0mout3\u001b[0m \u001b[0;34m=\u001b[0m \u001b[0mres\u001b[0m\u001b[0;34m\u001b[0m\u001b[0m\n\u001b[0m",
      "\u001b[0;31mNameError\u001b[0m: name 'res' is not defined"
     ]
    }
   ],
   "source": [
    "out3 = res"
   ]
  },
  {
   "cell_type": "code",
   "execution_count": 178,
   "metadata": {},
   "outputs": [
    {
     "ename": "NameError",
     "evalue": "name 'out3' is not defined",
     "output_type": "error",
     "traceback": [
      "\u001b[0;31m---------------------------------------------------------------------------\u001b[0m",
      "\u001b[0;31mNameError\u001b[0m                                 Traceback (most recent call last)",
      "\u001b[0;32m<ipython-input-178-f0e88bc64535>\u001b[0m in \u001b[0;36m<module>\u001b[0;34m()\u001b[0m\n\u001b[0;32m----> 1\u001b[0;31m \u001b[0mout3\u001b[0m\u001b[0;34m\u001b[0m\u001b[0m\n\u001b[0m",
      "\u001b[0;31mNameError\u001b[0m: name 'out3' is not defined"
     ]
    }
   ],
   "source": [
    "out3"
   ]
  },
  {
   "cell_type": "code",
   "execution_count": 179,
   "metadata": {},
   "outputs": [
    {
     "ename": "NameError",
     "evalue": "name 'out2' is not defined",
     "output_type": "error",
     "traceback": [
      "\u001b[0;31m---------------------------------------------------------------------------\u001b[0m",
      "\u001b[0;31mNameError\u001b[0m                                 Traceback (most recent call last)",
      "\u001b[0;32m<ipython-input-179-ac5b6ee6812d>\u001b[0m in \u001b[0;36m<module>\u001b[0;34m()\u001b[0m\n\u001b[0;32m----> 1\u001b[0;31m \u001b[0mout2\u001b[0m\u001b[0;34m\u001b[0m\u001b[0m\n\u001b[0m",
      "\u001b[0;31mNameError\u001b[0m: name 'out2' is not defined"
     ]
    }
   ],
   "source": [
    "out2"
   ]
  },
  {
   "cell_type": "code",
   "execution_count": 180,
   "metadata": {},
   "outputs": [
    {
     "ename": "NameError",
     "evalue": "name 'out1' is not defined",
     "output_type": "error",
     "traceback": [
      "\u001b[0;31m---------------------------------------------------------------------------\u001b[0m",
      "\u001b[0;31mNameError\u001b[0m                                 Traceback (most recent call last)",
      "\u001b[0;32m<ipython-input-180-e2928c8d2378>\u001b[0m in \u001b[0;36m<module>\u001b[0;34m()\u001b[0m\n\u001b[0;32m----> 1\u001b[0;31m \u001b[0mout1\u001b[0m\u001b[0;34m\u001b[0m\u001b[0m\n\u001b[0m",
      "\u001b[0;31mNameError\u001b[0m: name 'out1' is not defined"
     ]
    }
   ],
   "source": [
    "out1"
   ]
  },
  {
   "cell_type": "code",
   "execution_count": 181,
   "metadata": {},
   "outputs": [
    {
     "ename": "NameError",
     "evalue": "name 'out3' is not defined",
     "output_type": "error",
     "traceback": [
      "\u001b[0;31m---------------------------------------------------------------------------\u001b[0m",
      "\u001b[0;31mNameError\u001b[0m                                 Traceback (most recent call last)",
      "\u001b[0;32m<ipython-input-181-affdfb0debf2>\u001b[0m in \u001b[0;36m<module>\u001b[0;34m()\u001b[0m\n\u001b[0;32m----> 1\u001b[0;31m \u001b[0mest_params\u001b[0m \u001b[0;34m=\u001b[0m \u001b[0mout3\u001b[0m\u001b[0;34m[\u001b[0m\u001b[0;34m'x'\u001b[0m\u001b[0;34m]\u001b[0m\u001b[0;34m\u001b[0m\u001b[0m\n\u001b[0m",
      "\u001b[0;31mNameError\u001b[0m: name 'out3' is not defined"
     ]
    }
   ],
   "source": [
    "est_params = out3['x']"
   ]
  },
  {
   "cell_type": "code",
   "execution_count": 182,
   "metadata": {},
   "outputs": [
    {
     "ename": "NameError",
     "evalue": "name 'est_params' is not defined",
     "output_type": "error",
     "traceback": [
      "\u001b[0;31m---------------------------------------------------------------------------\u001b[0m",
      "\u001b[0;31mNameError\u001b[0m                                 Traceback (most recent call last)",
      "\u001b[0;32m<ipython-input-182-b0c74a863c35>\u001b[0m in \u001b[0;36m<module>\u001b[0;34m()\u001b[0m\n\u001b[0;32m----> 1\u001b[0;31m \u001b[0mest_params\u001b[0m\u001b[0;34m\u001b[0m\u001b[0m\n\u001b[0m",
      "\u001b[0;31mNameError\u001b[0m: name 'est_params' is not defined"
     ]
    }
   ],
   "source": [
    "est_params"
   ]
  },
  {
   "cell_type": "markdown",
   "metadata": {},
   "source": [
    "## Precision Analysis"
   ]
  },
  {
   "cell_type": "code",
   "execution_count": 183,
   "metadata": {},
   "outputs": [
    {
     "ename": "NameError",
     "evalue": "name 'est_params' is not defined",
     "output_type": "error",
     "traceback": [
      "\u001b[0;31m---------------------------------------------------------------------------\u001b[0m",
      "\u001b[0;31mNameError\u001b[0m                                 Traceback (most recent call last)",
      "\u001b[0;32m<ipython-input-183-4200e563bb33>\u001b[0m in \u001b[0;36m<module>\u001b[0;34m()\u001b[0m\n\u001b[0;32m----> 1\u001b[0;31m \u001b[0mest_start_point\u001b[0m \u001b[0;34m=\u001b[0m \u001b[0mest_params\u001b[0m\u001b[0;34m[\u001b[0m\u001b[0;36m0\u001b[0m\u001b[0;34m:\u001b[0m\u001b[0;36m3\u001b[0m\u001b[0;34m]\u001b[0m\u001b[0;34m\u001b[0m\u001b[0m\n\u001b[0m\u001b[1;32m      2\u001b[0m \u001b[0mest_vect\u001b[0m \u001b[0;34m=\u001b[0m \u001b[0mest_params\u001b[0m\u001b[0;34m[\u001b[0m\u001b[0;36m3\u001b[0m\u001b[0;34m:\u001b[0m\u001b[0;36m6\u001b[0m\u001b[0;34m]\u001b[0m\u001b[0;34m\u001b[0m\u001b[0m\n\u001b[1;32m      3\u001b[0m \u001b[0mest_points\u001b[0m \u001b[0;34m=\u001b[0m \u001b[0mnp\u001b[0m\u001b[0;34m.\u001b[0m\u001b[0mempty\u001b[0m\u001b[0;34m(\u001b[0m\u001b[0;34m[\u001b[0m\u001b[0mtimesteps\u001b[0m\u001b[0;34m.\u001b[0m\u001b[0msize\u001b[0m\u001b[0;34m,\u001b[0m \u001b[0;36m3\u001b[0m\u001b[0;34m]\u001b[0m\u001b[0;34m)\u001b[0m\u001b[0;34m\u001b[0m\u001b[0m\n\u001b[1;32m      4\u001b[0m \u001b[0;34m\u001b[0m\u001b[0m\n\u001b[1;32m      5\u001b[0m \u001b[0;32mfor\u001b[0m \u001b[0mi\u001b[0m \u001b[0;32min\u001b[0m \u001b[0mrange\u001b[0m\u001b[0;34m(\u001b[0m\u001b[0mtimesteps\u001b[0m\u001b[0;34m.\u001b[0m\u001b[0msize\u001b[0m\u001b[0;34m)\u001b[0m\u001b[0;34m:\u001b[0m  \u001b[0;31m# generate points on meteor trajectory (discretize in space)\u001b[0m\u001b[0;34m\u001b[0m\u001b[0m\n",
      "\u001b[0;31mNameError\u001b[0m: name 'est_params' is not defined"
     ]
    }
   ],
   "source": [
    "est_start_point = est_params[0:3]\n",
    "est_vect = est_params[3:6]\n",
    "est_points = np.empty([timesteps.size, 3])\n",
    "\n",
    "for i in range(timesteps.size):  # generate points on meteor trajectory (discretize in space)\n",
    "    est_points[i] =  est_start_point + (est_vect * timesteps[i])"
   ]
  },
  {
   "cell_type": "code",
   "execution_count": 184,
   "metadata": {},
   "outputs": [
    {
     "name": "stdout",
     "output_type": "stream",
     "text": [
      "Using matplotlib backend: TkAgg\n"
     ]
    },
    {
     "ename": "NameError",
     "evalue": "name 'est_points' is not defined",
     "output_type": "error",
     "traceback": [
      "\u001b[0;31m---------------------------------------------------------------------------\u001b[0m",
      "\u001b[0;31mNameError\u001b[0m                                 Traceback (most recent call last)",
      "\u001b[0;32m<ipython-input-184-e9b18bd2a44d>\u001b[0m in \u001b[0;36m<module>\u001b[0;34m()\u001b[0m\n\u001b[1;32m      7\u001b[0m \u001b[0max\u001b[0m\u001b[0;34m.\u001b[0m\u001b[0mset_zlabel\u001b[0m\u001b[0;34m(\u001b[0m\u001b[0;34m'Position [m]'\u001b[0m\u001b[0;34m)\u001b[0m\u001b[0;34m\u001b[0m\u001b[0m\n\u001b[1;32m      8\u001b[0m \u001b[0max\u001b[0m\u001b[0;34m.\u001b[0m\u001b[0mscatter\u001b[0m\u001b[0;34m(\u001b[0m\u001b[0mmet_points\u001b[0m\u001b[0;34m[\u001b[0m\u001b[0;34m:\u001b[0m\u001b[0;34m,\u001b[0m\u001b[0;36m0\u001b[0m\u001b[0;34m]\u001b[0m\u001b[0;34m,\u001b[0m \u001b[0mmet_points\u001b[0m\u001b[0;34m[\u001b[0m\u001b[0;34m:\u001b[0m\u001b[0;34m,\u001b[0m\u001b[0;36m1\u001b[0m\u001b[0;34m]\u001b[0m\u001b[0;34m,\u001b[0m \u001b[0mmet_points\u001b[0m\u001b[0;34m[\u001b[0m\u001b[0;34m:\u001b[0m\u001b[0;34m,\u001b[0m\u001b[0;36m2\u001b[0m\u001b[0;34m]\u001b[0m\u001b[0;34m,\u001b[0m \u001b[0mcolor\u001b[0m \u001b[0;34m=\u001b[0m \u001b[0;34m'b'\u001b[0m\u001b[0;34m,\u001b[0m \u001b[0mlabel\u001b[0m\u001b[0;34m=\u001b[0m \u001b[0;34m\"Real\"\u001b[0m\u001b[0;34m)\u001b[0m\u001b[0;34m\u001b[0m\u001b[0m\n\u001b[0;32m----> 9\u001b[0;31m \u001b[0max\u001b[0m\u001b[0;34m.\u001b[0m\u001b[0mscatter\u001b[0m\u001b[0;34m(\u001b[0m\u001b[0mest_points\u001b[0m\u001b[0;34m[\u001b[0m\u001b[0;34m:\u001b[0m\u001b[0;34m,\u001b[0m\u001b[0;36m0\u001b[0m\u001b[0;34m]\u001b[0m\u001b[0;34m,\u001b[0m \u001b[0mest_points\u001b[0m\u001b[0;34m[\u001b[0m\u001b[0;34m:\u001b[0m\u001b[0;34m,\u001b[0m\u001b[0;36m1\u001b[0m\u001b[0;34m]\u001b[0m\u001b[0;34m,\u001b[0m \u001b[0mest_points\u001b[0m\u001b[0;34m[\u001b[0m\u001b[0;34m:\u001b[0m\u001b[0;34m,\u001b[0m\u001b[0;36m2\u001b[0m\u001b[0;34m]\u001b[0m\u001b[0;34m,\u001b[0m \u001b[0mcolor\u001b[0m \u001b[0;34m=\u001b[0m \u001b[0;34m'r'\u001b[0m\u001b[0;34m,\u001b[0m \u001b[0mlabel\u001b[0m\u001b[0;34m=\u001b[0m \u001b[0;34m\"Estimated\"\u001b[0m\u001b[0;34m)\u001b[0m\u001b[0;34m\u001b[0m\u001b[0m\n\u001b[0m\u001b[1;32m     10\u001b[0m \u001b[0;32mfor\u001b[0m \u001b[0mstation\u001b[0m \u001b[0;32min\u001b[0m \u001b[0mstations\u001b[0m\u001b[0;34m:\u001b[0m\u001b[0;34m\u001b[0m\u001b[0m\n\u001b[1;32m     11\u001b[0m     \u001b[0mrec_station_point\u001b[0m \u001b[0;34m=\u001b[0m \u001b[0mnp\u001b[0m\u001b[0;34m.\u001b[0m\u001b[0marray\u001b[0m\u001b[0;34m(\u001b[0m\u001b[0mgeoC\u001b[0m\u001b[0;34m.\u001b[0m\u001b[0mGeographicToGeocentric\u001b[0m\u001b[0;34m(\u001b[0m\u001b[0mstation\u001b[0m\u001b[0;34m[\u001b[0m\u001b[0;34m'latitude'\u001b[0m\u001b[0;34m]\u001b[0m\u001b[0;34m,\u001b[0m \u001b[0mstation\u001b[0m\u001b[0;34m[\u001b[0m\u001b[0;34m'longitude'\u001b[0m\u001b[0;34m]\u001b[0m\u001b[0;34m,\u001b[0m \u001b[0mstation\u001b[0m\u001b[0;34m[\u001b[0m\u001b[0;34m'elevation'\u001b[0m\u001b[0;34m]\u001b[0m\u001b[0;34m)\u001b[0m\u001b[0;34m)\u001b[0m\u001b[0;34m\u001b[0m\u001b[0m\n",
      "\u001b[0;31mNameError\u001b[0m: name 'est_points' is not defined"
     ]
    }
   ],
   "source": [
    "%matplotlib\n",
    "fig = plt.figure()\n",
    "ax = plt.axes(projection='3d')\n",
    "ax.set_title('Meteor Trajectories')\n",
    "ax.set_ylabel('Position [m]')\n",
    "ax.set_xlabel('Position [m]')\n",
    "ax.set_zlabel('Position [m]')\n",
    "ax.scatter(met_points[:,0], met_points[:,1], met_points[:,2], color = 'b', label= \"Real\")\n",
    "ax.scatter(est_points[:,0], est_points[:,1], est_points[:,2], color = 'r', label= \"Estimated\")\n",
    "for station in stations:\n",
    "    rec_station_point = np.array(geoC.GeographicToGeocentric(station['latitude'], station['longitude'], station['elevation']))\n",
    "    ax.scatter(rec_station_point[0], rec_station_point[1], rec_station_point[2])\n"
   ]
  },
  {
   "cell_type": "code",
   "execution_count": 185,
   "metadata": {},
   "outputs": [
    {
     "name": "stdout",
     "output_type": "stream",
     "text": [
      "Using matplotlib backend: TkAgg\n"
     ]
    }
   ],
   "source": [
    "%matplotlib\n",
    "fig = plt.figure()\n",
    "ax = plt.axes(projection='3d')\n",
    "ax.scatter(met_points[:,0], met_points[:,1], met_points[:,2])\n",
    "for station in stations:\n",
    "    rec_station_point = np.array(geoC.GeographicToGeocentric(station['latitude'], station['longitude'], station['elevation']))\n",
    "    ax.scatter(rec_station_point[0], rec_station_point[1], rec_station_point[2])"
   ]
  },
  {
   "cell_type": "code",
   "execution_count": 186,
   "metadata": {},
   "outputs": [
    {
     "name": "stdout",
     "output_type": "stream",
     "text": [
      "Using matplotlib backend: TkAgg\n"
     ]
    },
    {
     "ename": "NameError",
     "evalue": "name 'est_points' is not defined",
     "output_type": "error",
     "traceback": [
      "\u001b[0;31m---------------------------------------------------------------------------\u001b[0m",
      "\u001b[0;31mNameError\u001b[0m                                 Traceback (most recent call last)",
      "\u001b[0;32m<ipython-input-186-3f92b0ec136f>\u001b[0m in \u001b[0;36m<module>\u001b[0;34m()\u001b[0m\n\u001b[1;32m     10\u001b[0m \u001b[0;34m\u001b[0m\u001b[0m\n\u001b[1;32m     11\u001b[0m     \u001b[0;31m#doppler_met = estimate_dopplers(met_points, f0, trans_station_point, rec_station_point)\u001b[0m\u001b[0;34m\u001b[0m\u001b[0;34m\u001b[0m\u001b[0m\n\u001b[0;32m---> 12\u001b[0;31m     \u001b[0mdoppler_est\u001b[0m \u001b[0;34m=\u001b[0m \u001b[0mestimate_dopplers\u001b[0m\u001b[0;34m(\u001b[0m\u001b[0mest_points\u001b[0m\u001b[0;34m,\u001b[0m \u001b[0mtimesteps\u001b[0m\u001b[0;34m,\u001b[0m \u001b[0mf0\u001b[0m\u001b[0;34m,\u001b[0m \u001b[0mtrans_station_point\u001b[0m\u001b[0;34m,\u001b[0m \u001b[0mrec_station_point\u001b[0m\u001b[0;34m)\u001b[0m\u001b[0;34m\u001b[0m\u001b[0m\n\u001b[0m\u001b[1;32m     13\u001b[0m \u001b[0;34m\u001b[0m\u001b[0m\n\u001b[1;32m     14\u001b[0m \u001b[0;31m#    plt.plot(station['doppler'][:,0], station['doppler'][:,1], label=station['name'] if meteor == 0 else \"\", color = 'b')\u001b[0m\u001b[0;34m\u001b[0m\u001b[0;34m\u001b[0m\u001b[0m\n",
      "\u001b[0;31mNameError\u001b[0m: name 'est_points' is not defined"
     ]
    }
   ],
   "source": [
    "%matplotlib\n",
    "fig, ax1 = plt.subplots(figsize=(9, 7))\n",
    "ax1.set_title('Dopplers of estimated  meteor trajectory')\n",
    "ax1.set_ylabel('Doppler [Hz]')\n",
    "ax1.set_xlabel('Time [s]')\n",
    "\n",
    "    \n",
    "for station in stations:\n",
    "    rec_station_point = np.array(geoC.GeographicToGeocentric(station['latitude'], station['longitude'], station['elevation']))\n",
    "\n",
    "    #doppler_met = estimate_dopplers(met_points, f0, trans_station_point, rec_station_point)\n",
    "    doppler_est = estimate_dopplers(est_points, timesteps, f0, trans_station_point, rec_station_point)\n",
    "\n",
    "#    plt.plot(station['doppler'][:,0], station['doppler'][:,1], label=station['name'] if meteor == 0 else \"\", color = 'b')\n",
    "    plt.plot(station['doppler'][:,0], station['doppler'][:,1], label=station['name'] if meteor == 0 else \"\")\n",
    "    plt.plot(doppler_est[1:,0], doppler_est[1:,1], color = 'r')\n",
    "    \n",
    "plt.legend(loc=1)"
   ]
  },
  {
   "cell_type": "code",
   "execution_count": 187,
   "metadata": {},
   "outputs": [],
   "source": [
    "data_file = np.load(\"station_data.npz\")\n",
    "timesteps = data_file['timesteps']\n",
    "stations = data_file['stations']"
   ]
  },
  {
   "cell_type": "code",
   "execution_count": null,
   "metadata": {},
   "outputs": [],
   "source": []
  },
  {
   "cell_type": "code",
   "execution_count": 188,
   "metadata": {},
   "outputs": [
    {
     "ename": "SyntaxError",
     "evalue": "Missing parentheses in call to 'print' (<ipython-input-188-ff2a0489729d>, line 1)",
     "output_type": "error",
     "traceback": [
      "\u001b[0;36m  File \u001b[0;32m\"<ipython-input-188-ff2a0489729d>\"\u001b[0;36m, line \u001b[0;32m1\u001b[0m\n\u001b[0;31m    print hof\u001b[0m\n\u001b[0m            ^\u001b[0m\n\u001b[0;31mSyntaxError\u001b[0m\u001b[0;31m:\u001b[0m Missing parentheses in call to 'print'\n"
     ]
    }
   ],
   "source": [
    "print hof"
   ]
  },
  {
   "cell_type": "code",
   "execution_count": 189,
   "metadata": {},
   "outputs": [
    {
     "ename": "SyntaxError",
     "evalue": "Missing parentheses in call to 'print' (<ipython-input-189-ff2a0489729d>, line 1)",
     "output_type": "error",
     "traceback": [
      "\u001b[0;36m  File \u001b[0;32m\"<ipython-input-189-ff2a0489729d>\"\u001b[0;36m, line \u001b[0;32m1\u001b[0m\n\u001b[0;31m    print hof\u001b[0m\n\u001b[0m            ^\u001b[0m\n\u001b[0;31mSyntaxError\u001b[0m\u001b[0;31m:\u001b[0m Missing parentheses in call to 'print'\n"
     ]
    }
   ],
   "source": [
    "print hof"
   ]
  },
  {
   "cell_type": "code",
   "execution_count": 190,
   "metadata": {},
   "outputs": [
    {
     "ename": "NameError",
     "evalue": "name 'hof' is not defined",
     "output_type": "error",
     "traceback": [
      "\u001b[0;31m---------------------------------------------------------------------------\u001b[0m",
      "\u001b[0;31mNameError\u001b[0m                                 Traceback (most recent call last)",
      "\u001b[0;32m<ipython-input-190-4fd6fbb6f39d>\u001b[0m in \u001b[0;36m<module>\u001b[0;34m()\u001b[0m\n\u001b[0;32m----> 1\u001b[0;31m \u001b[0mest_params\u001b[0m \u001b[0;34m=\u001b[0m \u001b[0mnp\u001b[0m\u001b[0;34m.\u001b[0m\u001b[0marray\u001b[0m\u001b[0;34m(\u001b[0m\u001b[0mhof\u001b[0m\u001b[0;34m[\u001b[0m\u001b[0;36m0\u001b[0m\u001b[0;34m]\u001b[0m\u001b[0;34m)\u001b[0m\u001b[0;34m\u001b[0m\u001b[0m\n\u001b[0m",
      "\u001b[0;31mNameError\u001b[0m: name 'hof' is not defined"
     ]
    }
   ],
   "source": [
    "est_params = np.array(hof[0])"
   ]
  },
  {
   "cell_type": "code",
   "execution_count": 191,
   "metadata": {},
   "outputs": [
    {
     "ename": "NameError",
     "evalue": "name 'est_params' is not defined",
     "output_type": "error",
     "traceback": [
      "\u001b[0;31m---------------------------------------------------------------------------\u001b[0m",
      "\u001b[0;31mNameError\u001b[0m                                 Traceback (most recent call last)",
      "\u001b[0;32m<ipython-input-191-b0c74a863c35>\u001b[0m in \u001b[0;36m<module>\u001b[0;34m()\u001b[0m\n\u001b[0;32m----> 1\u001b[0;31m \u001b[0mest_params\u001b[0m\u001b[0;34m\u001b[0m\u001b[0m\n\u001b[0m",
      "\u001b[0;31mNameError\u001b[0m: name 'est_params' is not defined"
     ]
    }
   ],
   "source": [
    "est_params"
   ]
  },
  {
   "cell_type": "code",
   "execution_count": 192,
   "metadata": {},
   "outputs": [
    {
     "ename": "TypeError",
     "evalue": "data type not understood",
     "output_type": "error",
     "traceback": [
      "\u001b[0;31m---------------------------------------------------------------------------\u001b[0m",
      "\u001b[0;31mTypeError\u001b[0m                                 Traceback (most recent call last)",
      "\u001b[0;32m<ipython-input-192-35293f1d9bcc>\u001b[0m in \u001b[0;36m<module>\u001b[0;34m()\u001b[0m\n\u001b[0;32m----> 1\u001b[0;31m \u001b[0mest_params\u001b[0m \u001b[0;34m=\u001b[0m \u001b[0marray\u001b[0m\u001b[0;34m(\u001b[0m\u001b[0;34m'd'\u001b[0m\u001b[0;34m,\u001b[0m \u001b[0;34m[\u001b[0m\u001b[0;36m4054680.0680794725\u001b[0m\u001b[0;34m,\u001b[0m \u001b[0;36m1080843.3217390168\u001b[0m\u001b[0;34m,\u001b[0m \u001b[0;36m4911049.2573404275\u001b[0m\u001b[0;34m,\u001b[0m \u001b[0;34m-\u001b[0m\u001b[0;36m4949.93417629765\u001b[0m\u001b[0;34m,\u001b[0m \u001b[0;36m41461.15462661179\u001b[0m\u001b[0;34m,\u001b[0m \u001b[0;34m-\u001b[0m\u001b[0;36m6000.00731814691\u001b[0m\u001b[0;34m]\u001b[0m\u001b[0;34m)\u001b[0m\u001b[0;34m\u001b[0m\u001b[0m\n\u001b[0m",
      "\u001b[0;31mTypeError\u001b[0m: data type not understood"
     ]
    }
   ],
   "source": [
    "est_params = array('d', [4054680.0680794725, 1080843.3217390168, 4911049.2573404275, -4949.93417629765, 41461.15462661179, -6000.00731814691])"
   ]
  },
  {
   "cell_type": "code",
   "execution_count": 193,
   "metadata": {},
   "outputs": [
    {
     "ename": "NameError",
     "evalue": "name 'est_params' is not defined",
     "output_type": "error",
     "traceback": [
      "\u001b[0;31m---------------------------------------------------------------------------\u001b[0m",
      "\u001b[0;31mNameError\u001b[0m                                 Traceback (most recent call last)",
      "\u001b[0;32m<ipython-input-193-87f555fec211>\u001b[0m in \u001b[0;36m<module>\u001b[0;34m()\u001b[0m\n\u001b[0;32m----> 1\u001b[0;31m \u001b[0mnp\u001b[0m\u001b[0;34m.\u001b[0m\u001b[0msum\u001b[0m\u001b[0;34m(\u001b[0m\u001b[0mstation_errors\u001b[0m\u001b[0;34m(\u001b[0m\u001b[0mest_params\u001b[0m\u001b[0;34m,\u001b[0m \u001b[0mtimesteps\u001b[0m\u001b[0;34m,\u001b[0m \u001b[0mstations\u001b[0m\u001b[0;34m)\u001b[0m\u001b[0;34m)\u001b[0m\u001b[0;34m\u001b[0m\u001b[0m\n\u001b[0m",
      "\u001b[0;31mNameError\u001b[0m: name 'est_params' is not defined"
     ]
    }
   ],
   "source": [
    "np.sum(station_errors(est_params, timesteps, stations))"
   ]
  },
  {
   "cell_type": "code",
   "execution_count": 194,
   "metadata": {},
   "outputs": [
    {
     "ename": "NameError",
     "evalue": "name 'est_params' is not defined",
     "output_type": "error",
     "traceback": [
      "\u001b[0;31m---------------------------------------------------------------------------\u001b[0m",
      "\u001b[0;31mNameError\u001b[0m                                 Traceback (most recent call last)",
      "\u001b[0;32m<ipython-input-194-cd13c45fbc93>\u001b[0m in \u001b[0;36m<module>\u001b[0;34m()\u001b[0m\n\u001b[0;32m----> 1\u001b[0;31m \u001b[0mstation_errors\u001b[0m\u001b[0;34m(\u001b[0m\u001b[0mest_params\u001b[0m\u001b[0;34m,\u001b[0m \u001b[0mtimesteps\u001b[0m\u001b[0;34m,\u001b[0m \u001b[0mstations\u001b[0m\u001b[0;34m)\u001b[0m\u001b[0;34m\u001b[0m\u001b[0m\n\u001b[0m",
      "\u001b[0;31mNameError\u001b[0m: name 'est_params' is not defined"
     ]
    }
   ],
   "source": [
    "station_errors(est_params, timesteps, stations)"
   ]
  },
  {
   "cell_type": "code",
   "execution_count": 195,
   "metadata": {},
   "outputs": [],
   "source": [
    "est_params = np.load(\"estimated_parameters.npy\")"
   ]
  },
  {
   "cell_type": "code",
   "execution_count": null,
   "metadata": {},
   "outputs": [],
   "source": []
  },
  {
   "cell_type": "code",
   "execution_count": null,
   "metadata": {},
   "outputs": [],
   "source": []
  },
  {
   "cell_type": "markdown",
   "metadata": {},
   "source": [
    "\n",
    "Edmond záznamy"
   ]
  },
  {
   "cell_type": "code",
   "execution_count": null,
   "metadata": {},
   "outputs": [],
   "source": [
    "http://meteor1.astrozor.cz:5252/multibolid/event/950404/\n",
    "http://meteor1.astrozor.cz:5252/multibolid/event/1651523/\n",
    "http://meteor1.astrozor.cz:5252/multibolid/event/1650562/\n",
    "http://meteor1.astrozor.cz:5252/multibolid/event/1740199/\n"
   ]
  }
 ],
 "metadata": {
  "kernelspec": {
   "display_name": "Python 3",
   "language": "python",
   "name": "python3"
  },
  "language_info": {
   "codemirror_mode": {
    "name": "ipython",
    "version": 3
   },
   "file_extension": ".py",
   "mimetype": "text/x-python",
   "name": "python",
   "nbconvert_exporter": "python",
   "pygments_lexer": "ipython3",
   "version": "3.5.2"
  }
 },
 "nbformat": 4,
 "nbformat_minor": 1
}
