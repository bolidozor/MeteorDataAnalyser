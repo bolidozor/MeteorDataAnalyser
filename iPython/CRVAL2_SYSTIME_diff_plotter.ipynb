{
 "cells": [
  {
   "cell_type": "markdown",
   "metadata": {},
   "source": [
    "# Bolidozor FITS CRVAL2 and SYSDATE1 plotter\n",
    "\n",
    "For use of this notebook you must have mounted space.astro.cz storage server to local filesystem. It is possible to do with `sshfs`\n",
    "```bash\n",
    "  sshfs <user>@space.astro.cz /<mnt folder>\n",
    "```\n",
    "Then you must set path of `<mnt foler>` to `path` variable.\n",
    "\n",
    "Script works only with files with `SYSDATE1` parameter in header."
   ]
  },
  {
   "cell_type": "code",
   "execution_count": 2,
   "metadata": {
    "collapsed": true,
    "scrolled": true
   },
   "outputs": [],
   "source": [
    "import os\n",
    "import datetime\n",
    "import numpy\n",
    "from astropy.io import fits\n",
    "import matplotlib.pyplot as plt\n",
    "import matplotlib.dates as md\n",
    "%matplotlib inline  "
   ]
  },
  {
   "cell_type": "code",
   "execution_count": 16,
   "metadata": {
    "scrolled": false
   },
   "outputs": [
    {
     "name": "stdout",
     "output_type": "stream",
     "text": [
      "\n",
      "/home/roman/mnt/server-space/storage/bolidozor/ZVPP/ZVPP-R6/snapshots/2017/09/03/  \n",
      "\n",
      "/home/roman/mnt/server-space/storage/bolidozor/ZVPP/ZVPP-R6/snapshots/2017/09/03/17  \n",
      "++++++++++++++++++++++++++++++++++++++++++++++++++++++++++++\n",
      "/home/roman/mnt/server-space/storage/bolidozor/ZVPP/ZVPP-R6/snapshots/2017/09/03/04  \n",
      "------------------------------------------------------------\n",
      "/home/roman/mnt/server-space/storage/bolidozor/ZVPP/ZVPP-R6/snapshots/2017/09/03/09  \n",
      "-----------------------------------------------------------\n",
      "/home/roman/mnt/server-space/storage/bolidozor/ZVPP/ZVPP-R6/snapshots/2017/09/03/03  \n",
      "------------------------------------------------------------\n",
      "/home/roman/mnt/server-space/storage/bolidozor/ZVPP/ZVPP-R6/snapshots/2017/09/03/10  \n",
      "------------------------------------------------------------\n",
      "/home/roman/mnt/server-space/storage/bolidozor/ZVPP/ZVPP-R6/snapshots/2017/09/03/22  \n",
      "++++++++++++++++++++++++++++++++++++++++++++++++++++++++++++\n",
      "/home/roman/mnt/server-space/storage/bolidozor/ZVPP/ZVPP-R6/snapshots/2017/09/03/14  \n",
      "------------------------------------------------\n",
      "/home/roman/mnt/server-space/storage/bolidozor/ZVPP/ZVPP-R6/snapshots/2017/09/03/07  \n",
      "------------------------------------------------------------\n",
      "/home/roman/mnt/server-space/storage/bolidozor/ZVPP/ZVPP-R6/snapshots/2017/09/03/00  \n",
      "------------------------------------------------------------\n",
      "/home/roman/mnt/server-space/storage/bolidozor/ZVPP/ZVPP-R6/snapshots/2017/09/03/19  \n",
      "++++++++++++++++++++++++++++++++++++++++++++++++++++++++++++\n",
      "/home/roman/mnt/server-space/storage/bolidozor/ZVPP/ZVPP-R6/snapshots/2017/09/03/13  \n",
      "-----------------------------------------------\n",
      "/home/roman/mnt/server-space/storage/bolidozor/ZVPP/ZVPP-R6/snapshots/2017/09/03/21  \n",
      "++++++++++++++++++++++++++++++++++++++++++++++++++++++++++++\n",
      "/home/roman/mnt/server-space/storage/bolidozor/ZVPP/ZVPP-R6/snapshots/2017/09/03/11  \n",
      "------------------------------------------------------------\n",
      "/home/roman/mnt/server-space/storage/bolidozor/ZVPP/ZVPP-R6/snapshots/2017/09/03/23  \n",
      "+++++++++++++++++++++++++++++++++++++++++++++++++++++++++++\n",
      "/home/roman/mnt/server-space/storage/bolidozor/ZVPP/ZVPP-R6/snapshots/2017/09/03/02  \n",
      "------------------------------------------------------------\n",
      "/home/roman/mnt/server-space/storage/bolidozor/ZVPP/ZVPP-R6/snapshots/2017/09/03/08  \n",
      "------------------------------------------------------------\n",
      "/home/roman/mnt/server-space/storage/bolidozor/ZVPP/ZVPP-R6/snapshots/2017/09/03/05  \n",
      "------------------------------------------------------------\n",
      "/home/roman/mnt/server-space/storage/bolidozor/ZVPP/ZVPP-R6/snapshots/2017/09/03/16  \n",
      "+++++++++++++++++\n",
      "/home/roman/mnt/server-space/storage/bolidozor/ZVPP/ZVPP-R6/snapshots/2017/09/03/12  \n",
      "------------------------------------------------------------\n",
      "/home/roman/mnt/server-space/storage/bolidozor/ZVPP/ZVPP-R6/snapshots/2017/09/03/18  \n",
      "++++++++++++++++++++++++++++++++++++++++++++++++++++++++++++\n",
      "/home/roman/mnt/server-space/storage/bolidozor/ZVPP/ZVPP-R6/snapshots/2017/09/03/20  \n",
      "++++++++++++++++++++++++++++++++++++++++++++++++++++++++++++\n",
      "/home/roman/mnt/server-space/storage/bolidozor/ZVPP/ZVPP-R6/snapshots/2017/09/03/01  \n",
      "------------------------------------------------------------\n",
      "/home/roman/mnt/server-space/storage/bolidozor/ZVPP/ZVPP-R6/snapshots/2017/09/03/06  \n",
      "------------------------------------------------------------\n",
      "/home/roman/mnt/server-space/storage/bolidozor/ZVPP/ZVPP-R6/snapshots/2017/09/03/15  \n",
      "------+---+-+----------+---------------------------\n",
      "/home/roman/mnt/server-space/storage/bolidozor/ZVPP/ZVPP-R6/snapshots/2017/09/04/  \n",
      "\n",
      "/home/roman/mnt/server-space/storage/bolidozor/ZVPP/ZVPP-R6/snapshots/2017/09/04/23  \n",
      "++++++++++++++++++++++++++++++++++++++++++++++++++++++++++++\n",
      "/home/roman/mnt/server-space/storage/bolidozor/ZVPP/ZVPP-R6/snapshots/2017/09/04/11  \n",
      "++++++++++++++++++++++++++++++++++++++++++++++++++++++++++++\n",
      "/home/roman/mnt/server-space/storage/bolidozor/ZVPP/ZVPP-R6/snapshots/2017/09/04/08  \n",
      "++++++++++++++++++++++++++++++++++++++++++++++++++++++++++++\n",
      "/home/roman/mnt/server-space/storage/bolidozor/ZVPP/ZVPP-R6/snapshots/2017/09/04/02  \n",
      "++++++++++++++++++++++++++++++++++++++++++++++++++++++++++++\n",
      "/home/roman/mnt/server-space/storage/bolidozor/ZVPP/ZVPP-R6/snapshots/2017/09/04/05  \n",
      "++++++++++++++++++++++++++++++++++++++++++++++++++++++++++++\n",
      "/home/roman/mnt/server-space/storage/bolidozor/ZVPP/ZVPP-R6/snapshots/2017/09/04/16  \n",
      "++++++++++++++++++++++++++++++++++++++++++++++++++++++++++++\n",
      "/home/roman/mnt/server-space/storage/bolidozor/ZVPP/ZVPP-R6/snapshots/2017/09/04/20  \n",
      "++++++++++++++++++++++++++++++++++++++++++++++++++++++++++++\n",
      "/home/roman/mnt/server-space/storage/bolidozor/ZVPP/ZVPP-R6/snapshots/2017/09/04/18  \n",
      "++++++++++++++++++++++++++++++++++++++++++++++++++++++++++++\n",
      "/home/roman/mnt/server-space/storage/bolidozor/ZVPP/ZVPP-R6/snapshots/2017/09/04/12  \n",
      "+++++++++++++++++++++++++++++++++++++++++++++++++++++++++++\n",
      "/home/roman/mnt/server-space/storage/bolidozor/ZVPP/ZVPP-R6/snapshots/2017/09/04/01  \n",
      "++++++++++++++++++++++++++++++++++++++++++++++++++++++++++++\n",
      "/home/roman/mnt/server-space/storage/bolidozor/ZVPP/ZVPP-R6/snapshots/2017/09/04/06  \n",
      "++++++++++++++++++++++++++++++++++++++++++++++++++++++++++++\n",
      "/home/roman/mnt/server-space/storage/bolidozor/ZVPP/ZVPP-R6/snapshots/2017/09/04/15  \n",
      "++++++++++++++++++++++++++++++++++++++++++++++++++++++++++++\n",
      "/home/roman/mnt/server-space/storage/bolidozor/ZVPP/ZVPP-R6/snapshots/2017/09/04/17  \n",
      "++++++++++++++++++++++++++++++++++++++++++++++++++++++++++++\n",
      "/home/roman/mnt/server-space/storage/bolidozor/ZVPP/ZVPP-R6/snapshots/2017/09/04/04  \n",
      "++++++++++++++++++++++++++++++++++++++++++++++++++++++++++++\n",
      "/home/roman/mnt/server-space/storage/bolidozor/ZVPP/ZVPP-R6/snapshots/2017/09/04/03  \n",
      "++++++++++++++++++++++++++++++++++++++++++++++++++++++++++++\n",
      "/home/roman/mnt/server-space/storage/bolidozor/ZVPP/ZVPP-R6/snapshots/2017/09/04/09  \n",
      "++++++++++++++++++++++++++++++++++++++++++++++++++++++++++++\n",
      "/home/roman/mnt/server-space/storage/bolidozor/ZVPP/ZVPP-R6/snapshots/2017/09/04/22  \n",
      "++++++++++++++++++++++++++++++++++++++++++++++++++++++++++++\n",
      "/home/roman/mnt/server-space/storage/bolidozor/ZVPP/ZVPP-R6/snapshots/2017/09/04/10  \n",
      "++++++++++++++++++++++++++++++++++++++++++++++++++++++++++++\n",
      "/home/roman/mnt/server-space/storage/bolidozor/ZVPP/ZVPP-R6/snapshots/2017/09/04/14  \n",
      "++++++++++++++++++++++++++++++++++++++++++++++++++++++++++++\n",
      "/home/roman/mnt/server-space/storage/bolidozor/ZVPP/ZVPP-R6/snapshots/2017/09/04/07  \n",
      "++++++++++++++++++++++++++++++++++++++++++++++++++++++++++++\n",
      "/home/roman/mnt/server-space/storage/bolidozor/ZVPP/ZVPP-R6/snapshots/2017/09/04/00  \n",
      "++++++++++++++++++++++++++++++++++++++++++++++++++++++++++++\n",
      "/home/roman/mnt/server-space/storage/bolidozor/ZVPP/ZVPP-R6/snapshots/2017/09/04/21  \n",
      "++++++++++++++++++++++++++++++++++++++++++++++++++++++++++++\n",
      "/home/roman/mnt/server-space/storage/bolidozor/ZVPP/ZVPP-R6/snapshots/2017/09/04/13  \n",
      "++++++++++++++++++++++++++++++++++++++++++++++++++++++++++++\n",
      "/home/roman/mnt/server-space/storage/bolidozor/ZVPP/ZVPP-R6/snapshots/2017/09/04/19  \n",
      "++++++++++++++++++++++++++++++++++++++++++++++++++++++++++++\n",
      "/home/roman/mnt/server-space/storage/bolidozor/ZVPP/ZVPP-R6/snapshots/2017/09/05/  \n",
      "\n",
      "/home/roman/mnt/server-space/storage/bolidozor/ZVPP/ZVPP-R6/snapshots/2017/09/05/00  \n",
      "++++++++++++++++++++++++++++++++++++++++++++++++++++++++++++\n",
      "/home/roman/mnt/server-space/storage/bolidozor/ZVPP/ZVPP-R6/snapshots/2017/09/05/07  \n",
      "++++++++++++++++++++++++++++++++++++++++++++++++++++++++++++\n",
      "/home/roman/mnt/server-space/storage/bolidozor/ZVPP/ZVPP-R6/snapshots/2017/09/05/03  \n",
      "++++++++++++++++++++++++++++++++++++++++++++++++++++++++++++\n",
      "/home/roman/mnt/server-space/storage/bolidozor/ZVPP/ZVPP-R6/snapshots/2017/09/05/09  \n",
      "++++++++++++++++++++++++++++++++++++++++++++++++++++++++++++\n",
      "/home/roman/mnt/server-space/storage/bolidozor/ZVPP/ZVPP-R6/snapshots/2017/09/05/10  \n",
      "+++++++++++++++++++++++++++++++++++++++\n",
      "/home/roman/mnt/server-space/storage/bolidozor/ZVPP/ZVPP-R6/snapshots/2017/09/05/04  \n",
      "++++++++++++++++++++++++++++++++++++++++++++++++++++++++++++\n",
      "/home/roman/mnt/server-space/storage/bolidozor/ZVPP/ZVPP-R6/snapshots/2017/09/05/06  \n"
     ]
    },
    {
     "name": "stdout",
     "output_type": "stream",
     "text": [
      "++++++++++++++++++++++++++++++++++++++++++++++++++++++++++++\n",
      "/home/roman/mnt/server-space/storage/bolidozor/ZVPP/ZVPP-R6/snapshots/2017/09/05/01  \n",
      "++++++++++++++++++++++++++++++++++++++++++++++++++++++++++++\n",
      "/home/roman/mnt/server-space/storage/bolidozor/ZVPP/ZVPP-R6/snapshots/2017/09/05/05  \n",
      "++++++++++++++++++++++++++++++++++++++++++++++++++++++++++++\n",
      "/home/roman/mnt/server-space/storage/bolidozor/ZVPP/ZVPP-R6/snapshots/2017/09/05/08  \n",
      "++++++++++++++++++++++++++++++++++++++++++++++++++++++++++++\n",
      "/home/roman/mnt/server-space/storage/bolidozor/ZVPP/ZVPP-R6/snapshots/2017/09/05/02  \n",
      "+++++++++++++++++++++++++++++++++++++++++++++++++++++++++++\n",
      "===================================\n",
      "2517 was successfully processed\n",
      "It takes 0:05:20.363773\n"
     ]
    }
   ],
   "source": [
    "paths = ['/home/roman/mnt/server-space/storage/bolidozor/ZVPP/ZVPP-R6/snapshots/2017/09/03/',\n",
    "        '/home/roman/mnt/server-space/storage/bolidozor/ZVPP/ZVPP-R6/snapshots/2017/09/04/',\n",
    "        '/home/roman/mnt/server-space/storage/bolidozor/ZVPP/ZVPP-R6/snapshots/2017/09/05/']\n",
    "times = numpy.ndarray((0,2))\n",
    "start_time = datetime.datetime.now()\n",
    "fits_browsed = 0\n",
    "for path in paths:\n",
    "    for root, dirs, files in os.walk(path):\n",
    "        print(\"\")\n",
    "        print(root, \" \")\n",
    "        for name in files:\n",
    "            if name.endswith((\"snap.fits\")):\n",
    "                try:\n",
    "                    hdulist = fits.open(os.path.join(root, name))\n",
    "                    sysdate = hdulist[1].header['SYSDATE1']\n",
    "                    sysdate_beg = sysdate - hdulist[1].header['CDELT2']* hdulist[1].header['NAXIS2']\n",
    "                    crval = hdulist[1].header['CRVAL2']\n",
    "                    time = [sysdate_beg, crval]\n",
    "                    times = numpy.vstack( [times, time]  )\n",
    "                    hdulist.close()\n",
    "                    print(\"+\", end='')\n",
    "                    fits_browsed += 1\n",
    "                except Exception:\n",
    "                    print(\"-\", end='')\n",
    "times.sort(axis=0)\n",
    "print(\"\")\n",
    "print(\"===================================\")\n",
    "print(fits_browsed, \"was successfully processed\")\n",
    "print(\"It takes\", datetime.datetime.now()-start_time)\n"
   ]
  },
  {
   "cell_type": "markdown",
   "metadata": {},
   "source": [
    "# Plotter\n",
    "\n",
    "Next cell plots a graph of time differences.\n",
    "\n",
    "Positive number means SYSDATE is ahead of CRVAL2 (radio-observer time is late).<br/>\n",
    "Negativ value means SYSDATE is behind CRVAL2 (radio-observer time is faster)."
   ]
  },
  {
   "cell_type": "code",
   "execution_count": 17,
   "metadata": {
    "scrolled": false
   },
   "outputs": [
    {
     "data": {
      "image/png": "[encoded data removed]",
      "text/plain": [
       "<matplotlib.figure.Figure at 0x7fd32083a048>"
      ]
     },
     "metadata": {},
     "output_type": "display_data"
    }
   ],
   "source": [
    "plt.figure(figsize=(17, 9))\n",
    "\n",
    "data=md.date2num([datetime.datetime.fromtimestamp(ts, datetime.timezone.utc) for ts in times[:,0]/1000])\n",
    "plt.xticks( rotation=25 )\n",
    "ax=plt.gca()\n",
    "xfmt = md.DateFormatter('%Y-%m-%d %H:%M:%S')\n",
    "ax.xaxis.set_major_formatter(xfmt)\n",
    "ax.set_title('Difference of SYSDATE1 (system time) and CRVAL2 (radio-observer time of 1st .FITS row)')\n",
    "ax.set_xlabel('datetime [UTC]')\n",
    "ax.set_ylabel('time difference (SYSDATE1 - CRVAL2) [s]')\n",
    "\n",
    "plt.plot(data, (times[:,0]-times[:,1])/1000.0)\n",
    "plt.show()"
   ]
  },
  {
   "cell_type": "markdown",
   "metadata": {},
   "source": [
    "<br>\n",
    "# Calc time difference of one file"
   ]
  },
  {
   "cell_type": "code",
   "execution_count": 13,
   "metadata": {},
   "outputs": [
    {
     "name": "stdout",
     "output_type": "stream",
     "text": [
      "\n",
      "difference between times is 5.028333251953125 s. (SYSDATE is ahead, radio-observer time is late)\n"
     ]
    }
   ],
   "source": [
    "fits_path = '/home/roman/mnt/server-space/storage/bolidozor/ZVPP/ZVPP-R6/snapshots/2017/09/04/19/20170904192530311_ZVPP-R6_snap.fits'\n",
    "\n",
    "print(\"\")\n",
    "hdulist = fits.open(fits_path)\n",
    "sysdate = hdulist[1].header['SYSDATE1']\n",
    "sysdate_beg = sysdate - hdulist[1].header['CDELT2']* hdulist[1].header['NAXIS2']\n",
    "crval = hdulist[1].header['CRVAL2']\n",
    "hdulist.close()\n",
    "\n",
    "time = (sysdate_beg - crval)/1000.0\n",
    "if time>0:\n",
    "    print(\"difference between times is\", time, \"s. (SYSDATE is ahead, radio-observer time is late)\")\n",
    "else:\n",
    "    print(\"difference between times is\", time, \"s. (CRVAL2 is ahead, radio-observer time is in the future :-) )\")"
   ]
  },
  {
   "cell_type": "code",
   "execution_count": null,
   "metadata": {
    "collapsed": true
   },
   "outputs": [],
   "source": []
  }
 ],
 "metadata": {
  "kernelspec": {
   "display_name": "Python 3",
   "language": "python",
   "name": "python3"
  },
  "language_info": {
   "codemirror_mode": {
    "name": "ipython",
    "version": 3
   },
   "file_extension": ".py",
   "mimetype": "text/x-python",
   "name": "python",
   "nbconvert_exporter": "python",
   "pygments_lexer": "ipython3",
   "version": "3.5.2"
  }
 },
 "nbformat": 4,
 "nbformat_minor": 2
}
