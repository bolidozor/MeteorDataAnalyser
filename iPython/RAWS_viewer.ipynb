{
 "metadata": {
  "name": ""
 },
 "nbformat": 3,
 "nbformat_minor": 0,
 "worksheets": [
  {
   "cells": [
    {
     "cell_type": "code",
     "collapsed": false,
     "input": [
      "import sys\n",
      "from vispy import color\n",
      "from vispy import scene\n",
      "from vispy import app, plot\n",
      "import pylab\n",
      "import recviewer\n",
      "from astropy.io import fits\n",
      "from astropy.utils.data import download_file\n",
      "import numpy as np"
     ],
     "language": "python",
     "metadata": {},
     "outputs": [],
     "prompt_number": 1
    },
    {
     "cell_type": "code",
     "collapsed": false,
     "input": [
      "def view(signal, sample_rate=None):\n",
      "#    canvas = scene.SceneCanvas(keys='interactive')\n",
      "#    canvas.size = 800, 600\n",
      "#    canvas.show()\n",
      "#    record_viewer = RecordViewer(signal, sample_rate=sample_rate)\n",
      "\n",
      "    # Set up a viewbox to display the image with interactive pan/zoom\n",
      "#    view = canvas.central_widget.add_view()\n",
      "\n",
      "\n",
      "    # Create the image\n",
      "    bins = 4096\n",
      "#    cm = color.get_colormap('ice')\n",
      "    waterfall = recviewer.waterfallize(signal, bins)\n",
      "    waterfall[np.isneginf(waterfall)] = np.nan\n",
      "    wmin, wmax = np.nanmin(waterfall), np.nanmax(waterfall)\n",
      "    waterfall = ((waterfall - wmin) / (wmax - wmin)) * 5.5 - 4.5\n",
      "#    waterfall = cm.map(waterfall)\n",
      "    return waterfall"
     ],
     "language": "python",
     "metadata": {},
     "outputs": [],
     "prompt_number": 2
    },
    {
     "cell_type": "code",
     "collapsed": false,
     "input": [
      "import dateutil.parser\n",
      "from matplotlib import dates\n",
      "import datetime\n",
      "\n",
      "raw_files = []\n",
      "raw_files.append([download_file('http://space.astro.cz/bolidozor/OBSUPICE/OBSUPICE-R3/meteors/2015/03/15/19/20150315194404200_OBSUPICE-R3_raws.fits', cache=True ),'OBSUPICE-R3'])\n",
      "raw_files.append([download_file('http://space.astro.cz/bolidozor/ZEBRAK/ZEBRAK-R2/meteors/2015/03/15/19/20150315194427928_ZEBRAK-R2_raws.fits', cache=True ),'ZEBRAK-R2'])\n",
      "raw_files.append([download_file('http://space.astro.cz/bolidozor/ZVPP/ZVPP-R2/meteors/2015/03/15/19/20150315194408977_ZVPP-R2_raws.fits', cache=True ),'ZVPP-R2'])\n",
      "raw_files.append([download_file('http://space.astro.cz/bolidozor/svakov/SVAKOV-R6/meteors/2015/03/15/19/20150315194355315_SVAKOV-R6_raws.fits', cache=True ),'SVAKOV-R6'])\n",
      "raw_files.append([download_file('http://space.astro.cz/bolidozor/uFlu/uFlu-R1/meteors/2015/03/15/19/20150315194418800_uFlu-R1_raws.fits', cache=True ),'uFlu-R1'])\n",
      "\n",
      "\n",
      "f = pylab.figure()\n",
      "for n, fname in enumerate(raw_files):\n",
      "    hdu_list = fits.open(fname[0])\n",
      "    image_data = hdu_list[0].data\n",
      "    flat_data = np.ravel(image_data)\n",
      "    hdu = hdu_list[0]\n",
      "    d1 = dateutil.parser.parse(hdu.header['DATE'])\n",
      "    fds1 = dates.date2num(d1) # converted\n",
      "    d2 = d1 + datetime.timedelta(seconds=hdu.header['NAXIS2']/48000.0)\n",
      "    fds2 = dates.date2num(d2) # converted\n",
      "    arr = view(flat_data[0::2] + 1j * flat_data[1::2], 48000)\n",
      "#    f.add_subplot(2, 1, n)  # this line outputs images on top of each other\n",
      "    f.add_subplot(1, len(raw_files), n)  # this line outputs images side-by-side\n",
      "    pylab.imshow(arr,  interpolation='nearest', aspect='auto', extent=[-24000,24000, fds2, fds1])\n",
      "    pylab.xlim(10000,11000)\n",
      "    pylab.ylim(735672.82209, 735672.8230)\n",
      "#    pylab.set_cmap('gist_ncar')\n",
      "    pylab.set_cmap('hot')\n",
      "    pylab.title(fname[1])\n",
      "pylab.show()\n"
     ],
     "language": "python",
     "metadata": {},
     "outputs": [],
     "prompt_number": 11
    },
    {
     "cell_type": "code",
     "collapsed": false,
     "input": [],
     "language": "python",
     "metadata": {},
     "outputs": [],
     "prompt_number": 3
    },
    {
     "cell_type": "code",
     "collapsed": false,
     "input": [
      "hdu_list = fits.open(fname[0])"
     ],
     "language": "python",
     "metadata": {},
     "outputs": [],
     "prompt_number": 4
    },
    {
     "cell_type": "code",
     "collapsed": false,
     "input": [
      "hdu = hdu_list[0]"
     ],
     "language": "python",
     "metadata": {},
     "outputs": [],
     "prompt_number": 5
    },
    {
     "cell_type": "code",
     "collapsed": false,
     "input": [
      "hdu.header['NAXIS2']/48000.0"
     ],
     "language": "python",
     "metadata": {},
     "outputs": [
      {
       "metadata": {},
       "output_type": "pyout",
       "prompt_number": 6,
       "text": [
        "24.8"
       ]
      }
     ],
     "prompt_number": 6
    },
    {
     "cell_type": "code",
     "collapsed": false,
     "input": [
      "hdu.header"
     ],
     "language": "python",
     "metadata": {},
     "outputs": [
      {
       "metadata": {},
       "output_type": "pyout",
       "prompt_number": 7,
       "text": [
        "SIMPLE  =                    T / file does conform to FITS standard             \n",
        "BITPIX  =                  -32 / number of bits per data pixel                  \n",
        "NAXIS   =                    2 / number of data axes                            \n",
        "NAXIS1  =                    2 / length of data axis 1                          \n",
        "NAXIS2  =              1190400 / length of data axis 2                          \n",
        "EXTEND  =                    T / FITS dataset may contain extensions            \n",
        "COMMENT   FITS (Flexible Image Transport System) format is defined in 'Astronomy\n",
        "COMMENT   and Astrophysics', volume 376, page 359; bibcode: 2001A&A...376..359H \n",
        "COMMENT File created by radio-observer 0.4.                                     \n",
        "COMMENT See https://github.com/MLAB-project/radio-observer.                     \n",
        "ORIGIN  = 'uFlu-R1 '                                                            \n",
        "DATE    = '2015-03-15T19:44:32' / file creation date (YYYY-MM-DDThh:mm:ss UT)   \n",
        "COMMENT Local time: 2015-03-15 20:44:32 CET                                     \n",
        "DATE-OBS= '2015-03-15T19:44:18' / observation date (UTC)                        \n",
        "CTYPE2  = 'TIME    '           / in seconds                                     \n",
        "CRPIX2  =                    1                                                  \n",
        "CRVAL2  =         1.426449E+09                                                  \n",
        "CDELT2  =            0.1706667                                                  \n",
        "CTYPE1  = 'FREQ    '           / in Hz                                          \n",
        "CRPIX1  =                   1.                                                  \n",
        "CRVAL1  =                9000.                                                  \n",
        "CDELT1  =             1.464844                                                  "
       ]
      }
     ],
     "prompt_number": 7
    },
    {
     "cell_type": "code",
     "collapsed": false,
     "input": [],
     "language": "python",
     "metadata": {},
     "outputs": [],
     "prompt_number": 7
    },
    {
     "cell_type": "code",
     "collapsed": false,
     "input": [
      "d1 - datetime.timedelta(seconds=24.8)"
     ],
     "language": "python",
     "metadata": {},
     "outputs": [
      {
       "metadata": {},
       "output_type": "pyout",
       "prompt_number": 8,
       "text": [
        "datetime.datetime(2015, 3, 15, 19, 44, 7, 200000)"
       ]
      }
     ],
     "prompt_number": 8
    },
    {
     "cell_type": "code",
     "collapsed": false,
     "input": [
      "d1.second"
     ],
     "language": "python",
     "metadata": {},
     "outputs": [
      {
       "metadata": {},
       "output_type": "pyout",
       "prompt_number": 9,
       "text": [
        "32"
       ]
      }
     ],
     "prompt_number": 9
    },
    {
     "cell_type": "code",
     "collapsed": false,
     "input": [],
     "language": "python",
     "metadata": {},
     "outputs": [],
     "prompt_number": 9
    },
    {
     "cell_type": "code",
     "collapsed": false,
     "input": [
      "fds"
     ],
     "language": "python",
     "metadata": {},
     "outputs": [
      {
       "ename": "NameError",
       "evalue": "name 'fds' is not defined",
       "output_type": "pyerr",
       "traceback": [
        "\u001b[0;31m---------------------------------------------------------------------------\u001b[0m\n\u001b[0;31mNameError\u001b[0m                                 Traceback (most recent call last)",
        "\u001b[0;32m<ipython-input-10-2fadc561b29f>\u001b[0m in \u001b[0;36m<module>\u001b[0;34m()\u001b[0m\n\u001b[0;32m----> 1\u001b[0;31m \u001b[0mfds\u001b[0m\u001b[0;34m\u001b[0m\u001b[0m\n\u001b[0m",
        "\u001b[0;31mNameError\u001b[0m: name 'fds' is not defined"
       ]
      }
     ],
     "prompt_number": 10
    },
    {
     "cell_type": "code",
     "collapsed": false,
     "input": [],
     "language": "python",
     "metadata": {},
     "outputs": []
    }
   ],
   "metadata": {}
  }
 ]
}