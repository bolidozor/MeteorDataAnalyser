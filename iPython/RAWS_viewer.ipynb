{
 "metadata": {
  "name": ""
 },
 "nbformat": 3,
 "nbformat_minor": 0,
 "worksheets": [
  {
   "cells": [
    {
     "cell_type": "code",
     "collapsed": false,
     "input": [
      "import sys\n",
      "from vispy import color\n",
      "from vispy import scene\n",
      "from vispy import app, plot\n",
      "import pylab\n",
      "import recviewer\n",
      "from astropy.io import fits\n",
      "from astropy.utils.data import download_file\n",
      "import numpy as np"
     ],
     "language": "python",
     "metadata": {},
     "outputs": [],
     "prompt_number": 1
    },
    {
     "cell_type": "code",
     "collapsed": false,
     "input": [
      "def view(signal, sample_rate=None):\n",
      "#    canvas = scene.SceneCanvas(keys='interactive')\n",
      "#    canvas.size = 800, 600\n",
      "#    canvas.show()\n",
      "#    record_viewer = RecordViewer(signal, sample_rate=sample_rate)\n",
      "\n",
      "    # Set up a viewbox to display the image with interactive pan/zoom\n",
      "#    view = canvas.central_widget.add_view()\n",
      "\n",
      "\n",
      "    # Create the image\n",
      "    bins = 4096\n",
      "#    cm = color.get_colormap('ice')\n",
      "    waterfall = recviewer.waterfallize(signal, bins)\n",
      "    waterfall[np.isneginf(waterfall)] = np.nan\n",
      "    wmin, wmax = np.nanmin(waterfall), np.nanmax(waterfall)\n",
      "    waterfall = ((waterfall - wmin) / (wmax - wmin)) * 5.5 - 4.5\n",
      "#    waterfall = cm.map(waterfall)\n",
      "    return waterfall"
     ],
     "language": "python",
     "metadata": {},
     "outputs": [],
     "prompt_number": 2
    },
    {
     "cell_type": "code",
     "collapsed": false,
     "input": [
      "import dateutil.parser\n",
      "from matplotlib import dates\n",
      "\n",
      "raw_files = []\n",
      "raw_files.append([download_file('http://space.astro.cz/bolidozor/OBSUPICE/OBSUPICE-R3/meteors/2015/03/15/19/20150315194404200_OBSUPICE-R3_raws.fits', cache=True ),'OBSUPICE-R3'])\n",
      "raw_files.append([download_file('http://space.astro.cz/bolidozor/ZEBRAK/ZEBRAK-R2/meteors/2015/03/15/19/20150315194427928_ZEBRAK-R2_raws.fits', cache=True ),'ZEBRAK-R2'])\n",
      "#raw_files.append([download_file('http://space.astro.cz/bolidozor/ZVPP/ZVPP-R2/meteors/2015/03/15/19/20150315194414549_ZVPP-R2_raws.fits', cache=True ),'ZVPP-R2'])\n",
      "raw_files.append([download_file('http://space.astro.cz/bolidozor/svakov/SVAKOV-R6/meteors/2015/03/15/19/20150315194355315_SVAKOV-R6_raws.fits', cache=True ),'SVAKOV-R6'])\n",
      "raw_files.append([download_file('http://space.astro.cz/bolidozor/uFlu/uFlu-R1/meteors/2015/03/15/19/20150315194418800_uFlu-R1_raws.fits', cache=True ),'uFlu-R1'])\n",
      "\n",
      "\n",
      "f = pylab.figure()\n",
      "for n, fname in enumerate(raw_files):\n",
      "    hdu_list = fits.open(fname[0])\n",
      "    image_data = hdu_list[0].data\n",
      "    flat_data = np.ravel(image_data)\n",
      "    hdu = hdu_list[0]\n",
      "    d1 = dateutil.parser.parse(hdu.header['DATE'])\n",
      "    fds1 = dates.date2num(d1) # converted\n",
      "    d2 = d1 - datetime.timedelta(seconds=hdu.header['NAXIS2']/48000.0)\n",
      "    fds2 = dates.date2num(d2) # converted\n",
      "    arr = view(flat_data[0::2] + 1j * flat_data[1::2], 48000)\n",
      "#    f.add_subplot(2, 1, n)  # this line outputs images on top of each other\n",
      "    f.add_subplot(1, len(raw_files), n)  # this line outputs images side-by-side\n",
      "    pylab.imshow(arr,  interpolation='nearest', aspect='auto', extent=[-24000,24000, fds1, fds2])\n",
      "    pylab.xlim(10000,11000)\n",
      "    pylab.ylim(735672.82209, 735672.8225926)\n",
      "    pylab.set_cmap('hot')\n",
      "    pylab.title(fname[1])\n",
      "pylab.show()\n"
     ],
     "language": "python",
     "metadata": {},
     "outputs": [],
     "prompt_number": 62
    },
    {
     "cell_type": "code",
     "collapsed": false,
     "input": [],
     "language": "python",
     "metadata": {},
     "outputs": [],
     "prompt_number": 42
    },
    {
     "cell_type": "code",
     "collapsed": false,
     "input": [
      "hdu_list = fits.open(fname[0])"
     ],
     "language": "python",
     "metadata": {},
     "outputs": [],
     "prompt_number": 17
    },
    {
     "cell_type": "code",
     "collapsed": false,
     "input": [
      "hdu = hdu_list[0]"
     ],
     "language": "python",
     "metadata": {},
     "outputs": [],
     "prompt_number": 24
    },
    {
     "cell_type": "code",
     "collapsed": false,
     "input": [
      "hdu.header['NAXIS2']/48000.0"
     ],
     "language": "python",
     "metadata": {},
     "outputs": [
      {
       "metadata": {},
       "output_type": "pyout",
       "prompt_number": 50,
       "text": [
        "32.0"
       ]
      }
     ],
     "prompt_number": 50
    },
    {
     "cell_type": "code",
     "collapsed": false,
     "input": [
      "import dateutil.parser"
     ],
     "language": "python",
     "metadata": {},
     "outputs": [],
     "prompt_number": 38
    },
    {
     "cell_type": "code",
     "collapsed": false,
     "input": [],
     "language": "python",
     "metadata": {},
     "outputs": [],
     "prompt_number": 39
    },
    {
     "cell_type": "code",
     "collapsed": false,
     "input": [
      "d1 - datetime.timedelta(seconds=24.8)"
     ],
     "language": "python",
     "metadata": {},
     "outputs": [
      {
       "metadata": {},
       "output_type": "pyout",
       "prompt_number": 46,
       "text": [
        "datetime.datetime(2015, 3, 15, 19, 44, 7, 200000)"
       ]
      }
     ],
     "prompt_number": 46
    },
    {
     "cell_type": "code",
     "collapsed": false,
     "input": [
      "d1.second"
     ],
     "language": "python",
     "metadata": {},
     "outputs": [
      {
       "metadata": {},
       "output_type": "pyout",
       "prompt_number": 45,
       "text": [
        "32"
       ]
      }
     ],
     "prompt_number": 45
    },
    {
     "cell_type": "code",
     "collapsed": false,
     "input": [],
     "language": "python",
     "metadata": {},
     "outputs": [],
     "prompt_number": 42
    },
    {
     "cell_type": "code",
     "collapsed": false,
     "input": [
      "fds"
     ],
     "language": "python",
     "metadata": {},
     "outputs": [
      {
       "metadata": {},
       "output_type": "pyout",
       "prompt_number": 43,
       "text": [
        "735672.8225925926"
       ]
      }
     ],
     "prompt_number": 43
    },
    {
     "cell_type": "code",
     "collapsed": false,
     "input": [],
     "language": "python",
     "metadata": {},
     "outputs": []
    }
   ],
   "metadata": {}
  }
 ]
}