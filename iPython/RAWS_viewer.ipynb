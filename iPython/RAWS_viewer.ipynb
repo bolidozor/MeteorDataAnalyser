{
 "cells": [
  {
   "cell_type": "code",
   "execution_count": 2,
   "metadata": {
    "collapsed": false
   },
   "outputs": [],
   "source": [
    "import sys\n",
    "from vispy import color\n",
    "from vispy import scene\n",
    "from vispy import app, plot\n",
    "import pylab\n",
    "import recviewer\n",
    "from astropy.io import fits\n",
    "from astropy.utils.data import download_file\n",
    "import numpy as np"
   ]
  },
  {
   "cell_type": "code",
   "execution_count": 3,
   "metadata": {
    "collapsed": false
   },
   "outputs": [],
   "source": [
    "def waterfall(signal, sample_rate=None, bins = 4096 ):\n",
    "    waterfall = recviewer.waterfallize(signal, bins)\n",
    "    waterfall[np.isneginf(waterfall)] = np.nan\n",
    "    wmin, wmax = np.nanmin(waterfall), np.nanmax(waterfall)\n",
    "#    waterfall = ((waterfall - wmin) / (wmax - wmin)) * 5.5 - 4.5\n",
    "#    waterfall = cm.map(waterfall)\n",
    "    return waterfall"
   ]
  },
  {
   "cell_type": "code",
   "execution_count": 14,
   "metadata": {
    "collapsed": false
   },
   "outputs": [],
   "source": [
    "import dateutil.parser\n",
    "from matplotlib import dates\n",
    "import datetime\n",
    "\n",
    "raw_files = []\n",
    "raw_files.append([download_file('http://space.astro.cz/bolidozor/nachodsko/NACHODSKO-R3/meteors/2016/05/20/01/20160520011752889_NACHODSKO-R3_raws.fits', cache=True ),'NACHODSKO-R3'])\n",
    "raw_files.append([download_file('http://space.astro.cz/bolidozor/OBSUPICE/OBSUPICE-R4/meteors/2016/05/20/01/20160520011813222_OBSUPICE-R3_raws.fits', cache=True ),'OBSUPICE-R4'])\n",
    "#raw_files.append([download_file('http://space.astro.cz/bolidozor/ZVPP/ZVPP-R2/meteors/2015/03/15/19/20150315194408977_ZVPP-R2_raws.fits', cache=True ),'ZVPP-R2'])\n",
    "#raw_files.append([download_file('http://space.astro.cz/bolidozor/svakov/SVAKOV-R6/meteors/2015/03/15/19/20150315194355315_SVAKOV-R6_raws.fits', cache=True ),'SVAKOV-R6'])\n",
    "#raw_files.append([download_file('http://space.astro.cz/bolidozor/uFlu/uFlu-R1/meteors/2015/03/15/19/20150315194418800_uFlu-R1_raws.fits', cache=True ),'uFlu-R1'])"
   ]
  },
  {
   "cell_type": "code",
   "execution_count": 20,
   "metadata": {
    "collapsed": false
   },
   "outputs": [],
   "source": [
    "f = pylab.figure()\n",
    "for n, fname in enumerate(raw_files):\n",
    "    hdu_list = fits.open(fname[0])\n",
    "    image_data = hdu_list[0].data\n",
    "    flat_data = np.ravel(image_data)\n",
    "    hdu = hdu_list[0]\n",
    "    d1 = dateutil.parser.parse(hdu.header['DATE'])\n",
    "    fds1 = dates.date2num(d1) # converted\n",
    "    d2 = d1 + datetime.timedelta(seconds=hdu.header['NAXIS2']/48000.0)\n",
    "    fds2 = dates.date2num(d2) # converted\n",
    "    arr = waterfall(flat_data[0::2] + 1j * flat_data[1::2], 48000)\n",
    "    f.add_subplot(2, 1, n + 1)  # this line outputs images on top of each other\n",
    "#    f.add_subplot(1, len(raw_files), n)  # this line outputs images side-by-side\n",
    "    pylab.imshow(arr,  interpolation='nearest', aspect='auto',  extent=[-24000, 24000, fds2, fds1])\n",
    "#    pylab.xlim(10000,11000)\n",
    "#    pylab.ylim(735672.82209, 735672.8230)\n",
    "#    pylab.set_cmap('gist_ncar')\n",
    "    pylab.set_cmap('hot')\n",
    "    pylab.title(fname[1])\n",
    "pylab.show()\n"
   ]
  },
  {
   "cell_type": "code",
   "execution_count": 9,
   "metadata": {
    "collapsed": false
   },
   "outputs": [
    {
     "data": {
      "text/plain": [
       "2"
      ]
     },
     "execution_count": 9,
     "metadata": {},
     "output_type": "execute_result"
    }
   ],
   "source": [
    "len(raw_files)"
   ]
  },
  {
   "cell_type": "code",
   "execution_count": 6,
   "metadata": {
    "collapsed": false
   },
   "outputs": [],
   "source": []
  },
  {
   "cell_type": "code",
   "execution_count": 6,
   "metadata": {
    "collapsed": false
   },
   "outputs": [],
   "source": []
  },
  {
   "cell_type": "code",
   "execution_count": 6,
   "metadata": {
    "collapsed": false
   },
   "outputs": [],
   "source": []
  },
  {
   "cell_type": "code",
   "execution_count": 6,
   "metadata": {
    "collapsed": false
   },
   "outputs": [],
   "source": []
  },
  {
   "cell_type": "code",
   "execution_count": 6,
   "metadata": {
    "collapsed": false
   },
   "outputs": [],
   "source": []
  },
  {
   "cell_type": "code",
   "execution_count": 6,
   "metadata": {
    "collapsed": false
   },
   "outputs": [],
   "source": []
  },
  {
   "cell_type": "code",
   "execution_count": 6,
   "metadata": {
    "collapsed": false
   },
   "outputs": [],
   "source": []
  },
  {
   "cell_type": "code",
   "execution_count": 6,
   "metadata": {
    "collapsed": false
   },
   "outputs": [],
   "source": []
  },
  {
   "cell_type": "code",
   "execution_count": 6,
   "metadata": {
    "collapsed": false
   },
   "outputs": [],
   "source": []
  }
 ],
 "metadata": {
  "kernelspec": {
   "display_name": "Python 2",
   "language": "python",
   "name": "python2"
  },
  "language_info": {
   "codemirror_mode": {
    "name": "ipython",
    "version": 2
   },
   "file_extension": ".py",
   "mimetype": "text/x-python",
   "name": "python",
   "nbconvert_exporter": "python",
   "pygments_lexer": "ipython2",
   "version": "2.7.11+"
  }
 },
 "nbformat": 4,
 "nbformat_minor": 0
}
