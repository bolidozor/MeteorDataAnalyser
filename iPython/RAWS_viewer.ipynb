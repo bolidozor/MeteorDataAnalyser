{
 "metadata": {
  "name": ""
 },
 "nbformat": 3,
 "nbformat_minor": 0,
 "worksheets": [
  {
   "cells": [
    {
     "cell_type": "code",
     "collapsed": false,
     "input": [
      "import sys\n",
      "from vispy import color\n",
      "from vispy import scene\n",
      "from vispy import app, plot\n",
      "import pylab\n",
      "import recviewer\n",
      "from astropy.io import fits\n",
      "from astropy.utils.data import download_file\n",
      "import numpy as np"
     ],
     "language": "python",
     "metadata": {},
     "outputs": [],
     "prompt_number": 3
    },
    {
     "cell_type": "code",
     "collapsed": false,
     "input": [
      "def view(signal, sample_rate=None):\n",
      "#    canvas = scene.SceneCanvas(keys='interactive')\n",
      "#    canvas.size = 800, 600\n",
      "#    canvas.show()\n",
      "#    record_viewer = RecordViewer(signal, sample_rate=sample_rate)\n",
      "\n",
      "    # Set up a viewbox to display the image with interactive pan/zoom\n",
      "#    view = canvas.central_widget.add_view()\n",
      "\n",
      "\n",
      "    # Create the image\n",
      "    bins = 4096\n",
      "#    cm = color.get_colormap('ice')\n",
      "    waterfall = recviewer.waterfallize(signal, bins)\n",
      "    waterfall[np.isneginf(waterfall)] = np.nan\n",
      "    wmin, wmax = np.nanmin(waterfall), np.nanmax(waterfall)\n",
      "    waterfall = ((waterfall - wmin) / (wmax - wmin)) * 5.5 - 4.5\n",
      "#    waterfall = cm.map(waterfall)\n",
      "    return waterfall"
     ],
     "language": "python",
     "metadata": {},
     "outputs": [],
     "prompt_number": 10
    },
    {
     "cell_type": "code",
     "collapsed": false,
     "input": [
      "raw_files = []\n",
      "raw_files.append([download_file('http://space.astro.cz/bolidozor/OBSUPICE/OBSUPICE-R3/meteors/2015/03/15/19/20150315194404200_OBSUPICE-R3_raws.fits', cache=True ),'OBSUPICE-R3'])\n",
      "raw_files.append([download_file('http://space.astro.cz/bolidozor/ZEBRAK/ZEBRAK-R2/meteors/2015/03/15/19/20150315194427928_ZEBRAK-R2_raws.fits', cache=True ),'ZEBRAK-R2'])\n",
      "raw_files.append([download_file('http://space.astro.cz/bolidozor/ZVPP/ZVPP-R2/meteors/2015/03/15/19/20150315194414549_ZVPP-R2_raws.fits', cache=True ),'ZVPP-R2'])\n",
      "raw_files.append([download_file('http://space.astro.cz/bolidozor/svakov/SVAKOV-R6/meteors/2015/03/15/19/20150315194355315_SVAKOV-R6_raws.fits', cache=True ),'SVAKOV-R6'])\n",
      "raw_files.append([download_file('http://space.astro.cz/bolidozor/uFlu/uFlu-R1/meteors/2015/03/15/19/20150315194418800_uFlu-R1_raws.fits', cache=True ),'uFlu-R1'])\n",
      "\n",
      "\n",
      "f = pylab.figure()\n",
      "for n, fname in enumerate(raw_files):\n",
      "    hdu_list = fits.open(fname[0])\n",
      "    image_data = hdu_list[0].data\n",
      "    flat_data = np.ravel(image_data)\n",
      "    arr = view(flat_data[0::2] + 1j * flat_data[1::2], 48000)\n",
      "#    f.add_subplot(2, 1, n)  # this line outputs images on top of each other\n",
      "    f.add_subplot(1, len(raw_files), n)  # this line outputs images side-by-side\n",
      "    pylab.imshow(arr,  interpolation='nearest', aspect='auto')\n",
      "    pylab.xlim(2800,3150)\n",
      "    pylab.ylim(50, 250)\n",
      "    pylab.title(fname[1])\n",
      "pylab.show()\n"
     ],
     "language": "python",
     "metadata": {},
     "outputs": [],
     "prompt_number": 51
    },
    {
     "cell_type": "code",
     "collapsed": false,
     "input": [],
     "language": "python",
     "metadata": {},
     "outputs": [],
     "prompt_number": 42
    },
    {
     "cell_type": "code",
     "collapsed": false,
     "input": [],
     "language": "python",
     "metadata": {},
     "outputs": [],
     "prompt_number": 50
    },
    {
     "cell_type": "code",
     "collapsed": false,
     "input": [],
     "language": "python",
     "metadata": {},
     "outputs": [],
     "prompt_number": 21
    },
    {
     "cell_type": "code",
     "collapsed": false,
     "input": [],
     "language": "python",
     "metadata": {},
     "outputs": [],
     "prompt_number": 23
    },
    {
     "cell_type": "code",
     "collapsed": false,
     "input": [],
     "language": "python",
     "metadata": {},
     "outputs": [],
     "prompt_number": 23
    },
    {
     "cell_type": "code",
     "collapsed": false,
     "input": [],
     "language": "python",
     "metadata": {},
     "outputs": []
    }
   ],
   "metadata": {}
  }
 ]
}