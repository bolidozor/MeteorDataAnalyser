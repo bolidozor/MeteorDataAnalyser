{
 "metadata": {
  "name": "",
  "signature": "sha256:1207b19698ab3399fc641b9ad8cabf0c640f5ebdbb6fbbdee299c9432b9715ed"
 },
 "nbformat": 3,
 "nbformat_minor": 0,
 "worksheets": [
  {
   "cells": [
    {
     "cell_type": "code",
     "collapsed": false,
     "input": [
      "import sys\n",
      "from vispy import color\n",
      "from vispy import scene\n",
      "from vispy import app, plot\n",
      "import pylab\n",
      "import recviewer\n",
      "from astropy.io import fits\n",
      "from astropy.utils.data import download_file\n",
      "import numpy as np"
     ],
     "language": "python",
     "metadata": {},
     "outputs": [],
     "prompt_number": 4
    },
    {
     "cell_type": "code",
     "collapsed": false,
     "input": [
      "def waterfall(signal, sample_rate=None, bins = 4096 ):\n",
      "    waterfall = recviewer.waterfallize(signal, bins)\n",
      "    waterfall[np.isneginf(waterfall)] = np.nan\n",
      "    wmin, wmax = np.nanmin(waterfall), np.nanmax(waterfall)\n",
      "#    waterfall = ((waterfall - wmin) / (wmax - wmin)) * 5.5 - 4.5\n",
      "#    waterfall = cm.map(waterfall)\n",
      "    return waterfall"
     ],
     "language": "python",
     "metadata": {},
     "outputs": [],
     "prompt_number": 5
    },
    {
     "cell_type": "code",
     "collapsed": false,
     "input": [
      "import dateutil.parser\n",
      "from matplotlib import dates\n",
      "import datetime\n",
      "\n",
      "raw_files = []\n",
      "raw_files.append([download_file('http://space.astro.cz/bolidozor/OBSUPICE/OBSUPICE-R3/meteors/2015/03/15/19/20150315194404200_OBSUPICE-R3_raws.fits', cache=True ),'OBSUPICE-R3'])\n",
      "raw_files.append([download_file('http://space.astro.cz/bolidozor/ZEBRAK/ZEBRAK-R2/meteors/2015/03/15/19/20150315194427928_ZEBRAK-R2_raws.fits', cache=True ),'ZEBRAK-R2'])\n",
      "raw_files.append([download_file('http://space.astro.cz/bolidozor/ZVPP/ZVPP-R2/meteors/2015/03/15/19/20150315194408977_ZVPP-R2_raws.fits', cache=True ),'ZVPP-R2'])\n",
      "raw_files.append([download_file('http://space.astro.cz/bolidozor/svakov/SVAKOV-R6/meteors/2015/03/15/19/20150315194355315_SVAKOV-R6_raws.fits', cache=True ),'SVAKOV-R6'])\n",
      "raw_files.append([download_file('http://space.astro.cz/bolidozor/uFlu/uFlu-R1/meteors/2015/03/15/19/20150315194418800_uFlu-R1_raws.fits', cache=True ),'uFlu-R1'])\n",
      "\n",
      "\n",
      "f = pylab.figure()\n",
      "for n, fname in enumerate(raw_files):\n",
      "    hdu_list = fits.open(fname[0])\n",
      "    image_data = hdu_list[0].data\n",
      "    flat_data = np.ravel(image_data)\n",
      "    hdu = hdu_list[0]\n",
      "    d1 = dateutil.parser.parse(hdu.header['DATE'])\n",
      "    fds1 = dates.date2num(d1) # converted\n",
      "    d2 = d1 + datetime.timedelta(seconds=hdu.header['NAXIS2']/48000.0)\n",
      "    fds2 = dates.date2num(d2) # converted\n",
      "    arr = waterfall(flat_data[0::2] + 1j * flat_data[1::2], 48000)\n",
      "#    f.add_subplot(2, 1, n)  # this line outputs images on top of each other\n",
      "    f.add_subplot(1, len(raw_files), n)  # this line outputs images side-by-side\n",
      "    pylab.imshow(arr,  interpolation='nearest', aspect='auto',  extent=[-24000, 24000, fds2, fds1])\n",
      "    pylab.xlim(10000,11000)\n",
      "    pylab.ylim(735672.82209, 735672.8230)\n",
      "#    pylab.set_cmap('gist_ncar')\n",
      "    pylab.set_cmap('hot')\n",
      "    pylab.title(fname[1])\n",
      "pylab.show()\n"
     ],
     "language": "python",
     "metadata": {},
     "outputs": [],
     "prompt_number": 6
    },
    {
     "cell_type": "code",
     "collapsed": false,
     "input": [],
     "language": "python",
     "metadata": {},
     "outputs": [],
     "prompt_number": 6
    },
    {
     "cell_type": "code",
     "collapsed": false,
     "input": [],
     "language": "python",
     "metadata": {},
     "outputs": [],
     "prompt_number": 6
    },
    {
     "cell_type": "code",
     "collapsed": false,
     "input": [],
     "language": "python",
     "metadata": {},
     "outputs": [],
     "prompt_number": 6
    },
    {
     "cell_type": "code",
     "collapsed": false,
     "input": [],
     "language": "python",
     "metadata": {},
     "outputs": [],
     "prompt_number": 6
    },
    {
     "cell_type": "code",
     "collapsed": false,
     "input": [],
     "language": "python",
     "metadata": {},
     "outputs": [],
     "prompt_number": 6
    },
    {
     "cell_type": "code",
     "collapsed": false,
     "input": [],
     "language": "python",
     "metadata": {},
     "outputs": [],
     "prompt_number": 6
    },
    {
     "cell_type": "code",
     "collapsed": false,
     "input": [],
     "language": "python",
     "metadata": {},
     "outputs": [],
     "prompt_number": 6
    },
    {
     "cell_type": "code",
     "collapsed": false,
     "input": [],
     "language": "python",
     "metadata": {},
     "outputs": [],
     "prompt_number": 6
    },
    {
     "cell_type": "code",
     "collapsed": false,
     "input": [],
     "language": "python",
     "metadata": {},
     "outputs": [],
     "prompt_number": 6
    },
    {
     "cell_type": "code",
     "collapsed": false,
     "input": [],
     "language": "python",
     "metadata": {},
     "outputs": [],
     "prompt_number": 6
    },
    {
     "cell_type": "code",
     "collapsed": false,
     "input": [],
     "language": "python",
     "metadata": {},
     "outputs": [],
     "prompt_number": 6
    }
   ],
   "metadata": {}
  }
 ]
}