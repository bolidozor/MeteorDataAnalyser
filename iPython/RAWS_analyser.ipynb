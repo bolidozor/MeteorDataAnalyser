{
 "metadata": {
  "name": "",
  "signature": "sha256:fc77c9a80eeb65326c10ce5a278cd7d63e98fe38c8b3164185ee2739d085ddfc"
 },
 "nbformat": 3,
 "nbformat_minor": 0,
 "worksheets": [
  {
   "cells": [
    {
     "cell_type": "code",
     "collapsed": false,
     "input": [
      "import sys\n",
      "from vispy import color\n",
      "from vispy import scene\n",
      "from vispy import app, plot\n",
      "import pylab\n",
      "import recviewer\n",
      "from astropy.io import fits\n",
      "from astropy.utils.data import download_file\n",
      "import numpy as np"
     ],
     "language": "python",
     "metadata": {},
     "outputs": [],
     "prompt_number": 1
    },
    {
     "cell_type": "code",
     "collapsed": false,
     "input": [
      "def waterfall(signal, sample_rate=None, bins = 4096 ):\n",
      "    waterfall = recviewer.waterfallize(signal, bins)\n",
      "    waterfall[np.isneginf(waterfall)] = np.nan\n",
      "    wmin, wmax = np.nanmin(waterfall), np.nanmax(waterfall)\n",
      "#    waterfall = ((waterfall - wmin) / (wmax - wmin)) * 5.5 - 4.5\n",
      "#    waterfall = cm.map(waterfall)\n",
      "    return waterfall"
     ],
     "language": "python",
     "metadata": {},
     "outputs": [],
     "prompt_number": 2
    },
    {
     "cell_type": "code",
     "collapsed": false,
     "input": [
      "import dateutil.parser\n",
      "from matplotlib import dates\n",
      "import datetime\n",
      "\n",
      "raw_files = []\n",
      "raw_files.append([download_file('http://space.astro.cz/bolidozor/ZEBRAK/ZEBRAK-R2/meteors/2015/03/15/19/20150315194427928_ZEBRAK-R2_raws.fits', cache=True ),\n",
      "                  {'latitude':49.8736, 'longitude':13.8986, 'Tstamp': 26.1, 'Tpca': 25.15, 'Dslope': 1/800.0, 'Cfreq': 10600}])\n",
      "raw_files.append([download_file('http://space.astro.cz/bolidozor/uFlu/uFlu-R1/meteors/2015/03/15/19/20150315194418800_uFlu-R1_raws.fits', cache=True ),\n",
      "                  {'latitude':50.0795, 'longitude':14.4891, 'Tstamp': 22.4, 'Tpca': 21.62, 'Dslope': 1/800.0, 'Cfreq': 10600}])\n",
      "raw_files.append([download_file('http://space.astro.cz/bolidozor/OBSUPICE/OBSUPICE-R3/meteors/2015/03/15/19/20150315194404200_OBSUPICE-R3_raws.fits', cache=True ),\n",
      "                  {'latitude':50.5067,'longitude':16.0115, 'Tstamp': 26.48, 'Tpca': 25.84, 'Dslope': 1/700.0, 'Cfreq': 10600}])\n",
      "raw_files.append([download_file('http://space.astro.cz/bolidozor/svakov/SVAKOV-R6/meteors/2015/03/15/19/20150315194355315_SVAKOV-R6_raws.fits', cache=True ),\n",
      "                  {'latitude':49.2607,'longitude':14.6917, 'Tstamp': 23.06, 'Tpca': 20.23, 'Dslope': 1/850.0, 'Cfreq': 10600}])\n",
      "raw_files.append([download_file('http://space.astro.cz/bolidozor/ZVPP/ZVPP-R2/meteors/2015/03/15/19/20150315194408977_ZVPP-R2_raws.fits', cache=True ),\n",
      "                  {'latitude':48.9869,'longitude':14.4675, 'Tstamp': 5.1, 'Tpca': 1.24, 'Dslope': 1/1000.0, 'Cfreq': 11548}])\n",
      "%pylab qt\n",
      "matplotlib.rcParams.update({'font.size': 16})   # font size settings.\n",
      "\n",
      "f = pylab.figure()\n",
      "\n",
      "for n, fname in enumerate(raw_files):\n",
      "    hdu_list = fits.open(fname[0])\n",
      "    image_data = hdu_list[0].data\n",
      "    flat_data = np.ravel(image_data)\n",
      "    hdu = hdu_list[0]\n",
      "    d1 = dateutil.parser.parse(hdu.header['DATE'])\n",
      "    fds1 = dates.date2num(d1) # converted\n",
      "    d2 = d1 + datetime.timedelta(seconds=hdu.header['NAXIS2']/48000.0)\n",
      "    fds2 = dates.date2num(d2) # converted\n",
      "    arr = waterfall(flat_data[0::2] + 1j * flat_data[1::2], 48000)\n",
      "#    f.add_subplot(2, 1, n)  # this line outputs images on top of each other\n",
      "    f.add_subplot(1, len(raw_files), n)  # this line outputs images side-by-side\n",
      "    pylab.xlabel('Frequency [Hz]')\n",
      "    pylab.ylabel('Time [s]')\n",
      "    pylab.imshow(arr,  interpolation='nearest', aspect='auto',  extent=[-24000, 24000, 0, hdu.header['NAXIS2']/48000.0])\n",
      "    pylab.xlim(fname[1]['Cfreq'] - 500,fname[1]['Cfreq'] + 500)\n",
      "    pylab.ylim(fname[1]['Tstamp']+5, fname[1]['Tstamp']-10)\n",
      "    pylab.plot([fname[1]['Cfreq'], fname[1]['Cfreq']], [fname[1]['Tstamp'],fname[1]['Tstamp']-5], 'g-', label='line 1', linewidth=2)\n",
      "    x1 = -500\n",
      "    x2 = +500\n",
      "    y1 = fname[1]['Dslope']*x1 + fname[1]['Tpca']\n",
      "    y2 = fname[1]['Dslope']*x2 + fname[1]['Tpca']\n",
      "    pylab.plot([fname[1]['Cfreq'] + x1,fname[1]['Cfreq'] + x2], [y1,y2], 'bo:', label='line 1', linewidth=1)\n",
      "#    pylab.set_cmap('gist_ncar')\n",
      "    pylab.set_cmap('hot')\n",
      "    pylab.title(hdu.header['ORIGIN'])\n",
      "\n",
      "pylab.show()\n"
     ],
     "language": "python",
     "metadata": {},
     "outputs": [
      {
       "output_type": "stream",
       "stream": "stdout",
       "text": [
        "Populating the interactive namespace from numpy and matplotlib\n"
       ]
      },
      {
       "output_type": "stream",
       "stream": "stderr",
       "text": [
        "WARNING: pylab import has clobbered these variables: ['f']\n",
        "`%matplotlib` prevents importing * from pylab and numpy\n"
       ]
      }
     ],
     "prompt_number": 6
    },
    {
     "cell_type": "code",
     "collapsed": false,
     "input": [
      "import matplotlib.pyplot as plt\n",
      "from mpl_toolkits.basemap import Basemap\n",
      "\n",
      "%pylab inline\n",
      "\n",
      "land_color = 'lightgray'\n",
      "water_color = 'lightblue'\n",
      "\n",
      "fig, ax = subplots(figsize=(20,20))\n",
      "#fig = pylab.figure(figsize=(20,20))\n",
      "map = Basemap(projection='merc', llcrnrlat=46, urcrnrlat=52,\n",
      "            llcrnrlon=3, urcrnrlon=18, resolution='i',area_thresh = 20)\n",
      "\n",
      "land_color = 'lightgray'\n",
      "water_color = 'lightblue'\n",
      "\n",
      "map.fillcontinents(color=land_color, lake_color=water_color)\n",
      "map.drawcoastlines()\n",
      "map.drawcountries()\n",
      "#map.drawparallels(np.arange(-90.,120.,30.))\n",
      "#map.drawmeridians(np.arange(0.,420.,60.))\n",
      "map.drawmapboundary(fill_color=water_color)\n",
      "#ax.set_title('Bistatic network')\n",
      "\n",
      "#x, y = map(np.array(near_transmitters.longitude_deg), np.array(near_transmitters.latitude_deg))\n",
      "#map.plot(x, y, marker='o', markersize=6, markerfacecolor='red', linewidth=0)\n",
      "\n",
      "x, y = map(np.array(5.5151), np.array(47.348))\n",
      "map.plot(x, y, marker='o', markersize=10, markerfacecolor='red', linewidth=0)\n",
      "\n",
      "\n",
      "for path in enumerate(raw_files):\n",
      "    station_latitude = path[1][1]['latitude']\n",
      "    station_longitude = path[1][1]['longitude']\n",
      "    x, y = map(station_longitude, station_latitude)\n",
      "    map.plot(x, y, marker='o', markersize=6, markerfacecolor='blue', linewidth=0)\n",
      "\n",
      "for path in enumerate(raw_files):\n",
      "    station_latitude = path[1][1]['latitude']\n",
      "    station_longitude = path[1][1]['longitude']\n",
      "    map.drawgreatcircle(5.5151, 47.348, station_longitude, station_latitude,linewidth=2,color='green')\n",
      "\n",
      "map.ax = ax\n",
      "#fig.show()\n",
      "#%pylab qt"
     ],
     "language": "python",
     "metadata": {},
     "outputs": []
    },
    {
     "cell_type": "code",
     "collapsed": false,
     "input": [
      "type(raw_files[1][1][1])"
     ],
     "language": "python",
     "metadata": {},
     "outputs": []
    },
    {
     "cell_type": "code",
     "collapsed": false,
     "input": [
      "help(map.plot)"
     ],
     "language": "python",
     "metadata": {},
     "outputs": []
    },
    {
     "cell_type": "code",
     "collapsed": false,
     "input": [],
     "language": "python",
     "metadata": {},
     "outputs": []
    },
    {
     "cell_type": "code",
     "collapsed": false,
     "input": [],
     "language": "python",
     "metadata": {},
     "outputs": []
    },
    {
     "cell_type": "code",
     "collapsed": false,
     "input": [],
     "language": "python",
     "metadata": {},
     "outputs": []
    },
    {
     "cell_type": "code",
     "collapsed": false,
     "input": [],
     "language": "python",
     "metadata": {},
     "outputs": []
    },
    {
     "cell_type": "code",
     "collapsed": false,
     "input": [],
     "language": "python",
     "metadata": {},
     "outputs": []
    },
    {
     "cell_type": "code",
     "collapsed": false,
     "input": [],
     "language": "python",
     "metadata": {},
     "outputs": []
    },
    {
     "cell_type": "code",
     "collapsed": false,
     "input": [],
     "language": "python",
     "metadata": {},
     "outputs": []
    },
    {
     "cell_type": "code",
     "collapsed": false,
     "input": [],
     "language": "python",
     "metadata": {},
     "outputs": []
    }
   ],
   "metadata": {}
  }
 ]
}