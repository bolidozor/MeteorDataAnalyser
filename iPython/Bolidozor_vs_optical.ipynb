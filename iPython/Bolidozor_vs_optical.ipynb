{
 "cells": [
  {
   "cell_type": "markdown",
   "metadata": {},
   "source": [
    "# Bolidozor vs optical trajectories - correlation example\n",
    "\n",
    "**Pred prvnim spustenim inicializujte funkce a importujte moduly, které jsou na konci tohoto notebooku\n",
    "\n",
    "také musí být na počítači nainstalováni MLABvoClient '''sudo pip3 install MLABvo'''\n",
    "\n",
    "\n",
    "\n",
    "## jak to celé má fungovat?\n",
    "(současný stav)\n",
    "\n",
    " * Vybrat shodu, ručně určit přibližně dráhu (zatím přesně)\n",
    " * Získat jednu shodu\n",
    " * Určit časový offset u každé detekce + stanovit nejmenší a největší čas ze všech dat.\n",
    " * Nepřesně určit dopplera pro dráhu + najít 'nulu' pro každou detekci\n",
    " * dopplera pro dráhu zpřesnit na úroveň vzorku v rozmezí n s od extrémních časů minim nulových dopplerů (tzn. reálných headeach)\n",
    " * Z dopplera vygenerovat signál\n",
    " * \n",
    " * \n",
    " * ...."
   ]
  },
  {
   "cell_type": "markdown",
   "metadata": {},
   "source": [
    "#\n",
    "# Inicializace\n",
    "\n",
    "K inicializaci před prvnim spustenim:"
   ]
  },
  {
   "cell_type": "code",
   "execution_count": 1,
   "metadata": {},
   "outputs": [],
   "source": [
    "import MLABvo.Bolidozor\n",
    "import MLABvo.BolidozorTools\n",
    "import numpy as np\n",
    "import scipy, scipy.constants\n",
    "import scipy, scipy.signal\n",
    "from Geocentric import Geocentric\n",
    "import matplotlib.pyplot as plt\n",
    "from astropy.io import fits\n",
    "import datetime\n",
    "from matplotlib import dates\n",
    "import recviewer\n",
    "\n",
    "def generate_path(start_point, stop_point, velocity, timesteps):\n",
    "    points = np.empty([timesteps.size, 3])\n",
    "    #start_lat, start_lon, start_alt = start\n",
    "    #stop_lat, stop_lon, stop_alt = end\n",
    "    #start_point = np.array(geoC.GeographicToGeocentric(start_lat, start_lon, start_alt))\n",
    "    #stop_point = np.array(geoC.GeographicToGeocentric(stop_la, stop_lon, stop_alt))\n",
    "    met_vect = stop_point - start_point\n",
    "    for i in range(timesteps.size):  # generate points on artifitial meteor trajectory (discretize in space)\n",
    "        points[i] =  start_point + (met_vect/np.linalg.norm(met_vect) * (timesteps[i] * velocity))\n",
    "    return(points)"
   ]
  },
  {
   "cell_type": "markdown",
   "metadata": {},
   "source": [
    "# Events\n",
    "\n",
    "jednotlivé události meteorů. Obsahují ID z bolidozoru a reálnou trajektorii..."
   ]
  },
  {
   "cell_type": "code",
   "execution_count": 2,
   "metadata": {},
   "outputs": [],
   "source": [
    "if False:#2057410\n",
    "    multibolid_id = 2057410\n",
    "    met_start_altitude = np.array([80000.0])\n",
    "    met_stop_altitude = np.array([44980.37638663])\n",
    "\n",
    "    met_stop_lat = np.array([48.340593635025])\n",
    "    met_stop_lon = np.array([6.572188010297])\n",
    "\n",
    "    met_start_lat = np.array([49.52717828089])\n",
    "    met_start_lon = np.array([6.763558272451])\n",
    "    \n",
    "    met_velocity = [45500]\n",
    "    model_offset = -8.25"
   ]
  },
  {
   "cell_type": "code",
   "execution_count": 3,
   "metadata": {},
   "outputs": [],
   "source": [
    "if True:#2047621\n",
    "    multibolid_id = 2047621\n",
    "    met_start_altitude = np.array([80000.0])\n",
    "    met_stop_altitude = np.array([41896.884619396])\n",
    "\n",
    "    met_start_lat = np.array([49.997439391249])\n",
    "    met_start_lon = np.array([9.692504979925])\n",
    "\n",
    "    met_stop_lat = np.array([50.035327181108])\n",
    "    met_stop_lon = np.array([7.560013628387])\n",
    "\n",
    "    met_velocity = [25000]\n",
    "    model_offset = 1.440"
   ]
  },
  {
   "cell_type": "code",
   "execution_count": 4,
   "metadata": {},
   "outputs": [],
   "source": [
    "if True: # 2017-12-12 20:3015\n",
    "         # http://fireball.imo.net/members/imo_view/event/2017/5190\n",
    "    multibolid_id = 2315086\n",
    "    met_start_altitude = np.array([55000.0])\n",
    "    met_stop_altitude = np.array([42000.7633450924])\n",
    "\n",
    "    met_stop_lon = np.array([9.303839])\n",
    "    met_stop_lat = np.array([51.844657845132])\n",
    "    \n",
    "    met_start_lon = np.array([9.303839])\n",
    "    met_start_lat = np.array([52.512474019106])\n",
    "\n",
    "    met_velocity = [30500]\n",
    "    model_offset = 3"
   ]
  },
  {
   "cell_type": "code",
   "execution_count": 5,
   "metadata": {},
   "outputs": [],
   "source": [
    "if True:#2017388\n",
    "    multibolid_id = 2017388\n",
    "    met_start_altitude = np.array([127870])\n",
    "    met_stop_altitude = np.array([70000])\n",
    "\n",
    "    met_stop_lon = np.array([6.512636353428])\n",
    "    met_stop_lat = np.array([51.944553218498])\n",
    "    \n",
    "    met_start_lon = np.array([9.996094184309])\n",
    "    met_start_lat = np.array([51.230870109095])\n",
    "\n",
    "    met_velocity = [31000]\n",
    "    model_offset = 7.94"
   ]
  },
  {
   "cell_type": "code",
   "execution_count": 3,
   "metadata": {},
   "outputs": [],
   "source": [
    "if True:#2017-01-31\n",
    "    multibolid_id = [34059317, 34059265, 34059249, 34059285, 34059251]\n",
    "    met_start_altitude = np.array([55000.0])\n",
    "    met_stop_altitude = np.array([8910.7633450924])\n",
    "\n",
    "    met_stop_lon = np.array([9.654562])\n",
    "    met_stop_lat = np.array([45.338965])\n",
    "    \n",
    "    met_start_lon = np.array([9.917798])\n",
    "    met_start_lat = np.array([45.213897])\n",
    "\n",
    "    met_velocity = [30500]\n",
    "    model_offset = 7.94"
   ]
  },
  {
   "cell_type": "code",
   "execution_count": null,
   "metadata": {},
   "outputs": [],
   "source": []
  },
  {
   "cell_type": "code",
   "execution_count": 4,
   "metadata": {},
   "outputs": [],
   "source": [
    "geoC = Geocentric(6378137, 6356752.314)\n",
    "stations = {}\n",
    "stations['SVAKOV-R12']={'name': 'SVAKOV','latitude':49.2607,'longitude':14.6917,'elevation':400, 'status': 'operational', 'type': 'receiver'}\n",
    "stations['ZVPP-R6']={'name': 'ZVPP','latitude':48.9869,'longitude':14.4675,'elevation':400, 'status': 'operational', 'type': 'receiver'}\n",
    "stations['HFN-R1']={'name': 'JHRADEC','latitude':49.1314,'longitude': 14.9999,'elevation':400, 'status': 'operational', 'type': 'receiver'}\n",
    "stations['VALMEZ-R1']={'name': 'VALMEZ','latitude':49.463038,'longitude': 17.973544,'elevation':400, 'status': 'testing', 'type': 'receiver'}\n",
    "stations['DDMTREBIC-R3']={'name': 'DDMTREBIC','latitude':49.2071,'longitude':15.8759,'elevation':480, 'status': 'operational', 'type': 'receiver'}\n",
    "stations['OBSUPICE-R6']={'name': 'OBSUPICE','latitude':50.5067,'longitude':16.0115,'elevation':400, 'status': 'operational', 'type': 'receiver'}\n",
    "stations['NACHODSKO-R5']={'name': 'TREBIC','latitude':49.2071,'longitude':15.8759,'elevation':480, 'status': 'operational', 'type': 'receiver'}\n",
    "\n",
    "c = scipy.constants.c\n",
    "trans_station_point = np.array(geoC.GeographicToGeocentric(47.347993, 5.515079, 190))\n",
    "t = 0.005\n",
    "t = 1/96000\n",
    "t = 1/96000*1000\n",
    "\n",
    "timesteps = np.arange(-20,5,t)"
   ]
  },
  {
   "cell_type": "code",
   "execution_count": 8,
   "metadata": {},
   "outputs": [
    {
     "name": "stdout",
     "output_type": "stream",
     "text": [
      "{'api_url': 'http://api.vo.astro.cz/bolidozor/', 'datetime_start': '2018-02-16 02:04:08.350942', 'api_version': '0.0.2', 'job_id': '656e185a-ac68-40d7-b3b5-fea3fc28a1bf', 'job_result_url': 'http://api.vo.astro.cz/bolidozor/job/656e185a-ac68-40d7-b3b5-fea3fc28a1bf', 'job_state': 'PENDING'}\n"
     ]
    }
   ],
   "source": [
    "# Slouzi pro vyber z DB shod\n",
    "\n",
    "bz = MLABvo.Bolidozor.Bolidozor()\n",
    "bolids = bz.getMultibolid(id=multibolid_id)"
   ]
  },
  {
   "cell_type": "code",
   "execution_count": 5,
   "metadata": {},
   "outputs": [
    {
     "name": "stdout",
     "output_type": "stream",
     "text": [
      "{'job_result_url': 'http://api.vo.astro.cz/bolidozor/job/e1e55290-5050-43a3-b480-2dfa6dd97d43', 'datetime_start': '2018-02-16 02:04:25.690389', 'job_state': 'PENDING', 'job_id': 'e1e55290-5050-43a3-b480-2dfa6dd97d43', 'api_version': '0.0.2', 'api_url': 'http://api.vo.astro.cz/bolidozor/'}\n"
     ]
    }
   ],
   "source": [
    "# Slouzi pro vyber z jednotlivych eventu\n",
    "\n",
    "bz = MLABvo.Bolidozor.Bolidozor()\n",
    "bolids = bz.getMeteor(id = multibolid_id)"
   ]
  },
  {
   "cell_type": "markdown",
   "metadata": {},
   "source": [
    "# Časové zarovnání\n",
    "\n",
    "Následující blok najde GPS značky v RAW souborech a k navrácené hodnotě z bolidozoru přidá informace o offsetu a zkalibrovaný čas. Tato data je pak možné dále používat. Na konci to vykreslí zarovnaný průběh signálu v čase."
   ]
  },
  {
   "cell_type": "code",
   "execution_count": 7,
   "metadata": {
    "scrolled": false
   },
   "outputs": [
    {
     "name": "stdout",
     "output_type": "stream",
     "text": [
      "Help on function timeCalibration in module MLABvo.Bolidozor:\n",
      "\n",
      "timeCalibration(raw_file, station=None, sigma=15, debug=True, browse_around=True, sigma_around=None, time_around=36000, smooth_distance=15, low_cut=10, high_cut=500.0, filter_order=3)\n",
      "\n",
      "\n",
      " 0 ==================================\n",
      " snapshot: http://space.astro.cz/bolidozor/support/js9browser/#/bolidozor/OBSUPICE/OBSUPICE-R6/meteors/2018/01/31/03/20180131030544222_OBSUPICE-R6_met.fits\n",
      "OBSUPICE-R6\n",
      "hledam alternativni zdroj presneho casu\n",
      "OBSUPICE-R6 True\n",
      "Okolnich souboru: 19\n",
      "+----++-+-+-++++--+"
     ]
    },
    {
     "data": {
      "image/png": "[encoded data removed]",
      "text/plain": [
       "<matplotlib.figure.Figure at 0x7f621c04f9e8>"
      ]
     },
     "metadata": {},
     "output_type": "display_data"
    },
    {
     "name": "stdout",
     "output_type": "stream",
     "text": [
      "popis krivky m, b: 3.35031306448e-05 -50834.4547532\n",
      "Neznama SAMPCORRECTION proto pouzivam z vypoctu 2.12161710821\n",
      "Zpracovavam soubor: http://space.astro.cz/bolidozor/OBSUPICE/OBSUPICE-R6/meteors/2018/01/31/03/20180131030544222_OBSUPICE-R6_raws.fits\n",
      "delka zaznamu          : 6.8 s\n",
      "cas prvni. vzorku s GPS: 0 s\n",
      "cas 1. GPS a konec     : 6.8 s\n",
      "SysCas ukladani souboru: 2018-01-31 03:05:48 s\n",
      "SysCas zacatku souboru : 2018-01-31 03:05:41.200000\n",
      "SysCas 1. GPS znacky   : 2018-01-31 03:05:41.200000\n",
      "Korekce systemoveho cas: 0:00:00\n",
      "Korekce casu zvukovky  : 2.12161710821 s\n",
      "CorCas ukladani souboru: 2018-01-31 03:05:48.900383 s\n",
      "CorCas zacatku souboru : 2018-01-31 03:05:42.100383\n",
      "CorCas 1. GPS znacky   : 2018-01-31 03:05:42.100383\n",
      "Kvalita souboru        : 50\n",
      "Pocet vzorku s gps znac: 0\n"
     ]
    },
    {
     "data": {
      "image/png": "[encoded data removed]",
      "text/plain": [
       "<matplotlib.figure.Figure at 0x7f621ab7f2e8>"
      ]
     },
     "metadata": {},
     "output_type": "display_data"
    },
    {
     "name": "stdout",
     "output_type": "stream",
     "text": [
      "\n",
      " 1 ==================================\n",
      " snapshot: http://space.astro.cz/bolidozor/support/js9browser/#/bolidozor/OBSUPICE/OBSUPICE-R6/meteors/2018/01/31/03/20180131030539443_OBSUPICE-R6_met.fits\n",
      "OBSUPICE-R6\n",
      "Zpracovavam soubor: http://space.astro.cz/bolidozor/OBSUPICE/OBSUPICE-R6/meteors/2018/01/31/03/20180131030539443_OBSUPICE-R6_raws.fits\n",
      "delka zaznamu          : 7.4 s\n",
      "cas prvni. vzorku s GPS: 2.8080989583333333 s\n",
      "cas 1. GPS a konec     : 4.591901041666667 s\n",
      "SysCas ukladani souboru: 2018-01-31 03:05:44 s\n",
      "SysCas zacatku souboru : 2018-01-31 03:05:36.600000\n",
      "SysCas 1. GPS znacky   : 2018-01-31 03:05:39.408099\n",
      "Korekce systemoveho cas: 0:00:00.591901\n",
      "Korekce casu zvukovky  : 2.251099109649658 s\n",
      "CorCas ukladani souboru: 2018-01-31 03:05:44.591901 s\n",
      "CorCas zacatku souboru : 2018-01-31 03:05:37.191901\n",
      "CorCas 1. GPS znacky   : 2018-01-31 03:05:40\n",
      "Kvalita souboru        : 100\n",
      "Pocet vzorku s gps znac: 81\n"
     ]
    },
    {
     "data": {
      "image/png": "[encoded data removed]",
      "text/plain": [
       "<matplotlib.figure.Figure at 0x7f621ad46b00>"
      ]
     },
     "metadata": {},
     "output_type": "display_data"
    },
    {
     "name": "stdout",
     "output_type": "stream",
     "text": [
      "\n",
      " 2 ==================================\n",
      " snapshot: http://space.astro.cz/bolidozor/support/js9browser/#/bolidozor/nachodsko/NACHODSKO-R5/meteors/2018/01/31/03/20180131030618894_NACHODSKO-R5_met.fits\n",
      "NACHODSKO-R5\n",
      "hledam alternativni zdroj presneho casu\n",
      "NACHODSKO-R5 True\n",
      "Okolnich souboru: 13\n",
      "-------------ERROR, bolids.result: too many indices for array\n",
      "\n",
      " 3 ==================================\n",
      " snapshot: http://space.astro.cz/bolidozor/support/js9browser/#/bolidozor/ddmtrebic/DDMTREBIC-R3/meteors/2018/01/31/03/20180131030546295_DDMTREBIC-R3_met.fits\n",
      "DDMTREBIC-R3\n",
      "Zpracovavam soubor: http://space.astro.cz/bolidozor/ddmtrebic/DDMTREBIC-R3/meteors/2018/01/31/03/20180131030546295_DDMTREBIC-R3_raws.fits\n",
      "delka zaznamu          : 30.4 s\n",
      "cas prvni. vzorku s GPS: 5.050463541666667 s\n",
      "cas 1. GPS a konec     : 25.349536458333333 s\n",
      "SysCas ukladani souboru: 2018-01-31 03:06:02 s\n",
      "SysCas zacatku souboru : 2018-01-31 03:05:31.600000\n",
      "SysCas 1. GPS znacky   : 2018-01-31 03:05:36.650464\n",
      "Korekce systemoveho cas: 0:00:03.349536\n",
      "Korekce casu zvukovky  : 11.345463991165161 s\n",
      "CorCas ukladani souboru: 2018-01-31 03:06:05.349536 s\n",
      "CorCas zacatku souboru : 2018-01-31 03:05:34.949536\n",
      "CorCas 1. GPS znacky   : 2018-01-31 03:05:40\n",
      "Kvalita souboru        : 100\n",
      "Pocet vzorku s gps znac: 1936\n"
     ]
    },
    {
     "data": {
      "image/png": "[encoded data removed]",
      "text/plain": [
       "<matplotlib.figure.Figure at 0x7f621ad35630>"
      ]
     },
     "metadata": {},
     "output_type": "display_data"
    },
    {
     "name": "stdout",
     "output_type": "stream",
     "text": [
      "\n",
      " 4 ==================================\n",
      " snapshot: http://space.astro.cz/bolidozor/support/js9browser/#/bolidozor/HFN/HFN-R1/meteors/2018/01/31/03/20180131030548860_HFN-R1_met.fits\n",
      "HFN-R1\n",
      "Zpracovavam soubor: http://space.astro.cz/bolidozor/HFN/HFN-R1/meteors/2018/01/31/03/20180131030548860_HFN-R1_raws.fits\n",
      "delka zaznamu          : 37.0 s\n",
      "cas prvni. vzorku s GPS: 5.787682291666667 s\n",
      "cas 1. GPS a konec     : 31.212317708333334 s\n",
      "SysCas ukladani souboru: 2018-01-31 03:06:07 s\n",
      "SysCas zacatku souboru : 2018-01-31 03:05:30\n",
      "SysCas 1. GPS znacky   : 2018-01-31 03:05:35.787682\n",
      "Korekce systemoveho cas: 0:00:04.212318\n",
      "Korekce casu zvukovky  : 14.647681951522827 s\n",
      "CorCas ukladani souboru: 2018-01-31 03:06:11.212318 s\n",
      "CorCas zacatku souboru : 2018-01-31 03:05:34.212318\n",
      "CorCas 1. GPS znacky   : 2018-01-31 03:05:40\n",
      "Kvalita souboru        : 100\n",
      "Pocet vzorku s gps znac: 2652\n"
     ]
    },
    {
     "data": {
      "image/png": "[encoded data removed]",
      "text/plain": [
       "<matplotlib.figure.Figure at 0x7f621ab34da0>"
      ]
     },
     "metadata": {},
     "output_type": "display_data"
    }
   ],
   "source": [
    "%matplotlib inline\n",
    "\n",
    "help(MLABvo.Bolidozor.timeCalibration)\n",
    "for i, bolid in enumerate(bolids.result):\n",
    "    try:\n",
    "        print(\"\\n\", i,\"==================================\\n\", \"snapshot:\", bolid['url_file_js9'])\n",
    "        print(bolid['station_name'])\n",
    "        bolids.result[i]['time_calib'] = MLABvo.Bolidozor.timeCalibration(bolid['url_file_raw'],\n",
    "                                         bolid['station_name'], sigma=15, browse_around=True, high_cut=500)\n",
    "    except Exception as e:\n",
    "        print(\"ERROR, bolids.result:\", e)"
   ]
  },
  {
   "cell_type": "markdown",
   "metadata": {},
   "source": [
    "Zde se vybegou všechny meteory ze shody"
   ]
  },
  {
   "cell_type": "code",
   "execution_count": 8,
   "metadata": {},
   "outputs": [],
   "source": [
    "selected = list(range(0, len(bolids.result)))\n",
    "time_offset = {}"
   ]
  },
  {
   "cell_type": "markdown",
   "metadata": {},
   "source": [
    "Tento blok zjišťuje čas prvního vzorku na všech detekcích a čas posledního. Navíc to vykreslí graf znázorňující jednotlivé signály posunuté podle zjištěného offsetu"
   ]
  },
  {
   "cell_type": "code",
   "execution_count": 9,
   "metadata": {},
   "outputs": [
    {
     "name": "stdout",
     "output_type": "stream",
     "text": [
      "0 {'sys_error': datetime.datetime(2018, 1, 31, 3, 5, 41, 200000), 'cor_file_beg': datetime.datetime(2018, 1, 31, 3, 5, 42, 100383), 'sys_file_end': datetime.datetime(2018, 1, 31, 3, 5, 48), 'DATE-OBS': datetime.datetime(2018, 1, 31, 3, 5, 44), 'method': 'Around GPS', 'cor_1st_GPS': datetime.datetime(2018, 1, 31, 3, 5, 42, 100383), 'sys_file_beg': datetime.datetime(2018, 1, 31, 3, 5, 41, 200000), 'sys_1st_GPS': datetime.datetime(2018, 1, 31, 3, 5, 41, 200000), 'cor_file_end': datetime.datetime(2018, 1, 31, 3, 5, 48, 900383), 'quality': 50, 'sys_correction': datetime.timedelta(0), 'CRVAL2': 1517367944.222, 'samp_correction': 2.1216171082123765}\n",
      "0 2018-01-31 03:05:42.100383 OBSUPICE-R6\n",
      "1 {'sys_error': datetime.datetime(2018, 1, 31, 3, 5, 39, 408099), 'cor_file_beg': datetime.datetime(2018, 1, 31, 3, 5, 37, 191901), 'sys_file_end': datetime.datetime(2018, 1, 31, 3, 5, 44), 'DATE-OBS': datetime.datetime(2018, 1, 31, 3, 5, 39), 'method': 'GPS', 'cor_1st_GPS': datetime.datetime(2018, 1, 31, 3, 5, 40), 'sys_file_beg': datetime.datetime(2018, 1, 31, 3, 5, 36, 600000), 'sys_1st_GPS': datetime.datetime(2018, 1, 31, 3, 5, 39, 408099), 'cor_file_end': datetime.datetime(2018, 1, 31, 3, 5, 44, 591901), 'quality': 100, 'sys_correction': datetime.timedelta(0, 0, 591901), 'CRVAL2': 1517367939.443, 'samp_correction': 2.251099109649658}\n",
      "1 2018-01-31 03:05:37.191901 OBSUPICE-R6\n",
      "'time_calib'\n",
      "3 {'sys_error': datetime.datetime(2018, 1, 31, 3, 5, 36, 650464), 'cor_file_beg': datetime.datetime(2018, 1, 31, 3, 5, 34, 949536), 'sys_file_end': datetime.datetime(2018, 1, 31, 3, 6, 2), 'DATE-OBS': datetime.datetime(2018, 1, 31, 3, 5, 46), 'method': 'GPS', 'cor_1st_GPS': datetime.datetime(2018, 1, 31, 3, 5, 40), 'sys_file_beg': datetime.datetime(2018, 1, 31, 3, 5, 31, 600000), 'sys_1st_GPS': datetime.datetime(2018, 1, 31, 3, 5, 36, 650464), 'cor_file_end': datetime.datetime(2018, 1, 31, 3, 6, 5, 349536), 'quality': 100, 'sys_correction': datetime.timedelta(0, 3, 349536), 'CRVAL2': 1517367946.295, 'samp_correction': 11.345463991165161}\n",
      "3 2018-01-31 03:05:34.949536 DDMTREBIC-R3\n",
      "4 {'sys_error': datetime.datetime(2018, 1, 31, 3, 5, 35, 787682), 'cor_file_beg': datetime.datetime(2018, 1, 31, 3, 5, 34, 212318), 'sys_file_end': datetime.datetime(2018, 1, 31, 3, 6, 7), 'DATE-OBS': datetime.datetime(2018, 1, 31, 3, 5, 48), 'method': 'GPS', 'cor_1st_GPS': datetime.datetime(2018, 1, 31, 3, 5, 40), 'sys_file_beg': datetime.datetime(2018, 1, 31, 3, 5, 30), 'sys_1st_GPS': datetime.datetime(2018, 1, 31, 3, 5, 35, 787682), 'cor_file_end': datetime.datetime(2018, 1, 31, 3, 6, 11, 212318), 'quality': 100, 'sys_correction': datetime.timedelta(0, 4, 212318), 'CRVAL2': 1517367948.86, 'samp_correction': 14.647681951522827}\n",
      "4 2018-01-31 03:05:34.212318 HFN-R1\n",
      "zpozdeni obrazku 757254.0\n",
      "zpozdeni obrazku 286040.0\n"
     ]
    },
    {
     "ename": "KeyError",
     "evalue": "'time_calib'",
     "output_type": "error",
     "traceback": [
      "\u001b[0;31m---------------------------------------------------------------------------\u001b[0m",
      "\u001b[0;31mKeyError\u001b[0m                                  Traceback (most recent call last)",
      "\u001b[0;32m<ipython-input-9-0050c8a07c5d>\u001b[0m in \u001b[0;36m<module>\u001b[0;34m()\u001b[0m\n\u001b[1;32m     48\u001b[0m     \u001b[0mbolid\u001b[0m \u001b[0;34m=\u001b[0m \u001b[0mbolids\u001b[0m\u001b[0;34m.\u001b[0m\u001b[0mresult\u001b[0m\u001b[0;34m[\u001b[0m\u001b[0mselected\u001b[0m\u001b[0;34m[\u001b[0m\u001b[0mi\u001b[0m\u001b[0;34m]\u001b[0m\u001b[0;34m]\u001b[0m\u001b[0;34m\u001b[0m\u001b[0m\n\u001b[1;32m     49\u001b[0m     \u001b[0mT_offset\u001b[0m \u001b[0;34m=\u001b[0m \u001b[0;36m10\u001b[0m\u001b[0;34m*\u001b[0m\u001b[0mtime_offset\u001b[0m\u001b[0;34m.\u001b[0m\u001b[0mget\u001b[0m\u001b[0;34m(\u001b[0m\u001b[0mselected\u001b[0m\u001b[0;34m[\u001b[0m\u001b[0mi\u001b[0m\u001b[0;34m]\u001b[0m\u001b[0;34m,\u001b[0m \u001b[0;36m0\u001b[0m\u001b[0;34m)\u001b[0m\u001b[0;34m\u001b[0m\u001b[0m\n\u001b[0;32m---> 50\u001b[0;31m     \u001b[0mtime_range\u001b[0m \u001b[0;34m=\u001b[0m \u001b[0mbolid\u001b[0m\u001b[0;34m[\u001b[0m\u001b[0;34m'time_calib'\u001b[0m\u001b[0;34m]\u001b[0m\u001b[0;34m[\u001b[0m\u001b[0;34m'time_range'\u001b[0m\u001b[0;34m]\u001b[0m\u001b[0;34m\u001b[0m\u001b[0m\n\u001b[0m\u001b[1;32m     51\u001b[0m     \u001b[0mimage_offset\u001b[0m \u001b[0;34m=\u001b[0m \u001b[0mtime_range\u001b[0m\u001b[0;34m[\u001b[0m\u001b[0;36m0\u001b[0m\u001b[0;34m]\u001b[0m \u001b[0;34m-\u001b[0m \u001b[0mminimal_time\u001b[0m \u001b[0;34m+\u001b[0m \u001b[0mT_offset\u001b[0m\u001b[0;34m\u001b[0m\u001b[0m\n\u001b[1;32m     52\u001b[0m     \u001b[0mprint\u001b[0m\u001b[0;34m(\u001b[0m\u001b[0;34m\"zpozdeni obrazku\"\u001b[0m\u001b[0;34m,\u001b[0m \u001b[0mnp\u001b[0m\u001b[0;34m.\u001b[0m\u001b[0mround\u001b[0m\u001b[0;34m(\u001b[0m\u001b[0mimage_offset\u001b[0m\u001b[0;34m*\u001b[0m\u001b[0;36m96000\u001b[0m\u001b[0;34m)\u001b[0m\u001b[0;34m)\u001b[0m\u001b[0;34m\u001b[0m\u001b[0m\n",
      "\u001b[0;31mKeyError\u001b[0m: 'time_calib'"
     ]
    },
    {
     "data": {
      "image/png": "[encoded data removed]",
      "text/plain": [
       "<matplotlib.figure.Figure at 0x7f625010acc0>"
      ]
     },
     "metadata": {},
     "output_type": "display_data"
    }
   ],
   "source": [
    "%matplotlib inline\n",
    "count = len(selected)\n",
    "fig, axis = plt.subplots(1, count, sharex=True, sharey=True, figsize=(20, 10))\n",
    "\n",
    "gps_calib = True\n",
    "minimal_time = None\n",
    "maximal_time = None\n",
    "min_date = None\n",
    "max_date = None\n",
    "\n",
    "for i, ax in enumerate(axis):\n",
    "    try:\n",
    "        bolid = bolids.result[selected[i]]\n",
    "        print(i, bolid['time_calib'])\n",
    "        print (i, bolid['time_calib']['cor_file_beg'], bolid['namesimple'])\n",
    "        hdulist = fits.open(bolid['url_file_raw'])\n",
    "        met_data = np.abs(np.ravel(hdulist[0].data))\n",
    "\n",
    "        T_offset = 10*time_offset.get(selected[i], 0)\n",
    "\n",
    "        if gps_calib:\n",
    "            ax.set_title(bolid['namesimple'] + \" (%s, %s)\"%(selected[i], bolid['time_calib']['method']))\n",
    "            min_date = bolid['time_calib']['cor_file_beg'].replace(tzinfo=datetime.timezone.utc).timestamp()+T_offset\n",
    "            max_date = bolid['time_calib']['cor_file_end'].replace(tzinfo=datetime.timezone.utc).timestamp()+T_offset\n",
    "            bolid['time_calib']['time_range']=[min_date, max_date]\n",
    "        else:\n",
    "            ax.set_title(bolid['namesimple'] + \" (\" + str(selected[i])+\") SYS-T\")\n",
    "            min_date = bolid['time_calib']['sys_file_beg'].replace(tzinfo=datetime.timezone.utc).timestamp()+T_offset\n",
    "            max_date = bolid['time_calib']['sys_file_end'].replace(tzinfo=datetime.timezone.utc).timestamp()+T_offset\n",
    "            bolid['time_calib']['time_range']=[min_date, max_date]\n",
    "        #array = np.arange(min_date, max_date, 1/96000/2)\n",
    "        array = np.arange(min_date, max_date, (max_date-min_date)/(len(met_data)))\n",
    "\n",
    "        if not minimal_time: minimal_time = min_date\n",
    "        if not maximal_time: maximal_time = max_date\n",
    "        if min_date < minimal_time: minimal_time = min_date\n",
    "        if max_date > maximal_time: maximal_time = max_date\n",
    "\n",
    "        ax.plot(met_data, array)\n",
    "        ax.grid(True)\n",
    "    except Exception as e:\n",
    "        print(e)\n",
    "\n",
    "del min_date # dale pouzivat minimal_time\n",
    "del max_date\n",
    "\n",
    "for i, ax in enumerate(axis):\n",
    "    bolid = bolids.result[selected[i]]\n",
    "    T_offset = 10*time_offset.get(selected[i], 0)\n",
    "    time_range = bolid['time_calib']['time_range']\n",
    "    image_offset = time_range[0] - minimal_time + T_offset\n",
    "    print(\"zpozdeni obrazku\", np.round(image_offset*96000))\n",
    "    bolid['time_calib']['sample_offset']=np.round(image_offset*96000)\n",
    "\n",
    "fig.subplots_adjust(wspace=0.02, left = 0.02, right=0.98,bottom=0.02, top=0.97)\n",
    "print(minimal_time, maximal_time)\n",
    "plt.show()"
   ]
  },
  {
   "cell_type": "markdown",
   "metadata": {},
   "source": [
    "\n",
    "Nyní je potřeba zkontrolovat, jestli předchozí algoritmus RAW data zarovnal správně. To lze zjistit podle GPS značek, že se nachází ve stejném čase. \n",
    "\n",
    "---\n",
    "\n",
    "Tato funkce najde čas (oproti vygenerované trajktorii), kde je nulový vektor radiální rychlosti. Tento bod to zjistí pro každou detekci Následně to spočítá doplera v blízkém okolí extrémů nulového dopplera s vysokým rozlišením (odpovídajcímu vzorkovací frekvenci).\n",
    "\n",
    "V druhé části to pro každý RAW záznam vygeneruje dopplera a pak ho převede na signál dopplera\n",
    "\n",
    "vytvori se promenna '''doppler_list''', která bude obsahovat pocet sloupcu odpovidajici poctu detekci. V kazde bude odpovidajici doppler (s vysokym rozlisenim)"
   ]
  },
  {
   "cell_type": "code",
   "execution_count": 10,
   "metadata": {},
   "outputs": [
    {
     "name": "stdout",
     "output_type": "stream",
     "text": [
      "probehl vypocet dopplera s malym rozlisenim, casy jsou -30.0 az -30.0.\n",
      "Časová řada má prvků: 96000\n"
     ]
    }
   ],
   "source": [
    "%matplotlib inline\n",
    "\n",
    "timesteps = np.arange(-30,30,0.1)\n",
    "dopplers_null = []\n",
    "\n",
    "#met_velocity = [60500]\n",
    "#model_offset = 3\n",
    "\n",
    "\n",
    "# vypocet dopplera s malym rozlisenim (jen pro urceni nuloveho posunu)\n",
    "for meteor in selected:\n",
    "    bolid = bolids.result[selected[meteor]]\n",
    "    met_start_point = np.array(geoC.GeographicToGeocentric(met_start_lat[0], met_start_lon[0], met_start_altitude[0]))\n",
    "    met_stop_point = np.array(geoC.GeographicToGeocentric(met_stop_lat[0], met_stop_lon[0], met_stop_altitude[0]))\n",
    "    station_point = np.array(geoC.GeographicToGeocentric(stations[bolid['namesimple']]['latitude'], \n",
    "                                                                 stations[bolid['namesimple']]['longitude'], stations[bolid['namesimple']]['elevation']))\n",
    "    met_points = generate_path(met_start_point, met_stop_point, met_velocity[0], timesteps)\n",
    "    doppler = MLABvo.BolidozorTools.estimate_dopplers(met_points, timesteps, 143050000, trans_station_point, station_point)\n",
    "    \n",
    "    doppler_zero_index = np.argmin(np.abs(doppler[:,1]))\n",
    "    doppler_zero_time = doppler[doppler_zero_index][0]\n",
    "    dopplers_null.append([doppler_zero_time])   \n",
    "    \n",
    "print(\"probehl vypocet dopplera s malym rozlisenim, casy jsou %s az %s.\" %(np.min(dopplers_null), np.max(dopplers_null)))\n",
    "\n",
    "okoli = 5   ## Jake okoli nuloveho dopplera generovat v [s]\n",
    "#timesteps = np.arange(np.min(dopplers_null)-okoli, np.max(dopplers_null)+okoli, 1/96000)\n",
    "timesteps = np.arange(np.min(dopplers_null)-okoli, np.max(dopplers_null)+okoli, 1/9600)\n",
    "#timesteps = np.arange(np.min(dopplers_null)-okoli, np.max(dopplers_null)+okoli, 0.05)\n",
    "print(\"Časová řada má prvků:\", len(timesteps))"
   ]
  },
  {
   "cell_type": "code",
   "execution_count": 11,
   "metadata": {
    "scrolled": false
   },
   "outputs": [
    {
     "name": "stdout",
     "output_type": "stream",
     "text": [
      "zacatek vypoctu s vysokym rozlisenim pro jednu stanici\n",
      "zacatek vypoctu s vysokym rozlisenim pro jednu stanici\n",
      "zacatek vypoctu s vysokym rozlisenim pro jednu stanici\n",
      "zacatek vypoctu s vysokym rozlisenim pro jednu stanici\n",
      "zacatek vypoctu s vysokym rozlisenim pro jednu stanici\n"
     ]
    },
    {
     "data": {
      "image/png": "[encoded data removed]",
      "text/plain": [
       "<matplotlib.figure.Figure at 0x7f621aa425f8>"
      ]
     },
     "metadata": {},
     "output_type": "display_data"
    },
    {
     "name": "stdout",
     "output_type": "stream",
     "text": [
      "CPU times: user 26.1 s, sys: 272 ms, total: 26.4 s\n",
      "Wall time: 26.4 s\n"
     ]
    }
   ],
   "source": [
    "%%time\n",
    "\n",
    "# vypocet dopplera s vysokym rozlisenim (pro presne urceni dopplera v okamzik nulove radialni rychlosti)\n",
    "for meteor in selected:\n",
    "    print(\"zacatek vypoctu s vysokym rozlisenim pro jednu stanici\")\n",
    "    bolid = bolids.result[selected[meteor]]\n",
    "\n",
    "    # prevedou se souradnice do kartezke soustavy a nasledne se spocita trajektorie (vektor) meteoru\n",
    "    met_start_point = np.array(geoC.GeographicToGeocentric(met_start_lat[0], met_start_lon[0], met_start_altitude[0]))\n",
    "    met_stop_point = np.array(geoC.GeographicToGeocentric(met_stop_lat[0], met_stop_lon[0], met_stop_altitude[0]))\n",
    "    station_point = np.array(geoC.GeographicToGeocentric(stations[bolid['namesimple']]['latitude'], \n",
    "                                                                 stations[bolid['namesimple']]['longitude'], stations[bolid['namesimple']]['elevation']))\n",
    "    met_points = generate_path(met_start_point, met_stop_point, met_velocity[0], timesteps)\n",
    "\n",
    "    # Vytvoreni modelu head-echa (dopplerovsky posuv modelu) \n",
    "    doppler = MLABvo.BolidozorTools.estimate_dopplers(met_points, timesteps, 143050000, trans_station_point, station_point)\n",
    "    #doppler_O = estimate_dopplers(met_points, timesteps, 143050000, trans_station_point, station_point)\n",
    "    \n",
    "    # zapise se index bodu simulace, kde je dopplerovsky posuv nulovy\n",
    "    bolids.result[selected[meteor]]['doppler_zero_index'] = np.argmin(np.abs(doppler[:,1])) # doppler zero index (index, kde je nejmensi dopplerovsky posuv)\n",
    "    \n",
    "    # Prevod dopplerovsych frekvenci na signal\n",
    "    # !!! Nejsem si jist, jestli toto provadim spravne\n",
    "    dt = timesteps[1]-timesteps[0]\n",
    "    signal = (np.sin(2*np.pi*dt*np.cumsum(np.interp(np.arange(len(doppler)), doppler[:,0], doppler[:, 1]))))\n",
    "    \n",
    "    #zapsat signal dopplera a frekvence dopplera k meteoru\n",
    "    bolids.result[selected[meteor]]['doppler_signal'] = signal\n",
    "    bolids.result[selected[meteor]]['doppler_frequency'] = doppler\n",
    "    plt.plot(doppler)\n",
    "\n",
    "plt.show()"
   ]
  },
  {
   "cell_type": "markdown",
   "metadata": {},
   "source": [
    "# Alternativní přístup pro namodelování headecha\n",
    "\n",
    "Tento přístup spočívá v namodelování situace pomocí symbolické rovnice."
   ]
  },
  {
   "cell_type": "code",
   "execution_count": 12,
   "metadata": {},
   "outputs": [],
   "source": [
    "import sympy as sp\n",
    "from scipy import constants"
   ]
  },
  {
   "cell_type": "code",
   "execution_count": null,
   "metadata": {
    "scrolled": true
   },
   "outputs": [],
   "source": []
  },
  {
   "cell_type": "code",
   "execution_count": 13,
   "metadata": {},
   "outputs": [],
   "source": [
    "\n",
    "def doppler_equation(freq = 143050000, delta = True):\n",
    "    M1_x = sp.Symbol('M1_x')\n",
    "    M1_y = sp.Symbol('M1_y')\n",
    "    M1_z = sp.Symbol('M1_z')\n",
    "\n",
    "    M2_x = sp.Symbol('M2_x')\n",
    "    M2_y = sp.Symbol('M2_y')\n",
    "    M2_z = sp.Symbol('M2_z')\n",
    "\n",
    "    VEL = sp.Symbol('Velocity')\n",
    "\n",
    "    TX_x = sp.Symbol('TX_x')\n",
    "    TX_y = sp.Symbol('TX_y')\n",
    "    TX_z = sp.Symbol('TX_z')\n",
    "\n",
    "    RX_x = sp.Symbol('RX_x')\n",
    "    RX_y = sp.Symbol('RX_y')\n",
    "    RX_z = sp.Symbol('RX_z')\n",
    "\n",
    "    t = sp.Symbol('time')\n",
    "\n",
    "    TX = sp.Matrix([TX_x, TX_y, TX_z])  # poloha vysilace\n",
    "    RX = sp.Matrix([RX_x, RX_y, RX_z])  # poloha stanice\n",
    "    M1 = sp.Matrix([M1_x, M1_y, M1_z])  # prvni souradnice trajektorie\n",
    "    M2 = sp.Matrix([M2_x, M2_y, M2_z])  # druha souradnice trajektorie\n",
    "    MV = (M2-M1).normalized()        # normalizovany vektor trajoktie\n",
    "\n",
    "    # poloha meteoru v case 'time'\n",
    "    MT = M1 + MV*VEL*t\n",
    "\n",
    "    #B_pn = (RX-TX).cross((RX-MT)) # bistatic plane normal\n",
    "\n",
    "    #Vmt = (TX-MT).normalized()\n",
    "    #Vmr = (RX-MT).normalized()\n",
    "    #Vba = Vmt+Vmr\n",
    "    \n",
    "    Rt = TX-MT\n",
    "    Rr = RX-MT\n",
    "    Rsum = sp.diff((Rt+Rr).dot(sp.Matrix([1,1,1])), 'time')\n",
    "\n",
    "    #l1, l2 = sp.Line3D(MT, TX), sp.Line3D(MT, RX)\n",
    "    #bistatic_angle = l1.angle_between(l2)\n",
    "    \n",
    "    #l1, l2 = sp.Line3D(MT, MT+Vba), sp.Line3D(MT, MT+MV)\n",
    "    #l1, l2 = sp.Line3D(MT, RX), sp.Line3D(MT, MT+MV)\n",
    "    #angle = l1.angle_between(l2)\n",
    "\n",
    "    #doppler = (int(not delta)+(sp.acos(angle)*VEL)/(constants.c))*freq\n",
    "    #doppler = freq * (sp.cos(angle - bistatic_angle/2)*VEL) / constants.c\n",
    "    \n",
    "    print(sp.diff(Rt.dot(sp.Matrix([1,1,1])), 'time'), Rr)\n",
    "    doppler = (VEL/constants.c)*Rsum\n",
    "    \n",
    "    return doppler"
   ]
  },
  {
   "cell_type": "code",
   "execution_count": 14,
   "metadata": {},
   "outputs": [
    {
     "name": "stdout",
     "output_type": "stream",
     "text": [
      "CPU times: user 2min 24s, sys: 347 ms, total: 2min 24s\n",
      "Wall time: 2min 27s\n"
     ]
    }
   ],
   "source": [
    "%%time\n",
    "\n",
    "echo_equation = MLABvo.BolidozorTools.doppler_equation().subs({\n",
    "#echo_equation = doppler_equation().subs({\n",
    "    \"TX_x\": trans_station_point[0],\n",
    "    \"TX_y\": trans_station_point[1],\n",
    "    \"TX_z\": trans_station_point[2]\n",
    "})"
   ]
  },
  {
   "cell_type": "code",
   "execution_count": 15,
   "metadata": {},
   "outputs": [
    {
     "name": "stdout",
     "output_type": "stream",
     "text": [
      "Vypocet pomoci symbolickeho vypoctu\n",
      "Vypocet pomoci symbolickeho vypoctu\n",
      "Vypocet pomoci symbolickeho vypoctu\n",
      "Vypocet pomoci symbolickeho vypoctu\n",
      "Vypocet pomoci symbolickeho vypoctu\n"
     ]
    },
    {
     "data": {
      "image/png": "[encoded data removed]",
      "text/plain": [
       "<matplotlib.figure.Figure at 0x7f621a9e3780>"
      ]
     },
     "metadata": {},
     "output_type": "display_data"
    },
    {
     "name": "stdout",
     "output_type": "stream",
     "text": [
      "CPU times: user 1min 48s, sys: 345 ms, total: 1min 48s\n",
      "Wall time: 1min 51s\n"
     ]
    }
   ],
   "source": [
    "%%time\n",
    "\n",
    "#okoli = 20   ## Jake okoli nuloveho dopplera generovat v [s]\n",
    "#timesteps = np.arange(np.min(dopplers_null)-okoli, np.max(dopplers_null)+okoli, 1/96000)\n",
    "timesteps = np.arange(22, 35, 1/9600)\n",
    "#timesteps = np.arange(np.min(dopplers_null)-okoli, np.max(dopplers_null)+okoli, 0.05)\n",
    "\n",
    "\n",
    "# vypocet dopplera s vysokym rozlisenim (pro presne urceni dopplera v okamzik nulove radialni rychlosti)\n",
    "for i, meteor in enumerate(selected):\n",
    "    print(\"Vypocet pomoci symbolickeho vypoctu\")\n",
    "    bolid = bolids.result[selected[meteor]]\n",
    "\n",
    "    # prevedou se souradnice do kartezke soustavy a nasledne se spocita trajektorie (vektor) meteoru\n",
    "    met1_co = np.array(geoC.GeographicToGeocentric(met_start_lat[0], met_start_lon[0], met_start_altitude[0]))\n",
    "    met2_co = np.array(geoC.GeographicToGeocentric(met_stop_lat[0], met_stop_lon[0], met_stop_altitude[0]))\n",
    "    stat_co = np.array(geoC.GeographicToGeocentric(stations[bolid['namesimple']]['latitude'], \n",
    "                       stations[bolid['namesimple']]['longitude'], stations[bolid['namesimple']]['elevation']))\n",
    "    echo = echo_equation.subs({\n",
    "        'RX_x': stat_co[0],\n",
    "        'RX_y': stat_co[1],\n",
    "        'RX_z': stat_co[2],\n",
    "\n",
    "        'M1_x': met1_co[0],\n",
    "        'M1_y': met1_co[1],\n",
    "        'M1_z': met1_co[2],\n",
    "\n",
    "        'M2_x': met2_co[0],\n",
    "        'M2_y': met2_co[1],\n",
    "        'M2_z': met2_co[2],\n",
    "        \n",
    "        'Velocity': met_velocity[0]\n",
    "    })\n",
    "    \n",
    "    #print(\"a\")\n",
    "    #print(\"Nulový doppler\", sp.solve(echo, 'time', minimal=True, check=False, quick=True))\n",
    "\n",
    "    echo_x = sp.lambdify('time', echo, modules=['numpy'])\n",
    "    y_vals = echo_x(timesteps)\n",
    "    bolids.result[selected[meteor]]['doppler_frequency2'] = y_vals\n",
    "    \n",
    "    #sp.plot(echo, ('time', -100, 100))\n",
    "    plt.plot(timesteps, y_vals)\n",
    "\n",
    "plt.show()"
   ]
  },
  {
   "cell_type": "markdown",
   "metadata": {},
   "source": [
    "Dále se vezme signál a bude se hledat nejlepší korelace."
   ]
  },
  {
   "cell_type": "code",
   "execution_count": 16,
   "metadata": {},
   "outputs": [
    {
     "ename": "ImportError",
     "evalue": "Matplotlib backend_wx and backend_wxagg require wxPython >=2.8.12",
     "output_type": "error",
     "traceback": [
      "\u001b[0;31m---------------------------------------------------------------------------\u001b[0m",
      "\u001b[0;31mImportError\u001b[0m                               Traceback (most recent call last)",
      "\u001b[0;32m/usr/local/lib/python3.5/dist-packages/matplotlib/backends/wx_compat.py\u001b[0m in \u001b[0;36m<module>\u001b[0;34m()\u001b[0m\n\u001b[1;32m     19\u001b[0m \u001b[0;32mtry\u001b[0m\u001b[0;34m:\u001b[0m\u001b[0;34m\u001b[0m\u001b[0m\n\u001b[0;32m---> 20\u001b[0;31m     \u001b[0;32mimport\u001b[0m \u001b[0mwx\u001b[0m\u001b[0;34m\u001b[0m\u001b[0m\n\u001b[0m\u001b[1;32m     21\u001b[0m     \u001b[0mbackend_version\u001b[0m \u001b[0;34m=\u001b[0m \u001b[0mwx\u001b[0m\u001b[0;34m.\u001b[0m\u001b[0mVERSION_STRING\u001b[0m\u001b[0;34m\u001b[0m\u001b[0m\n",
      "\u001b[0;31mImportError\u001b[0m: No module named 'wx'",
      "\nDuring handling of the above exception, another exception occurred:\n",
      "\u001b[0;31mImportError\u001b[0m                               Traceback (most recent call last)",
      "\u001b[0;32m<ipython-input-16-344714f72b5e>\u001b[0m in \u001b[0;36m<module>\u001b[0;34m()\u001b[0m\n\u001b[1;32m      1\u001b[0m \u001b[0;31m##### %matplotlib inline\u001b[0m\u001b[0;34m\u001b[0m\u001b[0;34m\u001b[0m\u001b[0m\n\u001b[1;32m      2\u001b[0m \u001b[0;31m#%matplotlib notebook\u001b[0m\u001b[0;34m\u001b[0m\u001b[0;34m\u001b[0m\u001b[0m\n\u001b[0;32m----> 3\u001b[0;31m \u001b[0mget_ipython\u001b[0m\u001b[0;34m(\u001b[0m\u001b[0;34m)\u001b[0m\u001b[0;34m.\u001b[0m\u001b[0mrun_line_magic\u001b[0m\u001b[0;34m(\u001b[0m\u001b[0;34m'matplotlib'\u001b[0m\u001b[0;34m,\u001b[0m \u001b[0;34m'wx'\u001b[0m\u001b[0;34m)\u001b[0m\u001b[0;34m\u001b[0m\u001b[0m\n\u001b[0m\u001b[1;32m      4\u001b[0m \u001b[0;34m\u001b[0m\u001b[0m\n\u001b[1;32m      5\u001b[0m \u001b[0;32mimport\u001b[0m \u001b[0mmatplotlib\u001b[0m\u001b[0;34m.\u001b[0m\u001b[0mdates\u001b[0m \u001b[0;32mas\u001b[0m \u001b[0mmd\u001b[0m\u001b[0;34m\u001b[0m\u001b[0m\n",
      "\u001b[0;32m/usr/local/lib/python3.5/dist-packages/IPython/core/interactiveshell.py\u001b[0m in \u001b[0;36mrun_line_magic\u001b[0;34m(self, magic_name, line, _stack_depth)\u001b[0m\n\u001b[1;32m   2093\u001b[0m                 \u001b[0mkwargs\u001b[0m\u001b[0;34m[\u001b[0m\u001b[0;34m'local_ns'\u001b[0m\u001b[0;34m]\u001b[0m \u001b[0;34m=\u001b[0m \u001b[0msys\u001b[0m\u001b[0;34m.\u001b[0m\u001b[0m_getframe\u001b[0m\u001b[0;34m(\u001b[0m\u001b[0mstack_depth\u001b[0m\u001b[0;34m)\u001b[0m\u001b[0;34m.\u001b[0m\u001b[0mf_locals\u001b[0m\u001b[0;34m\u001b[0m\u001b[0m\n\u001b[1;32m   2094\u001b[0m             \u001b[0;32mwith\u001b[0m \u001b[0mself\u001b[0m\u001b[0;34m.\u001b[0m\u001b[0mbuiltin_trap\u001b[0m\u001b[0;34m:\u001b[0m\u001b[0;34m\u001b[0m\u001b[0m\n\u001b[0;32m-> 2095\u001b[0;31m                 \u001b[0mresult\u001b[0m \u001b[0;34m=\u001b[0m \u001b[0mfn\u001b[0m\u001b[0;34m(\u001b[0m\u001b[0;34m*\u001b[0m\u001b[0margs\u001b[0m\u001b[0;34m,\u001b[0m\u001b[0;34m**\u001b[0m\u001b[0mkwargs\u001b[0m\u001b[0;34m)\u001b[0m\u001b[0;34m\u001b[0m\u001b[0m\n\u001b[0m\u001b[1;32m   2096\u001b[0m             \u001b[0;32mreturn\u001b[0m \u001b[0mresult\u001b[0m\u001b[0;34m\u001b[0m\u001b[0m\n\u001b[1;32m   2097\u001b[0m \u001b[0;34m\u001b[0m\u001b[0m\n",
      "\u001b[0;32m<decorator-gen-107>\u001b[0m in \u001b[0;36mmatplotlib\u001b[0;34m(self, line)\u001b[0m\n",
      "\u001b[0;32m/usr/local/lib/python3.5/dist-packages/IPython/core/magic.py\u001b[0m in \u001b[0;36m<lambda>\u001b[0;34m(f, *a, **k)\u001b[0m\n\u001b[1;32m    185\u001b[0m     \u001b[0;31m# but it's overkill for just that one bit of state.\u001b[0m\u001b[0;34m\u001b[0m\u001b[0;34m\u001b[0m\u001b[0m\n\u001b[1;32m    186\u001b[0m     \u001b[0;32mdef\u001b[0m \u001b[0mmagic_deco\u001b[0m\u001b[0;34m(\u001b[0m\u001b[0marg\u001b[0m\u001b[0;34m)\u001b[0m\u001b[0;34m:\u001b[0m\u001b[0;34m\u001b[0m\u001b[0m\n\u001b[0;32m--> 187\u001b[0;31m         \u001b[0mcall\u001b[0m \u001b[0;34m=\u001b[0m \u001b[0;32mlambda\u001b[0m \u001b[0mf\u001b[0m\u001b[0;34m,\u001b[0m \u001b[0;34m*\u001b[0m\u001b[0ma\u001b[0m\u001b[0;34m,\u001b[0m \u001b[0;34m**\u001b[0m\u001b[0mk\u001b[0m\u001b[0;34m:\u001b[0m \u001b[0mf\u001b[0m\u001b[0;34m(\u001b[0m\u001b[0;34m*\u001b[0m\u001b[0ma\u001b[0m\u001b[0;34m,\u001b[0m \u001b[0;34m**\u001b[0m\u001b[0mk\u001b[0m\u001b[0;34m)\u001b[0m\u001b[0;34m\u001b[0m\u001b[0m\n\u001b[0m\u001b[1;32m    188\u001b[0m \u001b[0;34m\u001b[0m\u001b[0m\n\u001b[1;32m    189\u001b[0m         \u001b[0;32mif\u001b[0m \u001b[0mcallable\u001b[0m\u001b[0;34m(\u001b[0m\u001b[0marg\u001b[0m\u001b[0;34m)\u001b[0m\u001b[0;34m:\u001b[0m\u001b[0;34m\u001b[0m\u001b[0m\n",
      "\u001b[0;32m/usr/local/lib/python3.5/dist-packages/IPython/core/magics/pylab.py\u001b[0m in \u001b[0;36mmatplotlib\u001b[0;34m(self, line)\u001b[0m\n\u001b[1;32m     97\u001b[0m             \u001b[0mprint\u001b[0m\u001b[0;34m(\u001b[0m\u001b[0;34m\"Available matplotlib backends: %s\"\u001b[0m \u001b[0;34m%\u001b[0m \u001b[0mbackends_list\u001b[0m\u001b[0;34m)\u001b[0m\u001b[0;34m\u001b[0m\u001b[0m\n\u001b[1;32m     98\u001b[0m         \u001b[0;32melse\u001b[0m\u001b[0;34m:\u001b[0m\u001b[0;34m\u001b[0m\u001b[0m\n\u001b[0;32m---> 99\u001b[0;31m             \u001b[0mgui\u001b[0m\u001b[0;34m,\u001b[0m \u001b[0mbackend\u001b[0m \u001b[0;34m=\u001b[0m \u001b[0mself\u001b[0m\u001b[0;34m.\u001b[0m\u001b[0mshell\u001b[0m\u001b[0;34m.\u001b[0m\u001b[0menable_matplotlib\u001b[0m\u001b[0;34m(\u001b[0m\u001b[0margs\u001b[0m\u001b[0;34m.\u001b[0m\u001b[0mgui\u001b[0m\u001b[0;34m)\u001b[0m\u001b[0;34m\u001b[0m\u001b[0m\n\u001b[0m\u001b[1;32m    100\u001b[0m             \u001b[0mself\u001b[0m\u001b[0;34m.\u001b[0m\u001b[0m_show_matplotlib_backend\u001b[0m\u001b[0;34m(\u001b[0m\u001b[0margs\u001b[0m\u001b[0;34m.\u001b[0m\u001b[0mgui\u001b[0m\u001b[0;34m,\u001b[0m \u001b[0mbackend\u001b[0m\u001b[0;34m)\u001b[0m\u001b[0;34m\u001b[0m\u001b[0m\n\u001b[1;32m    101\u001b[0m \u001b[0;34m\u001b[0m\u001b[0m\n",
      "\u001b[0;32m/usr/local/lib/python3.5/dist-packages/IPython/core/interactiveshell.py\u001b[0m in \u001b[0;36menable_matplotlib\u001b[0;34m(self, gui)\u001b[0m\n\u001b[1;32m   2976\u001b[0m                 \u001b[0mgui\u001b[0m\u001b[0;34m,\u001b[0m \u001b[0mbackend\u001b[0m \u001b[0;34m=\u001b[0m \u001b[0mpt\u001b[0m\u001b[0;34m.\u001b[0m\u001b[0mfind_gui_and_backend\u001b[0m\u001b[0;34m(\u001b[0m\u001b[0mself\u001b[0m\u001b[0;34m.\u001b[0m\u001b[0mpylab_gui_select\u001b[0m\u001b[0;34m)\u001b[0m\u001b[0;34m\u001b[0m\u001b[0m\n\u001b[1;32m   2977\u001b[0m \u001b[0;34m\u001b[0m\u001b[0m\n\u001b[0;32m-> 2978\u001b[0;31m         \u001b[0mpt\u001b[0m\u001b[0;34m.\u001b[0m\u001b[0mactivate_matplotlib\u001b[0m\u001b[0;34m(\u001b[0m\u001b[0mbackend\u001b[0m\u001b[0;34m)\u001b[0m\u001b[0;34m\u001b[0m\u001b[0m\n\u001b[0m\u001b[1;32m   2979\u001b[0m         \u001b[0mpt\u001b[0m\u001b[0;34m.\u001b[0m\u001b[0mconfigure_inline_support\u001b[0m\u001b[0;34m(\u001b[0m\u001b[0mself\u001b[0m\u001b[0;34m,\u001b[0m \u001b[0mbackend\u001b[0m\u001b[0;34m)\u001b[0m\u001b[0;34m\u001b[0m\u001b[0m\n\u001b[1;32m   2980\u001b[0m \u001b[0;34m\u001b[0m\u001b[0m\n",
      "\u001b[0;32m/usr/local/lib/python3.5/dist-packages/IPython/core/pylabtools.py\u001b[0m in \u001b[0;36mactivate_matplotlib\u001b[0;34m(backend)\u001b[0m\n\u001b[1;32m    306\u001b[0m \u001b[0;34m\u001b[0m\u001b[0m\n\u001b[1;32m    307\u001b[0m     \u001b[0;32mimport\u001b[0m \u001b[0mmatplotlib\u001b[0m\u001b[0;34m.\u001b[0m\u001b[0mpyplot\u001b[0m\u001b[0;34m\u001b[0m\u001b[0m\n\u001b[0;32m--> 308\u001b[0;31m     \u001b[0mmatplotlib\u001b[0m\u001b[0;34m.\u001b[0m\u001b[0mpyplot\u001b[0m\u001b[0;34m.\u001b[0m\u001b[0mswitch_backend\u001b[0m\u001b[0;34m(\u001b[0m\u001b[0mbackend\u001b[0m\u001b[0;34m)\u001b[0m\u001b[0;34m\u001b[0m\u001b[0m\n\u001b[0m\u001b[1;32m    309\u001b[0m \u001b[0;34m\u001b[0m\u001b[0m\n\u001b[1;32m    310\u001b[0m     \u001b[0;31m# This must be imported last in the matplotlib series, after\u001b[0m\u001b[0;34m\u001b[0m\u001b[0;34m\u001b[0m\u001b[0m\n",
      "\u001b[0;32m/usr/local/lib/python3.5/dist-packages/matplotlib/pyplot.py\u001b[0m in \u001b[0;36mswitch_backend\u001b[0;34m(newbackend)\u001b[0m\n\u001b[1;32m    229\u001b[0m     \u001b[0mmatplotlib\u001b[0m\u001b[0;34m.\u001b[0m\u001b[0muse\u001b[0m\u001b[0;34m(\u001b[0m\u001b[0mnewbackend\u001b[0m\u001b[0;34m,\u001b[0m \u001b[0mwarn\u001b[0m\u001b[0;34m=\u001b[0m\u001b[0;32mFalse\u001b[0m\u001b[0;34m,\u001b[0m \u001b[0mforce\u001b[0m\u001b[0;34m=\u001b[0m\u001b[0;32mTrue\u001b[0m\u001b[0;34m)\u001b[0m\u001b[0;34m\u001b[0m\u001b[0m\n\u001b[1;32m    230\u001b[0m     \u001b[0;32mfrom\u001b[0m \u001b[0mmatplotlib\u001b[0m\u001b[0;34m.\u001b[0m\u001b[0mbackends\u001b[0m \u001b[0;32mimport\u001b[0m \u001b[0mpylab_setup\u001b[0m\u001b[0;34m\u001b[0m\u001b[0m\n\u001b[0;32m--> 231\u001b[0;31m     \u001b[0m_backend_mod\u001b[0m\u001b[0;34m,\u001b[0m \u001b[0mnew_figure_manager\u001b[0m\u001b[0;34m,\u001b[0m \u001b[0mdraw_if_interactive\u001b[0m\u001b[0;34m,\u001b[0m \u001b[0m_show\u001b[0m \u001b[0;34m=\u001b[0m \u001b[0mpylab_setup\u001b[0m\u001b[0;34m(\u001b[0m\u001b[0;34m)\u001b[0m\u001b[0;34m\u001b[0m\u001b[0m\n\u001b[0m\u001b[1;32m    232\u001b[0m \u001b[0;34m\u001b[0m\u001b[0m\n\u001b[1;32m    233\u001b[0m \u001b[0;34m\u001b[0m\u001b[0m\n",
      "\u001b[0;32m/usr/local/lib/python3.5/dist-packages/matplotlib/backends/__init__.py\u001b[0m in \u001b[0;36mpylab_setup\u001b[0;34m(name)\u001b[0m\n\u001b[1;32m     58\u001b[0m     \u001b[0;31m# imports. 0 means only perform absolute imports.\u001b[0m\u001b[0;34m\u001b[0m\u001b[0;34m\u001b[0m\u001b[0m\n\u001b[1;32m     59\u001b[0m     backend_mod = __import__(backend_name, globals(), locals(),\n\u001b[0;32m---> 60\u001b[0;31m                              [backend_name], 0)\n\u001b[0m\u001b[1;32m     61\u001b[0m \u001b[0;34m\u001b[0m\u001b[0m\n\u001b[1;32m     62\u001b[0m     \u001b[0;31m# Things we pull in from all backends\u001b[0m\u001b[0;34m\u001b[0m\u001b[0;34m\u001b[0m\u001b[0m\n",
      "\u001b[0;32m/usr/local/lib/python3.5/dist-packages/matplotlib/backends/backend_wxagg.py\u001b[0m in \u001b[0;36m<module>\u001b[0;34m()\u001b[0m\n\u001b[1;32m      9\u001b[0m \u001b[0;32mfrom\u001b[0m \u001b[0;34m.\u001b[0m\u001b[0mbackend_agg\u001b[0m \u001b[0;32mimport\u001b[0m \u001b[0mFigureCanvasAgg\u001b[0m\u001b[0;34m\u001b[0m\u001b[0m\n\u001b[1;32m     10\u001b[0m \u001b[0;34m\u001b[0m\u001b[0m\n\u001b[0;32m---> 11\u001b[0;31m \u001b[0;32mfrom\u001b[0m \u001b[0;34m.\u001b[0m \u001b[0;32mimport\u001b[0m \u001b[0mwx_compat\u001b[0m \u001b[0;32mas\u001b[0m \u001b[0mwxc\u001b[0m\u001b[0;34m\u001b[0m\u001b[0m\n\u001b[0m\u001b[1;32m     12\u001b[0m \u001b[0;32mfrom\u001b[0m \u001b[0;34m.\u001b[0m \u001b[0;32mimport\u001b[0m \u001b[0mbackend_wx\u001b[0m\u001b[0;34m\u001b[0m\u001b[0m\n\u001b[1;32m     13\u001b[0m from .backend_wx import (_BackendWx, FigureManagerWx, FigureCanvasWx,\n",
      "\u001b[0;32m/usr/local/lib/python3.5/dist-packages/matplotlib/backends/wx_compat.py\u001b[0m in \u001b[0;36m<module>\u001b[0;34m()\u001b[0m\n\u001b[1;32m     22\u001b[0m     \u001b[0mis_phoenix\u001b[0m \u001b[0;34m=\u001b[0m \u001b[0;34m'phoenix'\u001b[0m \u001b[0;32min\u001b[0m \u001b[0mwx\u001b[0m\u001b[0;34m.\u001b[0m\u001b[0mPlatformInfo\u001b[0m\u001b[0;34m\u001b[0m\u001b[0m\n\u001b[1;32m     23\u001b[0m \u001b[0;32mexcept\u001b[0m \u001b[0mImportError\u001b[0m\u001b[0;34m:\u001b[0m\u001b[0;34m\u001b[0m\u001b[0m\n\u001b[0;32m---> 24\u001b[0;31m     \u001b[0;32mraise\u001b[0m \u001b[0mImportError\u001b[0m\u001b[0;34m(\u001b[0m\u001b[0mmissingwx\u001b[0m\u001b[0;34m)\u001b[0m\u001b[0;34m\u001b[0m\u001b[0m\n\u001b[0m\u001b[1;32m     25\u001b[0m \u001b[0;34m\u001b[0m\u001b[0m\n\u001b[1;32m     26\u001b[0m \u001b[0;31m# Ensure we have the correct version imported\u001b[0m\u001b[0;34m\u001b[0m\u001b[0;34m\u001b[0m\u001b[0m\n",
      "\u001b[0;31mImportError\u001b[0m: Matplotlib backend_wx and backend_wxagg require wxPython >=2.8.12"
     ]
    }
   ],
   "source": [
    "##### %matplotlib inline \n",
    "#%matplotlib notebook\n",
    "%matplotlib wx\n",
    "\n",
    "import matplotlib.dates as md\n",
    "from matplotlib import dates\n",
    "from matplotlib import interactive\n",
    "interactive(True)\n",
    "\n",
    "#timesteps = np.arange(np.min(dopplers_null)-okoli, np.max(dopplers_null)+okoli, 0.05)\n",
    "\n",
    "\n",
    "count = len(bolids.result)\n",
    "fig, axis = plt.subplots(1, count, sharex=True, sharey=True, figsize=(20, 10))\n",
    "\n",
    "#meteor_dopplers = [1,2]\n",
    "#timesteps = np.arange(-20,20,0.2)\n",
    "#met_points = np.empty([timesteps.size, 3])\n",
    "#met_velocity = [45500]\n",
    "#model_offset = 2.2\n",
    "\n",
    "for meteor in range(len( bolids.result)):\n",
    "    try:\n",
    "        # get meteor vector from start and stop point\n",
    "\n",
    "       # met_start_point = np.array(geoC.GeographicToGeocentric(met_start_lat[meteor], met_start_lon[meteor], met_start_altitude[meteor]))\n",
    "       # met_stop_point = np.array(geoC.GeographicToGeocentric(met_stop_lat[meteor], met_stop_lon[meteor], met_stop_altitude[meteor]))\n",
    "       # met_vect = met_stop_point - met_start_point\n",
    "        #print(met_vect)\n",
    "\n",
    "        #for i in range(timesteps.size):  # generate points on artifitial meteor trajectory (discretize in space)\n",
    "        #    met_points[i] =  met_start_point + (met_vect/np.linalg.norm(met_vect) * (timesteps[i] * met_velocity[meteor]))\n",
    "        #print(\"generation of points DONE\")\n",
    "\n",
    "        print(time_offset)\n",
    "        fig.suptitle(\"Multibolid %s (%s), velocity: %s\" %(datetime.datetime.utcfromtimestamp(minimal_time).date(), \"CB bolid\", 0))\n",
    "        fig.subplots_adjust(hspace=0)\n",
    "        plt.set_cmap('hot')\n",
    "        #for i, ax in enumerate(axis):\n",
    "        if True:\n",
    "            i = meteor\n",
    "            ax = axis[i]\n",
    "\n",
    "            bolid = bolids.result[i]\n",
    "            print(i, bolid['id_observer'])\n",
    "\n",
    "            hdu = fits.open(bolid['url_file_raw'])[0]\n",
    "            flat_data = np.ravel(hdu.data)\n",
    "            raw = flat_data[0::2] + 1j * flat_data[1::2]  # Bolidozor signal\n",
    "\n",
    "            #T_offset = datetime.timedelta(seconds = 10*time_offset.get(i, 0))\n",
    "            #print(i, selected[i], bolid['time_calib']['cor_file_beg'], bolid['time_calib']['cor_file_beg']+T_offset, T_offset)\n",
    "            d1 = bolid['time_calib']['cor_file_beg']\n",
    "            fds1 = dates.date2num(d1) # converted\n",
    "            d2 = d1 + datetime.timedelta(seconds=hdu.header['NAXIS2']/96000)\n",
    "            fds2 = dates.date2num(d2)\n",
    "            raw_timestep = np.arange(d1.timestamp(), d2.timestamp(), 1/96000)\n",
    "            #print(fds1, fds2, fds2-fds1)\n",
    "\n",
    "\n",
    "            ## optical doppler\n",
    "            #for station in stations:\n",
    "            #rec_station_point = np.array(geoC.GeographicToGeocentric(stations[bolid['namesimple']]['latitude'], \n",
    "            #                                                         stations[bolid['namesimple']]['longitude'], stations[bolid['namesimple']]['elevation']))\n",
    "\n",
    "            #doppler_t(met_points, timesteps, f0, trans_station_point, rec_station_point)\n",
    "            #doppler = estimate_dopplers2(met_points, timesteps, f0, trans_station_point, rec_station_point)\n",
    "            #if 'doppler_zero_index' not in locals():\n",
    "            #    doppler_zero_index = np.argmin(np.abs(doppler[:,1][1:-1]))+1\n",
    "            #    doppler_zero_time = doppler[doppler_zero_index][0]\n",
    "\n",
    "            dopp_time = np.vectorize(lambda x: dates.date2num(d1+datetime.timedelta(seconds=(x-doppler_zero_time+model_offset))))\n",
    "            dopp_freq = np.vectorize(lambda x: ((x)+26500.0))\n",
    "            #ax.plot(dopp_freq(bolid['doppler_frequency'][1:,1]), dopp_time(bolid['doppler_frequency'][1:,0]), 'blue')\n",
    "            ax.plot(dopp_freq(bolid['doppler_frequency2']), dopp_time(timesteps-60), 'green')\n",
    "\n",
    "            ######### ^^^^^^^^\n",
    "            ########\n",
    "\n",
    "            # Bolidozor\n",
    "            #print(raw)\n",
    "            arr = MLABvo.BolidozorTools.waterfall(raw, None, bins = 4096*2)\n",
    "            ax.imshow(arr,  interpolation='none', aspect='auto',  extent=[-48000, 48000, fds2, fds1])\n",
    "            ax.grid(True)\n",
    "\n",
    "            ax.set_xlim(13000*2,13500*2)\n",
    "            ax.yaxis_date()\n",
    "            date_format = md.DateFormatter('%H:%M:%S')\n",
    "            ax.yaxis.set_major_formatter(date_format)\n",
    "            fig.autofmt_xdate()\n",
    "            ax.set_ylim( datetime.datetime.utcfromtimestamp(minimal_time), datetime.datetime.utcfromtimestamp(maximal_time))\n",
    "\n",
    "            ax.set_title(str(bolid['id_observer']) + \" - \" + bolid.get('station_name', '-'))\n",
    "    except Exception as e: print(e)\n",
    "            \n",
    "fig.subplots_adjust(wspace=0.04, left = 0.03, right=0.98, bottom=0.03, top=0.93)\n",
    "#plt.savefig('output.png', dpi=300)\n",
    "\n",
    "#plt.close(fig)\n",
    "plt.show(fig)\n",
    "plt.gcf()\n",
    "#plt.ioff()\n",
    "#plt.gcf().show()\n",
    "#plt.show()"
   ]
  },
  {
   "cell_type": "code",
   "execution_count": null,
   "metadata": {},
   "outputs": [],
   "source": [
    "##### np.appen\n",
    "surround = 1\n",
    "\n",
    "#for meteor in selected:\n",
    "if True: # tady pak bude for pro vsechny stanice\n",
    "    meteor = 0\n",
    "    bolid = bolids.result[selected[meteor]]\n",
    "    hdulist = fits.open(bolid['url_file_raw'])\n",
    "    raw = hdulist[0].data[:,0] + hdulist[0].data[:,1] * 1j\n",
    "    fig, (ax1, ax2, ax3) = plt.subplots(3, 1, sharex=True, sharey=False, figsize=(20, 10))\n",
    "    \n",
    "    print(\"delka meteoru je\", raw.shape[0], 'vzorků a delka vygenerovaneho dopplera je na indexu', bolid['doppler_signal'].shape[0], 'vzorku. Vzorek s nulovym dopplerem oproti modelu je', repr(bolid['doppler_zero_index']))\n",
    "    \n",
    "    doppler = bolid['doppler_frequency']\n",
    "    doppler_signal = np.empty_like(raw)\n",
    "    doppler_freq_c = bolid['doppler_signal'][int(bolid['doppler_zero_index']-surround*96000):int(bolid['doppler_zero_index']+surround*96000)]\n",
    "    np.put(doppler_signal, np.arange(len(doppler_freq_c)), doppler_freq_c, mode='crop')\n",
    "\n",
    "    cor = scipy.signal.correlate(raw, doppler_signal, 'same')\n",
    "\n",
    "    l1 = range(len(raw.real))\n",
    "    l2 = range(len(doppler[1:,0][96000*2:]))\n",
    "\n",
    "    ax1.plot(np.abs(raw))\n",
    "    ax1.set_xlim(0,len(raw.real))\n",
    "\n",
    "    arr = waterfall(raw, None, bins = 4096*2)\n",
    "    ax2.imshow(arr.T,  interpolation='none', aspect='auto',  extent=[0, len(raw.real),48000, -48000], cmap=plt.get_cmap('hot'))\n",
    "    ax2.grid(True)\n",
    "    ax2.set_ylim(13000*2,13500*2)\n",
    "    ax2.plot(np.arange(1, len(doppler[:,1])), doppler[1:,1]+26500.0)\n",
    "    ax2.plot(np.arange(0, len(2+doppler[:,1][int(bolid['doppler_zero_index']-surround*96000):int(bolid['doppler_zero_index']+surround*96000)]))+0, doppler[1:,1][int(bolid['doppler_zero_index']-surround*96000):int(bolid['doppler_zero_index']+surround*96000)]+26500.0)\n",
    "\n",
    "\n",
    "   \n",
    "    ax3.plot(doppler_signal)\n",
    "    ax3.set_ylim(-300,300)\n",
    "    fig.subplots_adjust(wspace=0.04, hspace=0.04, left = 0.03, right=0.98, bottom=0.03, top=0.93)"
   ]
  },
  {
   "cell_type": "markdown",
   "metadata": {},
   "source": [
    "Na předchozí blok lze navázat. Jsou tam obsažena všechna potřebná data - RAW signál, začátek RAW souboru, doppler, signál dopplera"
   ]
  },
  {
   "cell_type": "code",
   "execution_count": null,
   "metadata": {},
   "outputs": [],
   "source": []
  },
  {
   "cell_type": "code",
   "execution_count": null,
   "metadata": {},
   "outputs": [],
   "source": []
  },
  {
   "cell_type": "code",
   "execution_count": null,
   "metadata": {},
   "outputs": [],
   "source": []
  },
  {
   "cell_type": "code",
   "execution_count": null,
   "metadata": {},
   "outputs": [],
   "source": []
  },
  {
   "cell_type": "code",
   "execution_count": null,
   "metadata": {},
   "outputs": [],
   "source": []
  },
  {
   "cell_type": "code",
   "execution_count": null,
   "metadata": {},
   "outputs": [],
   "source": []
  },
  {
   "cell_type": "markdown",
   "metadata": {},
   "source": [
    "# stare kody a ruzne pokusy  - ted uz asi casto nefunkcni"
   ]
  },
  {
   "cell_type": "code",
   "execution_count": null,
   "metadata": {
    "scrolled": true
   },
   "outputs": [],
   "source": [
    "##\n",
    "##\n",
    "##\n",
    "##\n",
    "\n",
    "%matplotlib tk\n",
    "\n",
    "meteor = 0\n",
    "\n",
    "bolid = bolids.result[selected[meteor]]\n",
    "hdulist = fits.open(bolid['url_file_raw'])\n",
    "raw = hdulist[0].data[:,0] + hdulist[0].data[:,1] * 1j\n",
    "\n",
    "if gps_calib:\n",
    "    #ax.set_title(bolid['namesimple'] + \" (%s, %s)\"%(selected[i], bolid['time_calib']['method']))\n",
    "    min_date = bolid['time_calib']['cor_file_beg'].replace(tzinfo=datetime.timezone.utc).timestamp()+T_offset\n",
    "    max_date = bolid['time_calib']['cor_file_end'].replace(tzinfo=datetime.timezone.utc).timestamp()+T_offset\n",
    "else:\n",
    "    #ax.set_title(bolid['namesimple'] + \" (\" + str(selected[i])+\") SYS-T\")\n",
    "    min_date = bolid['time_calib']['sys_file_beg'].replace(tzinfo=datetime.timezone.utc).timestamp()+T_offset\n",
    "    max_date = bolid['time_calib']['sys_file_end'].replace(tzinfo=datetime.timezone.utc).timestamp()+T_offset\n",
    "array = np.arange(min_date, max_date, (max_date-min_date)/(len(met_data)))\n",
    "\n",
    "\n",
    "met_start_point = np.array(geoC.GeographicToGeocentric(met_start_lat[0], met_start_lon[0], met_start_altitude[0]))\n",
    "met_stop_point = np.array(geoC.GeographicToGeocentric(met_stop_lat[0], met_stop_lon[0], met_stop_altitude[0]))\n",
    "station_point = np.array(geoC.GeographicToGeocentric(stations[bolid['namesimple']]['latitude'], \n",
    "                                                                 stations[bolid['namesimple']]['longitude'], stations[bolid['namesimple']]['elevation']))\n"
   ]
  },
  {
   "cell_type": "code",
   "execution_count": null,
   "metadata": {},
   "outputs": [],
   "source": [
    "print('met_points', met_points)\n",
    "print('timpstaps', timesteps)\n",
    "print('rec_station_point', rec_station_point)\n",
    "print('trans_station_point', trans_station_point)\n",
    "\n",
    "doppler = estimate_dopplers2(met_points, timesteps, 143050000, trans_station_point, rec_station_point)\n",
    "doppler_zero_index = np.argmin(np.abs(doppler[:,1]))\n",
    "doppler_zero_time = doppler[doppler_zero_index][0]\n",
    "\n",
    "dopp_time = np.vectorize(lambda x: dates.date2num(d1+datetime.timedelta(seconds=(x)+model_offset)))\n",
    "dopp_freq = np.vectorize(lambda x: ((x)+26500.0))\n",
    "\n",
    "print(raw)\n",
    "print(doppler)\n",
    "print(\"doppler_zero_time\", doppler_zero_time, \"@\", doppler_zero_index)\n",
    "\n"
   ]
  },
  {
   "cell_type": "code",
   "execution_count": null,
   "metadata": {},
   "outputs": [],
   "source": [
    "fig, (ax1, ax2, ax3) = plt.subplots(3, 1, sharex=True, sharey=False, figsize=(20, 10))\n",
    "sample_offset = -doppler_zero_index + int(96000*(1.6706))\n",
    "#sample_offset = -doppler_zero_index + int(96000*(-2.479))  #asi optimalni\n",
    "#sample_offset = -doppler_zero_index + int(96000*(-2))\n",
    "#sample_offset = -doppler_zero_index + int(96000*(-1))\n",
    "#sample_offset = -doppler_zero_index + int(96000*(0))\n",
    "\n",
    "\n",
    "x = np.arange(len(doppler[1:,1]))\n",
    "#y = 1*np.sin(2 * np.pi * doppler[1:,1] * x / 96000)\n",
    "#y = 1*np.sin(2 * np.pi * freq * x / sr)\n",
    "\n",
    "\n",
    "korekce = np.add.accumulate(len(doppler[1:,1])*np.concatenate((np.zeros(1), 2*np.pi*(doppler[1:,1][:-1]-doppler[1:,1][1:]))))\n",
    "y = np.sin(2*np.pi*doppler[1:,1]*len(doppler[1:,1]))*10\n",
    "#y2= np.sin(2*np.pi*doppler[1:,1]*len(doppler[1:,1]))\n",
    "\n",
    "doppler_signal = np.zeros_like(raw)\n",
    "np.put(doppler_signal, np.arange(1, len(y))+sample_offset, y, mode='crop')\n",
    "\n",
    "print(doppler_signal)\n",
    "print(raw)\n",
    "print(\"dopplerTime\")\n",
    "print(doppler[1:,0])\n",
    "\n",
    "cor = scipy.signal.correlate(raw, doppler_signal, 'same')\n",
    "\n",
    "l1 = range(len(raw.real))\n",
    "l2 = range(len(doppler[1:,0][96000*2:]))\n",
    "\n",
    "#ax1.plot(l1, doppler_signal.real, l1, cor.imag)\n",
    "ax1.plot(l1, raw.real, l1, raw.imag)\n",
    "ax1.set_xlim(0,len(raw.real))\n",
    "\n",
    "\n",
    "arr = waterfall(raw, None, bins = 4096*2)\n",
    "ax2.imshow(arr.T,  interpolation='none', aspect='auto',  extent=[0, len(raw.real),48000, -48000], cmap=plt.get_cmap('hot'))\n",
    "ax2.grid(True)\n",
    "ax2.set_ylim(13000*2,13500*2)\n",
    "ax2.plot(np.arange(1, len(doppler[:,1]))+sample_offset, doppler[1:,1]+26500.0)\n",
    "\n",
    "\n",
    "print(\"suma\", np.sum(np.abs(cor)))\n",
    "#ax3.plot(scipy.signal.correlate(doppler_signal, raw.real, 'same').real)\n",
    "#ax3.plot(cor)\n",
    "#ax3.plot(scipy.signal.convolve(raw.real, doppler_signal, 'same').real)\n",
    "#ax3.plot(y2)\n",
    "ax3.plot(y)\n",
    "ax3.set_ylim(-300,300)\n",
    "fig.subplots_adjust(wspace=0.04, hspace=0.04, left = 0.03, right=0.98, bottom=0.03, top=0.93)\n",
    "\n",
    "\n"
   ]
  },
  {
   "cell_type": "code",
   "execution_count": null,
   "metadata": {
    "scrolled": true
   },
   "outputs": [],
   "source": [
    "con = []\n",
    "for x in np.arange(1.655,1.67,10/96000):\n",
    "    sample_offset = int(-doppler_zero_index + int(96000*(x)))\n",
    "    doppler_signal = np.zeros_like(raw)\n",
    "    np.put(doppler_signal, np.arange(1, len(y))+sample_offset, y, mode='crop')\n",
    "    cor = scipy.signal.correlate(doppler_signal, raw, 'same')\n",
    "    s = np.sum(np.abs(cor[96000*int(x-0.5):96000*int(x+0.5)]))\n",
    "    print(x, s)\n",
    "    con.append([x, s])\n",
    "con = np.array(con)\n",
    "print(con[:,0])\n",
    "plt.plot(con[:,0], con[:,1])"
   ]
  },
  {
   "cell_type": "code",
   "execution_count": null,
   "metadata": {
    "scrolled": true
   },
   "outputs": [],
   "source": [
    "delp = 0\n",
    "dela = 0\n",
    "runc = 1 # pet nahodnych prubehu\n",
    "timesteps = np.arange(-10,5,1/96000)\n",
    "    \n",
    "    \n",
    "for runi in np.arange(runc):\n",
    "    doppler_zero_index = None\n",
    "    met_start_lat_rand = met_start_lat + np.random.ranf(met_start_lat.shape)*2*delp-delp\n",
    "    met_start_lon_rand = met_start_lon + np.random.ranf(met_start_lon.shape)*2*delp-delp\n",
    "    met_start_alt_rand = met_start_altitude + np.random.ranf(met_start_altitude.shape)*2*dela-dela\n",
    "    met_stop_lat_rand = met_stop_lat + np.random.ranf(met_stop_lat.shape)*2*delp-delp\n",
    "    met_stop_lon_rand = met_stop_lon + np.random.ranf(met_stop_lon.shape)*2*delp-delp\n",
    "    met_stop_alt_rand = met_stop_altitude + np.random.ranf(met_stop_altitude.shape)*2*dela-dela\n",
    "    met_velocity = np.random.randint(20000,50000, 1)\n",
    "    \n",
    "    met_points = np.empty([timesteps.size, 3])\n",
    "    met_start_point = np.array(geoC.GeographicToGeocentric(met_start_lat_rand[0], met_start_lon_rand[0], met_start_alt_rand[0]))\n",
    "    met_stop_point = np.array(geoC.GeographicToGeocentric(met_stop_lat_rand[0], met_stop_lon_rand[0], met_stop_alt_rand[0]))\n",
    "    met_vect = met_stop_point - met_start_point\n",
    "    print(\"meteor vector\", met_vect)\n",
    "    for i in range(timesteps.size):  # generate points on artifitial meteor trajectory (discretize in space)\n",
    "        met_points[i] =  met_start_point + (met_vect/np.linalg.norm(met_vect) * (timesteps[i] * met_velocity[0]))\n",
    "    print(\"generation of points DONE\")\n",
    "    "
   ]
  },
  {
   "cell_type": "code",
   "execution_count": null,
   "metadata": {
    "scrolled": false
   },
   "outputs": [],
   "source": [
    "#%matplotlib tk\n",
    "#%matplotlib notebook\n",
    "%matplotlib inline\n",
    "import time\n",
    "\n",
    "\n",
    "if True:\n",
    "    #\n",
    "    #  tady zacne for pro kazdou stanici\n",
    "    #\n",
    "    for meteor in np.arange(3):\n",
    "        con = []\n",
    "        bolid = bolids.result[selected[meteor]]\n",
    "        hdulist = fits.open(bolid['url_file_raw'])\n",
    "        raw = hdulist[0].data[:,0] + hdulist[0].data[:,1] * 1j\n",
    "    \n",
    "        rec_station_point = np.array(geoC.GeographicToGeocentric(stations[bolid['namesimple']]['latitude'], \n",
    "                                                                     stations[bolid['namesimple']]['longitude'], stations[bolid['namesimple']]['elevation']))\n",
    "\n",
    "        #doppler = estimate_dopplers2(met_points, timesteps, 143050000, trans_station_point, rec_station_point)\n",
    "        doppler = bolid['doppler']\n",
    "        x = np.arange(len(doppler)-1)\n",
    "        y = 1*np.sin(2 * np.pi * doppler[1:,1] * x / 96000)\n",
    "        if not doppler_zero_index:\n",
    "            doppler_zero_index = np.argmin(np.abs(doppler[:,1][1:-1]))+1\n",
    "            doppler_zero_time = doppler[doppler_zero_index][0]\n",
    "        #print(bolid['namesimple'])\n",
    "        \n",
    "        \n",
    "        for dtime in np.arange(1,7,1/96000*2000):\n",
    "            fig, (ax1, ax2, ax3) = plt.subplots(3, 1, sharex=True, sharey=False, figsize=(20, 10))\n",
    "            ax1.plot(raw.real)\n",
    "            ax1.plot(doppler)\n",
    "            doppler_signal = np.zeros_like(raw)\n",
    "            zeroi = doppler_zero_index+int(dtime*69000)\n",
    "            np.put(doppler_signal, np.arange(1, len(y))-doppler_zero_index+int(dtime*69000), y, mode='crop')\n",
    "            ax2.plot(doppler_signal.real)\n",
    "            #plt.show()\n",
    "            #time.sleep(10)\n",
    "            cor = scipy.signal.correlate(doppler_signal, raw, 'same')\n",
    "            ax3.plot(cor.real)\n",
    "            plt.savefig(bolid['namesimple']+str(dtime)+\".png\")\n",
    "            plt.close()\n",
    "            s = np.sum(np.abs(cor[int((dtime-0.5)*69000):int((dtime+0.5)*69000)]))/1e4\n",
    "            print(dtime, s)\n",
    "            con.append([dtime, s])\n",
    "        con = np.array(con)\n",
    "        print(bolid['namesimple'], \"tahle stanice byla zpracovana\")\n",
    "        plt.plot(con[:,0], con[:,1], label=bolid['namesimple'])\n",
    "        \n"
   ]
  },
  {
   "cell_type": "code",
   "execution_count": null,
   "metadata": {},
   "outputs": [],
   "source": []
  },
  {
   "cell_type": "code",
   "execution_count": null,
   "metadata": {},
   "outputs": [],
   "source": []
  },
  {
   "cell_type": "code",
   "execution_count": null,
   "metadata": {},
   "outputs": [],
   "source": []
  },
  {
   "cell_type": "markdown",
   "metadata": {},
   "source": [
    "\n"
   ]
  },
  {
   "cell_type": "code",
   "execution_count": null,
   "metadata": {},
   "outputs": [],
   "source": []
  },
  {
   "cell_type": "code",
   "execution_count": null,
   "metadata": {},
   "outputs": [],
   "source": []
  },
  {
   "cell_type": "code",
   "execution_count": null,
   "metadata": {},
   "outputs": [],
   "source": []
  },
  {
   "cell_type": "code",
   "execution_count": null,
   "metadata": {},
   "outputs": [],
   "source": []
  },
  {
   "cell_type": "code",
   "execution_count": null,
   "metadata": {},
   "outputs": [],
   "source": [
    "def estimate_dopplers2(trajectory, timesteps, f0, trans_station, rec_station):\n",
    "    # alternative algorithm\n",
    "    '''\n",
    "        Returns array of dopplers for given transmitter to receiver position and defined frequency and known trajectory.\n",
    "    '''\n",
    "   \n",
    "    doppler = np.empty([trajectory.shape[0], 2])\n",
    "    t = timesteps[1] - timesteps[0]\n",
    "    \n",
    "    for i in range(trajectory.shape[0]):\n",
    "        try: \n",
    "            # angle transmitter - meteor - reciever\n",
    "            ba = trans_station-trajectory[i]\n",
    "            bc = rec_station-trajectory[i]\n",
    "            TMR = np.arccos(np.dot(ba, bc) / (np.linalg.norm(ba) * np.linalg.norm(bc)))\n",
    "\n",
    "            # angle trajectory - meteor - reciever\n",
    "            ba = trajectory[i+1]-trajectory[i]\n",
    "            bc = rec_station-trajectory[i]\n",
    "            VMR = np.arccos(np.dot(ba, bc) / (np.linalg.norm(ba) * np.linalg.norm(bc)))\n",
    "            # angle trajectory - meteor - axis (of angle transmitter-meter-reciever)\n",
    "            VMA = VMR-TMR/2\n",
    "            #print(np.degrees(VMA))\n",
    "\n",
    "            # radial speed of meteor to axis of TMR angle (Transmitter - meteor - reciever)\n",
    "            radial_speed = np.cos(VMA)*(np.linalg.norm(trajectory[i]-trajectory[i+1])/t)\n",
    "            doppler_offset = (radial_speed/c)*f0\n",
    "            \n",
    "        except Exception as e:\n",
    "            #print(e)\n",
    "            pass\n",
    "        \n",
    "        doppler[i] = np.array([timesteps[i], doppler_offset])\n",
    "    return doppler\n",
    "\n"
   ]
  },
  {
   "cell_type": "code",
   "execution_count": null,
   "metadata": {},
   "outputs": [],
   "source": [
    "estimate_doppler()"
   ]
  },
  {
   "cell_type": "code",
   "execution_count": null,
   "metadata": {},
   "outputs": [],
   "source": []
  }
 ],
 "metadata": {
  "kernelspec": {
   "display_name": "Python 3",
   "language": "python",
   "name": "python3"
  },
  "language_info": {
   "codemirror_mode": {
    "name": "ipython",
    "version": 3
   },
   "file_extension": ".py",
   "mimetype": "text/x-python",
   "name": "python",
   "nbconvert_exporter": "python",
   "pygments_lexer": "ipython3",
   "version": "3.5.2"
  }
 },
 "nbformat": 4,
 "nbformat_minor": 2
}
