{
 "cells": [
  {
   "cell_type": "markdown",
   "metadata": {},
   "source": [
    "# Bolidozor vs optical trajectories - correlation example\n",
    "\n",
    "**Pred prvnim spustenim vytvorte funkce, které jsou na konci tohoto notebooku\n",
    "\n",
    "také musí být na počítači nainstalováni MLABvoClient '''sudo pip3 install MLABvo'''\n"
   ]
  },
  {
   "cell_type": "markdown",
   "metadata": {},
   "source": [
    "# Events\n",
    "\n",
    "jednotlivé události meteorů. Obsahují ID z bolidozoru a reálnou trajektorii..."
   ]
  },
  {
   "cell_type": "code",
   "execution_count": 5,
   "metadata": {},
   "outputs": [],
   "source": [
    "if False:#2057410\n",
    "    multibolid_id = 2057410\n",
    "    met_start_altitude = np.array([80000.0])\n",
    "    met_stop_altitude = np.array([44980.37638663])\n",
    "\n",
    "    met_stop_lat = np.array([48.340593635025])\n",
    "    met_stop_lon = np.array([6.572188010297])\n",
    "\n",
    "    met_start_lat = np.array([49.52717828089])\n",
    "    met_start_lon = np.array([6.763558272451])\n",
    "    \n",
    "    met_velocity = [45500]\n",
    "    model_offset = -8.25"
   ]
  },
  {
   "cell_type": "code",
   "execution_count": 6,
   "metadata": {},
   "outputs": [],
   "source": [
    "if True:#2047621\n",
    "    multibolid_id = 2047621\n",
    "    met_start_altitude = np.array([80000.0])\n",
    "    met_stop_altitude = np.array([41896.884619396])\n",
    "\n",
    "    met_start_lat = np.array([49.997439391249])\n",
    "    met_start_lon = np.array([9.692504979925])\n",
    "\n",
    "    met_stop_lat = np.array([50.035327181108])\n",
    "    met_stop_lon = np.array([7.560013628387])\n",
    "\n",
    "    met_velocity = [24500]\n",
    "    model_offset = 1.44"
   ]
  },
  {
   "cell_type": "code",
   "execution_count": 7,
   "metadata": {},
   "outputs": [],
   "source": [
    "if True:#2017388\n",
    "    multibolid_id = 2017388\n",
    "    met_start_altitude = np.array([55000.0])\n",
    "    met_stop_altitude = np.array([8910.7633450924])\n",
    "\n",
    "    met_stop_lon = np.array([6.512636353428])\n",
    "    met_stop_lat = np.array([51.944553218498])\n",
    "    \n",
    "    met_start_lon = np.array([9.996094184309])\n",
    "    met_start_lat = np.array([51.230870109095])\n",
    "\n",
    "    met_velocity = [30500]\n",
    "    model_offset = 7.94"
   ]
  },
  {
   "cell_type": "code",
   "execution_count": 8,
   "metadata": {},
   "outputs": [],
   "source": [
    "geoC = Geocentric(6378137, 6356752.314)\n",
    "stations = {}\n",
    "stations['SVAKOV-R12']={'name': 'SVAKOV','latitude':49.2607,'longitude':14.6917,'elevation':400, 'status': 'operational', 'type': 'receiver'}\n",
    "stations['ZVPP-R6']={'name': 'ZVPP','latitude':48.9869,'longitude':14.4675,'elevation':400, 'status': 'operational', 'type': 'receiver'}\n",
    "stations['HFN-R1']={'name': 'JHRADEC','latitude':49.1314,'longitude': 14.9999,'elevation':400, 'status': 'operational', 'type': 'receiver'}\n",
    "stations['VALMEZ-R1']={'name': 'VALMEZ','latitude':49.463038,'longitude': 17.973544,'elevation':400, 'status': 'testing', 'type': 'receiver'}\n",
    "stations['DDMTREBIC-R3']={'name': 'TREBIC','latitude':49.2071,'longitude':15.8759,'elevation':480, 'status': 'operational', 'type': 'receiver'}\n",
    "\n",
    "c = scipy.constants.c\n",
    "trans_station_point = np.array(geoC.GeographicToGeocentric(47.347993, 5.515079, 190))\n",
    "t = 0.005\n",
    "t = 1/96000\n",
    "t = 1/96000*1000\n",
    "\n",
    "timesteps = np.arange(-20,5,t)"
   ]
  },
  {
   "cell_type": "code",
   "execution_count": 9,
   "metadata": {},
   "outputs": [
    {
     "name": "stdout",
     "output_type": "stream",
     "text": [
      "{'api_url': 'http://api.vo.astro.cz/bolidozor/', 'api_version': '0.0.2', 'datetime_start': '2017-12-04 23:46:33.104737', 'job_result_url': 'http://api.vo.astro.cz/bolidozor/job/09a98be3-882b-4f65-882a-fded8b593503', 'job_state': 'PENDING', 'job_id': '09a98be3-882b-4f65-882a-fded8b593503'}\n"
     ]
    }
   ],
   "source": [
    "bz = MLABvo.Bolidozor.Bolidozor()\n",
    "bolids = bz.getMultibolid(id=multibolid_id)"
   ]
  },
  {
   "cell_type": "code",
   "execution_count": 10,
   "metadata": {
    "scrolled": true
   },
   "outputs": [
    {
     "name": "stdout",
     "output_type": "stream",
     "text": [
      "\n",
      " 0 ==================================\n",
      " snapshot: http://space.astro.cz/bolidozor/support/js9browser/#/bolidozor/svakov/SVAKOV-R12/meteors/2017/11/11/18/20171111180241253_SVAKOV-R12_met.fits\n",
      "Zpracovavam soubor: http://space.astro.cz/bolidozor/svakov/SVAKOV-R12/meteors/2017/11/11/18/20171111180241253_SVAKOV-R12_raws.fits\n",
      "delka zaznamu          : 17.6 s\n",
      "cas prvni. vzorku s GPS: 6.144463541666667 s\n",
      "cas 1. GPS a konec     : 11.455536458333334 s\n",
      "SysCas ukladani souboru: 2017-11-11 18:02:09 s\n",
      "SysCas zacatku souboru : 2017-11-11 18:01:51.400000\n",
      "SysCas 1. GPS znacky   : 2017-11-11 18:01:57.544464\n",
      "Korekce systemoveho cas: 0:00:02.455536\n",
      "Korekce casu zvukovky  : 47.39746403694153\n",
      "CorCas ukladani souboru: 2017-11-11 18:02:11.455536 s\n",
      "CorCas zacatku souboru : 2017-11-11 18:01:53.855536\n",
      "CorCas 1. GPS znacky   : 2017-11-11 18:02:00\n",
      "Kvalita souboru        : 100\n",
      "Pocet vzorku s gps znac: 3863\n"
     ]
    },
    {
     "data": {
      "image/png": "[encoded data removed]",
      "text/plain": [
       "<matplotlib.figure.Figure at 0x7f56676fee48>"
      ]
     },
     "metadata": {},
     "output_type": "display_data"
    },
    {
     "name": "stdout",
     "output_type": "stream",
     "text": [
      "\n",
      " 1 ==================================\n",
      " snapshot: http://space.astro.cz/bolidozor/support/js9browser/#/bolidozor/ddmtrebic/DDMTREBIC-R3/meteors/2017/11/11/18/20171111180205537_DDMTREBIC-R3_met.fits\n",
      "Zpracovavam soubor: http://space.astro.cz/bolidozor/ddmtrebic/DDMTREBIC-R3/meteors/2017/11/11/18/20171111180205537_DDMTREBIC-R3_raws.fits\n",
      "delka zaznamu          : 13.4 s\n",
      "cas prvni. vzorku s GPS: 5.914083333333333 s\n",
      "cas 1. GPS a konec     : 7.485916666666667 s\n",
      "SysCas ukladani souboru: 2017-11-11 18:02:06 s\n",
      "SysCas zacatku souboru : 2017-11-11 18:01:52.600000\n",
      "SysCas 1. GPS znacky   : 2017-11-11 18:01:58.514083\n",
      "Korekce systemoveho cas: 0:00:01.485917\n",
      "Korekce casu zvukovky  : 11.451082944869995\n",
      "CorCas ukladani souboru: 2017-11-11 18:02:07.485917 s\n",
      "CorCas zacatku souboru : 2017-11-11 18:01:54.085917\n",
      "CorCas 1. GPS znacky   : 2017-11-11 18:02:00\n",
      "Kvalita souboru        : 100\n",
      "Pocet vzorku s gps znac: 1237\n"
     ]
    },
    {
     "data": {
      "image/png": "[encoded data removed]",
      "text/plain": [
       "<matplotlib.figure.Figure at 0x7f56676fe438>"
      ]
     },
     "metadata": {},
     "output_type": "display_data"
    },
    {
     "name": "stdout",
     "output_type": "stream",
     "text": [
      "\n",
      " 2 ==================================\n",
      " snapshot: http://space.astro.cz/bolidozor/support/js9browser/#/bolidozor/HFN/HFN-R1/meteors/2017/11/11/18/20171111180154354_HFN-R1_met.fits\n",
      "Zpracovavam soubor: http://space.astro.cz/bolidozor/HFN/HFN-R1/meteors/2017/11/11/18/20171111180154354_HFN-R1_raws.fits\n",
      "delka zaznamu          : 18.399989583333333 s\n",
      "cas prvni. vzorku s GPS: 5.810583333333334 s\n",
      "cas 1. GPS a konec     : 12.58940625 s\n",
      "SysCas ukladani souboru: 2017-11-11 18:02:11 s\n",
      "SysCas zacatku souboru : 2017-11-11 18:01:52.600010\n",
      "SysCas 1. GPS znacky   : 2017-11-11 18:01:58.410594\n",
      "Korekce systemoveho cas: 0:00:01.589406\n",
      "Korekce casu zvukovky  : 0.16458415985107422\n",
      "CorCas ukladani souboru: 2017-11-11 18:02:12.589406 s\n",
      "CorCas zacatku souboru : 2017-11-11 18:01:54.189416\n",
      "CorCas 1. GPS znacky   : 2017-11-11 18:02:00\n",
      "Kvalita souboru        : 100\n",
      "Pocet vzorku s gps znac: 3740\n"
     ]
    },
    {
     "data": {
      "image/png": "[encoded data removed]",
      "text/plain": [
       "<matplotlib.figure.Figure at 0x7f56676fe8d0>"
      ]
     },
     "metadata": {},
     "output_type": "display_data"
    }
   ],
   "source": [
    "%matplotlib inline\n",
    "for i, bolid in enumerate(bolids.result):\n",
    "    try:\n",
    "        print(\"\\n\", i,\"==================================\\n\", \"snapshot:\", bolid['url_file_js9'])\n",
    "        bolids.result[i]['time_calib']=MLABvo.Bolidozor.timeCalibration(bolid['url_file_raw'], bolid['station_name'])\n",
    "    except Exception as e:\n",
    "        print(\"ERROR, bolids.result:\", e)"
   ]
  },
  {
   "cell_type": "code",
   "execution_count": 11,
   "metadata": {},
   "outputs": [],
   "source": [
    "selected = list(range(0, len(bolids.result)))\n",
    "time_offset={}"
   ]
  },
  {
   "cell_type": "code",
   "execution_count": null,
   "metadata": {},
   "outputs": [],
   "source": []
  },
  {
   "cell_type": "code",
   "execution_count": 12,
   "metadata": {},
   "outputs": [
    {
     "name": "stdout",
     "output_type": "stream",
     "text": [
      "Using matplotlib backend: TkAgg\n",
      "0 2017-11-11 18:01:53.855536 SVAKOV-R12\n",
      "1 2017-11-11 18:01:54.085917 DDMTREBIC-R3\n",
      "2 2017-11-11 18:01:54.189416 HFN-R1\n",
      "1510423313.855536 1510423332.589406\n"
     ]
    },
    {
     "data": {
      "image/png": "[encoded data removed]",
      "text/plain": [
       "<matplotlib.figure.Figure at 0x7f566772d908>"
      ]
     },
     "metadata": {},
     "output_type": "display_data"
    }
   ],
   "source": [
    "%matplotlib \n",
    "count = len(selected)\n",
    "fig, axis = plt.subplots(1, count, sharex=True, sharey=True, figsize=(20, 10))\n",
    "\n",
    "gps_calib = True\n",
    "minimal_time = None\n",
    "maximal_time = None\n",
    "\n",
    "for i, ax in enumerate(axis):\n",
    "    try:\n",
    "        bolid = bolids.result[selected[i]]\n",
    "        print (i, bolid['time_calib']['cor_file_beg'], bolid['namesimple'])\n",
    "        hdulist = fits.open(bolid['url_file_raw'])\n",
    "        met_data = np.abs(np.ravel(hdulist[0].data))\n",
    "\n",
    "        T_offset = 10*time_offset.get(selected[i], 0)\n",
    "\n",
    "        if gps_calib:\n",
    "            ax.set_title(bolid['namesimple'] + \" (%s, %s)\"%(selected[i], bolid['time_calib']['method']))\n",
    "            min_date = bolid['time_calib']['cor_file_beg'].replace(tzinfo=datetime.timezone.utc).timestamp()+T_offset\n",
    "            max_date = bolid['time_calib']['cor_file_end'].replace(tzinfo=datetime.timezone.utc).timestamp()+T_offset\n",
    "        else:\n",
    "            ax.set_title(bolid['namesimple'] + \" (\" + str(selected[i])+\") SYS-T\")\n",
    "            min_date = bolid['time_calib']['sys_file_beg'].replace(tzinfo=datetime.timezone.utc).timestamp()+T_offset\n",
    "            max_date = bolid['time_calib']['sys_file_end'].replace(tzinfo=datetime.timezone.utc).timestamp()+T_offset\n",
    "        array = np.arange(min_date, max_date, 1/96000/2)\n",
    "        array = np.arange(min_date, max_date, (max_date-min_date)/(len(met_data)))\n",
    "\n",
    "        if not minimal_time: minimal_time = min_date\n",
    "        if not maximal_time: maximal_time = max_date\n",
    "        if min_date < minimal_time: minimal_time = min_date\n",
    "        if max_date > maximal_time: maximal_time = max_date\n",
    "\n",
    "        ax.plot(met_data, array)\n",
    "        ax.grid(True)\n",
    "    except Exception as e:\n",
    "        print(e)\n",
    "\n",
    "fig.subplots_adjust(wspace=0.02, left = 0.02, right=0.98,bottom=0.02, top=0.97)\n",
    "print(minimal_time, maximal_time)\n",
    "plt.show()"
   ]
  },
  {
   "cell_type": "code",
   "execution_count": 13,
   "metadata": {
    "scrolled": true
   },
   "outputs": [
    {
     "name": "stdout",
     "output_type": "stream",
     "text": [
      "[ -55348.98914171 -253169.38847937   13468.96909561]\n",
      "generation of points DONE\n"
     ]
    }
   ],
   "source": [
    "%matplotlib tk\n",
    "\n",
    "meteor = 0\n",
    "\n",
    "bolid = bolids.result[selected[meteor]]\n",
    "flat_data = np.ravel(hdulist[0].data)\n",
    "raw = flat_data[0::2] + 1j * flat_data[1::2]\n",
    "\n",
    "if gps_calib:\n",
    "    #ax.set_title(bolid['namesimple'] + \" (%s, %s)\"%(selected[i], bolid['time_calib']['method']))\n",
    "    min_date = bolid['time_calib']['cor_file_beg'].replace(tzinfo=datetime.timezone.utc).timestamp()+T_offset\n",
    "    max_date = bolid['time_calib']['cor_file_end'].replace(tzinfo=datetime.timezone.utc).timestamp()+T_offset\n",
    "else:\n",
    "    #ax.set_title(bolid['namesimple'] + \" (\" + str(selected[i])+\") SYS-T\")\n",
    "    min_date = bolid['time_calib']['sys_file_beg'].replace(tzinfo=datetime.timezone.utc).timestamp()+T_offset\n",
    "    max_date = bolid['time_calib']['sys_file_end'].replace(tzinfo=datetime.timezone.utc).timestamp()+T_offset\n",
    "array = np.arange(min_date, max_date, (max_date-min_date)/(len(met_data)))\n",
    "\n",
    "\n",
    "timesteps = np.arange(-10,5,1/96000)\n",
    "met_points = np.empty([timesteps.size, 3])\n",
    "met_start_point = np.array(geoC.GeographicToGeocentric(met_start_lat[0], met_start_lon[0], met_start_altitude[0]))\n",
    "met_stop_point = np.array(geoC.GeographicToGeocentric(met_stop_lat[0], met_stop_lon[0], met_stop_altitude[0]))\n",
    "met_vect = met_stop_point - met_start_point\n",
    "print(met_vect)\n",
    "for i in range(timesteps.size):  # generate points on artifitial meteor trajectory (discretize in space)\n",
    "    met_points[i] =  met_start_point + (met_vect/np.linalg.norm(met_vect) * (timesteps[i] * met_velocity[0]))\n",
    "print(\"generation of points DONE\")\n",
    "rec_station_point = np.array(geoC.GeographicToGeocentric(stations[bolid['namesimple']]['latitude'], \n",
    "                                                                 stations[bolid['namesimple']]['longitude'], stations[bolid['namesimple']]['elevation']))\n"
   ]
  },
  {
   "cell_type": "code",
   "execution_count": 20,
   "metadata": {},
   "outputs": [
    {
     "name": "stdout",
     "output_type": "stream",
     "text": [
      "met_points [[ 4040256.33872669   998216.70946133  4976719.58606328]\n",
      " [ 4040256.27096209   998216.39950227  4976719.60255354]\n",
      " [ 4040256.2031975    998216.08954322  4976719.6190438 ]\n",
      " ..., \n",
      " [ 3942675.528913     551876.59863105  5000465.51046201]\n",
      " [ 3942675.46114841   551876.28867199  5000465.52695227]\n",
      " [ 3942675.39338381   551875.97871294  5000465.54344253]]\n",
      "timpstaps [-10.          -9.99998958  -9.99997917 ...,   4.99996875   4.99997917\n",
      "   4.99998958]\n",
      "rec_station_point [ 4034406.01706163  1057781.97186084  4809833.11880581]\n",
      "trans_station_point [ 4309400.73400393   416092.77960595  4668203.49623901]\n",
      "[ 0.00054264+0.05730415j -0.00820911+0.04518819j  0.01501334+0.02793241j\n",
      " ...,  0.01493442-0.0279758j   0.01917637-0.0486492j\n",
      "  0.00352788-0.07334042j]\n",
      "[[ -1.00000000e+01   4.93969135e+03]\n",
      " [ -9.99998958e+00   4.93967626e+03]\n",
      " [ -9.99997917e+00   4.93966125e+03]\n",
      " ..., \n",
      " [  4.99996875e+00  -7.36486391e+03]\n",
      " [  4.99997917e+00  -7.36486919e+03]\n",
      " [  4.99998958e+00  -7.36486919e+03]]\n"
     ]
    }
   ],
   "source": [
    "print('met_points', met_points)\n",
    "print('timpstaps', timesteps)\n",
    "print('rec_station_point', rec_station_point)\n",
    "print('trans_station_point', trans_station_point)\n",
    "\n",
    "doppler = estimate_dopplers2(met_points, timesteps, 143050000, trans_station_point, rec_station_point)\n",
    "\n",
    "dopp_time = np.vectorize(lambda x: dates.date2num(d1+datetime.timedelta(seconds=(x)+model_offset)))\n",
    "dopp_freq = np.vectorize(lambda x: ((x)+26500.0))\n",
    "\n",
    "print(raw)\n",
    "print(doppler)\n",
    "\n"
   ]
  },
  {
   "cell_type": "code",
   "execution_count": 56,
   "metadata": {},
   "outputs": [
    {
     "name": "stdout",
     "output_type": "stream",
     "text": [
      "[ 0.93685395+0.j  0.87701577+0.j  0.79873288+0.j ...,  0.00000000+0.j\n",
      "  0.00000000+0.j  0.00000000+0.j]\n",
      "[ 0.00054264+0.05730415j -0.00820911+0.04518819j  0.01501334+0.02793241j\n",
      " ...,  0.01493442-0.0279758j   0.01917637-0.0486492j\n",
      "  0.00352788-0.07334042j]\n",
      "dopplerTime\n",
      "[-9.99998958 -9.99997917 -9.99996875 ...,  4.99996875  4.99997917\n",
      "  4.99998958]\n"
     ]
    }
   ],
   "source": [
    "fig, (ax1, ax2, ax3) = plt.subplots(3, 1, sharex=True, sharey=False, figsize=(20, 10))\n",
    "sample_offset = int(96000*(-2.5))\n",
    "#sample_offset = int(96000*(-2.45))  #asi optimalni\n",
    "#sample_offset = int(96000*(-2))\n",
    "sample_offset = int(96000*(-1))\n",
    "#sample_offset = int(96000*(0))\n",
    "\n",
    "\n",
    "x = np.arange(len(f))\n",
    "y = 1*np.sin(2 * np.pi * doppler[1:,1] * x / 96000)\n",
    "\n",
    "doppler_signal = np.zeros_like(raw)\n",
    "np.put(doppler_signal, np.arange(1, len(y))+sample_offset, y, mode='crop')\n",
    "\n",
    "print(doppler_signal)\n",
    "print(raw)\n",
    "print(\"dopplerTime\")\n",
    "print(doppler[1:,0])\n",
    "\n",
    "l1 = range(len(raw.real))\n",
    "l2 = range(len(doppler[1:,0][96000*2:]))\n",
    "\n",
    "ax1.plot(l1, doppler_signal.real, l1, cor.imag)\n",
    "ax1.plot(l1, raw.real, l1, raw.imag)\n",
    "ax1.set_xlim(0,len(raw.real))\n",
    "\n",
    "arr = waterfall(raw, None, bins = 4096*2)\n",
    "ax2.imshow(arr.T,  interpolation='none', aspect='auto',  extent=[0, len(raw.real),48000, -48000], cmap=plt.get_cmap('hot'))\n",
    "ax2.grid(True)\n",
    "ax2.set_ylim(13000*2,13500*2)\n",
    "ax2.plot(np.arange(1, len(doppler[:,1]))+sample_offset, doppler[1:,1]+26500.0)\n",
    "\n",
    "#ax3.plot(scipy.signal.correlate(doppler_signal, raw.real, 'same').real)\n",
    "ax3.plot(scipy.signal.correlate(raw, doppler_signal, 'same').real)\n",
    "#ax3.plot(scipy.signal.convolve(raw.real, doppler_signal, 'same').real)\n",
    "ax3.set_ylim(-300,300)\n",
    "fig.subplots_adjust(wspace=0.04, hspace=0.04, left = 0.03, right=0.98, bottom=0.03, top=0.93)\n",
    "\n"
   ]
  },
  {
   "cell_type": "code",
   "execution_count": null,
   "metadata": {},
   "outputs": [],
   "source": []
  },
  {
   "cell_type": "code",
   "execution_count": null,
   "metadata": {},
   "outputs": [],
   "source": []
  },
  {
   "cell_type": "code",
   "execution_count": null,
   "metadata": {},
   "outputs": [],
   "source": []
  },
  {
   "cell_type": "code",
   "execution_count": null,
   "metadata": {},
   "outputs": [],
   "source": []
  },
  {
   "cell_type": "markdown",
   "metadata": {},
   "source": [
    "K inicializaci před prvnim spustenim:"
   ]
  },
  {
   "cell_type": "code",
   "execution_count": 57,
   "metadata": {},
   "outputs": [],
   "source": [
    "import MLABvo.Bolidozor\n",
    "import MLABvo.BolidozorTools\n",
    "import numpy as np\n",
    "import scipy, scipy.constants\n",
    "import scipy, scipy.signal\n",
    "from Geocentric import Geocentric\n",
    "import matplotlib.pyplot as plt\n",
    "from astropy.io import fits\n",
    "import datetime\n",
    "from matplotlib import dates\n",
    "import recviewer"
   ]
  },
  {
   "cell_type": "code",
   "execution_count": 16,
   "metadata": {},
   "outputs": [],
   "source": [
    "def waterfall(signal, sample_rate=None, bins = 4096 ):\n",
    "    waterfall = recviewer.waterfallize(signal, bins)\n",
    "    waterfall[np.isneginf(waterfall)] = np.nan\n",
    "    #wmin, wmax = np.nanmin(waterfall), np.nanmax(waterfall)\n",
    "    return waterfall"
   ]
  },
  {
   "cell_type": "code",
   "execution_count": 17,
   "metadata": {},
   "outputs": [],
   "source": [
    "def estimate_dopplers2(trajectory, timesteps, f0, trans_station, rec_station):\n",
    "    # alternative algorithm\n",
    "    '''\n",
    "        Returns array of dopplers for given transmitter to receiver position and defined frequency and known trajectory.\n",
    "    '''\n",
    "   \n",
    "    doppler = np.empty([trajectory.shape[0], 2])\n",
    "    t = timesteps[1] - timesteps[0]\n",
    "    \n",
    "    for i in range(trajectory.shape[0]):\n",
    "        try: \n",
    "            # angle transmitter - meteor - reciever\n",
    "            ba = trans_station-trajectory[i]\n",
    "            bc = rec_station-trajectory[i]\n",
    "            TMR = np.arccos(np.dot(ba, bc) / (np.linalg.norm(ba) * np.linalg.norm(bc)))\n",
    "\n",
    "            # angle trajectory - meteor - reciever\n",
    "            ba = trajectory[i+1]-trajectory[i]\n",
    "            bc = rec_station-trajectory[i]\n",
    "            VMR = np.arccos(np.dot(ba, bc) / (np.linalg.norm(ba) * np.linalg.norm(bc)))\n",
    "            # angle trajectory - meteor - axis (of angle transmitter-meter-reciever)\n",
    "            VMA = VMR-TMR/2\n",
    "            #print(np.degrees(VMA))\n",
    "\n",
    "            # radial speed of meteor to axis of TMR angle (Transmitter - meteor - reciever)\n",
    "            radial_speed = np.cos(VMA)*(np.linalg.norm(trajectory[i]-trajectory[i+1])/t)\n",
    "            doppler_offset = (radial_speed/c)*f0\n",
    "            \n",
    "        except Exception as e:\n",
    "            #print(e)\n",
    "            pass\n",
    "        \n",
    "        doppler[i] = np.array([timesteps[i], doppler_offset])\n",
    "    return doppler"
   ]
  },
  {
   "cell_type": "code",
   "execution_count": null,
   "metadata": {},
   "outputs": [],
   "source": [
    "\n",
    "\n",
    "\n",
    "\n",
    "\n",
    "\n"
   ]
  },
  {
   "cell_type": "code",
   "execution_count": null,
   "metadata": {},
   "outputs": [],
   "source": []
  },
  {
   "cell_type": "code",
   "execution_count": null,
   "metadata": {},
   "outputs": [],
   "source": []
  },
  {
   "cell_type": "code",
   "execution_count": null,
   "metadata": {},
   "outputs": [],
   "source": []
  },
  {
   "cell_type": "code",
   "execution_count": null,
   "metadata": {},
   "outputs": [],
   "source": []
  },
  {
   "cell_type": "code",
   "execution_count": null,
   "metadata": {},
   "outputs": [],
   "source": []
  },
  {
   "cell_type": "code",
   "execution_count": null,
   "metadata": {},
   "outputs": [],
   "source": []
  },
  {
   "cell_type": "code",
   "execution_count": null,
   "metadata": {},
   "outputs": [],
   "source": []
  }
 ],
 "metadata": {
  "kernelspec": {
   "display_name": "Python 3",
   "language": "python",
   "name": "python3"
  },
  "language_info": {
   "codemirror_mode": {
    "name": "ipython",
    "version": 3
   },
   "file_extension": ".py",
   "mimetype": "text/x-python",
   "name": "python",
   "nbconvert_exporter": "python",
   "pygments_lexer": "ipython3",
   "version": "3.5.2"
  }
 },
 "nbformat": 4,
 "nbformat_minor": 2
}
