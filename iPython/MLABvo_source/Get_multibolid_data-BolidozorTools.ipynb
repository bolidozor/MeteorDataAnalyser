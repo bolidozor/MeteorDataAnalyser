{
 "cells": [
  {
   "cell_type": "markdown",
   "metadata": {},
   "source": [
    "# Get multibolid data\n",
    "\n"
   ]
  },
  {
   "cell_type": "code",
   "execution_count": 27,
   "metadata": {
    "collapsed": true
   },
   "outputs": [],
   "source": [
    "from MLABvo.Bolidozor import Bolidozor\n",
    "from MLABvo.Bolidozor import timeCalibration \n",
    "import json\n",
    "import datetime\n",
    "import numpy as np\n",
    "import scipy.signal\n",
    "from astropy.io import fits\n",
    "import matplotlib.pyplot as plt\n",
    "import matplotlib.dates as md\n",
    "from matplotlib import dates\n",
    "import mpltools\n",
    "import sys\n",
    "sys.path.append(\"..\") \n",
    "import recviewer\n",
    "import dateutil.parser\n",
    "\n",
    "%matplotlib inline "
   ]
  },
  {
   "cell_type": "markdown",
   "metadata": {},
   "source": [
    "# Inicializace bolidozoru\n",
    "\n",
    "Funkce ```Bolidozor.getMultibolid``` jako jediný parametr bere id skupiny, které lze zjistit například zde: http://rtbolidozor.astro.cz/multibolid/"
   ]
  },
  {
   "cell_type": "code",
   "execution_count": 28,
   "metadata": {
    "collapsed": true
   },
   "outputs": [],
   "source": [
    "multibolid_id = 1686098"
   ]
  },
  {
   "cell_type": "code",
   "execution_count": 29,
   "metadata": {
    "scrolled": false
   },
   "outputs": [
    {
     "name": "stdout",
     "output_type": "stream",
     "text": [
      "Počet detekcí ve skupině je 4\n"
     ]
    }
   ],
   "source": [
    "bz = Bolidozor()\n",
    "bolids = bz.getMultibolid(id=multibolid_id)\n",
    "print('Počet detekcí ve skupině je',len(bolids.result))"
   ]
  },
  {
   "cell_type": "markdown",
   "metadata": {},
   "source": [
    "Získaná data z MLABvo jsou k dispozici v ```Bolidozor.getMultibolid.result```.\n",
    "\n",
    "Následující buňka ukazuje, jak lze procházet záznamy po jednom.\n",
    "\n",
    "**Výsledek obsahuje následující informace**"
   ]
  },
  {
   "cell_type": "code",
   "execution_count": 30,
   "metadata": {},
   "outputs": [
    {
     "name": "stdout",
     "output_type": "stream",
     "text": [
      "magnitude\n",
      "id_server\n",
      "url_station\n",
      "url_file_raw\n",
      "observatory_name\n",
      "obstime\n",
      "namesimple\n",
      "duration\n",
      "url_file\n",
      "url_file_js9\n",
      "observatory_namesimple\n",
      "filepath\n",
      "id_observer\n",
      "station_name\n",
      "event_id\n",
      "peak_f\n",
      "noise\n",
      "filename_raw\n",
      "file_status\n",
      "filename\n"
     ]
    }
   ],
   "source": [
    "for key in bolids.result[0].keys():\n",
    "    print(key)"
   ]
  },
  {
   "cell_type": "markdown",
   "metadata": {},
   "source": [
    "Nahrát data do cache"
   ]
  },
  {
   "cell_type": "code",
   "execution_count": 31,
   "metadata": {},
   "outputs": [
    {
     "name": "stdout",
     "output_type": "stream",
     "text": [
      "1 / 4\n",
      "2 / 4\n",
      "3 / 4\n",
      "4 / 4\n"
     ]
    }
   ],
   "source": [
    "for i, bolid in enumerate(bolids.result):\n",
    "    print(i+1,'/',len(bolids.result))\n",
    "    fits.open(bolid['url_file_raw'])"
   ]
  },
  {
   "cell_type": "markdown",
   "metadata": {},
   "source": [
    "# Kalibrace času\n",
    "\n",
    "tato funkce projde RAW soubory a snaží se v nich vyhledat GPS značku. \n",
    "\n",
    "Výstupem této funkce je ```dictionary```, který obsahuje informace o času na začátku souboru, času konce souboru a prvního vzorku s GPS značkou ze systémového času stanice. Tyto samé časy vrací taktéž oproti GPS času.\n",
    "\n",
    "Tato smyčka projde všechny soubory a použije na nich funkci pro kalibraci času. Výstup přidá do původní proměnné pod klíčem ```time_calib```.\n",
    "\n",
    "Pokud je zapnuté debugování, tak ze skriptu vypadávají tato data:\n",
    "```\n",
    "delka zaznamu          : Délka záznamu\n",
    "cas prvni vzorku s GPS : \n",
    "cas 1. GPS a konec     : Vzdálenost první detekované GPS ke konci souboru\n",
    "SysCas ukladani souboru: Čas z hlavičky FITSu ['DATE']\n",
    "SysCas zacatku souboru : Čas z hlavičky ['DATE'] mínus délka souboru\n",
    "SysCas 1. GPS znacky   : Systémový čas stanice v okamžiku GPS značky\n",
    "Korekce systémoveho čas: Systémový čas \n",
    "CorCas ukladani souboru: 2017-09-23 07:24:19.241618 s\n",
    "CorCas zacatku souboru : 2017-09-23 07:24:06.241614\n",
    "CorCas 1. GPS znacky   : 2017-09-23 07:24:10\n",
    "```"
   ]
  },
  {
   "cell_type": "code",
   "execution_count": 32,
   "metadata": {
    "scrolled": false
   },
   "outputs": [
    {
     "name": "stdout",
     "output_type": "stream",
     "text": [
      "0 ==================================\n",
      "snapshot: http://space.astro.cz/bolidozor/support/js9browser/#/bolidozor/OBSUPICE/OBSUPICE-R6/meteors/2017/10/11/10/20171011100248209_OBSUPICE-R6_met.fits\n",
      "Zpracovavam soubor: http://space.astro.cz/bolidozor/OBSUPICE/OBSUPICE-R6/meteors/2017/10/11/10/20171011100248209_OBSUPICE-R6_raws.fits\n",
      "delka zaznamu          : 11.2 s\n",
      "cas prvni. vzorku s GPS: 0 s\n",
      "cas 1. GPS a konec     : 11.2 s\n",
      "SysCas ukladani souboru: 2017-10-11 10:03:59 s\n",
      "SysCas zacatku souboru : 2017-10-11 10:03:47.800000\n",
      "SysCas 1. GPS znacky   : 2017-10-11 10:03:47.800000\n",
      "Korekce systémoveho čas: 0:00:00\n",
      "Korekce času zvukovky  : -59.59099984169006\n",
      "CorCas ukladani souboru: 2017-10-11 10:03:59 s\n",
      "CorCas zacatku souboru : 2017-10-11 10:03:47.800000\n",
      "CorCas 1. GPS znacky   : 2017-10-11 10:03:47.800000\n",
      "Kvalita souboru        : 0\n",
      "Počet vzorků s gps znač: 0\n"
     ]
    },
    {
     "data": {
      "image/png": "[encoded data removed]",
      "text/plain": [
       "<matplotlib.figure.Figure at 0x7f5bfd1e5e80>"
      ]
     },
     "metadata": {},
     "output_type": "display_data"
    },
    {
     "name": "stdout",
     "output_type": "stream",
     "text": [
      "1 ==================================\n",
      "snapshot: http://space.astro.cz/bolidozor/support/js9browser/#/bolidozor/CIIRC/CIIRC-R1/meteors/2017/10/11/10/20171011100531159_CIIRC-R1_met.fits\n",
      "Zpracovavam soubor: http://space.astro.cz/bolidozor/CIIRC/CIIRC-R1/meteors/2017/10/11/10/20171011100531159_CIIRC-R1_raws.fits\n",
      "delka zaznamu          : 12.8 s\n",
      "cas prvni. vzorku s GPS: 0 s\n",
      "cas 1. GPS a konec     : 12.8 s\n",
      "SysCas ukladani souboru: 2017-10-11 10:04:00 s\n",
      "SysCas zacatku souboru : 2017-10-11 10:03:47.200000\n",
      "SysCas 1. GPS znacky   : 2017-10-11 10:03:47.200000\n",
      "Korekce systémoveho čas: 0:00:00\n",
      "Korekce času zvukovky  : 103.95899987220764\n",
      "CorCas ukladani souboru: 2017-10-11 10:04:00 s\n",
      "CorCas zacatku souboru : 2017-10-11 10:03:47.200000\n",
      "CorCas 1. GPS znacky   : 2017-10-11 10:03:47.200000\n",
      "Kvalita souboru        : 0\n",
      "Počet vzorků s gps znač: 0\n"
     ]
    },
    {
     "data": {
      "image/png": "[encoded data removed]",
      "text/plain": [
       "<matplotlib.figure.Figure at 0x7f5bfd1e5240>"
      ]
     },
     "metadata": {},
     "output_type": "display_data"
    },
    {
     "name": "stdout",
     "output_type": "stream",
     "text": [
      "2 ==================================\n",
      "snapshot: http://space.astro.cz/bolidozor/support/js9browser/#/bolidozor/svakov/SVAKOV-R12/meteors/2017/10/11/10/20171011100307719_SVAKOV-R12_met.fits\n",
      "Zpracovavam soubor: http://space.astro.cz/bolidozor/svakov/SVAKOV-R12/meteors/2017/10/11/10/20171011100307719_SVAKOV-R12_raws.fits\n",
      "delka zaznamu          : 8.4 s\n",
      "cas prvni. vzorku s GPS: 0.9688177083333334 s\n",
      "cas 1. GPS a konec     : 7.431182291666667 s\n",
      "SysCas ukladani souboru: 2017-10-11 10:03:56 s\n",
      "SysCas zacatku souboru : 2017-10-11 10:03:47.600000\n",
      "SysCas 1. GPS znacky   : 2017-10-11 10:03:48.568818\n",
      "Korekce systémoveho čas: 0:00:01.431182\n",
      "Korekce času zvukovky  : -41.31218194961548\n",
      "CorCas ukladani souboru: 2017-10-11 10:03:57.431182 s\n",
      "CorCas zacatku souboru : 2017-10-11 10:03:49.031182\n",
      "CorCas 1. GPS znacky   : 2017-10-11 10:03:50\n",
      "Kvalita souboru        : 100\n",
      "Počet vzorků s gps znač: 2148\n"
     ]
    },
    {
     "data": {
      "image/png": "[encoded data removed]",
      "text/plain": [
       "<matplotlib.figure.Figure at 0x7f5bfc62d978>"
      ]
     },
     "metadata": {},
     "output_type": "display_data"
    },
    {
     "name": "stdout",
     "output_type": "stream",
     "text": [
      "3 ==================================\n",
      "snapshot: http://space.astro.cz/bolidozor/support/js9browser/#/bolidozor/HFN/HFN-R1/meteors/2017/10/11/10/20171011100411286_HFN-R1_met.fits\n",
      "hledam alternativni zdroj presneho casu\n",
      "getMeteorAround list index out of range\n",
      "## Nelze najit žádné daší meteory v okolí\n",
      "Zpracovavam soubor: http://space.astro.cz/bolidozor/HFN/HFN-R1/meteors/2017/10/11/10/20171011100411286_HFN-R1_raws.fits\n",
      "delka zaznamu          : 7.4 s\n",
      "cas prvni. vzorku s GPS: 0 s\n",
      "cas 1. GPS a konec     : 7.4 s\n",
      "SysCas ukladani souboru: 2017-10-11 10:03:57 s\n",
      "SysCas zacatku souboru : 2017-10-11 10:03:49.600000\n",
      "SysCas 1. GPS znacky   : 2017-10-11 10:03:49.600000\n",
      "Korekce systémoveho čas: 0:00:00\n",
      "Korekce času zvukovky  : 21.686000108718872\n",
      "CorCas ukladani souboru: 2017-10-11 10:03:57 s\n",
      "CorCas zacatku souboru : 2017-10-11 10:03:49.600000\n",
      "CorCas 1. GPS znacky   : 2017-10-11 10:03:49.600000\n",
      "Kvalita souboru        : 25\n",
      "Počet vzorků s gps znač: 0\n"
     ]
    },
    {
     "data": {
      "image/png": "[encoded data removed]",
      "text/plain": [
       "<matplotlib.figure.Figure at 0x7f5bfb7556d8>"
      ]
     },
     "metadata": {},
     "output_type": "display_data"
    }
   ],
   "source": [
    "np.set_printoptions(suppress=True)\n",
    "\n",
    "for i, bolid in enumerate(bolids.result):\n",
    "    try:\n",
    "        print(i,\"==================================\")\n",
    "        print(\"snapshot:\", bolid['url_file_js9'])\n",
    "        bolids.result[i]['time_calib']=timeCalibration(bolid['url_file_raw'], bolid['station_name'])\n",
    "    except Exception as e:\n",
    "        print(\"for bolids.result:\", e)\n",
    "    "
   ]
  },
  {
   "cell_type": "markdown",
   "metadata": {},
   "source": [
    "# Filtr nevyhovujících dat\n",
    "\n",
    "Protože v některých datech nemusí být dobře detekovatelná GPS značka, je zde možné tyto soubory ručně vyřadit. A to tím, že odkomentujete druhý řádek následující buňky a do seznamu napíšete čísla vyhovujících RAW souborů. (Jsou k nalezení ve výstupu předchozí buňky)"
   ]
  },
  {
   "cell_type": "code",
   "execution_count": 33,
   "metadata": {},
   "outputs": [
    {
     "name": "stdout",
     "output_type": "stream",
     "text": [
      "2 100 sysT of gps: 2017-10-11 10:03:50 ,offset: 0:00:01.431182 20171011100307719_SVAKOV-R12_met.fits\n"
     ]
    }
   ],
   "source": [
    "time_offset = {}\n",
    "selected = list(range(0, len(bolids.result)))     # vyber vsech dat\n",
    "\n",
    "#selected.remove(0)\n",
    "\n",
    "#selected = [3,4,5,6]     #Pokud chcete vybrat konkrétní data, \n",
    "                               #odkomentujte tento řádek a vložte do něj čísla požadovaných dat\n",
    "\n",
    "# time_offset[0] = +0   ## Posun času na stanici.\n",
    "                        # Timto posunete data pro určitou stanici (podle indexu souboru)\n",
    "                        # o určitý počet časových značek (10s intervalů) Kladné číslo posune graf 'nahoru\" \n",
    "\n",
    "for i, bolid in enumerate(bolids.result):\n",
    "    if bolid['time_calib']['quality'] < 50:\n",
    "        selected.remove(i)\n",
    "    if i in selected:\n",
    "        print(i, bolid['time_calib']['quality'], 'sysT of gps:', bolid['time_calib']['cor_1st_GPS'],\n",
    "              ',offset:', bolid['time_calib']['sys_correction'], bolid['filename'])"
   ]
  },
  {
   "cell_type": "markdown",
   "metadata": {},
   "source": [
    "# Zarovnané soubory\n",
    "\n",
    "Toto je první buňka, jejíž výstup obsahuje časově zarovnané grafy. Pomocí proměnné ```gps_calib``` můžete nastavit, zdali Vaše zarovnání bude oproti absolutním GPS značkám (```gps_calib=True```) nebo oproti systémovému času stanic (```gps_calib=False```)."
   ]
  },
  {
   "cell_type": "code",
   "execution_count": 34,
   "metadata": {
    "scrolled": false
   },
   "outputs": [
    {
     "ename": "TypeError",
     "evalue": "'AxesSubplot' object is not iterable",
     "output_type": "error",
     "traceback": [
      "\u001b[0;31m---------------------------------------------------------------------------\u001b[0m",
      "\u001b[0;31mTypeError\u001b[0m                                 Traceback (most recent call last)",
      "\u001b[0;32m<ipython-input-34-2f01effcee4b>\u001b[0m in \u001b[0;36m<module>\u001b[0;34m()\u001b[0m\n\u001b[1;32m      7\u001b[0m \u001b[0mmaximal_time\u001b[0m \u001b[0;34m=\u001b[0m \u001b[0;32mNone\u001b[0m\u001b[0;34m\u001b[0m\u001b[0m\n\u001b[1;32m      8\u001b[0m \u001b[0;34m\u001b[0m\u001b[0m\n\u001b[0;32m----> 9\u001b[0;31m \u001b[0;32mfor\u001b[0m \u001b[0mi\u001b[0m\u001b[0;34m,\u001b[0m \u001b[0max\u001b[0m \u001b[0;32min\u001b[0m \u001b[0menumerate\u001b[0m\u001b[0;34m(\u001b[0m\u001b[0maxis\u001b[0m\u001b[0;34m)\u001b[0m\u001b[0;34m:\u001b[0m\u001b[0;34m\u001b[0m\u001b[0m\n\u001b[0m\u001b[1;32m     10\u001b[0m     \u001b[0;32mtry\u001b[0m\u001b[0;34m:\u001b[0m\u001b[0;34m\u001b[0m\u001b[0m\n\u001b[1;32m     11\u001b[0m         \u001b[0mbolid\u001b[0m \u001b[0;34m=\u001b[0m \u001b[0mbolids\u001b[0m\u001b[0;34m.\u001b[0m\u001b[0mresult\u001b[0m\u001b[0;34m[\u001b[0m\u001b[0mselected\u001b[0m\u001b[0;34m[\u001b[0m\u001b[0mi\u001b[0m\u001b[0;34m]\u001b[0m\u001b[0;34m]\u001b[0m\u001b[0;34m\u001b[0m\u001b[0m\n",
      "\u001b[0;31mTypeError\u001b[0m: 'AxesSubplot' object is not iterable"
     ]
    },
    {
     "data": {
      "image/png": "[encoded data removed]",
      "text/plain": [
       "<matplotlib.figure.Figure at 0x7f5bfc6724a8>"
      ]
     },
     "metadata": {},
     "output_type": "display_data"
    }
   ],
   "source": [
    "%matplotlib inline \n",
    "count = len(selected)\n",
    "fig, axis = plt.subplots(1, count, sharex=True, sharey=True, figsize=(20, 10))\n",
    "\n",
    "gps_calib = True\n",
    "minimal_time = None\n",
    "maximal_time = None\n",
    "\n",
    "for i, ax in enumerate(axis):\n",
    "    try:\n",
    "        bolid = bolids.result[selected[i]]\n",
    "        print (i, bolid['time_calib']['cor_file_beg'])\n",
    "        hdulist = fits.open(bolid['url_file_raw'])\n",
    "        met_data = np.abs(np.ravel(hdulist[0].data))\n",
    "\n",
    "        T_offset = 10*time_offset.get(selected[i], 0)\n",
    "\n",
    "        if gps_calib:\n",
    "            ax.set_title(bolid['namesimple'] + \" (%s, %s)\"%(selected[i], bolid['time_calib']['method']))\n",
    "            min_date = bolid['time_calib']['cor_file_beg'].replace(tzinfo=datetime.timezone.utc).timestamp()+T_offset\n",
    "            max_date = bolid['time_calib']['cor_file_end'].replace(tzinfo=datetime.timezone.utc).timestamp()+T_offset\n",
    "        else:\n",
    "            ax.set_title(bolid['namesimple'] + \" (\" + str(selected[i])+\") SYS-T\")\n",
    "            min_date = bolid['time_calib']['sys_file_beg'].replace(tzinfo=datetime.timezone.utc).timestamp()+T_offset\n",
    "            max_date = bolid['time_calib']['sys_file_end'].replace(tzinfo=datetime.timezone.utc).timestamp()+T_offset\n",
    "        array = np.arange(min_date, max_date, (max_date-min_date)/(len(met_data)))\n",
    "\n",
    "        if not minimal_time: minimal_time = min_date\n",
    "        if not maximal_time: maximal_time = max_date\n",
    "        if min_date < minimal_time: minimal_time = min_date\n",
    "        if max_date > maximal_time: maximal_time = max_date\n",
    "\n",
    "        ax.plot(met_data, array)\n",
    "        ax.grid(True)\n",
    "    except Exception as e:\n",
    "        print(e)\n",
    "\n",
    "fig.subplots_adjust(hspace=0)\n",
    "print(minimal_time, maximal_time)"
   ]
  },
  {
   "cell_type": "code",
   "execution_count": 35,
   "metadata": {},
   "outputs": [
    {
     "name": "stdout",
     "output_type": "stream",
     "text": [
      "{}\n"
     ]
    },
    {
     "ename": "TypeError",
     "evalue": "a float is required",
     "output_type": "error",
     "traceback": [
      "\u001b[0;31m---------------------------------------------------------------------------\u001b[0m",
      "\u001b[0;31mTypeError\u001b[0m                                 Traceback (most recent call last)",
      "\u001b[0;32m<ipython-input-35-b94f559c2e1e>\u001b[0m in \u001b[0;36m<module>\u001b[0;34m()\u001b[0m\n\u001b[1;32m      5\u001b[0m \u001b[0;34m\u001b[0m\u001b[0m\n\u001b[1;32m      6\u001b[0m \u001b[0mprint\u001b[0m\u001b[0;34m(\u001b[0m\u001b[0mtime_offset\u001b[0m\u001b[0;34m)\u001b[0m\u001b[0;34m\u001b[0m\u001b[0m\n\u001b[0;32m----> 7\u001b[0;31m \u001b[0mfig\u001b[0m\u001b[0;34m.\u001b[0m\u001b[0msuptitle\u001b[0m\u001b[0;34m(\u001b[0m\u001b[0;34m\"Multibolid %s (%s)\"\u001b[0m \u001b[0;34m%\u001b[0m\u001b[0;34m(\u001b[0m\u001b[0mdatetime\u001b[0m\u001b[0;34m.\u001b[0m\u001b[0mdatetime\u001b[0m\u001b[0;34m.\u001b[0m\u001b[0mutcfromtimestamp\u001b[0m\u001b[0;34m(\u001b[0m\u001b[0mminimal_time\u001b[0m\u001b[0;34m)\u001b[0m\u001b[0;34m.\u001b[0m\u001b[0mdate\u001b[0m\u001b[0;34m(\u001b[0m\u001b[0;34m)\u001b[0m\u001b[0;34m,\u001b[0m \u001b[0mmultibolid_id\u001b[0m\u001b[0;34m)\u001b[0m\u001b[0;34m)\u001b[0m\u001b[0;34m\u001b[0m\u001b[0m\n\u001b[0m\u001b[1;32m      8\u001b[0m \u001b[0mfig\u001b[0m\u001b[0;34m.\u001b[0m\u001b[0msubplots_adjust\u001b[0m\u001b[0;34m(\u001b[0m\u001b[0mhspace\u001b[0m\u001b[0;34m=\u001b[0m\u001b[0;36m0\u001b[0m\u001b[0;34m)\u001b[0m\u001b[0;34m\u001b[0m\u001b[0m\n\u001b[1;32m      9\u001b[0m \u001b[0mplt\u001b[0m\u001b[0;34m.\u001b[0m\u001b[0mset_cmap\u001b[0m\u001b[0;34m(\u001b[0m\u001b[0;34m'hot'\u001b[0m\u001b[0;34m)\u001b[0m\u001b[0;34m\u001b[0m\u001b[0m\n",
      "\u001b[0;31mTypeError\u001b[0m: a float is required"
     ]
    },
    {
     "data": {
      "image/png": "[encoded data removed]",
      "text/plain": [
       "<matplotlib.figure.Figure at 0x7f5bfc5598d0>"
      ]
     },
     "metadata": {},
     "output_type": "display_data"
    }
   ],
   "source": [
    "%matplotlib inline \n",
    "#%matplotlib notebook\n",
    "count = len(selected)\n",
    "fig, axis = plt.subplots(1, count, sharex=True, sharey=True, figsize=(25, 15))\n",
    "\n",
    "print(time_offset)\n",
    "fig.suptitle(\"Multibolid %s (%s)\" %(datetime.datetime.utcfromtimestamp(minimal_time).date(), multibolid_id))\n",
    "fig.subplots_adjust(hspace=0)\n",
    "plt.set_cmap('hot')\n",
    "for i, ax in enumerate(axis):\n",
    "    bolid = bolids.result[selected[i]]\n",
    "    hdu = fits.open(bolid['url_file_raw'])[0]\n",
    "    flat_data = np.ravel(hdu.data)\n",
    "    \n",
    "    T_offset = datetime.timedelta(seconds = 10*time_offset.get(selected[i], 0))\n",
    "    #print(i, selected[i], bolid['time_calib']['cor_file_beg'], bolid['time_calib']['cor_file_beg']+T_offset, T_offset)\n",
    "    d1 = bolid['time_calib']['cor_file_beg']+T_offset\n",
    "    fds1 = dates.date2num(d1) # converted\n",
    "    d2 = d1 + datetime.timedelta(seconds=hdu.header['NAXIS2']/49000.0/2)\n",
    "    fds2 = dates.date2num(d2)\n",
    "    \n",
    "    arr = waterfall(flat_data[0::2] + 1j * flat_data[1::2], 49000, bins = 4096*4)\n",
    "    ax.imshow(arr,  interpolation='none', aspect='auto',  extent=[-24000, 24000, fds2, fds1])\n",
    "    ax.grid(True)\n",
    "    \n",
    "    ax.set_xlim(13000,13500)\n",
    "    ax.yaxis_date()\n",
    "    date_format = md.DateFormatter('%H:%M:%S')\n",
    "    ax.yaxis.set_major_formatter(date_format)\n",
    "    fig.autofmt_xdate()\n",
    "    ax.set_ylim( datetime.datetime.utcfromtimestamp(minimal_time), datetime.datetime.utcfromtimestamp(maximal_time))\n",
    "    \n",
    "    #offset = abs(bolid['time_calib']['sys_correction']).microseconds/1000000 + abs(bolid['time_calib']['cor_error']).seconds\n",
    "    #if bolid['time_calib']['sys_correction'] < datetime.timedelta(seconds=0): offset = -offset\n",
    "    #ax.set_title(bolid['namesimple']+ \" err:\"+str(offset))\n",
    "    ax.set_title(bolid['namesimple'])\n",
    "plt.savefig('output.png', dpi=300)\n",
    "\n"
   ]
  },
  {
   "cell_type": "code",
   "execution_count": null,
   "metadata": {
    "scrolled": true
   },
   "outputs": [],
   "source": [
    "export = 'multibolid_%s_%s.ipynb' %(multibolid_id, datetime.datetime.utcfromtimestamp(minimal_time).date())\n",
    "print(export)\n",
    "#%notebook $export"
   ]
  },
  {
   "cell_type": "markdown",
   "metadata": {},
   "source": [
    "# Tweet\n",
    "Tato část odešle multibolid porovnání na twitter účet bolidozoru. https://twitter.com/bolidozor\n",
    "\n",
    "V počítači je potřeba mít vytvořený konfigurační soubor s kódy pro přihlášení. Takový soubor musí vypadat takto\n",
    "\n",
    "```\n",
    "[twitter]\n",
    "CONSUMER_KEY = consumer_key\n",
    "CONSUMER_SECRET = consumer_secret\n",
    "ACCESS_TOKEN_KEY = access_token_key\n",
    "ACCESS_TOKEN_SECRET = access_token_secret\n",
    "```\n",
    "\n",
    "Pokud při uploadování se nenahraje obrázek kvůli TimeOutu, zkuste zmenšit DPI grafu."
   ]
  },
  {
   "cell_type": "code",
   "execution_count": 168,
   "metadata": {},
   "outputs": [
    {
     "name": "stdout",
     "output_type": "stream",
     "text": [
      "200 {\"media_id\":917660938500788224,\"media_id_string\":\"917660938500788224\",\"size\":538900,\"expires_after_secs\":86400,\"image\":{\"image_type\":\"image\\/png\",\"w\":7500,\"h\":4500}}\n",
      "917660938500788224\n",
      "\n",
      "Multibolid-event on 2017-10-03 (id:1595904)\n",
      "More details at http://rtbolidozor.astro.cz/multibolid/event/1595904/\n",
      "This tweet was uploaded from Multibolid-analyser\n",
      "\n",
      "200 {\"created_at\":\"Tue Oct 10 07:59:56 +0000 2017\",\"id\":917660958532751361,\"id_str\":\"917660958532751361\",\"text\":\"Multibolid-event on 2017-10-03 (id:1595904)\\nMore details at https:\\/\\/t.co\\/JnanzzP7mY\\nThis tweet was uploaded from Mu\\u2026 https:\\/\\/t.co\\/GOLau8h0T2\",\"truncated\":true,\"entities\":{\"hashtags\":[],\"symbols\":[],\"user_mentions\":[],\"urls\":[{\"url\":\"https:\\/\\/t.co\\/JnanzzP7mY\",\"expanded_url\":\"http:\\/\\/rtbolidozor.astro.cz\\/multibolid\\/event\\/1595904\\/\",\"display_url\":\"rtbolidozor.astro.cz\\/multibolid\\/eve\\u2026\",\"indices\":[60,83]},{\"url\":\"https:\\/\\/t.co\\/GOLau8h0T2\",\"expanded_url\":\"https:\\/\\/twitter.com\\/i\\/web\\/status\\/917660958532751361\",\"display_url\":\"twitter.com\\/i\\/web\\/status\\/9\\u2026\",\"indices\":[117,140]}]},\"source\":\"\\u003ca href=\\\"http:\\/\\/rtbolidozor.astro.cz\\/\\\" rel=\\\"nofollow\\\"\\u003emultibolid - jupyter\\u003c\\/a\\u003e\",\"in_reply_to_status_id\":null,\"in_reply_to_status_id_str\":null,\"in_reply_to_user_id\":null,\"in_reply_to_user_id_str\":null,\"in_reply_to_screen_name\":null,\"user\":{\"id\":912600633831804928,\"id_str\":\"912600633831804928\",\"name\":\"Bolidozor\",\"screen_name\":\"bolidozor\",\"location\":\"\\u010cesk\\u00e1 republika\",\"description\":\"Bolidozor network brings revolutionary approaches in meteor observations and potentially in detecting their fragments' impacts.\",\"url\":\"https:\\/\\/t.co\\/aLHqLAXMHr\",\"entities\":{\"url\":{\"urls\":[{\"url\":\"https:\\/\\/t.co\\/aLHqLAXMHr\",\"expanded_url\":\"http:\\/\\/www.bolidozor.cz\",\"display_url\":\"bolidozor.cz\",\"indices\":[0,23]}]},\"description\":{\"urls\":[]}},\"protected\":false,\"followers_count\":2,\"friends_count\":13,\"listed_count\":0,\"created_at\":\"Tue Sep 26 08:52:01 +0000 2017\",\"favourites_count\":1,\"utc_offset\":null,\"time_zone\":null,\"geo_enabled\":false,\"verified\":false,\"statuses_count\":14,\"lang\":\"cs\",\"contributors_enabled\":false,\"is_translator\":false,\"is_translation_enabled\":false,\"profile_background_color\":\"000000\",\"profile_background_image_url\":\"http:\\/\\/abs.twimg.com\\/images\\/themes\\/theme1\\/bg.png\",\"profile_background_image_url_https\":\"https:\\/\\/abs.twimg.com\\/images\\/themes\\/theme1\\/bg.png\",\"profile_background_tile\":false,\"profile_image_url\":\"http:\\/\\/pbs.twimg.com\\/profile_images\\/912797633214861319\\/ANvCnkpz_normal.jpg\",\"profile_image_url_https\":\"https:\\/\\/pbs.twimg.com\\/profile_images\\/912797633214861319\\/ANvCnkpz_normal.jpg\",\"profile_banner_url\":\"https:\\/\\/pbs.twimg.com\\/profile_banners\\/912600633831804928\\/1506418669\",\"profile_link_color\":\"1B95E0\",\"profile_sidebar_border_color\":\"000000\",\"profile_sidebar_fill_color\":\"000000\",\"profile_text_color\":\"000000\",\"profile_use_background_image\":false,\"has_extended_profile\":true,\"default_profile\":false,\"default_profile_image\":false,\"following\":false,\"follow_request_sent\":false,\"notifications\":false,\"translator_type\":\"none\"},\"geo\":null,\"coordinates\":null,\"place\":null,\"contributors\":null,\"is_quote_status\":false,\"retweet_count\":0,\"favorite_count\":0,\"favorited\":false,\"retweeted\":false,\"possibly_sensitive\":false,\"lang\":\"en\"}\n"
     ]
    }
   ],
   "source": [
    "from TwitterAPI import TwitterAPI\n",
    "import base64\n",
    "import configparser\n",
    "import time\n",
    "\n",
    "parser = configparser.ConfigParser()\n",
    "parser.read('/home/roman/bolidozor_access.ini')\n",
    "CONSUMER_KEY = parser['twitter']['CONSUMER_KEY']\n",
    "CONSUMER_SECRET = parser['twitter']['CONSUMER_SECRET']\n",
    "ACCESS_TOKEN_KEY = parser['twitter']['ACCESS_TOKEN_KEY']\n",
    "ACCESS_TOKEN_SECRET =parser['twitter']['ACCESS_TOKEN_SECRET']\n",
    "\n",
    "file = open('output.png', 'rb')\n",
    "data = base64.b64encode(file.read())\n",
    "\n",
    "api = TwitterAPI(CONSUMER_KEY, CONSUMER_SECRET, ACCESS_TOKEN_KEY, ACCESS_TOKEN_SECRET, auth_type='oAuth1')\n",
    "media = api.request('media/upload', None, {'media_data':data})\n",
    "print(media.status_code, media.text)\n",
    "m_id = json.loads(media.text)['media_id']\n",
    "print(m_id)\n",
    "\n",
    "time.sleep(1)\n",
    "status_text='''\n",
    "Multibolid-event on %s (id:%s)\n",
    "More details at http://rtbolidozor.astro.cz/multibolid/event/%s/\n",
    "This tweet was uploaded from Multibolid-analyser\n",
    "''' %(datetime.datetime.utcfromtimestamp(minimal_time).date(), multibolid_id, multibolid_id)\n",
    "\n",
    "r = api.request('statuses/update', {'status':status_text, 'media_ids':m_id})\n",
    "print(status_text)\n",
    "print(r.status_code, r.text)\n"
   ]
  },
  {
   "cell_type": "code",
   "execution_count": null,
   "metadata": {
    "collapsed": true
   },
   "outputs": [],
   "source": []
  },
  {
   "cell_type": "markdown",
   "metadata": {},
   "source": [
    "# Extract head-echo\n"
   ]
  },
  {
   "cell_type": "code",
   "execution_count": 14,
   "metadata": {
    "scrolled": false
   },
   "outputs": [
    {
     "name": "stdout",
     "output_type": "stream",
     "text": [
      "len 3\n",
      "0 0 http://space.astro.cz/bolidozor/svakov/SVAKOV-R12/meteors/2017/10/03/05/20171003055251954_SVAKOV-R12_raws.fits\n"
     ]
    },
    {
     "ename": "NameError",
     "evalue": "name 'samp2time' is not defined",
     "output_type": "error",
     "traceback": [
      "\u001b[0;31m---------------------------------------------------------------------------\u001b[0m",
      "\u001b[0;31mNameError\u001b[0m                                 Traceback (most recent call last)",
      "\u001b[0;32m<ipython-input-14-b51db6079077>\u001b[0m in \u001b[0;36m<module>\u001b[0;34m()\u001b[0m\n\u001b[1;32m     39\u001b[0m     \u001b[0mmin_crop\u001b[0m \u001b[0;34m=\u001b[0m \u001b[0;36m4500\u001b[0m\u001b[0;34m\u001b[0m\u001b[0m\n\u001b[1;32m     40\u001b[0m     \u001b[0mmax_crop\u001b[0m \u001b[0;34m=\u001b[0m \u001b[0;36m3600\u001b[0m\u001b[0;34m\u001b[0m\u001b[0m\n\u001b[0;32m---> 41\u001b[0;31m     \u001b[0mfile_length\u001b[0m \u001b[0;34m=\u001b[0m \u001b[0msamp2time\u001b[0m\u001b[0;34m(\u001b[0m\u001b[0mhdu\u001b[0m\u001b[0;34m.\u001b[0m\u001b[0mheader\u001b[0m\u001b[0;34m[\u001b[0m\u001b[0;34m'NAXIS2'\u001b[0m\u001b[0;34m]\u001b[0m\u001b[0;34m*\u001b[0m\u001b[0;36m2\u001b[0m\u001b[0;34m)\u001b[0m\u001b[0;34m\u001b[0m\u001b[0m\n\u001b[0m\u001b[1;32m     42\u001b[0m     \u001b[0mstep_time\u001b[0m \u001b[0;34m=\u001b[0m \u001b[0mfile_length\u001b[0m\u001b[0;34m/\u001b[0m\u001b[0;34m(\u001b[0m\u001b[0marr\u001b[0m\u001b[0;34m.\u001b[0m\u001b[0mshape\u001b[0m\u001b[0;34m[\u001b[0m\u001b[0;36m0\u001b[0m\u001b[0;34m]\u001b[0m\u001b[0;34m)\u001b[0m\u001b[0;34m\u001b[0m\u001b[0m\n\u001b[1;32m     43\u001b[0m \u001b[0;34m\u001b[0m\u001b[0m\n",
      "\u001b[0;31mNameError\u001b[0m: name 'samp2time' is not defined"
     ]
    }
   ],
   "source": [
    "def smooth(y, box_pts):\n",
    "    box = np.ones(box_pts)/box_pts\n",
    "    y_smooth = np.convolve(y, box, mode='full')\n",
    "    return y_smooth\n",
    "\n",
    "\n",
    "%matplotlib inline \n",
    "#%matplotlib notebook\n",
    "print('len', len(selected))\n",
    "\n",
    "#print(time_offset)\n",
    "#fig.suptitle(\"Multibolid %s (%s)\" %(datetime.datetime.utcfromtimestamp(minimal_time).date(), multibolid_id))\n",
    "#fig.subplots_adjust(hspace=0)\n",
    "#plt.set_cmap('hot')\n",
    "\n",
    "'''\n",
    "head_lines = {\n",
    "    #0:[(4,13350),(25,13250)]\n",
    "    0:[[2,27],[13350,13250]],\n",
    "    3:[[0,16],[13335,13250]],\n",
    "    4:[[4,24],[13360,13250]],\n",
    "    6:[[41,73],[13450,13250]]\n",
    "}\n",
    "'''\n",
    "\n",
    "f = open(\"meteor_%s_%s_raw.obs\"%(multibolid_id, datetime.datetime.utcfromtimestamp(minimal_time).date()), 'w')\n",
    "f.write('#F %s\\n' %datetime.datetime.utcfromtimestamp(minimal_time).date())\n",
    "for i, meteor in enumerate(selected):\n",
    "    f.write('\\n')\n",
    "    %matplotlib inline\n",
    "    bolid = bolids.result[meteor]\n",
    "    print(i, meteor, bolid['url_file_raw'])\n",
    "    \n",
    "    hdu = fits.open(bolid['url_file_raw'])[0]\n",
    "    flat_data = np.ravel(hdu.data)\n",
    "    \n",
    "    bins = 4096*2\n",
    "    arr = waterfall(flat_data[0::2] + 1j * flat_data[1::2], 49000, bins = bins*2)[:,bins:]\n",
    "    min_crop = 4500\n",
    "    max_crop = 3600\n",
    "    file_length = samp2time(hdu.header['NAXIS2']*2)    \n",
    "    step_time = file_length/(arr.shape[0])\n",
    "        \n",
    "    step_freq = 24000/bins\n",
    "    min_freq = min_crop*step_freq\n",
    "    max_freq = 24000 - max_crop*step_freq\n",
    "\n",
    "    selection = arr[:,+min_crop:-max_crop]\n",
    "    \n",
    "    plt.imshow(selection, aspect='auto', extent=[min_freq, max_freq,\n",
    "                                                 bolid['time_calib']['cor_file_end'].timestamp(),\n",
    "                                                 bolid['time_calib']['cor_file_beg'].timestamp()])\n",
    "\n",
    "    plt.show()\n",
    "    \n",
    "    peak = np.empty([0,2])\n",
    "    for i, row in enumerate(selection):\n",
    "        max_i = np.argmax(row)\n",
    "        max_v = row[max_i]\n",
    "        peak = np.concatenate((peak, [[bolid['time_calib']['cor_file_beg'].timestamp()+i*step_time, -13250+(min_crop+max_i)*step_freq]]))\n",
    "        f.write(\"%i\\t%f\\t%f\\n\" %(meteor,\n",
    "                                 #bolid['time_calib']['cor_file_beg']+datetime.timedelta(seconds=i*step_time),\n",
    "                                 bolid['time_calib']['cor_file_beg'].timestamp()+i*step_time,\n",
    "                                 -13250+(min_crop+max_i)*step_freq\n",
    "                                )\n",
    "                )\n",
    "        #plt.plot(row)\n",
    "        #plt.show()\n",
    "        #plt.plot(row)\n",
    "    #plt.show()\n",
    "    \n",
    "    #plt.plot(peak[:,0], peak[:,1])\n",
    "    plt.plot(peak[:,0],peak[:,1], 'x')\n",
    "    \n",
    "    '''  Tato část slouží k hledani bodu headecha podle primek 'head_lines'\n",
    "    head = np.empty([0,2])\n",
    "    if meteor in head_lines:\n",
    "        plt.plot(head_lines[meteor][0],head_lines[meteor][1])\n",
    "        vector = (1, (head_lines[meteor][1][1]-head_lines[meteor][1][0])/(head_lines[meteor][0][1]-head_lines[meteor][0][0]))\n",
    "        print(vector)\n",
    "        for p in peak:\n",
    "            if head_lines[meteor][0][0] <= p[0] <= head_lines[meteor][0][1]:\n",
    "                #print(p)\n",
    "                pos = (p[0]+1)*vector[0]\n",
    "                d = (head_lines[meteor][1][0]+(pos+1)*vector[1]) - p[1]\n",
    "                #print(pos, d, p[1])\n",
    "                if abs(d) < 50:\n",
    "                    head = np.concatenate((head, [[p[0], p[1]]]))\n",
    "                \n",
    "                #d = np.linalg.norm(np.cross(head_lines[meteor][0][1]-head_lines[meteor][0][0], head_lines[meteor][1][1]-head_lines[meteor][1][0]))/np.linalg.norm(p[1])\n",
    "                #print(d)\n",
    "        plt.plot(head[:,1], '*')\n",
    "    '''\n",
    "        \n",
    "    plt.show()\n",
    "    #print(peak)\n",
    "f.close()"
   ]
  },
  {
   "cell_type": "markdown",
   "metadata": {
    "collapsed": true
   },
   "source": [
    "# Výběr head-echa\n",
    "\n",
    "Nyní je potřeba otevřít soubor ```meteor_[id]_[date]_raw.obs``` a v něm odstanit (nebo zakomentovat '#') řádky, které neodpovídají head-echu. Následně je potřeba soubor uložit s názvem ```meteor_[id]_[date]_clean.obs```. Následující buňka vykreslí vybraná data."
   ]
  },
  {
   "cell_type": "code",
   "execution_count": 15,
   "metadata": {},
   "outputs": [
    {
     "name": "stdout",
     "output_type": "stream",
     "text": [
      "[Errno 2] No such file or directory: 'meteor_1595904_2017-10-03_clean.obs'\n"
     ]
    }
   ],
   "source": [
    "%matplotlib inline\n",
    "#%matplotlib interactive\n",
    "#import matplotlib.pyplot as plt\n",
    "\n",
    "plt.rcParams['figure.figsize'] = (20,10)\n",
    "try:\n",
    "    f = open(\"meteor_%s_%s_clean.obs\"%(multibolid_id, datetime.datetime.utcfromtimestamp(minimal_time).date()), 'r')\n",
    "except Exception as e:\n",
    "    print(e)\n",
    "    f = open(\"meteor_%s_%s_raw.obs\"%(multibolid_id, datetime.datetime.utcfromtimestamp(minimal_time).date()), 'r')\n",
    "\n",
    "met_p = {}\n",
    "for line in f.readlines():\n",
    "    if ('#' not in line) and ('\\t' in line):\n",
    "        split = line.split('\\t')\n",
    "        if not split[0] in met_p: met_p[split[0]]={'time':[], 'value':[]}\n",
    "        met_p[split[0]]['time'].append(float(split[1]))\n",
    "        met_p[split[0]]['value'].append(float(split[2]))\n",
    "#print(met_p)\n",
    "\n",
    "for station in met_p:\n",
    "    print(station)\n",
    "    #print(station, met_p[station])\n",
    "    plt.plot(met_p[station]['time'],met_p[station]['value'], 'o-')\n",
    "plt.show()"
   ]
  },
  {
   "cell_type": "code",
   "execution_count": null,
   "metadata": {
    "collapsed": true
   },
   "outputs": [],
   "source": []
  },
  {
   "cell_type": "code",
   "execution_count": null,
   "metadata": {
    "collapsed": true
   },
   "outputs": [],
   "source": []
  }
 ],
 "metadata": {
  "kernelspec": {
   "display_name": "Python 3",
   "language": "python",
   "name": "python3"
  },
  "language_info": {
   "codemirror_mode": {
    "name": "ipython",
    "version": 3
   },
   "file_extension": ".py",
   "mimetype": "text/x-python",
   "name": "python",
   "nbconvert_exporter": "python",
   "pygments_lexer": "ipython3",
   "version": "3.5.2"
  }
 },
 "nbformat": 4,
 "nbformat_minor": 2
}
