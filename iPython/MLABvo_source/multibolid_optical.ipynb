{
 "cells": [
  {
   "cell_type": "markdown",
   "metadata": {},
   "source": [
    "# Notebook for comparision Bolidozor and trajectory data from optical systems\n",
    "\n"
   ]
  },
  {
   "cell_type": "code",
   "execution_count": 3,
   "metadata": {},
   "outputs": [],
   "source": [
    "from MLABvo.Bolidozor import Bolidozor\n",
    "#from MLABvo.Bolidozor import BolidozorTools\n",
    "import json\n",
    "import datetime\n",
    "import numpy as np\n",
    "import scipy\n",
    "import scipy.signal\n",
    "import scipy.constants\n",
    "from scipy.optimize import minimize\n",
    "from scipy.interpolate import interp1d, UnivariateSpline\n",
    "from astropy.io import fits\n",
    "import matplotlib.pyplot as plt\n",
    "import matplotlib.dates as md\n",
    "from matplotlib import dates\n",
    "from mpl_toolkits.mplot3d.axes3d import Axes3D\n",
    "import mpltools\n",
    "import sys\n",
    "from math import *\n",
    "\n",
    "sys.path.append(\"..\") \n",
    "import recviewer\n",
    "import dateutil.parser\n",
    "from Geocentric import Geocentric\n",
    "geoC = Geocentric(6378137, 6356752.314)\n",
    "\n",
    "%matplotlib inline "
   ]
  },
  {
   "cell_type": "markdown",
   "metadata": {},
   "source": [
    "# Inicializace bolidozoru\n",
    "\n",
    "Funkce ```Bolidozor.getMultibolid``` jako jediný parametr bere id skupiny, které lze zjistit například zde: http://rtbolidozor.astro.cz/multibolid/"
   ]
  },
  {
   "cell_type": "code",
   "execution_count": 4,
   "metadata": {},
   "outputs": [
    {
     "name": "stdout",
     "output_type": "stream",
     "text": [
      "0.010416666666666666\n"
     ]
    }
   ],
   "source": [
    "multibolid_id = 2047621\n",
    "\n",
    "\n",
    "ZHR = 1\n",
    "\n",
    "if False:#2057410\n",
    "    multibolid_id = 2057410\n",
    "    met_start_altitude = np.array([80000.0])\n",
    "    met_stop_altitude = np.array([44980.37638663])\n",
    "\n",
    "    met_stop_lat = np.array([48.340593635025])\n",
    "    met_stop_lon = np.array([6.572188010297])\n",
    "\n",
    "    met_start_lat = np.array([49.52717828089])\n",
    "    met_start_lon = np.array([6.763558272451])\n",
    "    \n",
    "    met_velocity = [45500]\n",
    "    model_offset = -8.25\n",
    "    \n",
    "if True:#2047621\n",
    "    multibolid_id = 2047621\n",
    "    met_start_altitude = np.array([80000.0])\n",
    "    met_stop_altitude = np.array([41896.884619396])\n",
    "\n",
    "    met_start_lat = np.array([49.997439391249])\n",
    "    met_start_lon = np.array([9.692504979925])\n",
    "\n",
    "    met_stop_lat = np.array([50.035327181108])\n",
    "    met_stop_lon = np.array([7.560013628387])\n",
    "\n",
    "    met_velocity = [24500]\n",
    "    model_offset = 1.44\n",
    "    \n",
    "    \n",
    "if True:#2017388\n",
    "    multibolid_id = 2017388\n",
    "    met_start_altitude = np.array([55000.0])\n",
    "    met_stop_altitude = np.array([8910.7633450924])\n",
    "\n",
    "    met_stop_lon = np.array([6.512636353428])\n",
    "    met_stop_lat = np.array([51.944553218498])\n",
    "    \n",
    "    met_start_lon = np.array([9.996094184309])\n",
    "    met_start_lat = np.array([51.230870109095])\n",
    "\n",
    "    met_velocity = [30500]\n",
    "    model_offset = 7.94\n",
    "    \n",
    "    \n",
    "stations = {}\n",
    "#stations.append({'name': 'Zebrak','latitude':49.8736, 'longitude':13.8986,'elevation':400, 'status': 'operational', 'type': 'receiver'})\n",
    "#stations.append({'name': 'uFlu','latitude':50.0795, 'longitude':14.4891,'elevation':400, 'status': 'operational', 'type': 'receiver'})\n",
    "#stations.append({'name': 'OBSUPICE','latitude':50.5067,'longitude':16.0115,'elevation':400, 'status': 'operational', 'type': 'receiver'})\n",
    "stations['SVAKOV-R12']={'name': 'SVAKOV','latitude':49.2607,'longitude':14.6917,'elevation':400, 'status': 'operational', 'type': 'receiver'}\n",
    "#stations.append({'name': 'ZVPP','latitude':48.9869,'longitude':14.4675,'elevation':400, 'status': 'operational', 'type': 'receiver'})\n",
    "#stations.append({'name': 'BPB','latitude':48.653153,'longitude':17.537413,'elevation':400, 'status': 'testing', 'type': 'receiver'})\n",
    "#stations.append({'name': 'HPHK','latitude':50.1772,'longitude':15.8386,'elevation':400, 'status': 'testing', 'type': 'receiver'})\n",
    "#stations.append({'name': 'OBSJAROMER','latitude':50.351397,'longitude':15.915878,'elevation':400, 'status': 'testing', 'type': 'receiver'})\n",
    "stations['HFN-R1']={'name': 'JHRADEC','latitude':49.1314,'longitude': 14.9999,'elevation':400, 'status': 'operational', 'type': 'receiver'}\n",
    "stations['VALMEZ-R1']={'name': 'VALMEZ','latitude':49.463038,'longitude': 17.973544,'elevation':400, 'status': 'testing', 'type': 'receiver'}\n",
    "#stations.append({'name': 'NACHODSKO','latitude':50.409407,'longitude':15.414812,'elevation':400, 'status': 'operational', 'type': 'receiver'})\n",
    "#stations.append({'name': 'GERM1','latitude':50.409407,'longitude':10.414812,'elevation':400, 'status': 'operational', 'type': 'receiver'})\n",
    "#stations.append({'name': 'GERM2','latitude':50.009407,'longitude':9.414812,'elevation':400, 'status': 'operational', 'type': 'receiver'})\n",
    "#stations.append({'name': 'IT1','latitude':45.409407,'longitude':10.414812,'elevation':400, 'status': 'operational', 'type': 'receiver'})\n",
    "stations['DDMTREBIC-R3']={'name': 'TREBIC','latitude':49.2071,'longitude':15.8759,'elevation':480, 'status': 'operational', 'type': 'receiver'}\n",
    "\n",
    "\n",
    "c = scipy.constants.c\n",
    "f0 = 143050000\n",
    "trans_station_point = np.array(geoC.GeographicToGeocentric(47.347993, 5.515079, 190))\n",
    "t = 0.005\n",
    "t = 1/96000\n",
    "t = 1/96000*1000\n",
    "print(t)\n",
    "timesteps = np.arange(-10,10,t)"
   ]
  },
  {
   "cell_type": "code",
   "execution_count": 5,
   "metadata": {
    "scrolled": false
   },
   "outputs": [
    {
     "name": "stdout",
     "output_type": "stream",
     "text": [
      "{'api_version': '0.0.2', 'job_state': 'PENDING', 'job_id': 'bf43d279-f277-45b9-b785-e9d68c4a62b3', 'api_url': 'http://api.vo.astro.cz/bolidozor/', 'datetime_start': '2017-12-04 22:52:25.381560', 'job_result_url': 'http://api.vo.astro.cz/bolidozor/job/bf43d279-f277-45b9-b785-e9d68c4a62b3'}\n",
      "Počet detekcí ve skupině je 3\n"
     ]
    }
   ],
   "source": [
    "bz = Bolidozor()\n",
    "bolids = bz.getMultibolid(id=multibolid_id)\n",
    "print('Počet detekcí ve skupině je',len(bolids.result))"
   ]
  },
  {
   "cell_type": "markdown",
   "metadata": {},
   "source": [
    "Získaná data z MLABvo jsou k dispozici v ```Bolidozor.getMultibolid.result```.\n",
    "\n",
    "Následující buňka ukazuje, jak lze procházet záznamy po jednom.\n",
    "\n",
    "**Výsledek obsahuje následující informace**"
   ]
  },
  {
   "cell_type": "code",
   "execution_count": 6,
   "metadata": {},
   "outputs": [
    {
     "name": "stdout",
     "output_type": "stream",
     "text": [
      "['filename', 'namesimple', 'duration', 'station_name', 'url_file_raw', 'url_station', 'noise', 'filename_raw', 'peak_f', 'observatory_namesimple', 'file_status', 'magnitude', 'url_file', 'id_observer', 'obstime', 'event_id', 'id_server', 'url_file_js9', 'filepath', 'observatory_name']\n",
      "\n",
      "{'filename': '20171111180241253_SVAKOV-R12_met.fits', 'namesimple': 'SVAKOV-R12', 'duration': 11.264, 'station_name': 'SVAKOV-R12', 'url_file_raw': 'http://space.astro.cz/bolidozor/svakov/SVAKOV-R12/meteors/2017/11/11/18/20171111180241253_SVAKOV-R12_raws.fits', 'url_station': 'http://api.vo.astro.cz/bolidozor/getStation/?id=29', 'noise': 1.70533, 'filename_raw': '20171111180241253_SVAKOV-R12_raws.fits', 'peak_f': 26472.7, 'observatory_namesimple': 'svakov', 'file_status': 'online', 'magnitude': 9.46616, 'url_file': 'http://space.astro.cz/bolidozor/svakov/SVAKOV-R12/meteors/2017/11/11/18/20171111180241253_SVAKOV-R12_met.fits', 'id_observer': 29, 'obstime': '2017-11-11T18:01:52', 'event_id': 14822459, 'id_server': 1, 'url_file_js9': 'http://space.astro.cz/bolidozor/support/js9browser/#/bolidozor/svakov/SVAKOV-R12/meteors/2017/11/11/18/20171111180241253_SVAKOV-R12_met.fits', 'filepath': '/storage/bolidozor/svakov/SVAKOV-R12/meteors/2017/11/11/18', 'observatory_name': 'Svákov'}\n"
     ]
    }
   ],
   "source": [
    "print(list(bolids.result[0].keys()))\n",
    "print(\"\")\n",
    "print(bolids.result[0])"
   ]
  },
  {
   "cell_type": "markdown",
   "metadata": {},
   "source": [
    "Nahrát data do cache"
   ]
  },
  {
   "cell_type": "code",
   "execution_count": 7,
   "metadata": {},
   "outputs": [
    {
     "name": "stdout",
     "output_type": "stream",
     "text": [
      "1 z 3\n",
      "2 z 3\n",
      "3 z 3\n"
     ]
    }
   ],
   "source": [
    "for i, bolid in enumerate(bolids.result):\n",
    "    print(i+1,'z',len(bolids.result))\n",
    "    fits.open(bolid['url_file_raw'])"
   ]
  },
  {
   "cell_type": "code",
   "execution_count": null,
   "metadata": {},
   "outputs": [],
   "source": []
  },
  {
   "cell_type": "markdown",
   "metadata": {},
   "source": [
    "# Kalibrace času\n",
    "\n",
    "tato funkce projde RAW soubory a snaží se v nich vyhledat GPS značku. \n",
    "\n",
    "Výstupem této funkce je ```dictionary```, který obsahuje informace o času na začátku souboru, času konce souboru a prvního vzorku s GPS značkou ze systémového času stanice. Tyto samé časy vrací taktéž oproti GPS času.\n"
   ]
  },
  {
   "cell_type": "code",
   "execution_count": 8,
   "metadata": {},
   "outputs": [],
   "source": [
    "def getMeteorAround(station, time, distance = datetime.timedelta(minutes=600)):\n",
    "    try:\n",
    "        b = Bolidozor(debug = False)\n",
    "        print(station, b.setStation(station))\n",
    "\n",
    "        meteors = b.getMeteor(date_from=time-distance, date_to=time+distance, min_duration=1).result\n",
    "        #if len(meteors) > 0:\n",
    "            #for met in meteors:\n",
    "            #    print(met['url_file_raw'], met['duration'], met['obstime'])\n",
    "    \n",
    "        return meteors\n",
    "    except Exception as e:\n",
    "        print('getMeteorAround', e)\n",
    "        return False"
   ]
  },
  {
   "cell_type": "markdown",
   "metadata": {},
   "source": [
    "Tato smyčka projde všechny soubory a použije na nich funkci pro kalibraci času. Výstup přidá do původní proměnné pod klíčem ```time_calib```.\n",
    "\n",
    "Pokud je zapnuté debugování, tak ze skriptu vypadávají tato data:\n",
    "\n",
    "delka zaznamu          : Délka záznamu\n",
    "cas prvni vzorku s GPS : \n",
    "cas 1. GPS a konec     : Vzdálenost první detekované GPS ke konci souboru\n",
    "SysCas ukladani souboru: Čas z hlavičky FITSu ['DATE']\n",
    "SysCas zacatku souboru : Čas z hlavičky ['DATE'] mínus délka souboru\n",
    "SysCas 1. GPS znacky   : Systémový čas stanice v okamžiku GPS značky\n",
    "Korekce systémoveho čas: Systémový čas \n",
    "CorCas ukladani souboru: 2017-09-23 07:24:19.241618 s\n",
    "CorCas zacatku souboru : 2017-09-23 07:24:06.241614\n",
    "CorCas 1. GPS znacky   : 2017-09-23 07:24:10"
   ]
  },
  {
   "cell_type": "code",
   "execution_count": 9,
   "metadata": {},
   "outputs": [],
   "source": [
    "np.set_printoptions(suppress=True)\n",
    "\n",
    "def samp2time(sample):\n",
    "    return sample/96000\n",
    "def time2samp(time):\n",
    "    return time*2*96000\n",
    "def smooth(y, box_pts):\n",
    "    box = np.ones(box_pts)/box_pts\n",
    "    y_smooth = np.convolve(y, box, mode='full')\n",
    "    return y_smooth\n",
    "\n",
    "def timeCalibration(raw_file, station=None, sigma = 10, debug = True, browse_around = True):\n",
    "    calibration_data = {}\n",
    "    calibration_data['samp_correction'] = 0\n",
    "    # Stahnout a otevrit RAW fits meteoru\n",
    "    hdulist = fits.open(raw_file, cache=True)\n",
    "    met_data = np.abs(np.ravel(hdulist[0].data))\n",
    "    met_smooth = smooth(met_data, 25)\n",
    "    clip_val = np.std(met_data)*sigma\n",
    "\n",
    "    \n",
    "    #file_length = hdulist[0].header['NAXIS2']*hdulist[0].header['CDELT2']/1000.0\n",
    "    file_length = samp2time(hdulist[0].header['NAXIS2'])\n",
    "    DATE_OBS = datetime.datetime.strptime(hdulist[0].header['DATE-OBS'], \"%Y-%m-%dT%H:%M:%S\" )\n",
    "    DATE = datetime.datetime.strptime(hdulist[0].header['DATE'], \"%Y-%m-%dT%H:%M:%S\" )\n",
    "    calibration_data['sys_file_beg'] = DATE-datetime.timedelta(seconds=file_length)\n",
    "    calibration_data['sys_file_end'] = DATE\n",
    "    \n",
    "    if debug: plt.axhline(y=clip_val, color='red')\n",
    "    max_val = np.max(met_data)\n",
    "    time_firstGPS = None\n",
    "    ten_sec = []\n",
    "        \n",
    "    # Tato cast hleda v datech GPS znacky\n",
    "    # Kdyz je najde, zapise je do seznamu `ten_sec`\n",
    "    # Prvni GPS znacku to ulozi jako float do `time_firstGPS`\n",
    "    \n",
    "    for i, point in enumerate(met_smooth):\n",
    "        if point > clip_val:\n",
    "            if not time_firstGPS:\n",
    "                 time_firstGPS = samp2time(i/2)\n",
    "                 if debug: \n",
    "                    plt.axvline(x=time2samp(time_firstGPS), color='red', lw=2)\n",
    "                    plt.axvline(x=time2samp(time_firstGPS)+time2samp(10), color='green', lw=2)\n",
    "            ten_sec.append(samp2time(i/2))\n",
    "    \n",
    "    # Ohodnotit kvalitu dat,\n",
    "        #  100 - Velmi dobre - jasna GPS znacka,\n",
    "        #  50  - Znacka není - najdeme ji v jiném souboru a zarovnáme podle vzorků zvukovky\n",
    "        #  0  - Data jsou nekvalitni, nelze je pouzivat\n",
    "    \n",
    "    if time_firstGPS:\n",
    "        calibration_data['quality'] = 100\n",
    "        calibration_data['method'] = 'GPS'\n",
    "        gps = (DATE-datetime.timedelta(seconds=file_length-time_firstGPS)).timestamp()\n",
    "        correction = seconds=round(gps/10.0)*10.0-gps\n",
    "    elif clip_val > 0.9:\n",
    "        calibration_data['quality'] = 0\n",
    "        calibration_data['method'] = 'Null'\n",
    "        correction = .0\n",
    "    else:\n",
    "        calibration_data['quality'] = 50\n",
    "        calibration_data['method'] = 'Around GPS'\n",
    "        correction = .0\n",
    "        \n",
    "        # Kdyz je kvalita 50 (znacka neni v rozsahu zaznamu),\n",
    "        #  tak se pokusi sehnat seznam okolnich meteoru,\n",
    "        #  ve kterych najde GPS znacky\n",
    "    \n",
    "        if browse_around and station:\n",
    "            time_offset = []\n",
    "            if debug: print(\"hledam alternativni zdroj presneho casu\")\n",
    "            around = getMeteorAround(station, datetime.datetime.strptime(hdulist[0].header['DATE'], \"%Y-%m-%dT%H:%M:%S\" ))\n",
    "            if around:\n",
    "                print(\"Okolnich souboru:\", len(around))\n",
    "                for meteor in around:\n",
    "                    meteor_data = timeCalibration(meteor['url_file_raw'], debug=False, browse_around = False)\n",
    "                    if meteor_data['quality'] == 100:\n",
    "\n",
    "                        time_offset.append([\n",
    "                            meteor_data['CRVAL2'],\n",
    "                            meteor_data['cor_file_beg'].replace(tzinfo=datetime.timezone.utc).timestamp(),\n",
    "                            meteor_data['samp_correction'],\n",
    "                            #meteor_data['CRVAL2']-meteor_data['cor_file_beg'].replace(tzinfo=datetime.timezone.utc).timestamp()\n",
    "                                            ])\n",
    "                        print(\"+\", end='')\n",
    "                    else:\n",
    "                        print(\"-\", end='')\n",
    "                        \n",
    "                ## plt.plot(time_offset)\n",
    "                #plt.show()\n",
    "                #for ar in time_offset:\n",
    "                #    print(\"%f %f %f\" %(ar[0], ar[1], ar[2]))\n",
    "                mean = np.mean(np.array(time_offset)[:,2])\n",
    "                print(\"mean: %f, std: %f\" %(mean, np.std(np.array(time_offset)[:,2])))\n",
    "                calibration_data['samp_correction'] = mean\n",
    "            else:\n",
    "                print(\"## Nelze najit žádné daší meteory v okolí\")\n",
    "                calibration_data['method'] = 'Null'\n",
    "                calibration_data['quality'] = 25\n",
    "            \n",
    "                    \n",
    "    if not time_firstGPS: time_firstGPS = 0\n",
    "    correction = datetime.timedelta(seconds=correction)\n",
    "    \n",
    "    calibration_data['CRVAL2'] = hdulist[0].header['CRVAL2']/1000.0\n",
    "    calibration_data['DATE-OBS'] = DATE_OBS\n",
    "    \n",
    "    calibration_data['sys_1st_GPS'] = DATE-datetime.timedelta(seconds=file_length-time_firstGPS)\n",
    "    calibration_data['sys_error'] = DATE-datetime.timedelta(seconds=file_length-time_firstGPS)\n",
    "    \n",
    "    calibration_data['cor_file_beg'] = DATE-datetime.timedelta(seconds=file_length)+correction\n",
    "    calibration_data['cor_file_end'] = DATE+correction\n",
    "    calibration_data['cor_1st_GPS'] = DATE-datetime.timedelta(seconds=file_length-time_firstGPS)+correction\n",
    "    \n",
    "    calibration_data['sys_correction'] = correction\n",
    "    if calibration_data['samp_correction'] == 0:\n",
    "        calibration_data['samp_correction'] = calibration_data['CRVAL2']-calibration_data['cor_file_beg'].replace(tzinfo=datetime.timezone.utc).timestamp()\n",
    "    else:\n",
    "        calibration_data['cor_file_beg'] = datetime.datetime.utcfromtimestamp(calibration_data['CRVAL2'])-datetime.timedelta(seconds=calibration_data['samp_correction'])\n",
    "        calibration_data['cor_file_end'] = datetime.datetime.utcfromtimestamp(calibration_data['CRVAL2'])-datetime.timedelta(seconds=calibration_data['samp_correction']-file_length)\n",
    "        calibration_data['cor_1st_GPS'] = datetime.datetime.utcfromtimestamp(calibration_data['CRVAL2'])-datetime.timedelta(seconds=calibration_data['samp_correction'])\n",
    "    \n",
    "    if debug:\n",
    "        #DATE_OBS = datetime.datetime.strptime(hdulist[0].header['DATE-OBS'], \"%Y-%m-%dT%H:%M:%S\" )\n",
    "        print(\"Zpracovavam soubor:\", raw_file)\n",
    "        print('delka zaznamu          :', file_length, \"s\")\n",
    "        print('cas prvni. vzorku s GPS:', time_firstGPS, \"s\")\n",
    "        print('cas 1. GPS a konec     :', file_length - time_firstGPS, \"s\")\n",
    "        print('SysCas ukladani souboru:', calibration_data['sys_file_end'], \"s\")\n",
    "        print('SysCas zacatku souboru :', calibration_data['sys_file_beg'])\n",
    "        print('SysCas 1. GPS znacky   :', calibration_data['sys_1st_GPS'])\n",
    "        print('Korekce systémoveho čas:', calibration_data['sys_correction'])\n",
    "        print('Korekce času zvukovky  :', calibration_data['samp_correction'])\n",
    "        print('CorCas ukladani souboru:', calibration_data['cor_file_end'], \"s\")\n",
    "        print('CorCas zacatku souboru :', calibration_data['cor_file_beg'])\n",
    "        print('CorCas 1. GPS znacky   :', calibration_data['cor_1st_GPS'])\n",
    "        print('Kvalita souboru        :', calibration_data['quality'])\n",
    "        print('Počet vzorků s gps znač:', len(ten_sec))\n",
    "        plt.plot(met_data, lw=0.5)\n",
    "        plt.plot(met_smooth)\n",
    "        plt.show()\n",
    "    return calibration_data\n",
    "        "
   ]
  },
  {
   "cell_type": "code",
   "execution_count": 10,
   "metadata": {
    "scrolled": false
   },
   "outputs": [
    {
     "name": "stdout",
     "output_type": "stream",
     "text": [
      "0 ==================================\n",
      "snapshot: http://space.astro.cz/bolidozor/support/js9browser/#/bolidozor/svakov/SVAKOV-R12/meteors/2017/11/11/18/20171111180241253_SVAKOV-R12_met.fits\n",
      "Zpracovavam soubor: http://space.astro.cz/bolidozor/svakov/SVAKOV-R12/meteors/2017/11/11/18/20171111180241253_SVAKOV-R12_raws.fits\n",
      "delka zaznamu          : 17.6 s\n",
      "cas prvni. vzorku s GPS: 6.144442708333333 s\n",
      "cas 1. GPS a konec     : 11.455557291666668 s\n",
      "SysCas ukladani souboru: 2017-11-11 18:02:09 s\n",
      "SysCas zacatku souboru : 2017-11-11 18:01:51.400000\n",
      "SysCas 1. GPS znacky   : 2017-11-11 18:01:57.544443\n",
      "Korekce systémoveho čas: 0:00:02.455557\n",
      "Korekce času zvukovky  : 47.39744305610657\n",
      "CorCas ukladani souboru: 2017-11-11 18:02:11.455557 s\n",
      "CorCas zacatku souboru : 2017-11-11 18:01:53.855557\n",
      "CorCas 1. GPS znacky   : 2017-11-11 18:02:00\n",
      "Kvalita souboru        : 100\n",
      "Počet vzorků s gps znač: 5899\n"
     ]
    },
    {
     "data": {
      "image/png": "[encoded data removed]",
      "text/plain": [
       "<matplotlib.figure.Figure at 0x7efdfefa3a20>"
      ]
     },
     "metadata": {},
     "output_type": "display_data"
    },
    {
     "name": "stdout",
     "output_type": "stream",
     "text": [
      "1 ==================================\n",
      "snapshot: http://space.astro.cz/bolidozor/support/js9browser/#/bolidozor/HFN/HFN-R1/meteors/2017/11/11/18/20171111180154354_HFN-R1_met.fits\n",
      "Zpracovavam soubor: http://space.astro.cz/bolidozor/HFN/HFN-R1/meteors/2017/11/11/18/20171111180154354_HFN-R1_raws.fits\n",
      "delka zaznamu          : 18.399989583333333 s\n",
      "cas prvni. vzorku s GPS: 5.8105416666666665 s\n",
      "cas 1. GPS a konec     : 12.589447916666668 s\n",
      "SysCas ukladani souboru: 2017-11-11 18:02:11 s\n",
      "SysCas zacatku souboru : 2017-11-11 18:01:52.600010\n",
      "SysCas 1. GPS znacky   : 2017-11-11 18:01:58.410552\n",
      "Korekce systémoveho čas: 0:00:01.589448\n",
      "Korekce času zvukovky  : 0.16454219818115234\n",
      "CorCas ukladani souboru: 2017-11-11 18:02:12.589448 s\n",
      "CorCas zacatku souboru : 2017-11-11 18:01:54.189458\n",
      "CorCas 1. GPS znacky   : 2017-11-11 18:02:00\n",
      "Kvalita souboru        : 100\n",
      "Počet vzorků s gps znač: 11413\n"
     ]
    },
    {
     "data": {
      "image/png": "[encoded data removed]",
      "text/plain": [
       "<matplotlib.figure.Figure at 0x7efdfdcdde48>"
      ]
     },
     "metadata": {},
     "output_type": "display_data"
    },
    {
     "name": "stdout",
     "output_type": "stream",
     "text": [
      "2 ==================================\n",
      "snapshot: http://space.astro.cz/bolidozor/support/js9browser/#/bolidozor/ddmtrebic/DDMTREBIC-R3/meteors/2017/11/11/18/20171111180205537_DDMTREBIC-R3_met.fits\n",
      "Zpracovavam soubor: http://space.astro.cz/bolidozor/ddmtrebic/DDMTREBIC-R3/meteors/2017/11/11/18/20171111180205537_DDMTREBIC-R3_raws.fits\n",
      "delka zaznamu          : 13.4 s\n",
      "cas prvni. vzorku s GPS: 5.914046875 s\n",
      "cas 1. GPS a konec     : 7.485953125 s\n",
      "SysCas ukladani souboru: 2017-11-11 18:02:06 s\n",
      "SysCas zacatku souboru : 2017-11-11 18:01:52.600000\n",
      "SysCas 1. GPS znacky   : 2017-11-11 18:01:58.514047\n",
      "Korekce systémoveho čas: 0:00:01.485953\n",
      "Korekce času zvukovky  : 11.45104694366455\n",
      "CorCas ukladani souboru: 2017-11-11 18:02:07.485953 s\n",
      "CorCas zacatku souboru : 2017-11-11 18:01:54.085953\n",
      "CorCas 1. GPS znacky   : 2017-11-11 18:02:00\n",
      "Kvalita souboru        : 100\n",
      "Počet vzorků s gps znač: 2504\n"
     ]
    },
    {
     "data": {
      "image/png": "[encoded data removed]",
      "text/plain": [
       "<matplotlib.figure.Figure at 0x7efdfdcc14a8>"
      ]
     },
     "metadata": {},
     "output_type": "display_data"
    }
   ],
   "source": [
    "\n",
    "%matplotlib inline\n",
    "for i, bolid in enumerate(bolids.result):\n",
    "    try:\n",
    "        print(i,\"==================================\")\n",
    "        print(\"snapshot:\", bolid['url_file_js9'])\n",
    "        bolids.result[i]['time_calib']=timeCalibration(bolid['url_file_raw'], bolid['station_name'])\n",
    "    except Exception as e:\n",
    "        print(\"for bolids.result:\", e)\n",
    "    "
   ]
  },
  {
   "cell_type": "markdown",
   "metadata": {},
   "source": [
    "# Filtr nevyhovujících dat\n",
    "\n",
    "Protože v některých datech nemusí být dobře detekovatelná GPS značka, je zde možné tyto soubory ručně vyřadit. A to tím, že odkomentujete druhý řádek následující buňky a do seznamu napíšete čísla vyhovujících RAW souborů. (Jsou k nalezení ve výstupu předchozí buňky)"
   ]
  },
  {
   "cell_type": "code",
   "execution_count": 11,
   "metadata": {},
   "outputs": [
    {
     "name": "stdout",
     "output_type": "stream",
     "text": [
      "0 100 sysT of gps: 2017-11-11 18:02:00 ,offset: 0:00:02.455557 20171111180241253_SVAKOV-R12_met.fits\n",
      "1 100 sysT of gps: 2017-11-11 18:02:00 ,offset: 0:00:01.589448 20171111180154354_HFN-R1_met.fits\n",
      "2 100 sysT of gps: 2017-11-11 18:02:00 ,offset: 0:00:01.485953 20171111180205537_DDMTREBIC-R3_met.fits\n"
     ]
    }
   ],
   "source": [
    "time_offset = {}\n",
    "selected = list(range(0, len(bolids.result)))     # vyber vsech dat\n",
    "\n",
    "#selected.remove(0)\n",
    "#selected.remove(1)\n",
    "#selected.remove(4)\n",
    "#selected = [0,1,2,3,6]\n",
    "\n",
    "#selected = [3,4,5,6]     #Pokud chcete vybrat konkrétní data, \n",
    "                               #odkomentujte tento řádek a vložte do něj čísla požadovaných dat\n",
    "\n",
    "# time_offset[0] = +0   ## Posun času na stanici.\n",
    "                        # Timto posunete data pro určitou stanici (podle indexu souboru)\n",
    "                        # o určitý počet časových značek (10s intervalů)\n",
    "                        # Kladné číslo posune graf 'nahoru\" \n",
    "#time_offset[3]=0.5\n",
    "#time_offset[4]=0.5\n",
    "#time_offset[0]=1\n",
    "\n",
    "for i, bolid in enumerate(bolids.result):\n",
    "    if bolid['time_calib']['quality'] < 50:\n",
    "        selected.remove(i)\n",
    "    if i in selected:\n",
    "        print(i, bolid['time_calib']['quality'], 'sysT of gps:', bolid['time_calib']['cor_1st_GPS'], ',offset:', bolid['time_calib']['sys_correction'], bolid['filename'])"
   ]
  },
  {
   "cell_type": "markdown",
   "metadata": {},
   "source": [
    "# Zarovnané soubory\n",
    "\n",
    "Toto je první buňka, jejíž výstup obsahuje časově zarovnané grafy. Pomocí proměnné ```gps_calib``` můžete nastavit, zdali Vaše zarovnání bude oproti absolutním GPS značkám (```gps_calib=True```) nebo oproti systémovému času stanic (```gps_calib=False```)."
   ]
  },
  {
   "cell_type": "code",
   "execution_count": 12,
   "metadata": {
    "scrolled": false
   },
   "outputs": [
    {
     "name": "stdout",
     "output_type": "stream",
     "text": [
      "Using matplotlib backend: TkAgg\n",
      "0 2017-11-11 18:01:53.855557\n",
      "x and y must have same first dimension, but have shapes (3379200,) and (3379201,)\n",
      "1 2017-11-11 18:01:54.189458\n",
      "2 2017-11-11 18:01:54.085953\n",
      "1510423313.855557 1510423332.589448\n"
     ]
    },
    {
     "data": {
      "image/png": "[encoded data removed]",
      "text/plain": [
       "<matplotlib.figure.Figure at 0x7efdfc299160>"
      ]
     },
     "metadata": {},
     "output_type": "display_data"
    }
   ],
   "source": [
    "%matplotlib \n",
    "count = len(selected)\n",
    "fig, axis = plt.subplots(1, count, sharex=True, sharey=True, figsize=(20, 10))\n",
    "\n",
    "gps_calib = True\n",
    "minimal_time = None\n",
    "maximal_time = None\n",
    "\n",
    "for i, ax in enumerate(axis):\n",
    "    try:\n",
    "        bolid = bolids.result[selected[i]]\n",
    "        print (i, bolid['time_calib']['cor_file_beg'])\n",
    "        hdulist = fits.open(bolid['url_file_raw'])\n",
    "        met_data = np.abs(np.ravel(hdulist[0].data))\n",
    "\n",
    "        T_offset = 10*time_offset.get(selected[i], 0)\n",
    "\n",
    "        if gps_calib:\n",
    "            ax.set_title(bolid['namesimple'] + \" (%s, %s)\"%(selected[i], bolid['time_calib']['method']))\n",
    "            min_date = bolid['time_calib']['cor_file_beg'].replace(tzinfo=datetime.timezone.utc).timestamp()+T_offset\n",
    "            max_date = bolid['time_calib']['cor_file_end'].replace(tzinfo=datetime.timezone.utc).timestamp()+T_offset\n",
    "        else:\n",
    "            ax.set_title(bolid['namesimple'] + \" (\" + str(selected[i])+\") SYS-T\")\n",
    "            min_date = bolid['time_calib']['sys_file_beg'].replace(tzinfo=datetime.timezone.utc).timestamp()+T_offset\n",
    "            max_date = bolid['time_calib']['sys_file_end'].replace(tzinfo=datetime.timezone.utc).timestamp()+T_offset\n",
    "        array = np.arange(min_date, max_date, (max_date-min_date)/(len(met_data)))\n",
    "\n",
    "        if not minimal_time: minimal_time = min_date\n",
    "        if not maximal_time: maximal_time = max_date\n",
    "        if min_date < minimal_time: minimal_time = min_date\n",
    "        if max_date > maximal_time: maximal_time = max_date\n",
    "\n",
    "        ax.plot(met_data, array)\n",
    "        ax.grid(True)\n",
    "    except Exception as e:\n",
    "        print(e)\n",
    "\n",
    "fig.subplots_adjust(wspace=0.02, left = 0.02, right=0.98,bottom=0.02, top=0.97)\n",
    "print(minimal_time, maximal_time)\n",
    "plt.show()"
   ]
  },
  {
   "cell_type": "code",
   "execution_count": 13,
   "metadata": {},
   "outputs": [],
   "source": [
    "def waterfall(signal, sample_rate=None, bins = 4096 ):\n",
    "    waterfall = recviewer.waterfallize(signal, bins)\n",
    "    waterfall[np.isneginf(waterfall)] = np.nan\n",
    "    #wmin, wmax = np.nanmin(waterfall), np.nanmax(waterfall)\n",
    "    return waterfall\n",
    "slope = {}"
   ]
  },
  {
   "cell_type": "markdown",
   "metadata": {},
   "source": [
    "** Next block is optional"
   ]
  },
  {
   "cell_type": "code",
   "execution_count": 14,
   "metadata": {},
   "outputs": [
    {
     "data": {
      "text/plain": [
       "\"\\nslope={\\n    'SVAKOV-R12':{\\n        'offset': 2.3,    # [s]\\n        'slope': 210   # [Hz/s]\\n    },\\n    'HFN-R1':{\\n        'offset': 1.2,    # [s]\\n        'slope': 290   # [Hz/s]\\n    }\\n}\""
      ]
     },
     "execution_count": 14,
     "metadata": {},
     "output_type": "execute_result"
    }
   ],
   "source": [
    "'''\n",
    "slope={\n",
    "    'SVAKOV-R12':{\n",
    "        'offset': 2.3,    # [s]\n",
    "        'slope': 210   # [Hz/s]\n",
    "    },\n",
    "    'HFN-R1':{\n",
    "        'offset': 1.2,    # [s]\n",
    "        'slope': 290   # [Hz/s]\n",
    "    }\n",
    "}'''"
   ]
  },
  {
   "cell_type": "code",
   "execution_count": 15,
   "metadata": {},
   "outputs": [],
   "source": [
    "def estimate_dopplers(trajectory, timesteps, f0, trans_station, rec_station):\n",
    "    '''\n",
    "        Returns array of dopplers for given transmitter to receiver position and defined frequency and known trajectory.\n",
    "    '''\n",
    "    rec_to_met = np.empty([trajectory.shape[0], 1])\n",
    "    trans_to_met = np.empty([trajectory.shape[0], 1])\n",
    "    doppler = np.empty([trajectory.shape[0], 2])\n",
    "    \n",
    "    previous_rec_to_met = np.linalg.norm(rec_station - trajectory[0])\n",
    "    previous_trans_to_met = np.linalg.norm(trans_station - trajectory[0])\n",
    "    \n",
    "    t = timesteps[1] - timesteps[0]\n",
    "    \n",
    "    for i in range(trajectory.shape[0]):\n",
    "        rec_to_met[i] = np.linalg.norm(rec_station - trajectory[i])\n",
    "        trans_to_met[i] = np.linalg.norm(trans_station - trajectory[i])\n",
    "    \n",
    "        met_trans_speed = previous_trans_to_met - trans_to_met[i]\n",
    "        previous_trans_to_met = trans_to_met[i]\n",
    "        speed = met_trans_speed/t    \n",
    "        f1 = ((c + speed)/c * f0)\n",
    "                \n",
    "        met_rec_speed = previous_rec_to_met - rec_to_met[i]    ## calculate bistatic velocity from known position\n",
    "        previous_rec_to_met = rec_to_met[i]\n",
    "        speed = met_rec_speed/t\n",
    "        f2 = (c/(c - speed) * f1)\n",
    "        doppler[i] = np.array([timesteps[i], f2-f0])\n",
    "    return doppler\n"
   ]
  },
  {
   "cell_type": "code",
   "execution_count": 16,
   "metadata": {},
   "outputs": [],
   "source": [
    "def estimate_dopplers2(trajectory, timesteps, f0, trans_station, rec_station):\n",
    "    # alternative algorithm\n",
    "    '''\n",
    "        Returns array of dopplers for given transmitter to receiver position and defined frequency and known trajectory.\n",
    "    '''\n",
    "   \n",
    "    doppler = np.empty([trajectory.shape[0], 2])\n",
    "    t = timesteps[1] - timesteps[0]\n",
    "    \n",
    "    for i in range(trajectory.shape[0]):\n",
    "        try: \n",
    "            # angle transmitter - meteor - reciever\n",
    "            ba = trans_station-trajectory[i]\n",
    "            bc = rec_station-trajectory[i]\n",
    "            TMR = np.arccos(np.dot(ba, bc) / (np.linalg.norm(ba) * np.linalg.norm(bc)))\n",
    "\n",
    "            # angle trajectory - meteor - reciever\n",
    "            ba = trajectory[i+1]-trajectory[i]\n",
    "            bc = rec_station-trajectory[i]\n",
    "            VMR = np.arccos(np.dot(ba, bc) / (np.linalg.norm(ba) * np.linalg.norm(bc)))\n",
    "            # angle trajectory - meteor - axis (of angle transmitter-meter-reciever)\n",
    "            VMA = VMR-TMR/2\n",
    "            #print(np.degrees(VMA))\n",
    "\n",
    "            # radial speed of meteor to axis of TMR angle (Transmitter - meteor - reciever)\n",
    "            radial_speed = np.cos(VMA)*(np.linalg.norm(trajectory[i]-trajectory[i+1])/t)\n",
    "            doppler_offset = (radial_speed/c)*f0\n",
    "            \n",
    "        except Exception as e:\n",
    "            #print(e)\n",
    "            pass\n",
    "        \n",
    "        doppler[i] = np.array([timesteps[i], doppler_offset])\n",
    "    return doppler"
   ]
  },
  {
   "cell_type": "code",
   "execution_count": 18,
   "metadata": {},
   "outputs": [
    {
     "name": "stdout",
     "output_type": "stream",
     "text": [
      "[ -55348.98914171 -253169.38847937   13468.96909561]\n",
      "generation of points DONE\n",
      "{}\n",
      "0 SVAKOV-R12\n",
      "plot A\n",
      "[-0.00686979+0.02780188j  0.00281179+0.03702057j -0.00505197+0.02194739j\n",
      " ...,  0.01564264-0.02039099j  0.00883651-0.0138762j\n",
      " -0.01110399-0.02474642j]\n",
      "1 HFN-R1\n",
      "plot A\n",
      "[ 0.00054264+0.05730415j -0.00820911+0.04518819j  0.01501334+0.02793241j\n",
      " ...,  0.01493442-0.0279758j   0.01917637-0.0486492j\n",
      "  0.00352788-0.07334042j]\n",
      "2 DDMTREBIC-R3\n",
      "plot A\n",
      "[-0.10944737+0.02995253j -0.00981677+0.05425978j -0.01823449+0.03158558j\n",
      " ..., -0.02841616+0.05772937j  0.00884521+0.06333805j\n",
      "  0.02232921+0.12518395j]\n"
     ]
    }
   ],
   "source": [
    "##### %matplotlib inline \n",
    "#%matplotlib notebook\n",
    "%matplotlib tk\n",
    "#from matplotlib import interactive\n",
    "#interactive(False)\n",
    "\n",
    "\n",
    "count = len(selected)\n",
    "fig, axis = plt.subplots(1, count, sharex=True, sharey=True, figsize=(20, 10))\n",
    "\n",
    "meteor_dopplers = [1,2]\n",
    "met_points = np.empty([timesteps.size, 3])\n",
    "#met_velocity = [45500]\n",
    "#model_offset = -8.25\n",
    "\n",
    "for meteor in range(len(met_start_altitude)):\n",
    "    # get meteor vector from start and stop point\n",
    "    met_start_point = np.array(geoC.GeographicToGeocentric(met_start_lat[meteor], met_start_lon[meteor], met_start_altitude[meteor]))\n",
    "    met_stop_point = np.array(geoC.GeographicToGeocentric(met_stop_lat[meteor], met_stop_lon[meteor], met_stop_altitude[meteor]))\n",
    "    met_vect = met_stop_point - met_start_point\n",
    "    print(met_vect)\n",
    "    \n",
    "    for i in range(timesteps.size):  # generate points on artifitial meteor trajectory (discretize in space)\n",
    "        met_points[i] =  met_start_point + (met_vect/np.linalg.norm(met_vect) * (timesteps[i] * met_velocity[meteor]))\n",
    "    print(\"generation of points DONE\")\n",
    "\n",
    "    print(time_offset)\n",
    "    fig.suptitle(\"Multibolid %s (%s), velocity: %s\" %(datetime.datetime.utcfromtimestamp(minimal_time).date(), multibolid_id, met_velocity))\n",
    "    fig.subplots_adjust(hspace=0)\n",
    "    plt.set_cmap('hot')\n",
    "    for i, ax in enumerate(axis):\n",
    "        bolid = bolids.result[selected[i]]\n",
    "        print(selected[i], bolid['namesimple'])\n",
    "        \n",
    "        hdu = fits.open(bolid['url_file_raw'])[0]\n",
    "        flat_data = np.ravel(hdu.data)\n",
    "        raw = flat_data[0::2] + 1j * flat_data[1::2]  # Bolidozor signal\n",
    "\n",
    "        T_offset = datetime.timedelta(seconds = 10*time_offset.get(selected[i], 0))\n",
    "        #print(i, selected[i], bolid['time_calib']['cor_file_beg'], bolid['time_calib']['cor_file_beg']+T_offset, T_offset)\n",
    "        d1 = bolid['time_calib']['cor_file_beg']+T_offset\n",
    "        fds1 = dates.date2num(d1) # converted\n",
    "        d2 = d1 + datetime.timedelta(seconds=hdu.header['NAXIS2']/96000)\n",
    "        fds2 = dates.date2num(d2)\n",
    "        raw_timestep = np.arange(d1.timestamp(), d2.timestamp(), 1/96000)\n",
    "        #print(fds1, fds2, fds2-fds1)\n",
    "        \n",
    "\n",
    "        ## optical doppler\n",
    "        #for station in stations:\n",
    "        rec_station_point = np.array(geoC.GeographicToGeocentric(stations[bolid['namesimple']]['latitude'], \n",
    "                                                                 stations[bolid['namesimple']]['longitude'], stations[bolid['namesimple']]['elevation']))\n",
    "        \n",
    "        #doppler_t(met_points, timesteps, f0, trans_station_point, rec_station_point)\n",
    "        doppler = estimate_dopplers(met_points, timesteps, f0, trans_station_point, rec_station_point)\n",
    "        dopp_time = np.vectorize(lambda x: dates.date2num(d1+datetime.timedelta(seconds=(x)+model_offset)))\n",
    "        dopp_freq = np.vectorize(lambda x: ((x)+26500.0))\n",
    "        ax.plot(dopp_freq(doppler[1:,1]), dopp_time(doppler[1:,0]), 'black')\n",
    "        \n",
    "        print(\"plot A\")\n",
    "        doppler = estimate_dopplers2(met_points, timesteps, f0, trans_station_point, rec_station_point)\n",
    "        dopp_time = np.vectorize(lambda x: dates.date2num(d1+datetime.timedelta(seconds=(x)+model_offset)))\n",
    "        dopp_freq = np.vectorize(lambda x: ((x)+26500.0))\n",
    "        #ax.plot(dopp_freq(doppler[1:,1]), dopp_time(doppler[1:,0]), 'b-')\n",
    "        ax.plot(doppler[1:,1]+26500.0, dopp_time(doppler[1:,0]), 'b-')\n",
    "        \n",
    "        # Bolidozor\n",
    "        print(raw)\n",
    "        arr = waterfall(raw, None, bins = 4096*1)\n",
    "        ax.imshow(arr,  interpolation='none', aspect='auto',  extent=[-48000, 48000, fds2, fds1])\n",
    "        ax.grid(True)\n",
    "\n",
    "        ax.set_xlim(13000*2,13500*2)\n",
    "        ax.yaxis_date()\n",
    "        date_format = md.DateFormatter('%H:%M:%S')\n",
    "        ax.yaxis.set_major_formatter(date_format)\n",
    "        fig.autofmt_xdate()\n",
    "        ax.set_ylim( datetime.datetime.utcfromtimestamp(minimal_time), datetime.datetime.utcfromtimestamp(maximal_time))\n",
    "\n",
    "        ax.set_title(bolid['namesimple'])\n",
    "\n",
    "    fig.subplots_adjust(wspace=0.04, left = 0.03, right=0.98, bottom=0.03, top=0.93)\n",
    "    plt.savefig('output.png', dpi=300)\n",
    "    \n",
    "    plt.show()\n"
   ]
  },
  {
   "cell_type": "code",
   "execution_count": null,
   "metadata": {},
   "outputs": [],
   "source": []
  },
  {
   "cell_type": "code",
   "execution_count": 321,
   "metadata": {},
   "outputs": [
    {
     "name": "stdout",
     "output_type": "stream",
     "text": [
      "1766399\n",
      "1766400\n",
      "1919\n",
      "1919\n",
      "[-4059.93979034   348.27432687   117.28463909 ...,    55.57884789\n",
      "   117.28463909   348.27432687]\n",
      "[-0.00820911+0.04518819j -0.01038158-0.00101364j  0.00280571+0.02160752j\n",
      " ...,  0.01176667+0.05005062j -0.07002056-0.00202274j\n",
      " -0.00977242+0.05080105j] 1767\n",
      "[]\n"
     ]
    }
   ],
   "source": [
    "def correlate(raw, raw_steps, sim, sim_steps):\n",
    "    print(len(raw))\n",
    "    print(len(raw_steps))\n",
    "    print(len(sim))\n",
    "    print(len(sim_steps))\n",
    "    raw_steps = raw_steps[:-1]\n",
    "    \n",
    "    model = np.fft.ifft(doppler[1:,1]).real\n",
    "    raws = raw[1::1000]\n",
    "    \n",
    "    print(model)\n",
    "    print(raws, len(raws))\n",
    "    arr = waterfall(model, None, bins = 4096/2)\n",
    "    print(arr)\n",
    "    plt.imshow(arr,  interpolation='none', aspect='auto',  extent=[-100, 100, -100, 100])\n",
    "    plt.show()\n",
    "    \n",
    "\n",
    "    \n",
    "    \n",
    "'''\n",
    "\n",
    ">>> from scipy import signal\n",
    ">>> sig = np.repeat([0., 1., 1., 0., 1., 0., 0., 1.], 128)\n",
    ">>> sig_noise = sig + np.random.randn(len(sig))\n",
    ">>> corr = signal.correlate(sig_noise, np.ones(128), mode='same') / 128\n",
    ">>>\n",
    ">>> import matplotlib.pyplot as plt\n",
    ">>> clock = np.arange(64, len(sig), 128)\n",
    ">>> fig, (ax_orig, ax_noise, ax_corr) = plt.subplots(3, 1, sharex=True)\n",
    ">>> ax_orig.plot(sig)\n",
    ">>> ax_orig.plot(clock, sig[clock], 'ro')\n",
    ">>> ax_orig.set_title('Original signal')\n",
    ">>> ax_noise.plot(sig_noise)\n",
    ">>> ax_noise.set_title('Signal with noise')\n",
    ">>> ax_corr.plot(corr)\n",
    ">>> ax_corr.plot(clock, corr[clock], 'ro')\n",
    ">>> ax_corr.axhline(0.5, ls=':')\n",
    ">>> ax_corr.set_title('Cross-correlated with rectangular pulse')\n",
    ">>> ax_orig.margins(0, 0.1)\n",
    ">>> fig.tight_layout()\n",
    ">>> fig.show()\n",
    "\n",
    "'''\n",
    "    \n",
    "correlate(raw, raw_timestep, doppler[1:,1]+26500.0, dopp_time(doppler[1:,0]))"
   ]
  },
  {
   "cell_type": "code",
   "execution_count": 258,
   "metadata": {
    "scrolled": true
   },
   "outputs": [
    {
     "name": "stdout",
     "output_type": "stream",
     "text": [
      "multibolid_2017388_2017-11-11.ipynb\n"
     ]
    }
   ],
   "source": [
    "export = 'multibolid_%s_%s.ipynb' %(multibolid_id, datetime.datetime.utcfromtimestamp(minimal_time).date())\n",
    "print(export)\n",
    "#%notebook $export"
   ]
  },
  {
   "cell_type": "markdown",
   "metadata": {},
   "source": [
    "# Tweet\n",
    "Tato část odešle multibolid porovnání na twitter účet bolidozoru. https://twitter.com/bolidozor\n",
    "\n",
    "V počítači je potřeba mít vytvořený konfigurační soubor s kódy pro přihlášení. Takový soubor musí vypadat takto\n",
    "\n",
    "```\n",
    "[twitter]\n",
    "CONSUMER_KEY = consumer_key\n",
    "CONSUMER_SECRET = consumer_secret\n",
    "ACCESS_TOKEN_KEY = access_token_key\n",
    "ACCESS_TOKEN_SECRET = access_token_secret\n",
    "```\n",
    "\n",
    "Pokud při uploadování se nenahraje obrázek kvůli TimeOutu, zkuste zmenšit DPI grafu."
   ]
  },
  {
   "cell_type": "code",
   "execution_count": 142,
   "metadata": {},
   "outputs": [
    {
     "ename": "ImportError",
     "evalue": "No module named 'TwitterAPI'",
     "output_type": "error",
     "traceback": [
      "\u001b[0;31m---------------------------------------------------------------------------\u001b[0m",
      "\u001b[0;31mImportError\u001b[0m                               Traceback (most recent call last)",
      "\u001b[0;32m<ipython-input-142-524ffc041891>\u001b[0m in \u001b[0;36m<module>\u001b[0;34m()\u001b[0m\n\u001b[0;32m----> 1\u001b[0;31m \u001b[0;32mfrom\u001b[0m \u001b[0mTwitterAPI\u001b[0m \u001b[0;32mimport\u001b[0m \u001b[0mTwitterAPI\u001b[0m\u001b[0;34m\u001b[0m\u001b[0m\n\u001b[0m\u001b[1;32m      2\u001b[0m \u001b[0;32mimport\u001b[0m \u001b[0mbase64\u001b[0m\u001b[0;34m\u001b[0m\u001b[0m\n\u001b[1;32m      3\u001b[0m \u001b[0;32mimport\u001b[0m \u001b[0mconfigparser\u001b[0m\u001b[0;34m\u001b[0m\u001b[0m\n\u001b[1;32m      4\u001b[0m \u001b[0;32mimport\u001b[0m \u001b[0mtime\u001b[0m\u001b[0;34m\u001b[0m\u001b[0m\n\u001b[1;32m      5\u001b[0m \u001b[0;34m\u001b[0m\u001b[0m\n",
      "\u001b[0;31mImportError\u001b[0m: No module named 'TwitterAPI'"
     ]
    }
   ],
   "source": [
    "from TwitterAPI import TwitterAPI\n",
    "import base64\n",
    "import configparser\n",
    "import time\n",
    "\n",
    "parser = configparser.ConfigParser()\n",
    "parser.read('/home/roman/bolidozor_access.ini')\n",
    "CONSUMER_KEY = parser['twitter']['CONSUMER_KEY']\n",
    "CONSUMER_SECRET = parser['twitter']['CONSUMER_SECRET']\n",
    "ACCESS_TOKEN_KEY = parser['twitter']['ACCESS_TOKEN_KEY']\n",
    "ACCESS_TOKEN_SECRET =parser['twitter']['ACCESS_TOKEN_SECRET']\n",
    "\n",
    "file = open('output.png', 'rb')\n",
    "data = base64.b64encode(file.read())\n",
    "\n",
    "api = TwitterAPI(CONSUMER_KEY, CONSUMER_SECRET, ACCESS_TOKEN_KEY, ACCESS_TOKEN_SECRET, auth_type='oAuth1')\n",
    "media = api.request('media/upload', None, {'media_data':data})\n",
    "print(media.status_code, media.text)\n",
    "m_id = json.loads(media.text)['media_id']\n",
    "print(m_id)\n",
    "\n",
    "time.sleep(1)\n",
    "status_text='''\n",
    "Multibolid-event on %s (id:%s)\n",
    "More details at http://rtbolidozor.astro.cz/multibolid/event/%s/\n",
    "This tweet was uploaded from Multibolid-analyser\n",
    "''' %(datetime.datetime.utcfromtimestamp(minimal_time).date(), multibolid_id, multibolid_id)\n",
    "\n",
    "r = api.request('statuses/update', {'status':status_text, 'media_ids':m_id})\n",
    "print(status_text)\n",
    "print(r.status_code, r.text)\n"
   ]
  },
  {
   "cell_type": "code",
   "execution_count": null,
   "metadata": {},
   "outputs": [],
   "source": []
  },
  {
   "cell_type": "markdown",
   "metadata": {},
   "source": [
    "# Extract head-echo\n"
   ]
  },
  {
   "cell_type": "code",
   "execution_count": null,
   "metadata": {
    "scrolled": false
   },
   "outputs": [],
   "source": [
    "def smooth(y, box_pts):\n",
    "    box = np.ones(box_pts)/box_pts\n",
    "    y_smooth = np.convolve(y, box, mode='full')\n",
    "    return y_smooth\n",
    "\n",
    "\n",
    "%matplotlib inline \n",
    "#%matplotlib notebook\n",
    "print('len', len(selected))\n",
    "\n",
    "#print(time_offset)\n",
    "#fig.suptitle(\"Multibolid %s (%s)\" %(datetime.datetime.utcfromtimestamp(minimal_time).date(), multibolid_id))\n",
    "#fig.subplots_adjust(hspace=0)\n",
    "#plt.set_cmap('hot')\n",
    "\n",
    "'''\n",
    "head_lines = {\n",
    "    #0:[(4,13350),(25,13250)]\n",
    "    0:[[2,27],[13350,13250]],\n",
    "    3:[[0,16],[13335,13250]],\n",
    "    4:[[4,24],[13360,13250]],\n",
    "    6:[[41,73],[13450,13250]]\n",
    "}\n",
    "'''\n",
    "\n",
    "f = open(\"meteor_%s_%s_raw.obs\"%(multibolid_id, datetime.datetime.utcfromtimestamp(minimal_time).date()), 'w')\n",
    "f.write('#F %s\\n' %datetime.datetime.utcfromtimestamp(minimal_time).date())\n",
    "for i, meteor in enumerate(selected):\n",
    "    f.write('\\n')\n",
    "    %matplotlib inline\n",
    "    bolid = bolids.result[meteor]\n",
    "    print(i, meteor, bolid['url_file_raw'])\n",
    "    \n",
    "    hdu = fits.open(bolid['url_file_raw'])[0]\n",
    "    flat_data = np.ravel(hdu.data)\n",
    "    \n",
    "    bins = 4096*2\n",
    "    arr = waterfall(flat_data[0::2] + 1j * flat_data[1::2], None, bins = bins*2)[:,bins:]\n",
    "    min_crop = 4500\n",
    "    max_crop = 3600\n",
    "    file_length = samp2time(hdu.header['NAXIS2'])    \n",
    "    step_time = file_length/(arr.shape[0])\n",
    "        \n",
    "    step_freq = 24000/bins\n",
    "    min_freq = min_crop*step_freq\n",
    "    max_freq = 24000 - max_crop*step_freq\n",
    "\n",
    "    selection = arr[:,+min_crop:-max_crop]\n",
    "    \n",
    "    plt.imshow(selection, aspect='auto', extent=[min_freq, max_freq,\n",
    "                                                 bolid['time_calib']['cor_file_end'].timestamp(),\n",
    "                                                 bolid['time_calib']['cor_file_beg'].timestamp()])\n",
    "\n",
    "    plt.show()\n",
    "    \n",
    "    peak = np.empty([0,2])\n",
    "    for i, row in enumerate(selection):\n",
    "        max_i = np.argmax(row)\n",
    "        max_v = row[max_i]\n",
    "        peak = np.concatenate((peak, [[bolid['time_calib']['cor_file_beg'].timestamp()+i*step_time, -13250+(min_crop+max_i)*step_freq]]))\n",
    "        f.write(\"%i\\t%f\\t%f\\n\" %(meteor,\n",
    "                                 #bolid['time_calib']['cor_file_beg']+datetime.timedelta(seconds=i*step_time),\n",
    "                                 bolid['time_calib']['cor_file_beg'].timestamp()+i*step_time,\n",
    "                                 -13250+(min_crop+max_i)*step_freq\n",
    "                                )\n",
    "                )\n",
    "        #plt.plot(row)\n",
    "        #plt.show()\n",
    "        #plt.plot(row)\n",
    "    #plt.show()\n",
    "    \n",
    "    #plt.plot(peak[:,0], peak[:,1])\n",
    "    plt.plot(peak[:,0],peak[:,1], 'x')\n",
    "    \n",
    "    '''  Tato část slouží k hledani bodu headecha podle primek 'head_lines'\n",
    "    head = np.empty([0,2])\n",
    "    if meteor in head_lines:\n",
    "        plt.plot(head_lines[meteor][0],head_lines[meteor][1])\n",
    "        vector = (1, (head_lines[meteor][1][1]-head_lines[meteor][1][0])/(head_lines[meteor][0][1]-head_lines[meteor][0][0]))\n",
    "        print(vector)\n",
    "        for p in peak:\n",
    "            if head_lines[meteor][0][0] <= p[0] <= head_lines[meteor][0][1]:\n",
    "                #print(p)\n",
    "                pos = (p[0]+1)*vector[0]\n",
    "                d = (head_lines[meteor][1][0]+(pos+1)*vector[1]) - p[1]\n",
    "                #print(pos, d, p[1])\n",
    "                if abs(d) < 50:\n",
    "                    head = np.concatenate((head, [[p[0], p[1]]]))\n",
    "                \n",
    "                #d = np.linalg.norm(np.cross(head_lines[meteor][0][1]-head_lines[meteor][0][0], head_lines[meteor][1][1]-head_lines[meteor][1][0]))/np.linalg.norm(p[1])\n",
    "                #print(d)\n",
    "        plt.plot(head[:,1], '*')\n",
    "    '''\n",
    "        \n",
    "    plt.show()\n",
    "    #print(peak)\n",
    "f.close()"
   ]
  },
  {
   "cell_type": "markdown",
   "metadata": {
    "collapsed": true
   },
   "source": [
    "# Výběr head-echa\n",
    "\n",
    "Nyní je potřeba otevřít soubor ```meteor_[id]_[date]_raw.obs``` a v něm odstanit (nebo zakomentovat '#') řádky, které neodpovídají head-echu. Následně je potřeba soubor uložit s názvem ```meteor_[id]_[date]_clean.obs```. Následující buňka vykreslí vybraná data."
   ]
  },
  {
   "cell_type": "code",
   "execution_count": null,
   "metadata": {},
   "outputs": [],
   "source": [
    "%matplotlib inline\n",
    "#%matplotlib interactive\n",
    "#import matplotlib.pyplot as plt\n",
    "\n",
    "plt.rcParams['figure.figsize'] = (20,10)\n",
    "try:\n",
    "    f = open(\"meteor_%s_%s_clean.obs\"%(multibolid_id, datetime.datetime.utcfromtimestamp(minimal_time).date()), 'r')\n",
    "except Exception as e:\n",
    "    print(e)\n",
    "    f = open(\"meteor_%s_%s_raw.obs\"%(multibolid_id, datetime.datetime.utcfromtimestamp(minimal_time).date()), 'r')\n",
    "\n",
    "met_p = {}\n",
    "for line in f.readlines():\n",
    "    if ('#' not in line) and ('\\t' in line):\n",
    "        split = line.split('\\t')\n",
    "        if not split[0] in met_p: met_p[split[0]]={'time':[], 'value':[]}\n",
    "        met_p[split[0]]['time'].append(float(split[1]))\n",
    "        met_p[split[0]]['value'].append(float(split[2]))\n",
    "#print(met_p)\n",
    "\n",
    "for station in met_p:\n",
    "    print(station)\n",
    "    #print(station, met_p[station])\n",
    "    plt.plot(met_p[station]['time'],met_p[station]['value'], 'o-')\n",
    "plt.show()"
   ]
  },
  {
   "cell_type": "code",
   "execution_count": null,
   "metadata": {},
   "outputs": [],
   "source": []
  },
  {
   "cell_type": "code",
   "execution_count": null,
   "metadata": {},
   "outputs": [],
   "source": [
    "def init():\n",
    "    from MLABvo.Bolidozor import Bolidozor\n",
    "    #from MLABvo.Bolidozor import BolidozorTools\n",
    "    import json\n",
    "    import datetime\n",
    "    import numpy as np\n",
    "    import scipy.signal\n",
    "    from astropy.io import fits\n",
    "    import matplotlib.pyplot as plt\n",
    "    import matplotlib.dates as md\n",
    "    from matplotlib import dates\n",
    "    import mpltools\n",
    "    import sys\n",
    "    sys.path.append(\"..\") \n",
    "    import recviewer\n",
    "    import dateutil.parser\n",
    "\n",
    "    %matplotlib inline "
   ]
  },
  {
   "cell_type": "code",
   "execution_count": null,
   "metadata": {},
   "outputs": [],
   "source": [
    "init()"
   ]
  },
  {
   "cell_type": "code",
   "execution_count": null,
   "metadata": {},
   "outputs": [],
   "source": []
  }
 ],
 "metadata": {
  "kernelspec": {
   "display_name": "Python 3",
   "language": "python",
   "name": "python3"
  },
  "language_info": {
   "codemirror_mode": {
    "name": "ipython",
    "version": 3
   },
   "file_extension": ".py",
   "mimetype": "text/x-python",
   "name": "python",
   "nbconvert_exporter": "python",
   "pygments_lexer": "ipython3",
   "version": "3.5.2"
  }
 },
 "nbformat": 4,
 "nbformat_minor": 2
}
